{
 "cells": [
  {
   "cell_type": "code",
   "execution_count": 10,
   "metadata": {},
   "outputs": [],
   "source": [
    "from imitation.data import rollout\n",
    "from imitation.data.wrappers import RolloutInfoWrapper\n",
    "from stable_baselines3.common.vec_env import DummyVecEnv\n",
    "import numpy as np\n",
    "from Wordle import WordleEnv\n",
    "from stable_baselines3.common import monitor\n",
    "\n",
    "# Create a vectorized environment for training with `imitation`\n",
    "\n",
    "env = monitor.Monitor(WordleEnv())\n",
    "venv = DummyVecEnv([lambda: RolloutInfoWrapper(env)])  # Wrap a single environment -- only useful for simple testing like this\n",
    "venv.render_mode=\"human\""
   ]
  },
  {
   "cell_type": "code",
   "execution_count": 23,
   "metadata": {},
   "outputs": [],
   "source": [
    "from stable_baselines3.common.evaluation import evaluate_policy\n",
    "\n",
    "rng = np.random.default_rng()\n",
    "rollouts = np.load('data/trajectories_all.npy', allow_pickle=True)\n",
    "transitions = rollout.flatten_trajectories_with_rew(rollouts)"
   ]
  },
  {
   "cell_type": "code",
   "execution_count": 54,
   "metadata": {},
   "outputs": [
    {
     "name": "stdout",
     "output_type": "stream",
     "text": [
      "Reward before training: -8.121\n"
     ]
    }
   ],
   "source": [
    "from imitation.algorithms import bc\n",
    "\n",
    "bc_trainer = bc.BC(\n",
    "    observation_space=env.observation_space,\n",
    "    action_space=env.action_space,\n",
    "    demonstrations=transitions,\n",
    "    rng=rng,\n",
    ")\n",
    "reward_before_training, _ = evaluate_policy(bc_trainer.policy, venv, 1000, return_episode_rewards=True)\n",
    "print(f\"Reward before training: {np.mean(reward_before_training)}\")"
   ]
  },
  {
   "cell_type": "code",
   "execution_count": 13,
   "metadata": {},
   "outputs": [
    {
     "name": "stderr",
     "output_type": "stream",
     "text": [
      "0batch [00:00, ?batch/s]"
     ]
    },
    {
     "name": "stdout",
     "output_type": "stream",
     "text": [
      "--------------------------------\n",
      "| batch_size        | 32       |\n",
      "| bc/               |          |\n",
      "|    batch          | 0        |\n",
      "|    ent_loss       | -0.00947 |\n",
      "|    entropy        | 9.47     |\n",
      "|    epoch          | 0        |\n",
      "|    l2_loss        | 0        |\n",
      "|    l2_norm        | 129      |\n",
      "|    loss           | 9.46     |\n",
      "|    neglogp        | 9.47     |\n",
      "|    prob_true_act  | 7.71e-05 |\n",
      "|    samples_so_far | 32       |\n",
      "--------------------------------\n"
     ]
    },
    {
     "name": "stderr",
     "output_type": "stream",
     "text": [
      "496batch [00:07, 61.37batch/s]"
     ]
    },
    {
     "name": "stdout",
     "output_type": "stream",
     "text": [
      "--------------------------------\n",
      "| batch_size        | 32       |\n",
      "| bc/               |          |\n",
      "|    batch          | 500      |\n",
      "|    ent_loss       | -0.00573 |\n",
      "|    entropy        | 5.73     |\n",
      "|    epoch          | 2        |\n",
      "|    l2_loss        | 0        |\n",
      "|    l2_norm        | 8.9e+03  |\n",
      "|    loss           | 4.76     |\n",
      "|    neglogp        | 4.77     |\n",
      "|    prob_true_act  | 0.173    |\n",
      "|    samples_so_far | 16032    |\n",
      "--------------------------------\n"
     ]
    },
    {
     "name": "stderr",
     "output_type": "stream",
     "text": [
      "1000batch [00:16, 56.83batch/s]"
     ]
    },
    {
     "name": "stdout",
     "output_type": "stream",
     "text": [
      "--------------------------------\n",
      "| batch_size        | 32       |\n",
      "| bc/               |          |\n",
      "|    batch          | 1000     |\n",
      "|    ent_loss       | -0.00432 |\n",
      "|    entropy        | 4.32     |\n",
      "|    epoch          | 4        |\n",
      "|    l2_loss        | 0        |\n",
      "|    l2_norm        | 1.32e+04 |\n",
      "|    loss           | 3.74     |\n",
      "|    neglogp        | 3.75     |\n",
      "|    prob_true_act  | 0.299    |\n",
      "|    samples_so_far | 32032    |\n",
      "--------------------------------\n"
     ]
    },
    {
     "name": "stderr",
     "output_type": "stream",
     "text": [
      "1499batch [00:25, 53.11batch/s]"
     ]
    },
    {
     "name": "stdout",
     "output_type": "stream",
     "text": [
      "--------------------------------\n",
      "| batch_size        | 32       |\n",
      "| bc/               |          |\n",
      "|    batch          | 1500     |\n",
      "|    ent_loss       | -0.00578 |\n",
      "|    entropy        | 5.78     |\n",
      "|    epoch          | 6        |\n",
      "|    l2_loss        | 0        |\n",
      "|    l2_norm        | 1.64e+04 |\n",
      "|    loss           | 5.18     |\n",
      "|    neglogp        | 5.18     |\n",
      "|    prob_true_act  | 0.177    |\n",
      "|    samples_so_far | 48032    |\n",
      "--------------------------------\n"
     ]
    },
    {
     "name": "stderr",
     "output_type": "stream",
     "text": [
      "1997batch [00:34, 52.25batch/s]"
     ]
    },
    {
     "name": "stdout",
     "output_type": "stream",
     "text": [
      "--------------------------------\n",
      "| batch_size        | 32       |\n",
      "| bc/               |          |\n",
      "|    batch          | 2000     |\n",
      "|    ent_loss       | -0.00414 |\n",
      "|    entropy        | 4.14     |\n",
      "|    epoch          | 8        |\n",
      "|    l2_loss        | 0        |\n",
      "|    l2_norm        | 1.96e+04 |\n",
      "|    loss           | 3.48     |\n",
      "|    neglogp        | 3.48     |\n",
      "|    prob_true_act  | 0.405    |\n",
      "|    samples_so_far | 64032    |\n",
      "--------------------------------\n"
     ]
    },
    {
     "name": "stderr",
     "output_type": "stream",
     "text": [
      "2460batch [00:41, 58.57batch/s]\n"
     ]
    }
   ],
   "source": [
    "bc_trainer.train(n_epochs=10)"
   ]
  },
  {
   "cell_type": "code",
   "execution_count": 55,
   "metadata": {},
   "outputs": [
    {
     "name": "stdout",
     "output_type": "stream",
     "text": [
      "Reward after training: -8.19\n"
     ]
    }
   ],
   "source": [
    "reward_after_training, _ = evaluate_policy(bc_trainer.policy, venv, 1000, return_episode_rewards=True)\n",
    "print(f\"Reward after training: {np.mean(reward_after_training)}\")"
   ]
  }
 ],
 "metadata": {
  "kernelspec": {
   "display_name": "Python 3",
   "language": "python",
   "name": "python3"
  },
  "language_info": {
   "codemirror_mode": {
    "name": "ipython",
    "version": 3
   },
   "file_extension": ".py",
   "mimetype": "text/x-python",
   "name": "python",
   "nbconvert_exporter": "python",
   "pygments_lexer": "ipython3",
   "version": "3.11.9"
  }
 },
 "nbformat": 4,
 "nbformat_minor": 2
}
