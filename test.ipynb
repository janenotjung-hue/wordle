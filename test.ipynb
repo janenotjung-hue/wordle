{
 "cells": [
  {
   "cell_type": "code",
   "execution_count": 52,
   "metadata": {},
   "outputs": [
    {
     "name": "stdout",
     "output_type": "stream",
     "text": [
      "The autoreload extension is already loaded. To reload it, use:\n",
      "  %reload_ext autoreload\n"
     ]
    }
   ],
   "source": [
    "%load_ext autoreload"
   ]
  },
  {
   "cell_type": "code",
   "execution_count": 44,
   "metadata": {},
   "outputs": [],
   "source": [
    "\n",
    "%reload_ext autoreload\n",
    "from imitation.data import rollout\n",
    "from imitation.data.wrappers import RolloutInfoWrapper\n",
    "from stable_baselines3.common.vec_env import DummyVecEnv\n",
    "import numpy as np\n",
    "from Wordle import WordleEnv\n",
    "from stable_baselines3.common import monitor\n",
    "\n",
    "# Create a vectorized environment for training with `imitation`\n",
    "\n",
    "env = monitor.Monitor(WordleEnv())\n",
    "venv = DummyVecEnv([lambda: RolloutInfoWrapper(env)])  # Wrap a single environment -- only useful for simple testing like this\n",
    "venv.render_mode=\"human\""
   ]
  },
  {
   "cell_type": "code",
   "execution_count": 45,
   "metadata": {},
   "outputs": [],
   "source": [
    "%reload_ext autoreload\n",
    "from stable_baselines3.common.evaluation import evaluate_policy\n",
    "\n",
    "rng = np.random.default_rng()\n",
    "rollouts = np.load('data/trajectories_all.npy', allow_pickle=True)\n",
    "transitions = rollout.flatten_trajectories_with_rew(rollouts)"
   ]
  },
  {
   "cell_type": "code",
   "execution_count": null,
   "metadata": {},
   "outputs": [],
   "source": [
    "from imitation.algorithms.bc import BC\n",
    "import torch\n",
    "%reload_ext autoreload\n",
    "bc_trainer = BC(\n",
    "    observation_space=env.observation_space,\n",
    "    action_space=env.action_space,\n",
    "    demonstrations=transitions,\n",
    "    rng=rng,\n",
    ")\n",
    "#torch.save(bc_trainer.policy.state_dict(), 'bc_before')\n",
    "#venv.reset()\n",
    "reward_before_training, _ = evaluate_policy(bc_trainer.policy, venv, n_eval_episodes=10, render=True, return_episode_rewards=True)\n",
    "print(f\"Reward after training: {(reward_before_training)}\")\n",
    "bc_trainer"
   ]
  },
  {
   "cell_type": "code",
   "execution_count": 57,
   "metadata": {},
   "outputs": [
    {
     "name": "stderr",
     "output_type": "stream",
     "text": [
      "0batch [00:00, ?batch/s]"
     ]
    },
    {
     "name": "stdout",
     "output_type": "stream",
     "text": [
      "--------------------------------\n",
      "| batch_size        | 32       |\n",
      "| bc/               |          |\n",
      "|    batch          | 0        |\n",
      "|    ent_loss       | -0.00947 |\n",
      "|    entropy        | 9.47     |\n",
      "|    epoch          | 0        |\n",
      "|    l2_loss        | 0        |\n",
      "|    l2_norm        | 129      |\n",
      "|    loss           | 9.46     |\n",
      "|    neglogp        | 9.47     |\n",
      "|    prob_true_act  | 7.71e-05 |\n",
      "|    samples_so_far | 32       |\n",
      "--------------------------------\n"
     ]
    },
    {
     "name": "stderr",
     "output_type": "stream",
     "text": [
      "246batch [00:05, 43.51batch/s]\n",
      "0batch [00:00, ?batch/s]"
     ]
    },
    {
     "name": "stdout",
     "output_type": "stream",
     "text": [
      "--------------------------------\n",
      "| batch_size        | 32       |\n",
      "| bc/               |          |\n",
      "|    batch          | 0        |\n",
      "|    ent_loss       | -0.00674 |\n",
      "|    entropy        | 6.74     |\n",
      "|    epoch          | 0        |\n",
      "|    l2_loss        | 0        |\n",
      "|    l2_norm        | 5.14e+03 |\n",
      "|    loss           | 5.69     |\n",
      "|    neglogp        | 5.69     |\n",
      "|    prob_true_act  | 0.124    |\n",
      "|    samples_so_far | 32       |\n",
      "--------------------------------\n"
     ]
    },
    {
     "name": "stderr",
     "output_type": "stream",
     "text": [
      "246batch [00:05, 46.87batch/s]\n",
      "0batch [00:00, ?batch/s]"
     ]
    },
    {
     "name": "stdout",
     "output_type": "stream",
     "text": [
      "--------------------------------\n",
      "| batch_size        | 32       |\n",
      "| bc/               |          |\n",
      "|    batch          | 0        |\n",
      "|    ent_loss       | -0.00581 |\n",
      "|    entropy        | 5.81     |\n",
      "|    epoch          | 0        |\n",
      "|    l2_loss        | 0        |\n",
      "|    l2_norm        | 8.74e+03 |\n",
      "|    loss           | 5.03     |\n",
      "|    neglogp        | 5.03     |\n",
      "|    prob_true_act  | 0.172    |\n",
      "|    samples_so_far | 32       |\n",
      "--------------------------------\n"
     ]
    },
    {
     "name": "stderr",
     "output_type": "stream",
     "text": [
      "246batch [00:05, 47.58batch/s]\n",
      "0batch [00:00, ?batch/s]"
     ]
    },
    {
     "name": "stdout",
     "output_type": "stream",
     "text": [
      "--------------------------------\n",
      "| batch_size        | 32       |\n",
      "| bc/               |          |\n",
      "|    batch          | 0        |\n",
      "|    ent_loss       | -0.00525 |\n",
      "|    entropy        | 5.25     |\n",
      "|    epoch          | 0        |\n",
      "|    l2_loss        | 0        |\n",
      "|    l2_norm        | 1.11e+04 |\n",
      "|    loss           | 4.52     |\n",
      "|    neglogp        | 4.52     |\n",
      "|    prob_true_act  | 0.259    |\n",
      "|    samples_so_far | 32       |\n",
      "--------------------------------\n"
     ]
    },
    {
     "name": "stderr",
     "output_type": "stream",
     "text": [
      "246batch [00:04, 54.32batch/s]\n",
      "0batch [00:00, ?batch/s]"
     ]
    },
    {
     "name": "stdout",
     "output_type": "stream",
     "text": [
      "--------------------------------\n",
      "| batch_size        | 32       |\n",
      "| bc/               |          |\n",
      "|    batch          | 0        |\n",
      "|    ent_loss       | -0.00444 |\n",
      "|    entropy        | 4.44     |\n",
      "|    epoch          | 0        |\n",
      "|    l2_loss        | 0        |\n",
      "|    l2_norm        | 1.29e+04 |\n",
      "|    loss           | 3.79     |\n",
      "|    neglogp        | 3.79     |\n",
      "|    prob_true_act  | 0.34     |\n",
      "|    samples_so_far | 32       |\n",
      "--------------------------------\n"
     ]
    },
    {
     "name": "stderr",
     "output_type": "stream",
     "text": [
      "246batch [00:04, 54.35batch/s]\n",
      "0batch [00:00, ?batch/s]"
     ]
    },
    {
     "name": "stdout",
     "output_type": "stream",
     "text": [
      "--------------------------------\n",
      "| batch_size        | 32       |\n",
      "| bc/               |          |\n",
      "|    batch          | 0        |\n",
      "|    ent_loss       | -0.00511 |\n",
      "|    entropy        | 5.11     |\n",
      "|    epoch          | 0        |\n",
      "|    l2_loss        | 0        |\n",
      "|    l2_norm        | 1.44e+04 |\n",
      "|    loss           | 4.52     |\n",
      "|    neglogp        | 4.53     |\n",
      "|    prob_true_act  | 0.279    |\n",
      "|    samples_so_far | 32       |\n",
      "--------------------------------\n"
     ]
    },
    {
     "name": "stderr",
     "output_type": "stream",
     "text": [
      "246batch [00:04, 51.89batch/s]\n",
      "0batch [00:00, ?batch/s]"
     ]
    },
    {
     "name": "stdout",
     "output_type": "stream",
     "text": [
      "--------------------------------\n",
      "| batch_size        | 32       |\n",
      "| bc/               |          |\n",
      "|    batch          | 0        |\n",
      "|    ent_loss       | -0.00474 |\n",
      "|    entropy        | 4.74     |\n",
      "|    epoch          | 0        |\n",
      "|    l2_loss        | 0        |\n",
      "|    l2_norm        | 1.59e+04 |\n",
      "|    loss           | 3.88     |\n",
      "|    neglogp        | 3.89     |\n",
      "|    prob_true_act  | 0.232    |\n",
      "|    samples_so_far | 32       |\n",
      "--------------------------------\n"
     ]
    },
    {
     "name": "stderr",
     "output_type": "stream",
     "text": [
      "246batch [00:04, 49.48batch/s]\n",
      "0batch [00:00, ?batch/s]"
     ]
    },
    {
     "name": "stdout",
     "output_type": "stream",
     "text": [
      "--------------------------------\n",
      "| batch_size        | 32       |\n",
      "| bc/               |          |\n",
      "|    batch          | 0        |\n",
      "|    ent_loss       | -0.00451 |\n",
      "|    entropy        | 4.51     |\n",
      "|    epoch          | 0        |\n",
      "|    l2_loss        | 0        |\n",
      "|    l2_norm        | 1.74e+04 |\n",
      "|    loss           | 3.58     |\n",
      "|    neglogp        | 3.59     |\n",
      "|    prob_true_act  | 0.318    |\n",
      "|    samples_so_far | 32       |\n",
      "--------------------------------\n"
     ]
    },
    {
     "name": "stderr",
     "output_type": "stream",
     "text": [
      "246batch [00:04, 51.08batch/s]\n",
      "0batch [00:00, ?batch/s]"
     ]
    },
    {
     "name": "stdout",
     "output_type": "stream",
     "text": [
      "--------------------------------\n",
      "| batch_size        | 32       |\n",
      "| bc/               |          |\n",
      "|    batch          | 0        |\n",
      "|    ent_loss       | -0.00429 |\n",
      "|    entropy        | 4.29     |\n",
      "|    epoch          | 0        |\n",
      "|    l2_loss        | 0        |\n",
      "|    l2_norm        | 1.9e+04  |\n",
      "|    loss           | 3.14     |\n",
      "|    neglogp        | 3.15     |\n",
      "|    prob_true_act  | 0.385    |\n",
      "|    samples_so_far | 32       |\n",
      "--------------------------------\n"
     ]
    },
    {
     "name": "stderr",
     "output_type": "stream",
     "text": [
      "246batch [00:04, 53.73batch/s]\n",
      "0batch [00:00, ?batch/s]"
     ]
    },
    {
     "name": "stdout",
     "output_type": "stream",
     "text": [
      "--------------------------------\n",
      "| batch_size        | 32       |\n",
      "| bc/               |          |\n",
      "|    batch          | 0        |\n",
      "|    ent_loss       | -0.00424 |\n",
      "|    entropy        | 4.24     |\n",
      "|    epoch          | 0        |\n",
      "|    l2_loss        | 0        |\n",
      "|    l2_norm        | 2.06e+04 |\n",
      "|    loss           | 3.11     |\n",
      "|    neglogp        | 3.11     |\n",
      "|    prob_true_act  | 0.348    |\n",
      "|    samples_so_far | 32       |\n",
      "--------------------------------\n"
     ]
    },
    {
     "name": "stderr",
     "output_type": "stream",
     "text": [
      "246batch [00:05, 48.61batch/s]\n",
      "0batch [00:00, ?batch/s]"
     ]
    },
    {
     "name": "stdout",
     "output_type": "stream",
     "text": [
      "--------------------------------\n",
      "| batch_size        | 32       |\n",
      "| bc/               |          |\n",
      "|    batch          | 0        |\n",
      "|    ent_loss       | -0.00413 |\n",
      "|    entropy        | 4.13     |\n",
      "|    epoch          | 0        |\n",
      "|    l2_loss        | 0        |\n",
      "|    l2_norm        | 2.22e+04 |\n",
      "|    loss           | 2.96     |\n",
      "|    neglogp        | 2.96     |\n",
      "|    prob_true_act  | 0.366    |\n",
      "|    samples_so_far | 32       |\n",
      "--------------------------------\n"
     ]
    },
    {
     "name": "stderr",
     "output_type": "stream",
     "text": [
      "246batch [00:04, 52.51batch/s]\n",
      "0batch [00:00, ?batch/s]"
     ]
    },
    {
     "name": "stdout",
     "output_type": "stream",
     "text": [
      "--------------------------------\n",
      "| batch_size        | 32       |\n",
      "| bc/               |          |\n",
      "|    batch          | 0        |\n",
      "|    ent_loss       | -0.00372 |\n",
      "|    entropy        | 3.72     |\n",
      "|    epoch          | 0        |\n",
      "|    l2_loss        | 0        |\n",
      "|    l2_norm        | 2.38e+04 |\n",
      "|    loss           | 2.42     |\n",
      "|    neglogp        | 2.42     |\n",
      "|    prob_true_act  | 0.426    |\n",
      "|    samples_so_far | 32       |\n",
      "--------------------------------\n"
     ]
    },
    {
     "name": "stderr",
     "output_type": "stream",
     "text": [
      "246batch [00:04, 51.01batch/s]\n",
      "0batch [00:00, ?batch/s]"
     ]
    },
    {
     "name": "stdout",
     "output_type": "stream",
     "text": [
      "--------------------------------\n",
      "| batch_size        | 32       |\n",
      "| bc/               |          |\n",
      "|    batch          | 0        |\n",
      "|    ent_loss       | -0.00326 |\n",
      "|    entropy        | 3.26     |\n",
      "|    epoch          | 0        |\n",
      "|    l2_loss        | 0        |\n",
      "|    l2_norm        | 2.54e+04 |\n",
      "|    loss           | 2.13     |\n",
      "|    neglogp        | 2.13     |\n",
      "|    prob_true_act  | 0.5      |\n",
      "|    samples_so_far | 32       |\n",
      "--------------------------------\n"
     ]
    },
    {
     "name": "stderr",
     "output_type": "stream",
     "text": [
      "246batch [00:04, 50.94batch/s]\n",
      "0batch [00:00, ?batch/s]"
     ]
    },
    {
     "name": "stdout",
     "output_type": "stream",
     "text": [
      "--------------------------------\n",
      "| batch_size        | 32       |\n",
      "| bc/               |          |\n",
      "|    batch          | 0        |\n",
      "|    ent_loss       | -0.00337 |\n",
      "|    entropy        | 3.37     |\n",
      "|    epoch          | 0        |\n",
      "|    l2_loss        | 0        |\n",
      "|    l2_norm        | 2.71e+04 |\n",
      "|    loss           | 2.45     |\n",
      "|    neglogp        | 2.45     |\n",
      "|    prob_true_act  | 0.472    |\n",
      "|    samples_so_far | 32       |\n",
      "--------------------------------\n"
     ]
    },
    {
     "name": "stderr",
     "output_type": "stream",
     "text": [
      "246batch [00:04, 49.39batch/s]\n",
      "0batch [00:00, ?batch/s]"
     ]
    },
    {
     "name": "stdout",
     "output_type": "stream",
     "text": [
      "--------------------------------\n",
      "| batch_size        | 32       |\n",
      "| bc/               |          |\n",
      "|    batch          | 0        |\n",
      "|    ent_loss       | -0.00374 |\n",
      "|    entropy        | 3.74     |\n",
      "|    epoch          | 0        |\n",
      "|    l2_loss        | 0        |\n",
      "|    l2_norm        | 2.89e+04 |\n",
      "|    loss           | 2.6      |\n",
      "|    neglogp        | 2.6      |\n",
      "|    prob_true_act  | 0.423    |\n",
      "|    samples_so_far | 32       |\n",
      "--------------------------------\n"
     ]
    },
    {
     "name": "stderr",
     "output_type": "stream",
     "text": [
      "246batch [00:04, 49.29batch/s]\n",
      "0batch [00:00, ?batch/s]"
     ]
    },
    {
     "name": "stdout",
     "output_type": "stream",
     "text": [
      "--------------------------------\n",
      "| batch_size        | 32       |\n",
      "| bc/               |          |\n",
      "|    batch          | 0        |\n",
      "|    ent_loss       | -0.0034  |\n",
      "|    entropy        | 3.4      |\n",
      "|    epoch          | 0        |\n",
      "|    l2_loss        | 0        |\n",
      "|    l2_norm        | 3.07e+04 |\n",
      "|    loss           | 2.26     |\n",
      "|    neglogp        | 2.26     |\n",
      "|    prob_true_act  | 0.511    |\n",
      "|    samples_so_far | 32       |\n",
      "--------------------------------\n"
     ]
    },
    {
     "name": "stderr",
     "output_type": "stream",
     "text": [
      "246batch [00:05, 42.18batch/s]\n",
      "0batch [00:00, ?batch/s]"
     ]
    },
    {
     "name": "stdout",
     "output_type": "stream",
     "text": [
      "--------------------------------\n",
      "| batch_size        | 32       |\n",
      "| bc/               |          |\n",
      "|    batch          | 0        |\n",
      "|    ent_loss       | -0.00324 |\n",
      "|    entropy        | 3.24     |\n",
      "|    epoch          | 0        |\n",
      "|    l2_loss        | 0        |\n",
      "|    l2_norm        | 3.24e+04 |\n",
      "|    loss           | 2.08     |\n",
      "|    neglogp        | 2.08     |\n",
      "|    prob_true_act  | 0.499    |\n",
      "|    samples_so_far | 32       |\n",
      "--------------------------------\n"
     ]
    },
    {
     "name": "stderr",
     "output_type": "stream",
     "text": [
      "246batch [00:04, 49.44batch/s]\n",
      "0batch [00:00, ?batch/s]"
     ]
    },
    {
     "name": "stdout",
     "output_type": "stream",
     "text": [
      "--------------------------------\n",
      "| batch_size        | 32       |\n",
      "| bc/               |          |\n",
      "|    batch          | 0        |\n",
      "|    ent_loss       | -0.0039  |\n",
      "|    entropy        | 3.9      |\n",
      "|    epoch          | 0        |\n",
      "|    l2_loss        | 0        |\n",
      "|    l2_norm        | 3.41e+04 |\n",
      "|    loss           | 2.51     |\n",
      "|    neglogp        | 2.51     |\n",
      "|    prob_true_act  | 0.416    |\n",
      "|    samples_so_far | 32       |\n",
      "--------------------------------\n"
     ]
    },
    {
     "name": "stderr",
     "output_type": "stream",
     "text": [
      "246batch [00:04, 49.52batch/s]\n",
      "0batch [00:00, ?batch/s]"
     ]
    },
    {
     "name": "stdout",
     "output_type": "stream",
     "text": [
      "--------------------------------\n",
      "| batch_size        | 32       |\n",
      "| bc/               |          |\n",
      "|    batch          | 0        |\n",
      "|    ent_loss       | -0.00236 |\n",
      "|    entropy        | 2.36     |\n",
      "|    epoch          | 0        |\n",
      "|    l2_loss        | 0        |\n",
      "|    l2_norm        | 3.58e+04 |\n",
      "|    loss           | 1.12     |\n",
      "|    neglogp        | 1.12     |\n",
      "|    prob_true_act  | 0.64     |\n",
      "|    samples_so_far | 32       |\n",
      "--------------------------------\n"
     ]
    },
    {
     "name": "stderr",
     "output_type": "stream",
     "text": [
      "246batch [00:04, 49.62batch/s]\n",
      "0batch [00:00, ?batch/s]"
     ]
    },
    {
     "name": "stdout",
     "output_type": "stream",
     "text": [
      "--------------------------------\n",
      "| batch_size        | 32       |\n",
      "| bc/               |          |\n",
      "|    batch          | 0        |\n",
      "|    ent_loss       | -0.00337 |\n",
      "|    entropy        | 3.37     |\n",
      "|    epoch          | 0        |\n",
      "|    l2_loss        | 0        |\n",
      "|    l2_norm        | 3.75e+04 |\n",
      "|    loss           | 1.82     |\n",
      "|    neglogp        | 1.83     |\n",
      "|    prob_true_act  | 0.496    |\n",
      "|    samples_so_far | 32       |\n",
      "--------------------------------\n"
     ]
    },
    {
     "name": "stderr",
     "output_type": "stream",
     "text": [
      "246batch [00:04, 50.47batch/s]\n",
      "0batch [00:00, ?batch/s]"
     ]
    },
    {
     "name": "stdout",
     "output_type": "stream",
     "text": [
      "--------------------------------\n",
      "| batch_size        | 32       |\n",
      "| bc/               |          |\n",
      "|    batch          | 0        |\n",
      "|    ent_loss       | -0.00263 |\n",
      "|    entropy        | 2.63     |\n",
      "|    epoch          | 0        |\n",
      "|    l2_loss        | 0        |\n",
      "|    l2_norm        | 3.92e+04 |\n",
      "|    loss           | 1.36     |\n",
      "|    neglogp        | 1.36     |\n",
      "|    prob_true_act  | 0.595    |\n",
      "|    samples_so_far | 32       |\n",
      "--------------------------------\n"
     ]
    },
    {
     "name": "stderr",
     "output_type": "stream",
     "text": [
      "246batch [00:04, 50.22batch/s]\n",
      "0batch [00:00, ?batch/s]"
     ]
    },
    {
     "name": "stdout",
     "output_type": "stream",
     "text": [
      "--------------------------------\n",
      "| batch_size        | 32       |\n",
      "| bc/               |          |\n",
      "|    batch          | 0        |\n",
      "|    ent_loss       | -0.00259 |\n",
      "|    entropy        | 2.59     |\n",
      "|    epoch          | 0        |\n",
      "|    l2_loss        | 0        |\n",
      "|    l2_norm        | 4.09e+04 |\n",
      "|    loss           | 1.33     |\n",
      "|    neglogp        | 1.33     |\n",
      "|    prob_true_act  | 0.595    |\n",
      "|    samples_so_far | 32       |\n",
      "--------------------------------\n"
     ]
    },
    {
     "name": "stderr",
     "output_type": "stream",
     "text": [
      "246batch [00:05, 47.20batch/s]\n",
      "0batch [00:00, ?batch/s]"
     ]
    },
    {
     "name": "stdout",
     "output_type": "stream",
     "text": [
      "--------------------------------\n",
      "| batch_size        | 32       |\n",
      "| bc/               |          |\n",
      "|    batch          | 0        |\n",
      "|    ent_loss       | -0.00263 |\n",
      "|    entropy        | 2.63     |\n",
      "|    epoch          | 0        |\n",
      "|    l2_loss        | 0        |\n",
      "|    l2_norm        | 4.27e+04 |\n",
      "|    loss           | 1.56     |\n",
      "|    neglogp        | 1.56     |\n",
      "|    prob_true_act  | 0.602    |\n",
      "|    samples_so_far | 32       |\n",
      "--------------------------------\n"
     ]
    },
    {
     "name": "stderr",
     "output_type": "stream",
     "text": [
      "246batch [00:05, 45.59batch/s]\n",
      "0batch [00:00, ?batch/s]"
     ]
    },
    {
     "name": "stdout",
     "output_type": "stream",
     "text": [
      "--------------------------------\n",
      "| batch_size        | 32       |\n",
      "| bc/               |          |\n",
      "|    batch          | 0        |\n",
      "|    ent_loss       | -0.00267 |\n",
      "|    entropy        | 2.67     |\n",
      "|    epoch          | 0        |\n",
      "|    l2_loss        | 0        |\n",
      "|    l2_norm        | 4.43e+04 |\n",
      "|    loss           | 1.25     |\n",
      "|    neglogp        | 1.25     |\n",
      "|    prob_true_act  | 0.59     |\n",
      "|    samples_so_far | 32       |\n",
      "--------------------------------\n"
     ]
    },
    {
     "name": "stderr",
     "output_type": "stream",
     "text": [
      "246batch [00:04, 51.27batch/s]\n",
      "0batch [00:00, ?batch/s]"
     ]
    },
    {
     "name": "stdout",
     "output_type": "stream",
     "text": [
      "--------------------------------\n",
      "| batch_size        | 32       |\n",
      "| bc/               |          |\n",
      "|    batch          | 0        |\n",
      "|    ent_loss       | -0.00202 |\n",
      "|    entropy        | 2.02     |\n",
      "|    epoch          | 0        |\n",
      "|    l2_loss        | 0        |\n",
      "|    l2_norm        | 4.6e+04  |\n",
      "|    loss           | 0.815    |\n",
      "|    neglogp        | 0.817    |\n",
      "|    prob_true_act  | 0.691    |\n",
      "|    samples_so_far | 32       |\n",
      "--------------------------------\n"
     ]
    },
    {
     "name": "stderr",
     "output_type": "stream",
     "text": [
      "246batch [00:04, 49.94batch/s]\n",
      "0batch [00:00, ?batch/s]"
     ]
    },
    {
     "name": "stdout",
     "output_type": "stream",
     "text": [
      "--------------------------------\n",
      "| batch_size        | 32       |\n",
      "| bc/               |          |\n",
      "|    batch          | 0        |\n",
      "|    ent_loss       | -0.00219 |\n",
      "|    entropy        | 2.19     |\n",
      "|    epoch          | 0        |\n",
      "|    l2_loss        | 0        |\n",
      "|    l2_norm        | 4.76e+04 |\n",
      "|    loss           | 1.06     |\n",
      "|    neglogp        | 1.06     |\n",
      "|    prob_true_act  | 0.668    |\n",
      "|    samples_so_far | 32       |\n",
      "--------------------------------\n"
     ]
    },
    {
     "name": "stderr",
     "output_type": "stream",
     "text": [
      "246batch [00:06, 36.06batch/s]\n",
      "0batch [00:00, ?batch/s]"
     ]
    },
    {
     "name": "stdout",
     "output_type": "stream",
     "text": [
      "--------------------------------\n",
      "| batch_size        | 32       |\n",
      "| bc/               |          |\n",
      "|    batch          | 0        |\n",
      "|    ent_loss       | -0.00307 |\n",
      "|    entropy        | 3.07     |\n",
      "|    epoch          | 0        |\n",
      "|    l2_loss        | 0        |\n",
      "|    l2_norm        | 4.92e+04 |\n",
      "|    loss           | 1.66     |\n",
      "|    neglogp        | 1.67     |\n",
      "|    prob_true_act  | 0.517    |\n",
      "|    samples_so_far | 32       |\n",
      "--------------------------------\n"
     ]
    },
    {
     "name": "stderr",
     "output_type": "stream",
     "text": [
      "246batch [00:05, 43.69batch/s]\n",
      "0batch [00:00, ?batch/s]"
     ]
    },
    {
     "name": "stdout",
     "output_type": "stream",
     "text": [
      "--------------------------------\n",
      "| batch_size        | 32       |\n",
      "| bc/               |          |\n",
      "|    batch          | 0        |\n",
      "|    ent_loss       | -0.00274 |\n",
      "|    entropy        | 2.74     |\n",
      "|    epoch          | 0        |\n",
      "|    l2_loss        | 0        |\n",
      "|    l2_norm        | 5.08e+04 |\n",
      "|    loss           | 1.27     |\n",
      "|    neglogp        | 1.27     |\n",
      "|    prob_true_act  | 0.59     |\n",
      "|    samples_so_far | 32       |\n",
      "--------------------------------\n"
     ]
    },
    {
     "name": "stderr",
     "output_type": "stream",
     "text": [
      "246batch [00:04, 50.28batch/s]\n",
      "0batch [00:00, ?batch/s]"
     ]
    },
    {
     "name": "stdout",
     "output_type": "stream",
     "text": [
      "--------------------------------\n",
      "| batch_size        | 32       |\n",
      "| bc/               |          |\n",
      "|    batch          | 0        |\n",
      "|    ent_loss       | -0.00161 |\n",
      "|    entropy        | 1.61     |\n",
      "|    epoch          | 0        |\n",
      "|    l2_loss        | 0        |\n",
      "|    l2_norm        | 5.23e+04 |\n",
      "|    loss           | 0.676    |\n",
      "|    neglogp        | 0.677    |\n",
      "|    prob_true_act  | 0.761    |\n",
      "|    samples_so_far | 32       |\n",
      "--------------------------------\n"
     ]
    },
    {
     "name": "stderr",
     "output_type": "stream",
     "text": [
      "246batch [00:05, 47.99batch/s]\n",
      "0batch [00:00, ?batch/s]"
     ]
    },
    {
     "name": "stdout",
     "output_type": "stream",
     "text": [
      "--------------------------------\n",
      "| batch_size        | 32       |\n",
      "| bc/               |          |\n",
      "|    batch          | 0        |\n",
      "|    ent_loss       | -0.00146 |\n",
      "|    entropy        | 1.46     |\n",
      "|    epoch          | 0        |\n",
      "|    l2_loss        | 0        |\n",
      "|    l2_norm        | 5.38e+04 |\n",
      "|    loss           | 0.489    |\n",
      "|    neglogp        | 0.491    |\n",
      "|    prob_true_act  | 0.768    |\n",
      "|    samples_so_far | 32       |\n",
      "--------------------------------\n"
     ]
    },
    {
     "name": "stderr",
     "output_type": "stream",
     "text": [
      "246batch [00:04, 49.95batch/s]\n",
      "0batch [00:00, ?batch/s]"
     ]
    },
    {
     "name": "stdout",
     "output_type": "stream",
     "text": [
      "--------------------------------\n",
      "| batch_size        | 32       |\n",
      "| bc/               |          |\n",
      "|    batch          | 0        |\n",
      "|    ent_loss       | -0.00222 |\n",
      "|    entropy        | 2.22     |\n",
      "|    epoch          | 0        |\n",
      "|    l2_loss        | 0        |\n",
      "|    l2_norm        | 5.54e+04 |\n",
      "|    loss           | 1.02     |\n",
      "|    neglogp        | 1.02     |\n",
      "|    prob_true_act  | 0.643    |\n",
      "|    samples_so_far | 32       |\n",
      "--------------------------------\n"
     ]
    },
    {
     "name": "stderr",
     "output_type": "stream",
     "text": [
      "246batch [00:04, 50.87batch/s]\n",
      "0batch [00:00, ?batch/s]"
     ]
    },
    {
     "name": "stdout",
     "output_type": "stream",
     "text": [
      "--------------------------------\n",
      "| batch_size        | 32       |\n",
      "| bc/               |          |\n",
      "|    batch          | 0        |\n",
      "|    ent_loss       | -0.00223 |\n",
      "|    entropy        | 2.23     |\n",
      "|    epoch          | 0        |\n",
      "|    l2_loss        | 0        |\n",
      "|    l2_norm        | 5.69e+04 |\n",
      "|    loss           | 1.03     |\n",
      "|    neglogp        | 1.03     |\n",
      "|    prob_true_act  | 0.631    |\n",
      "|    samples_so_far | 32       |\n",
      "--------------------------------\n"
     ]
    },
    {
     "name": "stderr",
     "output_type": "stream",
     "text": [
      "246batch [00:04, 52.53batch/s]\n",
      "0batch [00:00, ?batch/s]"
     ]
    },
    {
     "name": "stdout",
     "output_type": "stream",
     "text": [
      "--------------------------------\n",
      "| batch_size        | 32       |\n",
      "| bc/               |          |\n",
      "|    batch          | 0        |\n",
      "|    ent_loss       | -0.00208 |\n",
      "|    entropy        | 2.08     |\n",
      "|    epoch          | 0        |\n",
      "|    l2_loss        | 0        |\n",
      "|    l2_norm        | 5.83e+04 |\n",
      "|    loss           | 0.821    |\n",
      "|    neglogp        | 0.823    |\n",
      "|    prob_true_act  | 0.666    |\n",
      "|    samples_so_far | 32       |\n",
      "--------------------------------\n"
     ]
    },
    {
     "name": "stderr",
     "output_type": "stream",
     "text": [
      "246batch [00:04, 49.87batch/s]\n",
      "0batch [00:00, ?batch/s]"
     ]
    },
    {
     "name": "stdout",
     "output_type": "stream",
     "text": [
      "--------------------------------\n",
      "| batch_size        | 32       |\n",
      "| bc/               |          |\n",
      "|    batch          | 0        |\n",
      "|    ent_loss       | -0.00241 |\n",
      "|    entropy        | 2.41     |\n",
      "|    epoch          | 0        |\n",
      "|    l2_loss        | 0        |\n",
      "|    l2_norm        | 5.98e+04 |\n",
      "|    loss           | 0.895    |\n",
      "|    neglogp        | 0.897    |\n",
      "|    prob_true_act  | 0.626    |\n",
      "|    samples_so_far | 32       |\n",
      "--------------------------------\n"
     ]
    },
    {
     "name": "stderr",
     "output_type": "stream",
     "text": [
      "246batch [00:04, 52.93batch/s]\n",
      "0batch [00:00, ?batch/s]"
     ]
    },
    {
     "name": "stdout",
     "output_type": "stream",
     "text": [
      "--------------------------------\n",
      "| batch_size        | 32       |\n",
      "| bc/               |          |\n",
      "|    batch          | 0        |\n",
      "|    ent_loss       | -0.00208 |\n",
      "|    entropy        | 2.08     |\n",
      "|    epoch          | 0        |\n",
      "|    l2_loss        | 0        |\n",
      "|    l2_norm        | 6.13e+04 |\n",
      "|    loss           | 0.77     |\n",
      "|    neglogp        | 0.772    |\n",
      "|    prob_true_act  | 0.679    |\n",
      "|    samples_so_far | 32       |\n",
      "--------------------------------\n"
     ]
    },
    {
     "name": "stderr",
     "output_type": "stream",
     "text": [
      "246batch [00:04, 51.82batch/s]\n",
      "0batch [00:00, ?batch/s]"
     ]
    },
    {
     "name": "stdout",
     "output_type": "stream",
     "text": [
      "--------------------------------\n",
      "| batch_size        | 32       |\n",
      "| bc/               |          |\n",
      "|    batch          | 0        |\n",
      "|    ent_loss       | -0.00206 |\n",
      "|    entropy        | 2.06     |\n",
      "|    epoch          | 0        |\n",
      "|    l2_loss        | 0        |\n",
      "|    l2_norm        | 6.27e+04 |\n",
      "|    loss           | 0.747    |\n",
      "|    neglogp        | 0.749    |\n",
      "|    prob_true_act  | 0.68     |\n",
      "|    samples_so_far | 32       |\n",
      "--------------------------------\n"
     ]
    },
    {
     "name": "stderr",
     "output_type": "stream",
     "text": [
      "246batch [00:04, 53.12batch/s]\n",
      "0batch [00:00, ?batch/s]"
     ]
    },
    {
     "name": "stdout",
     "output_type": "stream",
     "text": [
      "--------------------------------\n",
      "| batch_size        | 32       |\n",
      "| bc/               |          |\n",
      "|    batch          | 0        |\n",
      "|    ent_loss       | -0.00182 |\n",
      "|    entropy        | 1.82     |\n",
      "|    epoch          | 0        |\n",
      "|    l2_loss        | 0        |\n",
      "|    l2_norm        | 6.41e+04 |\n",
      "|    loss           | 0.59     |\n",
      "|    neglogp        | 0.592    |\n",
      "|    prob_true_act  | 0.707    |\n",
      "|    samples_so_far | 32       |\n",
      "--------------------------------\n"
     ]
    },
    {
     "name": "stderr",
     "output_type": "stream",
     "text": [
      "246batch [00:04, 54.18batch/s]\n",
      "0batch [00:00, ?batch/s]"
     ]
    },
    {
     "name": "stdout",
     "output_type": "stream",
     "text": [
      "--------------------------------\n",
      "| batch_size        | 32       |\n",
      "| bc/               |          |\n",
      "|    batch          | 0        |\n",
      "|    ent_loss       | -0.00267 |\n",
      "|    entropy        | 2.67     |\n",
      "|    epoch          | 0        |\n",
      "|    l2_loss        | 0        |\n",
      "|    l2_norm        | 6.55e+04 |\n",
      "|    loss           | 1.03     |\n",
      "|    neglogp        | 1.04     |\n",
      "|    prob_true_act  | 0.562    |\n",
      "|    samples_so_far | 32       |\n",
      "--------------------------------\n"
     ]
    },
    {
     "name": "stderr",
     "output_type": "stream",
     "text": [
      "246batch [00:04, 52.98batch/s]\n",
      "0batch [00:00, ?batch/s]"
     ]
    },
    {
     "name": "stdout",
     "output_type": "stream",
     "text": [
      "--------------------------------\n",
      "| batch_size        | 32       |\n",
      "| bc/               |          |\n",
      "|    batch          | 0        |\n",
      "|    ent_loss       | -0.00173 |\n",
      "|    entropy        | 1.73     |\n",
      "|    epoch          | 0        |\n",
      "|    l2_loss        | 0        |\n",
      "|    l2_norm        | 6.69e+04 |\n",
      "|    loss           | 0.539    |\n",
      "|    neglogp        | 0.541    |\n",
      "|    prob_true_act  | 0.723    |\n",
      "|    samples_so_far | 32       |\n",
      "--------------------------------\n"
     ]
    },
    {
     "name": "stderr",
     "output_type": "stream",
     "text": [
      "246batch [00:05, 48.62batch/s]\n",
      "0batch [00:00, ?batch/s]"
     ]
    },
    {
     "name": "stdout",
     "output_type": "stream",
     "text": [
      "--------------------------------\n",
      "| batch_size        | 32       |\n",
      "| bc/               |          |\n",
      "|    batch          | 0        |\n",
      "|    ent_loss       | -0.00198 |\n",
      "|    entropy        | 1.98     |\n",
      "|    epoch          | 0        |\n",
      "|    l2_loss        | 0        |\n",
      "|    l2_norm        | 6.82e+04 |\n",
      "|    loss           | 0.667    |\n",
      "|    neglogp        | 0.669    |\n",
      "|    prob_true_act  | 0.684    |\n",
      "|    samples_so_far | 32       |\n",
      "--------------------------------\n"
     ]
    },
    {
     "name": "stderr",
     "output_type": "stream",
     "text": [
      "246batch [00:04, 52.39batch/s]\n",
      "0batch [00:00, ?batch/s]"
     ]
    },
    {
     "name": "stdout",
     "output_type": "stream",
     "text": [
      "--------------------------------\n",
      "| batch_size        | 32       |\n",
      "| bc/               |          |\n",
      "|    batch          | 0        |\n",
      "|    ent_loss       | -0.00128 |\n",
      "|    entropy        | 1.28     |\n",
      "|    epoch          | 0        |\n",
      "|    l2_loss        | 0        |\n",
      "|    l2_norm        | 6.94e+04 |\n",
      "|    loss           | 0.422    |\n",
      "|    neglogp        | 0.423    |\n",
      "|    prob_true_act  | 0.789    |\n",
      "|    samples_so_far | 32       |\n",
      "--------------------------------\n"
     ]
    },
    {
     "name": "stderr",
     "output_type": "stream",
     "text": [
      "246batch [00:04, 55.08batch/s]\n",
      "0batch [00:00, ?batch/s]"
     ]
    },
    {
     "name": "stdout",
     "output_type": "stream",
     "text": [
      "--------------------------------\n",
      "| batch_size        | 32       |\n",
      "| bc/               |          |\n",
      "|    batch          | 0        |\n",
      "|    ent_loss       | -0.00236 |\n",
      "|    entropy        | 2.36     |\n",
      "|    epoch          | 0        |\n",
      "|    l2_loss        | 0        |\n",
      "|    l2_norm        | 7.07e+04 |\n",
      "|    loss           | 0.868    |\n",
      "|    neglogp        | 0.87     |\n",
      "|    prob_true_act  | 0.59     |\n",
      "|    samples_so_far | 32       |\n",
      "--------------------------------\n"
     ]
    },
    {
     "name": "stderr",
     "output_type": "stream",
     "text": [
      "246batch [00:04, 55.59batch/s]\n",
      "0batch [00:00, ?batch/s]"
     ]
    },
    {
     "name": "stdout",
     "output_type": "stream",
     "text": [
      "--------------------------------\n",
      "| batch_size        | 32       |\n",
      "| bc/               |          |\n",
      "|    batch          | 0        |\n",
      "|    ent_loss       | -0.00173 |\n",
      "|    entropy        | 1.73     |\n",
      "|    epoch          | 0        |\n",
      "|    l2_loss        | 0        |\n",
      "|    l2_norm        | 7.19e+04 |\n",
      "|    loss           | 0.524    |\n",
      "|    neglogp        | 0.526    |\n",
      "|    prob_true_act  | 0.726    |\n",
      "|    samples_so_far | 32       |\n",
      "--------------------------------\n"
     ]
    },
    {
     "name": "stderr",
     "output_type": "stream",
     "text": [
      "246batch [00:04, 53.75batch/s]\n",
      "0batch [00:00, ?batch/s]"
     ]
    },
    {
     "name": "stdout",
     "output_type": "stream",
     "text": [
      "--------------------------------\n",
      "| batch_size        | 32       |\n",
      "| bc/               |          |\n",
      "|    batch          | 0        |\n",
      "|    ent_loss       | -0.0016  |\n",
      "|    entropy        | 1.6      |\n",
      "|    epoch          | 0        |\n",
      "|    l2_loss        | 0        |\n",
      "|    l2_norm        | 7.31e+04 |\n",
      "|    loss           | 0.528    |\n",
      "|    neglogp        | 0.53     |\n",
      "|    prob_true_act  | 0.748    |\n",
      "|    samples_so_far | 32       |\n",
      "--------------------------------\n"
     ]
    },
    {
     "name": "stderr",
     "output_type": "stream",
     "text": [
      "246batch [00:04, 55.01batch/s]\n",
      "0batch [00:00, ?batch/s]"
     ]
    },
    {
     "name": "stdout",
     "output_type": "stream",
     "text": [
      "--------------------------------\n",
      "| batch_size        | 32       |\n",
      "| bc/               |          |\n",
      "|    batch          | 0        |\n",
      "|    ent_loss       | -0.00145 |\n",
      "|    entropy        | 1.45     |\n",
      "|    epoch          | 0        |\n",
      "|    l2_loss        | 0        |\n",
      "|    l2_norm        | 7.41e+04 |\n",
      "|    loss           | 0.507    |\n",
      "|    neglogp        | 0.509    |\n",
      "|    prob_true_act  | 0.742    |\n",
      "|    samples_so_far | 32       |\n",
      "--------------------------------\n"
     ]
    },
    {
     "name": "stderr",
     "output_type": "stream",
     "text": [
      "246batch [00:04, 54.26batch/s]\n",
      "0batch [00:00, ?batch/s]"
     ]
    },
    {
     "name": "stdout",
     "output_type": "stream",
     "text": [
      "--------------------------------\n",
      "| batch_size        | 32       |\n",
      "| bc/               |          |\n",
      "|    batch          | 0        |\n",
      "|    ent_loss       | -0.0012  |\n",
      "|    entropy        | 1.2      |\n",
      "|    epoch          | 0        |\n",
      "|    l2_loss        | 0        |\n",
      "|    l2_norm        | 7.52e+04 |\n",
      "|    loss           | 0.393    |\n",
      "|    neglogp        | 0.394    |\n",
      "|    prob_true_act  | 0.793    |\n",
      "|    samples_so_far | 32       |\n",
      "--------------------------------\n"
     ]
    },
    {
     "name": "stderr",
     "output_type": "stream",
     "text": [
      "246batch [00:04, 53.76batch/s]\n",
      "0batch [00:00, ?batch/s]"
     ]
    },
    {
     "name": "stdout",
     "output_type": "stream",
     "text": [
      "--------------------------------\n",
      "| batch_size        | 32       |\n",
      "| bc/               |          |\n",
      "|    batch          | 0        |\n",
      "|    ent_loss       | -0.00138 |\n",
      "|    entropy        | 1.38     |\n",
      "|    epoch          | 0        |\n",
      "|    l2_loss        | 0        |\n",
      "|    l2_norm        | 7.64e+04 |\n",
      "|    loss           | 0.37     |\n",
      "|    neglogp        | 0.372    |\n",
      "|    prob_true_act  | 0.784    |\n",
      "|    samples_so_far | 32       |\n",
      "--------------------------------\n"
     ]
    },
    {
     "name": "stderr",
     "output_type": "stream",
     "text": [
      "246batch [00:04, 54.44batch/s]\n",
      "0batch [00:00, ?batch/s]"
     ]
    },
    {
     "name": "stdout",
     "output_type": "stream",
     "text": [
      "--------------------------------\n",
      "| batch_size        | 32       |\n",
      "| bc/               |          |\n",
      "|    batch          | 0        |\n",
      "|    ent_loss       | -0.00124 |\n",
      "|    entropy        | 1.24     |\n",
      "|    epoch          | 0        |\n",
      "|    l2_loss        | 0        |\n",
      "|    l2_norm        | 7.75e+04 |\n",
      "|    loss           | 0.401    |\n",
      "|    neglogp        | 0.402    |\n",
      "|    prob_true_act  | 0.789    |\n",
      "|    samples_so_far | 32       |\n",
      "--------------------------------\n"
     ]
    },
    {
     "name": "stderr",
     "output_type": "stream",
     "text": [
      "246batch [00:04, 54.86batch/s]\n",
      "0batch [00:00, ?batch/s]"
     ]
    },
    {
     "name": "stdout",
     "output_type": "stream",
     "text": [
      "--------------------------------\n",
      "| batch_size        | 32       |\n",
      "| bc/               |          |\n",
      "|    batch          | 0        |\n",
      "|    ent_loss       | -0.00142 |\n",
      "|    entropy        | 1.42     |\n",
      "|    epoch          | 0        |\n",
      "|    l2_loss        | 0        |\n",
      "|    l2_norm        | 7.85e+04 |\n",
      "|    loss           | 0.385    |\n",
      "|    neglogp        | 0.386    |\n",
      "|    prob_true_act  | 0.769    |\n",
      "|    samples_so_far | 32       |\n",
      "--------------------------------\n"
     ]
    },
    {
     "name": "stderr",
     "output_type": "stream",
     "text": [
      "246batch [00:04, 53.99batch/s]\n",
      "0batch [00:00, ?batch/s]"
     ]
    },
    {
     "name": "stdout",
     "output_type": "stream",
     "text": [
      "--------------------------------\n",
      "| batch_size        | 32       |\n",
      "| bc/               |          |\n",
      "|    batch          | 0        |\n",
      "|    ent_loss       | -0.00131 |\n",
      "|    entropy        | 1.31     |\n",
      "|    epoch          | 0        |\n",
      "|    l2_loss        | 0        |\n",
      "|    l2_norm        | 7.96e+04 |\n",
      "|    loss           | 0.52     |\n",
      "|    neglogp        | 0.521    |\n",
      "|    prob_true_act  | 0.775    |\n",
      "|    samples_so_far | 32       |\n",
      "--------------------------------\n"
     ]
    },
    {
     "name": "stderr",
     "output_type": "stream",
     "text": [
      "246batch [00:04, 55.20batch/s]\n"
     ]
    },
    {
     "name": "stdout",
     "output_type": "stream",
     "text": [
      "Checkpoint saved at checkpoints\\bc_model_epoch_50.zip\n"
     ]
    },
    {
     "name": "stderr",
     "output_type": "stream",
     "text": [
      "0batch [00:00, ?batch/s]"
     ]
    },
    {
     "name": "stdout",
     "output_type": "stream",
     "text": [
      "---------------------------------\n",
      "| batch_size        | 32        |\n",
      "| bc/               |           |\n",
      "|    batch          | 0         |\n",
      "|    ent_loss       | -0.000856 |\n",
      "|    entropy        | 0.856     |\n",
      "|    epoch          | 0         |\n",
      "|    l2_loss        | 0         |\n",
      "|    l2_norm        | 8.06e+04  |\n",
      "|    loss           | 0.208     |\n",
      "|    neglogp        | 0.209     |\n",
      "|    prob_true_act  | 0.863     |\n",
      "|    samples_so_far | 32        |\n",
      "---------------------------------\n"
     ]
    },
    {
     "name": "stderr",
     "output_type": "stream",
     "text": [
      "246batch [00:04, 52.07batch/s]\n",
      "0batch [00:00, ?batch/s]"
     ]
    },
    {
     "name": "stdout",
     "output_type": "stream",
     "text": [
      "--------------------------------\n",
      "| batch_size        | 32       |\n",
      "| bc/               |          |\n",
      "|    batch          | 0        |\n",
      "|    ent_loss       | -0.00119 |\n",
      "|    entropy        | 1.19     |\n",
      "|    epoch          | 0        |\n",
      "|    l2_loss        | 0        |\n",
      "|    l2_norm        | 8.17e+04 |\n",
      "|    loss           | 0.416    |\n",
      "|    neglogp        | 0.417    |\n",
      "|    prob_true_act  | 0.776    |\n",
      "|    samples_so_far | 32       |\n",
      "--------------------------------\n"
     ]
    },
    {
     "name": "stderr",
     "output_type": "stream",
     "text": [
      "246batch [00:04, 54.39batch/s]\n",
      "0batch [00:00, ?batch/s]"
     ]
    },
    {
     "name": "stdout",
     "output_type": "stream",
     "text": [
      "--------------------------------\n",
      "| batch_size        | 32       |\n",
      "| bc/               |          |\n",
      "|    batch          | 0        |\n",
      "|    ent_loss       | -0.00149 |\n",
      "|    entropy        | 1.49     |\n",
      "|    epoch          | 0        |\n",
      "|    l2_loss        | 0        |\n",
      "|    l2_norm        | 8.27e+04 |\n",
      "|    loss           | 0.472    |\n",
      "|    neglogp        | 0.473    |\n",
      "|    prob_true_act  | 0.726    |\n",
      "|    samples_so_far | 32       |\n",
      "--------------------------------\n"
     ]
    },
    {
     "name": "stderr",
     "output_type": "stream",
     "text": [
      "246batch [00:04, 54.24batch/s]\n",
      "0batch [00:00, ?batch/s]"
     ]
    },
    {
     "name": "stdout",
     "output_type": "stream",
     "text": [
      "--------------------------------\n",
      "| batch_size        | 32       |\n",
      "| bc/               |          |\n",
      "|    batch          | 0        |\n",
      "|    ent_loss       | -0.0012  |\n",
      "|    entropy        | 1.2      |\n",
      "|    epoch          | 0        |\n",
      "|    l2_loss        | 0        |\n",
      "|    l2_norm        | 8.37e+04 |\n",
      "|    loss           | 0.26     |\n",
      "|    neglogp        | 0.261    |\n",
      "|    prob_true_act  | 0.812    |\n",
      "|    samples_so_far | 32       |\n",
      "--------------------------------\n"
     ]
    },
    {
     "name": "stderr",
     "output_type": "stream",
     "text": [
      "246batch [00:04, 53.94batch/s]\n",
      "0batch [00:00, ?batch/s]"
     ]
    },
    {
     "name": "stdout",
     "output_type": "stream",
     "text": [
      "--------------------------------\n",
      "| batch_size        | 32       |\n",
      "| bc/               |          |\n",
      "|    batch          | 0        |\n",
      "|    ent_loss       | -0.00116 |\n",
      "|    entropy        | 1.16     |\n",
      "|    epoch          | 0        |\n",
      "|    l2_loss        | 0        |\n",
      "|    l2_norm        | 8.47e+04 |\n",
      "|    loss           | 0.286    |\n",
      "|    neglogp        | 0.287    |\n",
      "|    prob_true_act  | 0.811    |\n",
      "|    samples_so_far | 32       |\n",
      "--------------------------------\n"
     ]
    },
    {
     "name": "stderr",
     "output_type": "stream",
     "text": [
      "246batch [00:04, 54.35batch/s]\n",
      "0batch [00:00, ?batch/s]"
     ]
    },
    {
     "name": "stdout",
     "output_type": "stream",
     "text": [
      "--------------------------------\n",
      "| batch_size        | 32       |\n",
      "| bc/               |          |\n",
      "|    batch          | 0        |\n",
      "|    ent_loss       | -0.00151 |\n",
      "|    entropy        | 1.51     |\n",
      "|    epoch          | 0        |\n",
      "|    l2_loss        | 0        |\n",
      "|    l2_norm        | 8.57e+04 |\n",
      "|    loss           | 0.394    |\n",
      "|    neglogp        | 0.396    |\n",
      "|    prob_true_act  | 0.745    |\n",
      "|    samples_so_far | 32       |\n",
      "--------------------------------\n"
     ]
    },
    {
     "name": "stderr",
     "output_type": "stream",
     "text": [
      "246batch [00:04, 54.99batch/s]\n",
      "0batch [00:00, ?batch/s]"
     ]
    },
    {
     "name": "stdout",
     "output_type": "stream",
     "text": [
      "--------------------------------\n",
      "| batch_size        | 32       |\n",
      "| bc/               |          |\n",
      "|    batch          | 0        |\n",
      "|    ent_loss       | -0.00118 |\n",
      "|    entropy        | 1.18     |\n",
      "|    epoch          | 0        |\n",
      "|    l2_loss        | 0        |\n",
      "|    l2_norm        | 8.66e+04 |\n",
      "|    loss           | 0.279    |\n",
      "|    neglogp        | 0.28     |\n",
      "|    prob_true_act  | 0.808    |\n",
      "|    samples_so_far | 32       |\n",
      "--------------------------------\n"
     ]
    },
    {
     "name": "stderr",
     "output_type": "stream",
     "text": [
      "246batch [00:04, 54.05batch/s]\n",
      "0batch [00:00, ?batch/s]"
     ]
    },
    {
     "name": "stdout",
     "output_type": "stream",
     "text": [
      "---------------------------------\n",
      "| batch_size        | 32        |\n",
      "| bc/               |           |\n",
      "|    batch          | 0         |\n",
      "|    ent_loss       | -0.000689 |\n",
      "|    entropy        | 0.689     |\n",
      "|    epoch          | 0         |\n",
      "|    l2_loss        | 0         |\n",
      "|    l2_norm        | 8.76e+04  |\n",
      "|    loss           | 0.147     |\n",
      "|    neglogp        | 0.147     |\n",
      "|    prob_true_act  | 0.889     |\n",
      "|    samples_so_far | 32        |\n",
      "---------------------------------\n"
     ]
    },
    {
     "name": "stderr",
     "output_type": "stream",
     "text": [
      "246batch [00:04, 54.41batch/s]\n",
      "0batch [00:00, ?batch/s]"
     ]
    },
    {
     "name": "stdout",
     "output_type": "stream",
     "text": [
      "---------------------------------\n",
      "| batch_size        | 32        |\n",
      "| bc/               |           |\n",
      "|    batch          | 0         |\n",
      "|    ent_loss       | -0.000882 |\n",
      "|    entropy        | 0.882     |\n",
      "|    epoch          | 0         |\n",
      "|    l2_loss        | 0         |\n",
      "|    l2_norm        | 8.84e+04  |\n",
      "|    loss           | 0.214     |\n",
      "|    neglogp        | 0.215     |\n",
      "|    prob_true_act  | 0.843     |\n",
      "|    samples_so_far | 32        |\n",
      "---------------------------------\n"
     ]
    },
    {
     "name": "stderr",
     "output_type": "stream",
     "text": [
      "246batch [00:04, 55.11batch/s]\n",
      "0batch [00:00, ?batch/s]"
     ]
    },
    {
     "name": "stdout",
     "output_type": "stream",
     "text": [
      "---------------------------------\n",
      "| batch_size        | 32        |\n",
      "| bc/               |           |\n",
      "|    batch          | 0         |\n",
      "|    ent_loss       | -0.000889 |\n",
      "|    entropy        | 0.889     |\n",
      "|    epoch          | 0         |\n",
      "|    l2_loss        | 0         |\n",
      "|    l2_norm        | 8.93e+04  |\n",
      "|    loss           | 0.212     |\n",
      "|    neglogp        | 0.213     |\n",
      "|    prob_true_act  | 0.857     |\n",
      "|    samples_so_far | 32        |\n",
      "---------------------------------\n"
     ]
    },
    {
     "name": "stderr",
     "output_type": "stream",
     "text": [
      "246batch [00:04, 52.51batch/s]\n",
      "0batch [00:00, ?batch/s]"
     ]
    },
    {
     "name": "stdout",
     "output_type": "stream",
     "text": [
      "--------------------------------\n",
      "| batch_size        | 32       |\n",
      "| bc/               |          |\n",
      "|    batch          | 0        |\n",
      "|    ent_loss       | -0.00104 |\n",
      "|    entropy        | 1.04     |\n",
      "|    epoch          | 0        |\n",
      "|    l2_loss        | 0        |\n",
      "|    l2_norm        | 9.02e+04 |\n",
      "|    loss           | 0.259    |\n",
      "|    neglogp        | 0.26     |\n",
      "|    prob_true_act  | 0.82     |\n",
      "|    samples_so_far | 32       |\n",
      "--------------------------------\n"
     ]
    },
    {
     "name": "stderr",
     "output_type": "stream",
     "text": [
      "246batch [00:04, 54.61batch/s]\n",
      "0batch [00:00, ?batch/s]"
     ]
    },
    {
     "name": "stdout",
     "output_type": "stream",
     "text": [
      "---------------------------------\n",
      "| batch_size        | 32        |\n",
      "| bc/               |           |\n",
      "|    batch          | 0         |\n",
      "|    ent_loss       | -0.000695 |\n",
      "|    entropy        | 0.695     |\n",
      "|    epoch          | 0         |\n",
      "|    l2_loss        | 0         |\n",
      "|    l2_norm        | 9.11e+04  |\n",
      "|    loss           | 0.161     |\n",
      "|    neglogp        | 0.162     |\n",
      "|    prob_true_act  | 0.883     |\n",
      "|    samples_so_far | 32        |\n",
      "---------------------------------\n"
     ]
    },
    {
     "name": "stderr",
     "output_type": "stream",
     "text": [
      "246batch [00:04, 53.42batch/s]\n",
      "0batch [00:00, ?batch/s]"
     ]
    },
    {
     "name": "stdout",
     "output_type": "stream",
     "text": [
      "--------------------------------\n",
      "| batch_size        | 32       |\n",
      "| bc/               |          |\n",
      "|    batch          | 0        |\n",
      "|    ent_loss       | -0.00126 |\n",
      "|    entropy        | 1.26     |\n",
      "|    epoch          | 0        |\n",
      "|    l2_loss        | 0        |\n",
      "|    l2_norm        | 9.19e+04 |\n",
      "|    loss           | 0.327    |\n",
      "|    neglogp        | 0.328    |\n",
      "|    prob_true_act  | 0.774    |\n",
      "|    samples_so_far | 32       |\n",
      "--------------------------------\n"
     ]
    },
    {
     "name": "stderr",
     "output_type": "stream",
     "text": [
      "246batch [00:04, 54.81batch/s]\n",
      "0batch [00:00, ?batch/s]"
     ]
    },
    {
     "name": "stdout",
     "output_type": "stream",
     "text": [
      "--------------------------------\n",
      "| batch_size        | 32       |\n",
      "| bc/               |          |\n",
      "|    batch          | 0        |\n",
      "|    ent_loss       | -0.0012  |\n",
      "|    entropy        | 1.2      |\n",
      "|    epoch          | 0        |\n",
      "|    l2_loss        | 0        |\n",
      "|    l2_norm        | 9.28e+04 |\n",
      "|    loss           | 0.366    |\n",
      "|    neglogp        | 0.368    |\n",
      "|    prob_true_act  | 0.786    |\n",
      "|    samples_so_far | 32       |\n",
      "--------------------------------\n"
     ]
    },
    {
     "name": "stderr",
     "output_type": "stream",
     "text": [
      "246batch [00:05, 47.61batch/s]\n",
      "0batch [00:00, ?batch/s]"
     ]
    },
    {
     "name": "stdout",
     "output_type": "stream",
     "text": [
      "---------------------------------\n",
      "| batch_size        | 32        |\n",
      "| bc/               |           |\n",
      "|    batch          | 0         |\n",
      "|    ent_loss       | -0.000471 |\n",
      "|    entropy        | 0.471     |\n",
      "|    epoch          | 0         |\n",
      "|    l2_loss        | 0         |\n",
      "|    l2_norm        | 9.36e+04  |\n",
      "|    loss           | 0.0943    |\n",
      "|    neglogp        | 0.0948    |\n",
      "|    prob_true_act  | 0.926     |\n",
      "|    samples_so_far | 32        |\n",
      "---------------------------------\n"
     ]
    },
    {
     "name": "stderr",
     "output_type": "stream",
     "text": [
      "246batch [00:04, 54.34batch/s]\n",
      "0batch [00:00, ?batch/s]"
     ]
    },
    {
     "name": "stdout",
     "output_type": "stream",
     "text": [
      "---------------------------------\n",
      "| batch_size        | 32        |\n",
      "| bc/               |           |\n",
      "|    batch          | 0         |\n",
      "|    ent_loss       | -0.000831 |\n",
      "|    entropy        | 0.831     |\n",
      "|    epoch          | 0         |\n",
      "|    l2_loss        | 0         |\n",
      "|    l2_norm        | 9.44e+04  |\n",
      "|    loss           | 0.18      |\n",
      "|    neglogp        | 0.181     |\n",
      "|    prob_true_act  | 0.863     |\n",
      "|    samples_so_far | 32        |\n",
      "---------------------------------\n"
     ]
    },
    {
     "name": "stderr",
     "output_type": "stream",
     "text": [
      "246batch [00:04, 54.62batch/s]\n",
      "0batch [00:00, ?batch/s]"
     ]
    },
    {
     "name": "stdout",
     "output_type": "stream",
     "text": [
      "---------------------------------\n",
      "| batch_size        | 32        |\n",
      "| bc/               |           |\n",
      "|    batch          | 0         |\n",
      "|    ent_loss       | -0.000766 |\n",
      "|    entropy        | 0.766     |\n",
      "|    epoch          | 0         |\n",
      "|    l2_loss        | 0         |\n",
      "|    l2_norm        | 9.52e+04  |\n",
      "|    loss           | 0.179     |\n",
      "|    neglogp        | 0.179     |\n",
      "|    prob_true_act  | 0.868     |\n",
      "|    samples_so_far | 32        |\n",
      "---------------------------------\n"
     ]
    },
    {
     "name": "stderr",
     "output_type": "stream",
     "text": [
      "246batch [00:04, 52.39batch/s]\n",
      "0batch [00:00, ?batch/s]"
     ]
    },
    {
     "name": "stdout",
     "output_type": "stream",
     "text": [
      "--------------------------------\n",
      "| batch_size        | 32       |\n",
      "| bc/               |          |\n",
      "|    batch          | 0        |\n",
      "|    ent_loss       | -0.00048 |\n",
      "|    entropy        | 0.48     |\n",
      "|    epoch          | 0        |\n",
      "|    l2_loss        | 0        |\n",
      "|    l2_norm        | 9.59e+04 |\n",
      "|    loss           | 0.119    |\n",
      "|    neglogp        | 0.12     |\n",
      "|    prob_true_act  | 0.917    |\n",
      "|    samples_so_far | 32       |\n",
      "--------------------------------\n"
     ]
    },
    {
     "name": "stderr",
     "output_type": "stream",
     "text": [
      "246batch [00:04, 50.26batch/s]\n",
      "0batch [00:00, ?batch/s]"
     ]
    },
    {
     "name": "stdout",
     "output_type": "stream",
     "text": [
      "--------------------------------\n",
      "| batch_size        | 32       |\n",
      "| bc/               |          |\n",
      "|    batch          | 0        |\n",
      "|    ent_loss       | -0.00066 |\n",
      "|    entropy        | 0.66     |\n",
      "|    epoch          | 0        |\n",
      "|    l2_loss        | 0        |\n",
      "|    l2_norm        | 9.67e+04 |\n",
      "|    loss           | 0.16     |\n",
      "|    neglogp        | 0.161    |\n",
      "|    prob_true_act  | 0.883    |\n",
      "|    samples_so_far | 32       |\n",
      "--------------------------------\n"
     ]
    },
    {
     "name": "stderr",
     "output_type": "stream",
     "text": [
      "246batch [00:04, 49.71batch/s]\n",
      "0batch [00:00, ?batch/s]"
     ]
    },
    {
     "name": "stdout",
     "output_type": "stream",
     "text": [
      "---------------------------------\n",
      "| batch_size        | 32        |\n",
      "| bc/               |           |\n",
      "|    batch          | 0         |\n",
      "|    ent_loss       | -0.000935 |\n",
      "|    entropy        | 0.935     |\n",
      "|    epoch          | 0         |\n",
      "|    l2_loss        | 0         |\n",
      "|    l2_norm        | 9.74e+04  |\n",
      "|    loss           | 0.21      |\n",
      "|    neglogp        | 0.211     |\n",
      "|    prob_true_act  | 0.836     |\n",
      "|    samples_so_far | 32        |\n",
      "---------------------------------\n"
     ]
    },
    {
     "name": "stderr",
     "output_type": "stream",
     "text": [
      "246batch [00:04, 56.42batch/s]\n",
      "0batch [00:00, ?batch/s]"
     ]
    },
    {
     "name": "stdout",
     "output_type": "stream",
     "text": [
      "--------------------------------\n",
      "| batch_size        | 32       |\n",
      "| bc/               |          |\n",
      "|    batch          | 0        |\n",
      "|    ent_loss       | -0.00062 |\n",
      "|    entropy        | 0.62     |\n",
      "|    epoch          | 0        |\n",
      "|    l2_loss        | 0        |\n",
      "|    l2_norm        | 9.81e+04 |\n",
      "|    loss           | 0.122    |\n",
      "|    neglogp        | 0.123    |\n",
      "|    prob_true_act  | 0.901    |\n",
      "|    samples_so_far | 32       |\n",
      "--------------------------------\n"
     ]
    },
    {
     "name": "stderr",
     "output_type": "stream",
     "text": [
      "246batch [00:04, 58.25batch/s]\n",
      "0batch [00:00, ?batch/s]"
     ]
    },
    {
     "name": "stdout",
     "output_type": "stream",
     "text": [
      "---------------------------------\n",
      "| batch_size        | 32        |\n",
      "| bc/               |           |\n",
      "|    batch          | 0         |\n",
      "|    ent_loss       | -0.000568 |\n",
      "|    entropy        | 0.568     |\n",
      "|    epoch          | 0         |\n",
      "|    l2_loss        | 0         |\n",
      "|    l2_norm        | 9.87e+04  |\n",
      "|    loss           | 0.133     |\n",
      "|    neglogp        | 0.134     |\n",
      "|    prob_true_act  | 0.902     |\n",
      "|    samples_so_far | 32        |\n",
      "---------------------------------\n"
     ]
    },
    {
     "name": "stderr",
     "output_type": "stream",
     "text": [
      "246batch [00:04, 59.62batch/s]\n",
      "0batch [00:00, ?batch/s]"
     ]
    },
    {
     "name": "stdout",
     "output_type": "stream",
     "text": [
      "---------------------------------\n",
      "| batch_size        | 32        |\n",
      "| bc/               |           |\n",
      "|    batch          | 0         |\n",
      "|    ent_loss       | -0.000606 |\n",
      "|    entropy        | 0.606     |\n",
      "|    epoch          | 0         |\n",
      "|    l2_loss        | 0         |\n",
      "|    l2_norm        | 9.94e+04  |\n",
      "|    loss           | 0.112     |\n",
      "|    neglogp        | 0.113     |\n",
      "|    prob_true_act  | 0.906     |\n",
      "|    samples_so_far | 32        |\n",
      "---------------------------------\n"
     ]
    },
    {
     "name": "stderr",
     "output_type": "stream",
     "text": [
      "246batch [00:04, 60.92batch/s]\n",
      "0batch [00:00, ?batch/s]"
     ]
    },
    {
     "name": "stdout",
     "output_type": "stream",
     "text": [
      "--------------------------------\n",
      "| batch_size        | 32       |\n",
      "| bc/               |          |\n",
      "|    batch          | 0        |\n",
      "|    ent_loss       | -0.00086 |\n",
      "|    entropy        | 0.86     |\n",
      "|    epoch          | 0        |\n",
      "|    l2_loss        | 0        |\n",
      "|    l2_norm        | 1e+05    |\n",
      "|    loss           | 0.215    |\n",
      "|    neglogp        | 0.216    |\n",
      "|    prob_true_act  | 0.839    |\n",
      "|    samples_so_far | 32       |\n",
      "--------------------------------\n"
     ]
    },
    {
     "name": "stderr",
     "output_type": "stream",
     "text": [
      "246batch [00:04, 60.51batch/s]\n",
      "0batch [00:00, ?batch/s]"
     ]
    },
    {
     "name": "stdout",
     "output_type": "stream",
     "text": [
      "---------------------------------\n",
      "| batch_size        | 32        |\n",
      "| bc/               |           |\n",
      "|    batch          | 0         |\n",
      "|    ent_loss       | -0.000394 |\n",
      "|    entropy        | 0.394     |\n",
      "|    epoch          | 0         |\n",
      "|    l2_loss        | 0         |\n",
      "|    l2_norm        | 1.01e+05  |\n",
      "|    loss           | 0.0957    |\n",
      "|    neglogp        | 0.0961    |\n",
      "|    prob_true_act  | 0.927     |\n",
      "|    samples_so_far | 32        |\n",
      "---------------------------------\n"
     ]
    },
    {
     "name": "stderr",
     "output_type": "stream",
     "text": [
      "246batch [00:04, 59.68batch/s]\n",
      "0batch [00:00, ?batch/s]"
     ]
    },
    {
     "name": "stdout",
     "output_type": "stream",
     "text": [
      "---------------------------------\n",
      "| batch_size        | 32        |\n",
      "| bc/               |           |\n",
      "|    batch          | 0         |\n",
      "|    ent_loss       | -0.000634 |\n",
      "|    entropy        | 0.634     |\n",
      "|    epoch          | 0         |\n",
      "|    l2_loss        | 0         |\n",
      "|    l2_norm        | 1.01e+05  |\n",
      "|    loss           | 0.162     |\n",
      "|    neglogp        | 0.162     |\n",
      "|    prob_true_act  | 0.881     |\n",
      "|    samples_so_far | 32        |\n",
      "---------------------------------\n"
     ]
    },
    {
     "name": "stderr",
     "output_type": "stream",
     "text": [
      "246batch [00:04, 61.02batch/s]\n",
      "0batch [00:00, ?batch/s]"
     ]
    },
    {
     "name": "stdout",
     "output_type": "stream",
     "text": [
      "---------------------------------\n",
      "| batch_size        | 32        |\n",
      "| bc/               |           |\n",
      "|    batch          | 0         |\n",
      "|    ent_loss       | -0.000408 |\n",
      "|    entropy        | 0.408     |\n",
      "|    epoch          | 0         |\n",
      "|    l2_loss        | 0         |\n",
      "|    l2_norm        | 1.02e+05  |\n",
      "|    loss           | 0.0915    |\n",
      "|    neglogp        | 0.0919    |\n",
      "|    prob_true_act  | 0.93      |\n",
      "|    samples_so_far | 32        |\n",
      "---------------------------------\n"
     ]
    },
    {
     "name": "stderr",
     "output_type": "stream",
     "text": [
      "246batch [00:04, 60.62batch/s]\n",
      "0batch [00:00, ?batch/s]"
     ]
    },
    {
     "name": "stdout",
     "output_type": "stream",
     "text": [
      "--------------------------------\n",
      "| batch_size        | 32       |\n",
      "| bc/               |          |\n",
      "|    batch          | 0        |\n",
      "|    ent_loss       | -0.00036 |\n",
      "|    entropy        | 0.36     |\n",
      "|    epoch          | 0        |\n",
      "|    l2_loss        | 0        |\n",
      "|    l2_norm        | 1.02e+05 |\n",
      "|    loss           | 0.0679   |\n",
      "|    neglogp        | 0.0682   |\n",
      "|    prob_true_act  | 0.941    |\n",
      "|    samples_so_far | 32       |\n",
      "--------------------------------\n"
     ]
    },
    {
     "name": "stderr",
     "output_type": "stream",
     "text": [
      "246batch [00:04, 58.59batch/s]\n",
      "0batch [00:00, ?batch/s]"
     ]
    },
    {
     "name": "stdout",
     "output_type": "stream",
     "text": [
      "---------------------------------\n",
      "| batch_size        | 32        |\n",
      "| bc/               |           |\n",
      "|    batch          | 0         |\n",
      "|    ent_loss       | -0.000332 |\n",
      "|    entropy        | 0.332     |\n",
      "|    epoch          | 0         |\n",
      "|    l2_loss        | 0         |\n",
      "|    l2_norm        | 1.03e+05  |\n",
      "|    loss           | 0.0559    |\n",
      "|    neglogp        | 0.0562    |\n",
      "|    prob_true_act  | 0.95      |\n",
      "|    samples_so_far | 32        |\n",
      "---------------------------------\n"
     ]
    },
    {
     "name": "stderr",
     "output_type": "stream",
     "text": [
      "246batch [00:04, 59.90batch/s]\n",
      "0batch [00:00, ?batch/s]"
     ]
    },
    {
     "name": "stdout",
     "output_type": "stream",
     "text": [
      "---------------------------------\n",
      "| batch_size        | 32        |\n",
      "| bc/               |           |\n",
      "|    batch          | 0         |\n",
      "|    ent_loss       | -0.000334 |\n",
      "|    entropy        | 0.334     |\n",
      "|    epoch          | 0         |\n",
      "|    l2_loss        | 0         |\n",
      "|    l2_norm        | 1.03e+05  |\n",
      "|    loss           | 0.0575    |\n",
      "|    neglogp        | 0.0578    |\n",
      "|    prob_true_act  | 0.951     |\n",
      "|    samples_so_far | 32        |\n",
      "---------------------------------\n"
     ]
    },
    {
     "name": "stderr",
     "output_type": "stream",
     "text": [
      "246batch [00:04, 59.77batch/s]\n",
      "0batch [00:00, ?batch/s]"
     ]
    },
    {
     "name": "stdout",
     "output_type": "stream",
     "text": [
      "---------------------------------\n",
      "| batch_size        | 32        |\n",
      "| bc/               |           |\n",
      "|    batch          | 0         |\n",
      "|    ent_loss       | -0.000429 |\n",
      "|    entropy        | 0.429     |\n",
      "|    epoch          | 0         |\n",
      "|    l2_loss        | 0         |\n",
      "|    l2_norm        | 1.04e+05  |\n",
      "|    loss           | 0.0786    |\n",
      "|    neglogp        | 0.079     |\n",
      "|    prob_true_act  | 0.933     |\n",
      "|    samples_so_far | 32        |\n",
      "---------------------------------\n"
     ]
    },
    {
     "name": "stderr",
     "output_type": "stream",
     "text": [
      "246batch [00:04, 58.81batch/s]\n",
      "0batch [00:00, ?batch/s]"
     ]
    },
    {
     "name": "stdout",
     "output_type": "stream",
     "text": [
      "---------------------------------\n",
      "| batch_size        | 32        |\n",
      "| bc/               |           |\n",
      "|    batch          | 0         |\n",
      "|    ent_loss       | -0.000448 |\n",
      "|    entropy        | 0.448     |\n",
      "|    epoch          | 0         |\n",
      "|    l2_loss        | 0         |\n",
      "|    l2_norm        | 1.04e+05  |\n",
      "|    loss           | 0.147     |\n",
      "|    neglogp        | 0.147     |\n",
      "|    prob_true_act  | 0.903     |\n",
      "|    samples_so_far | 32        |\n",
      "---------------------------------\n"
     ]
    },
    {
     "name": "stderr",
     "output_type": "stream",
     "text": [
      "246batch [00:04, 59.96batch/s]\n",
      "0batch [00:00, ?batch/s]"
     ]
    },
    {
     "name": "stdout",
     "output_type": "stream",
     "text": [
      "--------------------------------\n",
      "| batch_size        | 32       |\n",
      "| bc/               |          |\n",
      "|    batch          | 0        |\n",
      "|    ent_loss       | -0.00057 |\n",
      "|    entropy        | 0.57     |\n",
      "|    epoch          | 0        |\n",
      "|    l2_loss        | 0        |\n",
      "|    l2_norm        | 1.05e+05 |\n",
      "|    loss           | 0.168    |\n",
      "|    neglogp        | 0.169    |\n",
      "|    prob_true_act  | 0.884    |\n",
      "|    samples_so_far | 32       |\n",
      "--------------------------------\n"
     ]
    },
    {
     "name": "stderr",
     "output_type": "stream",
     "text": [
      "246batch [00:04, 60.38batch/s]\n",
      "0batch [00:00, ?batch/s]"
     ]
    },
    {
     "name": "stdout",
     "output_type": "stream",
     "text": [
      "---------------------------------\n",
      "| batch_size        | 32        |\n",
      "| bc/               |           |\n",
      "|    batch          | 0         |\n",
      "|    ent_loss       | -0.000535 |\n",
      "|    entropy        | 0.535     |\n",
      "|    epoch          | 0         |\n",
      "|    l2_loss        | 0         |\n",
      "|    l2_norm        | 1.05e+05  |\n",
      "|    loss           | 0.125     |\n",
      "|    neglogp        | 0.126     |\n",
      "|    prob_true_act  | 0.901     |\n",
      "|    samples_so_far | 32        |\n",
      "---------------------------------\n"
     ]
    },
    {
     "name": "stderr",
     "output_type": "stream",
     "text": [
      "246batch [00:04, 59.14batch/s]\n",
      "0batch [00:00, ?batch/s]"
     ]
    },
    {
     "name": "stdout",
     "output_type": "stream",
     "text": [
      "---------------------------------\n",
      "| batch_size        | 32        |\n",
      "| bc/               |           |\n",
      "|    batch          | 0         |\n",
      "|    ent_loss       | -0.000554 |\n",
      "|    entropy        | 0.554     |\n",
      "|    epoch          | 0         |\n",
      "|    l2_loss        | 0         |\n",
      "|    l2_norm        | 1.06e+05  |\n",
      "|    loss           | 0.162     |\n",
      "|    neglogp        | 0.163     |\n",
      "|    prob_true_act  | 0.886     |\n",
      "|    samples_so_far | 32        |\n",
      "---------------------------------\n"
     ]
    },
    {
     "name": "stderr",
     "output_type": "stream",
     "text": [
      "246batch [00:04, 60.63batch/s]\n",
      "0batch [00:00, ?batch/s]"
     ]
    },
    {
     "name": "stdout",
     "output_type": "stream",
     "text": [
      "---------------------------------\n",
      "| batch_size        | 32        |\n",
      "| bc/               |           |\n",
      "|    batch          | 0         |\n",
      "|    ent_loss       | -0.000174 |\n",
      "|    entropy        | 0.174     |\n",
      "|    epoch          | 0         |\n",
      "|    l2_loss        | 0         |\n",
      "|    l2_norm        | 1.06e+05  |\n",
      "|    loss           | 0.0281    |\n",
      "|    neglogp        | 0.0283    |\n",
      "|    prob_true_act  | 0.974     |\n",
      "|    samples_so_far | 32        |\n",
      "---------------------------------\n"
     ]
    },
    {
     "name": "stderr",
     "output_type": "stream",
     "text": [
      "246batch [00:04, 59.73batch/s]\n",
      "0batch [00:00, ?batch/s]"
     ]
    },
    {
     "name": "stdout",
     "output_type": "stream",
     "text": [
      "---------------------------------\n",
      "| batch_size        | 32        |\n",
      "| bc/               |           |\n",
      "|    batch          | 0         |\n",
      "|    ent_loss       | -0.000267 |\n",
      "|    entropy        | 0.267     |\n",
      "|    epoch          | 0         |\n",
      "|    l2_loss        | 0         |\n",
      "|    l2_norm        | 1.06e+05  |\n",
      "|    loss           | 0.0448    |\n",
      "|    neglogp        | 0.045     |\n",
      "|    prob_true_act  | 0.959     |\n",
      "|    samples_so_far | 32        |\n",
      "---------------------------------\n"
     ]
    },
    {
     "name": "stderr",
     "output_type": "stream",
     "text": [
      "246batch [00:04, 58.59batch/s]\n",
      "0batch [00:00, ?batch/s]"
     ]
    },
    {
     "name": "stdout",
     "output_type": "stream",
     "text": [
      "---------------------------------\n",
      "| batch_size        | 32        |\n",
      "| bc/               |           |\n",
      "|    batch          | 0         |\n",
      "|    ent_loss       | -0.000292 |\n",
      "|    entropy        | 0.292     |\n",
      "|    epoch          | 0         |\n",
      "|    l2_loss        | 0         |\n",
      "|    l2_norm        | 1.07e+05  |\n",
      "|    loss           | 0.0473    |\n",
      "|    neglogp        | 0.0475    |\n",
      "|    prob_true_act  | 0.957     |\n",
      "|    samples_so_far | 32        |\n",
      "---------------------------------\n"
     ]
    },
    {
     "name": "stderr",
     "output_type": "stream",
     "text": [
      "246batch [00:04, 60.12batch/s]\n",
      "0batch [00:00, ?batch/s]"
     ]
    },
    {
     "name": "stdout",
     "output_type": "stream",
     "text": [
      "---------------------------------\n",
      "| batch_size        | 32        |\n",
      "| bc/               |           |\n",
      "|    batch          | 0         |\n",
      "|    ent_loss       | -0.000192 |\n",
      "|    entropy        | 0.192     |\n",
      "|    epoch          | 0         |\n",
      "|    l2_loss        | 0         |\n",
      "|    l2_norm        | 1.07e+05  |\n",
      "|    loss           | 0.0287    |\n",
      "|    neglogp        | 0.0289    |\n",
      "|    prob_true_act  | 0.973     |\n",
      "|    samples_so_far | 32        |\n",
      "---------------------------------\n"
     ]
    },
    {
     "name": "stderr",
     "output_type": "stream",
     "text": [
      "246batch [00:04, 59.55batch/s]\n",
      "0batch [00:00, ?batch/s]"
     ]
    },
    {
     "name": "stdout",
     "output_type": "stream",
     "text": [
      "---------------------------------\n",
      "| batch_size        | 32        |\n",
      "| bc/               |           |\n",
      "|    batch          | 0         |\n",
      "|    ent_loss       | -0.000391 |\n",
      "|    entropy        | 0.391     |\n",
      "|    epoch          | 0         |\n",
      "|    l2_loss        | 0         |\n",
      "|    l2_norm        | 1.08e+05  |\n",
      "|    loss           | 0.0839    |\n",
      "|    neglogp        | 0.0843    |\n",
      "|    prob_true_act  | 0.93      |\n",
      "|    samples_so_far | 32        |\n",
      "---------------------------------\n"
     ]
    },
    {
     "name": "stderr",
     "output_type": "stream",
     "text": [
      "246batch [00:04, 59.48batch/s]\n",
      "0batch [00:00, ?batch/s]"
     ]
    },
    {
     "name": "stdout",
     "output_type": "stream",
     "text": [
      "---------------------------------\n",
      "| batch_size        | 32        |\n",
      "| bc/               |           |\n",
      "|    batch          | 0         |\n",
      "|    ent_loss       | -0.000296 |\n",
      "|    entropy        | 0.296     |\n",
      "|    epoch          | 0         |\n",
      "|    l2_loss        | 0         |\n",
      "|    l2_norm        | 1.08e+05  |\n",
      "|    loss           | 0.05      |\n",
      "|    neglogp        | 0.0503    |\n",
      "|    prob_true_act  | 0.955     |\n",
      "|    samples_so_far | 32        |\n",
      "---------------------------------\n"
     ]
    },
    {
     "name": "stderr",
     "output_type": "stream",
     "text": [
      "246batch [00:04, 61.25batch/s]\n",
      "0batch [00:00, ?batch/s]"
     ]
    },
    {
     "name": "stdout",
     "output_type": "stream",
     "text": [
      "---------------------------------\n",
      "| batch_size        | 32        |\n",
      "| bc/               |           |\n",
      "|    batch          | 0         |\n",
      "|    ent_loss       | -0.000232 |\n",
      "|    entropy        | 0.232     |\n",
      "|    epoch          | 0         |\n",
      "|    l2_loss        | 0         |\n",
      "|    l2_norm        | 1.08e+05  |\n",
      "|    loss           | 0.0347    |\n",
      "|    neglogp        | 0.0349    |\n",
      "|    prob_true_act  | 0.967     |\n",
      "|    samples_so_far | 32        |\n",
      "---------------------------------\n"
     ]
    },
    {
     "name": "stderr",
     "output_type": "stream",
     "text": [
      "246batch [00:03, 61.61batch/s]\n",
      "0batch [00:00, ?batch/s]"
     ]
    },
    {
     "name": "stdout",
     "output_type": "stream",
     "text": [
      "---------------------------------\n",
      "| batch_size        | 32        |\n",
      "| bc/               |           |\n",
      "|    batch          | 0         |\n",
      "|    ent_loss       | -0.000346 |\n",
      "|    entropy        | 0.346     |\n",
      "|    epoch          | 0         |\n",
      "|    l2_loss        | 0         |\n",
      "|    l2_norm        | 1.09e+05  |\n",
      "|    loss           | 0.0897    |\n",
      "|    neglogp        | 0.0901    |\n",
      "|    prob_true_act  | 0.935     |\n",
      "|    samples_so_far | 32        |\n",
      "---------------------------------\n"
     ]
    },
    {
     "name": "stderr",
     "output_type": "stream",
     "text": [
      "246batch [00:04, 60.72batch/s]\n",
      "0batch [00:00, ?batch/s]"
     ]
    },
    {
     "name": "stdout",
     "output_type": "stream",
     "text": [
      "---------------------------------\n",
      "| batch_size        | 32        |\n",
      "| bc/               |           |\n",
      "|    batch          | 0         |\n",
      "|    ent_loss       | -0.000224 |\n",
      "|    entropy        | 0.224     |\n",
      "|    epoch          | 0         |\n",
      "|    l2_loss        | 0         |\n",
      "|    l2_norm        | 1.09e+05  |\n",
      "|    loss           | 0.0755    |\n",
      "|    neglogp        | 0.0757    |\n",
      "|    prob_true_act  | 0.947     |\n",
      "|    samples_so_far | 32        |\n",
      "---------------------------------\n"
     ]
    },
    {
     "name": "stderr",
     "output_type": "stream",
     "text": [
      "246batch [00:04, 60.92batch/s]\n",
      "0batch [00:00, ?batch/s]"
     ]
    },
    {
     "name": "stdout",
     "output_type": "stream",
     "text": [
      "---------------------------------\n",
      "| batch_size        | 32        |\n",
      "| bc/               |           |\n",
      "|    batch          | 0         |\n",
      "|    ent_loss       | -0.000382 |\n",
      "|    entropy        | 0.382     |\n",
      "|    epoch          | 0         |\n",
      "|    l2_loss        | 0         |\n",
      "|    l2_norm        | 1.09e+05  |\n",
      "|    loss           | 0.0915    |\n",
      "|    neglogp        | 0.0919    |\n",
      "|    prob_true_act  | 0.928     |\n",
      "|    samples_so_far | 32        |\n",
      "---------------------------------\n"
     ]
    },
    {
     "name": "stderr",
     "output_type": "stream",
     "text": [
      "246batch [00:04, 60.84batch/s]\n",
      "0batch [00:00, ?batch/s]"
     ]
    },
    {
     "name": "stdout",
     "output_type": "stream",
     "text": [
      "--------------------------------\n",
      "| batch_size        | 32       |\n",
      "| bc/               |          |\n",
      "|    batch          | 0        |\n",
      "|    ent_loss       | -0.00024 |\n",
      "|    entropy        | 0.24     |\n",
      "|    epoch          | 0        |\n",
      "|    l2_loss        | 0        |\n",
      "|    l2_norm        | 1.1e+05  |\n",
      "|    loss           | 0.0583   |\n",
      "|    neglogp        | 0.0586   |\n",
      "|    prob_true_act  | 0.955    |\n",
      "|    samples_so_far | 32       |\n",
      "--------------------------------\n"
     ]
    },
    {
     "name": "stderr",
     "output_type": "stream",
     "text": [
      "246batch [00:04, 59.47batch/s]\n",
      "0batch [00:00, ?batch/s]"
     ]
    },
    {
     "name": "stdout",
     "output_type": "stream",
     "text": [
      "---------------------------------\n",
      "| batch_size        | 32        |\n",
      "| bc/               |           |\n",
      "|    batch          | 0         |\n",
      "|    ent_loss       | -0.000242 |\n",
      "|    entropy        | 0.242     |\n",
      "|    epoch          | 0         |\n",
      "|    l2_loss        | 0         |\n",
      "|    l2_norm        | 1.1e+05   |\n",
      "|    loss           | 0.0448    |\n",
      "|    neglogp        | 0.045     |\n",
      "|    prob_true_act  | 0.96      |\n",
      "|    samples_so_far | 32        |\n",
      "---------------------------------\n"
     ]
    },
    {
     "name": "stderr",
     "output_type": "stream",
     "text": [
      "246batch [00:03, 61.57batch/s]\n",
      "0batch [00:00, ?batch/s]"
     ]
    },
    {
     "name": "stdout",
     "output_type": "stream",
     "text": [
      "--------------------------------\n",
      "| batch_size        | 32       |\n",
      "| bc/               |          |\n",
      "|    batch          | 0        |\n",
      "|    ent_loss       | -0.00031 |\n",
      "|    entropy        | 0.31     |\n",
      "|    epoch          | 0        |\n",
      "|    l2_loss        | 0        |\n",
      "|    l2_norm        | 1.1e+05  |\n",
      "|    loss           | 0.0506   |\n",
      "|    neglogp        | 0.051    |\n",
      "|    prob_true_act  | 0.954    |\n",
      "|    samples_so_far | 32       |\n",
      "--------------------------------\n"
     ]
    },
    {
     "name": "stderr",
     "output_type": "stream",
     "text": [
      "246batch [00:04, 61.24batch/s]\n",
      "0batch [00:00, ?batch/s]"
     ]
    },
    {
     "name": "stdout",
     "output_type": "stream",
     "text": [
      "---------------------------------\n",
      "| batch_size        | 32        |\n",
      "| bc/               |           |\n",
      "|    batch          | 0         |\n",
      "|    ent_loss       | -0.000204 |\n",
      "|    entropy        | 0.204     |\n",
      "|    epoch          | 0         |\n",
      "|    l2_loss        | 0         |\n",
      "|    l2_norm        | 1.1e+05   |\n",
      "|    loss           | 0.0293    |\n",
      "|    neglogp        | 0.0295    |\n",
      "|    prob_true_act  | 0.972     |\n",
      "|    samples_so_far | 32        |\n",
      "---------------------------------\n"
     ]
    },
    {
     "name": "stderr",
     "output_type": "stream",
     "text": [
      "246batch [00:04, 59.74batch/s]\n",
      "0batch [00:00, ?batch/s]"
     ]
    },
    {
     "name": "stdout",
     "output_type": "stream",
     "text": [
      "--------------------------------\n",
      "| batch_size        | 32       |\n",
      "| bc/               |          |\n",
      "|    batch          | 0        |\n",
      "|    ent_loss       | -0.0002  |\n",
      "|    entropy        | 0.2      |\n",
      "|    epoch          | 0        |\n",
      "|    l2_loss        | 0        |\n",
      "|    l2_norm        | 1.11e+05 |\n",
      "|    loss           | 0.0533   |\n",
      "|    neglogp        | 0.0535   |\n",
      "|    prob_true_act  | 0.96     |\n",
      "|    samples_so_far | 32       |\n",
      "--------------------------------\n"
     ]
    },
    {
     "name": "stderr",
     "output_type": "stream",
     "text": [
      "246batch [00:04, 61.15batch/s]\n"
     ]
    },
    {
     "name": "stdout",
     "output_type": "stream",
     "text": [
      "Checkpoint saved at checkpoints\\bc_model_epoch_100.zip\n"
     ]
    },
    {
     "name": "stderr",
     "output_type": "stream",
     "text": [
      "0batch [00:00, ?batch/s]"
     ]
    },
    {
     "name": "stdout",
     "output_type": "stream",
     "text": [
      "---------------------------------\n",
      "| batch_size        | 32        |\n",
      "| bc/               |           |\n",
      "|    batch          | 0         |\n",
      "|    ent_loss       | -0.000233 |\n",
      "|    entropy        | 0.233     |\n",
      "|    epoch          | 0         |\n",
      "|    l2_loss        | 0         |\n",
      "|    l2_norm        | 1.11e+05  |\n",
      "|    loss           | 0.0378    |\n",
      "|    neglogp        | 0.038     |\n",
      "|    prob_true_act  | 0.965     |\n",
      "|    samples_so_far | 32        |\n",
      "---------------------------------\n"
     ]
    },
    {
     "name": "stderr",
     "output_type": "stream",
     "text": [
      "246batch [00:04, 59.46batch/s]\n",
      "0batch [00:00, ?batch/s]"
     ]
    },
    {
     "name": "stdout",
     "output_type": "stream",
     "text": [
      "---------------------------------\n",
      "| batch_size        | 32        |\n",
      "| bc/               |           |\n",
      "|    batch          | 0         |\n",
      "|    ent_loss       | -0.000209 |\n",
      "|    entropy        | 0.209     |\n",
      "|    epoch          | 0         |\n",
      "|    l2_loss        | 0         |\n",
      "|    l2_norm        | 1.11e+05  |\n",
      "|    loss           | 0.0325    |\n",
      "|    neglogp        | 0.0327    |\n",
      "|    prob_true_act  | 0.97      |\n",
      "|    samples_so_far | 32        |\n",
      "---------------------------------\n"
     ]
    },
    {
     "name": "stderr",
     "output_type": "stream",
     "text": [
      "246batch [00:04, 57.97batch/s]\n",
      "0batch [00:00, ?batch/s]"
     ]
    },
    {
     "name": "stdout",
     "output_type": "stream",
     "text": [
      "---------------------------------\n",
      "| batch_size        | 32        |\n",
      "| bc/               |           |\n",
      "|    batch          | 0         |\n",
      "|    ent_loss       | -0.000127 |\n",
      "|    entropy        | 0.127     |\n",
      "|    epoch          | 0         |\n",
      "|    l2_loss        | 0         |\n",
      "|    l2_norm        | 1.11e+05  |\n",
      "|    loss           | 0.0223    |\n",
      "|    neglogp        | 0.0224    |\n",
      "|    prob_true_act  | 0.979     |\n",
      "|    samples_so_far | 32        |\n",
      "---------------------------------\n"
     ]
    },
    {
     "name": "stderr",
     "output_type": "stream",
     "text": [
      "246batch [00:04, 59.42batch/s]\n",
      "0batch [00:00, ?batch/s]"
     ]
    },
    {
     "name": "stdout",
     "output_type": "stream",
     "text": [
      "---------------------------------\n",
      "| batch_size        | 32        |\n",
      "| bc/               |           |\n",
      "|    batch          | 0         |\n",
      "|    ent_loss       | -0.000263 |\n",
      "|    entropy        | 0.263     |\n",
      "|    epoch          | 0         |\n",
      "|    l2_loss        | 0         |\n",
      "|    l2_norm        | 1.12e+05  |\n",
      "|    loss           | 0.0856    |\n",
      "|    neglogp        | 0.0859    |\n",
      "|    prob_true_act  | 0.944     |\n",
      "|    samples_so_far | 32        |\n",
      "---------------------------------\n"
     ]
    },
    {
     "name": "stderr",
     "output_type": "stream",
     "text": [
      "246batch [00:04, 58.98batch/s]\n",
      "0batch [00:00, ?batch/s]"
     ]
    },
    {
     "name": "stdout",
     "output_type": "stream",
     "text": [
      "---------------------------------\n",
      "| batch_size        | 32        |\n",
      "| bc/               |           |\n",
      "|    batch          | 0         |\n",
      "|    ent_loss       | -0.000186 |\n",
      "|    entropy        | 0.186     |\n",
      "|    epoch          | 0         |\n",
      "|    l2_loss        | 0         |\n",
      "|    l2_norm        | 1.12e+05  |\n",
      "|    loss           | 0.0482    |\n",
      "|    neglogp        | 0.0483    |\n",
      "|    prob_true_act  | 0.961     |\n",
      "|    samples_so_far | 32        |\n",
      "---------------------------------\n"
     ]
    },
    {
     "name": "stderr",
     "output_type": "stream",
     "text": [
      "246batch [00:04, 59.52batch/s]\n",
      "0batch [00:00, ?batch/s]"
     ]
    },
    {
     "name": "stdout",
     "output_type": "stream",
     "text": [
      "---------------------------------\n",
      "| batch_size        | 32        |\n",
      "| bc/               |           |\n",
      "|    batch          | 0         |\n",
      "|    ent_loss       | -0.000114 |\n",
      "|    entropy        | 0.114     |\n",
      "|    epoch          | 0         |\n",
      "|    l2_loss        | 0         |\n",
      "|    l2_norm        | 1.12e+05  |\n",
      "|    loss           | 0.0164    |\n",
      "|    neglogp        | 0.0165    |\n",
      "|    prob_true_act  | 0.984     |\n",
      "|    samples_so_far | 32        |\n",
      "---------------------------------\n"
     ]
    },
    {
     "name": "stderr",
     "output_type": "stream",
     "text": [
      "246batch [00:04, 57.16batch/s]\n",
      "0batch [00:00, ?batch/s]"
     ]
    },
    {
     "name": "stdout",
     "output_type": "stream",
     "text": [
      "---------------------------------\n",
      "| batch_size        | 32        |\n",
      "| bc/               |           |\n",
      "|    batch          | 0         |\n",
      "|    ent_loss       | -0.000102 |\n",
      "|    entropy        | 0.102     |\n",
      "|    epoch          | 0         |\n",
      "|    l2_loss        | 0         |\n",
      "|    l2_norm        | 1.12e+05  |\n",
      "|    loss           | 0.0129    |\n",
      "|    neglogp        | 0.013     |\n",
      "|    prob_true_act  | 0.987     |\n",
      "|    samples_so_far | 32        |\n",
      "---------------------------------\n"
     ]
    },
    {
     "name": "stderr",
     "output_type": "stream",
     "text": [
      "246batch [00:04, 60.69batch/s]\n",
      "0batch [00:00, ?batch/s]"
     ]
    },
    {
     "name": "stdout",
     "output_type": "stream",
     "text": [
      "---------------------------------\n",
      "| batch_size        | 32        |\n",
      "| bc/               |           |\n",
      "|    batch          | 0         |\n",
      "|    ent_loss       | -0.000232 |\n",
      "|    entropy        | 0.232     |\n",
      "|    epoch          | 0         |\n",
      "|    l2_loss        | 0         |\n",
      "|    l2_norm        | 1.13e+05  |\n",
      "|    loss           | 0.0687    |\n",
      "|    neglogp        | 0.0689    |\n",
      "|    prob_true_act  | 0.951     |\n",
      "|    samples_so_far | 32        |\n",
      "---------------------------------\n"
     ]
    },
    {
     "name": "stderr",
     "output_type": "stream",
     "text": [
      "246batch [00:04, 59.49batch/s]\n",
      "0batch [00:00, ?batch/s]"
     ]
    },
    {
     "name": "stdout",
     "output_type": "stream",
     "text": [
      "---------------------------------\n",
      "| batch_size        | 32        |\n",
      "| bc/               |           |\n",
      "|    batch          | 0         |\n",
      "|    ent_loss       | -0.000142 |\n",
      "|    entropy        | 0.142     |\n",
      "|    epoch          | 0         |\n",
      "|    l2_loss        | 0         |\n",
      "|    l2_norm        | 1.13e+05  |\n",
      "|    loss           | 0.0225    |\n",
      "|    neglogp        | 0.0226    |\n",
      "|    prob_true_act  | 0.979     |\n",
      "|    samples_so_far | 32        |\n",
      "---------------------------------\n"
     ]
    },
    {
     "name": "stderr",
     "output_type": "stream",
     "text": [
      "246batch [00:04, 58.78batch/s]\n",
      "0batch [00:00, ?batch/s]"
     ]
    },
    {
     "name": "stdout",
     "output_type": "stream",
     "text": [
      "--------------------------------\n",
      "| batch_size        | 32       |\n",
      "| bc/               |          |\n",
      "|    batch          | 0        |\n",
      "|    ent_loss       | -0.00015 |\n",
      "|    entropy        | 0.15     |\n",
      "|    epoch          | 0        |\n",
      "|    l2_loss        | 0        |\n",
      "|    l2_norm        | 1.13e+05 |\n",
      "|    loss           | 0.0268   |\n",
      "|    neglogp        | 0.0269   |\n",
      "|    prob_true_act  | 0.975    |\n",
      "|    samples_so_far | 32       |\n",
      "--------------------------------\n"
     ]
    },
    {
     "name": "stderr",
     "output_type": "stream",
     "text": [
      "246batch [00:04, 59.74batch/s]\n",
      "0batch [00:00, ?batch/s]"
     ]
    },
    {
     "name": "stdout",
     "output_type": "stream",
     "text": [
      "---------------------------------\n",
      "| batch_size        | 32        |\n",
      "| bc/               |           |\n",
      "|    batch          | 0         |\n",
      "|    ent_loss       | -0.000132 |\n",
      "|    entropy        | 0.132     |\n",
      "|    epoch          | 0         |\n",
      "|    l2_loss        | 0         |\n",
      "|    l2_norm        | 1.13e+05  |\n",
      "|    loss           | 0.0183    |\n",
      "|    neglogp        | 0.0185    |\n",
      "|    prob_true_act  | 0.982     |\n",
      "|    samples_so_far | 32        |\n",
      "---------------------------------\n"
     ]
    },
    {
     "name": "stderr",
     "output_type": "stream",
     "text": [
      "246batch [00:04, 60.07batch/s]\n",
      "0batch [00:00, ?batch/s]"
     ]
    },
    {
     "name": "stdout",
     "output_type": "stream",
     "text": [
      "---------------------------------\n",
      "| batch_size        | 32        |\n",
      "| bc/               |           |\n",
      "|    batch          | 0         |\n",
      "|    ent_loss       | -0.000239 |\n",
      "|    entropy        | 0.239     |\n",
      "|    epoch          | 0         |\n",
      "|    l2_loss        | 0         |\n",
      "|    l2_norm        | 1.14e+05  |\n",
      "|    loss           | 0.054     |\n",
      "|    neglogp        | 0.0543    |\n",
      "|    prob_true_act  | 0.955     |\n",
      "|    samples_so_far | 32        |\n",
      "---------------------------------\n"
     ]
    },
    {
     "name": "stderr",
     "output_type": "stream",
     "text": [
      "246batch [00:04, 59.57batch/s]\n",
      "0batch [00:00, ?batch/s]"
     ]
    },
    {
     "name": "stdout",
     "output_type": "stream",
     "text": [
      "---------------------------------\n",
      "| batch_size        | 32        |\n",
      "| bc/               |           |\n",
      "|    batch          | 0         |\n",
      "|    ent_loss       | -0.000109 |\n",
      "|    entropy        | 0.109     |\n",
      "|    epoch          | 0         |\n",
      "|    l2_loss        | 0         |\n",
      "|    l2_norm        | 1.14e+05  |\n",
      "|    loss           | 0.0158    |\n",
      "|    neglogp        | 0.0159    |\n",
      "|    prob_true_act  | 0.985     |\n",
      "|    samples_so_far | 32        |\n",
      "---------------------------------\n"
     ]
    },
    {
     "name": "stderr",
     "output_type": "stream",
     "text": [
      "246batch [00:04, 59.82batch/s]\n",
      "0batch [00:00, ?batch/s]"
     ]
    },
    {
     "name": "stdout",
     "output_type": "stream",
     "text": [
      "---------------------------------\n",
      "| batch_size        | 32        |\n",
      "| bc/               |           |\n",
      "|    batch          | 0         |\n",
      "|    ent_loss       | -0.000236 |\n",
      "|    entropy        | 0.236     |\n",
      "|    epoch          | 0         |\n",
      "|    l2_loss        | 0         |\n",
      "|    l2_norm        | 1.14e+05  |\n",
      "|    loss           | 0.147     |\n",
      "|    neglogp        | 0.147     |\n",
      "|    prob_true_act  | 0.915     |\n",
      "|    samples_so_far | 32        |\n",
      "---------------------------------\n"
     ]
    },
    {
     "name": "stderr",
     "output_type": "stream",
     "text": [
      "246batch [00:04, 59.58batch/s]\n",
      "0batch [00:00, ?batch/s]"
     ]
    },
    {
     "name": "stdout",
     "output_type": "stream",
     "text": [
      "---------------------------------\n",
      "| batch_size        | 32        |\n",
      "| bc/               |           |\n",
      "|    batch          | 0         |\n",
      "|    ent_loss       | -0.000109 |\n",
      "|    entropy        | 0.109     |\n",
      "|    epoch          | 0         |\n",
      "|    l2_loss        | 0         |\n",
      "|    l2_norm        | 1.14e+05  |\n",
      "|    loss           | 0.0168    |\n",
      "|    neglogp        | 0.017     |\n",
      "|    prob_true_act  | 0.984     |\n",
      "|    samples_so_far | 32        |\n",
      "---------------------------------\n"
     ]
    },
    {
     "name": "stderr",
     "output_type": "stream",
     "text": [
      "246batch [00:04, 59.15batch/s]\n",
      "0batch [00:00, ?batch/s]"
     ]
    },
    {
     "name": "stdout",
     "output_type": "stream",
     "text": [
      "---------------------------------\n",
      "| batch_size        | 32        |\n",
      "| bc/               |           |\n",
      "|    batch          | 0         |\n",
      "|    ent_loss       | -3.72e-05 |\n",
      "|    entropy        | 0.0372    |\n",
      "|    epoch          | 0         |\n",
      "|    l2_loss        | 0         |\n",
      "|    l2_norm        | 1.15e+05  |\n",
      "|    loss           | 0.00429   |\n",
      "|    neglogp        | 0.00433   |\n",
      "|    prob_true_act  | 0.996     |\n",
      "|    samples_so_far | 32        |\n",
      "---------------------------------\n"
     ]
    },
    {
     "name": "stderr",
     "output_type": "stream",
     "text": [
      "246batch [00:04, 60.94batch/s]\n",
      "0batch [00:00, ?batch/s]"
     ]
    },
    {
     "name": "stdout",
     "output_type": "stream",
     "text": [
      "---------------------------------\n",
      "| batch_size        | 32        |\n",
      "| bc/               |           |\n",
      "|    batch          | 0         |\n",
      "|    ent_loss       | -0.000124 |\n",
      "|    entropy        | 0.124     |\n",
      "|    epoch          | 0         |\n",
      "|    l2_loss        | 0         |\n",
      "|    l2_norm        | 1.15e+05  |\n",
      "|    loss           | 0.0337    |\n",
      "|    neglogp        | 0.0338    |\n",
      "|    prob_true_act  | 0.973     |\n",
      "|    samples_so_far | 32        |\n",
      "---------------------------------\n"
     ]
    },
    {
     "name": "stderr",
     "output_type": "stream",
     "text": [
      "246batch [00:04, 60.17batch/s]\n",
      "0batch [00:00, ?batch/s]"
     ]
    },
    {
     "name": "stdout",
     "output_type": "stream",
     "text": [
      "---------------------------------\n",
      "| batch_size        | 32        |\n",
      "| bc/               |           |\n",
      "|    batch          | 0         |\n",
      "|    ent_loss       | -0.000127 |\n",
      "|    entropy        | 0.127     |\n",
      "|    epoch          | 0         |\n",
      "|    l2_loss        | 0         |\n",
      "|    l2_norm        | 1.15e+05  |\n",
      "|    loss           | 0.0331    |\n",
      "|    neglogp        | 0.0332    |\n",
      "|    prob_true_act  | 0.974     |\n",
      "|    samples_so_far | 32        |\n",
      "---------------------------------\n"
     ]
    },
    {
     "name": "stderr",
     "output_type": "stream",
     "text": [
      "246batch [00:04, 59.92batch/s]\n",
      "0batch [00:00, ?batch/s]"
     ]
    },
    {
     "name": "stdout",
     "output_type": "stream",
     "text": [
      "---------------------------------\n",
      "| batch_size        | 32        |\n",
      "| bc/               |           |\n",
      "|    batch          | 0         |\n",
      "|    ent_loss       | -6.11e-05 |\n",
      "|    entropy        | 0.0611    |\n",
      "|    epoch          | 0         |\n",
      "|    l2_loss        | 0         |\n",
      "|    l2_norm        | 1.15e+05  |\n",
      "|    loss           | 0.00778   |\n",
      "|    neglogp        | 0.00784   |\n",
      "|    prob_true_act  | 0.992     |\n",
      "|    samples_so_far | 32        |\n",
      "---------------------------------\n"
     ]
    },
    {
     "name": "stderr",
     "output_type": "stream",
     "text": [
      "246batch [00:04, 61.48batch/s]\n",
      "0batch [00:00, ?batch/s]"
     ]
    },
    {
     "name": "stdout",
     "output_type": "stream",
     "text": [
      "---------------------------------\n",
      "| batch_size        | 32        |\n",
      "| bc/               |           |\n",
      "|    batch          | 0         |\n",
      "|    ent_loss       | -6.03e-05 |\n",
      "|    entropy        | 0.0603    |\n",
      "|    epoch          | 0         |\n",
      "|    l2_loss        | 0         |\n",
      "|    l2_norm        | 1.15e+05  |\n",
      "|    loss           | 0.0076    |\n",
      "|    neglogp        | 0.00766   |\n",
      "|    prob_true_act  | 0.993     |\n",
      "|    samples_so_far | 32        |\n",
      "---------------------------------\n"
     ]
    },
    {
     "name": "stderr",
     "output_type": "stream",
     "text": [
      "246batch [00:04, 60.57batch/s]\n",
      "0batch [00:00, ?batch/s]"
     ]
    },
    {
     "name": "stdout",
     "output_type": "stream",
     "text": [
      "---------------------------------\n",
      "| batch_size        | 32        |\n",
      "| bc/               |           |\n",
      "|    batch          | 0         |\n",
      "|    ent_loss       | -0.000142 |\n",
      "|    entropy        | 0.142     |\n",
      "|    epoch          | 0         |\n",
      "|    l2_loss        | 0         |\n",
      "|    l2_norm        | 1.16e+05  |\n",
      "|    loss           | 0.0204    |\n",
      "|    neglogp        | 0.0206    |\n",
      "|    prob_true_act  | 0.98      |\n",
      "|    samples_so_far | 32        |\n",
      "---------------------------------\n"
     ]
    },
    {
     "name": "stderr",
     "output_type": "stream",
     "text": [
      "246batch [00:04, 60.07batch/s]\n",
      "0batch [00:00, ?batch/s]"
     ]
    },
    {
     "name": "stdout",
     "output_type": "stream",
     "text": [
      "---------------------------------\n",
      "| batch_size        | 32        |\n",
      "| bc/               |           |\n",
      "|    batch          | 0         |\n",
      "|    ent_loss       | -9.44e-05 |\n",
      "|    entropy        | 0.0944    |\n",
      "|    epoch          | 0         |\n",
      "|    l2_loss        | 0         |\n",
      "|    l2_norm        | 1.16e+05  |\n",
      "|    loss           | 0.0505    |\n",
      "|    neglogp        | 0.0506    |\n",
      "|    prob_true_act  | 0.97      |\n",
      "|    samples_so_far | 32        |\n",
      "---------------------------------\n"
     ]
    },
    {
     "name": "stderr",
     "output_type": "stream",
     "text": [
      "246batch [00:04, 60.15batch/s]\n",
      "0batch [00:00, ?batch/s]"
     ]
    },
    {
     "name": "stdout",
     "output_type": "stream",
     "text": [
      "---------------------------------\n",
      "| batch_size        | 32        |\n",
      "| bc/               |           |\n",
      "|    batch          | 0         |\n",
      "|    ent_loss       | -0.000106 |\n",
      "|    entropy        | 0.106     |\n",
      "|    epoch          | 0         |\n",
      "|    l2_loss        | 0         |\n",
      "|    l2_norm        | 1.16e+05  |\n",
      "|    loss           | 0.0525    |\n",
      "|    neglogp        | 0.0526    |\n",
      "|    prob_true_act  | 0.969     |\n",
      "|    samples_so_far | 32        |\n",
      "---------------------------------\n"
     ]
    },
    {
     "name": "stderr",
     "output_type": "stream",
     "text": [
      "246batch [00:04, 60.96batch/s]\n",
      "0batch [00:00, ?batch/s]"
     ]
    },
    {
     "name": "stdout",
     "output_type": "stream",
     "text": [
      "---------------------------------\n",
      "| batch_size        | 32        |\n",
      "| bc/               |           |\n",
      "|    batch          | 0         |\n",
      "|    ent_loss       | -8.49e-05 |\n",
      "|    entropy        | 0.0849    |\n",
      "|    epoch          | 0         |\n",
      "|    l2_loss        | 0         |\n",
      "|    l2_norm        | 1.16e+05  |\n",
      "|    loss           | 0.0117    |\n",
      "|    neglogp        | 0.0118    |\n",
      "|    prob_true_act  | 0.989     |\n",
      "|    samples_so_far | 32        |\n",
      "---------------------------------\n"
     ]
    },
    {
     "name": "stderr",
     "output_type": "stream",
     "text": [
      "246batch [00:04, 59.90batch/s]\n",
      "0batch [00:00, ?batch/s]"
     ]
    },
    {
     "name": "stdout",
     "output_type": "stream",
     "text": [
      "---------------------------------\n",
      "| batch_size        | 32        |\n",
      "| bc/               |           |\n",
      "|    batch          | 0         |\n",
      "|    ent_loss       | -0.000114 |\n",
      "|    entropy        | 0.114     |\n",
      "|    epoch          | 0         |\n",
      "|    l2_loss        | 0         |\n",
      "|    l2_norm        | 1.16e+05  |\n",
      "|    loss           | 0.0252    |\n",
      "|    neglogp        | 0.0253    |\n",
      "|    prob_true_act  | 0.978     |\n",
      "|    samples_so_far | 32        |\n",
      "---------------------------------\n"
     ]
    },
    {
     "name": "stderr",
     "output_type": "stream",
     "text": [
      "246batch [00:04, 61.39batch/s]\n",
      "0batch [00:00, ?batch/s]"
     ]
    },
    {
     "name": "stdout",
     "output_type": "stream",
     "text": [
      "---------------------------------\n",
      "| batch_size        | 32        |\n",
      "| bc/               |           |\n",
      "|    batch          | 0         |\n",
      "|    ent_loss       | -0.000133 |\n",
      "|    entropy        | 0.133     |\n",
      "|    epoch          | 0         |\n",
      "|    l2_loss        | 0         |\n",
      "|    l2_norm        | 1.17e+05  |\n",
      "|    loss           | 0.0384    |\n",
      "|    neglogp        | 0.0386    |\n",
      "|    prob_true_act  | 0.97      |\n",
      "|    samples_so_far | 32        |\n",
      "---------------------------------\n"
     ]
    },
    {
     "name": "stderr",
     "output_type": "stream",
     "text": [
      "246batch [00:03, 62.00batch/s]\n",
      "0batch [00:00, ?batch/s]"
     ]
    },
    {
     "name": "stdout",
     "output_type": "stream",
     "text": [
      "---------------------------------\n",
      "| batch_size        | 32        |\n",
      "| bc/               |           |\n",
      "|    batch          | 0         |\n",
      "|    ent_loss       | -6.83e-05 |\n",
      "|    entropy        | 0.0683    |\n",
      "|    epoch          | 0         |\n",
      "|    l2_loss        | 0         |\n",
      "|    l2_norm        | 1.17e+05  |\n",
      "|    loss           | 0.0353    |\n",
      "|    neglogp        | 0.0354    |\n",
      "|    prob_true_act  | 0.976     |\n",
      "|    samples_so_far | 32        |\n",
      "---------------------------------\n"
     ]
    },
    {
     "name": "stderr",
     "output_type": "stream",
     "text": [
      "246batch [00:04, 59.29batch/s]\n",
      "0batch [00:00, ?batch/s]"
     ]
    },
    {
     "name": "stdout",
     "output_type": "stream",
     "text": [
      "---------------------------------\n",
      "| batch_size        | 32        |\n",
      "| bc/               |           |\n",
      "|    batch          | 0         |\n",
      "|    ent_loss       | -6.99e-05 |\n",
      "|    entropy        | 0.0699    |\n",
      "|    epoch          | 0         |\n",
      "|    l2_loss        | 0         |\n",
      "|    l2_norm        | 1.17e+05  |\n",
      "|    loss           | 0.0095    |\n",
      "|    neglogp        | 0.00957   |\n",
      "|    prob_true_act  | 0.991     |\n",
      "|    samples_so_far | 32        |\n",
      "---------------------------------\n"
     ]
    },
    {
     "name": "stderr",
     "output_type": "stream",
     "text": [
      "246batch [00:04, 58.66batch/s]\n",
      "0batch [00:00, ?batch/s]"
     ]
    },
    {
     "name": "stdout",
     "output_type": "stream",
     "text": [
      "---------------------------------\n",
      "| batch_size        | 32        |\n",
      "| bc/               |           |\n",
      "|    batch          | 0         |\n",
      "|    ent_loss       | -6.04e-05 |\n",
      "|    entropy        | 0.0604    |\n",
      "|    epoch          | 0         |\n",
      "|    l2_loss        | 0         |\n",
      "|    l2_norm        | 1.17e+05  |\n",
      "|    loss           | 0.00785   |\n",
      "|    neglogp        | 0.00791   |\n",
      "|    prob_true_act  | 0.992     |\n",
      "|    samples_so_far | 32        |\n",
      "---------------------------------\n"
     ]
    },
    {
     "name": "stderr",
     "output_type": "stream",
     "text": [
      "246batch [00:04, 60.36batch/s]\n",
      "0batch [00:00, ?batch/s]"
     ]
    },
    {
     "name": "stdout",
     "output_type": "stream",
     "text": [
      "---------------------------------\n",
      "| batch_size        | 32        |\n",
      "| bc/               |           |\n",
      "|    batch          | 0         |\n",
      "|    ent_loss       | -9.37e-05 |\n",
      "|    entropy        | 0.0937    |\n",
      "|    epoch          | 0         |\n",
      "|    l2_loss        | 0         |\n",
      "|    l2_norm        | 1.18e+05  |\n",
      "|    loss           | 0.0148    |\n",
      "|    neglogp        | 0.0149    |\n",
      "|    prob_true_act  | 0.986     |\n",
      "|    samples_so_far | 32        |\n",
      "---------------------------------\n"
     ]
    },
    {
     "name": "stderr",
     "output_type": "stream",
     "text": [
      "246batch [00:04, 58.17batch/s]\n",
      "0batch [00:00, ?batch/s]"
     ]
    },
    {
     "name": "stdout",
     "output_type": "stream",
     "text": [
      "---------------------------------\n",
      "| batch_size        | 32        |\n",
      "| bc/               |           |\n",
      "|    batch          | 0         |\n",
      "|    ent_loss       | -5.02e-05 |\n",
      "|    entropy        | 0.0502    |\n",
      "|    epoch          | 0         |\n",
      "|    l2_loss        | 0         |\n",
      "|    l2_norm        | 1.18e+05  |\n",
      "|    loss           | 0.0064    |\n",
      "|    neglogp        | 0.00645   |\n",
      "|    prob_true_act  | 0.994     |\n",
      "|    samples_so_far | 32        |\n",
      "---------------------------------\n"
     ]
    },
    {
     "name": "stderr",
     "output_type": "stream",
     "text": [
      "246batch [00:04, 59.30batch/s]\n",
      "0batch [00:00, ?batch/s]"
     ]
    },
    {
     "name": "stdout",
     "output_type": "stream",
     "text": [
      "---------------------------------\n",
      "| batch_size        | 32        |\n",
      "| bc/               |           |\n",
      "|    batch          | 0         |\n",
      "|    ent_loss       | -4.01e-05 |\n",
      "|    entropy        | 0.0401    |\n",
      "|    epoch          | 0         |\n",
      "|    l2_loss        | 0         |\n",
      "|    l2_norm        | 1.18e+05  |\n",
      "|    loss           | 0.00495   |\n",
      "|    neglogp        | 0.00499   |\n",
      "|    prob_true_act  | 0.995     |\n",
      "|    samples_so_far | 32        |\n",
      "---------------------------------\n"
     ]
    },
    {
     "name": "stderr",
     "output_type": "stream",
     "text": [
      "246batch [00:04, 59.44batch/s]\n",
      "0batch [00:00, ?batch/s]"
     ]
    },
    {
     "name": "stdout",
     "output_type": "stream",
     "text": [
      "---------------------------------\n",
      "| batch_size        | 32        |\n",
      "| bc/               |           |\n",
      "|    batch          | 0         |\n",
      "|    ent_loss       | -7.66e-05 |\n",
      "|    entropy        | 0.0766    |\n",
      "|    epoch          | 0         |\n",
      "|    l2_loss        | 0         |\n",
      "|    l2_norm        | 1.18e+05  |\n",
      "|    loss           | 0.0131    |\n",
      "|    neglogp        | 0.0131    |\n",
      "|    prob_true_act  | 0.988     |\n",
      "|    samples_so_far | 32        |\n",
      "---------------------------------\n"
     ]
    },
    {
     "name": "stderr",
     "output_type": "stream",
     "text": [
      "246batch [00:04, 59.21batch/s]\n",
      "0batch [00:00, ?batch/s]"
     ]
    },
    {
     "name": "stdout",
     "output_type": "stream",
     "text": [
      "---------------------------------\n",
      "| batch_size        | 32        |\n",
      "| bc/               |           |\n",
      "|    batch          | 0         |\n",
      "|    ent_loss       | -6.88e-05 |\n",
      "|    entropy        | 0.0688    |\n",
      "|    epoch          | 0         |\n",
      "|    l2_loss        | 0         |\n",
      "|    l2_norm        | 1.18e+05  |\n",
      "|    loss           | 0.0433    |\n",
      "|    neglogp        | 0.0434    |\n",
      "|    prob_true_act  | 0.973     |\n",
      "|    samples_so_far | 32        |\n",
      "---------------------------------\n"
     ]
    },
    {
     "name": "stderr",
     "output_type": "stream",
     "text": [
      "246batch [00:04, 59.77batch/s]\n",
      "0batch [00:00, ?batch/s]"
     ]
    },
    {
     "name": "stdout",
     "output_type": "stream",
     "text": [
      "---------------------------------\n",
      "| batch_size        | 32        |\n",
      "| bc/               |           |\n",
      "|    batch          | 0         |\n",
      "|    ent_loss       | -6.01e-05 |\n",
      "|    entropy        | 0.0601    |\n",
      "|    epoch          | 0         |\n",
      "|    l2_loss        | 0         |\n",
      "|    l2_norm        | 1.18e+05  |\n",
      "|    loss           | 0.00802   |\n",
      "|    neglogp        | 0.00808   |\n",
      "|    prob_true_act  | 0.992     |\n",
      "|    samples_so_far | 32        |\n",
      "---------------------------------\n"
     ]
    },
    {
     "name": "stderr",
     "output_type": "stream",
     "text": [
      "246batch [00:04, 58.85batch/s]\n",
      "0batch [00:00, ?batch/s]"
     ]
    },
    {
     "name": "stdout",
     "output_type": "stream",
     "text": [
      "---------------------------------\n",
      "| batch_size        | 32        |\n",
      "| bc/               |           |\n",
      "|    batch          | 0         |\n",
      "|    ent_loss       | -6.63e-05 |\n",
      "|    entropy        | 0.0663    |\n",
      "|    epoch          | 0         |\n",
      "|    l2_loss        | 0         |\n",
      "|    l2_norm        | 1.19e+05  |\n",
      "|    loss           | 0.00858   |\n",
      "|    neglogp        | 0.00865   |\n",
      "|    prob_true_act  | 0.992     |\n",
      "|    samples_so_far | 32        |\n",
      "---------------------------------\n"
     ]
    },
    {
     "name": "stderr",
     "output_type": "stream",
     "text": [
      "246batch [00:04, 58.71batch/s]\n",
      "0batch [00:00, ?batch/s]"
     ]
    },
    {
     "name": "stdout",
     "output_type": "stream",
     "text": [
      "---------------------------------\n",
      "| batch_size        | 32        |\n",
      "| bc/               |           |\n",
      "|    batch          | 0         |\n",
      "|    ent_loss       | -3.66e-05 |\n",
      "|    entropy        | 0.0366    |\n",
      "|    epoch          | 0         |\n",
      "|    l2_loss        | 0         |\n",
      "|    l2_norm        | 1.19e+05  |\n",
      "|    loss           | 0.00436   |\n",
      "|    neglogp        | 0.0044    |\n",
      "|    prob_true_act  | 0.996     |\n",
      "|    samples_so_far | 32        |\n",
      "---------------------------------\n"
     ]
    },
    {
     "name": "stderr",
     "output_type": "stream",
     "text": [
      "246batch [00:04, 59.99batch/s]\n",
      "0batch [00:00, ?batch/s]"
     ]
    },
    {
     "name": "stdout",
     "output_type": "stream",
     "text": [
      "---------------------------------\n",
      "| batch_size        | 32        |\n",
      "| bc/               |           |\n",
      "|    batch          | 0         |\n",
      "|    ent_loss       | -2.28e-05 |\n",
      "|    entropy        | 0.0228    |\n",
      "|    epoch          | 0         |\n",
      "|    l2_loss        | 0         |\n",
      "|    l2_norm        | 1.19e+05  |\n",
      "|    loss           | 0.00245   |\n",
      "|    neglogp        | 0.00247   |\n",
      "|    prob_true_act  | 0.998     |\n",
      "|    samples_so_far | 32        |\n",
      "---------------------------------\n"
     ]
    },
    {
     "name": "stderr",
     "output_type": "stream",
     "text": [
      "246batch [00:04, 59.38batch/s]\n",
      "0batch [00:00, ?batch/s]"
     ]
    },
    {
     "name": "stdout",
     "output_type": "stream",
     "text": [
      "---------------------------------\n",
      "| batch_size        | 32        |\n",
      "| bc/               |           |\n",
      "|    batch          | 0         |\n",
      "|    ent_loss       | -0.000118 |\n",
      "|    entropy        | 0.118     |\n",
      "|    epoch          | 0         |\n",
      "|    l2_loss        | 0         |\n",
      "|    l2_norm        | 1.19e+05  |\n",
      "|    loss           | 0.0546    |\n",
      "|    neglogp        | 0.0547    |\n",
      "|    prob_true_act  | 0.961     |\n",
      "|    samples_so_far | 32        |\n",
      "---------------------------------\n"
     ]
    },
    {
     "name": "stderr",
     "output_type": "stream",
     "text": [
      "246batch [00:04, 57.67batch/s]\n",
      "0batch [00:00, ?batch/s]"
     ]
    },
    {
     "name": "stdout",
     "output_type": "stream",
     "text": [
      "---------------------------------\n",
      "| batch_size        | 32        |\n",
      "| bc/               |           |\n",
      "|    batch          | 0         |\n",
      "|    ent_loss       | -0.000105 |\n",
      "|    entropy        | 0.105     |\n",
      "|    epoch          | 0         |\n",
      "|    l2_loss        | 0         |\n",
      "|    l2_norm        | 1.19e+05  |\n",
      "|    loss           | 0.0558    |\n",
      "|    neglogp        | 0.0559    |\n",
      "|    prob_true_act  | 0.968     |\n",
      "|    samples_so_far | 32        |\n",
      "---------------------------------\n"
     ]
    },
    {
     "name": "stderr",
     "output_type": "stream",
     "text": [
      "246batch [00:04, 58.77batch/s]\n",
      "0batch [00:00, ?batch/s]"
     ]
    },
    {
     "name": "stdout",
     "output_type": "stream",
     "text": [
      "---------------------------------\n",
      "| batch_size        | 32        |\n",
      "| bc/               |           |\n",
      "|    batch          | 0         |\n",
      "|    ent_loss       | -2.83e-05 |\n",
      "|    entropy        | 0.0283    |\n",
      "|    epoch          | 0         |\n",
      "|    l2_loss        | 0         |\n",
      "|    l2_norm        | 1.2e+05   |\n",
      "|    loss           | 0.00317   |\n",
      "|    neglogp        | 0.0032    |\n",
      "|    prob_true_act  | 0.997     |\n",
      "|    samples_so_far | 32        |\n",
      "---------------------------------\n"
     ]
    },
    {
     "name": "stderr",
     "output_type": "stream",
     "text": [
      "246batch [00:04, 60.06batch/s]\n",
      "0batch [00:00, ?batch/s]"
     ]
    },
    {
     "name": "stdout",
     "output_type": "stream",
     "text": [
      "---------------------------------\n",
      "| batch_size        | 32        |\n",
      "| bc/               |           |\n",
      "|    batch          | 0         |\n",
      "|    ent_loss       | -0.000102 |\n",
      "|    entropy        | 0.102     |\n",
      "|    epoch          | 0         |\n",
      "|    l2_loss        | 0         |\n",
      "|    l2_norm        | 1.2e+05   |\n",
      "|    loss           | 0.0445    |\n",
      "|    neglogp        | 0.0446    |\n",
      "|    prob_true_act  | 0.972     |\n",
      "|    samples_so_far | 32        |\n",
      "---------------------------------\n"
     ]
    },
    {
     "name": "stderr",
     "output_type": "stream",
     "text": [
      "246batch [00:04, 59.71batch/s]\n",
      "0batch [00:00, ?batch/s]"
     ]
    },
    {
     "name": "stdout",
     "output_type": "stream",
     "text": [
      "---------------------------------\n",
      "| batch_size        | 32        |\n",
      "| bc/               |           |\n",
      "|    batch          | 0         |\n",
      "|    ent_loss       | -7.68e-05 |\n",
      "|    entropy        | 0.0768    |\n",
      "|    epoch          | 0         |\n",
      "|    l2_loss        | 0         |\n",
      "|    l2_norm        | 1.2e+05   |\n",
      "|    loss           | 0.0415    |\n",
      "|    neglogp        | 0.0416    |\n",
      "|    prob_true_act  | 0.973     |\n",
      "|    samples_so_far | 32        |\n",
      "---------------------------------\n"
     ]
    },
    {
     "name": "stderr",
     "output_type": "stream",
     "text": [
      "246batch [00:04, 60.40batch/s]\n",
      "0batch [00:00, ?batch/s]"
     ]
    },
    {
     "name": "stdout",
     "output_type": "stream",
     "text": [
      "---------------------------------\n",
      "| batch_size        | 32        |\n",
      "| bc/               |           |\n",
      "|    batch          | 0         |\n",
      "|    ent_loss       | -0.000308 |\n",
      "|    entropy        | 0.308     |\n",
      "|    epoch          | 0         |\n",
      "|    l2_loss        | 0         |\n",
      "|    l2_norm        | 1.2e+05   |\n",
      "|    loss           | 0.112     |\n",
      "|    neglogp        | 0.112     |\n",
      "|    prob_true_act  | 0.923     |\n",
      "|    samples_so_far | 32        |\n",
      "---------------------------------\n"
     ]
    },
    {
     "name": "stderr",
     "output_type": "stream",
     "text": [
      "246batch [00:04, 60.38batch/s]\n",
      "0batch [00:00, ?batch/s]"
     ]
    },
    {
     "name": "stdout",
     "output_type": "stream",
     "text": [
      "---------------------------------\n",
      "| batch_size        | 32        |\n",
      "| bc/               |           |\n",
      "|    batch          | 0         |\n",
      "|    ent_loss       | -7.08e-05 |\n",
      "|    entropy        | 0.0708    |\n",
      "|    epoch          | 0         |\n",
      "|    l2_loss        | 0         |\n",
      "|    l2_norm        | 1.2e+05   |\n",
      "|    loss           | 0.0099    |\n",
      "|    neglogp        | 0.00997   |\n",
      "|    prob_true_act  | 0.99      |\n",
      "|    samples_so_far | 32        |\n",
      "---------------------------------\n"
     ]
    },
    {
     "name": "stderr",
     "output_type": "stream",
     "text": [
      "246batch [00:04, 59.00batch/s]\n",
      "0batch [00:00, ?batch/s]"
     ]
    },
    {
     "name": "stdout",
     "output_type": "stream",
     "text": [
      "---------------------------------\n",
      "| batch_size        | 32        |\n",
      "| bc/               |           |\n",
      "|    batch          | 0         |\n",
      "|    ent_loss       | -6.04e-05 |\n",
      "|    entropy        | 0.0604    |\n",
      "|    epoch          | 0         |\n",
      "|    l2_loss        | 0         |\n",
      "|    l2_norm        | 1.2e+05   |\n",
      "|    loss           | 0.00897   |\n",
      "|    neglogp        | 0.00904   |\n",
      "|    prob_true_act  | 0.991     |\n",
      "|    samples_so_far | 32        |\n",
      "---------------------------------\n"
     ]
    },
    {
     "name": "stderr",
     "output_type": "stream",
     "text": [
      "246batch [00:04, 60.20batch/s]\n",
      "0batch [00:00, ?batch/s]"
     ]
    },
    {
     "name": "stdout",
     "output_type": "stream",
     "text": [
      "---------------------------------\n",
      "| batch_size        | 32        |\n",
      "| bc/               |           |\n",
      "|    batch          | 0         |\n",
      "|    ent_loss       | -5.82e-05 |\n",
      "|    entropy        | 0.0582    |\n",
      "|    epoch          | 0         |\n",
      "|    l2_loss        | 0         |\n",
      "|    l2_norm        | 1.21e+05  |\n",
      "|    loss           | 0.029     |\n",
      "|    neglogp        | 0.0291    |\n",
      "|    prob_true_act  | 0.979     |\n",
      "|    samples_so_far | 32        |\n",
      "---------------------------------\n"
     ]
    },
    {
     "name": "stderr",
     "output_type": "stream",
     "text": [
      "246batch [00:04, 61.18batch/s]\n",
      "0batch [00:00, ?batch/s]"
     ]
    },
    {
     "name": "stdout",
     "output_type": "stream",
     "text": [
      "---------------------------------\n",
      "| batch_size        | 32        |\n",
      "| bc/               |           |\n",
      "|    batch          | 0         |\n",
      "|    ent_loss       | -7.73e-05 |\n",
      "|    entropy        | 0.0773    |\n",
      "|    epoch          | 0         |\n",
      "|    l2_loss        | 0         |\n",
      "|    l2_norm        | 1.21e+05  |\n",
      "|    loss           | 0.027     |\n",
      "|    neglogp        | 0.0271    |\n",
      "|    prob_true_act  | 0.979     |\n",
      "|    samples_so_far | 32        |\n",
      "---------------------------------\n"
     ]
    },
    {
     "name": "stderr",
     "output_type": "stream",
     "text": [
      "246batch [00:04, 59.42batch/s]\n",
      "0batch [00:00, ?batch/s]"
     ]
    },
    {
     "name": "stdout",
     "output_type": "stream",
     "text": [
      "---------------------------------\n",
      "| batch_size        | 32        |\n",
      "| bc/               |           |\n",
      "|    batch          | 0         |\n",
      "|    ent_loss       | -4.06e-05 |\n",
      "|    entropy        | 0.0406    |\n",
      "|    epoch          | 0         |\n",
      "|    l2_loss        | 0         |\n",
      "|    l2_norm        | 1.21e+05  |\n",
      "|    loss           | 0.00503   |\n",
      "|    neglogp        | 0.00507   |\n",
      "|    prob_true_act  | 0.995     |\n",
      "|    samples_so_far | 32        |\n",
      "---------------------------------\n"
     ]
    },
    {
     "name": "stderr",
     "output_type": "stream",
     "text": [
      "246batch [00:03, 61.54batch/s]\n",
      "0batch [00:00, ?batch/s]"
     ]
    },
    {
     "name": "stdout",
     "output_type": "stream",
     "text": [
      "---------------------------------\n",
      "| batch_size        | 32        |\n",
      "| bc/               |           |\n",
      "|    batch          | 0         |\n",
      "|    ent_loss       | -7.88e-05 |\n",
      "|    entropy        | 0.0788    |\n",
      "|    epoch          | 0         |\n",
      "|    l2_loss        | 0         |\n",
      "|    l2_norm        | 1.21e+05  |\n",
      "|    loss           | 0.0298    |\n",
      "|    neglogp        | 0.0299    |\n",
      "|    prob_true_act  | 0.978     |\n",
      "|    samples_so_far | 32        |\n",
      "---------------------------------\n"
     ]
    },
    {
     "name": "stderr",
     "output_type": "stream",
     "text": [
      "246batch [00:04, 60.93batch/s]\n"
     ]
    },
    {
     "name": "stdout",
     "output_type": "stream",
     "text": [
      "Checkpoint saved at checkpoints\\bc_model_epoch_150.zip\n"
     ]
    },
    {
     "name": "stderr",
     "output_type": "stream",
     "text": [
      "0batch [00:00, ?batch/s]"
     ]
    },
    {
     "name": "stdout",
     "output_type": "stream",
     "text": [
      "--------------------------------\n",
      "| batch_size        | 32       |\n",
      "| bc/               |          |\n",
      "|    batch          | 0        |\n",
      "|    ent_loss       | -8.6e-05 |\n",
      "|    entropy        | 0.086    |\n",
      "|    epoch          | 0        |\n",
      "|    l2_loss        | 0        |\n",
      "|    l2_norm        | 1.21e+05 |\n",
      "|    loss           | 0.0316   |\n",
      "|    neglogp        | 0.0317   |\n",
      "|    prob_true_act  | 0.976    |\n",
      "|    samples_so_far | 32       |\n",
      "--------------------------------\n"
     ]
    },
    {
     "name": "stderr",
     "output_type": "stream",
     "text": [
      "246batch [00:04, 59.06batch/s]\n",
      "0batch [00:00, ?batch/s]"
     ]
    },
    {
     "name": "stdout",
     "output_type": "stream",
     "text": [
      "---------------------------------\n",
      "| batch_size        | 32        |\n",
      "| bc/               |           |\n",
      "|    batch          | 0         |\n",
      "|    ent_loss       | -2.48e-05 |\n",
      "|    entropy        | 0.0248    |\n",
      "|    epoch          | 0         |\n",
      "|    l2_loss        | 0         |\n",
      "|    l2_norm        | 1.21e+05  |\n",
      "|    loss           | 0.00302   |\n",
      "|    neglogp        | 0.00304   |\n",
      "|    prob_true_act  | 0.997     |\n",
      "|    samples_so_far | 32        |\n",
      "---------------------------------\n"
     ]
    },
    {
     "name": "stderr",
     "output_type": "stream",
     "text": [
      "246batch [00:04, 60.51batch/s]\n",
      "0batch [00:00, ?batch/s]"
     ]
    },
    {
     "name": "stdout",
     "output_type": "stream",
     "text": [
      "---------------------------------\n",
      "| batch_size        | 32        |\n",
      "| bc/               |           |\n",
      "|    batch          | 0         |\n",
      "|    ent_loss       | -2.42e-05 |\n",
      "|    entropy        | 0.0242    |\n",
      "|    epoch          | 0         |\n",
      "|    l2_loss        | 0         |\n",
      "|    l2_norm        | 1.21e+05  |\n",
      "|    loss           | 0.00265   |\n",
      "|    neglogp        | 0.00268   |\n",
      "|    prob_true_act  | 0.997     |\n",
      "|    samples_so_far | 32        |\n",
      "---------------------------------\n"
     ]
    },
    {
     "name": "stderr",
     "output_type": "stream",
     "text": [
      "246batch [00:04, 60.59batch/s]\n",
      "0batch [00:00, ?batch/s]"
     ]
    },
    {
     "name": "stdout",
     "output_type": "stream",
     "text": [
      "---------------------------------\n",
      "| batch_size        | 32        |\n",
      "| bc/               |           |\n",
      "|    batch          | 0         |\n",
      "|    ent_loss       | -6.18e-05 |\n",
      "|    entropy        | 0.0618    |\n",
      "|    epoch          | 0         |\n",
      "|    l2_loss        | 0         |\n",
      "|    l2_norm        | 1.22e+05  |\n",
      "|    loss           | 0.027     |\n",
      "|    neglogp        | 0.0271    |\n",
      "|    prob_true_act  | 0.98      |\n",
      "|    samples_so_far | 32        |\n",
      "---------------------------------\n"
     ]
    },
    {
     "name": "stderr",
     "output_type": "stream",
     "text": [
      "246batch [00:04, 59.29batch/s]\n",
      "0batch [00:00, ?batch/s]"
     ]
    },
    {
     "name": "stdout",
     "output_type": "stream",
     "text": [
      "---------------------------------\n",
      "| batch_size        | 32        |\n",
      "| bc/               |           |\n",
      "|    batch          | 0         |\n",
      "|    ent_loss       | -3.95e-05 |\n",
      "|    entropy        | 0.0395    |\n",
      "|    epoch          | 0         |\n",
      "|    l2_loss        | 0         |\n",
      "|    l2_norm        | 1.22e+05  |\n",
      "|    loss           | 0.0143    |\n",
      "|    neglogp        | 0.0144    |\n",
      "|    prob_true_act  | 0.988     |\n",
      "|    samples_so_far | 32        |\n",
      "---------------------------------\n"
     ]
    },
    {
     "name": "stderr",
     "output_type": "stream",
     "text": [
      "246batch [00:04, 59.73batch/s]\n",
      "0batch [00:00, ?batch/s]"
     ]
    },
    {
     "name": "stdout",
     "output_type": "stream",
     "text": [
      "--------------------------------\n",
      "| batch_size        | 32       |\n",
      "| bc/               |          |\n",
      "|    batch          | 0        |\n",
      "|    ent_loss       | -9.7e-05 |\n",
      "|    entropy        | 0.097    |\n",
      "|    epoch          | 0        |\n",
      "|    l2_loss        | 0        |\n",
      "|    l2_norm        | 1.22e+05 |\n",
      "|    loss           | 0.0567   |\n",
      "|    neglogp        | 0.0568   |\n",
      "|    prob_true_act  | 0.962    |\n",
      "|    samples_so_far | 32       |\n",
      "--------------------------------\n"
     ]
    },
    {
     "name": "stderr",
     "output_type": "stream",
     "text": [
      "246batch [00:04, 59.21batch/s]\n",
      "0batch [00:00, ?batch/s]"
     ]
    },
    {
     "name": "stdout",
     "output_type": "stream",
     "text": [
      "---------------------------------\n",
      "| batch_size        | 32        |\n",
      "| bc/               |           |\n",
      "|    batch          | 0         |\n",
      "|    ent_loss       | -3.88e-05 |\n",
      "|    entropy        | 0.0388    |\n",
      "|    epoch          | 0         |\n",
      "|    l2_loss        | 0         |\n",
      "|    l2_norm        | 1.22e+05  |\n",
      "|    loss           | 0.00443   |\n",
      "|    neglogp        | 0.00447   |\n",
      "|    prob_true_act  | 0.996     |\n",
      "|    samples_so_far | 32        |\n",
      "---------------------------------\n"
     ]
    },
    {
     "name": "stderr",
     "output_type": "stream",
     "text": [
      "246batch [00:04, 58.60batch/s]\n",
      "0batch [00:00, ?batch/s]"
     ]
    },
    {
     "name": "stdout",
     "output_type": "stream",
     "text": [
      "---------------------------------\n",
      "| batch_size        | 32        |\n",
      "| bc/               |           |\n",
      "|    batch          | 0         |\n",
      "|    ent_loss       | -6.55e-05 |\n",
      "|    entropy        | 0.0655    |\n",
      "|    epoch          | 0         |\n",
      "|    l2_loss        | 0         |\n",
      "|    l2_norm        | 1.22e+05  |\n",
      "|    loss           | 0.0251    |\n",
      "|    neglogp        | 0.0252    |\n",
      "|    prob_true_act  | 0.981     |\n",
      "|    samples_so_far | 32        |\n",
      "---------------------------------\n"
     ]
    },
    {
     "name": "stderr",
     "output_type": "stream",
     "text": [
      "246batch [00:04, 59.72batch/s]\n",
      "0batch [00:00, ?batch/s]"
     ]
    },
    {
     "name": "stdout",
     "output_type": "stream",
     "text": [
      "---------------------------------\n",
      "| batch_size        | 32        |\n",
      "| bc/               |           |\n",
      "|    batch          | 0         |\n",
      "|    ent_loss       | -0.000109 |\n",
      "|    entropy        | 0.109     |\n",
      "|    epoch          | 0         |\n",
      "|    l2_loss        | 0         |\n",
      "|    l2_norm        | 1.22e+05  |\n",
      "|    loss           | 0.0512    |\n",
      "|    neglogp        | 0.0513    |\n",
      "|    prob_true_act  | 0.963     |\n",
      "|    samples_so_far | 32        |\n",
      "---------------------------------\n"
     ]
    },
    {
     "name": "stderr",
     "output_type": "stream",
     "text": [
      "246batch [00:04, 58.83batch/s]\n",
      "0batch [00:00, ?batch/s]"
     ]
    },
    {
     "name": "stdout",
     "output_type": "stream",
     "text": [
      "---------------------------------\n",
      "| batch_size        | 32        |\n",
      "| bc/               |           |\n",
      "|    batch          | 0         |\n",
      "|    ent_loss       | -1.29e-05 |\n",
      "|    entropy        | 0.0129    |\n",
      "|    epoch          | 0         |\n",
      "|    l2_loss        | 0         |\n",
      "|    l2_norm        | 1.23e+05  |\n",
      "|    loss           | 0.00148   |\n",
      "|    neglogp        | 0.00149   |\n",
      "|    prob_true_act  | 0.999     |\n",
      "|    samples_so_far | 32        |\n",
      "---------------------------------\n"
     ]
    },
    {
     "name": "stderr",
     "output_type": "stream",
     "text": [
      "246batch [00:04, 57.71batch/s]\n",
      "0batch [00:00, ?batch/s]"
     ]
    },
    {
     "name": "stdout",
     "output_type": "stream",
     "text": [
      "---------------------------------\n",
      "| batch_size        | 32        |\n",
      "| bc/               |           |\n",
      "|    batch          | 0         |\n",
      "|    ent_loss       | -8.28e-05 |\n",
      "|    entropy        | 0.0828    |\n",
      "|    epoch          | 0         |\n",
      "|    l2_loss        | 0         |\n",
      "|    l2_norm        | 1.23e+05  |\n",
      "|    loss           | 0.0475    |\n",
      "|    neglogp        | 0.0475    |\n",
      "|    prob_true_act  | 0.966     |\n",
      "|    samples_so_far | 32        |\n",
      "---------------------------------\n"
     ]
    },
    {
     "name": "stderr",
     "output_type": "stream",
     "text": [
      "246batch [00:04, 60.15batch/s]\n",
      "0batch [00:00, ?batch/s]"
     ]
    },
    {
     "name": "stdout",
     "output_type": "stream",
     "text": [
      "---------------------------------\n",
      "| batch_size        | 32        |\n",
      "| bc/               |           |\n",
      "|    batch          | 0         |\n",
      "|    ent_loss       | -8.43e-05 |\n",
      "|    entropy        | 0.0843    |\n",
      "|    epoch          | 0         |\n",
      "|    l2_loss        | 0         |\n",
      "|    l2_norm        | 1.23e+05  |\n",
      "|    loss           | 0.0477    |\n",
      "|    neglogp        | 0.0478    |\n",
      "|    prob_true_act  | 0.966     |\n",
      "|    samples_so_far | 32        |\n",
      "---------------------------------\n"
     ]
    },
    {
     "name": "stderr",
     "output_type": "stream",
     "text": [
      "246batch [00:04, 60.09batch/s]\n",
      "0batch [00:00, ?batch/s]"
     ]
    },
    {
     "name": "stdout",
     "output_type": "stream",
     "text": [
      "--------------------------------\n",
      "| batch_size        | 32       |\n",
      "| bc/               |          |\n",
      "|    batch          | 0        |\n",
      "|    ent_loss       | -6.3e-05 |\n",
      "|    entropy        | 0.063    |\n",
      "|    epoch          | 0        |\n",
      "|    l2_loss        | 0        |\n",
      "|    l2_norm        | 1.23e+05 |\n",
      "|    loss           | 0.0395   |\n",
      "|    neglogp        | 0.0395   |\n",
      "|    prob_true_act  | 0.975    |\n",
      "|    samples_so_far | 32       |\n",
      "--------------------------------\n"
     ]
    },
    {
     "name": "stderr",
     "output_type": "stream",
     "text": [
      "246batch [00:04, 59.01batch/s]\n",
      "0batch [00:00, ?batch/s]"
     ]
    },
    {
     "name": "stdout",
     "output_type": "stream",
     "text": [
      "--------------------------------\n",
      "| batch_size        | 32       |\n",
      "| bc/               |          |\n",
      "|    batch          | 0        |\n",
      "|    ent_loss       | -8.5e-05 |\n",
      "|    entropy        | 0.085    |\n",
      "|    epoch          | 0        |\n",
      "|    l2_loss        | 0        |\n",
      "|    l2_norm        | 1.23e+05 |\n",
      "|    loss           | 0.0336   |\n",
      "|    neglogp        | 0.0337   |\n",
      "|    prob_true_act  | 0.976    |\n",
      "|    samples_so_far | 32       |\n",
      "--------------------------------\n"
     ]
    },
    {
     "name": "stderr",
     "output_type": "stream",
     "text": [
      "246batch [00:04, 60.39batch/s]\n",
      "0batch [00:00, ?batch/s]"
     ]
    },
    {
     "name": "stdout",
     "output_type": "stream",
     "text": [
      "---------------------------------\n",
      "| batch_size        | 32        |\n",
      "| bc/               |           |\n",
      "|    batch          | 0         |\n",
      "|    ent_loss       | -6.38e-05 |\n",
      "|    entropy        | 0.0638    |\n",
      "|    epoch          | 0         |\n",
      "|    l2_loss        | 0         |\n",
      "|    l2_norm        | 1.23e+05  |\n",
      "|    loss           | 0.0231    |\n",
      "|    neglogp        | 0.0231    |\n",
      "|    prob_true_act  | 0.982     |\n",
      "|    samples_so_far | 32        |\n",
      "---------------------------------\n"
     ]
    },
    {
     "name": "stderr",
     "output_type": "stream",
     "text": [
      "246batch [00:04, 59.78batch/s]\n",
      "0batch [00:00, ?batch/s]"
     ]
    },
    {
     "name": "stdout",
     "output_type": "stream",
     "text": [
      "---------------------------------\n",
      "| batch_size        | 32        |\n",
      "| bc/               |           |\n",
      "|    batch          | 0         |\n",
      "|    ent_loss       | -3.17e-05 |\n",
      "|    entropy        | 0.0317    |\n",
      "|    epoch          | 0         |\n",
      "|    l2_loss        | 0         |\n",
      "|    l2_norm        | 1.24e+05  |\n",
      "|    loss           | 0.00449   |\n",
      "|    neglogp        | 0.00452   |\n",
      "|    prob_true_act  | 0.996     |\n",
      "|    samples_so_far | 32        |\n",
      "---------------------------------\n"
     ]
    },
    {
     "name": "stderr",
     "output_type": "stream",
     "text": [
      "246batch [00:04, 59.01batch/s]\n",
      "0batch [00:00, ?batch/s]"
     ]
    },
    {
     "name": "stdout",
     "output_type": "stream",
     "text": [
      "--------------------------------\n",
      "| batch_size        | 32       |\n",
      "| bc/               |          |\n",
      "|    batch          | 0        |\n",
      "|    ent_loss       | -2e-05   |\n",
      "|    entropy        | 0.02     |\n",
      "|    epoch          | 0        |\n",
      "|    l2_loss        | 0        |\n",
      "|    l2_norm        | 1.24e+05 |\n",
      "|    loss           | 0.00233  |\n",
      "|    neglogp        | 0.00235  |\n",
      "|    prob_true_act  | 0.998    |\n",
      "|    samples_so_far | 32       |\n",
      "--------------------------------\n"
     ]
    },
    {
     "name": "stderr",
     "output_type": "stream",
     "text": [
      "246batch [00:04, 60.30batch/s]\n",
      "0batch [00:00, ?batch/s]"
     ]
    },
    {
     "name": "stdout",
     "output_type": "stream",
     "text": [
      "--------------------------------\n",
      "| batch_size        | 32       |\n",
      "| bc/               |          |\n",
      "|    batch          | 0        |\n",
      "|    ent_loss       | -2.2e-05 |\n",
      "|    entropy        | 0.022    |\n",
      "|    epoch          | 0        |\n",
      "|    l2_loss        | 0        |\n",
      "|    l2_norm        | 1.24e+05 |\n",
      "|    loss           | 0.00238  |\n",
      "|    neglogp        | 0.00241  |\n",
      "|    prob_true_act  | 0.998    |\n",
      "|    samples_so_far | 32       |\n",
      "--------------------------------\n"
     ]
    },
    {
     "name": "stderr",
     "output_type": "stream",
     "text": [
      "246batch [00:04, 60.85batch/s]\n",
      "0batch [00:00, ?batch/s]"
     ]
    },
    {
     "name": "stdout",
     "output_type": "stream",
     "text": [
      "--------------------------------\n",
      "| batch_size        | 32       |\n",
      "| bc/               |          |\n",
      "|    batch          | 0        |\n",
      "|    ent_loss       | -8.1e-05 |\n",
      "|    entropy        | 0.081    |\n",
      "|    epoch          | 0        |\n",
      "|    l2_loss        | 0        |\n",
      "|    l2_norm        | 1.24e+05 |\n",
      "|    loss           | 0.0531   |\n",
      "|    neglogp        | 0.0532   |\n",
      "|    prob_true_act  | 0.966    |\n",
      "|    samples_so_far | 32       |\n",
      "--------------------------------\n"
     ]
    },
    {
     "name": "stderr",
     "output_type": "stream",
     "text": [
      "246batch [00:04, 59.42batch/s]\n",
      "0batch [00:00, ?batch/s]"
     ]
    },
    {
     "name": "stdout",
     "output_type": "stream",
     "text": [
      "--------------------------------\n",
      "| batch_size        | 32       |\n",
      "| bc/               |          |\n",
      "|    batch          | 0        |\n",
      "|    ent_loss       | -4.3e-05 |\n",
      "|    entropy        | 0.043    |\n",
      "|    epoch          | 0        |\n",
      "|    l2_loss        | 0        |\n",
      "|    l2_norm        | 1.24e+05 |\n",
      "|    loss           | 0.0118   |\n",
      "|    neglogp        | 0.0118   |\n",
      "|    prob_true_act  | 0.989    |\n",
      "|    samples_so_far | 32       |\n",
      "--------------------------------\n"
     ]
    },
    {
     "name": "stderr",
     "output_type": "stream",
     "text": [
      "246batch [00:04, 60.95batch/s]\n",
      "0batch [00:00, ?batch/s]"
     ]
    },
    {
     "name": "stdout",
     "output_type": "stream",
     "text": [
      "---------------------------------\n",
      "| batch_size        | 32        |\n",
      "| bc/               |           |\n",
      "|    batch          | 0         |\n",
      "|    ent_loss       | -2.46e-05 |\n",
      "|    entropy        | 0.0246    |\n",
      "|    epoch          | 0         |\n",
      "|    l2_loss        | 0         |\n",
      "|    l2_norm        | 1.24e+05  |\n",
      "|    loss           | 0.0032    |\n",
      "|    neglogp        | 0.00322   |\n",
      "|    prob_true_act  | 0.997     |\n",
      "|    samples_so_far | 32        |\n",
      "---------------------------------\n"
     ]
    },
    {
     "name": "stderr",
     "output_type": "stream",
     "text": [
      "246batch [00:04, 61.33batch/s]\n",
      "0batch [00:00, ?batch/s]"
     ]
    },
    {
     "name": "stdout",
     "output_type": "stream",
     "text": [
      "---------------------------------\n",
      "| batch_size        | 32        |\n",
      "| bc/               |           |\n",
      "|    batch          | 0         |\n",
      "|    ent_loss       | -1.88e-05 |\n",
      "|    entropy        | 0.0188    |\n",
      "|    epoch          | 0         |\n",
      "|    l2_loss        | 0         |\n",
      "|    l2_norm        | 1.25e+05  |\n",
      "|    loss           | 0.00219   |\n",
      "|    neglogp        | 0.0022    |\n",
      "|    prob_true_act  | 0.998     |\n",
      "|    samples_so_far | 32        |\n",
      "---------------------------------\n"
     ]
    },
    {
     "name": "stderr",
     "output_type": "stream",
     "text": [
      "246batch [00:04, 59.60batch/s]\n",
      "0batch [00:00, ?batch/s]"
     ]
    },
    {
     "name": "stdout",
     "output_type": "stream",
     "text": [
      "---------------------------------\n",
      "| batch_size        | 32        |\n",
      "| bc/               |           |\n",
      "|    batch          | 0         |\n",
      "|    ent_loss       | -5.68e-05 |\n",
      "|    entropy        | 0.0568    |\n",
      "|    epoch          | 0         |\n",
      "|    l2_loss        | 0         |\n",
      "|    l2_norm        | 1.25e+05  |\n",
      "|    loss           | 0.0152    |\n",
      "|    neglogp        | 0.0153    |\n",
      "|    prob_true_act  | 0.987     |\n",
      "|    samples_so_far | 32        |\n",
      "---------------------------------\n"
     ]
    },
    {
     "name": "stderr",
     "output_type": "stream",
     "text": [
      "246batch [00:04, 60.90batch/s]\n",
      "0batch [00:00, ?batch/s]"
     ]
    },
    {
     "name": "stdout",
     "output_type": "stream",
     "text": [
      "---------------------------------\n",
      "| batch_size        | 32        |\n",
      "| bc/               |           |\n",
      "|    batch          | 0         |\n",
      "|    ent_loss       | -4.58e-05 |\n",
      "|    entropy        | 0.0458    |\n",
      "|    epoch          | 0         |\n",
      "|    l2_loss        | 0         |\n",
      "|    l2_norm        | 1.25e+05  |\n",
      "|    loss           | 0.0113    |\n",
      "|    neglogp        | 0.0114    |\n",
      "|    prob_true_act  | 0.99      |\n",
      "|    samples_so_far | 32        |\n",
      "---------------------------------\n"
     ]
    },
    {
     "name": "stderr",
     "output_type": "stream",
     "text": [
      "246batch [00:04, 58.31batch/s]\n",
      "0batch [00:00, ?batch/s]"
     ]
    },
    {
     "name": "stdout",
     "output_type": "stream",
     "text": [
      "---------------------------------\n",
      "| batch_size        | 32        |\n",
      "| bc/               |           |\n",
      "|    batch          | 0         |\n",
      "|    ent_loss       | -1.68e-05 |\n",
      "|    entropy        | 0.0168    |\n",
      "|    epoch          | 0         |\n",
      "|    l2_loss        | 0         |\n",
      "|    l2_norm        | 1.25e+05  |\n",
      "|    loss           | 0.00181   |\n",
      "|    neglogp        | 0.00183   |\n",
      "|    prob_true_act  | 0.998     |\n",
      "|    samples_so_far | 32        |\n",
      "---------------------------------\n"
     ]
    },
    {
     "name": "stderr",
     "output_type": "stream",
     "text": [
      "246batch [00:04, 61.23batch/s]\n",
      "0batch [00:00, ?batch/s]"
     ]
    },
    {
     "name": "stdout",
     "output_type": "stream",
     "text": [
      "---------------------------------\n",
      "| batch_size        | 32        |\n",
      "| bc/               |           |\n",
      "|    batch          | 0         |\n",
      "|    ent_loss       | -9.38e-06 |\n",
      "|    entropy        | 0.00938   |\n",
      "|    epoch          | 0         |\n",
      "|    l2_loss        | 0         |\n",
      "|    l2_norm        | 1.25e+05  |\n",
      "|    loss           | 0.000966  |\n",
      "|    neglogp        | 0.000975  |\n",
      "|    prob_true_act  | 0.999     |\n",
      "|    samples_so_far | 32        |\n",
      "---------------------------------\n"
     ]
    },
    {
     "name": "stderr",
     "output_type": "stream",
     "text": [
      "246batch [00:04, 60.25batch/s]\n",
      "0batch [00:00, ?batch/s]"
     ]
    },
    {
     "name": "stdout",
     "output_type": "stream",
     "text": [
      "---------------------------------\n",
      "| batch_size        | 32        |\n",
      "| bc/               |           |\n",
      "|    batch          | 0         |\n",
      "|    ent_loss       | -4.36e-05 |\n",
      "|    entropy        | 0.0436    |\n",
      "|    epoch          | 0         |\n",
      "|    l2_loss        | 0         |\n",
      "|    l2_norm        | 1.25e+05  |\n",
      "|    loss           | 0.0364    |\n",
      "|    neglogp        | 0.0365    |\n",
      "|    prob_true_act  | 0.978     |\n",
      "|    samples_so_far | 32        |\n",
      "---------------------------------\n"
     ]
    },
    {
     "name": "stderr",
     "output_type": "stream",
     "text": [
      "246batch [00:04, 56.94batch/s]\n",
      "0batch [00:00, ?batch/s]"
     ]
    },
    {
     "name": "stdout",
     "output_type": "stream",
     "text": [
      "---------------------------------\n",
      "| batch_size        | 32        |\n",
      "| bc/               |           |\n",
      "|    batch          | 0         |\n",
      "|    ent_loss       | -5.17e-05 |\n",
      "|    entropy        | 0.0517    |\n",
      "|    epoch          | 0         |\n",
      "|    l2_loss        | 0         |\n",
      "|    l2_norm        | 1.26e+05  |\n",
      "|    loss           | 0.0232    |\n",
      "|    neglogp        | 0.0233    |\n",
      "|    prob_true_act  | 0.983     |\n",
      "|    samples_so_far | 32        |\n",
      "---------------------------------\n"
     ]
    },
    {
     "name": "stderr",
     "output_type": "stream",
     "text": [
      "246batch [00:04, 61.00batch/s]\n",
      "0batch [00:00, ?batch/s]"
     ]
    },
    {
     "name": "stdout",
     "output_type": "stream",
     "text": [
      "---------------------------------\n",
      "| batch_size        | 32        |\n",
      "| bc/               |           |\n",
      "|    batch          | 0         |\n",
      "|    ent_loss       | -1.28e-05 |\n",
      "|    entropy        | 0.0128    |\n",
      "|    epoch          | 0         |\n",
      "|    l2_loss        | 0         |\n",
      "|    l2_norm        | 1.26e+05  |\n",
      "|    loss           | 0.00139   |\n",
      "|    neglogp        | 0.0014    |\n",
      "|    prob_true_act  | 0.999     |\n",
      "|    samples_so_far | 32        |\n",
      "---------------------------------\n"
     ]
    },
    {
     "name": "stderr",
     "output_type": "stream",
     "text": [
      "246batch [00:04, 58.01batch/s]\n",
      "0batch [00:00, ?batch/s]"
     ]
    },
    {
     "name": "stdout",
     "output_type": "stream",
     "text": [
      "---------------------------------\n",
      "| batch_size        | 32        |\n",
      "| bc/               |           |\n",
      "|    batch          | 0         |\n",
      "|    ent_loss       | -5.83e-05 |\n",
      "|    entropy        | 0.0583    |\n",
      "|    epoch          | 0         |\n",
      "|    l2_loss        | 0         |\n",
      "|    l2_norm        | 1.26e+05  |\n",
      "|    loss           | 0.0365    |\n",
      "|    neglogp        | 0.0366    |\n",
      "|    prob_true_act  | 0.977     |\n",
      "|    samples_so_far | 32        |\n",
      "---------------------------------\n"
     ]
    },
    {
     "name": "stderr",
     "output_type": "stream",
     "text": [
      "246batch [00:04, 58.97batch/s]\n",
      "0batch [00:00, ?batch/s]"
     ]
    },
    {
     "name": "stdout",
     "output_type": "stream",
     "text": [
      "---------------------------------\n",
      "| batch_size        | 32        |\n",
      "| bc/               |           |\n",
      "|    batch          | 0         |\n",
      "|    ent_loss       | -2.38e-05 |\n",
      "|    entropy        | 0.0238    |\n",
      "|    epoch          | 0         |\n",
      "|    l2_loss        | 0         |\n",
      "|    l2_norm        | 1.26e+05  |\n",
      "|    loss           | 0.00261   |\n",
      "|    neglogp        | 0.00263   |\n",
      "|    prob_true_act  | 0.997     |\n",
      "|    samples_so_far | 32        |\n",
      "---------------------------------\n"
     ]
    },
    {
     "name": "stderr",
     "output_type": "stream",
     "text": [
      "246batch [00:04, 59.75batch/s]\n",
      "0batch [00:00, ?batch/s]"
     ]
    },
    {
     "name": "stdout",
     "output_type": "stream",
     "text": [
      "---------------------------------\n",
      "| batch_size        | 32        |\n",
      "| bc/               |           |\n",
      "|    batch          | 0         |\n",
      "|    ent_loss       | -1.99e-05 |\n",
      "|    entropy        | 0.0199    |\n",
      "|    epoch          | 0         |\n",
      "|    l2_loss        | 0         |\n",
      "|    l2_norm        | 1.26e+05  |\n",
      "|    loss           | 0.00225   |\n",
      "|    neglogp        | 0.00227   |\n",
      "|    prob_true_act  | 0.998     |\n",
      "|    samples_so_far | 32        |\n",
      "---------------------------------\n"
     ]
    },
    {
     "name": "stderr",
     "output_type": "stream",
     "text": [
      "246batch [00:04, 60.00batch/s]\n",
      "0batch [00:00, ?batch/s]"
     ]
    },
    {
     "name": "stdout",
     "output_type": "stream",
     "text": [
      "---------------------------------\n",
      "| batch_size        | 32        |\n",
      "| bc/               |           |\n",
      "|    batch          | 0         |\n",
      "|    ent_loss       | -9.14e-05 |\n",
      "|    entropy        | 0.0914    |\n",
      "|    epoch          | 0         |\n",
      "|    l2_loss        | 0         |\n",
      "|    l2_norm        | 1.26e+05  |\n",
      "|    loss           | 0.0743    |\n",
      "|    neglogp        | 0.0744    |\n",
      "|    prob_true_act  | 0.955     |\n",
      "|    samples_so_far | 32        |\n",
      "---------------------------------\n"
     ]
    },
    {
     "name": "stderr",
     "output_type": "stream",
     "text": [
      "246batch [00:04, 59.27batch/s]\n",
      "0batch [00:00, ?batch/s]"
     ]
    },
    {
     "name": "stdout",
     "output_type": "stream",
     "text": [
      "---------------------------------\n",
      "| batch_size        | 32        |\n",
      "| bc/               |           |\n",
      "|    batch          | 0         |\n",
      "|    ent_loss       | -6.79e-05 |\n",
      "|    entropy        | 0.0679    |\n",
      "|    epoch          | 0         |\n",
      "|    l2_loss        | 0         |\n",
      "|    l2_norm        | 1.26e+05  |\n",
      "|    loss           | 0.0493    |\n",
      "|    neglogp        | 0.0494    |\n",
      "|    prob_true_act  | 0.974     |\n",
      "|    samples_so_far | 32        |\n",
      "---------------------------------\n"
     ]
    },
    {
     "name": "stderr",
     "output_type": "stream",
     "text": [
      "246batch [00:04, 60.16batch/s]\n",
      "0batch [00:00, ?batch/s]"
     ]
    },
    {
     "name": "stdout",
     "output_type": "stream",
     "text": [
      "---------------------------------\n",
      "| batch_size        | 32        |\n",
      "| bc/               |           |\n",
      "|    batch          | 0         |\n",
      "|    ent_loss       | -2.19e-05 |\n",
      "|    entropy        | 0.0219    |\n",
      "|    epoch          | 0         |\n",
      "|    l2_loss        | 0         |\n",
      "|    l2_norm        | 1.27e+05  |\n",
      "|    loss           | 0.00235   |\n",
      "|    neglogp        | 0.00238   |\n",
      "|    prob_true_act  | 0.998     |\n",
      "|    samples_so_far | 32        |\n",
      "---------------------------------\n"
     ]
    },
    {
     "name": "stderr",
     "output_type": "stream",
     "text": [
      "246batch [00:04, 60.37batch/s]\n",
      "0batch [00:00, ?batch/s]"
     ]
    },
    {
     "name": "stdout",
     "output_type": "stream",
     "text": [
      "---------------------------------\n",
      "| batch_size        | 32        |\n",
      "| bc/               |           |\n",
      "|    batch          | 0         |\n",
      "|    ent_loss       | -1.04e-05 |\n",
      "|    entropy        | 0.0104    |\n",
      "|    epoch          | 0         |\n",
      "|    l2_loss        | 0         |\n",
      "|    l2_norm        | 1.27e+05  |\n",
      "|    loss           | 0.00106   |\n",
      "|    neglogp        | 0.00107   |\n",
      "|    prob_true_act  | 0.999     |\n",
      "|    samples_so_far | 32        |\n",
      "---------------------------------\n"
     ]
    },
    {
     "name": "stderr",
     "output_type": "stream",
     "text": [
      "246batch [00:04, 58.93batch/s]\n",
      "0batch [00:00, ?batch/s]"
     ]
    },
    {
     "name": "stdout",
     "output_type": "stream",
     "text": [
      "---------------------------------\n",
      "| batch_size        | 32        |\n",
      "| bc/               |           |\n",
      "|    batch          | 0         |\n",
      "|    ent_loss       | -6.46e-06 |\n",
      "|    entropy        | 0.00646   |\n",
      "|    epoch          | 0         |\n",
      "|    l2_loss        | 0         |\n",
      "|    l2_norm        | 1.27e+05  |\n",
      "|    loss           | 0.000653  |\n",
      "|    neglogp        | 0.000659  |\n",
      "|    prob_true_act  | 0.999     |\n",
      "|    samples_so_far | 32        |\n",
      "---------------------------------\n"
     ]
    },
    {
     "name": "stderr",
     "output_type": "stream",
     "text": [
      "246batch [00:04, 59.69batch/s]\n",
      "0batch [00:00, ?batch/s]"
     ]
    },
    {
     "name": "stdout",
     "output_type": "stream",
     "text": [
      "---------------------------------\n",
      "| batch_size        | 32        |\n",
      "| bc/               |           |\n",
      "|    batch          | 0         |\n",
      "|    ent_loss       | -3.54e-05 |\n",
      "|    entropy        | 0.0354    |\n",
      "|    epoch          | 0         |\n",
      "|    l2_loss        | 0         |\n",
      "|    l2_norm        | 1.27e+05  |\n",
      "|    loss           | 0.00967   |\n",
      "|    neglogp        | 0.00971   |\n",
      "|    prob_true_act  | 0.991     |\n",
      "|    samples_so_far | 32        |\n",
      "---------------------------------\n"
     ]
    },
    {
     "name": "stderr",
     "output_type": "stream",
     "text": [
      "246batch [00:04, 59.52batch/s]\n",
      "0batch [00:00, ?batch/s]"
     ]
    },
    {
     "name": "stdout",
     "output_type": "stream",
     "text": [
      "---------------------------------\n",
      "| batch_size        | 32        |\n",
      "| bc/               |           |\n",
      "|    batch          | 0         |\n",
      "|    ent_loss       | -4.88e-05 |\n",
      "|    entropy        | 0.0488    |\n",
      "|    epoch          | 0         |\n",
      "|    l2_loss        | 0         |\n",
      "|    l2_norm        | 1.27e+05  |\n",
      "|    loss           | 0.0217    |\n",
      "|    neglogp        | 0.0218    |\n",
      "|    prob_true_act  | 0.983     |\n",
      "|    samples_so_far | 32        |\n",
      "---------------------------------\n"
     ]
    },
    {
     "name": "stderr",
     "output_type": "stream",
     "text": [
      "246batch [00:04, 58.47batch/s]\n",
      "0batch [00:00, ?batch/s]"
     ]
    },
    {
     "name": "stdout",
     "output_type": "stream",
     "text": [
      "---------------------------------\n",
      "| batch_size        | 32        |\n",
      "| bc/               |           |\n",
      "|    batch          | 0         |\n",
      "|    ent_loss       | -1.85e-05 |\n",
      "|    entropy        | 0.0185    |\n",
      "|    epoch          | 0         |\n",
      "|    l2_loss        | 0         |\n",
      "|    l2_norm        | 1.27e+05  |\n",
      "|    loss           | 0.00227   |\n",
      "|    neglogp        | 0.00229   |\n",
      "|    prob_true_act  | 0.998     |\n",
      "|    samples_so_far | 32        |\n",
      "---------------------------------\n"
     ]
    },
    {
     "name": "stderr",
     "output_type": "stream",
     "text": [
      "246batch [00:04, 59.86batch/s]\n",
      "0batch [00:00, ?batch/s]"
     ]
    },
    {
     "name": "stdout",
     "output_type": "stream",
     "text": [
      "--------------------------------\n",
      "| batch_size        | 32       |\n",
      "| bc/               |          |\n",
      "|    batch          | 0        |\n",
      "|    ent_loss       | -5.3e-05 |\n",
      "|    entropy        | 0.053    |\n",
      "|    epoch          | 0        |\n",
      "|    l2_loss        | 0        |\n",
      "|    l2_norm        | 1.27e+05 |\n",
      "|    loss           | 0.0422   |\n",
      "|    neglogp        | 0.0423   |\n",
      "|    prob_true_act  | 0.975    |\n",
      "|    samples_so_far | 32       |\n",
      "--------------------------------\n"
     ]
    },
    {
     "name": "stderr",
     "output_type": "stream",
     "text": [
      "246batch [00:04, 59.63batch/s]\n",
      "0batch [00:00, ?batch/s]"
     ]
    },
    {
     "name": "stdout",
     "output_type": "stream",
     "text": [
      "---------------------------------\n",
      "| batch_size        | 32        |\n",
      "| bc/               |           |\n",
      "|    batch          | 0         |\n",
      "|    ent_loss       | -2.51e-05 |\n",
      "|    entropy        | 0.0251    |\n",
      "|    epoch          | 0         |\n",
      "|    l2_loss        | 0         |\n",
      "|    l2_norm        | 1.28e+05  |\n",
      "|    loss           | 0.0483    |\n",
      "|    neglogp        | 0.0483    |\n",
      "|    prob_true_act  | 0.975     |\n",
      "|    samples_so_far | 32        |\n",
      "---------------------------------\n"
     ]
    },
    {
     "name": "stderr",
     "output_type": "stream",
     "text": [
      "246batch [00:04, 61.03batch/s]\n",
      "0batch [00:00, ?batch/s]"
     ]
    },
    {
     "name": "stdout",
     "output_type": "stream",
     "text": [
      "---------------------------------\n",
      "| batch_size        | 32        |\n",
      "| bc/               |           |\n",
      "|    batch          | 0         |\n",
      "|    ent_loss       | -1.54e-05 |\n",
      "|    entropy        | 0.0154    |\n",
      "|    epoch          | 0         |\n",
      "|    l2_loss        | 0         |\n",
      "|    l2_norm        | 1.28e+05  |\n",
      "|    loss           | 0.00167   |\n",
      "|    neglogp        | 0.00169   |\n",
      "|    prob_true_act  | 0.998     |\n",
      "|    samples_so_far | 32        |\n",
      "---------------------------------\n"
     ]
    },
    {
     "name": "stderr",
     "output_type": "stream",
     "text": [
      "246batch [00:04, 60.05batch/s]\n",
      "0batch [00:00, ?batch/s]"
     ]
    },
    {
     "name": "stdout",
     "output_type": "stream",
     "text": [
      "---------------------------------\n",
      "| batch_size        | 32        |\n",
      "| bc/               |           |\n",
      "|    batch          | 0         |\n",
      "|    ent_loss       | -8.56e-06 |\n",
      "|    entropy        | 0.00856   |\n",
      "|    epoch          | 0         |\n",
      "|    l2_loss        | 0         |\n",
      "|    l2_norm        | 1.28e+05  |\n",
      "|    loss           | 0.000827  |\n",
      "|    neglogp        | 0.000835  |\n",
      "|    prob_true_act  | 0.999     |\n",
      "|    samples_so_far | 32        |\n",
      "---------------------------------\n"
     ]
    },
    {
     "name": "stderr",
     "output_type": "stream",
     "text": [
      "246batch [00:04, 60.88batch/s]\n",
      "0batch [00:00, ?batch/s]"
     ]
    },
    {
     "name": "stdout",
     "output_type": "stream",
     "text": [
      "--------------------------------\n",
      "| batch_size        | 32       |\n",
      "| bc/               |          |\n",
      "|    batch          | 0        |\n",
      "|    ent_loss       | -1.8e-05 |\n",
      "|    entropy        | 0.018    |\n",
      "|    epoch          | 0        |\n",
      "|    l2_loss        | 0        |\n",
      "|    l2_norm        | 1.28e+05 |\n",
      "|    loss           | 0.0019   |\n",
      "|    neglogp        | 0.00191  |\n",
      "|    prob_true_act  | 0.998    |\n",
      "|    samples_so_far | 32       |\n",
      "--------------------------------\n"
     ]
    },
    {
     "name": "stderr",
     "output_type": "stream",
     "text": [
      "246batch [00:04, 59.65batch/s]\n",
      "0batch [00:00, ?batch/s]"
     ]
    },
    {
     "name": "stdout",
     "output_type": "stream",
     "text": [
      "---------------------------------\n",
      "| batch_size        | 32        |\n",
      "| bc/               |           |\n",
      "|    batch          | 0         |\n",
      "|    ent_loss       | -1.56e-05 |\n",
      "|    entropy        | 0.0156    |\n",
      "|    epoch          | 0         |\n",
      "|    l2_loss        | 0         |\n",
      "|    l2_norm        | 1.28e+05  |\n",
      "|    loss           | 0.00164   |\n",
      "|    neglogp        | 0.00166   |\n",
      "|    prob_true_act  | 0.998     |\n",
      "|    samples_so_far | 32        |\n",
      "---------------------------------\n"
     ]
    },
    {
     "name": "stderr",
     "output_type": "stream",
     "text": [
      "246batch [00:03, 61.53batch/s]\n",
      "0batch [00:00, ?batch/s]"
     ]
    },
    {
     "name": "stdout",
     "output_type": "stream",
     "text": [
      "---------------------------------\n",
      "| batch_size        | 32        |\n",
      "| bc/               |           |\n",
      "|    batch          | 0         |\n",
      "|    ent_loss       | -6.33e-05 |\n",
      "|    entropy        | 0.0633    |\n",
      "|    epoch          | 0         |\n",
      "|    l2_loss        | 0         |\n",
      "|    l2_norm        | 1.28e+05  |\n",
      "|    loss           | 0.0421    |\n",
      "|    neglogp        | 0.0421    |\n",
      "|    prob_true_act  | 0.969     |\n",
      "|    samples_so_far | 32        |\n",
      "---------------------------------\n"
     ]
    },
    {
     "name": "stderr",
     "output_type": "stream",
     "text": [
      "246batch [00:04, 60.70batch/s]\n",
      "0batch [00:00, ?batch/s]"
     ]
    },
    {
     "name": "stdout",
     "output_type": "stream",
     "text": [
      "---------------------------------\n",
      "| batch_size        | 32        |\n",
      "| bc/               |           |\n",
      "|    batch          | 0         |\n",
      "|    ent_loss       | -1.11e-05 |\n",
      "|    entropy        | 0.0111    |\n",
      "|    epoch          | 0         |\n",
      "|    l2_loss        | 0         |\n",
      "|    l2_norm        | 1.28e+05  |\n",
      "|    loss           | 0.00115   |\n",
      "|    neglogp        | 0.00116   |\n",
      "|    prob_true_act  | 0.999     |\n",
      "|    samples_so_far | 32        |\n",
      "---------------------------------\n"
     ]
    },
    {
     "name": "stderr",
     "output_type": "stream",
     "text": [
      "246batch [00:04, 59.69batch/s]\n",
      "0batch [00:00, ?batch/s]"
     ]
    },
    {
     "name": "stdout",
     "output_type": "stream",
     "text": [
      "---------------------------------\n",
      "| batch_size        | 32        |\n",
      "| bc/               |           |\n",
      "|    batch          | 0         |\n",
      "|    ent_loss       | -1.14e-05 |\n",
      "|    entropy        | 0.0114    |\n",
      "|    epoch          | 0         |\n",
      "|    l2_loss        | 0         |\n",
      "|    l2_norm        | 1.29e+05  |\n",
      "|    loss           | 0.00116   |\n",
      "|    neglogp        | 0.00117   |\n",
      "|    prob_true_act  | 0.999     |\n",
      "|    samples_so_far | 32        |\n",
      "---------------------------------\n"
     ]
    },
    {
     "name": "stderr",
     "output_type": "stream",
     "text": [
      "246batch [00:04, 59.86batch/s]\n",
      "0batch [00:00, ?batch/s]"
     ]
    },
    {
     "name": "stdout",
     "output_type": "stream",
     "text": [
      "---------------------------------\n",
      "| batch_size        | 32        |\n",
      "| bc/               |           |\n",
      "|    batch          | 0         |\n",
      "|    ent_loss       | -1.02e-05 |\n",
      "|    entropy        | 0.0102    |\n",
      "|    epoch          | 0         |\n",
      "|    l2_loss        | 0         |\n",
      "|    l2_norm        | 1.29e+05  |\n",
      "|    loss           | 0.00106   |\n",
      "|    neglogp        | 0.00107   |\n",
      "|    prob_true_act  | 0.999     |\n",
      "|    samples_so_far | 32        |\n",
      "---------------------------------\n"
     ]
    },
    {
     "name": "stderr",
     "output_type": "stream",
     "text": [
      "246batch [00:05, 45.66batch/s]\n"
     ]
    },
    {
     "name": "stdout",
     "output_type": "stream",
     "text": [
      "Checkpoint saved at checkpoints\\bc_model_epoch_200.zip\n"
     ]
    },
    {
     "name": "stderr",
     "output_type": "stream",
     "text": [
      "0batch [00:00, ?batch/s]"
     ]
    },
    {
     "name": "stdout",
     "output_type": "stream",
     "text": [
      "---------------------------------\n",
      "| batch_size        | 32        |\n",
      "| bc/               |           |\n",
      "|    batch          | 0         |\n",
      "|    ent_loss       | -4.19e-05 |\n",
      "|    entropy        | 0.0419    |\n",
      "|    epoch          | 0         |\n",
      "|    l2_loss        | 0         |\n",
      "|    l2_norm        | 1.29e+05  |\n",
      "|    loss           | 0.0347    |\n",
      "|    neglogp        | 0.0347    |\n",
      "|    prob_true_act  | 0.979     |\n",
      "|    samples_so_far | 32        |\n",
      "---------------------------------\n"
     ]
    },
    {
     "name": "stderr",
     "output_type": "stream",
     "text": [
      "246batch [00:04, 50.28batch/s]\n",
      "0batch [00:00, ?batch/s]"
     ]
    },
    {
     "name": "stdout",
     "output_type": "stream",
     "text": [
      "---------------------------------\n",
      "| batch_size        | 32        |\n",
      "| bc/               |           |\n",
      "|    batch          | 0         |\n",
      "|    ent_loss       | -4.36e-05 |\n",
      "|    entropy        | 0.0436    |\n",
      "|    epoch          | 0         |\n",
      "|    l2_loss        | 0         |\n",
      "|    l2_norm        | 1.29e+05  |\n",
      "|    loss           | 0.0188    |\n",
      "|    neglogp        | 0.0189    |\n",
      "|    prob_true_act  | 0.985     |\n",
      "|    samples_so_far | 32        |\n",
      "---------------------------------\n"
     ]
    },
    {
     "name": "stderr",
     "output_type": "stream",
     "text": [
      "246batch [00:04, 54.04batch/s]\n",
      "0batch [00:00, ?batch/s]"
     ]
    },
    {
     "name": "stdout",
     "output_type": "stream",
     "text": [
      "---------------------------------\n",
      "| batch_size        | 32        |\n",
      "| bc/               |           |\n",
      "|    batch          | 0         |\n",
      "|    ent_loss       | -6.81e-05 |\n",
      "|    entropy        | 0.0681    |\n",
      "|    epoch          | 0         |\n",
      "|    l2_loss        | 0         |\n",
      "|    l2_norm        | 1.29e+05  |\n",
      "|    loss           | 0.0434    |\n",
      "|    neglogp        | 0.0435    |\n",
      "|    prob_true_act  | 0.969     |\n",
      "|    samples_so_far | 32        |\n",
      "---------------------------------\n"
     ]
    },
    {
     "name": "stderr",
     "output_type": "stream",
     "text": [
      "246batch [00:04, 52.89batch/s]\n",
      "0batch [00:00, ?batch/s]"
     ]
    },
    {
     "name": "stdout",
     "output_type": "stream",
     "text": [
      "---------------------------------\n",
      "| batch_size        | 32        |\n",
      "| bc/               |           |\n",
      "|    batch          | 0         |\n",
      "|    ent_loss       | -2.88e-05 |\n",
      "|    entropy        | 0.0288    |\n",
      "|    epoch          | 0         |\n",
      "|    l2_loss        | 0         |\n",
      "|    l2_norm        | 1.3e+05   |\n",
      "|    loss           | 0.0145    |\n",
      "|    neglogp        | 0.0146    |\n",
      "|    prob_true_act  | 0.988     |\n",
      "|    samples_so_far | 32        |\n",
      "---------------------------------\n"
     ]
    },
    {
     "name": "stderr",
     "output_type": "stream",
     "text": [
      "246batch [00:05, 47.86batch/s]\n",
      "0batch [00:00, ?batch/s]"
     ]
    },
    {
     "name": "stdout",
     "output_type": "stream",
     "text": [
      "---------------------------------\n",
      "| batch_size        | 32        |\n",
      "| bc/               |           |\n",
      "|    batch          | 0         |\n",
      "|    ent_loss       | -7.85e-05 |\n",
      "|    entropy        | 0.0785    |\n",
      "|    epoch          | 0         |\n",
      "|    l2_loss        | 0         |\n",
      "|    l2_norm        | 1.29e+05  |\n",
      "|    loss           | 0.0959    |\n",
      "|    neglogp        | 0.096     |\n",
      "|    prob_true_act  | 0.96      |\n",
      "|    samples_so_far | 32        |\n",
      "---------------------------------\n"
     ]
    },
    {
     "name": "stderr",
     "output_type": "stream",
     "text": [
      "246batch [00:04, 54.59batch/s]\n",
      "0batch [00:00, ?batch/s]"
     ]
    },
    {
     "name": "stdout",
     "output_type": "stream",
     "text": [
      "---------------------------------\n",
      "| batch_size        | 32        |\n",
      "| bc/               |           |\n",
      "|    batch          | 0         |\n",
      "|    ent_loss       | -3.64e-05 |\n",
      "|    entropy        | 0.0364    |\n",
      "|    epoch          | 0         |\n",
      "|    l2_loss        | 0         |\n",
      "|    l2_norm        | 1.29e+05  |\n",
      "|    loss           | 0.0303    |\n",
      "|    neglogp        | 0.0304    |\n",
      "|    prob_true_act  | 0.98      |\n",
      "|    samples_so_far | 32        |\n",
      "---------------------------------\n"
     ]
    },
    {
     "name": "stderr",
     "output_type": "stream",
     "text": [
      "246batch [00:05, 47.03batch/s]\n",
      "0batch [00:00, ?batch/s]"
     ]
    },
    {
     "name": "stdout",
     "output_type": "stream",
     "text": [
      "---------------------------------\n",
      "| batch_size        | 32        |\n",
      "| bc/               |           |\n",
      "|    batch          | 0         |\n",
      "|    ent_loss       | -1.08e-05 |\n",
      "|    entropy        | 0.0108    |\n",
      "|    epoch          | 0         |\n",
      "|    l2_loss        | 0         |\n",
      "|    l2_norm        | 1.3e+05   |\n",
      "|    loss           | 0.00117   |\n",
      "|    neglogp        | 0.00118   |\n",
      "|    prob_true_act  | 0.999     |\n",
      "|    samples_so_far | 32        |\n",
      "---------------------------------\n"
     ]
    },
    {
     "name": "stderr",
     "output_type": "stream",
     "text": [
      "246batch [00:04, 50.01batch/s]\n",
      "0batch [00:00, ?batch/s]"
     ]
    },
    {
     "name": "stdout",
     "output_type": "stream",
     "text": [
      "---------------------------------\n",
      "| batch_size        | 32        |\n",
      "| bc/               |           |\n",
      "|    batch          | 0         |\n",
      "|    ent_loss       | -6.02e-05 |\n",
      "|    entropy        | 0.0602    |\n",
      "|    epoch          | 0         |\n",
      "|    l2_loss        | 0         |\n",
      "|    l2_norm        | 1.3e+05   |\n",
      "|    loss           | 0.0383    |\n",
      "|    neglogp        | 0.0384    |\n",
      "|    prob_true_act  | 0.972     |\n",
      "|    samples_so_far | 32        |\n",
      "---------------------------------\n"
     ]
    },
    {
     "name": "stderr",
     "output_type": "stream",
     "text": [
      "246batch [00:04, 49.81batch/s]\n",
      "0batch [00:00, ?batch/s]"
     ]
    },
    {
     "name": "stdout",
     "output_type": "stream",
     "text": [
      "---------------------------------\n",
      "| batch_size        | 32        |\n",
      "| bc/               |           |\n",
      "|    batch          | 0         |\n",
      "|    ent_loss       | -7.81e-05 |\n",
      "|    entropy        | 0.0781    |\n",
      "|    epoch          | 0         |\n",
      "|    l2_loss        | 0         |\n",
      "|    l2_norm        | 1.3e+05   |\n",
      "|    loss           | 0.0497    |\n",
      "|    neglogp        | 0.0498    |\n",
      "|    prob_true_act  | 0.962     |\n",
      "|    samples_so_far | 32        |\n",
      "---------------------------------\n"
     ]
    },
    {
     "name": "stderr",
     "output_type": "stream",
     "text": [
      "246batch [00:04, 53.56batch/s]\n",
      "0batch [00:00, ?batch/s]"
     ]
    },
    {
     "name": "stdout",
     "output_type": "stream",
     "text": [
      "---------------------------------\n",
      "| batch_size        | 32        |\n",
      "| bc/               |           |\n",
      "|    batch          | 0         |\n",
      "|    ent_loss       | -5.97e-06 |\n",
      "|    entropy        | 0.00597   |\n",
      "|    epoch          | 0         |\n",
      "|    l2_loss        | 0         |\n",
      "|    l2_norm        | 1.3e+05   |\n",
      "|    loss           | 0.000593  |\n",
      "|    neglogp        | 0.000599  |\n",
      "|    prob_true_act  | 0.999     |\n",
      "|    samples_so_far | 32        |\n",
      "---------------------------------\n"
     ]
    },
    {
     "name": "stderr",
     "output_type": "stream",
     "text": [
      "246batch [00:04, 53.43batch/s]\n",
      "0batch [00:00, ?batch/s]"
     ]
    },
    {
     "name": "stdout",
     "output_type": "stream",
     "text": [
      "---------------------------------\n",
      "| batch_size        | 32        |\n",
      "| bc/               |           |\n",
      "|    batch          | 0         |\n",
      "|    ent_loss       | -4.04e-05 |\n",
      "|    entropy        | 0.0404    |\n",
      "|    epoch          | 0         |\n",
      "|    l2_loss        | 0         |\n",
      "|    l2_norm        | 1.3e+05   |\n",
      "|    loss           | 0.0476    |\n",
      "|    neglogp        | 0.0476    |\n",
      "|    prob_true_act  | 0.975     |\n",
      "|    samples_so_far | 32        |\n",
      "---------------------------------\n"
     ]
    },
    {
     "name": "stderr",
     "output_type": "stream",
     "text": [
      "246batch [00:04, 55.14batch/s]\n",
      "0batch [00:00, ?batch/s]"
     ]
    },
    {
     "name": "stdout",
     "output_type": "stream",
     "text": [
      "---------------------------------\n",
      "| batch_size        | 32        |\n",
      "| bc/               |           |\n",
      "|    batch          | 0         |\n",
      "|    ent_loss       | -5.04e-05 |\n",
      "|    entropy        | 0.0504    |\n",
      "|    epoch          | 0         |\n",
      "|    l2_loss        | 0         |\n",
      "|    l2_norm        | 1.3e+05   |\n",
      "|    loss           | 0.0431    |\n",
      "|    neglogp        | 0.0431    |\n",
      "|    prob_true_act  | 0.976     |\n",
      "|    samples_so_far | 32        |\n",
      "---------------------------------\n"
     ]
    },
    {
     "name": "stderr",
     "output_type": "stream",
     "text": [
      "246batch [00:04, 54.84batch/s]\n",
      "0batch [00:00, ?batch/s]"
     ]
    },
    {
     "name": "stdout",
     "output_type": "stream",
     "text": [
      "---------------------------------\n",
      "| batch_size        | 32        |\n",
      "| bc/               |           |\n",
      "|    batch          | 0         |\n",
      "|    ent_loss       | -1.52e-05 |\n",
      "|    entropy        | 0.0152    |\n",
      "|    epoch          | 0         |\n",
      "|    l2_loss        | 0         |\n",
      "|    l2_norm        | 1.3e+05   |\n",
      "|    loss           | 0.00156   |\n",
      "|    neglogp        | 0.00158   |\n",
      "|    prob_true_act  | 0.998     |\n",
      "|    samples_so_far | 32        |\n",
      "---------------------------------\n"
     ]
    },
    {
     "name": "stderr",
     "output_type": "stream",
     "text": [
      "246batch [00:04, 53.05batch/s]\n",
      "0batch [00:00, ?batch/s]"
     ]
    },
    {
     "name": "stdout",
     "output_type": "stream",
     "text": [
      "---------------------------------\n",
      "| batch_size        | 32        |\n",
      "| bc/               |           |\n",
      "|    batch          | 0         |\n",
      "|    ent_loss       | -3.25e-05 |\n",
      "|    entropy        | 0.0325    |\n",
      "|    epoch          | 0         |\n",
      "|    l2_loss        | 0         |\n",
      "|    l2_norm        | 1.31e+05  |\n",
      "|    loss           | 0.0176    |\n",
      "|    neglogp        | 0.0177    |\n",
      "|    prob_true_act  | 0.986     |\n",
      "|    samples_so_far | 32        |\n",
      "---------------------------------\n"
     ]
    },
    {
     "name": "stderr",
     "output_type": "stream",
     "text": [
      "246batch [00:04, 54.90batch/s]\n",
      "0batch [00:00, ?batch/s]"
     ]
    },
    {
     "name": "stdout",
     "output_type": "stream",
     "text": [
      "--------------------------------\n",
      "| batch_size        | 32       |\n",
      "| bc/               |          |\n",
      "|    batch          | 0        |\n",
      "|    ent_loss       | -7.5e-06 |\n",
      "|    entropy        | 0.0075   |\n",
      "|    epoch          | 0        |\n",
      "|    l2_loss        | 0        |\n",
      "|    l2_norm        | 1.31e+05 |\n",
      "|    loss           | 0.000725 |\n",
      "|    neglogp        | 0.000733 |\n",
      "|    prob_true_act  | 0.999    |\n",
      "|    samples_so_far | 32       |\n",
      "--------------------------------\n"
     ]
    },
    {
     "name": "stderr",
     "output_type": "stream",
     "text": [
      "246batch [00:04, 51.20batch/s]\n",
      "0batch [00:00, ?batch/s]"
     ]
    },
    {
     "name": "stdout",
     "output_type": "stream",
     "text": [
      "---------------------------------\n",
      "| batch_size        | 32        |\n",
      "| bc/               |           |\n",
      "|    batch          | 0         |\n",
      "|    ent_loss       | -9.75e-06 |\n",
      "|    entropy        | 0.00975   |\n",
      "|    epoch          | 0         |\n",
      "|    l2_loss        | 0         |\n",
      "|    l2_norm        | 1.31e+05  |\n",
      "|    loss           | 0.00099   |\n",
      "|    neglogp        | 0.001     |\n",
      "|    prob_true_act  | 0.999     |\n",
      "|    samples_so_far | 32        |\n",
      "---------------------------------\n"
     ]
    },
    {
     "name": "stderr",
     "output_type": "stream",
     "text": [
      "246batch [00:05, 48.16batch/s]\n",
      "0batch [00:00, ?batch/s]"
     ]
    },
    {
     "name": "stdout",
     "output_type": "stream",
     "text": [
      "---------------------------------\n",
      "| batch_size        | 32        |\n",
      "| bc/               |           |\n",
      "|    batch          | 0         |\n",
      "|    ent_loss       | -8.56e-06 |\n",
      "|    entropy        | 0.00856   |\n",
      "|    epoch          | 0         |\n",
      "|    l2_loss        | 0         |\n",
      "|    l2_norm        | 1.31e+05  |\n",
      "|    loss           | 0.000867  |\n",
      "|    neglogp        | 0.000876  |\n",
      "|    prob_true_act  | 0.999     |\n",
      "|    samples_so_far | 32        |\n",
      "---------------------------------\n"
     ]
    },
    {
     "name": "stderr",
     "output_type": "stream",
     "text": [
      "246batch [00:04, 53.74batch/s]\n",
      "0batch [00:00, ?batch/s]"
     ]
    },
    {
     "name": "stdout",
     "output_type": "stream",
     "text": [
      "---------------------------------\n",
      "| batch_size        | 32        |\n",
      "| bc/               |           |\n",
      "|    batch          | 0         |\n",
      "|    ent_loss       | -5.06e-05 |\n",
      "|    entropy        | 0.0506    |\n",
      "|    epoch          | 0         |\n",
      "|    l2_loss        | 0         |\n",
      "|    l2_norm        | 1.31e+05  |\n",
      "|    loss           | 0.029     |\n",
      "|    neglogp        | 0.029     |\n",
      "|    prob_true_act  | 0.977     |\n",
      "|    samples_so_far | 32        |\n",
      "---------------------------------\n"
     ]
    },
    {
     "name": "stderr",
     "output_type": "stream",
     "text": [
      "246batch [00:04, 54.11batch/s]\n",
      "0batch [00:00, ?batch/s]"
     ]
    },
    {
     "name": "stdout",
     "output_type": "stream",
     "text": [
      "---------------------------------\n",
      "| batch_size        | 32        |\n",
      "| bc/               |           |\n",
      "|    batch          | 0         |\n",
      "|    ent_loss       | -8.67e-06 |\n",
      "|    entropy        | 0.00867   |\n",
      "|    epoch          | 0         |\n",
      "|    l2_loss        | 0         |\n",
      "|    l2_norm        | 1.31e+05  |\n",
      "|    loss           | 0.000906  |\n",
      "|    neglogp        | 0.000914  |\n",
      "|    prob_true_act  | 0.999     |\n",
      "|    samples_so_far | 32        |\n",
      "---------------------------------\n"
     ]
    },
    {
     "name": "stderr",
     "output_type": "stream",
     "text": [
      "246batch [00:04, 53.36batch/s]\n",
      "0batch [00:00, ?batch/s]"
     ]
    },
    {
     "name": "stdout",
     "output_type": "stream",
     "text": [
      "---------------------------------\n",
      "| batch_size        | 32        |\n",
      "| bc/               |           |\n",
      "|    batch          | 0         |\n",
      "|    ent_loss       | -7.86e-05 |\n",
      "|    entropy        | 0.0786    |\n",
      "|    epoch          | 0         |\n",
      "|    l2_loss        | 0         |\n",
      "|    l2_norm        | 1.31e+05  |\n",
      "|    loss           | 0.0925    |\n",
      "|    neglogp        | 0.0925    |\n",
      "|    prob_true_act  | 0.951     |\n",
      "|    samples_so_far | 32        |\n",
      "---------------------------------\n"
     ]
    },
    {
     "name": "stderr",
     "output_type": "stream",
     "text": [
      "246batch [00:04, 54.35batch/s]\n",
      "0batch [00:00, ?batch/s]"
     ]
    },
    {
     "name": "stdout",
     "output_type": "stream",
     "text": [
      "---------------------------------\n",
      "| batch_size        | 32        |\n",
      "| bc/               |           |\n",
      "|    batch          | 0         |\n",
      "|    ent_loss       | -3.79e-06 |\n",
      "|    entropy        | 0.00379   |\n",
      "|    epoch          | 0         |\n",
      "|    l2_loss        | 0         |\n",
      "|    l2_norm        | 1.32e+05  |\n",
      "|    loss           | 0.000359  |\n",
      "|    neglogp        | 0.000363  |\n",
      "|    prob_true_act  | 1         |\n",
      "|    samples_so_far | 32        |\n",
      "---------------------------------\n"
     ]
    },
    {
     "name": "stderr",
     "output_type": "stream",
     "text": [
      "246batch [00:04, 54.36batch/s]\n",
      "0batch [00:00, ?batch/s]"
     ]
    },
    {
     "name": "stdout",
     "output_type": "stream",
     "text": [
      "---------------------------------\n",
      "| batch_size        | 32        |\n",
      "| bc/               |           |\n",
      "|    batch          | 0         |\n",
      "|    ent_loss       | -3.88e-05 |\n",
      "|    entropy        | 0.0388    |\n",
      "|    epoch          | 0         |\n",
      "|    l2_loss        | 0         |\n",
      "|    l2_norm        | 1.32e+05  |\n",
      "|    loss           | 0.0488    |\n",
      "|    neglogp        | 0.0488    |\n",
      "|    prob_true_act  | 0.975     |\n",
      "|    samples_so_far | 32        |\n",
      "---------------------------------\n"
     ]
    },
    {
     "name": "stderr",
     "output_type": "stream",
     "text": [
      "246batch [00:04, 52.16batch/s]\n",
      "0batch [00:00, ?batch/s]"
     ]
    },
    {
     "name": "stdout",
     "output_type": "stream",
     "text": [
      "---------------------------------\n",
      "| batch_size        | 32        |\n",
      "| bc/               |           |\n",
      "|    batch          | 0         |\n",
      "|    ent_loss       | -3.21e-05 |\n",
      "|    entropy        | 0.0321    |\n",
      "|    epoch          | 0         |\n",
      "|    l2_loss        | 0         |\n",
      "|    l2_norm        | 1.32e+05  |\n",
      "|    loss           | 0.0192    |\n",
      "|    neglogp        | 0.0193    |\n",
      "|    prob_true_act  | 0.985     |\n",
      "|    samples_so_far | 32        |\n",
      "---------------------------------\n"
     ]
    },
    {
     "name": "stderr",
     "output_type": "stream",
     "text": [
      "246batch [00:04, 54.39batch/s]\n",
      "0batch [00:00, ?batch/s]"
     ]
    },
    {
     "name": "stdout",
     "output_type": "stream",
     "text": [
      "---------------------------------\n",
      "| batch_size        | 32        |\n",
      "| bc/               |           |\n",
      "|    batch          | 0         |\n",
      "|    ent_loss       | -4.98e-05 |\n",
      "|    entropy        | 0.0498    |\n",
      "|    epoch          | 0         |\n",
      "|    l2_loss        | 0         |\n",
      "|    l2_norm        | 1.32e+05  |\n",
      "|    loss           | 0.0373    |\n",
      "|    neglogp        | 0.0373    |\n",
      "|    prob_true_act  | 0.977     |\n",
      "|    samples_so_far | 32        |\n",
      "---------------------------------\n"
     ]
    },
    {
     "name": "stderr",
     "output_type": "stream",
     "text": [
      "246batch [00:04, 54.24batch/s]\n",
      "0batch [00:00, ?batch/s]"
     ]
    },
    {
     "name": "stdout",
     "output_type": "stream",
     "text": [
      "---------------------------------\n",
      "| batch_size        | 32        |\n",
      "| bc/               |           |\n",
      "|    batch          | 0         |\n",
      "|    ent_loss       | -9.46e-05 |\n",
      "|    entropy        | 0.0946    |\n",
      "|    epoch          | 0         |\n",
      "|    l2_loss        | 0         |\n",
      "|    l2_norm        | 1.32e+05  |\n",
      "|    loss           | 0.0869    |\n",
      "|    neglogp        | 0.087     |\n",
      "|    prob_true_act  | 0.946     |\n",
      "|    samples_so_far | 32        |\n",
      "---------------------------------\n"
     ]
    },
    {
     "name": "stderr",
     "output_type": "stream",
     "text": [
      "246batch [00:04, 53.24batch/s]\n",
      "0batch [00:00, ?batch/s]"
     ]
    },
    {
     "name": "stdout",
     "output_type": "stream",
     "text": [
      "---------------------------------\n",
      "| batch_size        | 32        |\n",
      "| bc/               |           |\n",
      "|    batch          | 0         |\n",
      "|    ent_loss       | -2.99e-05 |\n",
      "|    entropy        | 0.0299    |\n",
      "|    epoch          | 0         |\n",
      "|    l2_loss        | 0         |\n",
      "|    l2_norm        | 1.33e+05  |\n",
      "|    loss           | 0.0127    |\n",
      "|    neglogp        | 0.0127    |\n",
      "|    prob_true_act  | 0.989     |\n",
      "|    samples_so_far | 32        |\n",
      "---------------------------------\n"
     ]
    },
    {
     "name": "stderr",
     "output_type": "stream",
     "text": [
      "246batch [00:04, 53.99batch/s]\n",
      "0batch [00:00, ?batch/s]"
     ]
    },
    {
     "name": "stdout",
     "output_type": "stream",
     "text": [
      "---------------------------------\n",
      "| batch_size        | 32        |\n",
      "| bc/               |           |\n",
      "|    batch          | 0         |\n",
      "|    ent_loss       | -9.78e-05 |\n",
      "|    entropy        | 0.0978    |\n",
      "|    epoch          | 0         |\n",
      "|    l2_loss        | 0         |\n",
      "|    l2_norm        | 1.33e+05  |\n",
      "|    loss           | 0.0839    |\n",
      "|    neglogp        | 0.084     |\n",
      "|    prob_true_act  | 0.949     |\n",
      "|    samples_so_far | 32        |\n",
      "---------------------------------\n"
     ]
    },
    {
     "name": "stderr",
     "output_type": "stream",
     "text": [
      "246batch [00:04, 54.89batch/s]\n",
      "0batch [00:00, ?batch/s]"
     ]
    },
    {
     "name": "stdout",
     "output_type": "stream",
     "text": [
      "---------------------------------\n",
      "| batch_size        | 32        |\n",
      "| bc/               |           |\n",
      "|    batch          | 0         |\n",
      "|    ent_loss       | -1.12e-05 |\n",
      "|    entropy        | 0.0112    |\n",
      "|    epoch          | 0         |\n",
      "|    l2_loss        | 0         |\n",
      "|    l2_norm        | 1.33e+05  |\n",
      "|    loss           | 0.00119   |\n",
      "|    neglogp        | 0.0012    |\n",
      "|    prob_true_act  | 0.999     |\n",
      "|    samples_so_far | 32        |\n",
      "---------------------------------\n"
     ]
    },
    {
     "name": "stderr",
     "output_type": "stream",
     "text": [
      "246batch [00:04, 52.99batch/s]\n",
      "0batch [00:00, ?batch/s]"
     ]
    },
    {
     "name": "stdout",
     "output_type": "stream",
     "text": [
      "---------------------------------\n",
      "| batch_size        | 32        |\n",
      "| bc/               |           |\n",
      "|    batch          | 0         |\n",
      "|    ent_loss       | -3.48e-05 |\n",
      "|    entropy        | 0.0348    |\n",
      "|    epoch          | 0         |\n",
      "|    l2_loss        | 0         |\n",
      "|    l2_norm        | 1.33e+05  |\n",
      "|    loss           | 0.0282    |\n",
      "|    neglogp        | 0.0282    |\n",
      "|    prob_true_act  | 0.981     |\n",
      "|    samples_so_far | 32        |\n",
      "---------------------------------\n"
     ]
    },
    {
     "name": "stderr",
     "output_type": "stream",
     "text": [
      "246batch [00:04, 53.64batch/s]\n",
      "0batch [00:00, ?batch/s]"
     ]
    },
    {
     "name": "stdout",
     "output_type": "stream",
     "text": [
      "---------------------------------\n",
      "| batch_size        | 32        |\n",
      "| bc/               |           |\n",
      "|    batch          | 0         |\n",
      "|    ent_loss       | -0.000162 |\n",
      "|    entropy        | 0.162     |\n",
      "|    epoch          | 0         |\n",
      "|    l2_loss        | 0         |\n",
      "|    l2_norm        | 1.33e+05  |\n",
      "|    loss           | 0.143     |\n",
      "|    neglogp        | 0.143     |\n",
      "|    prob_true_act  | 0.919     |\n",
      "|    samples_so_far | 32        |\n",
      "---------------------------------\n"
     ]
    },
    {
     "name": "stderr",
     "output_type": "stream",
     "text": [
      "246batch [00:04, 54.20batch/s]\n",
      "0batch [00:00, ?batch/s]"
     ]
    },
    {
     "name": "stdout",
     "output_type": "stream",
     "text": [
      "--------------------------------\n",
      "| batch_size        | 32       |\n",
      "| bc/               |          |\n",
      "|    batch          | 0        |\n",
      "|    ent_loss       | -6.6e-05 |\n",
      "|    entropy        | 0.066    |\n",
      "|    epoch          | 0        |\n",
      "|    l2_loss        | 0        |\n",
      "|    l2_norm        | 1.34e+05 |\n",
      "|    loss           | 0.053    |\n",
      "|    neglogp        | 0.0531   |\n",
      "|    prob_true_act  | 0.968    |\n",
      "|    samples_so_far | 32       |\n",
      "--------------------------------\n"
     ]
    },
    {
     "name": "stderr",
     "output_type": "stream",
     "text": [
      "246batch [00:04, 53.39batch/s]\n",
      "0batch [00:00, ?batch/s]"
     ]
    },
    {
     "name": "stdout",
     "output_type": "stream",
     "text": [
      "---------------------------------\n",
      "| batch_size        | 32        |\n",
      "| bc/               |           |\n",
      "|    batch          | 0         |\n",
      "|    ent_loss       | -0.000135 |\n",
      "|    entropy        | 0.135     |\n",
      "|    epoch          | 0         |\n",
      "|    l2_loss        | 0         |\n",
      "|    l2_norm        | 1.34e+05  |\n",
      "|    loss           | 0.0343    |\n",
      "|    neglogp        | 0.0344    |\n",
      "|    prob_true_act  | 0.972     |\n",
      "|    samples_so_far | 32        |\n",
      "---------------------------------\n"
     ]
    },
    {
     "name": "stderr",
     "output_type": "stream",
     "text": [
      "246batch [00:04, 54.20batch/s]\n",
      "0batch [00:00, ?batch/s]"
     ]
    },
    {
     "name": "stdout",
     "output_type": "stream",
     "text": [
      "---------------------------------\n",
      "| batch_size        | 32        |\n",
      "| bc/               |           |\n",
      "|    batch          | 0         |\n",
      "|    ent_loss       | -2.93e-05 |\n",
      "|    entropy        | 0.0293    |\n",
      "|    epoch          | 0         |\n",
      "|    l2_loss        | 0         |\n",
      "|    l2_norm        | 1.33e+05  |\n",
      "|    loss           | 0.00994   |\n",
      "|    neglogp        | 0.00997   |\n",
      "|    prob_true_act  | 0.991     |\n",
      "|    samples_so_far | 32        |\n",
      "---------------------------------\n"
     ]
    },
    {
     "name": "stderr",
     "output_type": "stream",
     "text": [
      "246batch [00:04, 54.33batch/s]\n",
      "0batch [00:00, ?batch/s]"
     ]
    },
    {
     "name": "stdout",
     "output_type": "stream",
     "text": [
      "--------------------------------\n",
      "| batch_size        | 32       |\n",
      "| bc/               |          |\n",
      "|    batch          | 0        |\n",
      "|    ent_loss       | -5.7e-05 |\n",
      "|    entropy        | 0.057    |\n",
      "|    epoch          | 0        |\n",
      "|    l2_loss        | 0        |\n",
      "|    l2_norm        | 1.33e+05 |\n",
      "|    loss           | 0.0527   |\n",
      "|    neglogp        | 0.0527   |\n",
      "|    prob_true_act  | 0.964    |\n",
      "|    samples_so_far | 32       |\n",
      "--------------------------------\n"
     ]
    },
    {
     "name": "stderr",
     "output_type": "stream",
     "text": [
      "246batch [00:04, 53.55batch/s]\n",
      "0batch [00:00, ?batch/s]"
     ]
    },
    {
     "name": "stdout",
     "output_type": "stream",
     "text": [
      "---------------------------------\n",
      "| batch_size        | 32        |\n",
      "| bc/               |           |\n",
      "|    batch          | 0         |\n",
      "|    ent_loss       | -5.54e-06 |\n",
      "|    entropy        | 0.00554   |\n",
      "|    epoch          | 0         |\n",
      "|    l2_loss        | 0         |\n",
      "|    l2_norm        | 1.33e+05  |\n",
      "|    loss           | 0.000546  |\n",
      "|    neglogp        | 0.000552  |\n",
      "|    prob_true_act  | 0.999     |\n",
      "|    samples_so_far | 32        |\n",
      "---------------------------------\n"
     ]
    },
    {
     "name": "stderr",
     "output_type": "stream",
     "text": [
      "246batch [00:04, 54.13batch/s]\n",
      "0batch [00:00, ?batch/s]"
     ]
    },
    {
     "name": "stdout",
     "output_type": "stream",
     "text": [
      "---------------------------------\n",
      "| batch_size        | 32        |\n",
      "| bc/               |           |\n",
      "|    batch          | 0         |\n",
      "|    ent_loss       | -5.74e-05 |\n",
      "|    entropy        | 0.0574    |\n",
      "|    epoch          | 0         |\n",
      "|    l2_loss        | 0         |\n",
      "|    l2_norm        | 1.33e+05  |\n",
      "|    loss           | 0.0432    |\n",
      "|    neglogp        | 0.0433    |\n",
      "|    prob_true_act  | 0.976     |\n",
      "|    samples_so_far | 32        |\n",
      "---------------------------------\n"
     ]
    },
    {
     "name": "stderr",
     "output_type": "stream",
     "text": [
      "246batch [00:04, 54.11batch/s]\n",
      "0batch [00:00, ?batch/s]"
     ]
    },
    {
     "name": "stdout",
     "output_type": "stream",
     "text": [
      "---------------------------------\n",
      "| batch_size        | 32        |\n",
      "| bc/               |           |\n",
      "|    batch          | 0         |\n",
      "|    ent_loss       | -2.98e-05 |\n",
      "|    entropy        | 0.0298    |\n",
      "|    epoch          | 0         |\n",
      "|    l2_loss        | 0         |\n",
      "|    l2_norm        | 1.34e+05  |\n",
      "|    loss           | 0.0132    |\n",
      "|    neglogp        | 0.0132    |\n",
      "|    prob_true_act  | 0.989     |\n",
      "|    samples_so_far | 32        |\n",
      "---------------------------------\n"
     ]
    },
    {
     "name": "stderr",
     "output_type": "stream",
     "text": [
      "246batch [00:04, 52.74batch/s]\n",
      "0batch [00:00, ?batch/s]"
     ]
    },
    {
     "name": "stdout",
     "output_type": "stream",
     "text": [
      "---------------------------------\n",
      "| batch_size        | 32        |\n",
      "| bc/               |           |\n",
      "|    batch          | 0         |\n",
      "|    ent_loss       | -4.21e-05 |\n",
      "|    entropy        | 0.0421    |\n",
      "|    epoch          | 0         |\n",
      "|    l2_loss        | 0         |\n",
      "|    l2_norm        | 1.34e+05  |\n",
      "|    loss           | 0.017     |\n",
      "|    neglogp        | 0.017     |\n",
      "|    prob_true_act  | 0.986     |\n",
      "|    samples_so_far | 32        |\n",
      "---------------------------------\n"
     ]
    },
    {
     "name": "stderr",
     "output_type": "stream",
     "text": [
      "246batch [00:04, 53.93batch/s]\n",
      "0batch [00:00, ?batch/s]"
     ]
    },
    {
     "name": "stdout",
     "output_type": "stream",
     "text": [
      "---------------------------------\n",
      "| batch_size        | 32        |\n",
      "| bc/               |           |\n",
      "|    batch          | 0         |\n",
      "|    ent_loss       | -4.59e-05 |\n",
      "|    entropy        | 0.0459    |\n",
      "|    epoch          | 0         |\n",
      "|    l2_loss        | 0         |\n",
      "|    l2_norm        | 1.34e+05  |\n",
      "|    loss           | 0.0219    |\n",
      "|    neglogp        | 0.0219    |\n",
      "|    prob_true_act  | 0.984     |\n",
      "|    samples_so_far | 32        |\n",
      "---------------------------------\n"
     ]
    },
    {
     "name": "stderr",
     "output_type": "stream",
     "text": [
      "246batch [00:04, 51.91batch/s]\n",
      "0batch [00:00, ?batch/s]"
     ]
    },
    {
     "name": "stdout",
     "output_type": "stream",
     "text": [
      "--------------------------------\n",
      "| batch_size        | 32       |\n",
      "| bc/               |          |\n",
      "|    batch          | 0        |\n",
      "|    ent_loss       | -4.7e-05 |\n",
      "|    entropy        | 0.047    |\n",
      "|    epoch          | 0        |\n",
      "|    l2_loss        | 0        |\n",
      "|    l2_norm        | 1.34e+05 |\n",
      "|    loss           | 0.0339   |\n",
      "|    neglogp        | 0.0339   |\n",
      "|    prob_true_act  | 0.979    |\n",
      "|    samples_so_far | 32       |\n",
      "--------------------------------\n"
     ]
    },
    {
     "name": "stderr",
     "output_type": "stream",
     "text": [
      "246batch [00:04, 53.37batch/s]\n",
      "0batch [00:00, ?batch/s]"
     ]
    },
    {
     "name": "stdout",
     "output_type": "stream",
     "text": [
      "---------------------------------\n",
      "| batch_size        | 32        |\n",
      "| bc/               |           |\n",
      "|    batch          | 0         |\n",
      "|    ent_loss       | -3.67e-05 |\n",
      "|    entropy        | 0.0367    |\n",
      "|    epoch          | 0         |\n",
      "|    l2_loss        | 0         |\n",
      "|    l2_norm        | 1.34e+05  |\n",
      "|    loss           | 0.0226    |\n",
      "|    neglogp        | 0.0226    |\n",
      "|    prob_true_act  | 0.984     |\n",
      "|    samples_so_far | 32        |\n",
      "---------------------------------\n"
     ]
    },
    {
     "name": "stderr",
     "output_type": "stream",
     "text": [
      "246batch [00:04, 53.14batch/s]\n",
      "0batch [00:00, ?batch/s]"
     ]
    },
    {
     "name": "stdout",
     "output_type": "stream",
     "text": [
      "--------------------------------\n",
      "| batch_size        | 32       |\n",
      "| bc/               |          |\n",
      "|    batch          | 0        |\n",
      "|    ent_loss       | -2.9e-05 |\n",
      "|    entropy        | 0.029    |\n",
      "|    epoch          | 0        |\n",
      "|    l2_loss        | 0        |\n",
      "|    l2_norm        | 1.34e+05 |\n",
      "|    loss           | 0.011    |\n",
      "|    neglogp        | 0.011    |\n",
      "|    prob_true_act  | 0.991    |\n",
      "|    samples_so_far | 32       |\n",
      "--------------------------------\n"
     ]
    },
    {
     "name": "stderr",
     "output_type": "stream",
     "text": [
      "246batch [00:04, 54.39batch/s]\n",
      "0batch [00:00, ?batch/s]"
     ]
    },
    {
     "name": "stdout",
     "output_type": "stream",
     "text": [
      "---------------------------------\n",
      "| batch_size        | 32        |\n",
      "| bc/               |           |\n",
      "|    batch          | 0         |\n",
      "|    ent_loss       | -4.33e-06 |\n",
      "|    entropy        | 0.00433   |\n",
      "|    epoch          | 0         |\n",
      "|    l2_loss        | 0         |\n",
      "|    l2_norm        | 1.34e+05  |\n",
      "|    loss           | 0.000424  |\n",
      "|    neglogp        | 0.000428  |\n",
      "|    prob_true_act  | 1         |\n",
      "|    samples_so_far | 32        |\n",
      "---------------------------------\n"
     ]
    },
    {
     "name": "stderr",
     "output_type": "stream",
     "text": [
      "246batch [00:04, 53.87batch/s]\n",
      "0batch [00:00, ?batch/s]"
     ]
    },
    {
     "name": "stdout",
     "output_type": "stream",
     "text": [
      "---------------------------------\n",
      "| batch_size        | 32        |\n",
      "| bc/               |           |\n",
      "|    batch          | 0         |\n",
      "|    ent_loss       | -4.38e-06 |\n",
      "|    entropy        | 0.00438   |\n",
      "|    epoch          | 0         |\n",
      "|    l2_loss        | 0         |\n",
      "|    l2_norm        | 1.34e+05  |\n",
      "|    loss           | 0.000407  |\n",
      "|    neglogp        | 0.000411  |\n",
      "|    prob_true_act  | 1         |\n",
      "|    samples_so_far | 32        |\n",
      "---------------------------------\n"
     ]
    },
    {
     "name": "stderr",
     "output_type": "stream",
     "text": [
      "246batch [00:04, 53.81batch/s]\n",
      "0batch [00:00, ?batch/s]"
     ]
    },
    {
     "name": "stdout",
     "output_type": "stream",
     "text": [
      "---------------------------------\n",
      "| batch_size        | 32        |\n",
      "| bc/               |           |\n",
      "|    batch          | 0         |\n",
      "|    ent_loss       | -2.44e-05 |\n",
      "|    entropy        | 0.0244    |\n",
      "|    epoch          | 0         |\n",
      "|    l2_loss        | 0         |\n",
      "|    l2_norm        | 1.35e+05  |\n",
      "|    loss           | 0.00695   |\n",
      "|    neglogp        | 0.00697   |\n",
      "|    prob_true_act  | 0.994     |\n",
      "|    samples_so_far | 32        |\n",
      "---------------------------------\n"
     ]
    },
    {
     "name": "stderr",
     "output_type": "stream",
     "text": [
      "246batch [00:04, 53.05batch/s]\n",
      "0batch [00:00, ?batch/s]"
     ]
    },
    {
     "name": "stdout",
     "output_type": "stream",
     "text": [
      "---------------------------------\n",
      "| batch_size        | 32        |\n",
      "| bc/               |           |\n",
      "|    batch          | 0         |\n",
      "|    ent_loss       | -6.41e-05 |\n",
      "|    entropy        | 0.0641    |\n",
      "|    epoch          | 0         |\n",
      "|    l2_loss        | 0         |\n",
      "|    l2_norm        | 1.35e+05  |\n",
      "|    loss           | 0.0262    |\n",
      "|    neglogp        | 0.0263    |\n",
      "|    prob_true_act  | 0.978     |\n",
      "|    samples_so_far | 32        |\n",
      "---------------------------------\n"
     ]
    },
    {
     "name": "stderr",
     "output_type": "stream",
     "text": [
      "246batch [00:04, 54.93batch/s]\n",
      "0batch [00:00, ?batch/s]"
     ]
    },
    {
     "name": "stdout",
     "output_type": "stream",
     "text": [
      "---------------------------------\n",
      "| batch_size        | 32        |\n",
      "| bc/               |           |\n",
      "|    batch          | 0         |\n",
      "|    ent_loss       | -2.94e-05 |\n",
      "|    entropy        | 0.0294    |\n",
      "|    epoch          | 0         |\n",
      "|    l2_loss        | 0         |\n",
      "|    l2_norm        | 1.35e+05  |\n",
      "|    loss           | 0.0104    |\n",
      "|    neglogp        | 0.0104    |\n",
      "|    prob_true_act  | 0.991     |\n",
      "|    samples_so_far | 32        |\n",
      "---------------------------------\n"
     ]
    },
    {
     "name": "stderr",
     "output_type": "stream",
     "text": [
      "246batch [00:04, 54.46batch/s]\n",
      "0batch [00:00, ?batch/s]"
     ]
    },
    {
     "name": "stdout",
     "output_type": "stream",
     "text": [
      "---------------------------------\n",
      "| batch_size        | 32        |\n",
      "| bc/               |           |\n",
      "|    batch          | 0         |\n",
      "|    ent_loss       | -2.54e-06 |\n",
      "|    entropy        | 0.00254   |\n",
      "|    epoch          | 0         |\n",
      "|    l2_loss        | 0         |\n",
      "|    l2_norm        | 1.35e+05  |\n",
      "|    loss           | 0.000229  |\n",
      "|    neglogp        | 0.000231  |\n",
      "|    prob_true_act  | 1         |\n",
      "|    samples_so_far | 32        |\n",
      "---------------------------------\n"
     ]
    },
    {
     "name": "stderr",
     "output_type": "stream",
     "text": [
      "246batch [00:04, 55.40batch/s]\n",
      "0batch [00:00, ?batch/s]"
     ]
    },
    {
     "name": "stdout",
     "output_type": "stream",
     "text": [
      "---------------------------------\n",
      "| batch_size        | 32        |\n",
      "| bc/               |           |\n",
      "|    batch          | 0         |\n",
      "|    ent_loss       | -4.63e-05 |\n",
      "|    entropy        | 0.0463    |\n",
      "|    epoch          | 0         |\n",
      "|    l2_loss        | 0         |\n",
      "|    l2_norm        | 1.35e+05  |\n",
      "|    loss           | 0.033     |\n",
      "|    neglogp        | 0.033     |\n",
      "|    prob_true_act  | 0.979     |\n",
      "|    samples_so_far | 32        |\n",
      "---------------------------------\n"
     ]
    },
    {
     "name": "stderr",
     "output_type": "stream",
     "text": [
      "246batch [00:04, 55.51batch/s]\n",
      "0batch [00:00, ?batch/s]"
     ]
    },
    {
     "name": "stdout",
     "output_type": "stream",
     "text": [
      "--------------------------------\n",
      "| batch_size        | 32       |\n",
      "| bc/               |          |\n",
      "|    batch          | 0        |\n",
      "|    ent_loss       | -4.2e-05 |\n",
      "|    entropy        | 0.042    |\n",
      "|    epoch          | 0        |\n",
      "|    l2_loss        | 0        |\n",
      "|    l2_norm        | 1.35e+05 |\n",
      "|    loss           | 0.0403   |\n",
      "|    neglogp        | 0.0404   |\n",
      "|    prob_true_act  | 0.977    |\n",
      "|    samples_so_far | 32       |\n",
      "--------------------------------\n"
     ]
    },
    {
     "name": "stderr",
     "output_type": "stream",
     "text": [
      "246batch [00:04, 54.81batch/s]\n"
     ]
    },
    {
     "name": "stdout",
     "output_type": "stream",
     "text": [
      "Checkpoint saved at checkpoints\\bc_model_epoch_250.zip\n"
     ]
    },
    {
     "name": "stderr",
     "output_type": "stream",
     "text": [
      "0batch [00:00, ?batch/s]"
     ]
    },
    {
     "name": "stdout",
     "output_type": "stream",
     "text": [
      "--------------------------------\n",
      "| batch_size        | 32       |\n",
      "| bc/               |          |\n",
      "|    batch          | 0        |\n",
      "|    ent_loss       | -6.1e-06 |\n",
      "|    entropy        | 0.0061   |\n",
      "|    epoch          | 0        |\n",
      "|    l2_loss        | 0        |\n",
      "|    l2_norm        | 1.35e+05 |\n",
      "|    loss           | 0.000595 |\n",
      "|    neglogp        | 0.000601 |\n",
      "|    prob_true_act  | 0.999    |\n",
      "|    samples_so_far | 32       |\n",
      "--------------------------------\n"
     ]
    },
    {
     "name": "stderr",
     "output_type": "stream",
     "text": [
      "246batch [00:04, 54.86batch/s]\n",
      "0batch [00:00, ?batch/s]"
     ]
    },
    {
     "name": "stdout",
     "output_type": "stream",
     "text": [
      "---------------------------------\n",
      "| batch_size        | 32        |\n",
      "| bc/               |           |\n",
      "|    batch          | 0         |\n",
      "|    ent_loss       | -4.13e-05 |\n",
      "|    entropy        | 0.0413    |\n",
      "|    epoch          | 0         |\n",
      "|    l2_loss        | 0         |\n",
      "|    l2_norm        | 1.36e+05  |\n",
      "|    loss           | 0.0459    |\n",
      "|    neglogp        | 0.0459    |\n",
      "|    prob_true_act  | 0.975     |\n",
      "|    samples_so_far | 32        |\n",
      "---------------------------------\n"
     ]
    },
    {
     "name": "stderr",
     "output_type": "stream",
     "text": [
      "246batch [00:04, 55.60batch/s]\n",
      "0batch [00:00, ?batch/s]"
     ]
    },
    {
     "name": "stdout",
     "output_type": "stream",
     "text": [
      "---------------------------------\n",
      "| batch_size        | 32        |\n",
      "| bc/               |           |\n",
      "|    batch          | 0         |\n",
      "|    ent_loss       | -2.62e-05 |\n",
      "|    entropy        | 0.0262    |\n",
      "|    epoch          | 0         |\n",
      "|    l2_loss        | 0         |\n",
      "|    l2_norm        | 1.36e+05  |\n",
      "|    loss           | 0.0125    |\n",
      "|    neglogp        | 0.0125    |\n",
      "|    prob_true_act  | 0.99      |\n",
      "|    samples_so_far | 32        |\n",
      "---------------------------------\n"
     ]
    },
    {
     "name": "stderr",
     "output_type": "stream",
     "text": [
      "246batch [00:04, 54.55batch/s]\n",
      "0batch [00:00, ?batch/s]"
     ]
    },
    {
     "name": "stdout",
     "output_type": "stream",
     "text": [
      "---------------------------------\n",
      "| batch_size        | 32        |\n",
      "| bc/               |           |\n",
      "|    batch          | 0         |\n",
      "|    ent_loss       | -5.51e-06 |\n",
      "|    entropy        | 0.00551   |\n",
      "|    epoch          | 0         |\n",
      "|    l2_loss        | 0         |\n",
      "|    l2_norm        | 1.36e+05  |\n",
      "|    loss           | 0.000582  |\n",
      "|    neglogp        | 0.000587  |\n",
      "|    prob_true_act  | 0.999     |\n",
      "|    samples_so_far | 32        |\n",
      "---------------------------------\n"
     ]
    },
    {
     "name": "stderr",
     "output_type": "stream",
     "text": [
      "246batch [00:04, 55.88batch/s]\n",
      "0batch [00:00, ?batch/s]"
     ]
    },
    {
     "name": "stdout",
     "output_type": "stream",
     "text": [
      "---------------------------------\n",
      "| batch_size        | 32        |\n",
      "| bc/               |           |\n",
      "|    batch          | 0         |\n",
      "|    ent_loss       | -3.04e-05 |\n",
      "|    entropy        | 0.0304    |\n",
      "|    epoch          | 0         |\n",
      "|    l2_loss        | 0         |\n",
      "|    l2_norm        | 1.36e+05  |\n",
      "|    loss           | 0.0214    |\n",
      "|    neglogp        | 0.0214    |\n",
      "|    prob_true_act  | 0.984     |\n",
      "|    samples_so_far | 32        |\n",
      "---------------------------------\n"
     ]
    },
    {
     "name": "stderr",
     "output_type": "stream",
     "text": [
      "246batch [00:04, 55.95batch/s]\n",
      "0batch [00:00, ?batch/s]"
     ]
    },
    {
     "name": "stdout",
     "output_type": "stream",
     "text": [
      "---------------------------------\n",
      "| batch_size        | 32        |\n",
      "| bc/               |           |\n",
      "|    batch          | 0         |\n",
      "|    ent_loss       | -7.02e-06 |\n",
      "|    entropy        | 0.00702   |\n",
      "|    epoch          | 0         |\n",
      "|    l2_loss        | 0         |\n",
      "|    l2_norm        | 1.36e+05  |\n",
      "|    loss           | 0.00075   |\n",
      "|    neglogp        | 0.000757  |\n",
      "|    prob_true_act  | 0.999     |\n",
      "|    samples_so_far | 32        |\n",
      "---------------------------------\n"
     ]
    },
    {
     "name": "stderr",
     "output_type": "stream",
     "text": [
      "246batch [00:04, 55.17batch/s]\n",
      "0batch [00:00, ?batch/s]"
     ]
    },
    {
     "name": "stdout",
     "output_type": "stream",
     "text": [
      "---------------------------------\n",
      "| batch_size        | 32        |\n",
      "| bc/               |           |\n",
      "|    batch          | 0         |\n",
      "|    ent_loss       | -2.32e-05 |\n",
      "|    entropy        | 0.0232    |\n",
      "|    epoch          | 0         |\n",
      "|    l2_loss        | 0         |\n",
      "|    l2_norm        | 1.37e+05  |\n",
      "|    loss           | 0.00811   |\n",
      "|    neglogp        | 0.00813   |\n",
      "|    prob_true_act  | 0.993     |\n",
      "|    samples_so_far | 32        |\n",
      "---------------------------------\n"
     ]
    },
    {
     "name": "stderr",
     "output_type": "stream",
     "text": [
      "246batch [00:04, 55.86batch/s]\n",
      "0batch [00:00, ?batch/s]"
     ]
    },
    {
     "name": "stdout",
     "output_type": "stream",
     "text": [
      "---------------------------------\n",
      "| batch_size        | 32        |\n",
      "| bc/               |           |\n",
      "|    batch          | 0         |\n",
      "|    ent_loss       | -7.49e-05 |\n",
      "|    entropy        | 0.0749    |\n",
      "|    epoch          | 0         |\n",
      "|    l2_loss        | 0         |\n",
      "|    l2_norm        | 1.37e+05  |\n",
      "|    loss           | 0.0543    |\n",
      "|    neglogp        | 0.0544    |\n",
      "|    prob_true_act  | 0.964     |\n",
      "|    samples_so_far | 32        |\n",
      "---------------------------------\n"
     ]
    },
    {
     "name": "stderr",
     "output_type": "stream",
     "text": [
      "246batch [00:04, 56.01batch/s]\n",
      "0batch [00:00, ?batch/s]"
     ]
    },
    {
     "name": "stdout",
     "output_type": "stream",
     "text": [
      "---------------------------------\n",
      "| batch_size        | 32        |\n",
      "| bc/               |           |\n",
      "|    batch          | 0         |\n",
      "|    ent_loss       | -2.67e-05 |\n",
      "|    entropy        | 0.0267    |\n",
      "|    epoch          | 0         |\n",
      "|    l2_loss        | 0         |\n",
      "|    l2_norm        | 1.37e+05  |\n",
      "|    loss           | 0.0152    |\n",
      "|    neglogp        | 0.0152    |\n",
      "|    prob_true_act  | 0.988     |\n",
      "|    samples_so_far | 32        |\n",
      "---------------------------------\n"
     ]
    },
    {
     "name": "stderr",
     "output_type": "stream",
     "text": [
      "246batch [00:04, 55.12batch/s]\n",
      "0batch [00:00, ?batch/s]"
     ]
    },
    {
     "name": "stdout",
     "output_type": "stream",
     "text": [
      "---------------------------------\n",
      "| batch_size        | 32        |\n",
      "| bc/               |           |\n",
      "|    batch          | 0         |\n",
      "|    ent_loss       | -2.64e-06 |\n",
      "|    entropy        | 0.00264   |\n",
      "|    epoch          | 0         |\n",
      "|    l2_loss        | 0         |\n",
      "|    l2_norm        | 1.37e+05  |\n",
      "|    loss           | 0.000228  |\n",
      "|    neglogp        | 0.00023   |\n",
      "|    prob_true_act  | 1         |\n",
      "|    samples_so_far | 32        |\n",
      "---------------------------------\n"
     ]
    },
    {
     "name": "stderr",
     "output_type": "stream",
     "text": [
      "246batch [00:04, 55.85batch/s]\n",
      "0batch [00:00, ?batch/s]"
     ]
    },
    {
     "name": "stdout",
     "output_type": "stream",
     "text": [
      "---------------------------------\n",
      "| batch_size        | 32        |\n",
      "| bc/               |           |\n",
      "|    batch          | 0         |\n",
      "|    ent_loss       | -2.84e-06 |\n",
      "|    entropy        | 0.00284   |\n",
      "|    epoch          | 0         |\n",
      "|    l2_loss        | 0         |\n",
      "|    l2_norm        | 1.37e+05  |\n",
      "|    loss           | 0.000251  |\n",
      "|    neglogp        | 0.000254  |\n",
      "|    prob_true_act  | 1         |\n",
      "|    samples_so_far | 32        |\n",
      "---------------------------------\n"
     ]
    },
    {
     "name": "stderr",
     "output_type": "stream",
     "text": [
      "246batch [00:04, 55.80batch/s]\n",
      "0batch [00:00, ?batch/s]"
     ]
    },
    {
     "name": "stdout",
     "output_type": "stream",
     "text": [
      "---------------------------------\n",
      "| batch_size        | 32        |\n",
      "| bc/               |           |\n",
      "|    batch          | 0         |\n",
      "|    ent_loss       | -4.14e-06 |\n",
      "|    entropy        | 0.00414   |\n",
      "|    epoch          | 0         |\n",
      "|    l2_loss        | 0         |\n",
      "|    l2_norm        | 1.38e+05  |\n",
      "|    loss           | 0.00039   |\n",
      "|    neglogp        | 0.000394  |\n",
      "|    prob_true_act  | 1         |\n",
      "|    samples_so_far | 32        |\n",
      "---------------------------------\n"
     ]
    },
    {
     "name": "stderr",
     "output_type": "stream",
     "text": [
      "246batch [00:04, 54.55batch/s]\n",
      "0batch [00:00, ?batch/s]"
     ]
    },
    {
     "name": "stdout",
     "output_type": "stream",
     "text": [
      "---------------------------------\n",
      "| batch_size        | 32        |\n",
      "| bc/               |           |\n",
      "|    batch          | 0         |\n",
      "|    ent_loss       | -4.47e-06 |\n",
      "|    entropy        | 0.00447   |\n",
      "|    epoch          | 0         |\n",
      "|    l2_loss        | 0         |\n",
      "|    l2_norm        | 1.38e+05  |\n",
      "|    loss           | 0.000412  |\n",
      "|    neglogp        | 0.000417  |\n",
      "|    prob_true_act  | 1         |\n",
      "|    samples_so_far | 32        |\n",
      "---------------------------------\n"
     ]
    },
    {
     "name": "stderr",
     "output_type": "stream",
     "text": [
      "246batch [00:04, 56.13batch/s]\n",
      "0batch [00:00, ?batch/s]"
     ]
    },
    {
     "name": "stdout",
     "output_type": "stream",
     "text": [
      "---------------------------------\n",
      "| batch_size        | 32        |\n",
      "| bc/               |           |\n",
      "|    batch          | 0         |\n",
      "|    ent_loss       | -4.23e-05 |\n",
      "|    entropy        | 0.0423    |\n",
      "|    epoch          | 0         |\n",
      "|    l2_loss        | 0         |\n",
      "|    l2_norm        | 1.37e+05  |\n",
      "|    loss           | 0.00585   |\n",
      "|    neglogp        | 0.00589   |\n",
      "|    prob_true_act  | 0.994     |\n",
      "|    samples_so_far | 32        |\n",
      "---------------------------------\n"
     ]
    },
    {
     "name": "stderr",
     "output_type": "stream",
     "text": [
      "246batch [00:04, 56.02batch/s]\n",
      "0batch [00:00, ?batch/s]"
     ]
    },
    {
     "name": "stdout",
     "output_type": "stream",
     "text": [
      "---------------------------------\n",
      "| batch_size        | 32        |\n",
      "| bc/               |           |\n",
      "|    batch          | 0         |\n",
      "|    ent_loss       | -4.57e-05 |\n",
      "|    entropy        | 0.0457    |\n",
      "|    epoch          | 0         |\n",
      "|    l2_loss        | 0         |\n",
      "|    l2_norm        | 1.37e+05  |\n",
      "|    loss           | 0.037     |\n",
      "|    neglogp        | 0.0371    |\n",
      "|    prob_true_act  | 0.978     |\n",
      "|    samples_so_far | 32        |\n",
      "---------------------------------\n"
     ]
    },
    {
     "name": "stderr",
     "output_type": "stream",
     "text": [
      "246batch [00:04, 54.26batch/s]\n",
      "0batch [00:00, ?batch/s]"
     ]
    },
    {
     "name": "stdout",
     "output_type": "stream",
     "text": [
      "---------------------------------\n",
      "| batch_size        | 32        |\n",
      "| bc/               |           |\n",
      "|    batch          | 0         |\n",
      "|    ent_loss       | -3.97e-05 |\n",
      "|    entropy        | 0.0397    |\n",
      "|    epoch          | 0         |\n",
      "|    l2_loss        | 0         |\n",
      "|    l2_norm        | 1.38e+05  |\n",
      "|    loss           | 0.0522    |\n",
      "|    neglogp        | 0.0523    |\n",
      "|    prob_true_act  | 0.974     |\n",
      "|    samples_so_far | 32        |\n",
      "---------------------------------\n"
     ]
    },
    {
     "name": "stderr",
     "output_type": "stream",
     "text": [
      "246batch [00:04, 56.14batch/s]\n",
      "0batch [00:00, ?batch/s]"
     ]
    },
    {
     "name": "stdout",
     "output_type": "stream",
     "text": [
      "---------------------------------\n",
      "| batch_size        | 32        |\n",
      "| bc/               |           |\n",
      "|    batch          | 0         |\n",
      "|    ent_loss       | -2.96e-06 |\n",
      "|    entropy        | 0.00296   |\n",
      "|    epoch          | 0         |\n",
      "|    l2_loss        | 0         |\n",
      "|    l2_norm        | 1.38e+05  |\n",
      "|    loss           | 0.000278  |\n",
      "|    neglogp        | 0.000281  |\n",
      "|    prob_true_act  | 1         |\n",
      "|    samples_so_far | 32        |\n",
      "---------------------------------\n"
     ]
    },
    {
     "name": "stderr",
     "output_type": "stream",
     "text": [
      "246batch [00:04, 55.70batch/s]\n",
      "0batch [00:00, ?batch/s]"
     ]
    },
    {
     "name": "stdout",
     "output_type": "stream",
     "text": [
      "---------------------------------\n",
      "| batch_size        | 32        |\n",
      "| bc/               |           |\n",
      "|    batch          | 0         |\n",
      "|    ent_loss       | -1.48e-06 |\n",
      "|    entropy        | 0.00148   |\n",
      "|    epoch          | 0         |\n",
      "|    l2_loss        | 0         |\n",
      "|    l2_norm        | 1.38e+05  |\n",
      "|    loss           | 0.00013   |\n",
      "|    neglogp        | 0.000132  |\n",
      "|    prob_true_act  | 1         |\n",
      "|    samples_so_far | 32        |\n",
      "---------------------------------\n"
     ]
    },
    {
     "name": "stderr",
     "output_type": "stream",
     "text": [
      "246batch [00:04, 55.69batch/s]\n",
      "0batch [00:00, ?batch/s]"
     ]
    },
    {
     "name": "stdout",
     "output_type": "stream",
     "text": [
      "---------------------------------\n",
      "| batch_size        | 32        |\n",
      "| bc/               |           |\n",
      "|    batch          | 0         |\n",
      "|    ent_loss       | -2.89e-06 |\n",
      "|    entropy        | 0.00289   |\n",
      "|    epoch          | 0         |\n",
      "|    l2_loss        | 0         |\n",
      "|    l2_norm        | 1.38e+05  |\n",
      "|    loss           | 0.000277  |\n",
      "|    neglogp        | 0.00028   |\n",
      "|    prob_true_act  | 1         |\n",
      "|    samples_so_far | 32        |\n",
      "---------------------------------\n"
     ]
    },
    {
     "name": "stderr",
     "output_type": "stream",
     "text": [
      "246batch [00:04, 54.82batch/s]\n",
      "0batch [00:00, ?batch/s]"
     ]
    },
    {
     "name": "stdout",
     "output_type": "stream",
     "text": [
      "---------------------------------\n",
      "| batch_size        | 32        |\n",
      "| bc/               |           |\n",
      "|    batch          | 0         |\n",
      "|    ent_loss       | -2.37e-06 |\n",
      "|    entropy        | 0.00237   |\n",
      "|    epoch          | 0         |\n",
      "|    l2_loss        | 0         |\n",
      "|    l2_norm        | 1.38e+05  |\n",
      "|    loss           | 0.00021   |\n",
      "|    neglogp        | 0.000212  |\n",
      "|    prob_true_act  | 1         |\n",
      "|    samples_so_far | 32        |\n",
      "---------------------------------\n"
     ]
    },
    {
     "name": "stderr",
     "output_type": "stream",
     "text": [
      "246batch [00:04, 54.54batch/s]\n",
      "0batch [00:00, ?batch/s]"
     ]
    },
    {
     "name": "stdout",
     "output_type": "stream",
     "text": [
      "---------------------------------\n",
      "| batch_size        | 32        |\n",
      "| bc/               |           |\n",
      "|    batch          | 0         |\n",
      "|    ent_loss       | -7.39e-06 |\n",
      "|    entropy        | 0.00739   |\n",
      "|    epoch          | 0         |\n",
      "|    l2_loss        | 0         |\n",
      "|    l2_norm        | 1.38e+05  |\n",
      "|    loss           | 0.000771  |\n",
      "|    neglogp        | 0.000779  |\n",
      "|    prob_true_act  | 0.999     |\n",
      "|    samples_so_far | 32        |\n",
      "---------------------------------\n"
     ]
    },
    {
     "name": "stderr",
     "output_type": "stream",
     "text": [
      "246batch [00:04, 56.04batch/s]\n",
      "0batch [00:00, ?batch/s]"
     ]
    },
    {
     "name": "stdout",
     "output_type": "stream",
     "text": [
      "---------------------------------\n",
      "| batch_size        | 32        |\n",
      "| bc/               |           |\n",
      "|    batch          | 0         |\n",
      "|    ent_loss       | -3.93e-05 |\n",
      "|    entropy        | 0.0393    |\n",
      "|    epoch          | 0         |\n",
      "|    l2_loss        | 0         |\n",
      "|    l2_norm        | 1.38e+05  |\n",
      "|    loss           | 0.0181    |\n",
      "|    neglogp        | 0.0182    |\n",
      "|    prob_true_act  | 0.986     |\n",
      "|    samples_so_far | 32        |\n",
      "---------------------------------\n"
     ]
    },
    {
     "name": "stderr",
     "output_type": "stream",
     "text": [
      "246batch [00:04, 54.61batch/s]\n",
      "0batch [00:00, ?batch/s]"
     ]
    },
    {
     "name": "stdout",
     "output_type": "stream",
     "text": [
      "---------------------------------\n",
      "| batch_size        | 32        |\n",
      "| bc/               |           |\n",
      "|    batch          | 0         |\n",
      "|    ent_loss       | -4.28e-06 |\n",
      "|    entropy        | 0.00428   |\n",
      "|    epoch          | 0         |\n",
      "|    l2_loss        | 0         |\n",
      "|    l2_norm        | 1.38e+05  |\n",
      "|    loss           | 0.000392  |\n",
      "|    neglogp        | 0.000396  |\n",
      "|    prob_true_act  | 1         |\n",
      "|    samples_so_far | 32        |\n",
      "---------------------------------\n"
     ]
    },
    {
     "name": "stderr",
     "output_type": "stream",
     "text": [
      "246batch [00:04, 56.37batch/s]\n",
      "0batch [00:00, ?batch/s]"
     ]
    },
    {
     "name": "stdout",
     "output_type": "stream",
     "text": [
      "---------------------------------\n",
      "| batch_size        | 32        |\n",
      "| bc/               |           |\n",
      "|    batch          | 0         |\n",
      "|    ent_loss       | -6.61e-06 |\n",
      "|    entropy        | 0.00661   |\n",
      "|    epoch          | 0         |\n",
      "|    l2_loss        | 0         |\n",
      "|    l2_norm        | 1.39e+05  |\n",
      "|    loss           | 0.000606  |\n",
      "|    neglogp        | 0.000613  |\n",
      "|    prob_true_act  | 0.999     |\n",
      "|    samples_so_far | 32        |\n",
      "---------------------------------\n"
     ]
    },
    {
     "name": "stderr",
     "output_type": "stream",
     "text": [
      "246batch [00:04, 54.19batch/s]\n",
      "0batch [00:00, ?batch/s]"
     ]
    },
    {
     "name": "stdout",
     "output_type": "stream",
     "text": [
      "---------------------------------\n",
      "| batch_size        | 32        |\n",
      "| bc/               |           |\n",
      "|    batch          | 0         |\n",
      "|    ent_loss       | -1.02e-05 |\n",
      "|    entropy        | 0.0102    |\n",
      "|    epoch          | 0         |\n",
      "|    l2_loss        | 0         |\n",
      "|    l2_norm        | 1.39e+05  |\n",
      "|    loss           | 0.00106   |\n",
      "|    neglogp        | 0.00107   |\n",
      "|    prob_true_act  | 0.999     |\n",
      "|    samples_so_far | 32        |\n",
      "---------------------------------\n"
     ]
    },
    {
     "name": "stderr",
     "output_type": "stream",
     "text": [
      "246batch [00:04, 55.14batch/s]\n",
      "0batch [00:00, ?batch/s]"
     ]
    },
    {
     "name": "stdout",
     "output_type": "stream",
     "text": [
      "--------------------------------\n",
      "| batch_size        | 32       |\n",
      "| bc/               |          |\n",
      "|    batch          | 0        |\n",
      "|    ent_loss       | -5.5e-06 |\n",
      "|    entropy        | 0.0055   |\n",
      "|    epoch          | 0        |\n",
      "|    l2_loss        | 0        |\n",
      "|    l2_norm        | 1.39e+05 |\n",
      "|    loss           | 0.000515 |\n",
      "|    neglogp        | 0.00052  |\n",
      "|    prob_true_act  | 0.999    |\n",
      "|    samples_so_far | 32       |\n",
      "--------------------------------\n"
     ]
    },
    {
     "name": "stderr",
     "output_type": "stream",
     "text": [
      "246batch [00:04, 56.22batch/s]\n",
      "0batch [00:00, ?batch/s]"
     ]
    },
    {
     "name": "stdout",
     "output_type": "stream",
     "text": [
      "---------------------------------\n",
      "| batch_size        | 32        |\n",
      "| bc/               |           |\n",
      "|    batch          | 0         |\n",
      "|    ent_loss       | -6.33e-05 |\n",
      "|    entropy        | 0.0633    |\n",
      "|    epoch          | 0         |\n",
      "|    l2_loss        | 0         |\n",
      "|    l2_norm        | 1.39e+05  |\n",
      "|    loss           | 0.0534    |\n",
      "|    neglogp        | 0.0535    |\n",
      "|    prob_true_act  | 0.965     |\n",
      "|    samples_so_far | 32        |\n",
      "---------------------------------\n"
     ]
    },
    {
     "name": "stderr",
     "output_type": "stream",
     "text": [
      "246batch [00:04, 56.38batch/s]\n",
      "0batch [00:00, ?batch/s]"
     ]
    },
    {
     "name": "stdout",
     "output_type": "stream",
     "text": [
      "---------------------------------\n",
      "| batch_size        | 32        |\n",
      "| bc/               |           |\n",
      "|    batch          | 0         |\n",
      "|    ent_loss       | -4.01e-05 |\n",
      "|    entropy        | 0.0401    |\n",
      "|    epoch          | 0         |\n",
      "|    l2_loss        | 0         |\n",
      "|    l2_norm        | 1.39e+05  |\n",
      "|    loss           | 0.0469    |\n",
      "|    neglogp        | 0.047     |\n",
      "|    prob_true_act  | 0.975     |\n",
      "|    samples_so_far | 32        |\n",
      "---------------------------------\n"
     ]
    },
    {
     "name": "stderr",
     "output_type": "stream",
     "text": [
      "246batch [00:04, 54.64batch/s]\n",
      "0batch [00:00, ?batch/s]"
     ]
    },
    {
     "name": "stdout",
     "output_type": "stream",
     "text": [
      "---------------------------------\n",
      "| batch_size        | 32        |\n",
      "| bc/               |           |\n",
      "|    batch          | 0         |\n",
      "|    ent_loss       | -2.91e-05 |\n",
      "|    entropy        | 0.0291    |\n",
      "|    epoch          | 0         |\n",
      "|    l2_loss        | 0         |\n",
      "|    l2_norm        | 1.39e+05  |\n",
      "|    loss           | 0.0281    |\n",
      "|    neglogp        | 0.0281    |\n",
      "|    prob_true_act  | 0.981     |\n",
      "|    samples_so_far | 32        |\n",
      "---------------------------------\n"
     ]
    },
    {
     "name": "stderr",
     "output_type": "stream",
     "text": [
      "246batch [00:04, 56.07batch/s]\n",
      "0batch [00:00, ?batch/s]"
     ]
    },
    {
     "name": "stdout",
     "output_type": "stream",
     "text": [
      "---------------------------------\n",
      "| batch_size        | 32        |\n",
      "| bc/               |           |\n",
      "|    batch          | 0         |\n",
      "|    ent_loss       | -2.94e-05 |\n",
      "|    entropy        | 0.0294    |\n",
      "|    epoch          | 0         |\n",
      "|    l2_loss        | 0         |\n",
      "|    l2_norm        | 1.39e+05  |\n",
      "|    loss           | 0.0199    |\n",
      "|    neglogp        | 0.0199    |\n",
      "|    prob_true_act  | 0.985     |\n",
      "|    samples_so_far | 32        |\n",
      "---------------------------------\n"
     ]
    },
    {
     "name": "stderr",
     "output_type": "stream",
     "text": [
      "246batch [00:04, 53.66batch/s]\n",
      "0batch [00:00, ?batch/s]"
     ]
    },
    {
     "name": "stdout",
     "output_type": "stream",
     "text": [
      "--------------------------------\n",
      "| batch_size        | 32       |\n",
      "| bc/               |          |\n",
      "|    batch          | 0        |\n",
      "|    ent_loss       | -2.7e-05 |\n",
      "|    entropy        | 0.027    |\n",
      "|    epoch          | 0        |\n",
      "|    l2_loss        | 0        |\n",
      "|    l2_norm        | 1.4e+05  |\n",
      "|    loss           | 0.0108   |\n",
      "|    neglogp        | 0.0108   |\n",
      "|    prob_true_act  | 0.991    |\n",
      "|    samples_so_far | 32       |\n",
      "--------------------------------\n"
     ]
    },
    {
     "name": "stderr",
     "output_type": "stream",
     "text": [
      "246batch [00:04, 55.02batch/s]\n",
      "0batch [00:00, ?batch/s]"
     ]
    },
    {
     "name": "stdout",
     "output_type": "stream",
     "text": [
      "--------------------------------\n",
      "| batch_size        | 32       |\n",
      "| bc/               |          |\n",
      "|    batch          | 0        |\n",
      "|    ent_loss       | -4.1e-05 |\n",
      "|    entropy        | 0.041    |\n",
      "|    epoch          | 0        |\n",
      "|    l2_loss        | 0        |\n",
      "|    l2_norm        | 1.4e+05  |\n",
      "|    loss           | 0.022    |\n",
      "|    neglogp        | 0.0221   |\n",
      "|    prob_true_act  | 0.984    |\n",
      "|    samples_so_far | 32       |\n",
      "--------------------------------\n"
     ]
    },
    {
     "name": "stderr",
     "output_type": "stream",
     "text": [
      "246batch [00:04, 55.83batch/s]\n",
      "0batch [00:00, ?batch/s]"
     ]
    },
    {
     "name": "stdout",
     "output_type": "stream",
     "text": [
      "---------------------------------\n",
      "| batch_size        | 32        |\n",
      "| bc/               |           |\n",
      "|    batch          | 0         |\n",
      "|    ent_loss       | -4.51e-05 |\n",
      "|    entropy        | 0.0451    |\n",
      "|    epoch          | 0         |\n",
      "|    l2_loss        | 0         |\n",
      "|    l2_norm        | 1.4e+05   |\n",
      "|    loss           | 0.041     |\n",
      "|    neglogp        | 0.0411    |\n",
      "|    prob_true_act  | 0.972     |\n",
      "|    samples_so_far | 32        |\n",
      "---------------------------------\n"
     ]
    },
    {
     "name": "stderr",
     "output_type": "stream",
     "text": [
      "246batch [00:04, 55.18batch/s]\n",
      "0batch [00:00, ?batch/s]"
     ]
    },
    {
     "name": "stdout",
     "output_type": "stream",
     "text": [
      "---------------------------------\n",
      "| batch_size        | 32        |\n",
      "| bc/               |           |\n",
      "|    batch          | 0         |\n",
      "|    ent_loss       | -5.16e-05 |\n",
      "|    entropy        | 0.0516    |\n",
      "|    epoch          | 0         |\n",
      "|    l2_loss        | 0         |\n",
      "|    l2_norm        | 1.4e+05   |\n",
      "|    loss           | 0.0641    |\n",
      "|    neglogp        | 0.0642    |\n",
      "|    prob_true_act  | 0.961     |\n",
      "|    samples_so_far | 32        |\n",
      "---------------------------------\n"
     ]
    },
    {
     "name": "stderr",
     "output_type": "stream",
     "text": [
      "246batch [00:04, 55.09batch/s]\n",
      "0batch [00:00, ?batch/s]"
     ]
    },
    {
     "name": "stdout",
     "output_type": "stream",
     "text": [
      "---------------------------------\n",
      "| batch_size        | 32        |\n",
      "| bc/               |           |\n",
      "|    batch          | 0         |\n",
      "|    ent_loss       | -2.58e-06 |\n",
      "|    entropy        | 0.00258   |\n",
      "|    epoch          | 0         |\n",
      "|    l2_loss        | 0         |\n",
      "|    l2_norm        | 1.4e+05   |\n",
      "|    loss           | 0.000222  |\n",
      "|    neglogp        | 0.000224  |\n",
      "|    prob_true_act  | 1         |\n",
      "|    samples_so_far | 32        |\n",
      "---------------------------------\n"
     ]
    },
    {
     "name": "stderr",
     "output_type": "stream",
     "text": [
      "246batch [00:04, 56.00batch/s]\n",
      "0batch [00:00, ?batch/s]"
     ]
    },
    {
     "name": "stdout",
     "output_type": "stream",
     "text": [
      "---------------------------------\n",
      "| batch_size        | 32        |\n",
      "| bc/               |           |\n",
      "|    batch          | 0         |\n",
      "|    ent_loss       | -3.86e-06 |\n",
      "|    entropy        | 0.00386   |\n",
      "|    epoch          | 0         |\n",
      "|    l2_loss        | 0         |\n",
      "|    l2_norm        | 1.41e+05  |\n",
      "|    loss           | 0.000366  |\n",
      "|    neglogp        | 0.000369  |\n",
      "|    prob_true_act  | 1         |\n",
      "|    samples_so_far | 32        |\n",
      "---------------------------------\n"
     ]
    },
    {
     "name": "stderr",
     "output_type": "stream",
     "text": [
      "246batch [00:04, 55.84batch/s]\n",
      "0batch [00:00, ?batch/s]"
     ]
    },
    {
     "name": "stdout",
     "output_type": "stream",
     "text": [
      "--------------------------------\n",
      "| batch_size        | 32       |\n",
      "| bc/               |          |\n",
      "|    batch          | 0        |\n",
      "|    ent_loss       | -7.2e-05 |\n",
      "|    entropy        | 0.072    |\n",
      "|    epoch          | 0        |\n",
      "|    l2_loss        | 0        |\n",
      "|    l2_norm        | 1.4e+05  |\n",
      "|    loss           | 0.0278   |\n",
      "|    neglogp        | 0.0278   |\n",
      "|    prob_true_act  | 0.979    |\n",
      "|    samples_so_far | 32       |\n",
      "--------------------------------\n"
     ]
    },
    {
     "name": "stderr",
     "output_type": "stream",
     "text": [
      "246batch [00:04, 55.22batch/s]\n",
      "0batch [00:00, ?batch/s]"
     ]
    },
    {
     "name": "stdout",
     "output_type": "stream",
     "text": [
      "---------------------------------\n",
      "| batch_size        | 32        |\n",
      "| bc/               |           |\n",
      "|    batch          | 0         |\n",
      "|    ent_loss       | -3.14e-05 |\n",
      "|    entropy        | 0.0314    |\n",
      "|    epoch          | 0         |\n",
      "|    l2_loss        | 0         |\n",
      "|    l2_norm        | 1.4e+05   |\n",
      "|    loss           | 0.0296    |\n",
      "|    neglogp        | 0.0296    |\n",
      "|    prob_true_act  | 0.98      |\n",
      "|    samples_so_far | 32        |\n",
      "---------------------------------\n"
     ]
    },
    {
     "name": "stderr",
     "output_type": "stream",
     "text": [
      "246batch [00:04, 56.04batch/s]\n",
      "0batch [00:00, ?batch/s]"
     ]
    },
    {
     "name": "stdout",
     "output_type": "stream",
     "text": [
      "---------------------------------\n",
      "| batch_size        | 32        |\n",
      "| bc/               |           |\n",
      "|    batch          | 0         |\n",
      "|    ent_loss       | -2.31e-05 |\n",
      "|    entropy        | 0.0231    |\n",
      "|    epoch          | 0         |\n",
      "|    l2_loss        | 0         |\n",
      "|    l2_norm        | 1.4e+05   |\n",
      "|    loss           | 0.0471    |\n",
      "|    neglogp        | 0.0471    |\n",
      "|    prob_true_act  | 0.975     |\n",
      "|    samples_so_far | 32        |\n",
      "---------------------------------\n"
     ]
    },
    {
     "name": "stderr",
     "output_type": "stream",
     "text": [
      "246batch [00:04, 56.09batch/s]\n",
      "0batch [00:00, ?batch/s]"
     ]
    },
    {
     "name": "stdout",
     "output_type": "stream",
     "text": [
      "---------------------------------\n",
      "| batch_size        | 32        |\n",
      "| bc/               |           |\n",
      "|    batch          | 0         |\n",
      "|    ent_loss       | -5.24e-05 |\n",
      "|    entropy        | 0.0524    |\n",
      "|    epoch          | 0         |\n",
      "|    l2_loss        | 0         |\n",
      "|    l2_norm        | 1.4e+05   |\n",
      "|    loss           | 0.0528    |\n",
      "|    neglogp        | 0.0528    |\n",
      "|    prob_true_act  | 0.97      |\n",
      "|    samples_so_far | 32        |\n",
      "---------------------------------\n"
     ]
    },
    {
     "name": "stderr",
     "output_type": "stream",
     "text": [
      "246batch [00:04, 55.02batch/s]\n",
      "0batch [00:00, ?batch/s]"
     ]
    },
    {
     "name": "stdout",
     "output_type": "stream",
     "text": [
      "---------------------------------\n",
      "| batch_size        | 32        |\n",
      "| bc/               |           |\n",
      "|    batch          | 0         |\n",
      "|    ent_loss       | -3.26e-05 |\n",
      "|    entropy        | 0.0326    |\n",
      "|    epoch          | 0         |\n",
      "|    l2_loss        | 0         |\n",
      "|    l2_norm        | 1.4e+05   |\n",
      "|    loss           | 0.0253    |\n",
      "|    neglogp        | 0.0253    |\n",
      "|    prob_true_act  | 0.982     |\n",
      "|    samples_so_far | 32        |\n",
      "---------------------------------\n"
     ]
    },
    {
     "name": "stderr",
     "output_type": "stream",
     "text": [
      "246batch [00:04, 56.13batch/s]\n",
      "0batch [00:00, ?batch/s]"
     ]
    },
    {
     "name": "stdout",
     "output_type": "stream",
     "text": [
      "---------------------------------\n",
      "| batch_size        | 32        |\n",
      "| bc/               |           |\n",
      "|    batch          | 0         |\n",
      "|    ent_loss       | -8.79e-06 |\n",
      "|    entropy        | 0.00879   |\n",
      "|    epoch          | 0         |\n",
      "|    l2_loss        | 0         |\n",
      "|    l2_norm        | 1.4e+05   |\n",
      "|    loss           | 0.000909  |\n",
      "|    neglogp        | 0.000918  |\n",
      "|    prob_true_act  | 0.999     |\n",
      "|    samples_so_far | 32        |\n",
      "---------------------------------\n"
     ]
    },
    {
     "name": "stderr",
     "output_type": "stream",
     "text": [
      "246batch [00:04, 55.40batch/s]\n",
      "0batch [00:00, ?batch/s]"
     ]
    },
    {
     "name": "stdout",
     "output_type": "stream",
     "text": [
      "---------------------------------\n",
      "| batch_size        | 32        |\n",
      "| bc/               |           |\n",
      "|    batch          | 0         |\n",
      "|    ent_loss       | -3.29e-06 |\n",
      "|    entropy        | 0.00329   |\n",
      "|    epoch          | 0         |\n",
      "|    l2_loss        | 0         |\n",
      "|    l2_norm        | 1.41e+05  |\n",
      "|    loss           | 0.000294  |\n",
      "|    neglogp        | 0.000298  |\n",
      "|    prob_true_act  | 1         |\n",
      "|    samples_so_far | 32        |\n",
      "---------------------------------\n"
     ]
    },
    {
     "name": "stderr",
     "output_type": "stream",
     "text": [
      "246batch [00:04, 55.35batch/s]\n",
      "0batch [00:00, ?batch/s]"
     ]
    },
    {
     "name": "stdout",
     "output_type": "stream",
     "text": [
      "---------------------------------\n",
      "| batch_size        | 32        |\n",
      "| bc/               |           |\n",
      "|    batch          | 0         |\n",
      "|    ent_loss       | -6.15e-06 |\n",
      "|    entropy        | 0.00615   |\n",
      "|    epoch          | 0         |\n",
      "|    l2_loss        | 0         |\n",
      "|    l2_norm        | 1.41e+05  |\n",
      "|    loss           | 0.00062   |\n",
      "|    neglogp        | 0.000626  |\n",
      "|    prob_true_act  | 0.999     |\n",
      "|    samples_so_far | 32        |\n",
      "---------------------------------\n"
     ]
    },
    {
     "name": "stderr",
     "output_type": "stream",
     "text": [
      "246batch [00:04, 55.09batch/s]\n",
      "0batch [00:00, ?batch/s]"
     ]
    },
    {
     "name": "stdout",
     "output_type": "stream",
     "text": [
      "---------------------------------\n",
      "| batch_size        | 32        |\n",
      "| bc/               |           |\n",
      "|    batch          | 0         |\n",
      "|    ent_loss       | -5.55e-06 |\n",
      "|    entropy        | 0.00555   |\n",
      "|    epoch          | 0         |\n",
      "|    l2_loss        | 0         |\n",
      "|    l2_norm        | 1.41e+05  |\n",
      "|    loss           | 0.000537  |\n",
      "|    neglogp        | 0.000542  |\n",
      "|    prob_true_act  | 0.999     |\n",
      "|    samples_so_far | 32        |\n",
      "---------------------------------\n"
     ]
    },
    {
     "name": "stderr",
     "output_type": "stream",
     "text": [
      "246batch [00:04, 56.18batch/s]\n",
      "0batch [00:00, ?batch/s]"
     ]
    },
    {
     "name": "stdout",
     "output_type": "stream",
     "text": [
      "---------------------------------\n",
      "| batch_size        | 32        |\n",
      "| bc/               |           |\n",
      "|    batch          | 0         |\n",
      "|    ent_loss       | -5.03e-05 |\n",
      "|    entropy        | 0.0503    |\n",
      "|    epoch          | 0         |\n",
      "|    l2_loss        | 0         |\n",
      "|    l2_norm        | 1.41e+05  |\n",
      "|    loss           | 0.0621    |\n",
      "|    neglogp        | 0.0621    |\n",
      "|    prob_true_act  | 0.961     |\n",
      "|    samples_so_far | 32        |\n",
      "---------------------------------\n"
     ]
    },
    {
     "name": "stderr",
     "output_type": "stream",
     "text": [
      "246batch [00:04, 55.17batch/s]\n",
      "0batch [00:00, ?batch/s]"
     ]
    },
    {
     "name": "stdout",
     "output_type": "stream",
     "text": [
      "---------------------------------\n",
      "| batch_size        | 32        |\n",
      "| bc/               |           |\n",
      "|    batch          | 0         |\n",
      "|    ent_loss       | -3.76e-06 |\n",
      "|    entropy        | 0.00376   |\n",
      "|    epoch          | 0         |\n",
      "|    l2_loss        | 0         |\n",
      "|    l2_norm        | 1.41e+05  |\n",
      "|    loss           | 0.000354  |\n",
      "|    neglogp        | 0.000357  |\n",
      "|    prob_true_act  | 1         |\n",
      "|    samples_so_far | 32        |\n",
      "---------------------------------\n"
     ]
    },
    {
     "name": "stderr",
     "output_type": "stream",
     "text": [
      "246batch [00:04, 55.89batch/s]\n",
      "0batch [00:00, ?batch/s]"
     ]
    },
    {
     "name": "stdout",
     "output_type": "stream",
     "text": [
      "---------------------------------\n",
      "| batch_size        | 32        |\n",
      "| bc/               |           |\n",
      "|    batch          | 0         |\n",
      "|    ent_loss       | -3.99e-05 |\n",
      "|    entropy        | 0.0399    |\n",
      "|    epoch          | 0         |\n",
      "|    l2_loss        | 0         |\n",
      "|    l2_norm        | 1.41e+05  |\n",
      "|    loss           | 0.0279    |\n",
      "|    neglogp        | 0.0279    |\n",
      "|    prob_true_act  | 0.981     |\n",
      "|    samples_so_far | 32        |\n",
      "---------------------------------\n"
     ]
    },
    {
     "name": "stderr",
     "output_type": "stream",
     "text": [
      "246batch [00:04, 55.57batch/s]\n",
      "0batch [00:00, ?batch/s]"
     ]
    },
    {
     "name": "stdout",
     "output_type": "stream",
     "text": [
      "---------------------------------\n",
      "| batch_size        | 32        |\n",
      "| bc/               |           |\n",
      "|    batch          | 0         |\n",
      "|    ent_loss       | -2.56e-05 |\n",
      "|    entropy        | 0.0256    |\n",
      "|    epoch          | 0         |\n",
      "|    l2_loss        | 0         |\n",
      "|    l2_norm        | 1.41e+05  |\n",
      "|    loss           | 0.0177    |\n",
      "|    neglogp        | 0.0177    |\n",
      "|    prob_true_act  | 0.986     |\n",
      "|    samples_so_far | 32        |\n",
      "---------------------------------\n"
     ]
    },
    {
     "name": "stderr",
     "output_type": "stream",
     "text": [
      "246batch [00:04, 55.99batch/s]\n",
      "0batch [00:00, ?batch/s]"
     ]
    },
    {
     "name": "stdout",
     "output_type": "stream",
     "text": [
      "---------------------------------\n",
      "| batch_size        | 32        |\n",
      "| bc/               |           |\n",
      "|    batch          | 0         |\n",
      "|    ent_loss       | -4.56e-06 |\n",
      "|    entropy        | 0.00456   |\n",
      "|    epoch          | 0         |\n",
      "|    l2_loss        | 0         |\n",
      "|    l2_norm        | 1.41e+05  |\n",
      "|    loss           | 0.000431  |\n",
      "|    neglogp        | 0.000436  |\n",
      "|    prob_true_act  | 1         |\n",
      "|    samples_so_far | 32        |\n",
      "---------------------------------\n"
     ]
    },
    {
     "name": "stderr",
     "output_type": "stream",
     "text": [
      "246batch [00:04, 55.39batch/s]\n"
     ]
    },
    {
     "name": "stdout",
     "output_type": "stream",
     "text": [
      "Checkpoint saved at checkpoints\\bc_model_epoch_300.zip\n"
     ]
    },
    {
     "name": "stderr",
     "output_type": "stream",
     "text": [
      "0batch [00:00, ?batch/s]"
     ]
    },
    {
     "name": "stdout",
     "output_type": "stream",
     "text": [
      "---------------------------------\n",
      "| batch_size        | 32        |\n",
      "| bc/               |           |\n",
      "|    batch          | 0         |\n",
      "|    ent_loss       | -4.92e-05 |\n",
      "|    entropy        | 0.0492    |\n",
      "|    epoch          | 0         |\n",
      "|    l2_loss        | 0         |\n",
      "|    l2_norm        | 1.41e+05  |\n",
      "|    loss           | 0.0298    |\n",
      "|    neglogp        | 0.0299    |\n",
      "|    prob_true_act  | 0.977     |\n",
      "|    samples_so_far | 32        |\n",
      "---------------------------------\n"
     ]
    },
    {
     "name": "stderr",
     "output_type": "stream",
     "text": [
      "246batch [00:04, 55.36batch/s]\n",
      "0batch [00:00, ?batch/s]"
     ]
    },
    {
     "name": "stdout",
     "output_type": "stream",
     "text": [
      "---------------------------------\n",
      "| batch_size        | 32        |\n",
      "| bc/               |           |\n",
      "|    batch          | 0         |\n",
      "|    ent_loss       | -4.58e-06 |\n",
      "|    entropy        | 0.00458   |\n",
      "|    epoch          | 0         |\n",
      "|    l2_loss        | 0         |\n",
      "|    l2_norm        | 1.42e+05  |\n",
      "|    loss           | 0.000426  |\n",
      "|    neglogp        | 0.000431  |\n",
      "|    prob_true_act  | 1         |\n",
      "|    samples_so_far | 32        |\n",
      "---------------------------------\n"
     ]
    },
    {
     "name": "stderr",
     "output_type": "stream",
     "text": [
      "246batch [00:04, 55.52batch/s]\n",
      "0batch [00:00, ?batch/s]"
     ]
    },
    {
     "name": "stdout",
     "output_type": "stream",
     "text": [
      "---------------------------------\n",
      "| batch_size        | 32        |\n",
      "| bc/               |           |\n",
      "|    batch          | 0         |\n",
      "|    ent_loss       | -2.22e-06 |\n",
      "|    entropy        | 0.00222   |\n",
      "|    epoch          | 0         |\n",
      "|    l2_loss        | 0         |\n",
      "|    l2_norm        | 1.42e+05  |\n",
      "|    loss           | 0.00019   |\n",
      "|    neglogp        | 0.000192  |\n",
      "|    prob_true_act  | 1         |\n",
      "|    samples_so_far | 32        |\n",
      "---------------------------------\n"
     ]
    },
    {
     "name": "stderr",
     "output_type": "stream",
     "text": [
      "246batch [00:04, 54.59batch/s]\n",
      "0batch [00:00, ?batch/s]"
     ]
    },
    {
     "name": "stdout",
     "output_type": "stream",
     "text": [
      "---------------------------------\n",
      "| batch_size        | 32        |\n",
      "| bc/               |           |\n",
      "|    batch          | 0         |\n",
      "|    ent_loss       | -2.78e-05 |\n",
      "|    entropy        | 0.0278    |\n",
      "|    epoch          | 0         |\n",
      "|    l2_loss        | 0         |\n",
      "|    l2_norm        | 1.42e+05  |\n",
      "|    loss           | 0.0348    |\n",
      "|    neglogp        | 0.0348    |\n",
      "|    prob_true_act  | 0.979     |\n",
      "|    samples_so_far | 32        |\n",
      "---------------------------------\n"
     ]
    },
    {
     "name": "stderr",
     "output_type": "stream",
     "text": [
      "246batch [00:04, 55.95batch/s]\n",
      "0batch [00:00, ?batch/s]"
     ]
    },
    {
     "name": "stdout",
     "output_type": "stream",
     "text": [
      "---------------------------------\n",
      "| batch_size        | 32        |\n",
      "| bc/               |           |\n",
      "|    batch          | 0         |\n",
      "|    ent_loss       | -4.03e-05 |\n",
      "|    entropy        | 0.0403    |\n",
      "|    epoch          | 0         |\n",
      "|    l2_loss        | 0         |\n",
      "|    l2_norm        | 1.42e+05  |\n",
      "|    loss           | 0.0377    |\n",
      "|    neglogp        | 0.0377    |\n",
      "|    prob_true_act  | 0.978     |\n",
      "|    samples_so_far | 32        |\n",
      "---------------------------------\n"
     ]
    },
    {
     "name": "stderr",
     "output_type": "stream",
     "text": [
      "246batch [00:04, 56.14batch/s]\n",
      "0batch [00:00, ?batch/s]"
     ]
    },
    {
     "name": "stdout",
     "output_type": "stream",
     "text": [
      "---------------------------------\n",
      "| batch_size        | 32        |\n",
      "| bc/               |           |\n",
      "|    batch          | 0         |\n",
      "|    ent_loss       | -6.02e-05 |\n",
      "|    entropy        | 0.0602    |\n",
      "|    epoch          | 0         |\n",
      "|    l2_loss        | 0         |\n",
      "|    l2_norm        | 1.42e+05  |\n",
      "|    loss           | 0.0363    |\n",
      "|    neglogp        | 0.0364    |\n",
      "|    prob_true_act  | 0.973     |\n",
      "|    samples_so_far | 32        |\n",
      "---------------------------------\n"
     ]
    },
    {
     "name": "stderr",
     "output_type": "stream",
     "text": [
      "246batch [00:04, 54.82batch/s]\n",
      "0batch [00:00, ?batch/s]"
     ]
    },
    {
     "name": "stdout",
     "output_type": "stream",
     "text": [
      "---------------------------------\n",
      "| batch_size        | 32        |\n",
      "| bc/               |           |\n",
      "|    batch          | 0         |\n",
      "|    ent_loss       | -3.62e-05 |\n",
      "|    entropy        | 0.0362    |\n",
      "|    epoch          | 0         |\n",
      "|    l2_loss        | 0         |\n",
      "|    l2_norm        | 1.42e+05  |\n",
      "|    loss           | 0.0434    |\n",
      "|    neglogp        | 0.0434    |\n",
      "|    prob_true_act  | 0.976     |\n",
      "|    samples_so_far | 32        |\n",
      "---------------------------------\n"
     ]
    },
    {
     "name": "stderr",
     "output_type": "stream",
     "text": [
      "246batch [00:04, 55.77batch/s]\n",
      "0batch [00:00, ?batch/s]"
     ]
    },
    {
     "name": "stdout",
     "output_type": "stream",
     "text": [
      "---------------------------------\n",
      "| batch_size        | 32        |\n",
      "| bc/               |           |\n",
      "|    batch          | 0         |\n",
      "|    ent_loss       | -1.98e-05 |\n",
      "|    entropy        | 0.0198    |\n",
      "|    epoch          | 0         |\n",
      "|    l2_loss        | 0         |\n",
      "|    l2_norm        | 1.43e+05  |\n",
      "|    loss           | 0.0081    |\n",
      "|    neglogp        | 0.00812   |\n",
      "|    prob_true_act  | 0.993     |\n",
      "|    samples_so_far | 32        |\n",
      "---------------------------------\n"
     ]
    },
    {
     "name": "stderr",
     "output_type": "stream",
     "text": [
      "246batch [00:04, 55.99batch/s]\n",
      "0batch [00:00, ?batch/s]"
     ]
    },
    {
     "name": "stdout",
     "output_type": "stream",
     "text": [
      "---------------------------------\n",
      "| batch_size        | 32        |\n",
      "| bc/               |           |\n",
      "|    batch          | 0         |\n",
      "|    ent_loss       | -3.99e-06 |\n",
      "|    entropy        | 0.00399   |\n",
      "|    epoch          | 0         |\n",
      "|    l2_loss        | 0         |\n",
      "|    l2_norm        | 1.43e+05  |\n",
      "|    loss           | 0.000414  |\n",
      "|    neglogp        | 0.000418  |\n",
      "|    prob_true_act  | 1         |\n",
      "|    samples_so_far | 32        |\n",
      "---------------------------------\n"
     ]
    },
    {
     "name": "stderr",
     "output_type": "stream",
     "text": [
      "246batch [00:04, 54.32batch/s]\n",
      "0batch [00:00, ?batch/s]"
     ]
    },
    {
     "name": "stdout",
     "output_type": "stream",
     "text": [
      "---------------------------------\n",
      "| batch_size        | 32        |\n",
      "| bc/               |           |\n",
      "|    batch          | 0         |\n",
      "|    ent_loss       | -4.57e-05 |\n",
      "|    entropy        | 0.0457    |\n",
      "|    epoch          | 0         |\n",
      "|    l2_loss        | 0         |\n",
      "|    l2_norm        | 1.42e+05  |\n",
      "|    loss           | 0.0108    |\n",
      "|    neglogp        | 0.0109    |\n",
      "|    prob_true_act  | 0.99      |\n",
      "|    samples_so_far | 32        |\n",
      "---------------------------------\n"
     ]
    },
    {
     "name": "stderr",
     "output_type": "stream",
     "text": [
      "246batch [00:04, 52.37batch/s]\n",
      "0batch [00:00, ?batch/s]"
     ]
    },
    {
     "name": "stdout",
     "output_type": "stream",
     "text": [
      "---------------------------------\n",
      "| batch_size        | 32        |\n",
      "| bc/               |           |\n",
      "|    batch          | 0         |\n",
      "|    ent_loss       | -2.95e-05 |\n",
      "|    entropy        | 0.0295    |\n",
      "|    epoch          | 0         |\n",
      "|    l2_loss        | 0         |\n",
      "|    l2_norm        | 1.42e+05  |\n",
      "|    loss           | 0.027     |\n",
      "|    neglogp        | 0.0271    |\n",
      "|    prob_true_act  | 0.982     |\n",
      "|    samples_so_far | 32        |\n",
      "---------------------------------\n"
     ]
    },
    {
     "name": "stderr",
     "output_type": "stream",
     "text": [
      "246batch [00:04, 54.72batch/s]\n",
      "0batch [00:00, ?batch/s]"
     ]
    },
    {
     "name": "stdout",
     "output_type": "stream",
     "text": [
      "---------------------------------\n",
      "| batch_size        | 32        |\n",
      "| bc/               |           |\n",
      "|    batch          | 0         |\n",
      "|    ent_loss       | -6.87e-06 |\n",
      "|    entropy        | 0.00687   |\n",
      "|    epoch          | 0         |\n",
      "|    l2_loss        | 0         |\n",
      "|    l2_norm        | 1.42e+05  |\n",
      "|    loss           | 0.000787  |\n",
      "|    neglogp        | 0.000794  |\n",
      "|    prob_true_act  | 0.999     |\n",
      "|    samples_so_far | 32        |\n",
      "---------------------------------\n"
     ]
    },
    {
     "name": "stderr",
     "output_type": "stream",
     "text": [
      "246batch [00:04, 55.84batch/s]\n",
      "0batch [00:00, ?batch/s]"
     ]
    },
    {
     "name": "stdout",
     "output_type": "stream",
     "text": [
      "---------------------------------\n",
      "| batch_size        | 32        |\n",
      "| bc/               |           |\n",
      "|    batch          | 0         |\n",
      "|    ent_loss       | -4.21e-06 |\n",
      "|    entropy        | 0.00421   |\n",
      "|    epoch          | 0         |\n",
      "|    l2_loss        | 0         |\n",
      "|    l2_norm        | 1.42e+05  |\n",
      "|    loss           | 0.000406  |\n",
      "|    neglogp        | 0.00041   |\n",
      "|    prob_true_act  | 1         |\n",
      "|    samples_so_far | 32        |\n",
      "---------------------------------\n"
     ]
    },
    {
     "name": "stderr",
     "output_type": "stream",
     "text": [
      "246batch [00:04, 55.27batch/s]\n",
      "0batch [00:00, ?batch/s]"
     ]
    },
    {
     "name": "stdout",
     "output_type": "stream",
     "text": [
      "---------------------------------\n",
      "| batch_size        | 32        |\n",
      "| bc/               |           |\n",
      "|    batch          | 0         |\n",
      "|    ent_loss       | -4.58e-06 |\n",
      "|    entropy        | 0.00458   |\n",
      "|    epoch          | 0         |\n",
      "|    l2_loss        | 0         |\n",
      "|    l2_norm        | 1.43e+05  |\n",
      "|    loss           | 0.000426  |\n",
      "|    neglogp        | 0.00043   |\n",
      "|    prob_true_act  | 1         |\n",
      "|    samples_so_far | 32        |\n",
      "---------------------------------\n"
     ]
    },
    {
     "name": "stderr",
     "output_type": "stream",
     "text": [
      "246batch [00:04, 54.79batch/s]\n",
      "0batch [00:00, ?batch/s]"
     ]
    },
    {
     "name": "stdout",
     "output_type": "stream",
     "text": [
      "---------------------------------\n",
      "| batch_size        | 32        |\n",
      "| bc/               |           |\n",
      "|    batch          | 0         |\n",
      "|    ent_loss       | -5.22e-05 |\n",
      "|    entropy        | 0.0522    |\n",
      "|    epoch          | 0         |\n",
      "|    l2_loss        | 0         |\n",
      "|    l2_norm        | 1.43e+05  |\n",
      "|    loss           | 0.0661    |\n",
      "|    neglogp        | 0.0661    |\n",
      "|    prob_true_act  | 0.959     |\n",
      "|    samples_so_far | 32        |\n",
      "---------------------------------\n"
     ]
    },
    {
     "name": "stderr",
     "output_type": "stream",
     "text": [
      "246batch [00:04, 55.99batch/s]\n",
      "0batch [00:00, ?batch/s]"
     ]
    },
    {
     "name": "stdout",
     "output_type": "stream",
     "text": [
      "---------------------------------\n",
      "| batch_size        | 32        |\n",
      "| bc/               |           |\n",
      "|    batch          | 0         |\n",
      "|    ent_loss       | -3.49e-06 |\n",
      "|    entropy        | 0.00349   |\n",
      "|    epoch          | 0         |\n",
      "|    l2_loss        | 0         |\n",
      "|    l2_norm        | 1.43e+05  |\n",
      "|    loss           | 0.00032   |\n",
      "|    neglogp        | 0.000323  |\n",
      "|    prob_true_act  | 1         |\n",
      "|    samples_so_far | 32        |\n",
      "---------------------------------\n"
     ]
    },
    {
     "name": "stderr",
     "output_type": "stream",
     "text": [
      "246batch [00:04, 56.07batch/s]\n",
      "0batch [00:00, ?batch/s]"
     ]
    },
    {
     "name": "stdout",
     "output_type": "stream",
     "text": [
      "---------------------------------\n",
      "| batch_size        | 32        |\n",
      "| bc/               |           |\n",
      "|    batch          | 0         |\n",
      "|    ent_loss       | -4.55e-06 |\n",
      "|    entropy        | 0.00455   |\n",
      "|    epoch          | 0         |\n",
      "|    l2_loss        | 0         |\n",
      "|    l2_norm        | 1.43e+05  |\n",
      "|    loss           | 0.000439  |\n",
      "|    neglogp        | 0.000444  |\n",
      "|    prob_true_act  | 1         |\n",
      "|    samples_so_far | 32        |\n",
      "---------------------------------\n"
     ]
    },
    {
     "name": "stderr",
     "output_type": "stream",
     "text": [
      "246batch [00:04, 55.23batch/s]\n",
      "0batch [00:00, ?batch/s]"
     ]
    },
    {
     "name": "stdout",
     "output_type": "stream",
     "text": [
      "---------------------------------\n",
      "| batch_size        | 32        |\n",
      "| bc/               |           |\n",
      "|    batch          | 0         |\n",
      "|    ent_loss       | -1.63e-06 |\n",
      "|    entropy        | 0.00163   |\n",
      "|    epoch          | 0         |\n",
      "|    l2_loss        | 0         |\n",
      "|    l2_norm        | 1.43e+05  |\n",
      "|    loss           | 0.00014   |\n",
      "|    neglogp        | 0.000142  |\n",
      "|    prob_true_act  | 1         |\n",
      "|    samples_so_far | 32        |\n",
      "---------------------------------\n"
     ]
    },
    {
     "name": "stderr",
     "output_type": "stream",
     "text": [
      "246batch [00:04, 56.28batch/s]\n",
      "0batch [00:00, ?batch/s]"
     ]
    },
    {
     "name": "stdout",
     "output_type": "stream",
     "text": [
      "---------------------------------\n",
      "| batch_size        | 32        |\n",
      "| bc/               |           |\n",
      "|    batch          | 0         |\n",
      "|    ent_loss       | -4.46e-06 |\n",
      "|    entropy        | 0.00446   |\n",
      "|    epoch          | 0         |\n",
      "|    l2_loss        | 0         |\n",
      "|    l2_norm        | 1.43e+05  |\n",
      "|    loss           | 0.000438  |\n",
      "|    neglogp        | 0.000442  |\n",
      "|    prob_true_act  | 1         |\n",
      "|    samples_so_far | 32        |\n",
      "---------------------------------\n"
     ]
    },
    {
     "name": "stderr",
     "output_type": "stream",
     "text": [
      "246batch [00:04, 55.46batch/s]\n",
      "0batch [00:00, ?batch/s]"
     ]
    },
    {
     "name": "stdout",
     "output_type": "stream",
     "text": [
      "---------------------------------\n",
      "| batch_size        | 32        |\n",
      "| bc/               |           |\n",
      "|    batch          | 0         |\n",
      "|    ent_loss       | -3.15e-06 |\n",
      "|    entropy        | 0.00315   |\n",
      "|    epoch          | 0         |\n",
      "|    l2_loss        | 0         |\n",
      "|    l2_norm        | 1.43e+05  |\n",
      "|    loss           | 0.000342  |\n",
      "|    neglogp        | 0.000345  |\n",
      "|    prob_true_act  | 1         |\n",
      "|    samples_so_far | 32        |\n",
      "---------------------------------\n"
     ]
    },
    {
     "name": "stderr",
     "output_type": "stream",
     "text": [
      "246batch [00:04, 54.70batch/s]\n",
      "0batch [00:00, ?batch/s]"
     ]
    },
    {
     "name": "stdout",
     "output_type": "stream",
     "text": [
      "---------------------------------\n",
      "| batch_size        | 32        |\n",
      "| bc/               |           |\n",
      "|    batch          | 0         |\n",
      "|    ent_loss       | -2.11e-06 |\n",
      "|    entropy        | 0.00211   |\n",
      "|    epoch          | 0         |\n",
      "|    l2_loss        | 0         |\n",
      "|    l2_norm        | 1.43e+05  |\n",
      "|    loss           | 0.000178  |\n",
      "|    neglogp        | 0.000181  |\n",
      "|    prob_true_act  | 1         |\n",
      "|    samples_so_far | 32        |\n",
      "---------------------------------\n"
     ]
    },
    {
     "name": "stderr",
     "output_type": "stream",
     "text": [
      "246batch [00:04, 53.70batch/s]\n",
      "0batch [00:00, ?batch/s]"
     ]
    },
    {
     "name": "stdout",
     "output_type": "stream",
     "text": [
      "---------------------------------\n",
      "| batch_size        | 32        |\n",
      "| bc/               |           |\n",
      "|    batch          | 0         |\n",
      "|    ent_loss       | -2.49e-05 |\n",
      "|    entropy        | 0.0249    |\n",
      "|    epoch          | 0         |\n",
      "|    l2_loss        | 0         |\n",
      "|    l2_norm        | 1.43e+05  |\n",
      "|    loss           | 0.0238    |\n",
      "|    neglogp        | 0.0238    |\n",
      "|    prob_true_act  | 0.983     |\n",
      "|    samples_so_far | 32        |\n",
      "---------------------------------\n"
     ]
    },
    {
     "name": "stderr",
     "output_type": "stream",
     "text": [
      "246batch [00:04, 56.21batch/s]\n",
      "0batch [00:00, ?batch/s]"
     ]
    },
    {
     "name": "stdout",
     "output_type": "stream",
     "text": [
      "---------------------------------\n",
      "| batch_size        | 32        |\n",
      "| bc/               |           |\n",
      "|    batch          | 0         |\n",
      "|    ent_loss       | -2.14e-05 |\n",
      "|    entropy        | 0.0214    |\n",
      "|    epoch          | 0         |\n",
      "|    l2_loss        | 0         |\n",
      "|    l2_norm        | 1.44e+05  |\n",
      "|    loss           | 0.0408    |\n",
      "|    neglogp        | 0.0408    |\n",
      "|    prob_true_act  | 0.977     |\n",
      "|    samples_so_far | 32        |\n",
      "---------------------------------\n"
     ]
    },
    {
     "name": "stderr",
     "output_type": "stream",
     "text": [
      "246batch [00:04, 55.45batch/s]\n",
      "0batch [00:00, ?batch/s]"
     ]
    },
    {
     "name": "stdout",
     "output_type": "stream",
     "text": [
      "---------------------------------\n",
      "| batch_size        | 32        |\n",
      "| bc/               |           |\n",
      "|    batch          | 0         |\n",
      "|    ent_loss       | -1.61e-06 |\n",
      "|    entropy        | 0.00161   |\n",
      "|    epoch          | 0         |\n",
      "|    l2_loss        | 0         |\n",
      "|    l2_norm        | 1.44e+05  |\n",
      "|    loss           | 0.000134  |\n",
      "|    neglogp        | 0.000135  |\n",
      "|    prob_true_act  | 1         |\n",
      "|    samples_so_far | 32        |\n",
      "---------------------------------\n"
     ]
    },
    {
     "name": "stderr",
     "output_type": "stream",
     "text": [
      "246batch [00:04, 55.90batch/s]\n",
      "0batch [00:00, ?batch/s]"
     ]
    },
    {
     "name": "stdout",
     "output_type": "stream",
     "text": [
      "---------------------------------\n",
      "| batch_size        | 32        |\n",
      "| bc/               |           |\n",
      "|    batch          | 0         |\n",
      "|    ent_loss       | -2.33e-06 |\n",
      "|    entropy        | 0.00233   |\n",
      "|    epoch          | 0         |\n",
      "|    l2_loss        | 0         |\n",
      "|    l2_norm        | 1.44e+05  |\n",
      "|    loss           | 0.000198  |\n",
      "|    neglogp        | 0.000201  |\n",
      "|    prob_true_act  | 1         |\n",
      "|    samples_so_far | 32        |\n",
      "---------------------------------\n"
     ]
    },
    {
     "name": "stderr",
     "output_type": "stream",
     "text": [
      "246batch [00:04, 55.97batch/s]\n",
      "0batch [00:00, ?batch/s]"
     ]
    },
    {
     "name": "stdout",
     "output_type": "stream",
     "text": [
      "--------------------------------\n",
      "| batch_size        | 32       |\n",
      "| bc/               |          |\n",
      "|    batch          | 0        |\n",
      "|    ent_loss       | -2.6e-05 |\n",
      "|    entropy        | 0.026    |\n",
      "|    epoch          | 0        |\n",
      "|    l2_loss        | 0        |\n",
      "|    l2_norm        | 1.44e+05 |\n",
      "|    loss           | 0.0221   |\n",
      "|    neglogp        | 0.0221   |\n",
      "|    prob_true_act  | 0.984    |\n",
      "|    samples_so_far | 32       |\n",
      "--------------------------------\n"
     ]
    },
    {
     "name": "stderr",
     "output_type": "stream",
     "text": [
      "246batch [00:04, 54.68batch/s]\n",
      "0batch [00:00, ?batch/s]"
     ]
    },
    {
     "name": "stdout",
     "output_type": "stream",
     "text": [
      "--------------------------------\n",
      "| batch_size        | 32       |\n",
      "| bc/               |          |\n",
      "|    batch          | 0        |\n",
      "|    ent_loss       | -2.5e-05 |\n",
      "|    entropy        | 0.025    |\n",
      "|    epoch          | 0        |\n",
      "|    l2_loss        | 0        |\n",
      "|    l2_norm        | 1.44e+05 |\n",
      "|    loss           | 0.0167   |\n",
      "|    neglogp        | 0.0167   |\n",
      "|    prob_true_act  | 0.987    |\n",
      "|    samples_so_far | 32       |\n",
      "--------------------------------\n"
     ]
    },
    {
     "name": "stderr",
     "output_type": "stream",
     "text": [
      "246batch [00:04, 56.17batch/s]\n",
      "0batch [00:00, ?batch/s]"
     ]
    },
    {
     "name": "stdout",
     "output_type": "stream",
     "text": [
      "---------------------------------\n",
      "| batch_size        | 32        |\n",
      "| bc/               |           |\n",
      "|    batch          | 0         |\n",
      "|    ent_loss       | -9.73e-05 |\n",
      "|    entropy        | 0.0973    |\n",
      "|    epoch          | 0         |\n",
      "|    l2_loss        | 0         |\n",
      "|    l2_norm        | 1.44e+05  |\n",
      "|    loss           | 0.0702    |\n",
      "|    neglogp        | 0.0703    |\n",
      "|    prob_true_act  | 0.952     |\n",
      "|    samples_so_far | 32        |\n",
      "---------------------------------\n"
     ]
    },
    {
     "name": "stderr",
     "output_type": "stream",
     "text": [
      "246batch [00:04, 56.37batch/s]\n",
      "0batch [00:00, ?batch/s]"
     ]
    },
    {
     "name": "stdout",
     "output_type": "stream",
     "text": [
      "---------------------------------\n",
      "| batch_size        | 32        |\n",
      "| bc/               |           |\n",
      "|    batch          | 0         |\n",
      "|    ent_loss       | -2.16e-05 |\n",
      "|    entropy        | 0.0216    |\n",
      "|    epoch          | 0         |\n",
      "|    l2_loss        | 0         |\n",
      "|    l2_norm        | 1.44e+05  |\n",
      "|    loss           | 0.0423    |\n",
      "|    neglogp        | 0.0424    |\n",
      "|    prob_true_act  | 0.977     |\n",
      "|    samples_so_far | 32        |\n",
      "---------------------------------\n"
     ]
    },
    {
     "name": "stderr",
     "output_type": "stream",
     "text": [
      "246batch [00:04, 55.40batch/s]\n",
      "0batch [00:00, ?batch/s]"
     ]
    },
    {
     "name": "stdout",
     "output_type": "stream",
     "text": [
      "--------------------------------\n",
      "| batch_size        | 32       |\n",
      "| bc/               |          |\n",
      "|    batch          | 0        |\n",
      "|    ent_loss       | -2.3e-06 |\n",
      "|    entropy        | 0.0023   |\n",
      "|    epoch          | 0        |\n",
      "|    l2_loss        | 0        |\n",
      "|    l2_norm        | 1.45e+05 |\n",
      "|    loss           | 0.000205 |\n",
      "|    neglogp        | 0.000208 |\n",
      "|    prob_true_act  | 1        |\n",
      "|    samples_so_far | 32       |\n",
      "--------------------------------\n"
     ]
    },
    {
     "name": "stderr",
     "output_type": "stream",
     "text": [
      "246batch [00:04, 55.87batch/s]\n",
      "0batch [00:00, ?batch/s]"
     ]
    },
    {
     "name": "stdout",
     "output_type": "stream",
     "text": [
      "--------------------------------\n",
      "| batch_size        | 32       |\n",
      "| bc/               |          |\n",
      "|    batch          | 0        |\n",
      "|    ent_loss       | -3.2e-06 |\n",
      "|    entropy        | 0.0032   |\n",
      "|    epoch          | 0        |\n",
      "|    l2_loss        | 0        |\n",
      "|    l2_norm        | 1.45e+05 |\n",
      "|    loss           | 0.000285 |\n",
      "|    neglogp        | 0.000288 |\n",
      "|    prob_true_act  | 1        |\n",
      "|    samples_so_far | 32       |\n",
      "--------------------------------\n"
     ]
    },
    {
     "name": "stderr",
     "output_type": "stream",
     "text": [
      "246batch [00:04, 56.00batch/s]\n",
      "0batch [00:00, ?batch/s]"
     ]
    },
    {
     "name": "stdout",
     "output_type": "stream",
     "text": [
      "---------------------------------\n",
      "| batch_size        | 32        |\n",
      "| bc/               |           |\n",
      "|    batch          | 0         |\n",
      "|    ent_loss       | -2.15e-05 |\n",
      "|    entropy        | 0.0215    |\n",
      "|    epoch          | 0         |\n",
      "|    l2_loss        | 0         |\n",
      "|    l2_norm        | 1.45e+05  |\n",
      "|    loss           | 0.0101    |\n",
      "|    neglogp        | 0.0101    |\n",
      "|    prob_true_act  | 0.991     |\n",
      "|    samples_so_far | 32        |\n",
      "---------------------------------\n"
     ]
    },
    {
     "name": "stderr",
     "output_type": "stream",
     "text": [
      "246batch [00:04, 54.51batch/s]\n",
      "0batch [00:00, ?batch/s]"
     ]
    },
    {
     "name": "stdout",
     "output_type": "stream",
     "text": [
      "---------------------------------\n",
      "| batch_size        | 32        |\n",
      "| bc/               |           |\n",
      "|    batch          | 0         |\n",
      "|    ent_loss       | -2.49e-06 |\n",
      "|    entropy        | 0.00249   |\n",
      "|    epoch          | 0         |\n",
      "|    l2_loss        | 0         |\n",
      "|    l2_norm        | 1.45e+05  |\n",
      "|    loss           | 0.000216  |\n",
      "|    neglogp        | 0.000219  |\n",
      "|    prob_true_act  | 1         |\n",
      "|    samples_so_far | 32        |\n",
      "---------------------------------\n"
     ]
    },
    {
     "name": "stderr",
     "output_type": "stream",
     "text": [
      "246batch [00:04, 55.51batch/s]\n",
      "0batch [00:00, ?batch/s]"
     ]
    },
    {
     "name": "stdout",
     "output_type": "stream",
     "text": [
      "---------------------------------\n",
      "| batch_size        | 32        |\n",
      "| bc/               |           |\n",
      "|    batch          | 0         |\n",
      "|    ent_loss       | -8.35e-05 |\n",
      "|    entropy        | 0.0835    |\n",
      "|    epoch          | 0         |\n",
      "|    l2_loss        | 0         |\n",
      "|    l2_norm        | 1.44e+05  |\n",
      "|    loss           | 0.0214    |\n",
      "|    neglogp        | 0.0215    |\n",
      "|    prob_true_act  | 0.981     |\n",
      "|    samples_so_far | 32        |\n",
      "---------------------------------\n"
     ]
    },
    {
     "name": "stderr",
     "output_type": "stream",
     "text": [
      "246batch [00:04, 56.20batch/s]\n",
      "0batch [00:00, ?batch/s]"
     ]
    },
    {
     "name": "stdout",
     "output_type": "stream",
     "text": [
      "---------------------------------\n",
      "| batch_size        | 32        |\n",
      "| bc/               |           |\n",
      "|    batch          | 0         |\n",
      "|    ent_loss       | -1.81e-05 |\n",
      "|    entropy        | 0.0181    |\n",
      "|    epoch          | 0         |\n",
      "|    l2_loss        | 0         |\n",
      "|    l2_norm        | 1.45e+05  |\n",
      "|    loss           | 0.00235   |\n",
      "|    neglogp        | 0.00237   |\n",
      "|    prob_true_act  | 0.998     |\n",
      "|    samples_so_far | 32        |\n",
      "---------------------------------\n"
     ]
    },
    {
     "name": "stderr",
     "output_type": "stream",
     "text": [
      "246batch [00:04, 54.83batch/s]\n",
      "0batch [00:00, ?batch/s]"
     ]
    },
    {
     "name": "stdout",
     "output_type": "stream",
     "text": [
      "---------------------------------\n",
      "| batch_size        | 32        |\n",
      "| bc/               |           |\n",
      "|    batch          | 0         |\n",
      "|    ent_loss       | -3.59e-06 |\n",
      "|    entropy        | 0.00359   |\n",
      "|    epoch          | 0         |\n",
      "|    l2_loss        | 0         |\n",
      "|    l2_norm        | 1.45e+05  |\n",
      "|    loss           | 0.000337  |\n",
      "|    neglogp        | 0.00034   |\n",
      "|    prob_true_act  | 1         |\n",
      "|    samples_so_far | 32        |\n",
      "---------------------------------\n"
     ]
    },
    {
     "name": "stderr",
     "output_type": "stream",
     "text": [
      "246batch [00:04, 55.93batch/s]\n",
      "0batch [00:00, ?batch/s]"
     ]
    },
    {
     "name": "stdout",
     "output_type": "stream",
     "text": [
      "---------------------------------\n",
      "| batch_size        | 32        |\n",
      "| bc/               |           |\n",
      "|    batch          | 0         |\n",
      "|    ent_loss       | -4.77e-05 |\n",
      "|    entropy        | 0.0477    |\n",
      "|    epoch          | 0         |\n",
      "|    l2_loss        | 0         |\n",
      "|    l2_norm        | 1.45e+05  |\n",
      "|    loss           | 0.0336    |\n",
      "|    neglogp        | 0.0337    |\n",
      "|    prob_true_act  | 0.974     |\n",
      "|    samples_so_far | 32        |\n",
      "---------------------------------\n"
     ]
    },
    {
     "name": "stderr",
     "output_type": "stream",
     "text": [
      "246batch [00:04, 55.97batch/s]\n",
      "0batch [00:00, ?batch/s]"
     ]
    },
    {
     "name": "stdout",
     "output_type": "stream",
     "text": [
      "---------------------------------\n",
      "| batch_size        | 32        |\n",
      "| bc/               |           |\n",
      "|    batch          | 0         |\n",
      "|    ent_loss       | -3.83e-06 |\n",
      "|    entropy        | 0.00383   |\n",
      "|    epoch          | 0         |\n",
      "|    l2_loss        | 0         |\n",
      "|    l2_norm        | 1.45e+05  |\n",
      "|    loss           | 0.00035   |\n",
      "|    neglogp        | 0.000354  |\n",
      "|    prob_true_act  | 1         |\n",
      "|    samples_so_far | 32        |\n",
      "---------------------------------\n"
     ]
    },
    {
     "name": "stderr",
     "output_type": "stream",
     "text": [
      "246batch [00:04, 54.94batch/s]\n",
      "0batch [00:00, ?batch/s]"
     ]
    },
    {
     "name": "stdout",
     "output_type": "stream",
     "text": [
      "--------------------------------\n",
      "| batch_size        | 32       |\n",
      "| bc/               |          |\n",
      "|    batch          | 0        |\n",
      "|    ent_loss       | -2.2e-06 |\n",
      "|    entropy        | 0.0022   |\n",
      "|    epoch          | 0        |\n",
      "|    l2_loss        | 0        |\n",
      "|    l2_norm        | 1.45e+05 |\n",
      "|    loss           | 0.000189 |\n",
      "|    neglogp        | 0.000191 |\n",
      "|    prob_true_act  | 1        |\n",
      "|    samples_so_far | 32       |\n",
      "--------------------------------\n"
     ]
    },
    {
     "name": "stderr",
     "output_type": "stream",
     "text": [
      "246batch [00:04, 55.85batch/s]\n",
      "0batch [00:00, ?batch/s]"
     ]
    },
    {
     "name": "stdout",
     "output_type": "stream",
     "text": [
      "--------------------------------\n",
      "| batch_size        | 32       |\n",
      "| bc/               |          |\n",
      "|    batch          | 0        |\n",
      "|    ent_loss       | -3.9e-06 |\n",
      "|    entropy        | 0.0039   |\n",
      "|    epoch          | 0        |\n",
      "|    l2_loss        | 0        |\n",
      "|    l2_norm        | 1.45e+05 |\n",
      "|    loss           | 0.000379 |\n",
      "|    neglogp        | 0.000383 |\n",
      "|    prob_true_act  | 1        |\n",
      "|    samples_so_far | 32       |\n",
      "--------------------------------\n"
     ]
    },
    {
     "name": "stderr",
     "output_type": "stream",
     "text": [
      "246batch [00:04, 55.50batch/s]\n",
      "0batch [00:00, ?batch/s]"
     ]
    },
    {
     "name": "stdout",
     "output_type": "stream",
     "text": [
      "---------------------------------\n",
      "| batch_size        | 32        |\n",
      "| bc/               |           |\n",
      "|    batch          | 0         |\n",
      "|    ent_loss       | -3.21e-06 |\n",
      "|    entropy        | 0.00321   |\n",
      "|    epoch          | 0         |\n",
      "|    l2_loss        | 0         |\n",
      "|    l2_norm        | 1.45e+05  |\n",
      "|    loss           | 0.000303  |\n",
      "|    neglogp        | 0.000306  |\n",
      "|    prob_true_act  | 1         |\n",
      "|    samples_so_far | 32        |\n",
      "---------------------------------\n"
     ]
    },
    {
     "name": "stderr",
     "output_type": "stream",
     "text": [
      "246batch [00:04, 54.49batch/s]\n",
      "0batch [00:00, ?batch/s]"
     ]
    },
    {
     "name": "stdout",
     "output_type": "stream",
     "text": [
      "---------------------------------\n",
      "| batch_size        | 32        |\n",
      "| bc/               |           |\n",
      "|    batch          | 0         |\n",
      "|    ent_loss       | -3.09e-06 |\n",
      "|    entropy        | 0.00309   |\n",
      "|    epoch          | 0         |\n",
      "|    l2_loss        | 0         |\n",
      "|    l2_norm        | 1.45e+05  |\n",
      "|    loss           | 0.000278  |\n",
      "|    neglogp        | 0.000281  |\n",
      "|    prob_true_act  | 1         |\n",
      "|    samples_so_far | 32        |\n",
      "---------------------------------\n"
     ]
    },
    {
     "name": "stderr",
     "output_type": "stream",
     "text": [
      "246batch [00:04, 56.41batch/s]\n",
      "0batch [00:00, ?batch/s]"
     ]
    },
    {
     "name": "stdout",
     "output_type": "stream",
     "text": [
      "---------------------------------\n",
      "| batch_size        | 32        |\n",
      "| bc/               |           |\n",
      "|    batch          | 0         |\n",
      "|    ent_loss       | -3.39e-06 |\n",
      "|    entropy        | 0.00339   |\n",
      "|    epoch          | 0         |\n",
      "|    l2_loss        | 0         |\n",
      "|    l2_norm        | 1.45e+05  |\n",
      "|    loss           | 0.000324  |\n",
      "|    neglogp        | 0.000328  |\n",
      "|    prob_true_act  | 1         |\n",
      "|    samples_so_far | 32        |\n",
      "---------------------------------\n"
     ]
    },
    {
     "name": "stderr",
     "output_type": "stream",
     "text": [
      "246batch [00:04, 55.66batch/s]\n",
      "0batch [00:00, ?batch/s]"
     ]
    },
    {
     "name": "stdout",
     "output_type": "stream",
     "text": [
      "---------------------------------\n",
      "| batch_size        | 32        |\n",
      "| bc/               |           |\n",
      "|    batch          | 0         |\n",
      "|    ent_loss       | -3.43e-05 |\n",
      "|    entropy        | 0.0343    |\n",
      "|    epoch          | 0         |\n",
      "|    l2_loss        | 0         |\n",
      "|    l2_norm        | 1.45e+05  |\n",
      "|    loss           | 0.0612    |\n",
      "|    neglogp        | 0.0613    |\n",
      "|    prob_true_act  | 0.968     |\n",
      "|    samples_so_far | 32        |\n",
      "---------------------------------\n"
     ]
    },
    {
     "name": "stderr",
     "output_type": "stream",
     "text": [
      "246batch [00:04, 53.92batch/s]\n",
      "0batch [00:00, ?batch/s]"
     ]
    },
    {
     "name": "stdout",
     "output_type": "stream",
     "text": [
      "---------------------------------\n",
      "| batch_size        | 32        |\n",
      "| bc/               |           |\n",
      "|    batch          | 0         |\n",
      "|    ent_loss       | -4.67e-05 |\n",
      "|    entropy        | 0.0467    |\n",
      "|    epoch          | 0         |\n",
      "|    l2_loss        | 0         |\n",
      "|    l2_norm        | 1.45e+05  |\n",
      "|    loss           | 0.0497    |\n",
      "|    neglogp        | 0.0498    |\n",
      "|    prob_true_act  | 0.975     |\n",
      "|    samples_so_far | 32        |\n",
      "---------------------------------\n"
     ]
    },
    {
     "name": "stderr",
     "output_type": "stream",
     "text": [
      "246batch [00:04, 55.02batch/s]\n",
      "0batch [00:00, ?batch/s]"
     ]
    },
    {
     "name": "stdout",
     "output_type": "stream",
     "text": [
      "---------------------------------\n",
      "| batch_size        | 32        |\n",
      "| bc/               |           |\n",
      "|    batch          | 0         |\n",
      "|    ent_loss       | -3.11e-06 |\n",
      "|    entropy        | 0.00311   |\n",
      "|    epoch          | 0         |\n",
      "|    l2_loss        | 0         |\n",
      "|    l2_norm        | 1.46e+05  |\n",
      "|    loss           | 0.000272  |\n",
      "|    neglogp        | 0.000275  |\n",
      "|    prob_true_act  | 1         |\n",
      "|    samples_so_far | 32        |\n",
      "---------------------------------\n"
     ]
    },
    {
     "name": "stderr",
     "output_type": "stream",
     "text": [
      "246batch [00:04, 55.63batch/s]\n",
      "0batch [00:00, ?batch/s]"
     ]
    },
    {
     "name": "stdout",
     "output_type": "stream",
     "text": [
      "---------------------------------\n",
      "| batch_size        | 32        |\n",
      "| bc/               |           |\n",
      "|    batch          | 0         |\n",
      "|    ent_loss       | -1.96e-05 |\n",
      "|    entropy        | 0.0196    |\n",
      "|    epoch          | 0         |\n",
      "|    l2_loss        | 0         |\n",
      "|    l2_norm        | 1.46e+05  |\n",
      "|    loss           | 0.00751   |\n",
      "|    neglogp        | 0.00753   |\n",
      "|    prob_true_act  | 0.993     |\n",
      "|    samples_so_far | 32        |\n",
      "---------------------------------\n"
     ]
    },
    {
     "name": "stderr",
     "output_type": "stream",
     "text": [
      "246batch [00:04, 54.86batch/s]\n",
      "0batch [00:00, ?batch/s]"
     ]
    },
    {
     "name": "stdout",
     "output_type": "stream",
     "text": [
      "--------------------------------\n",
      "| batch_size        | 32       |\n",
      "| bc/               |          |\n",
      "|    batch          | 0        |\n",
      "|    ent_loss       | -2.3e-06 |\n",
      "|    entropy        | 0.0023   |\n",
      "|    epoch          | 0        |\n",
      "|    l2_loss        | 0        |\n",
      "|    l2_norm        | 1.46e+05 |\n",
      "|    loss           | 0.000217 |\n",
      "|    neglogp        | 0.000219 |\n",
      "|    prob_true_act  | 1        |\n",
      "|    samples_so_far | 32       |\n",
      "--------------------------------\n"
     ]
    },
    {
     "name": "stderr",
     "output_type": "stream",
     "text": [
      "246batch [00:04, 56.00batch/s]\n",
      "0batch [00:00, ?batch/s]"
     ]
    },
    {
     "name": "stdout",
     "output_type": "stream",
     "text": [
      "---------------------------------\n",
      "| batch_size        | 32        |\n",
      "| bc/               |           |\n",
      "|    batch          | 0         |\n",
      "|    ent_loss       | -9.85e-05 |\n",
      "|    entropy        | 0.0985    |\n",
      "|    epoch          | 0         |\n",
      "|    l2_loss        | 0         |\n",
      "|    l2_norm        | 1.46e+05  |\n",
      "|    loss           | 0.0905    |\n",
      "|    neglogp        | 0.0906    |\n",
      "|    prob_true_act  | 0.944     |\n",
      "|    samples_so_far | 32        |\n",
      "---------------------------------\n"
     ]
    },
    {
     "name": "stderr",
     "output_type": "stream",
     "text": [
      "246batch [00:04, 55.70batch/s]\n",
      "0batch [00:00, ?batch/s]"
     ]
    },
    {
     "name": "stdout",
     "output_type": "stream",
     "text": [
      "---------------------------------\n",
      "| batch_size        | 32        |\n",
      "| bc/               |           |\n",
      "|    batch          | 0         |\n",
      "|    ent_loss       | -2.68e-05 |\n",
      "|    entropy        | 0.0268    |\n",
      "|    epoch          | 0         |\n",
      "|    l2_loss        | 0         |\n",
      "|    l2_norm        | 1.46e+05  |\n",
      "|    loss           | 0.0202    |\n",
      "|    neglogp        | 0.0202    |\n",
      "|    prob_true_act  | 0.985     |\n",
      "|    samples_so_far | 32        |\n",
      "---------------------------------\n"
     ]
    },
    {
     "name": "stderr",
     "output_type": "stream",
     "text": [
      "246batch [00:04, 55.29batch/s]\n"
     ]
    },
    {
     "name": "stdout",
     "output_type": "stream",
     "text": [
      "Checkpoint saved at checkpoints\\bc_model_epoch_350.zip\n"
     ]
    },
    {
     "name": "stderr",
     "output_type": "stream",
     "text": [
      "0batch [00:00, ?batch/s]"
     ]
    },
    {
     "name": "stdout",
     "output_type": "stream",
     "text": [
      "--------------------------------\n",
      "| batch_size        | 32       |\n",
      "| bc/               |          |\n",
      "|    batch          | 0        |\n",
      "|    ent_loss       | -9.4e-07 |\n",
      "|    entropy        | 0.00094  |\n",
      "|    epoch          | 0        |\n",
      "|    l2_loss        | 0        |\n",
      "|    l2_norm        | 1.46e+05 |\n",
      "|    loss           | 7.56e-05 |\n",
      "|    neglogp        | 7.65e-05 |\n",
      "|    prob_true_act  | 1        |\n",
      "|    samples_so_far | 32       |\n",
      "--------------------------------\n"
     ]
    },
    {
     "name": "stderr",
     "output_type": "stream",
     "text": [
      "246batch [00:04, 53.92batch/s]\n",
      "0batch [00:00, ?batch/s]"
     ]
    },
    {
     "name": "stdout",
     "output_type": "stream",
     "text": [
      "--------------------------------\n",
      "| batch_size        | 32       |\n",
      "| bc/               |          |\n",
      "|    batch          | 0        |\n",
      "|    ent_loss       | -3.8e-05 |\n",
      "|    entropy        | 0.038    |\n",
      "|    epoch          | 0        |\n",
      "|    l2_loss        | 0        |\n",
      "|    l2_norm        | 1.46e+05 |\n",
      "|    loss           | 0.037    |\n",
      "|    neglogp        | 0.037    |\n",
      "|    prob_true_act  | 0.978    |\n",
      "|    samples_so_far | 32       |\n",
      "--------------------------------\n"
     ]
    },
    {
     "name": "stderr",
     "output_type": "stream",
     "text": [
      "246batch [00:04, 55.61batch/s]\n",
      "0batch [00:00, ?batch/s]"
     ]
    },
    {
     "name": "stdout",
     "output_type": "stream",
     "text": [
      "---------------------------------\n",
      "| batch_size        | 32        |\n",
      "| bc/               |           |\n",
      "|    batch          | 0         |\n",
      "|    ent_loss       | -3.56e-06 |\n",
      "|    entropy        | 0.00356   |\n",
      "|    epoch          | 0         |\n",
      "|    l2_loss        | 0         |\n",
      "|    l2_norm        | 1.46e+05  |\n",
      "|    loss           | 0.000332  |\n",
      "|    neglogp        | 0.000336  |\n",
      "|    prob_true_act  | 1         |\n",
      "|    samples_so_far | 32        |\n",
      "---------------------------------\n"
     ]
    },
    {
     "name": "stderr",
     "output_type": "stream",
     "text": [
      "246batch [00:04, 54.85batch/s]\n",
      "0batch [00:00, ?batch/s]"
     ]
    },
    {
     "name": "stdout",
     "output_type": "stream",
     "text": [
      "---------------------------------\n",
      "| batch_size        | 32        |\n",
      "| bc/               |           |\n",
      "|    batch          | 0         |\n",
      "|    ent_loss       | -9.85e-07 |\n",
      "|    entropy        | 0.000985  |\n",
      "|    epoch          | 0         |\n",
      "|    l2_loss        | 0         |\n",
      "|    l2_norm        | 1.47e+05  |\n",
      "|    loss           | 8.27e-05  |\n",
      "|    neglogp        | 8.37e-05  |\n",
      "|    prob_true_act  | 1         |\n",
      "|    samples_so_far | 32        |\n",
      "---------------------------------\n"
     ]
    },
    {
     "name": "stderr",
     "output_type": "stream",
     "text": [
      "246batch [00:04, 56.19batch/s]\n",
      "0batch [00:00, ?batch/s]"
     ]
    },
    {
     "name": "stdout",
     "output_type": "stream",
     "text": [
      "--------------------------------\n",
      "| batch_size        | 32       |\n",
      "| bc/               |          |\n",
      "|    batch          | 0        |\n",
      "|    ent_loss       | -1.1e-06 |\n",
      "|    entropy        | 0.0011   |\n",
      "|    epoch          | 0        |\n",
      "|    l2_loss        | 0        |\n",
      "|    l2_norm        | 1.47e+05 |\n",
      "|    loss           | 8.77e-05 |\n",
      "|    neglogp        | 8.88e-05 |\n",
      "|    prob_true_act  | 1        |\n",
      "|    samples_so_far | 32       |\n",
      "--------------------------------\n"
     ]
    },
    {
     "name": "stderr",
     "output_type": "stream",
     "text": [
      "246batch [00:04, 55.59batch/s]\n",
      "0batch [00:00, ?batch/s]"
     ]
    },
    {
     "name": "stdout",
     "output_type": "stream",
     "text": [
      "---------------------------------\n",
      "| batch_size        | 32        |\n",
      "| bc/               |           |\n",
      "|    batch          | 0         |\n",
      "|    ent_loss       | -3.18e-06 |\n",
      "|    entropy        | 0.00318   |\n",
      "|    epoch          | 0         |\n",
      "|    l2_loss        | 0         |\n",
      "|    l2_norm        | 1.47e+05  |\n",
      "|    loss           | 0.000296  |\n",
      "|    neglogp        | 0.0003    |\n",
      "|    prob_true_act  | 1         |\n",
      "|    samples_so_far | 32        |\n",
      "---------------------------------\n"
     ]
    },
    {
     "name": "stderr",
     "output_type": "stream",
     "text": [
      "246batch [00:04, 55.63batch/s]\n",
      "0batch [00:00, ?batch/s]"
     ]
    },
    {
     "name": "stdout",
     "output_type": "stream",
     "text": [
      "---------------------------------\n",
      "| batch_size        | 32        |\n",
      "| bc/               |           |\n",
      "|    batch          | 0         |\n",
      "|    ent_loss       | -2.41e-05 |\n",
      "|    entropy        | 0.0241    |\n",
      "|    epoch          | 0         |\n",
      "|    l2_loss        | 0         |\n",
      "|    l2_norm        | 1.47e+05  |\n",
      "|    loss           | 0.0347    |\n",
      "|    neglogp        | 0.0347    |\n",
      "|    prob_true_act  | 0.979     |\n",
      "|    samples_so_far | 32        |\n",
      "---------------------------------\n"
     ]
    },
    {
     "name": "stderr",
     "output_type": "stream",
     "text": [
      "246batch [00:04, 56.00batch/s]\n",
      "0batch [00:00, ?batch/s]"
     ]
    },
    {
     "name": "stdout",
     "output_type": "stream",
     "text": [
      "---------------------------------\n",
      "| batch_size        | 32        |\n",
      "| bc/               |           |\n",
      "|    batch          | 0         |\n",
      "|    ent_loss       | -3.35e-06 |\n",
      "|    entropy        | 0.00335   |\n",
      "|    epoch          | 0         |\n",
      "|    l2_loss        | 0         |\n",
      "|    l2_norm        | 1.47e+05  |\n",
      "|    loss           | 0.000316  |\n",
      "|    neglogp        | 0.000319  |\n",
      "|    prob_true_act  | 1         |\n",
      "|    samples_so_far | 32        |\n",
      "---------------------------------\n"
     ]
    },
    {
     "name": "stderr",
     "output_type": "stream",
     "text": [
      "246batch [00:04, 56.21batch/s]\n",
      "0batch [00:00, ?batch/s]"
     ]
    },
    {
     "name": "stdout",
     "output_type": "stream",
     "text": [
      "---------------------------------\n",
      "| batch_size        | 32        |\n",
      "| bc/               |           |\n",
      "|    batch          | 0         |\n",
      "|    ent_loss       | -0.000119 |\n",
      "|    entropy        | 0.119     |\n",
      "|    epoch          | 0         |\n",
      "|    l2_loss        | 0         |\n",
      "|    l2_norm        | 1.47e+05  |\n",
      "|    loss           | 0.0722    |\n",
      "|    neglogp        | 0.0723    |\n",
      "|    prob_true_act  | 0.954     |\n",
      "|    samples_so_far | 32        |\n",
      "---------------------------------\n"
     ]
    },
    {
     "name": "stderr",
     "output_type": "stream",
     "text": [
      "246batch [00:04, 55.14batch/s]\n",
      "0batch [00:00, ?batch/s]"
     ]
    },
    {
     "name": "stdout",
     "output_type": "stream",
     "text": [
      "--------------------------------\n",
      "| batch_size        | 32       |\n",
      "| bc/               |          |\n",
      "|    batch          | 0        |\n",
      "|    ent_loss       | -3.7e-05 |\n",
      "|    entropy        | 0.037    |\n",
      "|    epoch          | 0        |\n",
      "|    l2_loss        | 0        |\n",
      "|    l2_norm        | 1.47e+05 |\n",
      "|    loss           | 0.0133   |\n",
      "|    neglogp        | 0.0133   |\n",
      "|    prob_true_act  | 0.989    |\n",
      "|    samples_so_far | 32       |\n",
      "--------------------------------\n"
     ]
    },
    {
     "name": "stderr",
     "output_type": "stream",
     "text": [
      "246batch [00:04, 56.12batch/s]\n",
      "0batch [00:00, ?batch/s]"
     ]
    },
    {
     "name": "stdout",
     "output_type": "stream",
     "text": [
      "---------------------------------\n",
      "| batch_size        | 32        |\n",
      "| bc/               |           |\n",
      "|    batch          | 0         |\n",
      "|    ent_loss       | -2.73e-05 |\n",
      "|    entropy        | 0.0273    |\n",
      "|    epoch          | 0         |\n",
      "|    l2_loss        | 0         |\n",
      "|    l2_norm        | 1.47e+05  |\n",
      "|    loss           | 0.013     |\n",
      "|    neglogp        | 0.013     |\n",
      "|    prob_true_act  | 0.989     |\n",
      "|    samples_so_far | 32        |\n",
      "---------------------------------\n"
     ]
    },
    {
     "name": "stderr",
     "output_type": "stream",
     "text": [
      "246batch [00:04, 55.98batch/s]\n",
      "0batch [00:00, ?batch/s]"
     ]
    },
    {
     "name": "stdout",
     "output_type": "stream",
     "text": [
      "---------------------------------\n",
      "| batch_size        | 32        |\n",
      "| bc/               |           |\n",
      "|    batch          | 0         |\n",
      "|    ent_loss       | -4.84e-06 |\n",
      "|    entropy        | 0.00484   |\n",
      "|    epoch          | 0         |\n",
      "|    l2_loss        | 0         |\n",
      "|    l2_norm        | 1.47e+05  |\n",
      "|    loss           | 0.000463  |\n",
      "|    neglogp        | 0.000468  |\n",
      "|    prob_true_act  | 1         |\n",
      "|    samples_so_far | 32        |\n",
      "---------------------------------\n"
     ]
    },
    {
     "name": "stderr",
     "output_type": "stream",
     "text": [
      "246batch [00:04, 53.36batch/s]\n",
      "0batch [00:00, ?batch/s]"
     ]
    },
    {
     "name": "stdout",
     "output_type": "stream",
     "text": [
      "---------------------------------\n",
      "| batch_size        | 32        |\n",
      "| bc/               |           |\n",
      "|    batch          | 0         |\n",
      "|    ent_loss       | -2.84e-06 |\n",
      "|    entropy        | 0.00284   |\n",
      "|    epoch          | 0         |\n",
      "|    l2_loss        | 0         |\n",
      "|    l2_norm        | 1.47e+05  |\n",
      "|    loss           | 0.000255  |\n",
      "|    neglogp        | 0.000258  |\n",
      "|    prob_true_act  | 1         |\n",
      "|    samples_so_far | 32        |\n",
      "---------------------------------\n"
     ]
    },
    {
     "name": "stderr",
     "output_type": "stream",
     "text": [
      "246batch [00:04, 54.33batch/s]\n",
      "0batch [00:00, ?batch/s]"
     ]
    },
    {
     "name": "stdout",
     "output_type": "stream",
     "text": [
      "---------------------------------\n",
      "| batch_size        | 32        |\n",
      "| bc/               |           |\n",
      "|    batch          | 0         |\n",
      "|    ent_loss       | -2.64e-05 |\n",
      "|    entropy        | 0.0264    |\n",
      "|    epoch          | 0         |\n",
      "|    l2_loss        | 0         |\n",
      "|    l2_norm        | 1.47e+05  |\n",
      "|    loss           | 0.0187    |\n",
      "|    neglogp        | 0.0187    |\n",
      "|    prob_true_act  | 0.986     |\n",
      "|    samples_so_far | 32        |\n",
      "---------------------------------\n"
     ]
    },
    {
     "name": "stderr",
     "output_type": "stream",
     "text": [
      "246batch [00:04, 56.12batch/s]\n",
      "0batch [00:00, ?batch/s]"
     ]
    },
    {
     "name": "stdout",
     "output_type": "stream",
     "text": [
      "---------------------------------\n",
      "| batch_size        | 32        |\n",
      "| bc/               |           |\n",
      "|    batch          | 0         |\n",
      "|    ent_loss       | -2.65e-06 |\n",
      "|    entropy        | 0.00265   |\n",
      "|    epoch          | 0         |\n",
      "|    l2_loss        | 0         |\n",
      "|    l2_norm        | 1.47e+05  |\n",
      "|    loss           | 0.000231  |\n",
      "|    neglogp        | 0.000234  |\n",
      "|    prob_true_act  | 1         |\n",
      "|    samples_so_far | 32        |\n",
      "---------------------------------\n"
     ]
    },
    {
     "name": "stderr",
     "output_type": "stream",
     "text": [
      "246batch [00:04, 54.57batch/s]\n",
      "0batch [00:00, ?batch/s]"
     ]
    },
    {
     "name": "stdout",
     "output_type": "stream",
     "text": [
      "---------------------------------\n",
      "| batch_size        | 32        |\n",
      "| bc/               |           |\n",
      "|    batch          | 0         |\n",
      "|    ent_loss       | -2.47e-05 |\n",
      "|    entropy        | 0.0247    |\n",
      "|    epoch          | 0         |\n",
      "|    l2_loss        | 0         |\n",
      "|    l2_norm        | 1.47e+05  |\n",
      "|    loss           | 0.014     |\n",
      "|    neglogp        | 0.014     |\n",
      "|    prob_true_act  | 0.989     |\n",
      "|    samples_so_far | 32        |\n",
      "---------------------------------\n"
     ]
    },
    {
     "name": "stderr",
     "output_type": "stream",
     "text": [
      "246batch [00:04, 55.90batch/s]\n",
      "0batch [00:00, ?batch/s]"
     ]
    },
    {
     "name": "stdout",
     "output_type": "stream",
     "text": [
      "---------------------------------\n",
      "| batch_size        | 32        |\n",
      "| bc/               |           |\n",
      "|    batch          | 0         |\n",
      "|    ent_loss       | -2.62e-06 |\n",
      "|    entropy        | 0.00262   |\n",
      "|    epoch          | 0         |\n",
      "|    l2_loss        | 0         |\n",
      "|    l2_norm        | 1.48e+05  |\n",
      "|    loss           | 0.000231  |\n",
      "|    neglogp        | 0.000234  |\n",
      "|    prob_true_act  | 1         |\n",
      "|    samples_so_far | 32        |\n",
      "---------------------------------\n"
     ]
    },
    {
     "name": "stderr",
     "output_type": "stream",
     "text": [
      "246batch [00:04, 55.84batch/s]\n",
      "0batch [00:00, ?batch/s]"
     ]
    },
    {
     "name": "stdout",
     "output_type": "stream",
     "text": [
      "---------------------------------\n",
      "| batch_size        | 32        |\n",
      "| bc/               |           |\n",
      "|    batch          | 0         |\n",
      "|    ent_loss       | -2.26e-06 |\n",
      "|    entropy        | 0.00226   |\n",
      "|    epoch          | 0         |\n",
      "|    l2_loss        | 0         |\n",
      "|    l2_norm        | 1.48e+05  |\n",
      "|    loss           | 0.000197  |\n",
      "|    neglogp        | 0.000199  |\n",
      "|    prob_true_act  | 1         |\n",
      "|    samples_so_far | 32        |\n",
      "---------------------------------\n"
     ]
    },
    {
     "name": "stderr",
     "output_type": "stream",
     "text": [
      "246batch [00:04, 55.08batch/s]\n",
      "0batch [00:00, ?batch/s]"
     ]
    },
    {
     "name": "stdout",
     "output_type": "stream",
     "text": [
      "---------------------------------\n",
      "| batch_size        | 32        |\n",
      "| bc/               |           |\n",
      "|    batch          | 0         |\n",
      "|    ent_loss       | -2.39e-05 |\n",
      "|    entropy        | 0.0239    |\n",
      "|    epoch          | 0         |\n",
      "|    l2_loss        | 0         |\n",
      "|    l2_norm        | 1.48e+05  |\n",
      "|    loss           | 0.0122    |\n",
      "|    neglogp        | 0.0122    |\n",
      "|    prob_true_act  | 0.99      |\n",
      "|    samples_so_far | 32        |\n",
      "---------------------------------\n"
     ]
    },
    {
     "name": "stderr",
     "output_type": "stream",
     "text": [
      "246batch [00:04, 55.88batch/s]\n",
      "0batch [00:00, ?batch/s]"
     ]
    },
    {
     "name": "stdout",
     "output_type": "stream",
     "text": [
      "---------------------------------\n",
      "| batch_size        | 32        |\n",
      "| bc/               |           |\n",
      "|    batch          | 0         |\n",
      "|    ent_loss       | -3.96e-05 |\n",
      "|    entropy        | 0.0396    |\n",
      "|    epoch          | 0         |\n",
      "|    l2_loss        | 0         |\n",
      "|    l2_norm        | 1.48e+05  |\n",
      "|    loss           | 0.0363    |\n",
      "|    neglogp        | 0.0363    |\n",
      "|    prob_true_act  | 0.978     |\n",
      "|    samples_so_far | 32        |\n",
      "---------------------------------\n"
     ]
    },
    {
     "name": "stderr",
     "output_type": "stream",
     "text": [
      "246batch [00:04, 55.22batch/s]\n",
      "0batch [00:00, ?batch/s]"
     ]
    },
    {
     "name": "stdout",
     "output_type": "stream",
     "text": [
      "---------------------------------\n",
      "| batch_size        | 32        |\n",
      "| bc/               |           |\n",
      "|    batch          | 0         |\n",
      "|    ent_loss       | -2.05e-06 |\n",
      "|    entropy        | 0.00205   |\n",
      "|    epoch          | 0         |\n",
      "|    l2_loss        | 0         |\n",
      "|    l2_norm        | 1.48e+05  |\n",
      "|    loss           | 0.000173  |\n",
      "|    neglogp        | 0.000175  |\n",
      "|    prob_true_act  | 1         |\n",
      "|    samples_so_far | 32        |\n",
      "---------------------------------\n"
     ]
    },
    {
     "name": "stderr",
     "output_type": "stream",
     "text": [
      "246batch [00:04, 54.68batch/s]\n",
      "0batch [00:00, ?batch/s]"
     ]
    },
    {
     "name": "stdout",
     "output_type": "stream",
     "text": [
      "---------------------------------\n",
      "| batch_size        | 32        |\n",
      "| bc/               |           |\n",
      "|    batch          | 0         |\n",
      "|    ent_loss       | -2.55e-06 |\n",
      "|    entropy        | 0.00255   |\n",
      "|    epoch          | 0         |\n",
      "|    l2_loss        | 0         |\n",
      "|    l2_norm        | 1.48e+05  |\n",
      "|    loss           | 0.000226  |\n",
      "|    neglogp        | 0.000228  |\n",
      "|    prob_true_act  | 1         |\n",
      "|    samples_so_far | 32        |\n",
      "---------------------------------\n"
     ]
    },
    {
     "name": "stderr",
     "output_type": "stream",
     "text": [
      "246batch [00:04, 55.72batch/s]\n",
      "0batch [00:00, ?batch/s]"
     ]
    },
    {
     "name": "stdout",
     "output_type": "stream",
     "text": [
      "---------------------------------\n",
      "| batch_size        | 32        |\n",
      "| bc/               |           |\n",
      "|    batch          | 0         |\n",
      "|    ent_loss       | -1.89e-06 |\n",
      "|    entropy        | 0.00189   |\n",
      "|    epoch          | 0         |\n",
      "|    l2_loss        | 0         |\n",
      "|    l2_norm        | 1.48e+05  |\n",
      "|    loss           | 0.000159  |\n",
      "|    neglogp        | 0.000161  |\n",
      "|    prob_true_act  | 1         |\n",
      "|    samples_so_far | 32        |\n",
      "---------------------------------\n"
     ]
    },
    {
     "name": "stderr",
     "output_type": "stream",
     "text": [
      "246batch [00:04, 56.11batch/s]\n",
      "0batch [00:00, ?batch/s]"
     ]
    },
    {
     "name": "stdout",
     "output_type": "stream",
     "text": [
      "---------------------------------\n",
      "| batch_size        | 32        |\n",
      "| bc/               |           |\n",
      "|    batch          | 0         |\n",
      "|    ent_loss       | -3.73e-05 |\n",
      "|    entropy        | 0.0373    |\n",
      "|    epoch          | 0         |\n",
      "|    l2_loss        | 0         |\n",
      "|    l2_norm        | 1.48e+05  |\n",
      "|    loss           | 0.0356    |\n",
      "|    neglogp        | 0.0356    |\n",
      "|    prob_true_act  | 0.979     |\n",
      "|    samples_so_far | 32        |\n",
      "---------------------------------\n"
     ]
    },
    {
     "name": "stderr",
     "output_type": "stream",
     "text": [
      "246batch [00:04, 54.65batch/s]\n",
      "0batch [00:00, ?batch/s]"
     ]
    },
    {
     "name": "stdout",
     "output_type": "stream",
     "text": [
      "---------------------------------\n",
      "| batch_size        | 32        |\n",
      "| bc/               |           |\n",
      "|    batch          | 0         |\n",
      "|    ent_loss       | -2.05e-06 |\n",
      "|    entropy        | 0.00205   |\n",
      "|    epoch          | 0         |\n",
      "|    l2_loss        | 0         |\n",
      "|    l2_norm        | 1.49e+05  |\n",
      "|    loss           | 0.000179  |\n",
      "|    neglogp        | 0.000181  |\n",
      "|    prob_true_act  | 1         |\n",
      "|    samples_so_far | 32        |\n",
      "---------------------------------\n"
     ]
    },
    {
     "name": "stderr",
     "output_type": "stream",
     "text": [
      "246batch [00:04, 56.13batch/s]\n",
      "0batch [00:00, ?batch/s]"
     ]
    },
    {
     "name": "stdout",
     "output_type": "stream",
     "text": [
      "---------------------------------\n",
      "| batch_size        | 32        |\n",
      "| bc/               |           |\n",
      "|    batch          | 0         |\n",
      "|    ent_loss       | -1.89e-06 |\n",
      "|    entropy        | 0.00189   |\n",
      "|    epoch          | 0         |\n",
      "|    l2_loss        | 0         |\n",
      "|    l2_norm        | 1.49e+05  |\n",
      "|    loss           | 0.000161  |\n",
      "|    neglogp        | 0.000162  |\n",
      "|    prob_true_act  | 1         |\n",
      "|    samples_so_far | 32        |\n",
      "---------------------------------\n"
     ]
    },
    {
     "name": "stderr",
     "output_type": "stream",
     "text": [
      "246batch [00:04, 54.07batch/s]\n",
      "0batch [00:00, ?batch/s]"
     ]
    },
    {
     "name": "stdout",
     "output_type": "stream",
     "text": [
      "---------------------------------\n",
      "| batch_size        | 32        |\n",
      "| bc/               |           |\n",
      "|    batch          | 0         |\n",
      "|    ent_loss       | -2.33e-05 |\n",
      "|    entropy        | 0.0233    |\n",
      "|    epoch          | 0         |\n",
      "|    l2_loss        | 0         |\n",
      "|    l2_norm        | 1.49e+05  |\n",
      "|    loss           | 0.0106    |\n",
      "|    neglogp        | 0.0106    |\n",
      "|    prob_true_act  | 0.991     |\n",
      "|    samples_so_far | 32        |\n",
      "---------------------------------\n"
     ]
    },
    {
     "name": "stderr",
     "output_type": "stream",
     "text": [
      "246batch [00:04, 56.04batch/s]\n",
      "0batch [00:00, ?batch/s]"
     ]
    },
    {
     "name": "stdout",
     "output_type": "stream",
     "text": [
      "---------------------------------\n",
      "| batch_size        | 32        |\n",
      "| bc/               |           |\n",
      "|    batch          | 0         |\n",
      "|    ent_loss       | -1.32e-06 |\n",
      "|    entropy        | 0.00132   |\n",
      "|    epoch          | 0         |\n",
      "|    l2_loss        | 0         |\n",
      "|    l2_norm        | 1.49e+05  |\n",
      "|    loss           | 0.000121  |\n",
      "|    neglogp        | 0.000122  |\n",
      "|    prob_true_act  | 1         |\n",
      "|    samples_so_far | 32        |\n",
      "---------------------------------\n"
     ]
    },
    {
     "name": "stderr",
     "output_type": "stream",
     "text": [
      "246batch [00:04, 56.32batch/s]\n",
      "0batch [00:00, ?batch/s]"
     ]
    },
    {
     "name": "stdout",
     "output_type": "stream",
     "text": [
      "---------------------------------\n",
      "| batch_size        | 32        |\n",
      "| bc/               |           |\n",
      "|    batch          | 0         |\n",
      "|    ent_loss       | -0.000138 |\n",
      "|    entropy        | 0.138     |\n",
      "|    epoch          | 0         |\n",
      "|    l2_loss        | 0         |\n",
      "|    l2_norm        | 1.48e+05  |\n",
      "|    loss           | 0.0864    |\n",
      "|    neglogp        | 0.0866    |\n",
      "|    prob_true_act  | 0.937     |\n",
      "|    samples_so_far | 32        |\n",
      "---------------------------------\n"
     ]
    },
    {
     "name": "stderr",
     "output_type": "stream",
     "text": [
      "246batch [00:04, 54.56batch/s]\n",
      "0batch [00:00, ?batch/s]"
     ]
    },
    {
     "name": "stdout",
     "output_type": "stream",
     "text": [
      "---------------------------------\n",
      "| batch_size        | 32        |\n",
      "| bc/               |           |\n",
      "|    batch          | 0         |\n",
      "|    ent_loss       | -2.55e-06 |\n",
      "|    entropy        | 0.00255   |\n",
      "|    epoch          | 0         |\n",
      "|    l2_loss        | 0         |\n",
      "|    l2_norm        | 1.48e+05  |\n",
      "|    loss           | 0.000222  |\n",
      "|    neglogp        | 0.000225  |\n",
      "|    prob_true_act  | 1         |\n",
      "|    samples_so_far | 32        |\n",
      "---------------------------------\n"
     ]
    },
    {
     "name": "stderr",
     "output_type": "stream",
     "text": [
      "246batch [00:04, 55.86batch/s]\n",
      "0batch [00:00, ?batch/s]"
     ]
    },
    {
     "name": "stdout",
     "output_type": "stream",
     "text": [
      "---------------------------------\n",
      "| batch_size        | 32        |\n",
      "| bc/               |           |\n",
      "|    batch          | 0         |\n",
      "|    ent_loss       | -7.58e-05 |\n",
      "|    entropy        | 0.0758    |\n",
      "|    epoch          | 0         |\n",
      "|    l2_loss        | 0         |\n",
      "|    l2_norm        | 1.49e+05  |\n",
      "|    loss           | 0.0792    |\n",
      "|    neglogp        | 0.0793    |\n",
      "|    prob_true_act  | 0.955     |\n",
      "|    samples_so_far | 32        |\n",
      "---------------------------------\n"
     ]
    },
    {
     "name": "stderr",
     "output_type": "stream",
     "text": [
      "246batch [00:04, 56.03batch/s]\n",
      "0batch [00:00, ?batch/s]"
     ]
    },
    {
     "name": "stdout",
     "output_type": "stream",
     "text": [
      "---------------------------------\n",
      "| batch_size        | 32        |\n",
      "| bc/               |           |\n",
      "|    batch          | 0         |\n",
      "|    ent_loss       | -2.02e-06 |\n",
      "|    entropy        | 0.00202   |\n",
      "|    epoch          | 0         |\n",
      "|    l2_loss        | 0         |\n",
      "|    l2_norm        | 1.49e+05  |\n",
      "|    loss           | 0.000183  |\n",
      "|    neglogp        | 0.000185  |\n",
      "|    prob_true_act  | 1         |\n",
      "|    samples_so_far | 32        |\n",
      "---------------------------------\n"
     ]
    },
    {
     "name": "stderr",
     "output_type": "stream",
     "text": [
      "246batch [00:04, 55.69batch/s]\n",
      "0batch [00:00, ?batch/s]"
     ]
    },
    {
     "name": "stdout",
     "output_type": "stream",
     "text": [
      "---------------------------------\n",
      "| batch_size        | 32        |\n",
      "| bc/               |           |\n",
      "|    batch          | 0         |\n",
      "|    ent_loss       | -3.09e-06 |\n",
      "|    entropy        | 0.00309   |\n",
      "|    epoch          | 0         |\n",
      "|    l2_loss        | 0         |\n",
      "|    l2_norm        | 1.49e+05  |\n",
      "|    loss           | 0.000278  |\n",
      "|    neglogp        | 0.000281  |\n",
      "|    prob_true_act  | 1         |\n",
      "|    samples_so_far | 32        |\n",
      "---------------------------------\n"
     ]
    },
    {
     "name": "stderr",
     "output_type": "stream",
     "text": [
      "246batch [00:04, 54.94batch/s]\n",
      "0batch [00:00, ?batch/s]"
     ]
    },
    {
     "name": "stdout",
     "output_type": "stream",
     "text": [
      "---------------------------------\n",
      "| batch_size        | 32        |\n",
      "| bc/               |           |\n",
      "|    batch          | 0         |\n",
      "|    ent_loss       | -4.52e-06 |\n",
      "|    entropy        | 0.00452   |\n",
      "|    epoch          | 0         |\n",
      "|    l2_loss        | 0         |\n",
      "|    l2_norm        | 1.49e+05  |\n",
      "|    loss           | 0.000441  |\n",
      "|    neglogp        | 0.000446  |\n",
      "|    prob_true_act  | 1         |\n",
      "|    samples_so_far | 32        |\n",
      "---------------------------------\n"
     ]
    },
    {
     "name": "stderr",
     "output_type": "stream",
     "text": [
      "246batch [00:04, 55.87batch/s]\n",
      "0batch [00:00, ?batch/s]"
     ]
    },
    {
     "name": "stdout",
     "output_type": "stream",
     "text": [
      "---------------------------------\n",
      "| batch_size        | 32        |\n",
      "| bc/               |           |\n",
      "|    batch          | 0         |\n",
      "|    ent_loss       | -2.91e-06 |\n",
      "|    entropy        | 0.00291   |\n",
      "|    epoch          | 0         |\n",
      "|    l2_loss        | 0         |\n",
      "|    l2_norm        | 1.49e+05  |\n",
      "|    loss           | 0.000271  |\n",
      "|    neglogp        | 0.000274  |\n",
      "|    prob_true_act  | 1         |\n",
      "|    samples_so_far | 32        |\n",
      "---------------------------------\n"
     ]
    },
    {
     "name": "stderr",
     "output_type": "stream",
     "text": [
      "246batch [00:04, 56.04batch/s]\n",
      "0batch [00:00, ?batch/s]"
     ]
    },
    {
     "name": "stdout",
     "output_type": "stream",
     "text": [
      "---------------------------------\n",
      "| batch_size        | 32        |\n",
      "| bc/               |           |\n",
      "|    batch          | 0         |\n",
      "|    ent_loss       | -1.77e-06 |\n",
      "|    entropy        | 0.00177   |\n",
      "|    epoch          | 0         |\n",
      "|    l2_loss        | 0         |\n",
      "|    l2_norm        | 1.49e+05  |\n",
      "|    loss           | 0.000151  |\n",
      "|    neglogp        | 0.000153  |\n",
      "|    prob_true_act  | 1         |\n",
      "|    samples_so_far | 32        |\n",
      "---------------------------------\n"
     ]
    },
    {
     "name": "stderr",
     "output_type": "stream",
     "text": [
      "246batch [00:04, 54.24batch/s]\n",
      "0batch [00:00, ?batch/s]"
     ]
    },
    {
     "name": "stdout",
     "output_type": "stream",
     "text": [
      "---------------------------------\n",
      "| batch_size        | 32        |\n",
      "| bc/               |           |\n",
      "|    batch          | 0         |\n",
      "|    ent_loss       | -1.54e-06 |\n",
      "|    entropy        | 0.00154   |\n",
      "|    epoch          | 0         |\n",
      "|    l2_loss        | 0         |\n",
      "|    l2_norm        | 1.49e+05  |\n",
      "|    loss           | 0.000131  |\n",
      "|    neglogp        | 0.000133  |\n",
      "|    prob_true_act  | 1         |\n",
      "|    samples_so_far | 32        |\n",
      "---------------------------------\n"
     ]
    },
    {
     "name": "stderr",
     "output_type": "stream",
     "text": [
      "246batch [00:04, 56.06batch/s]\n",
      "0batch [00:00, ?batch/s]"
     ]
    },
    {
     "name": "stdout",
     "output_type": "stream",
     "text": [
      "---------------------------------\n",
      "| batch_size        | 32        |\n",
      "| bc/               |           |\n",
      "|    batch          | 0         |\n",
      "|    ent_loss       | -4.23e-06 |\n",
      "|    entropy        | 0.00423   |\n",
      "|    epoch          | 0         |\n",
      "|    l2_loss        | 0         |\n",
      "|    l2_norm        | 1.49e+05  |\n",
      "|    loss           | 0.000407  |\n",
      "|    neglogp        | 0.000411  |\n",
      "|    prob_true_act  | 1         |\n",
      "|    samples_so_far | 32        |\n",
      "---------------------------------\n"
     ]
    },
    {
     "name": "stderr",
     "output_type": "stream",
     "text": [
      "246batch [00:04, 55.85batch/s]\n",
      "0batch [00:00, ?batch/s]"
     ]
    },
    {
     "name": "stdout",
     "output_type": "stream",
     "text": [
      "---------------------------------\n",
      "| batch_size        | 32        |\n",
      "| bc/               |           |\n",
      "|    batch          | 0         |\n",
      "|    ent_loss       | -2.72e-05 |\n",
      "|    entropy        | 0.0272    |\n",
      "|    epoch          | 0         |\n",
      "|    l2_loss        | 0         |\n",
      "|    l2_norm        | 1.49e+05  |\n",
      "|    loss           | 0.0241    |\n",
      "|    neglogp        | 0.0241    |\n",
      "|    prob_true_act  | 0.983     |\n",
      "|    samples_so_far | 32        |\n",
      "---------------------------------\n"
     ]
    },
    {
     "name": "stderr",
     "output_type": "stream",
     "text": [
      "246batch [00:04, 54.64batch/s]\n",
      "0batch [00:00, ?batch/s]"
     ]
    },
    {
     "name": "stdout",
     "output_type": "stream",
     "text": [
      "--------------------------------\n",
      "| batch_size        | 32       |\n",
      "| bc/               |          |\n",
      "|    batch          | 0        |\n",
      "|    ent_loss       | -1.3e-06 |\n",
      "|    entropy        | 0.0013   |\n",
      "|    epoch          | 0        |\n",
      "|    l2_loss        | 0        |\n",
      "|    l2_norm        | 1.49e+05 |\n",
      "|    loss           | 0.000109 |\n",
      "|    neglogp        | 0.00011  |\n",
      "|    prob_true_act  | 1        |\n",
      "|    samples_so_far | 32       |\n",
      "--------------------------------\n"
     ]
    },
    {
     "name": "stderr",
     "output_type": "stream",
     "text": [
      "246batch [00:04, 56.34batch/s]\n",
      "0batch [00:00, ?batch/s]"
     ]
    },
    {
     "name": "stdout",
     "output_type": "stream",
     "text": [
      "--------------------------------\n",
      "| batch_size        | 32       |\n",
      "| bc/               |          |\n",
      "|    batch          | 0        |\n",
      "|    ent_loss       | -2.4e-06 |\n",
      "|    entropy        | 0.0024   |\n",
      "|    epoch          | 0        |\n",
      "|    l2_loss        | 0        |\n",
      "|    l2_norm        | 1.49e+05 |\n",
      "|    loss           | 0.000206 |\n",
      "|    neglogp        | 0.000208 |\n",
      "|    prob_true_act  | 1        |\n",
      "|    samples_so_far | 32       |\n",
      "--------------------------------\n"
     ]
    },
    {
     "name": "stderr",
     "output_type": "stream",
     "text": [
      "246batch [00:04, 56.26batch/s]\n",
      "0batch [00:00, ?batch/s]"
     ]
    },
    {
     "name": "stdout",
     "output_type": "stream",
     "text": [
      "---------------------------------\n",
      "| batch_size        | 32        |\n",
      "| bc/               |           |\n",
      "|    batch          | 0         |\n",
      "|    ent_loss       | -8.55e-05 |\n",
      "|    entropy        | 0.0855    |\n",
      "|    epoch          | 0         |\n",
      "|    l2_loss        | 0         |\n",
      "|    l2_norm        | 1.49e+05  |\n",
      "|    loss           | 0.0681    |\n",
      "|    neglogp        | 0.0682    |\n",
      "|    prob_true_act  | 0.949     |\n",
      "|    samples_so_far | 32        |\n",
      "---------------------------------\n"
     ]
    },
    {
     "name": "stderr",
     "output_type": "stream",
     "text": [
      "246batch [00:04, 55.18batch/s]\n",
      "0batch [00:00, ?batch/s]"
     ]
    },
    {
     "name": "stdout",
     "output_type": "stream",
     "text": [
      "---------------------------------\n",
      "| batch_size        | 32        |\n",
      "| bc/               |           |\n",
      "|    batch          | 0         |\n",
      "|    ent_loss       | -3.46e-05 |\n",
      "|    entropy        | 0.0346    |\n",
      "|    epoch          | 0         |\n",
      "|    l2_loss        | 0         |\n",
      "|    l2_norm        | 1.5e+05   |\n",
      "|    loss           | 0.0378    |\n",
      "|    neglogp        | 0.0378    |\n",
      "|    prob_true_act  | 0.978     |\n",
      "|    samples_so_far | 32        |\n",
      "---------------------------------\n"
     ]
    },
    {
     "name": "stderr",
     "output_type": "stream",
     "text": [
      "246batch [00:04, 55.73batch/s]\n",
      "0batch [00:00, ?batch/s]"
     ]
    },
    {
     "name": "stdout",
     "output_type": "stream",
     "text": [
      "---------------------------------\n",
      "| batch_size        | 32        |\n",
      "| bc/               |           |\n",
      "|    batch          | 0         |\n",
      "|    ent_loss       | -2.55e-05 |\n",
      "|    entropy        | 0.0255    |\n",
      "|    epoch          | 0         |\n",
      "|    l2_loss        | 0         |\n",
      "|    l2_norm        | 1.5e+05   |\n",
      "|    loss           | 0.0146    |\n",
      "|    neglogp        | 0.0146    |\n",
      "|    prob_true_act  | 0.988     |\n",
      "|    samples_so_far | 32        |\n",
      "---------------------------------\n"
     ]
    },
    {
     "name": "stderr",
     "output_type": "stream",
     "text": [
      "246batch [00:04, 55.93batch/s]\n",
      "0batch [00:00, ?batch/s]"
     ]
    },
    {
     "name": "stdout",
     "output_type": "stream",
     "text": [
      "---------------------------------\n",
      "| batch_size        | 32        |\n",
      "| bc/               |           |\n",
      "|    batch          | 0         |\n",
      "|    ent_loss       | -2.49e-05 |\n",
      "|    entropy        | 0.0249    |\n",
      "|    epoch          | 0         |\n",
      "|    l2_loss        | 0         |\n",
      "|    l2_norm        | 1.5e+05   |\n",
      "|    loss           | 0.0291    |\n",
      "|    neglogp        | 0.0291    |\n",
      "|    prob_true_act  | 0.981     |\n",
      "|    samples_so_far | 32        |\n",
      "---------------------------------\n"
     ]
    },
    {
     "name": "stderr",
     "output_type": "stream",
     "text": [
      "246batch [00:04, 54.90batch/s]\n",
      "0batch [00:00, ?batch/s]"
     ]
    },
    {
     "name": "stdout",
     "output_type": "stream",
     "text": [
      "---------------------------------\n",
      "| batch_size        | 32        |\n",
      "| bc/               |           |\n",
      "|    batch          | 0         |\n",
      "|    ent_loss       | -2.51e-06 |\n",
      "|    entropy        | 0.00251   |\n",
      "|    epoch          | 0         |\n",
      "|    l2_loss        | 0         |\n",
      "|    l2_norm        | 1.5e+05   |\n",
      "|    loss           | 0.000217  |\n",
      "|    neglogp        | 0.000219  |\n",
      "|    prob_true_act  | 1         |\n",
      "|    samples_so_far | 32        |\n",
      "---------------------------------\n"
     ]
    },
    {
     "name": "stderr",
     "output_type": "stream",
     "text": [
      "246batch [00:04, 55.96batch/s]\n",
      "0batch [00:00, ?batch/s]"
     ]
    },
    {
     "name": "stdout",
     "output_type": "stream",
     "text": [
      "---------------------------------\n",
      "| batch_size        | 32        |\n",
      "| bc/               |           |\n",
      "|    batch          | 0         |\n",
      "|    ent_loss       | -3.91e-05 |\n",
      "|    entropy        | 0.0391    |\n",
      "|    epoch          | 0         |\n",
      "|    l2_loss        | 0         |\n",
      "|    l2_norm        | 1.5e+05   |\n",
      "|    loss           | 0.0303    |\n",
      "|    neglogp        | 0.0304    |\n",
      "|    prob_true_act  | 0.98      |\n",
      "|    samples_so_far | 32        |\n",
      "---------------------------------\n"
     ]
    },
    {
     "name": "stderr",
     "output_type": "stream",
     "text": [
      "246batch [00:04, 55.59batch/s]\n",
      "0batch [00:00, ?batch/s]"
     ]
    },
    {
     "name": "stdout",
     "output_type": "stream",
     "text": [
      "---------------------------------\n",
      "| batch_size        | 32        |\n",
      "| bc/               |           |\n",
      "|    batch          | 0         |\n",
      "|    ent_loss       | -2.37e-05 |\n",
      "|    entropy        | 0.0237    |\n",
      "|    epoch          | 0         |\n",
      "|    l2_loss        | 0         |\n",
      "|    l2_norm        | 1.5e+05   |\n",
      "|    loss           | 0.0178    |\n",
      "|    neglogp        | 0.0178    |\n",
      "|    prob_true_act  | 0.986     |\n",
      "|    samples_so_far | 32        |\n",
      "---------------------------------\n"
     ]
    },
    {
     "name": "stderr",
     "output_type": "stream",
     "text": [
      "246batch [00:04, 55.04batch/s]\n",
      "0batch [00:00, ?batch/s]"
     ]
    },
    {
     "name": "stdout",
     "output_type": "stream",
     "text": [
      "---------------------------------\n",
      "| batch_size        | 32        |\n",
      "| bc/               |           |\n",
      "|    batch          | 0         |\n",
      "|    ent_loss       | -2.68e-05 |\n",
      "|    entropy        | 0.0268    |\n",
      "|    epoch          | 0         |\n",
      "|    l2_loss        | 0         |\n",
      "|    l2_norm        | 1.5e+05   |\n",
      "|    loss           | 0.0256    |\n",
      "|    neglogp        | 0.0257    |\n",
      "|    prob_true_act  | 0.982     |\n",
      "|    samples_so_far | 32        |\n",
      "---------------------------------\n"
     ]
    },
    {
     "name": "stderr",
     "output_type": "stream",
     "text": [
      "246batch [00:04, 56.00batch/s]\n",
      "0batch [00:00, ?batch/s]"
     ]
    },
    {
     "name": "stdout",
     "output_type": "stream",
     "text": [
      "---------------------------------\n",
      "| batch_size        | 32        |\n",
      "| bc/               |           |\n",
      "|    batch          | 0         |\n",
      "|    ent_loss       | -4.03e-05 |\n",
      "|    entropy        | 0.0403    |\n",
      "|    epoch          | 0         |\n",
      "|    l2_loss        | 0         |\n",
      "|    l2_norm        | 1.5e+05   |\n",
      "|    loss           | 0.0401    |\n",
      "|    neglogp        | 0.0402    |\n",
      "|    prob_true_act  | 0.977     |\n",
      "|    samples_so_far | 32        |\n",
      "---------------------------------\n"
     ]
    },
    {
     "name": "stderr",
     "output_type": "stream",
     "text": [
      "246batch [00:04, 56.02batch/s]\n"
     ]
    },
    {
     "name": "stdout",
     "output_type": "stream",
     "text": [
      "Checkpoint saved at checkpoints\\bc_model_epoch_400.zip\n"
     ]
    },
    {
     "name": "stderr",
     "output_type": "stream",
     "text": [
      "0batch [00:00, ?batch/s]"
     ]
    },
    {
     "name": "stdout",
     "output_type": "stream",
     "text": [
      "---------------------------------\n",
      "| batch_size        | 32        |\n",
      "| bc/               |           |\n",
      "|    batch          | 0         |\n",
      "|    ent_loss       | -3.45e-05 |\n",
      "|    entropy        | 0.0345    |\n",
      "|    epoch          | 0         |\n",
      "|    l2_loss        | 0         |\n",
      "|    l2_norm        | 1.51e+05  |\n",
      "|    loss           | 0.0377    |\n",
      "|    neglogp        | 0.0377    |\n",
      "|    prob_true_act  | 0.978     |\n",
      "|    samples_so_far | 32        |\n",
      "---------------------------------\n"
     ]
    },
    {
     "name": "stderr",
     "output_type": "stream",
     "text": [
      "246batch [00:04, 53.49batch/s]\n",
      "0batch [00:00, ?batch/s]"
     ]
    },
    {
     "name": "stdout",
     "output_type": "stream",
     "text": [
      "---------------------------------\n",
      "| batch_size        | 32        |\n",
      "| bc/               |           |\n",
      "|    batch          | 0         |\n",
      "|    ent_loss       | -3.53e-05 |\n",
      "|    entropy        | 0.0353    |\n",
      "|    epoch          | 0         |\n",
      "|    l2_loss        | 0         |\n",
      "|    l2_norm        | 1.51e+05  |\n",
      "|    loss           | 0.0457    |\n",
      "|    neglogp        | 0.0458    |\n",
      "|    prob_true_act  | 0.976     |\n",
      "|    samples_so_far | 32        |\n",
      "---------------------------------\n"
     ]
    },
    {
     "name": "stderr",
     "output_type": "stream",
     "text": [
      "246batch [00:04, 55.80batch/s]\n",
      "0batch [00:00, ?batch/s]"
     ]
    },
    {
     "name": "stdout",
     "output_type": "stream",
     "text": [
      "---------------------------------\n",
      "| batch_size        | 32        |\n",
      "| bc/               |           |\n",
      "|    batch          | 0         |\n",
      "|    ent_loss       | -2.03e-06 |\n",
      "|    entropy        | 0.00203   |\n",
      "|    epoch          | 0         |\n",
      "|    l2_loss        | 0         |\n",
      "|    l2_norm        | 1.51e+05  |\n",
      "|    loss           | 0.000178  |\n",
      "|    neglogp        | 0.00018   |\n",
      "|    prob_true_act  | 1         |\n",
      "|    samples_so_far | 32        |\n",
      "---------------------------------\n"
     ]
    },
    {
     "name": "stderr",
     "output_type": "stream",
     "text": [
      "246batch [00:04, 53.57batch/s]\n",
      "0batch [00:00, ?batch/s]"
     ]
    },
    {
     "name": "stdout",
     "output_type": "stream",
     "text": [
      "---------------------------------\n",
      "| batch_size        | 32        |\n",
      "| bc/               |           |\n",
      "|    batch          | 0         |\n",
      "|    ent_loss       | -6.73e-06 |\n",
      "|    entropy        | 0.00673   |\n",
      "|    epoch          | 0         |\n",
      "|    l2_loss        | 0         |\n",
      "|    l2_norm        | 1.51e+05  |\n",
      "|    loss           | 0.000815  |\n",
      "|    neglogp        | 0.000821  |\n",
      "|    prob_true_act  | 0.999     |\n",
      "|    samples_so_far | 32        |\n",
      "---------------------------------\n"
     ]
    },
    {
     "name": "stderr",
     "output_type": "stream",
     "text": [
      "246batch [00:04, 54.81batch/s]\n",
      "0batch [00:00, ?batch/s]"
     ]
    },
    {
     "name": "stdout",
     "output_type": "stream",
     "text": [
      "---------------------------------\n",
      "| batch_size        | 32        |\n",
      "| bc/               |           |\n",
      "|    batch          | 0         |\n",
      "|    ent_loss       | -3.73e-05 |\n",
      "|    entropy        | 0.0373    |\n",
      "|    epoch          | 0         |\n",
      "|    l2_loss        | 0         |\n",
      "|    l2_norm        | 1.51e+05  |\n",
      "|    loss           | 0.0152    |\n",
      "|    neglogp        | 0.0152    |\n",
      "|    prob_true_act  | 0.988     |\n",
      "|    samples_so_far | 32        |\n",
      "---------------------------------\n"
     ]
    },
    {
     "name": "stderr",
     "output_type": "stream",
     "text": [
      "246batch [00:04, 55.55batch/s]\n",
      "0batch [00:00, ?batch/s]"
     ]
    },
    {
     "name": "stdout",
     "output_type": "stream",
     "text": [
      "---------------------------------\n",
      "| batch_size        | 32        |\n",
      "| bc/               |           |\n",
      "|    batch          | 0         |\n",
      "|    ent_loss       | -2.69e-05 |\n",
      "|    entropy        | 0.0269    |\n",
      "|    epoch          | 0         |\n",
      "|    l2_loss        | 0         |\n",
      "|    l2_norm        | 1.51e+05  |\n",
      "|    loss           | 0.0041    |\n",
      "|    neglogp        | 0.00413   |\n",
      "|    prob_true_act  | 0.996     |\n",
      "|    samples_so_far | 32        |\n",
      "---------------------------------\n"
     ]
    },
    {
     "name": "stderr",
     "output_type": "stream",
     "text": [
      "246batch [00:04, 54.78batch/s]\n",
      "0batch [00:00, ?batch/s]"
     ]
    },
    {
     "name": "stdout",
     "output_type": "stream",
     "text": [
      "---------------------------------\n",
      "| batch_size        | 32        |\n",
      "| bc/               |           |\n",
      "|    batch          | 0         |\n",
      "|    ent_loss       | -5.24e-06 |\n",
      "|    entropy        | 0.00524   |\n",
      "|    epoch          | 0         |\n",
      "|    l2_loss        | 0         |\n",
      "|    l2_norm        | 1.51e+05  |\n",
      "|    loss           | 0.000534  |\n",
      "|    neglogp        | 0.000539  |\n",
      "|    prob_true_act  | 0.999     |\n",
      "|    samples_so_far | 32        |\n",
      "---------------------------------\n"
     ]
    },
    {
     "name": "stderr",
     "output_type": "stream",
     "text": [
      "246batch [00:04, 55.64batch/s]\n",
      "0batch [00:00, ?batch/s]"
     ]
    },
    {
     "name": "stdout",
     "output_type": "stream",
     "text": [
      "---------------------------------\n",
      "| batch_size        | 32        |\n",
      "| bc/               |           |\n",
      "|    batch          | 0         |\n",
      "|    ent_loss       | -5.92e-05 |\n",
      "|    entropy        | 0.0592    |\n",
      "|    epoch          | 0         |\n",
      "|    l2_loss        | 0         |\n",
      "|    l2_norm        | 1.51e+05  |\n",
      "|    loss           | 0.0587    |\n",
      "|    neglogp        | 0.0588    |\n",
      "|    prob_true_act  | 0.962     |\n",
      "|    samples_so_far | 32        |\n",
      "---------------------------------\n"
     ]
    },
    {
     "name": "stderr",
     "output_type": "stream",
     "text": [
      "246batch [00:04, 55.76batch/s]\n",
      "0batch [00:00, ?batch/s]"
     ]
    },
    {
     "name": "stdout",
     "output_type": "stream",
     "text": [
      "---------------------------------\n",
      "| batch_size        | 32        |\n",
      "| bc/               |           |\n",
      "|    batch          | 0         |\n",
      "|    ent_loss       | -2.61e-05 |\n",
      "|    entropy        | 0.0261    |\n",
      "|    epoch          | 0         |\n",
      "|    l2_loss        | 0         |\n",
      "|    l2_norm        | 1.51e+05  |\n",
      "|    loss           | 0.0247    |\n",
      "|    neglogp        | 0.0247    |\n",
      "|    prob_true_act  | 0.983     |\n",
      "|    samples_so_far | 32        |\n",
      "---------------------------------\n"
     ]
    },
    {
     "name": "stderr",
     "output_type": "stream",
     "text": [
      "246batch [00:04, 54.40batch/s]\n",
      "0batch [00:00, ?batch/s]"
     ]
    },
    {
     "name": "stdout",
     "output_type": "stream",
     "text": [
      "---------------------------------\n",
      "| batch_size        | 32        |\n",
      "| bc/               |           |\n",
      "|    batch          | 0         |\n",
      "|    ent_loss       | -2.89e-06 |\n",
      "|    entropy        | 0.00289   |\n",
      "|    epoch          | 0         |\n",
      "|    l2_loss        | 0         |\n",
      "|    l2_norm        | 1.51e+05  |\n",
      "|    loss           | 0.000268  |\n",
      "|    neglogp        | 0.000271  |\n",
      "|    prob_true_act  | 1         |\n",
      "|    samples_so_far | 32        |\n",
      "---------------------------------\n"
     ]
    },
    {
     "name": "stderr",
     "output_type": "stream",
     "text": [
      "246batch [00:04, 55.67batch/s]\n",
      "0batch [00:00, ?batch/s]"
     ]
    },
    {
     "name": "stdout",
     "output_type": "stream",
     "text": [
      "--------------------------------\n",
      "| batch_size        | 32       |\n",
      "| bc/               |          |\n",
      "|    batch          | 0        |\n",
      "|    ent_loss       | -1.7e-06 |\n",
      "|    entropy        | 0.0017   |\n",
      "|    epoch          | 0        |\n",
      "|    l2_loss        | 0        |\n",
      "|    l2_norm        | 1.51e+05 |\n",
      "|    loss           | 0.000153 |\n",
      "|    neglogp        | 0.000155 |\n",
      "|    prob_true_act  | 1        |\n",
      "|    samples_so_far | 32       |\n",
      "--------------------------------\n"
     ]
    },
    {
     "name": "stderr",
     "output_type": "stream",
     "text": [
      "246batch [00:04, 56.07batch/s]\n",
      "0batch [00:00, ?batch/s]"
     ]
    },
    {
     "name": "stdout",
     "output_type": "stream",
     "text": [
      "---------------------------------\n",
      "| batch_size        | 32        |\n",
      "| bc/               |           |\n",
      "|    batch          | 0         |\n",
      "|    ent_loss       | -4.29e-06 |\n",
      "|    entropy        | 0.00429   |\n",
      "|    epoch          | 0         |\n",
      "|    l2_loss        | 0         |\n",
      "|    l2_norm        | 1.51e+05  |\n",
      "|    loss           | 0.000409  |\n",
      "|    neglogp        | 0.000413  |\n",
      "|    prob_true_act  | 1         |\n",
      "|    samples_so_far | 32        |\n",
      "---------------------------------\n"
     ]
    },
    {
     "name": "stderr",
     "output_type": "stream",
     "text": [
      "246batch [00:04, 55.03batch/s]\n",
      "0batch [00:00, ?batch/s]"
     ]
    },
    {
     "name": "stdout",
     "output_type": "stream",
     "text": [
      "---------------------------------\n",
      "| batch_size        | 32        |\n",
      "| bc/               |           |\n",
      "|    batch          | 0         |\n",
      "|    ent_loss       | -2.72e-05 |\n",
      "|    entropy        | 0.0272    |\n",
      "|    epoch          | 0         |\n",
      "|    l2_loss        | 0         |\n",
      "|    l2_norm        | 1.51e+05  |\n",
      "|    loss           | 0.0219    |\n",
      "|    neglogp        | 0.0219    |\n",
      "|    prob_true_act  | 0.984     |\n",
      "|    samples_so_far | 32        |\n",
      "---------------------------------\n"
     ]
    },
    {
     "name": "stderr",
     "output_type": "stream",
     "text": [
      "246batch [00:04, 56.26batch/s]\n",
      "0batch [00:00, ?batch/s]"
     ]
    },
    {
     "name": "stdout",
     "output_type": "stream",
     "text": [
      "---------------------------------\n",
      "| batch_size        | 32        |\n",
      "| bc/               |           |\n",
      "|    batch          | 0         |\n",
      "|    ent_loss       | -2.08e-05 |\n",
      "|    entropy        | 0.0208    |\n",
      "|    epoch          | 0         |\n",
      "|    l2_loss        | 0         |\n",
      "|    l2_norm        | 1.52e+05  |\n",
      "|    loss           | 0.00949   |\n",
      "|    neglogp        | 0.00951   |\n",
      "|    prob_true_act  | 0.992     |\n",
      "|    samples_so_far | 32        |\n",
      "---------------------------------\n"
     ]
    },
    {
     "name": "stderr",
     "output_type": "stream",
     "text": [
      "246batch [00:04, 56.09batch/s]\n",
      "0batch [00:00, ?batch/s]"
     ]
    },
    {
     "name": "stdout",
     "output_type": "stream",
     "text": [
      "--------------------------------\n",
      "| batch_size        | 32       |\n",
      "| bc/               |          |\n",
      "|    batch          | 0        |\n",
      "|    ent_loss       | -2.4e-06 |\n",
      "|    entropy        | 0.0024   |\n",
      "|    epoch          | 0        |\n",
      "|    l2_loss        | 0        |\n",
      "|    l2_norm        | 1.52e+05 |\n",
      "|    loss           | 0.000231 |\n",
      "|    neglogp        | 0.000233 |\n",
      "|    prob_true_act  | 1        |\n",
      "|    samples_so_far | 32       |\n",
      "--------------------------------\n"
     ]
    },
    {
     "name": "stderr",
     "output_type": "stream",
     "text": [
      "246batch [00:04, 55.01batch/s]\n",
      "0batch [00:00, ?batch/s]"
     ]
    },
    {
     "name": "stdout",
     "output_type": "stream",
     "text": [
      "---------------------------------\n",
      "| batch_size        | 32        |\n",
      "| bc/               |           |\n",
      "|    batch          | 0         |\n",
      "|    ent_loss       | -2.57e-05 |\n",
      "|    entropy        | 0.0257    |\n",
      "|    epoch          | 0         |\n",
      "|    l2_loss        | 0         |\n",
      "|    l2_norm        | 1.52e+05  |\n",
      "|    loss           | 0.0167    |\n",
      "|    neglogp        | 0.0167    |\n",
      "|    prob_true_act  | 0.987     |\n",
      "|    samples_so_far | 32        |\n",
      "---------------------------------\n"
     ]
    },
    {
     "name": "stderr",
     "output_type": "stream",
     "text": [
      "246batch [00:04, 55.95batch/s]\n",
      "0batch [00:00, ?batch/s]"
     ]
    },
    {
     "name": "stdout",
     "output_type": "stream",
     "text": [
      "---------------------------------\n",
      "| batch_size        | 32        |\n",
      "| bc/               |           |\n",
      "|    batch          | 0         |\n",
      "|    ent_loss       | -3.04e-05 |\n",
      "|    entropy        | 0.0304    |\n",
      "|    epoch          | 0         |\n",
      "|    l2_loss        | 0         |\n",
      "|    l2_norm        | 1.52e+05  |\n",
      "|    loss           | 0.0113    |\n",
      "|    neglogp        | 0.0113    |\n",
      "|    prob_true_act  | 0.99      |\n",
      "|    samples_so_far | 32        |\n",
      "---------------------------------\n"
     ]
    },
    {
     "name": "stderr",
     "output_type": "stream",
     "text": [
      "246batch [00:04, 54.98batch/s]\n",
      "0batch [00:00, ?batch/s]"
     ]
    },
    {
     "name": "stdout",
     "output_type": "stream",
     "text": [
      "--------------------------------\n",
      "| batch_size        | 32       |\n",
      "| bc/               |          |\n",
      "|    batch          | 0        |\n",
      "|    ent_loss       | -2.6e-05 |\n",
      "|    entropy        | 0.026    |\n",
      "|    epoch          | 0        |\n",
      "|    l2_loss        | 0        |\n",
      "|    l2_norm        | 1.52e+05 |\n",
      "|    loss           | 0.0212   |\n",
      "|    neglogp        | 0.0212   |\n",
      "|    prob_true_act  | 0.985    |\n",
      "|    samples_so_far | 32       |\n",
      "--------------------------------\n"
     ]
    },
    {
     "name": "stderr",
     "output_type": "stream",
     "text": [
      "246batch [00:04, 54.79batch/s]\n",
      "0batch [00:00, ?batch/s]"
     ]
    },
    {
     "name": "stdout",
     "output_type": "stream",
     "text": [
      "---------------------------------\n",
      "| batch_size        | 32        |\n",
      "| bc/               |           |\n",
      "|    batch          | 0         |\n",
      "|    ent_loss       | -2.36e-05 |\n",
      "|    entropy        | 0.0236    |\n",
      "|    epoch          | 0         |\n",
      "|    l2_loss        | 0         |\n",
      "|    l2_norm        | 1.52e+05  |\n",
      "|    loss           | 0.0142    |\n",
      "|    neglogp        | 0.0142    |\n",
      "|    prob_true_act  | 0.989     |\n",
      "|    samples_so_far | 32        |\n",
      "---------------------------------\n"
     ]
    },
    {
     "name": "stderr",
     "output_type": "stream",
     "text": [
      "246batch [00:04, 56.04batch/s]\n",
      "0batch [00:00, ?batch/s]"
     ]
    },
    {
     "name": "stdout",
     "output_type": "stream",
     "text": [
      "--------------------------------\n",
      "| batch_size        | 32       |\n",
      "| bc/               |          |\n",
      "|    batch          | 0        |\n",
      "|    ent_loss       | -3.9e-05 |\n",
      "|    entropy        | 0.039    |\n",
      "|    epoch          | 0        |\n",
      "|    l2_loss        | 0        |\n",
      "|    l2_norm        | 1.52e+05 |\n",
      "|    loss           | 0.0316   |\n",
      "|    neglogp        | 0.0317   |\n",
      "|    prob_true_act  | 0.98     |\n",
      "|    samples_so_far | 32       |\n",
      "--------------------------------\n"
     ]
    },
    {
     "name": "stderr",
     "output_type": "stream",
     "text": [
      "246batch [00:04, 55.91batch/s]\n",
      "0batch [00:00, ?batch/s]"
     ]
    },
    {
     "name": "stdout",
     "output_type": "stream",
     "text": [
      "---------------------------------\n",
      "| batch_size        | 32        |\n",
      "| bc/               |           |\n",
      "|    batch          | 0         |\n",
      "|    ent_loss       | -2.52e-05 |\n",
      "|    entropy        | 0.0252    |\n",
      "|    epoch          | 0         |\n",
      "|    l2_loss        | 0         |\n",
      "|    l2_norm        | 1.52e+05  |\n",
      "|    loss           | 0.0182    |\n",
      "|    neglogp        | 0.0182    |\n",
      "|    prob_true_act  | 0.986     |\n",
      "|    samples_so_far | 32        |\n",
      "---------------------------------\n"
     ]
    },
    {
     "name": "stderr",
     "output_type": "stream",
     "text": [
      "246batch [00:04, 54.72batch/s]\n",
      "0batch [00:00, ?batch/s]"
     ]
    },
    {
     "name": "stdout",
     "output_type": "stream",
     "text": [
      "---------------------------------\n",
      "| batch_size        | 32        |\n",
      "| bc/               |           |\n",
      "|    batch          | 0         |\n",
      "|    ent_loss       | -7.11e-05 |\n",
      "|    entropy        | 0.0711    |\n",
      "|    epoch          | 0         |\n",
      "|    l2_loss        | 0         |\n",
      "|    l2_norm        | 1.52e+05  |\n",
      "|    loss           | 0.0821    |\n",
      "|    neglogp        | 0.0822    |\n",
      "|    prob_true_act  | 0.954     |\n",
      "|    samples_so_far | 32        |\n",
      "---------------------------------\n"
     ]
    },
    {
     "name": "stderr",
     "output_type": "stream",
     "text": [
      "246batch [00:04, 55.85batch/s]\n",
      "0batch [00:00, ?batch/s]"
     ]
    },
    {
     "name": "stdout",
     "output_type": "stream",
     "text": [
      "---------------------------------\n",
      "| batch_size        | 32        |\n",
      "| bc/               |           |\n",
      "|    batch          | 0         |\n",
      "|    ent_loss       | -1.53e-06 |\n",
      "|    entropy        | 0.00153   |\n",
      "|    epoch          | 0         |\n",
      "|    l2_loss        | 0         |\n",
      "|    l2_norm        | 1.53e+05  |\n",
      "|    loss           | 0.000125  |\n",
      "|    neglogp        | 0.000126  |\n",
      "|    prob_true_act  | 1         |\n",
      "|    samples_so_far | 32        |\n",
      "---------------------------------\n"
     ]
    },
    {
     "name": "stderr",
     "output_type": "stream",
     "text": [
      "246batch [00:04, 56.17batch/s]\n",
      "0batch [00:00, ?batch/s]"
     ]
    },
    {
     "name": "stdout",
     "output_type": "stream",
     "text": [
      "---------------------------------\n",
      "| batch_size        | 32        |\n",
      "| bc/               |           |\n",
      "|    batch          | 0         |\n",
      "|    ent_loss       | -2.25e-05 |\n",
      "|    entropy        | 0.0225    |\n",
      "|    epoch          | 0         |\n",
      "|    l2_loss        | 0         |\n",
      "|    l2_norm        | 1.53e+05  |\n",
      "|    loss           | 0.0133    |\n",
      "|    neglogp        | 0.0133    |\n",
      "|    prob_true_act  | 0.989     |\n",
      "|    samples_so_far | 32        |\n",
      "---------------------------------\n"
     ]
    },
    {
     "name": "stderr",
     "output_type": "stream",
     "text": [
      "246batch [00:04, 54.65batch/s]\n",
      "0batch [00:00, ?batch/s]"
     ]
    },
    {
     "name": "stdout",
     "output_type": "stream",
     "text": [
      "---------------------------------\n",
      "| batch_size        | 32        |\n",
      "| bc/               |           |\n",
      "|    batch          | 0         |\n",
      "|    ent_loss       | -2.28e-06 |\n",
      "|    entropy        | 0.00228   |\n",
      "|    epoch          | 0         |\n",
      "|    l2_loss        | 0         |\n",
      "|    l2_norm        | 1.53e+05  |\n",
      "|    loss           | 0.000197  |\n",
      "|    neglogp        | 0.000199  |\n",
      "|    prob_true_act  | 1         |\n",
      "|    samples_so_far | 32        |\n",
      "---------------------------------\n"
     ]
    },
    {
     "name": "stderr",
     "output_type": "stream",
     "text": [
      "246batch [00:04, 55.72batch/s]\n",
      "0batch [00:00, ?batch/s]"
     ]
    },
    {
     "name": "stdout",
     "output_type": "stream",
     "text": [
      "---------------------------------\n",
      "| batch_size        | 32        |\n",
      "| bc/               |           |\n",
      "|    batch          | 0         |\n",
      "|    ent_loss       | -2.79e-05 |\n",
      "|    entropy        | 0.0279    |\n",
      "|    epoch          | 0         |\n",
      "|    l2_loss        | 0         |\n",
      "|    l2_norm        | 1.53e+05  |\n",
      "|    loss           | 0.00451   |\n",
      "|    neglogp        | 0.00454   |\n",
      "|    prob_true_act  | 0.996     |\n",
      "|    samples_so_far | 32        |\n",
      "---------------------------------\n"
     ]
    },
    {
     "name": "stderr",
     "output_type": "stream",
     "text": [
      "246batch [00:04, 55.43batch/s]\n",
      "0batch [00:00, ?batch/s]"
     ]
    },
    {
     "name": "stdout",
     "output_type": "stream",
     "text": [
      "---------------------------------\n",
      "| batch_size        | 32        |\n",
      "| bc/               |           |\n",
      "|    batch          | 0         |\n",
      "|    ent_loss       | -3.38e-05 |\n",
      "|    entropy        | 0.0338    |\n",
      "|    epoch          | 0         |\n",
      "|    l2_loss        | 0         |\n",
      "|    l2_norm        | 1.53e+05  |\n",
      "|    loss           | 0.0238    |\n",
      "|    neglogp        | 0.0238    |\n",
      "|    prob_true_act  | 0.983     |\n",
      "|    samples_so_far | 32        |\n",
      "---------------------------------\n"
     ]
    },
    {
     "name": "stderr",
     "output_type": "stream",
     "text": [
      "246batch [00:04, 54.75batch/s]\n",
      "0batch [00:00, ?batch/s]"
     ]
    },
    {
     "name": "stdout",
     "output_type": "stream",
     "text": [
      "--------------------------------\n",
      "| batch_size        | 32       |\n",
      "| bc/               |          |\n",
      "|    batch          | 0        |\n",
      "|    ent_loss       | -2.8e-05 |\n",
      "|    entropy        | 0.028    |\n",
      "|    epoch          | 0        |\n",
      "|    l2_loss        | 0        |\n",
      "|    l2_norm        | 1.53e+05 |\n",
      "|    loss           | 0.0145   |\n",
      "|    neglogp        | 0.0145   |\n",
      "|    prob_true_act  | 0.988    |\n",
      "|    samples_so_far | 32       |\n",
      "--------------------------------\n"
     ]
    },
    {
     "name": "stderr",
     "output_type": "stream",
     "text": [
      "246batch [00:04, 55.30batch/s]\n",
      "0batch [00:00, ?batch/s]"
     ]
    },
    {
     "name": "stdout",
     "output_type": "stream",
     "text": [
      "---------------------------------\n",
      "| batch_size        | 32        |\n",
      "| bc/               |           |\n",
      "|    batch          | 0         |\n",
      "|    ent_loss       | -6.51e-06 |\n",
      "|    entropy        | 0.00651   |\n",
      "|    epoch          | 0         |\n",
      "|    l2_loss        | 0         |\n",
      "|    l2_norm        | 1.53e+05  |\n",
      "|    loss           | 0.000721  |\n",
      "|    neglogp        | 0.000728  |\n",
      "|    prob_true_act  | 0.999     |\n",
      "|    samples_so_far | 32        |\n",
      "---------------------------------\n"
     ]
    },
    {
     "name": "stderr",
     "output_type": "stream",
     "text": [
      "246batch [00:04, 56.61batch/s]\n",
      "0batch [00:00, ?batch/s]"
     ]
    },
    {
     "name": "stdout",
     "output_type": "stream",
     "text": [
      "---------------------------------\n",
      "| batch_size        | 32        |\n",
      "| bc/               |           |\n",
      "|    batch          | 0         |\n",
      "|    ent_loss       | -1.52e-06 |\n",
      "|    entropy        | 0.00152   |\n",
      "|    epoch          | 0         |\n",
      "|    l2_loss        | 0         |\n",
      "|    l2_norm        | 1.53e+05  |\n",
      "|    loss           | 0.000128  |\n",
      "|    neglogp        | 0.000129  |\n",
      "|    prob_true_act  | 1         |\n",
      "|    samples_so_far | 32        |\n",
      "---------------------------------\n"
     ]
    },
    {
     "name": "stderr",
     "output_type": "stream",
     "text": [
      "246batch [00:04, 55.43batch/s]\n",
      "0batch [00:00, ?batch/s]"
     ]
    },
    {
     "name": "stdout",
     "output_type": "stream",
     "text": [
      "---------------------------------\n",
      "| batch_size        | 32        |\n",
      "| bc/               |           |\n",
      "|    batch          | 0         |\n",
      "|    ent_loss       | -1.07e-06 |\n",
      "|    entropy        | 0.00107   |\n",
      "|    epoch          | 0         |\n",
      "|    l2_loss        | 0         |\n",
      "|    l2_norm        | 1.53e+05  |\n",
      "|    loss           | 8.92e-05  |\n",
      "|    neglogp        | 9.03e-05  |\n",
      "|    prob_true_act  | 1         |\n",
      "|    samples_so_far | 32        |\n",
      "---------------------------------\n"
     ]
    },
    {
     "name": "stderr",
     "output_type": "stream",
     "text": [
      "246batch [00:04, 55.90batch/s]\n",
      "0batch [00:00, ?batch/s]"
     ]
    },
    {
     "name": "stdout",
     "output_type": "stream",
     "text": [
      "---------------------------------\n",
      "| batch_size        | 32        |\n",
      "| bc/               |           |\n",
      "|    batch          | 0         |\n",
      "|    ent_loss       | -2.65e-06 |\n",
      "|    entropy        | 0.00265   |\n",
      "|    epoch          | 0         |\n",
      "|    l2_loss        | 0         |\n",
      "|    l2_norm        | 1.53e+05  |\n",
      "|    loss           | 0.000242  |\n",
      "|    neglogp        | 0.000245  |\n",
      "|    prob_true_act  | 1         |\n",
      "|    samples_so_far | 32        |\n",
      "---------------------------------\n"
     ]
    },
    {
     "name": "stderr",
     "output_type": "stream",
     "text": [
      "246batch [00:04, 55.58batch/s]\n",
      "0batch [00:00, ?batch/s]"
     ]
    },
    {
     "name": "stdout",
     "output_type": "stream",
     "text": [
      "---------------------------------\n",
      "| batch_size        | 32        |\n",
      "| bc/               |           |\n",
      "|    batch          | 0         |\n",
      "|    ent_loss       | -8.19e-05 |\n",
      "|    entropy        | 0.0819    |\n",
      "|    epoch          | 0         |\n",
      "|    l2_loss        | 0         |\n",
      "|    l2_norm        | 1.53e+05  |\n",
      "|    loss           | 0.0789    |\n",
      "|    neglogp        | 0.079     |\n",
      "|    prob_true_act  | 0.956     |\n",
      "|    samples_so_far | 32        |\n",
      "---------------------------------\n"
     ]
    },
    {
     "name": "stderr",
     "output_type": "stream",
     "text": [
      "246batch [00:04, 54.80batch/s]\n",
      "0batch [00:00, ?batch/s]"
     ]
    },
    {
     "name": "stdout",
     "output_type": "stream",
     "text": [
      "---------------------------------\n",
      "| batch_size        | 32        |\n",
      "| bc/               |           |\n",
      "|    batch          | 0         |\n",
      "|    ent_loss       | -5.98e-05 |\n",
      "|    entropy        | 0.0598    |\n",
      "|    epoch          | 0         |\n",
      "|    l2_loss        | 0         |\n",
      "|    l2_norm        | 1.53e+05  |\n",
      "|    loss           | 0.062     |\n",
      "|    neglogp        | 0.0621    |\n",
      "|    prob_true_act  | 0.96      |\n",
      "|    samples_so_far | 32        |\n",
      "---------------------------------\n"
     ]
    },
    {
     "name": "stderr",
     "output_type": "stream",
     "text": [
      "246batch [00:04, 56.10batch/s]\n",
      "0batch [00:00, ?batch/s]"
     ]
    },
    {
     "name": "stdout",
     "output_type": "stream",
     "text": [
      "---------------------------------\n",
      "| batch_size        | 32        |\n",
      "| bc/               |           |\n",
      "|    batch          | 0         |\n",
      "|    ent_loss       | -2.01e-05 |\n",
      "|    entropy        | 0.0201    |\n",
      "|    epoch          | 0         |\n",
      "|    l2_loss        | 0         |\n",
      "|    l2_norm        | 1.53e+05  |\n",
      "|    loss           | 0.00901   |\n",
      "|    neglogp        | 0.00903   |\n",
      "|    prob_true_act  | 0.992     |\n",
      "|    samples_so_far | 32        |\n",
      "---------------------------------\n"
     ]
    },
    {
     "name": "stderr",
     "output_type": "stream",
     "text": [
      "246batch [00:04, 55.23batch/s]\n",
      "0batch [00:00, ?batch/s]"
     ]
    },
    {
     "name": "stdout",
     "output_type": "stream",
     "text": [
      "---------------------------------\n",
      "| batch_size        | 32        |\n",
      "| bc/               |           |\n",
      "|    batch          | 0         |\n",
      "|    ent_loss       | -3.92e-06 |\n",
      "|    entropy        | 0.00392   |\n",
      "|    epoch          | 0         |\n",
      "|    l2_loss        | 0         |\n",
      "|    l2_norm        | 1.53e+05  |\n",
      "|    loss           | 0.000427  |\n",
      "|    neglogp        | 0.000431  |\n",
      "|    prob_true_act  | 1         |\n",
      "|    samples_so_far | 32        |\n",
      "---------------------------------\n"
     ]
    },
    {
     "name": "stderr",
     "output_type": "stream",
     "text": [
      "246batch [00:04, 54.62batch/s]\n",
      "0batch [00:00, ?batch/s]"
     ]
    },
    {
     "name": "stdout",
     "output_type": "stream",
     "text": [
      "---------------------------------\n",
      "| batch_size        | 32        |\n",
      "| bc/               |           |\n",
      "|    batch          | 0         |\n",
      "|    ent_loss       | -2.45e-06 |\n",
      "|    entropy        | 0.00245   |\n",
      "|    epoch          | 0         |\n",
      "|    l2_loss        | 0         |\n",
      "|    l2_norm        | 1.53e+05  |\n",
      "|    loss           | 0.000208  |\n",
      "|    neglogp        | 0.00021   |\n",
      "|    prob_true_act  | 1         |\n",
      "|    samples_so_far | 32        |\n",
      "---------------------------------\n"
     ]
    },
    {
     "name": "stderr",
     "output_type": "stream",
     "text": [
      "246batch [00:04, 55.83batch/s]\n",
      "0batch [00:00, ?batch/s]"
     ]
    },
    {
     "name": "stdout",
     "output_type": "stream",
     "text": [
      "---------------------------------\n",
      "| batch_size        | 32        |\n",
      "| bc/               |           |\n",
      "|    batch          | 0         |\n",
      "|    ent_loss       | -4.84e-05 |\n",
      "|    entropy        | 0.0484    |\n",
      "|    epoch          | 0         |\n",
      "|    l2_loss        | 0         |\n",
      "|    l2_norm        | 1.54e+05  |\n",
      "|    loss           | 0.0367    |\n",
      "|    neglogp        | 0.0367    |\n",
      "|    prob_true_act  | 0.978     |\n",
      "|    samples_so_far | 32        |\n",
      "---------------------------------\n"
     ]
    },
    {
     "name": "stderr",
     "output_type": "stream",
     "text": [
      "246batch [00:04, 56.22batch/s]\n",
      "0batch [00:00, ?batch/s]"
     ]
    },
    {
     "name": "stdout",
     "output_type": "stream",
     "text": [
      "---------------------------------\n",
      "| batch_size        | 32        |\n",
      "| bc/               |           |\n",
      "|    batch          | 0         |\n",
      "|    ent_loss       | -9.74e-07 |\n",
      "|    entropy        | 0.000974  |\n",
      "|    epoch          | 0         |\n",
      "|    l2_loss        | 0         |\n",
      "|    l2_norm        | 1.54e+05  |\n",
      "|    loss           | 8.08e-05  |\n",
      "|    neglogp        | 8.18e-05  |\n",
      "|    prob_true_act  | 1         |\n",
      "|    samples_so_far | 32        |\n",
      "---------------------------------\n"
     ]
    },
    {
     "name": "stderr",
     "output_type": "stream",
     "text": [
      "246batch [00:04, 54.07batch/s]\n",
      "0batch [00:00, ?batch/s]"
     ]
    },
    {
     "name": "stdout",
     "output_type": "stream",
     "text": [
      "---------------------------------\n",
      "| batch_size        | 32        |\n",
      "| bc/               |           |\n",
      "|    batch          | 0         |\n",
      "|    ent_loss       | -2.55e-06 |\n",
      "|    entropy        | 0.00255   |\n",
      "|    epoch          | 0         |\n",
      "|    l2_loss        | 0         |\n",
      "|    l2_norm        | 1.54e+05  |\n",
      "|    loss           | 0.000225  |\n",
      "|    neglogp        | 0.000227  |\n",
      "|    prob_true_act  | 1         |\n",
      "|    samples_so_far | 32        |\n",
      "---------------------------------\n"
     ]
    },
    {
     "name": "stderr",
     "output_type": "stream",
     "text": [
      "246batch [00:04, 56.08batch/s]\n",
      "0batch [00:00, ?batch/s]"
     ]
    },
    {
     "name": "stdout",
     "output_type": "stream",
     "text": [
      "---------------------------------\n",
      "| batch_size        | 32        |\n",
      "| bc/               |           |\n",
      "|    batch          | 0         |\n",
      "|    ent_loss       | -4.77e-05 |\n",
      "|    entropy        | 0.0477    |\n",
      "|    epoch          | 0         |\n",
      "|    l2_loss        | 0         |\n",
      "|    l2_norm        | 1.54e+05  |\n",
      "|    loss           | 0.0453    |\n",
      "|    neglogp        | 0.0453    |\n",
      "|    prob_true_act  | 0.968     |\n",
      "|    samples_so_far | 32        |\n",
      "---------------------------------\n"
     ]
    },
    {
     "name": "stderr",
     "output_type": "stream",
     "text": [
      "246batch [00:04, 55.54batch/s]\n",
      "0batch [00:00, ?batch/s]"
     ]
    },
    {
     "name": "stdout",
     "output_type": "stream",
     "text": [
      "---------------------------------\n",
      "| batch_size        | 32        |\n",
      "| bc/               |           |\n",
      "|    batch          | 0         |\n",
      "|    ent_loss       | -2.89e-05 |\n",
      "|    entropy        | 0.0289    |\n",
      "|    epoch          | 0         |\n",
      "|    l2_loss        | 0         |\n",
      "|    l2_norm        | 1.54e+05  |\n",
      "|    loss           | 0.0196    |\n",
      "|    neglogp        | 0.0196    |\n",
      "|    prob_true_act  | 0.985     |\n",
      "|    samples_so_far | 32        |\n",
      "---------------------------------\n"
     ]
    },
    {
     "name": "stderr",
     "output_type": "stream",
     "text": [
      "246batch [00:04, 55.62batch/s]\n",
      "0batch [00:00, ?batch/s]"
     ]
    },
    {
     "name": "stdout",
     "output_type": "stream",
     "text": [
      "---------------------------------\n",
      "| batch_size        | 32        |\n",
      "| bc/               |           |\n",
      "|    batch          | 0         |\n",
      "|    ent_loss       | -6.65e-05 |\n",
      "|    entropy        | 0.0665    |\n",
      "|    epoch          | 0         |\n",
      "|    l2_loss        | 0         |\n",
      "|    l2_norm        | 1.54e+05  |\n",
      "|    loss           | 0.0629    |\n",
      "|    neglogp        | 0.063     |\n",
      "|    prob_true_act  | 0.963     |\n",
      "|    samples_so_far | 32        |\n",
      "---------------------------------\n"
     ]
    },
    {
     "name": "stderr",
     "output_type": "stream",
     "text": [
      "246batch [00:04, 56.15batch/s]\n",
      "0batch [00:00, ?batch/s]"
     ]
    },
    {
     "name": "stdout",
     "output_type": "stream",
     "text": [
      "---------------------------------\n",
      "| batch_size        | 32        |\n",
      "| bc/               |           |\n",
      "|    batch          | 0         |\n",
      "|    ent_loss       | -9.14e-05 |\n",
      "|    entropy        | 0.0914    |\n",
      "|    epoch          | 0         |\n",
      "|    l2_loss        | 0         |\n",
      "|    l2_norm        | 1.54e+05  |\n",
      "|    loss           | 0.0893    |\n",
      "|    neglogp        | 0.0894    |\n",
      "|    prob_true_act  | 0.945     |\n",
      "|    samples_so_far | 32        |\n",
      "---------------------------------\n"
     ]
    },
    {
     "name": "stderr",
     "output_type": "stream",
     "text": [
      "246batch [00:04, 54.66batch/s]\n",
      "0batch [00:00, ?batch/s]"
     ]
    },
    {
     "name": "stdout",
     "output_type": "stream",
     "text": [
      "---------------------------------\n",
      "| batch_size        | 32        |\n",
      "| bc/               |           |\n",
      "|    batch          | 0         |\n",
      "|    ent_loss       | -1.95e-06 |\n",
      "|    entropy        | 0.00195   |\n",
      "|    epoch          | 0         |\n",
      "|    l2_loss        | 0         |\n",
      "|    l2_norm        | 1.54e+05  |\n",
      "|    loss           | 0.000178  |\n",
      "|    neglogp        | 0.00018   |\n",
      "|    prob_true_act  | 1         |\n",
      "|    samples_so_far | 32        |\n",
      "---------------------------------\n"
     ]
    },
    {
     "name": "stderr",
     "output_type": "stream",
     "text": [
      "246batch [00:04, 53.73batch/s]\n",
      "0batch [00:00, ?batch/s]"
     ]
    },
    {
     "name": "stdout",
     "output_type": "stream",
     "text": [
      "---------------------------------\n",
      "| batch_size        | 32        |\n",
      "| bc/               |           |\n",
      "|    batch          | 0         |\n",
      "|    ent_loss       | -3.32e-07 |\n",
      "|    entropy        | 0.000332  |\n",
      "|    epoch          | 0         |\n",
      "|    l2_loss        | 0         |\n",
      "|    l2_norm        | 1.54e+05  |\n",
      "|    loss           | 2.46e-05  |\n",
      "|    neglogp        | 2.5e-05   |\n",
      "|    prob_true_act  | 1         |\n",
      "|    samples_so_far | 32        |\n",
      "---------------------------------\n"
     ]
    },
    {
     "name": "stderr",
     "output_type": "stream",
     "text": [
      "246batch [00:04, 56.08batch/s]\n",
      "0batch [00:00, ?batch/s]"
     ]
    },
    {
     "name": "stdout",
     "output_type": "stream",
     "text": [
      "---------------------------------\n",
      "| batch_size        | 32        |\n",
      "| bc/               |           |\n",
      "|    batch          | 0         |\n",
      "|    ent_loss       | -3.25e-05 |\n",
      "|    entropy        | 0.0325    |\n",
      "|    epoch          | 0         |\n",
      "|    l2_loss        | 0         |\n",
      "|    l2_norm        | 1.55e+05  |\n",
      "|    loss           | 0.0139    |\n",
      "|    neglogp        | 0.014     |\n",
      "|    prob_true_act  | 0.989     |\n",
      "|    samples_so_far | 32        |\n",
      "---------------------------------\n"
     ]
    },
    {
     "name": "stderr",
     "output_type": "stream",
     "text": [
      "246batch [00:04, 54.16batch/s]\n",
      "0batch [00:00, ?batch/s]"
     ]
    },
    {
     "name": "stdout",
     "output_type": "stream",
     "text": [
      "---------------------------------\n",
      "| batch_size        | 32        |\n",
      "| bc/               |           |\n",
      "|    batch          | 0         |\n",
      "|    ent_loss       | -2.34e-05 |\n",
      "|    entropy        | 0.0234    |\n",
      "|    epoch          | 0         |\n",
      "|    l2_loss        | 0         |\n",
      "|    l2_norm        | 1.55e+05  |\n",
      "|    loss           | 0.0252    |\n",
      "|    neglogp        | 0.0252    |\n",
      "|    prob_true_act  | 0.983     |\n",
      "|    samples_so_far | 32        |\n",
      "---------------------------------\n"
     ]
    },
    {
     "name": "stderr",
     "output_type": "stream",
     "text": [
      "246batch [00:04, 54.80batch/s]\n",
      "0batch [00:00, ?batch/s]"
     ]
    },
    {
     "name": "stdout",
     "output_type": "stream",
     "text": [
      "---------------------------------\n",
      "| batch_size        | 32        |\n",
      "| bc/               |           |\n",
      "|    batch          | 0         |\n",
      "|    ent_loss       | -9.43e-05 |\n",
      "|    entropy        | 0.0943    |\n",
      "|    epoch          | 0         |\n",
      "|    l2_loss        | 0         |\n",
      "|    l2_norm        | 1.55e+05  |\n",
      "|    loss           | 0.073     |\n",
      "|    neglogp        | 0.0731    |\n",
      "|    prob_true_act  | 0.952     |\n",
      "|    samples_so_far | 32        |\n",
      "---------------------------------\n"
     ]
    },
    {
     "name": "stderr",
     "output_type": "stream",
     "text": [
      "246batch [00:04, 56.07batch/s]\n",
      "0batch [00:00, ?batch/s]"
     ]
    },
    {
     "name": "stdout",
     "output_type": "stream",
     "text": [
      "--------------------------------\n",
      "| batch_size        | 32       |\n",
      "| bc/               |          |\n",
      "|    batch          | 0        |\n",
      "|    ent_loss       | -1.2e-06 |\n",
      "|    entropy        | 0.0012   |\n",
      "|    epoch          | 0        |\n",
      "|    l2_loss        | 0        |\n",
      "|    l2_norm        | 1.55e+05 |\n",
      "|    loss           | 0.000107 |\n",
      "|    neglogp        | 0.000108 |\n",
      "|    prob_true_act  | 1        |\n",
      "|    samples_so_far | 32       |\n",
      "--------------------------------\n"
     ]
    },
    {
     "name": "stderr",
     "output_type": "stream",
     "text": [
      "246batch [00:04, 55.12batch/s]\n"
     ]
    },
    {
     "name": "stdout",
     "output_type": "stream",
     "text": [
      "Checkpoint saved at checkpoints\\bc_model_epoch_450.zip\n"
     ]
    },
    {
     "name": "stderr",
     "output_type": "stream",
     "text": [
      "0batch [00:00, ?batch/s]"
     ]
    },
    {
     "name": "stdout",
     "output_type": "stream",
     "text": [
      "---------------------------------\n",
      "| batch_size        | 32        |\n",
      "| bc/               |           |\n",
      "|    batch          | 0         |\n",
      "|    ent_loss       | -2.03e-05 |\n",
      "|    entropy        | 0.0203    |\n",
      "|    epoch          | 0         |\n",
      "|    l2_loss        | 0         |\n",
      "|    l2_norm        | 1.55e+05  |\n",
      "|    loss           | 0.00363   |\n",
      "|    neglogp        | 0.00365   |\n",
      "|    prob_true_act  | 0.996     |\n",
      "|    samples_so_far | 32        |\n",
      "---------------------------------\n"
     ]
    },
    {
     "name": "stderr",
     "output_type": "stream",
     "text": [
      "246batch [00:04, 54.65batch/s]\n",
      "0batch [00:00, ?batch/s]"
     ]
    },
    {
     "name": "stdout",
     "output_type": "stream",
     "text": [
      "---------------------------------\n",
      "| batch_size        | 32        |\n",
      "| bc/               |           |\n",
      "|    batch          | 0         |\n",
      "|    ent_loss       | -5.87e-05 |\n",
      "|    entropy        | 0.0587    |\n",
      "|    epoch          | 0         |\n",
      "|    l2_loss        | 0         |\n",
      "|    l2_norm        | 1.55e+05  |\n",
      "|    loss           | 0.0777    |\n",
      "|    neglogp        | 0.0778    |\n",
      "|    prob_true_act  | 0.955     |\n",
      "|    samples_so_far | 32        |\n",
      "---------------------------------\n"
     ]
    },
    {
     "name": "stderr",
     "output_type": "stream",
     "text": [
      "246batch [00:04, 54.71batch/s]\n",
      "0batch [00:00, ?batch/s]"
     ]
    },
    {
     "name": "stdout",
     "output_type": "stream",
     "text": [
      "---------------------------------\n",
      "| batch_size        | 32        |\n",
      "| bc/               |           |\n",
      "|    batch          | 0         |\n",
      "|    ent_loss       | -1.35e-06 |\n",
      "|    entropy        | 0.00135   |\n",
      "|    epoch          | 0         |\n",
      "|    l2_loss        | 0         |\n",
      "|    l2_norm        | 1.55e+05  |\n",
      "|    loss           | 0.000122  |\n",
      "|    neglogp        | 0.000124  |\n",
      "|    prob_true_act  | 1         |\n",
      "|    samples_so_far | 32        |\n",
      "---------------------------------\n"
     ]
    },
    {
     "name": "stderr",
     "output_type": "stream",
     "text": [
      "246batch [00:04, 56.03batch/s]\n",
      "0batch [00:00, ?batch/s]"
     ]
    },
    {
     "name": "stdout",
     "output_type": "stream",
     "text": [
      "---------------------------------\n",
      "| batch_size        | 32        |\n",
      "| bc/               |           |\n",
      "|    batch          | 0         |\n",
      "|    ent_loss       | -1.99e-06 |\n",
      "|    entropy        | 0.00199   |\n",
      "|    epoch          | 0         |\n",
      "|    l2_loss        | 0         |\n",
      "|    l2_norm        | 1.55e+05  |\n",
      "|    loss           | 0.000167  |\n",
      "|    neglogp        | 0.000169  |\n",
      "|    prob_true_act  | 1         |\n",
      "|    samples_so_far | 32        |\n",
      "---------------------------------\n"
     ]
    },
    {
     "name": "stderr",
     "output_type": "stream",
     "text": [
      "246batch [00:04, 56.00batch/s]\n",
      "0batch [00:00, ?batch/s]"
     ]
    },
    {
     "name": "stdout",
     "output_type": "stream",
     "text": [
      "---------------------------------\n",
      "| batch_size        | 32        |\n",
      "| bc/               |           |\n",
      "|    batch          | 0         |\n",
      "|    ent_loss       | -2.73e-06 |\n",
      "|    entropy        | 0.00273   |\n",
      "|    epoch          | 0         |\n",
      "|    l2_loss        | 0         |\n",
      "|    l2_norm        | 1.55e+05  |\n",
      "|    loss           | 0.000284  |\n",
      "|    neglogp        | 0.000287  |\n",
      "|    prob_true_act  | 1         |\n",
      "|    samples_so_far | 32        |\n",
      "---------------------------------\n"
     ]
    },
    {
     "name": "stderr",
     "output_type": "stream",
     "text": [
      "246batch [00:04, 54.06batch/s]\n",
      "0batch [00:00, ?batch/s]"
     ]
    },
    {
     "name": "stdout",
     "output_type": "stream",
     "text": [
      "---------------------------------\n",
      "| batch_size        | 32        |\n",
      "| bc/               |           |\n",
      "|    batch          | 0         |\n",
      "|    ent_loss       | -3.72e-05 |\n",
      "|    entropy        | 0.0372    |\n",
      "|    epoch          | 0         |\n",
      "|    l2_loss        | 0         |\n",
      "|    l2_norm        | 1.55e+05  |\n",
      "|    loss           | 0.0288    |\n",
      "|    neglogp        | 0.0289    |\n",
      "|    prob_true_act  | 0.981     |\n",
      "|    samples_so_far | 32        |\n",
      "---------------------------------\n"
     ]
    },
    {
     "name": "stderr",
     "output_type": "stream",
     "text": [
      "246batch [00:04, 55.73batch/s]\n",
      "0batch [00:00, ?batch/s]"
     ]
    },
    {
     "name": "stdout",
     "output_type": "stream",
     "text": [
      "---------------------------------\n",
      "| batch_size        | 32        |\n",
      "| bc/               |           |\n",
      "|    batch          | 0         |\n",
      "|    ent_loss       | -2.34e-05 |\n",
      "|    entropy        | 0.0234    |\n",
      "|    epoch          | 0         |\n",
      "|    l2_loss        | 0         |\n",
      "|    l2_norm        | 1.55e+05  |\n",
      "|    loss           | 0.0237    |\n",
      "|    neglogp        | 0.0237    |\n",
      "|    prob_true_act  | 0.983     |\n",
      "|    samples_so_far | 32        |\n",
      "---------------------------------\n"
     ]
    },
    {
     "name": "stderr",
     "output_type": "stream",
     "text": [
      "246batch [00:04, 55.92batch/s]\n",
      "0batch [00:00, ?batch/s]"
     ]
    },
    {
     "name": "stdout",
     "output_type": "stream",
     "text": [
      "---------------------------------\n",
      "| batch_size        | 32        |\n",
      "| bc/               |           |\n",
      "|    batch          | 0         |\n",
      "|    ent_loss       | -3.27e-06 |\n",
      "|    entropy        | 0.00327   |\n",
      "|    epoch          | 0         |\n",
      "|    l2_loss        | 0         |\n",
      "|    l2_norm        | 1.55e+05  |\n",
      "|    loss           | 0.000348  |\n",
      "|    neglogp        | 0.000351  |\n",
      "|    prob_true_act  | 1         |\n",
      "|    samples_so_far | 32        |\n",
      "---------------------------------\n"
     ]
    },
    {
     "name": "stderr",
     "output_type": "stream",
     "text": [
      "246batch [00:04, 54.43batch/s]\n",
      "0batch [00:00, ?batch/s]"
     ]
    },
    {
     "name": "stdout",
     "output_type": "stream",
     "text": [
      "--------------------------------\n",
      "| batch_size        | 32       |\n",
      "| bc/               |          |\n",
      "|    batch          | 0        |\n",
      "|    ent_loss       | -2.2e-06 |\n",
      "|    entropy        | 0.0022   |\n",
      "|    epoch          | 0        |\n",
      "|    l2_loss        | 0        |\n",
      "|    l2_norm        | 1.55e+05 |\n",
      "|    loss           | 0.000215 |\n",
      "|    neglogp        | 0.000218 |\n",
      "|    prob_true_act  | 1        |\n",
      "|    samples_so_far | 32       |\n",
      "--------------------------------\n"
     ]
    },
    {
     "name": "stderr",
     "output_type": "stream",
     "text": [
      "246batch [00:04, 55.83batch/s]\n",
      "0batch [00:00, ?batch/s]"
     ]
    },
    {
     "name": "stdout",
     "output_type": "stream",
     "text": [
      "---------------------------------\n",
      "| batch_size        | 32        |\n",
      "| bc/               |           |\n",
      "|    batch          | 0         |\n",
      "|    ent_loss       | -4.62e-05 |\n",
      "|    entropy        | 0.0462    |\n",
      "|    epoch          | 0         |\n",
      "|    l2_loss        | 0         |\n",
      "|    l2_norm        | 1.55e+05  |\n",
      "|    loss           | 0.0496    |\n",
      "|    neglogp        | 0.0496    |\n",
      "|    prob_true_act  | 0.966     |\n",
      "|    samples_so_far | 32        |\n",
      "---------------------------------\n"
     ]
    },
    {
     "name": "stderr",
     "output_type": "stream",
     "text": [
      "246batch [00:04, 56.15batch/s]\n",
      "0batch [00:00, ?batch/s]"
     ]
    },
    {
     "name": "stdout",
     "output_type": "stream",
     "text": [
      "---------------------------------\n",
      "| batch_size        | 32        |\n",
      "| bc/               |           |\n",
      "|    batch          | 0         |\n",
      "|    ent_loss       | -2.21e-06 |\n",
      "|    entropy        | 0.00221   |\n",
      "|    epoch          | 0         |\n",
      "|    l2_loss        | 0         |\n",
      "|    l2_norm        | 1.55e+05  |\n",
      "|    loss           | 0.000196  |\n",
      "|    neglogp        | 0.000198  |\n",
      "|    prob_true_act  | 1         |\n",
      "|    samples_so_far | 32        |\n",
      "---------------------------------\n"
     ]
    },
    {
     "name": "stderr",
     "output_type": "stream",
     "text": [
      "246batch [00:04, 55.04batch/s]\n",
      "0batch [00:00, ?batch/s]"
     ]
    },
    {
     "name": "stdout",
     "output_type": "stream",
     "text": [
      "---------------------------------\n",
      "| batch_size        | 32        |\n",
      "| bc/               |           |\n",
      "|    batch          | 0         |\n",
      "|    ent_loss       | -1.91e-05 |\n",
      "|    entropy        | 0.0191    |\n",
      "|    epoch          | 0         |\n",
      "|    l2_loss        | 0         |\n",
      "|    l2_norm        | 1.56e+05  |\n",
      "|    loss           | 0.00844   |\n",
      "|    neglogp        | 0.00846   |\n",
      "|    prob_true_act  | 0.993     |\n",
      "|    samples_so_far | 32        |\n",
      "---------------------------------\n"
     ]
    },
    {
     "name": "stderr",
     "output_type": "stream",
     "text": [
      "246batch [00:04, 55.21batch/s]\n",
      "0batch [00:00, ?batch/s]"
     ]
    },
    {
     "name": "stdout",
     "output_type": "stream",
     "text": [
      "---------------------------------\n",
      "| batch_size        | 32        |\n",
      "| bc/               |           |\n",
      "|    batch          | 0         |\n",
      "|    ent_loss       | -2.43e-05 |\n",
      "|    entropy        | 0.0243    |\n",
      "|    epoch          | 0         |\n",
      "|    l2_loss        | 0         |\n",
      "|    l2_norm        | 1.56e+05  |\n",
      "|    loss           | 0.0259    |\n",
      "|    neglogp        | 0.0259    |\n",
      "|    prob_true_act  | 0.982     |\n",
      "|    samples_so_far | 32        |\n",
      "---------------------------------\n"
     ]
    },
    {
     "name": "stderr",
     "output_type": "stream",
     "text": [
      "246batch [00:04, 56.09batch/s]\n",
      "0batch [00:00, ?batch/s]"
     ]
    },
    {
     "name": "stdout",
     "output_type": "stream",
     "text": [
      "---------------------------------\n",
      "| batch_size        | 32        |\n",
      "| bc/               |           |\n",
      "|    batch          | 0         |\n",
      "|    ent_loss       | -4.71e-05 |\n",
      "|    entropy        | 0.0471    |\n",
      "|    epoch          | 0         |\n",
      "|    l2_loss        | 0         |\n",
      "|    l2_norm        | 1.56e+05  |\n",
      "|    loss           | 0.049     |\n",
      "|    neglogp        | 0.0491    |\n",
      "|    prob_true_act  | 0.975     |\n",
      "|    samples_so_far | 32        |\n",
      "---------------------------------\n"
     ]
    },
    {
     "name": "stderr",
     "output_type": "stream",
     "text": [
      "246batch [00:04, 54.84batch/s]\n",
      "0batch [00:00, ?batch/s]"
     ]
    },
    {
     "name": "stdout",
     "output_type": "stream",
     "text": [
      "---------------------------------\n",
      "| batch_size        | 32        |\n",
      "| bc/               |           |\n",
      "|    batch          | 0         |\n",
      "|    ent_loss       | -7.23e-07 |\n",
      "|    entropy        | 0.000723  |\n",
      "|    epoch          | 0         |\n",
      "|    l2_loss        | 0         |\n",
      "|    l2_norm        | 1.56e+05  |\n",
      "|    loss           | 5.72e-05  |\n",
      "|    neglogp        | 5.79e-05  |\n",
      "|    prob_true_act  | 1         |\n",
      "|    samples_so_far | 32        |\n",
      "---------------------------------\n"
     ]
    },
    {
     "name": "stderr",
     "output_type": "stream",
     "text": [
      "246batch [00:04, 55.93batch/s]\n",
      "0batch [00:00, ?batch/s]"
     ]
    },
    {
     "name": "stdout",
     "output_type": "stream",
     "text": [
      "--------------------------------\n",
      "| batch_size        | 32       |\n",
      "| bc/               |          |\n",
      "|    batch          | 0        |\n",
      "|    ent_loss       | -2.2e-06 |\n",
      "|    entropy        | 0.0022   |\n",
      "|    epoch          | 0        |\n",
      "|    l2_loss        | 0        |\n",
      "|    l2_norm        | 1.56e+05 |\n",
      "|    loss           | 0.000195 |\n",
      "|    neglogp        | 0.000197 |\n",
      "|    prob_true_act  | 1        |\n",
      "|    samples_so_far | 32       |\n",
      "--------------------------------\n"
     ]
    },
    {
     "name": "stderr",
     "output_type": "stream",
     "text": [
      "246batch [00:04, 55.33batch/s]\n",
      "0batch [00:00, ?batch/s]"
     ]
    },
    {
     "name": "stdout",
     "output_type": "stream",
     "text": [
      "---------------------------------\n",
      "| batch_size        | 32        |\n",
      "| bc/               |           |\n",
      "|    batch          | 0         |\n",
      "|    ent_loss       | -1.23e-06 |\n",
      "|    entropy        | 0.00123   |\n",
      "|    epoch          | 0         |\n",
      "|    l2_loss        | 0         |\n",
      "|    l2_norm        | 1.56e+05  |\n",
      "|    loss           | 9.94e-05  |\n",
      "|    neglogp        | 0.000101  |\n",
      "|    prob_true_act  | 1         |\n",
      "|    samples_so_far | 32        |\n",
      "---------------------------------\n"
     ]
    },
    {
     "name": "stderr",
     "output_type": "stream",
     "text": [
      "246batch [00:04, 55.12batch/s]\n",
      "0batch [00:00, ?batch/s]"
     ]
    },
    {
     "name": "stdout",
     "output_type": "stream",
     "text": [
      "---------------------------------\n",
      "| batch_size        | 32        |\n",
      "| bc/               |           |\n",
      "|    batch          | 0         |\n",
      "|    ent_loss       | -1.13e-06 |\n",
      "|    entropy        | 0.00113   |\n",
      "|    epoch          | 0         |\n",
      "|    l2_loss        | 0         |\n",
      "|    l2_norm        | 1.56e+05  |\n",
      "|    loss           | 9.46e-05  |\n",
      "|    neglogp        | 9.57e-05  |\n",
      "|    prob_true_act  | 1         |\n",
      "|    samples_so_far | 32        |\n",
      "---------------------------------\n"
     ]
    },
    {
     "name": "stderr",
     "output_type": "stream",
     "text": [
      "246batch [00:04, 56.10batch/s]\n",
      "0batch [00:00, ?batch/s]"
     ]
    },
    {
     "name": "stdout",
     "output_type": "stream",
     "text": [
      "---------------------------------\n",
      "| batch_size        | 32        |\n",
      "| bc/               |           |\n",
      "|    batch          | 0         |\n",
      "|    ent_loss       | -3.73e-05 |\n",
      "|    entropy        | 0.0373    |\n",
      "|    epoch          | 0         |\n",
      "|    l2_loss        | 0         |\n",
      "|    l2_norm        | 1.56e+05  |\n",
      "|    loss           | 0.0463    |\n",
      "|    neglogp        | 0.0463    |\n",
      "|    prob_true_act  | 0.976     |\n",
      "|    samples_so_far | 32        |\n",
      "---------------------------------\n"
     ]
    },
    {
     "name": "stderr",
     "output_type": "stream",
     "text": [
      "246batch [00:04, 55.62batch/s]\n",
      "0batch [00:00, ?batch/s]"
     ]
    },
    {
     "name": "stdout",
     "output_type": "stream",
     "text": [
      "---------------------------------\n",
      "| batch_size        | 32        |\n",
      "| bc/               |           |\n",
      "|    batch          | 0         |\n",
      "|    ent_loss       | -7.37e-05 |\n",
      "|    entropy        | 0.0737    |\n",
      "|    epoch          | 0         |\n",
      "|    l2_loss        | 0         |\n",
      "|    l2_norm        | 1.57e+05  |\n",
      "|    loss           | 0.0541    |\n",
      "|    neglogp        | 0.0541    |\n",
      "|    prob_true_act  | 0.964     |\n",
      "|    samples_so_far | 32        |\n",
      "---------------------------------\n"
     ]
    },
    {
     "name": "stderr",
     "output_type": "stream",
     "text": [
      "246batch [00:04, 54.73batch/s]\n",
      "0batch [00:00, ?batch/s]"
     ]
    },
    {
     "name": "stdout",
     "output_type": "stream",
     "text": [
      "--------------------------------\n",
      "| batch_size        | 32       |\n",
      "| bc/               |          |\n",
      "|    batch          | 0        |\n",
      "|    ent_loss       | -3.2e-05 |\n",
      "|    entropy        | 0.032    |\n",
      "|    epoch          | 0        |\n",
      "|    l2_loss        | 0        |\n",
      "|    l2_norm        | 1.57e+05 |\n",
      "|    loss           | 0.0143   |\n",
      "|    neglogp        | 0.0144   |\n",
      "|    prob_true_act  | 0.988    |\n",
      "|    samples_so_far | 32       |\n",
      "--------------------------------\n"
     ]
    },
    {
     "name": "stderr",
     "output_type": "stream",
     "text": [
      "246batch [00:04, 56.19batch/s]\n",
      "0batch [00:00, ?batch/s]"
     ]
    },
    {
     "name": "stdout",
     "output_type": "stream",
     "text": [
      "---------------------------------\n",
      "| batch_size        | 32        |\n",
      "| bc/               |           |\n",
      "|    batch          | 0         |\n",
      "|    ent_loss       | -0.000138 |\n",
      "|    entropy        | 0.138     |\n",
      "|    epoch          | 0         |\n",
      "|    l2_loss        | 0         |\n",
      "|    l2_norm        | 1.57e+05  |\n",
      "|    loss           | 0.071     |\n",
      "|    neglogp        | 0.0711    |\n",
      "|    prob_true_act  | 0.956     |\n",
      "|    samples_so_far | 32        |\n",
      "---------------------------------\n"
     ]
    },
    {
     "name": "stderr",
     "output_type": "stream",
     "text": [
      "246batch [00:04, 56.03batch/s]\n",
      "0batch [00:00, ?batch/s]"
     ]
    },
    {
     "name": "stdout",
     "output_type": "stream",
     "text": [
      "---------------------------------\n",
      "| batch_size        | 32        |\n",
      "| bc/               |           |\n",
      "|    batch          | 0         |\n",
      "|    ent_loss       | -3.74e-05 |\n",
      "|    entropy        | 0.0374    |\n",
      "|    epoch          | 0         |\n",
      "|    l2_loss        | 0         |\n",
      "|    l2_norm        | 1.56e+05  |\n",
      "|    loss           | 0.0154    |\n",
      "|    neglogp        | 0.0155    |\n",
      "|    prob_true_act  | 0.987     |\n",
      "|    samples_so_far | 32        |\n",
      "---------------------------------\n"
     ]
    },
    {
     "name": "stderr",
     "output_type": "stream",
     "text": [
      "246batch [00:04, 55.11batch/s]\n",
      "0batch [00:00, ?batch/s]"
     ]
    },
    {
     "name": "stdout",
     "output_type": "stream",
     "text": [
      "---------------------------------\n",
      "| batch_size        | 32        |\n",
      "| bc/               |           |\n",
      "|    batch          | 0         |\n",
      "|    ent_loss       | -2.72e-05 |\n",
      "|    entropy        | 0.0272    |\n",
      "|    epoch          | 0         |\n",
      "|    l2_loss        | 0         |\n",
      "|    l2_norm        | 1.57e+05  |\n",
      "|    loss           | 0.0184    |\n",
      "|    neglogp        | 0.0184    |\n",
      "|    prob_true_act  | 0.986     |\n",
      "|    samples_so_far | 32        |\n",
      "---------------------------------\n"
     ]
    },
    {
     "name": "stderr",
     "output_type": "stream",
     "text": [
      "246batch [00:04, 55.51batch/s]\n",
      "0batch [00:00, ?batch/s]"
     ]
    },
    {
     "name": "stdout",
     "output_type": "stream",
     "text": [
      "---------------------------------\n",
      "| batch_size        | 32        |\n",
      "| bc/               |           |\n",
      "|    batch          | 0         |\n",
      "|    ent_loss       | -2.37e-06 |\n",
      "|    entropy        | 0.00237   |\n",
      "|    epoch          | 0         |\n",
      "|    l2_loss        | 0         |\n",
      "|    l2_norm        | 1.57e+05  |\n",
      "|    loss           | 0.000207  |\n",
      "|    neglogp        | 0.00021   |\n",
      "|    prob_true_act  | 1         |\n",
      "|    samples_so_far | 32        |\n",
      "---------------------------------\n"
     ]
    },
    {
     "name": "stderr",
     "output_type": "stream",
     "text": [
      "246batch [00:04, 55.96batch/s]\n",
      "0batch [00:00, ?batch/s]"
     ]
    },
    {
     "name": "stdout",
     "output_type": "stream",
     "text": [
      "---------------------------------\n",
      "| batch_size        | 32        |\n",
      "| bc/               |           |\n",
      "|    batch          | 0         |\n",
      "|    ent_loss       | -3.84e-06 |\n",
      "|    entropy        | 0.00384   |\n",
      "|    epoch          | 0         |\n",
      "|    l2_loss        | 0         |\n",
      "|    l2_norm        | 1.57e+05  |\n",
      "|    loss           | 0.000376  |\n",
      "|    neglogp        | 0.00038   |\n",
      "|    prob_true_act  | 1         |\n",
      "|    samples_so_far | 32        |\n",
      "---------------------------------\n"
     ]
    },
    {
     "name": "stderr",
     "output_type": "stream",
     "text": [
      "246batch [00:04, 54.94batch/s]\n",
      "0batch [00:00, ?batch/s]"
     ]
    },
    {
     "name": "stdout",
     "output_type": "stream",
     "text": [
      "---------------------------------\n",
      "| batch_size        | 32        |\n",
      "| bc/               |           |\n",
      "|    batch          | 0         |\n",
      "|    ent_loss       | -4.56e-05 |\n",
      "|    entropy        | 0.0456    |\n",
      "|    epoch          | 0         |\n",
      "|    l2_loss        | 0         |\n",
      "|    l2_norm        | 1.57e+05  |\n",
      "|    loss           | 0.049     |\n",
      "|    neglogp        | 0.0491    |\n",
      "|    prob_true_act  | 0.975     |\n",
      "|    samples_so_far | 32        |\n",
      "---------------------------------\n"
     ]
    },
    {
     "name": "stderr",
     "output_type": "stream",
     "text": [
      "246batch [00:04, 55.40batch/s]\n",
      "0batch [00:00, ?batch/s]"
     ]
    },
    {
     "name": "stdout",
     "output_type": "stream",
     "text": [
      "--------------------------------\n",
      "| batch_size        | 32       |\n",
      "| bc/               |          |\n",
      "|    batch          | 0        |\n",
      "|    ent_loss       | -1.8e-06 |\n",
      "|    entropy        | 0.0018   |\n",
      "|    epoch          | 0        |\n",
      "|    l2_loss        | 0        |\n",
      "|    l2_norm        | 1.57e+05 |\n",
      "|    loss           | 0.000177 |\n",
      "|    neglogp        | 0.000178 |\n",
      "|    prob_true_act  | 1        |\n",
      "|    samples_so_far | 32       |\n",
      "--------------------------------\n"
     ]
    },
    {
     "name": "stderr",
     "output_type": "stream",
     "text": [
      "246batch [00:04, 56.23batch/s]\n",
      "0batch [00:00, ?batch/s]"
     ]
    },
    {
     "name": "stdout",
     "output_type": "stream",
     "text": [
      "---------------------------------\n",
      "| batch_size        | 32        |\n",
      "| bc/               |           |\n",
      "|    batch          | 0         |\n",
      "|    ent_loss       | -5.17e-05 |\n",
      "|    entropy        | 0.0517    |\n",
      "|    epoch          | 0         |\n",
      "|    l2_loss        | 0         |\n",
      "|    l2_norm        | 1.57e+05  |\n",
      "|    loss           | 0.0236    |\n",
      "|    neglogp        | 0.0237    |\n",
      "|    prob_true_act  | 0.981     |\n",
      "|    samples_so_far | 32        |\n",
      "---------------------------------\n"
     ]
    },
    {
     "name": "stderr",
     "output_type": "stream",
     "text": [
      "246batch [00:04, 55.02batch/s]\n",
      "0batch [00:00, ?batch/s]"
     ]
    },
    {
     "name": "stdout",
     "output_type": "stream",
     "text": [
      "---------------------------------\n",
      "| batch_size        | 32        |\n",
      "| bc/               |           |\n",
      "|    batch          | 0         |\n",
      "|    ent_loss       | -1.58e-06 |\n",
      "|    entropy        | 0.00158   |\n",
      "|    epoch          | 0         |\n",
      "|    l2_loss        | 0         |\n",
      "|    l2_norm        | 1.57e+05  |\n",
      "|    loss           | 0.000136  |\n",
      "|    neglogp        | 0.000138  |\n",
      "|    prob_true_act  | 1         |\n",
      "|    samples_so_far | 32        |\n",
      "---------------------------------\n"
     ]
    },
    {
     "name": "stderr",
     "output_type": "stream",
     "text": [
      "246batch [00:04, 56.29batch/s]\n",
      "0batch [00:00, ?batch/s]"
     ]
    },
    {
     "name": "stdout",
     "output_type": "stream",
     "text": [
      "---------------------------------\n",
      "| batch_size        | 32        |\n",
      "| bc/               |           |\n",
      "|    batch          | 0         |\n",
      "|    ent_loss       | -1.89e-05 |\n",
      "|    entropy        | 0.0189    |\n",
      "|    epoch          | 0         |\n",
      "|    l2_loss        | 0         |\n",
      "|    l2_norm        | 1.57e+05  |\n",
      "|    loss           | 0.00683   |\n",
      "|    neglogp        | 0.00685   |\n",
      "|    prob_true_act  | 0.994     |\n",
      "|    samples_so_far | 32        |\n",
      "---------------------------------\n"
     ]
    },
    {
     "name": "stderr",
     "output_type": "stream",
     "text": [
      "246batch [00:04, 55.54batch/s]\n",
      "0batch [00:00, ?batch/s]"
     ]
    },
    {
     "name": "stdout",
     "output_type": "stream",
     "text": [
      "---------------------------------\n",
      "| batch_size        | 32        |\n",
      "| bc/               |           |\n",
      "|    batch          | 0         |\n",
      "|    ent_loss       | -1.28e-06 |\n",
      "|    entropy        | 0.00128   |\n",
      "|    epoch          | 0         |\n",
      "|    l2_loss        | 0         |\n",
      "|    l2_norm        | 1.57e+05  |\n",
      "|    loss           | 0.000112  |\n",
      "|    neglogp        | 0.000113  |\n",
      "|    prob_true_act  | 1         |\n",
      "|    samples_so_far | 32        |\n",
      "---------------------------------\n"
     ]
    },
    {
     "name": "stderr",
     "output_type": "stream",
     "text": [
      "246batch [00:04, 55.33batch/s]\n",
      "0batch [00:00, ?batch/s]"
     ]
    },
    {
     "name": "stdout",
     "output_type": "stream",
     "text": [
      "---------------------------------\n",
      "| batch_size        | 32        |\n",
      "| bc/               |           |\n",
      "|    batch          | 0         |\n",
      "|    ent_loss       | -2.16e-05 |\n",
      "|    entropy        | 0.0216    |\n",
      "|    epoch          | 0         |\n",
      "|    l2_loss        | 0         |\n",
      "|    l2_norm        | 1.57e+05  |\n",
      "|    loss           | 0.00896   |\n",
      "|    neglogp        | 0.00899   |\n",
      "|    prob_true_act  | 0.992     |\n",
      "|    samples_so_far | 32        |\n",
      "---------------------------------\n"
     ]
    },
    {
     "name": "stderr",
     "output_type": "stream",
     "text": [
      "246batch [00:04, 55.89batch/s]\n",
      "0batch [00:00, ?batch/s]"
     ]
    },
    {
     "name": "stdout",
     "output_type": "stream",
     "text": [
      "---------------------------------\n",
      "| batch_size        | 32        |\n",
      "| bc/               |           |\n",
      "|    batch          | 0         |\n",
      "|    ent_loss       | -1.17e-06 |\n",
      "|    entropy        | 0.00117   |\n",
      "|    epoch          | 0         |\n",
      "|    l2_loss        | 0         |\n",
      "|    l2_norm        | 1.58e+05  |\n",
      "|    loss           | 0.000101  |\n",
      "|    neglogp        | 0.000102  |\n",
      "|    prob_true_act  | 1         |\n",
      "|    samples_so_far | 32        |\n",
      "---------------------------------\n"
     ]
    },
    {
     "name": "stderr",
     "output_type": "stream",
     "text": [
      "246batch [00:04, 55.55batch/s]\n",
      "0batch [00:00, ?batch/s]"
     ]
    },
    {
     "name": "stdout",
     "output_type": "stream",
     "text": [
      "---------------------------------\n",
      "| batch_size        | 32        |\n",
      "| bc/               |           |\n",
      "|    batch          | 0         |\n",
      "|    ent_loss       | -1.61e-06 |\n",
      "|    entropy        | 0.00161   |\n",
      "|    epoch          | 0         |\n",
      "|    l2_loss        | 0         |\n",
      "|    l2_norm        | 1.58e+05  |\n",
      "|    loss           | 0.000134  |\n",
      "|    neglogp        | 0.000136  |\n",
      "|    prob_true_act  | 1         |\n",
      "|    samples_so_far | 32        |\n",
      "---------------------------------\n"
     ]
    },
    {
     "name": "stderr",
     "output_type": "stream",
     "text": [
      "246batch [00:04, 54.81batch/s]\n",
      "0batch [00:00, ?batch/s]"
     ]
    },
    {
     "name": "stdout",
     "output_type": "stream",
     "text": [
      "---------------------------------\n",
      "| batch_size        | 32        |\n",
      "| bc/               |           |\n",
      "|    batch          | 0         |\n",
      "|    ent_loss       | -2.55e-06 |\n",
      "|    entropy        | 0.00255   |\n",
      "|    epoch          | 0         |\n",
      "|    l2_loss        | 0         |\n",
      "|    l2_norm        | 1.58e+05  |\n",
      "|    loss           | 0.000312  |\n",
      "|    neglogp        | 0.000314  |\n",
      "|    prob_true_act  | 1         |\n",
      "|    samples_so_far | 32        |\n",
      "---------------------------------\n"
     ]
    },
    {
     "name": "stderr",
     "output_type": "stream",
     "text": [
      "246batch [00:04, 53.50batch/s]\n",
      "0batch [00:00, ?batch/s]"
     ]
    },
    {
     "name": "stdout",
     "output_type": "stream",
     "text": [
      "---------------------------------\n",
      "| batch_size        | 32        |\n",
      "| bc/               |           |\n",
      "|    batch          | 0         |\n",
      "|    ent_loss       | -6.41e-05 |\n",
      "|    entropy        | 0.0641    |\n",
      "|    epoch          | 0         |\n",
      "|    l2_loss        | 0         |\n",
      "|    l2_norm        | 1.58e+05  |\n",
      "|    loss           | 0.0578    |\n",
      "|    neglogp        | 0.0579    |\n",
      "|    prob_true_act  | 0.963     |\n",
      "|    samples_so_far | 32        |\n",
      "---------------------------------\n"
     ]
    },
    {
     "name": "stderr",
     "output_type": "stream",
     "text": [
      "246batch [00:04, 56.19batch/s]\n",
      "0batch [00:00, ?batch/s]"
     ]
    },
    {
     "name": "stdout",
     "output_type": "stream",
     "text": [
      "---------------------------------\n",
      "| batch_size        | 32        |\n",
      "| bc/               |           |\n",
      "|    batch          | 0         |\n",
      "|    ent_loss       | -4.45e-05 |\n",
      "|    entropy        | 0.0445    |\n",
      "|    epoch          | 0         |\n",
      "|    l2_loss        | 0         |\n",
      "|    l2_norm        | 1.58e+05  |\n",
      "|    loss           | 0.037     |\n",
      "|    neglogp        | 0.0371    |\n",
      "|    prob_true_act  | 0.973     |\n",
      "|    samples_so_far | 32        |\n",
      "---------------------------------\n"
     ]
    },
    {
     "name": "stderr",
     "output_type": "stream",
     "text": [
      "246batch [00:04, 54.92batch/s]\n",
      "0batch [00:00, ?batch/s]"
     ]
    },
    {
     "name": "stdout",
     "output_type": "stream",
     "text": [
      "--------------------------------\n",
      "| batch_size        | 32       |\n",
      "| bc/               |          |\n",
      "|    batch          | 0        |\n",
      "|    ent_loss       | -6e-07   |\n",
      "|    entropy        | 0.0006   |\n",
      "|    epoch          | 0        |\n",
      "|    l2_loss        | 0        |\n",
      "|    l2_norm        | 1.58e+05 |\n",
      "|    loss           | 4.77e-05 |\n",
      "|    neglogp        | 4.83e-05 |\n",
      "|    prob_true_act  | 1        |\n",
      "|    samples_so_far | 32       |\n",
      "--------------------------------\n"
     ]
    },
    {
     "name": "stderr",
     "output_type": "stream",
     "text": [
      "246batch [00:04, 56.18batch/s]\n",
      "0batch [00:00, ?batch/s]"
     ]
    },
    {
     "name": "stdout",
     "output_type": "stream",
     "text": [
      "---------------------------------\n",
      "| batch_size        | 32        |\n",
      "| bc/               |           |\n",
      "|    batch          | 0         |\n",
      "|    ent_loss       | -1.53e-05 |\n",
      "|    entropy        | 0.0153    |\n",
      "|    epoch          | 0         |\n",
      "|    l2_loss        | 0         |\n",
      "|    l2_norm        | 1.58e+05  |\n",
      "|    loss           | 0.0621    |\n",
      "|    neglogp        | 0.0622    |\n",
      "|    prob_true_act  | 0.973     |\n",
      "|    samples_so_far | 32        |\n",
      "---------------------------------\n"
     ]
    },
    {
     "name": "stderr",
     "output_type": "stream",
     "text": [
      "246batch [00:04, 56.08batch/s]\n",
      "0batch [00:00, ?batch/s]"
     ]
    },
    {
     "name": "stdout",
     "output_type": "stream",
     "text": [
      "---------------------------------\n",
      "| batch_size        | 32        |\n",
      "| bc/               |           |\n",
      "|    batch          | 0         |\n",
      "|    ent_loss       | -6.38e-06 |\n",
      "|    entropy        | 0.00638   |\n",
      "|    epoch          | 0         |\n",
      "|    l2_loss        | 0         |\n",
      "|    l2_norm        | 1.58e+05  |\n",
      "|    loss           | 0.000783  |\n",
      "|    neglogp        | 0.000789  |\n",
      "|    prob_true_act  | 0.999     |\n",
      "|    samples_so_far | 32        |\n",
      "---------------------------------\n"
     ]
    },
    {
     "name": "stderr",
     "output_type": "stream",
     "text": [
      "246batch [00:04, 54.69batch/s]\n",
      "0batch [00:00, ?batch/s]"
     ]
    },
    {
     "name": "stdout",
     "output_type": "stream",
     "text": [
      "---------------------------------\n",
      "| batch_size        | 32        |\n",
      "| bc/               |           |\n",
      "|    batch          | 0         |\n",
      "|    ent_loss       | -4.44e-05 |\n",
      "|    entropy        | 0.0444    |\n",
      "|    epoch          | 0         |\n",
      "|    l2_loss        | 0         |\n",
      "|    l2_norm        | 1.58e+05  |\n",
      "|    loss           | 0.0314    |\n",
      "|    neglogp        | 0.0314    |\n",
      "|    prob_true_act  | 0.976     |\n",
      "|    samples_so_far | 32        |\n",
      "---------------------------------\n"
     ]
    },
    {
     "name": "stderr",
     "output_type": "stream",
     "text": [
      "246batch [00:04, 55.45batch/s]\n",
      "0batch [00:00, ?batch/s]"
     ]
    },
    {
     "name": "stdout",
     "output_type": "stream",
     "text": [
      "---------------------------------\n",
      "| batch_size        | 32        |\n",
      "| bc/               |           |\n",
      "|    batch          | 0         |\n",
      "|    ent_loss       | -1.56e-06 |\n",
      "|    entropy        | 0.00156   |\n",
      "|    epoch          | 0         |\n",
      "|    l2_loss        | 0         |\n",
      "|    l2_norm        | 1.58e+05  |\n",
      "|    loss           | 0.00015   |\n",
      "|    neglogp        | 0.000152  |\n",
      "|    prob_true_act  | 1         |\n",
      "|    samples_so_far | 32        |\n",
      "---------------------------------\n"
     ]
    },
    {
     "name": "stderr",
     "output_type": "stream",
     "text": [
      "246batch [00:04, 55.74batch/s]\n",
      "0batch [00:00, ?batch/s]"
     ]
    },
    {
     "name": "stdout",
     "output_type": "stream",
     "text": [
      "---------------------------------\n",
      "| batch_size        | 32        |\n",
      "| bc/               |           |\n",
      "|    batch          | 0         |\n",
      "|    ent_loss       | -3.28e-05 |\n",
      "|    entropy        | 0.0328    |\n",
      "|    epoch          | 0         |\n",
      "|    l2_loss        | 0         |\n",
      "|    l2_norm        | 1.58e+05  |\n",
      "|    loss           | 0.0444    |\n",
      "|    neglogp        | 0.0445    |\n",
      "|    prob_true_act  | 0.976     |\n",
      "|    samples_so_far | 32        |\n",
      "---------------------------------\n"
     ]
    },
    {
     "name": "stderr",
     "output_type": "stream",
     "text": [
      "246batch [00:04, 55.21batch/s]\n",
      "0batch [00:00, ?batch/s]"
     ]
    },
    {
     "name": "stdout",
     "output_type": "stream",
     "text": [
      "---------------------------------\n",
      "| batch_size        | 32        |\n",
      "| bc/               |           |\n",
      "|    batch          | 0         |\n",
      "|    ent_loss       | -3.73e-06 |\n",
      "|    entropy        | 0.00373   |\n",
      "|    epoch          | 0         |\n",
      "|    l2_loss        | 0         |\n",
      "|    l2_norm        | 1.58e+05  |\n",
      "|    loss           | 0.000374  |\n",
      "|    neglogp        | 0.000377  |\n",
      "|    prob_true_act  | 1         |\n",
      "|    samples_so_far | 32        |\n",
      "---------------------------------\n"
     ]
    },
    {
     "name": "stderr",
     "output_type": "stream",
     "text": [
      "246batch [00:04, 56.11batch/s]\n",
      "0batch [00:00, ?batch/s]"
     ]
    },
    {
     "name": "stdout",
     "output_type": "stream",
     "text": [
      "---------------------------------\n",
      "| batch_size        | 32        |\n",
      "| bc/               |           |\n",
      "|    batch          | 0         |\n",
      "|    ent_loss       | -2.74e-06 |\n",
      "|    entropy        | 0.00274   |\n",
      "|    epoch          | 0         |\n",
      "|    l2_loss        | 0         |\n",
      "|    l2_norm        | 1.58e+05  |\n",
      "|    loss           | 0.000265  |\n",
      "|    neglogp        | 0.000268  |\n",
      "|    prob_true_act  | 1         |\n",
      "|    samples_so_far | 32        |\n",
      "---------------------------------\n"
     ]
    },
    {
     "name": "stderr",
     "output_type": "stream",
     "text": [
      "246batch [00:04, 56.33batch/s]\n",
      "0batch [00:00, ?batch/s]"
     ]
    },
    {
     "name": "stdout",
     "output_type": "stream",
     "text": [
      "---------------------------------\n",
      "| batch_size        | 32        |\n",
      "| bc/               |           |\n",
      "|    batch          | 0         |\n",
      "|    ent_loss       | -2.53e-06 |\n",
      "|    entropy        | 0.00253   |\n",
      "|    epoch          | 0         |\n",
      "|    l2_loss        | 0         |\n",
      "|    l2_norm        | 1.58e+05  |\n",
      "|    loss           | 0.000242  |\n",
      "|    neglogp        | 0.000245  |\n",
      "|    prob_true_act  | 1         |\n",
      "|    samples_so_far | 32        |\n",
      "---------------------------------\n"
     ]
    },
    {
     "name": "stderr",
     "output_type": "stream",
     "text": [
      "246batch [00:04, 54.77batch/s]\n",
      "0batch [00:00, ?batch/s]"
     ]
    },
    {
     "name": "stdout",
     "output_type": "stream",
     "text": [
      "---------------------------------\n",
      "| batch_size        | 32        |\n",
      "| bc/               |           |\n",
      "|    batch          | 0         |\n",
      "|    ent_loss       | -3.57e-05 |\n",
      "|    entropy        | 0.0357    |\n",
      "|    epoch          | 0         |\n",
      "|    l2_loss        | 0         |\n",
      "|    l2_norm        | 1.58e+05  |\n",
      "|    loss           | 0.0399    |\n",
      "|    neglogp        | 0.0399    |\n",
      "|    prob_true_act  | 0.977     |\n",
      "|    samples_so_far | 32        |\n",
      "---------------------------------\n"
     ]
    },
    {
     "name": "stderr",
     "output_type": "stream",
     "text": [
      "246batch [00:04, 56.02batch/s]\n",
      "0batch [00:00, ?batch/s]"
     ]
    },
    {
     "name": "stdout",
     "output_type": "stream",
     "text": [
      "---------------------------------\n",
      "| batch_size        | 32        |\n",
      "| bc/               |           |\n",
      "|    batch          | 0         |\n",
      "|    ent_loss       | -2.26e-05 |\n",
      "|    entropy        | 0.0226    |\n",
      "|    epoch          | 0         |\n",
      "|    l2_loss        | 0         |\n",
      "|    l2_norm        | 1.58e+05  |\n",
      "|    loss           | 0.015     |\n",
      "|    neglogp        | 0.015     |\n",
      "|    prob_true_act  | 0.988     |\n",
      "|    samples_so_far | 32        |\n",
      "---------------------------------\n"
     ]
    },
    {
     "name": "stderr",
     "output_type": "stream",
     "text": [
      "246batch [00:04, 56.45batch/s]\n",
      "0batch [00:00, ?batch/s]"
     ]
    },
    {
     "name": "stdout",
     "output_type": "stream",
     "text": [
      "---------------------------------\n",
      "| batch_size        | 32        |\n",
      "| bc/               |           |\n",
      "|    batch          | 0         |\n",
      "|    ent_loss       | -3.23e-05 |\n",
      "|    entropy        | 0.0323    |\n",
      "|    epoch          | 0         |\n",
      "|    l2_loss        | 0         |\n",
      "|    l2_norm        | 1.58e+05  |\n",
      "|    loss           | 0.0154    |\n",
      "|    neglogp        | 0.0154    |\n",
      "|    prob_true_act  | 0.988     |\n",
      "|    samples_so_far | 32        |\n",
      "---------------------------------\n"
     ]
    },
    {
     "name": "stderr",
     "output_type": "stream",
     "text": [
      "246batch [00:04, 54.37batch/s]\n"
     ]
    },
    {
     "name": "stdout",
     "output_type": "stream",
     "text": [
      "Checkpoint saved at checkpoints\\bc_model_epoch_500.zip\n"
     ]
    },
    {
     "name": "stderr",
     "output_type": "stream",
     "text": [
      "0batch [00:00, ?batch/s]"
     ]
    },
    {
     "name": "stdout",
     "output_type": "stream",
     "text": [
      "---------------------------------\n",
      "| batch_size        | 32        |\n",
      "| bc/               |           |\n",
      "|    batch          | 0         |\n",
      "|    ent_loss       | -2.52e-06 |\n",
      "|    entropy        | 0.00252   |\n",
      "|    epoch          | 0         |\n",
      "|    l2_loss        | 0         |\n",
      "|    l2_norm        | 1.59e+05  |\n",
      "|    loss           | 0.000243  |\n",
      "|    neglogp        | 0.000245  |\n",
      "|    prob_true_act  | 1         |\n",
      "|    samples_so_far | 32        |\n",
      "---------------------------------\n"
     ]
    },
    {
     "name": "stderr",
     "output_type": "stream",
     "text": [
      "246batch [00:04, 54.51batch/s]\n",
      "0batch [00:00, ?batch/s]"
     ]
    },
    {
     "name": "stdout",
     "output_type": "stream",
     "text": [
      "---------------------------------\n",
      "| batch_size        | 32        |\n",
      "| bc/               |           |\n",
      "|    batch          | 0         |\n",
      "|    ent_loss       | -3.58e-05 |\n",
      "|    entropy        | 0.0358    |\n",
      "|    epoch          | 0         |\n",
      "|    l2_loss        | 0         |\n",
      "|    l2_norm        | 1.59e+05  |\n",
      "|    loss           | 0.0362    |\n",
      "|    neglogp        | 0.0362    |\n",
      "|    prob_true_act  | 0.978     |\n",
      "|    samples_so_far | 32        |\n",
      "---------------------------------\n"
     ]
    },
    {
     "name": "stderr",
     "output_type": "stream",
     "text": [
      "246batch [00:04, 55.06batch/s]\n",
      "0batch [00:00, ?batch/s]"
     ]
    },
    {
     "name": "stdout",
     "output_type": "stream",
     "text": [
      "---------------------------------\n",
      "| batch_size        | 32        |\n",
      "| bc/               |           |\n",
      "|    batch          | 0         |\n",
      "|    ent_loss       | -6.61e-05 |\n",
      "|    entropy        | 0.0661    |\n",
      "|    epoch          | 0         |\n",
      "|    l2_loss        | 0         |\n",
      "|    l2_norm        | 1.59e+05  |\n",
      "|    loss           | 0.0328    |\n",
      "|    neglogp        | 0.0328    |\n",
      "|    prob_true_act  | 0.975     |\n",
      "|    samples_so_far | 32        |\n",
      "---------------------------------\n"
     ]
    },
    {
     "name": "stderr",
     "output_type": "stream",
     "text": [
      "246batch [00:04, 56.39batch/s]\n",
      "0batch [00:00, ?batch/s]"
     ]
    },
    {
     "name": "stdout",
     "output_type": "stream",
     "text": [
      "---------------------------------\n",
      "| batch_size        | 32        |\n",
      "| bc/               |           |\n",
      "|    batch          | 0         |\n",
      "|    ent_loss       | -1.58e-05 |\n",
      "|    entropy        | 0.0158    |\n",
      "|    epoch          | 0         |\n",
      "|    l2_loss        | 0         |\n",
      "|    l2_norm        | 1.59e+05  |\n",
      "|    loss           | 0.00547   |\n",
      "|    neglogp        | 0.00548   |\n",
      "|    prob_true_act  | 0.995     |\n",
      "|    samples_so_far | 32        |\n",
      "---------------------------------\n"
     ]
    },
    {
     "name": "stderr",
     "output_type": "stream",
     "text": [
      "246batch [00:04, 56.10batch/s]\n",
      "0batch [00:00, ?batch/s]"
     ]
    },
    {
     "name": "stdout",
     "output_type": "stream",
     "text": [
      "---------------------------------\n",
      "| batch_size        | 32        |\n",
      "| bc/               |           |\n",
      "|    batch          | 0         |\n",
      "|    ent_loss       | -1.49e-06 |\n",
      "|    entropy        | 0.00149   |\n",
      "|    epoch          | 0         |\n",
      "|    l2_loss        | 0         |\n",
      "|    l2_norm        | 1.59e+05  |\n",
      "|    loss           | 0.000125  |\n",
      "|    neglogp        | 0.000127  |\n",
      "|    prob_true_act  | 1         |\n",
      "|    samples_so_far | 32        |\n",
      "---------------------------------\n"
     ]
    },
    {
     "name": "stderr",
     "output_type": "stream",
     "text": [
      "246batch [00:04, 54.65batch/s]\n",
      "0batch [00:00, ?batch/s]"
     ]
    },
    {
     "name": "stdout",
     "output_type": "stream",
     "text": [
      "---------------------------------\n",
      "| batch_size        | 32        |\n",
      "| bc/               |           |\n",
      "|    batch          | 0         |\n",
      "|    ent_loss       | -3.81e-05 |\n",
      "|    entropy        | 0.0381    |\n",
      "|    epoch          | 0         |\n",
      "|    l2_loss        | 0         |\n",
      "|    l2_norm        | 1.59e+05  |\n",
      "|    loss           | 0.0339    |\n",
      "|    neglogp        | 0.0339    |\n",
      "|    prob_true_act  | 0.979     |\n",
      "|    samples_so_far | 32        |\n",
      "---------------------------------\n"
     ]
    },
    {
     "name": "stderr",
     "output_type": "stream",
     "text": [
      "246batch [00:04, 56.17batch/s]\n",
      "0batch [00:00, ?batch/s]"
     ]
    },
    {
     "name": "stdout",
     "output_type": "stream",
     "text": [
      "---------------------------------\n",
      "| batch_size        | 32        |\n",
      "| bc/               |           |\n",
      "|    batch          | 0         |\n",
      "|    ent_loss       | -1.97e-06 |\n",
      "|    entropy        | 0.00197   |\n",
      "|    epoch          | 0         |\n",
      "|    l2_loss        | 0         |\n",
      "|    l2_norm        | 1.59e+05  |\n",
      "|    loss           | 0.000186  |\n",
      "|    neglogp        | 0.000188  |\n",
      "|    prob_true_act  | 1         |\n",
      "|    samples_so_far | 32        |\n",
      "---------------------------------\n"
     ]
    },
    {
     "name": "stderr",
     "output_type": "stream",
     "text": [
      "246batch [00:04, 55.63batch/s]\n",
      "0batch [00:00, ?batch/s]"
     ]
    },
    {
     "name": "stdout",
     "output_type": "stream",
     "text": [
      "---------------------------------\n",
      "| batch_size        | 32        |\n",
      "| bc/               |           |\n",
      "|    batch          | 0         |\n",
      "|    ent_loss       | -3.83e-05 |\n",
      "|    entropy        | 0.0383    |\n",
      "|    epoch          | 0         |\n",
      "|    l2_loss        | 0         |\n",
      "|    l2_norm        | 1.59e+05  |\n",
      "|    loss           | 0.0246    |\n",
      "|    neglogp        | 0.0247    |\n",
      "|    prob_true_act  | 0.983     |\n",
      "|    samples_so_far | 32        |\n",
      "---------------------------------\n"
     ]
    },
    {
     "name": "stderr",
     "output_type": "stream",
     "text": [
      "246batch [00:04, 54.37batch/s]\n",
      "0batch [00:00, ?batch/s]"
     ]
    },
    {
     "name": "stdout",
     "output_type": "stream",
     "text": [
      "---------------------------------\n",
      "| batch_size        | 32        |\n",
      "| bc/               |           |\n",
      "|    batch          | 0         |\n",
      "|    ent_loss       | -1.03e-06 |\n",
      "|    entropy        | 0.00103   |\n",
      "|    epoch          | 0         |\n",
      "|    l2_loss        | 0         |\n",
      "|    l2_norm        | 1.59e+05  |\n",
      "|    loss           | 8.35e-05  |\n",
      "|    neglogp        | 8.46e-05  |\n",
      "|    prob_true_act  | 1         |\n",
      "|    samples_so_far | 32        |\n",
      "---------------------------------\n"
     ]
    },
    {
     "name": "stderr",
     "output_type": "stream",
     "text": [
      "246batch [00:04, 56.44batch/s]\n",
      "0batch [00:00, ?batch/s]"
     ]
    },
    {
     "name": "stdout",
     "output_type": "stream",
     "text": [
      "---------------------------------\n",
      "| batch_size        | 32        |\n",
      "| bc/               |           |\n",
      "|    batch          | 0         |\n",
      "|    ent_loss       | -8.01e-05 |\n",
      "|    entropy        | 0.0801    |\n",
      "|    epoch          | 0         |\n",
      "|    l2_loss        | 0         |\n",
      "|    l2_norm        | 1.6e+05   |\n",
      "|    loss           | 0.0745    |\n",
      "|    neglogp        | 0.0746    |\n",
      "|    prob_true_act  | 0.956     |\n",
      "|    samples_so_far | 32        |\n",
      "---------------------------------\n"
     ]
    },
    {
     "name": "stderr",
     "output_type": "stream",
     "text": [
      "246batch [00:04, 56.44batch/s]\n",
      "0batch [00:00, ?batch/s]"
     ]
    },
    {
     "name": "stdout",
     "output_type": "stream",
     "text": [
      "---------------------------------\n",
      "| batch_size        | 32        |\n",
      "| bc/               |           |\n",
      "|    batch          | 0         |\n",
      "|    ent_loss       | -2.52e-05 |\n",
      "|    entropy        | 0.0252    |\n",
      "|    epoch          | 0         |\n",
      "|    l2_loss        | 0         |\n",
      "|    l2_norm        | 1.6e+05   |\n",
      "|    loss           | 0.0175    |\n",
      "|    neglogp        | 0.0175    |\n",
      "|    prob_true_act  | 0.987     |\n",
      "|    samples_so_far | 32        |\n",
      "---------------------------------\n"
     ]
    },
    {
     "name": "stderr",
     "output_type": "stream",
     "text": [
      "246batch [00:04, 54.55batch/s]\n",
      "0batch [00:00, ?batch/s]"
     ]
    },
    {
     "name": "stdout",
     "output_type": "stream",
     "text": [
      "---------------------------------\n",
      "| batch_size        | 32        |\n",
      "| bc/               |           |\n",
      "|    batch          | 0         |\n",
      "|    ent_loss       | -6.04e-05 |\n",
      "|    entropy        | 0.0604    |\n",
      "|    epoch          | 0         |\n",
      "|    l2_loss        | 0         |\n",
      "|    l2_norm        | 1.59e+05  |\n",
      "|    loss           | 0.0429    |\n",
      "|    neglogp        | 0.043     |\n",
      "|    prob_true_act  | 0.969     |\n",
      "|    samples_so_far | 32        |\n",
      "---------------------------------\n"
     ]
    },
    {
     "name": "stderr",
     "output_type": "stream",
     "text": [
      "246batch [00:04, 55.88batch/s]\n",
      "0batch [00:00, ?batch/s]"
     ]
    },
    {
     "name": "stdout",
     "output_type": "stream",
     "text": [
      "---------------------------------\n",
      "| batch_size        | 32        |\n",
      "| bc/               |           |\n",
      "|    batch          | 0         |\n",
      "|    ent_loss       | -3.75e-05 |\n",
      "|    entropy        | 0.0375    |\n",
      "|    epoch          | 0         |\n",
      "|    l2_loss        | 0         |\n",
      "|    l2_norm        | 1.59e+05  |\n",
      "|    loss           | 0.046     |\n",
      "|    neglogp        | 0.046     |\n",
      "|    prob_true_act  | 0.975     |\n",
      "|    samples_so_far | 32        |\n",
      "---------------------------------\n"
     ]
    },
    {
     "name": "stderr",
     "output_type": "stream",
     "text": [
      "246batch [00:04, 52.55batch/s]\n",
      "0batch [00:00, ?batch/s]"
     ]
    },
    {
     "name": "stdout",
     "output_type": "stream",
     "text": [
      "---------------------------------\n",
      "| batch_size        | 32        |\n",
      "| bc/               |           |\n",
      "|    batch          | 0         |\n",
      "|    ent_loss       | -1.98e-05 |\n",
      "|    entropy        | 0.0198    |\n",
      "|    epoch          | 0         |\n",
      "|    l2_loss        | 0         |\n",
      "|    l2_norm        | 1.6e+05   |\n",
      "|    loss           | 0.0414    |\n",
      "|    neglogp        | 0.0414    |\n",
      "|    prob_true_act  | 0.977     |\n",
      "|    samples_so_far | 32        |\n",
      "---------------------------------\n"
     ]
    },
    {
     "name": "stderr",
     "output_type": "stream",
     "text": [
      "246batch [00:04, 55.45batch/s]\n",
      "0batch [00:00, ?batch/s]"
     ]
    },
    {
     "name": "stdout",
     "output_type": "stream",
     "text": [
      "---------------------------------\n",
      "| batch_size        | 32        |\n",
      "| bc/               |           |\n",
      "|    batch          | 0         |\n",
      "|    ent_loss       | -3.65e-05 |\n",
      "|    entropy        | 0.0365    |\n",
      "|    epoch          | 0         |\n",
      "|    l2_loss        | 0         |\n",
      "|    l2_norm        | 1.6e+05   |\n",
      "|    loss           | 0.031     |\n",
      "|    neglogp        | 0.031     |\n",
      "|    prob_true_act  | 0.98      |\n",
      "|    samples_so_far | 32        |\n",
      "---------------------------------\n"
     ]
    },
    {
     "name": "stderr",
     "output_type": "stream",
     "text": [
      "246batch [00:04, 55.53batch/s]\n",
      "0batch [00:00, ?batch/s]"
     ]
    },
    {
     "name": "stdout",
     "output_type": "stream",
     "text": [
      "---------------------------------\n",
      "| batch_size        | 32        |\n",
      "| bc/               |           |\n",
      "|    batch          | 0         |\n",
      "|    ent_loss       | -3.63e-05 |\n",
      "|    entropy        | 0.0363    |\n",
      "|    epoch          | 0         |\n",
      "|    l2_loss        | 0         |\n",
      "|    l2_norm        | 1.6e+05   |\n",
      "|    loss           | 0.0216    |\n",
      "|    neglogp        | 0.0217    |\n",
      "|    prob_true_act  | 0.984     |\n",
      "|    samples_so_far | 32        |\n",
      "---------------------------------\n"
     ]
    },
    {
     "name": "stderr",
     "output_type": "stream",
     "text": [
      "246batch [00:04, 53.99batch/s]\n",
      "0batch [00:00, ?batch/s]"
     ]
    },
    {
     "name": "stdout",
     "output_type": "stream",
     "text": [
      "---------------------------------\n",
      "| batch_size        | 32        |\n",
      "| bc/               |           |\n",
      "|    batch          | 0         |\n",
      "|    ent_loss       | -3.39e-05 |\n",
      "|    entropy        | 0.0339    |\n",
      "|    epoch          | 0         |\n",
      "|    l2_loss        | 0         |\n",
      "|    l2_norm        | 1.6e+05   |\n",
      "|    loss           | 0.0178    |\n",
      "|    neglogp        | 0.0179    |\n",
      "|    prob_true_act  | 0.986     |\n",
      "|    samples_so_far | 32        |\n",
      "---------------------------------\n"
     ]
    },
    {
     "name": "stderr",
     "output_type": "stream",
     "text": [
      "246batch [00:04, 56.08batch/s]\n",
      "0batch [00:00, ?batch/s]"
     ]
    },
    {
     "name": "stdout",
     "output_type": "stream",
     "text": [
      "---------------------------------\n",
      "| batch_size        | 32        |\n",
      "| bc/               |           |\n",
      "|    batch          | 0         |\n",
      "|    ent_loss       | -1.16e-06 |\n",
      "|    entropy        | 0.00116   |\n",
      "|    epoch          | 0         |\n",
      "|    l2_loss        | 0         |\n",
      "|    l2_norm        | 1.6e+05   |\n",
      "|    loss           | 0.000102  |\n",
      "|    neglogp        | 0.000103  |\n",
      "|    prob_true_act  | 1         |\n",
      "|    samples_so_far | 32        |\n",
      "---------------------------------\n"
     ]
    },
    {
     "name": "stderr",
     "output_type": "stream",
     "text": [
      "246batch [00:04, 55.98batch/s]\n",
      "0batch [00:00, ?batch/s]"
     ]
    },
    {
     "name": "stdout",
     "output_type": "stream",
     "text": [
      "---------------------------------\n",
      "| batch_size        | 32        |\n",
      "| bc/               |           |\n",
      "|    batch          | 0         |\n",
      "|    ent_loss       | -1.77e-06 |\n",
      "|    entropy        | 0.00177   |\n",
      "|    epoch          | 0         |\n",
      "|    l2_loss        | 0         |\n",
      "|    l2_norm        | 1.6e+05   |\n",
      "|    loss           | 0.000157  |\n",
      "|    neglogp        | 0.000159  |\n",
      "|    prob_true_act  | 1         |\n",
      "|    samples_so_far | 32        |\n",
      "---------------------------------\n"
     ]
    },
    {
     "name": "stderr",
     "output_type": "stream",
     "text": [
      "246batch [00:04, 54.95batch/s]\n",
      "0batch [00:00, ?batch/s]"
     ]
    },
    {
     "name": "stdout",
     "output_type": "stream",
     "text": [
      "--------------------------------\n",
      "| batch_size        | 32       |\n",
      "| bc/               |          |\n",
      "|    batch          | 0        |\n",
      "|    ent_loss       | -2.4e-06 |\n",
      "|    entropy        | 0.0024   |\n",
      "|    epoch          | 0        |\n",
      "|    l2_loss        | 0        |\n",
      "|    l2_norm        | 1.6e+05  |\n",
      "|    loss           | 0.000221 |\n",
      "|    neglogp        | 0.000223 |\n",
      "|    prob_true_act  | 1        |\n",
      "|    samples_so_far | 32       |\n",
      "--------------------------------\n"
     ]
    },
    {
     "name": "stderr",
     "output_type": "stream",
     "text": [
      "246batch [00:04, 56.32batch/s]\n",
      "0batch [00:00, ?batch/s]"
     ]
    },
    {
     "name": "stdout",
     "output_type": "stream",
     "text": [
      "---------------------------------\n",
      "| batch_size        | 32        |\n",
      "| bc/               |           |\n",
      "|    batch          | 0         |\n",
      "|    ent_loss       | -5.99e-05 |\n",
      "|    entropy        | 0.0599    |\n",
      "|    epoch          | 0         |\n",
      "|    l2_loss        | 0         |\n",
      "|    l2_norm        | 1.6e+05   |\n",
      "|    loss           | 0.0562    |\n",
      "|    neglogp        | 0.0563    |\n",
      "|    prob_true_act  | 0.963     |\n",
      "|    samples_so_far | 32        |\n",
      "---------------------------------\n"
     ]
    },
    {
     "name": "stderr",
     "output_type": "stream",
     "text": [
      "246batch [00:04, 55.88batch/s]\n",
      "0batch [00:00, ?batch/s]"
     ]
    },
    {
     "name": "stdout",
     "output_type": "stream",
     "text": [
      "---------------------------------\n",
      "| batch_size        | 32        |\n",
      "| bc/               |           |\n",
      "|    batch          | 0         |\n",
      "|    ent_loss       | -3.73e-05 |\n",
      "|    entropy        | 0.0373    |\n",
      "|    epoch          | 0         |\n",
      "|    l2_loss        | 0         |\n",
      "|    l2_norm        | 1.6e+05   |\n",
      "|    loss           | 0.0369    |\n",
      "|    neglogp        | 0.0369    |\n",
      "|    prob_true_act  | 0.978     |\n",
      "|    samples_so_far | 32        |\n",
      "---------------------------------\n"
     ]
    },
    {
     "name": "stderr",
     "output_type": "stream",
     "text": [
      "246batch [00:04, 55.00batch/s]\n",
      "0batch [00:00, ?batch/s]"
     ]
    },
    {
     "name": "stdout",
     "output_type": "stream",
     "text": [
      "---------------------------------\n",
      "| batch_size        | 32        |\n",
      "| bc/               |           |\n",
      "|    batch          | 0         |\n",
      "|    ent_loss       | -2.53e-05 |\n",
      "|    entropy        | 0.0253    |\n",
      "|    epoch          | 0         |\n",
      "|    l2_loss        | 0         |\n",
      "|    l2_norm        | 1.6e+05   |\n",
      "|    loss           | 0.0186    |\n",
      "|    neglogp        | 0.0187    |\n",
      "|    prob_true_act  | 0.986     |\n",
      "|    samples_so_far | 32        |\n",
      "---------------------------------\n"
     ]
    },
    {
     "name": "stderr",
     "output_type": "stream",
     "text": [
      "246batch [00:04, 55.62batch/s]\n",
      "0batch [00:00, ?batch/s]"
     ]
    },
    {
     "name": "stdout",
     "output_type": "stream",
     "text": [
      "---------------------------------\n",
      "| batch_size        | 32        |\n",
      "| bc/               |           |\n",
      "|    batch          | 0         |\n",
      "|    ent_loss       | -3.55e-05 |\n",
      "|    entropy        | 0.0355    |\n",
      "|    epoch          | 0         |\n",
      "|    l2_loss        | 0         |\n",
      "|    l2_norm        | 1.6e+05   |\n",
      "|    loss           | 0.0459    |\n",
      "|    neglogp        | 0.0459    |\n",
      "|    prob_true_act  | 0.976     |\n",
      "|    samples_so_far | 32        |\n",
      "---------------------------------\n"
     ]
    },
    {
     "name": "stderr",
     "output_type": "stream",
     "text": [
      "246batch [00:04, 56.32batch/s]\n",
      "0batch [00:00, ?batch/s]"
     ]
    },
    {
     "name": "stdout",
     "output_type": "stream",
     "text": [
      "---------------------------------\n",
      "| batch_size        | 32        |\n",
      "| bc/               |           |\n",
      "|    batch          | 0         |\n",
      "|    ent_loss       | -1.53e-06 |\n",
      "|    entropy        | 0.00153   |\n",
      "|    epoch          | 0         |\n",
      "|    l2_loss        | 0         |\n",
      "|    l2_norm        | 1.61e+05  |\n",
      "|    loss           | 0.000129  |\n",
      "|    neglogp        | 0.000131  |\n",
      "|    prob_true_act  | 1         |\n",
      "|    samples_so_far | 32        |\n",
      "---------------------------------\n"
     ]
    },
    {
     "name": "stderr",
     "output_type": "stream",
     "text": [
      "246batch [00:04, 55.29batch/s]\n",
      "0batch [00:00, ?batch/s]"
     ]
    },
    {
     "name": "stdout",
     "output_type": "stream",
     "text": [
      "---------------------------------\n",
      "| batch_size        | 32        |\n",
      "| bc/               |           |\n",
      "|    batch          | 0         |\n",
      "|    ent_loss       | -2.33e-05 |\n",
      "|    entropy        | 0.0233    |\n",
      "|    epoch          | 0         |\n",
      "|    l2_loss        | 0         |\n",
      "|    l2_norm        | 1.61e+05  |\n",
      "|    loss           | 0.0299    |\n",
      "|    neglogp        | 0.0299    |\n",
      "|    prob_true_act  | 0.981     |\n",
      "|    samples_so_far | 32        |\n",
      "---------------------------------\n"
     ]
    },
    {
     "name": "stderr",
     "output_type": "stream",
     "text": [
      "246batch [00:04, 56.26batch/s]\n",
      "0batch [00:00, ?batch/s]"
     ]
    },
    {
     "name": "stdout",
     "output_type": "stream",
     "text": [
      "---------------------------------\n",
      "| batch_size        | 32        |\n",
      "| bc/               |           |\n",
      "|    batch          | 0         |\n",
      "|    ent_loss       | -3.51e-05 |\n",
      "|    entropy        | 0.0351    |\n",
      "|    epoch          | 0         |\n",
      "|    l2_loss        | 0         |\n",
      "|    l2_norm        | 1.61e+05  |\n",
      "|    loss           | 0.0499    |\n",
      "|    neglogp        | 0.0499    |\n",
      "|    prob_true_act  | 0.975     |\n",
      "|    samples_so_far | 32        |\n",
      "---------------------------------\n"
     ]
    },
    {
     "name": "stderr",
     "output_type": "stream",
     "text": [
      "246batch [00:04, 53.46batch/s]\n",
      "0batch [00:00, ?batch/s]"
     ]
    },
    {
     "name": "stdout",
     "output_type": "stream",
     "text": [
      "---------------------------------\n",
      "| batch_size        | 32        |\n",
      "| bc/               |           |\n",
      "|    batch          | 0         |\n",
      "|    ent_loss       | -4.88e-05 |\n",
      "|    entropy        | 0.0488    |\n",
      "|    epoch          | 0         |\n",
      "|    l2_loss        | 0         |\n",
      "|    l2_norm        | 1.61e+05  |\n",
      "|    loss           | 0.0494    |\n",
      "|    neglogp        | 0.0495    |\n",
      "|    prob_true_act  | 0.975     |\n",
      "|    samples_so_far | 32        |\n",
      "---------------------------------\n"
     ]
    },
    {
     "name": "stderr",
     "output_type": "stream",
     "text": [
      "246batch [00:04, 55.02batch/s]\n",
      "0batch [00:00, ?batch/s]"
     ]
    },
    {
     "name": "stdout",
     "output_type": "stream",
     "text": [
      "---------------------------------\n",
      "| batch_size        | 32        |\n",
      "| bc/               |           |\n",
      "|    batch          | 0         |\n",
      "|    ent_loss       | -8.36e-06 |\n",
      "|    entropy        | 0.00836   |\n",
      "|    epoch          | 0         |\n",
      "|    l2_loss        | 0         |\n",
      "|    l2_norm        | 1.61e+05  |\n",
      "|    loss           | 0.000961  |\n",
      "|    neglogp        | 0.00097   |\n",
      "|    prob_true_act  | 0.999     |\n",
      "|    samples_so_far | 32        |\n",
      "---------------------------------\n"
     ]
    },
    {
     "name": "stderr",
     "output_type": "stream",
     "text": [
      "246batch [00:04, 56.55batch/s]\n",
      "0batch [00:00, ?batch/s]"
     ]
    },
    {
     "name": "stdout",
     "output_type": "stream",
     "text": [
      "---------------------------------\n",
      "| batch_size        | 32        |\n",
      "| bc/               |           |\n",
      "|    batch          | 0         |\n",
      "|    ent_loss       | -3.65e-05 |\n",
      "|    entropy        | 0.0365    |\n",
      "|    epoch          | 0         |\n",
      "|    l2_loss        | 0         |\n",
      "|    l2_norm        | 1.61e+05  |\n",
      "|    loss           | 0.00825   |\n",
      "|    neglogp        | 0.00829   |\n",
      "|    prob_true_act  | 0.992     |\n",
      "|    samples_so_far | 32        |\n",
      "---------------------------------\n"
     ]
    },
    {
     "name": "stderr",
     "output_type": "stream",
     "text": [
      "246batch [00:04, 55.07batch/s]\n",
      "0batch [00:00, ?batch/s]"
     ]
    },
    {
     "name": "stdout",
     "output_type": "stream",
     "text": [
      "---------------------------------\n",
      "| batch_size        | 32        |\n",
      "| bc/               |           |\n",
      "|    batch          | 0         |\n",
      "|    ent_loss       | -0.000101 |\n",
      "|    entropy        | 0.101     |\n",
      "|    epoch          | 0         |\n",
      "|    l2_loss        | 0         |\n",
      "|    l2_norm        | 1.61e+05  |\n",
      "|    loss           | 0.0981    |\n",
      "|    neglogp        | 0.0982    |\n",
      "|    prob_true_act  | 0.941     |\n",
      "|    samples_so_far | 32        |\n",
      "---------------------------------\n"
     ]
    },
    {
     "name": "stderr",
     "output_type": "stream",
     "text": [
      "246batch [00:04, 54.20batch/s]\n",
      "0batch [00:00, ?batch/s]"
     ]
    },
    {
     "name": "stdout",
     "output_type": "stream",
     "text": [
      "---------------------------------\n",
      "| batch_size        | 32        |\n",
      "| bc/               |           |\n",
      "|    batch          | 0         |\n",
      "|    ent_loss       | -2.37e-05 |\n",
      "|    entropy        | 0.0237    |\n",
      "|    epoch          | 0         |\n",
      "|    l2_loss        | 0         |\n",
      "|    l2_norm        | 1.61e+05  |\n",
      "|    loss           | 0.029     |\n",
      "|    neglogp        | 0.029     |\n",
      "|    prob_true_act  | 0.981     |\n",
      "|    samples_so_far | 32        |\n",
      "---------------------------------\n"
     ]
    },
    {
     "name": "stderr",
     "output_type": "stream",
     "text": [
      "246batch [00:04, 55.46batch/s]\n",
      "0batch [00:00, ?batch/s]"
     ]
    },
    {
     "name": "stdout",
     "output_type": "stream",
     "text": [
      "---------------------------------\n",
      "| batch_size        | 32        |\n",
      "| bc/               |           |\n",
      "|    batch          | 0         |\n",
      "|    ent_loss       | -1.89e-06 |\n",
      "|    entropy        | 0.00189   |\n",
      "|    epoch          | 0         |\n",
      "|    l2_loss        | 0         |\n",
      "|    l2_norm        | 1.61e+05  |\n",
      "|    loss           | 0.000164  |\n",
      "|    neglogp        | 0.000166  |\n",
      "|    prob_true_act  | 1         |\n",
      "|    samples_so_far | 32        |\n",
      "---------------------------------\n"
     ]
    },
    {
     "name": "stderr",
     "output_type": "stream",
     "text": [
      "246batch [00:04, 56.12batch/s]\n",
      "0batch [00:00, ?batch/s]"
     ]
    },
    {
     "name": "stdout",
     "output_type": "stream",
     "text": [
      "--------------------------------\n",
      "| batch_size        | 32       |\n",
      "| bc/               |          |\n",
      "|    batch          | 0        |\n",
      "|    ent_loss       | -4.3e-06 |\n",
      "|    entropy        | 0.0043   |\n",
      "|    epoch          | 0        |\n",
      "|    l2_loss        | 0        |\n",
      "|    l2_norm        | 1.61e+05 |\n",
      "|    loss           | 0.000432 |\n",
      "|    neglogp        | 0.000436 |\n",
      "|    prob_true_act  | 1        |\n",
      "|    samples_so_far | 32       |\n",
      "--------------------------------\n"
     ]
    },
    {
     "name": "stderr",
     "output_type": "stream",
     "text": [
      "246batch [00:04, 55.50batch/s]\n",
      "0batch [00:00, ?batch/s]"
     ]
    },
    {
     "name": "stdout",
     "output_type": "stream",
     "text": [
      "---------------------------------\n",
      "| batch_size        | 32        |\n",
      "| bc/               |           |\n",
      "|    batch          | 0         |\n",
      "|    ent_loss       | -7.95e-05 |\n",
      "|    entropy        | 0.0795    |\n",
      "|    epoch          | 0         |\n",
      "|    l2_loss        | 0         |\n",
      "|    l2_norm        | 1.61e+05  |\n",
      "|    loss           | 0.108     |\n",
      "|    neglogp        | 0.108     |\n",
      "|    prob_true_act  | 0.937     |\n",
      "|    samples_so_far | 32        |\n",
      "---------------------------------\n"
     ]
    },
    {
     "name": "stderr",
     "output_type": "stream",
     "text": [
      "246batch [00:04, 56.10batch/s]\n",
      "0batch [00:00, ?batch/s]"
     ]
    },
    {
     "name": "stdout",
     "output_type": "stream",
     "text": [
      "---------------------------------\n",
      "| batch_size        | 32        |\n",
      "| bc/               |           |\n",
      "|    batch          | 0         |\n",
      "|    ent_loss       | -1.39e-06 |\n",
      "|    entropy        | 0.00139   |\n",
      "|    epoch          | 0         |\n",
      "|    l2_loss        | 0         |\n",
      "|    l2_norm        | 1.61e+05  |\n",
      "|    loss           | 0.000131  |\n",
      "|    neglogp        | 0.000132  |\n",
      "|    prob_true_act  | 1         |\n",
      "|    samples_so_far | 32        |\n",
      "---------------------------------\n"
     ]
    },
    {
     "name": "stderr",
     "output_type": "stream",
     "text": [
      "246batch [00:04, 56.05batch/s]\n",
      "0batch [00:00, ?batch/s]"
     ]
    },
    {
     "name": "stdout",
     "output_type": "stream",
     "text": [
      "---------------------------------\n",
      "| batch_size        | 32        |\n",
      "| bc/               |           |\n",
      "|    batch          | 0         |\n",
      "|    ent_loss       | -4.63e-05 |\n",
      "|    entropy        | 0.0463    |\n",
      "|    epoch          | 0         |\n",
      "|    l2_loss        | 0         |\n",
      "|    l2_norm        | 1.61e+05  |\n",
      "|    loss           | 0.0499    |\n",
      "|    neglogp        | 0.05      |\n",
      "|    prob_true_act  | 0.975     |\n",
      "|    samples_so_far | 32        |\n",
      "---------------------------------\n"
     ]
    },
    {
     "name": "stderr",
     "output_type": "stream",
     "text": [
      "246batch [00:04, 55.07batch/s]\n",
      "0batch [00:00, ?batch/s]"
     ]
    },
    {
     "name": "stdout",
     "output_type": "stream",
     "text": [
      "---------------------------------\n",
      "| batch_size        | 32        |\n",
      "| bc/               |           |\n",
      "|    batch          | 0         |\n",
      "|    ent_loss       | -2.73e-05 |\n",
      "|    entropy        | 0.0273    |\n",
      "|    epoch          | 0         |\n",
      "|    l2_loss        | 0         |\n",
      "|    l2_norm        | 1.61e+05  |\n",
      "|    loss           | 0.0225    |\n",
      "|    neglogp        | 0.0225    |\n",
      "|    prob_true_act  | 0.984     |\n",
      "|    samples_so_far | 32        |\n",
      "---------------------------------\n"
     ]
    },
    {
     "name": "stderr",
     "output_type": "stream",
     "text": [
      "246batch [00:04, 55.21batch/s]\n",
      "0batch [00:00, ?batch/s]"
     ]
    },
    {
     "name": "stdout",
     "output_type": "stream",
     "text": [
      "---------------------------------\n",
      "| batch_size        | 32        |\n",
      "| bc/               |           |\n",
      "|    batch          | 0         |\n",
      "|    ent_loss       | -3.27e-05 |\n",
      "|    entropy        | 0.0327    |\n",
      "|    epoch          | 0         |\n",
      "|    l2_loss        | 0         |\n",
      "|    l2_norm        | 1.61e+05  |\n",
      "|    loss           | 0.0148    |\n",
      "|    neglogp        | 0.0148    |\n",
      "|    prob_true_act  | 0.988     |\n",
      "|    samples_so_far | 32        |\n",
      "---------------------------------\n"
     ]
    },
    {
     "name": "stderr",
     "output_type": "stream",
     "text": [
      "246batch [00:04, 55.53batch/s]\n",
      "0batch [00:00, ?batch/s]"
     ]
    },
    {
     "name": "stdout",
     "output_type": "stream",
     "text": [
      "--------------------------------\n",
      "| batch_size        | 32       |\n",
      "| bc/               |          |\n",
      "|    batch          | 0        |\n",
      "|    ent_loss       | -2.6e-05 |\n",
      "|    entropy        | 0.026    |\n",
      "|    epoch          | 0        |\n",
      "|    l2_loss        | 0        |\n",
      "|    l2_norm        | 1.61e+05 |\n",
      "|    loss           | 0.0266   |\n",
      "|    neglogp        | 0.0266   |\n",
      "|    prob_true_act  | 0.982    |\n",
      "|    samples_so_far | 32       |\n",
      "--------------------------------\n"
     ]
    },
    {
     "name": "stderr",
     "output_type": "stream",
     "text": [
      "246batch [00:04, 54.78batch/s]\n",
      "0batch [00:00, ?batch/s]"
     ]
    },
    {
     "name": "stdout",
     "output_type": "stream",
     "text": [
      "---------------------------------\n",
      "| batch_size        | 32        |\n",
      "| bc/               |           |\n",
      "|    batch          | 0         |\n",
      "|    ent_loss       | -8.14e-05 |\n",
      "|    entropy        | 0.0814    |\n",
      "|    epoch          | 0         |\n",
      "|    l2_loss        | 0         |\n",
      "|    l2_norm        | 1.61e+05  |\n",
      "|    loss           | 0.0644    |\n",
      "|    neglogp        | 0.0645    |\n",
      "|    prob_true_act  | 0.954     |\n",
      "|    samples_so_far | 32        |\n",
      "---------------------------------\n"
     ]
    },
    {
     "name": "stderr",
     "output_type": "stream",
     "text": [
      "246batch [00:04, 56.09batch/s]\n",
      "0batch [00:00, ?batch/s]"
     ]
    },
    {
     "name": "stdout",
     "output_type": "stream",
     "text": [
      "---------------------------------\n",
      "| batch_size        | 32        |\n",
      "| bc/               |           |\n",
      "|    batch          | 0         |\n",
      "|    ent_loss       | -5.64e-05 |\n",
      "|    entropy        | 0.0564    |\n",
      "|    epoch          | 0         |\n",
      "|    l2_loss        | 0         |\n",
      "|    l2_norm        | 1.61e+05  |\n",
      "|    loss           | 0.0725    |\n",
      "|    neglogp        | 0.0726    |\n",
      "|    prob_true_act  | 0.959     |\n",
      "|    samples_so_far | 32        |\n",
      "---------------------------------\n"
     ]
    },
    {
     "name": "stderr",
     "output_type": "stream",
     "text": [
      "246batch [00:04, 55.86batch/s]\n",
      "0batch [00:00, ?batch/s]"
     ]
    },
    {
     "name": "stdout",
     "output_type": "stream",
     "text": [
      "---------------------------------\n",
      "| batch_size        | 32        |\n",
      "| bc/               |           |\n",
      "|    batch          | 0         |\n",
      "|    ent_loss       | -2.38e-05 |\n",
      "|    entropy        | 0.0238    |\n",
      "|    epoch          | 0         |\n",
      "|    l2_loss        | 0         |\n",
      "|    l2_norm        | 1.62e+05  |\n",
      "|    loss           | 0.0153    |\n",
      "|    neglogp        | 0.0153    |\n",
      "|    prob_true_act  | 0.988     |\n",
      "|    samples_so_far | 32        |\n",
      "---------------------------------\n"
     ]
    },
    {
     "name": "stderr",
     "output_type": "stream",
     "text": [
      "246batch [00:04, 55.08batch/s]\n",
      "0batch [00:00, ?batch/s]"
     ]
    },
    {
     "name": "stdout",
     "output_type": "stream",
     "text": [
      "---------------------------------\n",
      "| batch_size        | 32        |\n",
      "| bc/               |           |\n",
      "|    batch          | 0         |\n",
      "|    ent_loss       | -1.98e-06 |\n",
      "|    entropy        | 0.00198   |\n",
      "|    epoch          | 0         |\n",
      "|    l2_loss        | 0         |\n",
      "|    l2_norm        | 1.62e+05  |\n",
      "|    loss           | 0.000173  |\n",
      "|    neglogp        | 0.000175  |\n",
      "|    prob_true_act  | 1         |\n",
      "|    samples_so_far | 32        |\n",
      "---------------------------------\n"
     ]
    },
    {
     "name": "stderr",
     "output_type": "stream",
     "text": [
      "246batch [00:04, 55.81batch/s]\n",
      "0batch [00:00, ?batch/s]"
     ]
    },
    {
     "name": "stdout",
     "output_type": "stream",
     "text": [
      "--------------------------------\n",
      "| batch_size        | 32       |\n",
      "| bc/               |          |\n",
      "|    batch          | 0        |\n",
      "|    ent_loss       | -1.7e-06 |\n",
      "|    entropy        | 0.0017   |\n",
      "|    epoch          | 0        |\n",
      "|    l2_loss        | 0        |\n",
      "|    l2_norm        | 1.62e+05 |\n",
      "|    loss           | 0.000149 |\n",
      "|    neglogp        | 0.00015  |\n",
      "|    prob_true_act  | 1        |\n",
      "|    samples_so_far | 32       |\n",
      "--------------------------------\n"
     ]
    },
    {
     "name": "stderr",
     "output_type": "stream",
     "text": [
      "246batch [00:04, 55.63batch/s]\n",
      "0batch [00:00, ?batch/s]"
     ]
    },
    {
     "name": "stdout",
     "output_type": "stream",
     "text": [
      "---------------------------------\n",
      "| batch_size        | 32        |\n",
      "| bc/               |           |\n",
      "|    batch          | 0         |\n",
      "|    ent_loss       | -1.67e-06 |\n",
      "|    entropy        | 0.00167   |\n",
      "|    epoch          | 0         |\n",
      "|    l2_loss        | 0         |\n",
      "|    l2_norm        | 1.62e+05  |\n",
      "|    loss           | 0.000146  |\n",
      "|    neglogp        | 0.000148  |\n",
      "|    prob_true_act  | 1         |\n",
      "|    samples_so_far | 32        |\n",
      "---------------------------------\n"
     ]
    },
    {
     "name": "stderr",
     "output_type": "stream",
     "text": [
      "246batch [00:04, 54.82batch/s]\n",
      "0batch [00:00, ?batch/s]"
     ]
    },
    {
     "name": "stdout",
     "output_type": "stream",
     "text": [
      "---------------------------------\n",
      "| batch_size        | 32        |\n",
      "| bc/               |           |\n",
      "|    batch          | 0         |\n",
      "|    ent_loss       | -6.33e-05 |\n",
      "|    entropy        | 0.0633    |\n",
      "|    epoch          | 0         |\n",
      "|    l2_loss        | 0         |\n",
      "|    l2_norm        | 1.62e+05  |\n",
      "|    loss           | 0.0472    |\n",
      "|    neglogp        | 0.0472    |\n",
      "|    prob_true_act  | 0.965     |\n",
      "|    samples_so_far | 32        |\n",
      "---------------------------------\n"
     ]
    },
    {
     "name": "stderr",
     "output_type": "stream",
     "text": [
      "246batch [00:04, 53.91batch/s]\n",
      "0batch [00:00, ?batch/s]"
     ]
    },
    {
     "name": "stdout",
     "output_type": "stream",
     "text": [
      "---------------------------------\n",
      "| batch_size        | 32        |\n",
      "| bc/               |           |\n",
      "|    batch          | 0         |\n",
      "|    ent_loss       | -1.09e-06 |\n",
      "|    entropy        | 0.00109   |\n",
      "|    epoch          | 0         |\n",
      "|    l2_loss        | 0         |\n",
      "|    l2_norm        | 1.62e+05  |\n",
      "|    loss           | 9.14e-05  |\n",
      "|    neglogp        | 9.24e-05  |\n",
      "|    prob_true_act  | 1         |\n",
      "|    samples_so_far | 32        |\n",
      "---------------------------------\n"
     ]
    },
    {
     "name": "stderr",
     "output_type": "stream",
     "text": [
      "246batch [00:04, 55.94batch/s]\n",
      "0batch [00:00, ?batch/s]"
     ]
    },
    {
     "name": "stdout",
     "output_type": "stream",
     "text": [
      "---------------------------------\n",
      "| batch_size        | 32        |\n",
      "| bc/               |           |\n",
      "|    batch          | 0         |\n",
      "|    ent_loss       | -4.44e-06 |\n",
      "|    entropy        | 0.00444   |\n",
      "|    epoch          | 0         |\n",
      "|    l2_loss        | 0         |\n",
      "|    l2_norm        | 1.62e+05  |\n",
      "|    loss           | 0.000494  |\n",
      "|    neglogp        | 0.000499  |\n",
      "|    prob_true_act  | 1         |\n",
      "|    samples_so_far | 32        |\n",
      "---------------------------------\n"
     ]
    },
    {
     "name": "stderr",
     "output_type": "stream",
     "text": [
      "246batch [00:04, 55.11batch/s]\n",
      "0batch [00:00, ?batch/s]"
     ]
    },
    {
     "name": "stdout",
     "output_type": "stream",
     "text": [
      "---------------------------------\n",
      "| batch_size        | 32        |\n",
      "| bc/               |           |\n",
      "|    batch          | 0         |\n",
      "|    ent_loss       | -3.84e-05 |\n",
      "|    entropy        | 0.0384    |\n",
      "|    epoch          | 0         |\n",
      "|    l2_loss        | 0         |\n",
      "|    l2_norm        | 1.62e+05  |\n",
      "|    loss           | 0.0324    |\n",
      "|    neglogp        | 0.0324    |\n",
      "|    prob_true_act  | 0.98      |\n",
      "|    samples_so_far | 32        |\n",
      "---------------------------------\n"
     ]
    },
    {
     "name": "stderr",
     "output_type": "stream",
     "text": [
      "246batch [00:04, 55.70batch/s]\n"
     ]
    },
    {
     "name": "stdout",
     "output_type": "stream",
     "text": [
      "Checkpoint saved at checkpoints\\bc_model_epoch_550.zip\n"
     ]
    },
    {
     "name": "stderr",
     "output_type": "stream",
     "text": [
      "0batch [00:00, ?batch/s]"
     ]
    },
    {
     "name": "stdout",
     "output_type": "stream",
     "text": [
      "---------------------------------\n",
      "| batch_size        | 32        |\n",
      "| bc/               |           |\n",
      "|    batch          | 0         |\n",
      "|    ent_loss       | -1.96e-05 |\n",
      "|    entropy        | 0.0196    |\n",
      "|    epoch          | 0         |\n",
      "|    l2_loss        | 0         |\n",
      "|    l2_norm        | 1.62e+05  |\n",
      "|    loss           | 0.00916   |\n",
      "|    neglogp        | 0.00918   |\n",
      "|    prob_true_act  | 0.992     |\n",
      "|    samples_so_far | 32        |\n",
      "---------------------------------\n"
     ]
    },
    {
     "name": "stderr",
     "output_type": "stream",
     "text": [
      "246batch [00:04, 53.70batch/s]\n",
      "0batch [00:00, ?batch/s]"
     ]
    },
    {
     "name": "stdout",
     "output_type": "stream",
     "text": [
      "---------------------------------\n",
      "| batch_size        | 32        |\n",
      "| bc/               |           |\n",
      "|    batch          | 0         |\n",
      "|    ent_loss       | -3.91e-05 |\n",
      "|    entropy        | 0.0391    |\n",
      "|    epoch          | 0         |\n",
      "|    l2_loss        | 0         |\n",
      "|    l2_norm        | 1.63e+05  |\n",
      "|    loss           | 0.0208    |\n",
      "|    neglogp        | 0.0208    |\n",
      "|    prob_true_act  | 0.983     |\n",
      "|    samples_so_far | 32        |\n",
      "---------------------------------\n"
     ]
    },
    {
     "name": "stderr",
     "output_type": "stream",
     "text": [
      "246batch [00:04, 55.47batch/s]\n",
      "0batch [00:00, ?batch/s]"
     ]
    },
    {
     "name": "stdout",
     "output_type": "stream",
     "text": [
      "---------------------------------\n",
      "| batch_size        | 32        |\n",
      "| bc/               |           |\n",
      "|    batch          | 0         |\n",
      "|    ent_loss       | -3.72e-05 |\n",
      "|    entropy        | 0.0372    |\n",
      "|    epoch          | 0         |\n",
      "|    l2_loss        | 0         |\n",
      "|    l2_norm        | 1.63e+05  |\n",
      "|    loss           | 0.0558    |\n",
      "|    neglogp        | 0.0558    |\n",
      "|    prob_true_act  | 0.974     |\n",
      "|    samples_so_far | 32        |\n",
      "---------------------------------\n"
     ]
    },
    {
     "name": "stderr",
     "output_type": "stream",
     "text": [
      "246batch [00:04, 55.89batch/s]\n",
      "0batch [00:00, ?batch/s]"
     ]
    },
    {
     "name": "stdout",
     "output_type": "stream",
     "text": [
      "---------------------------------\n",
      "| batch_size        | 32        |\n",
      "| bc/               |           |\n",
      "|    batch          | 0         |\n",
      "|    ent_loss       | -0.000112 |\n",
      "|    entropy        | 0.112     |\n",
      "|    epoch          | 0         |\n",
      "|    l2_loss        | 0         |\n",
      "|    l2_norm        | 1.62e+05  |\n",
      "|    loss           | 0.162     |\n",
      "|    neglogp        | 0.163     |\n",
      "|    prob_true_act  | 0.936     |\n",
      "|    samples_so_far | 32        |\n",
      "---------------------------------\n"
     ]
    },
    {
     "name": "stderr",
     "output_type": "stream",
     "text": [
      "246batch [00:04, 54.97batch/s]\n",
      "0batch [00:00, ?batch/s]"
     ]
    },
    {
     "name": "stdout",
     "output_type": "stream",
     "text": [
      "--------------------------------\n",
      "| batch_size        | 32       |\n",
      "| bc/               |          |\n",
      "|    batch          | 0        |\n",
      "|    ent_loss       | -0.00012 |\n",
      "|    entropy        | 0.12     |\n",
      "|    epoch          | 0        |\n",
      "|    l2_loss        | 0        |\n",
      "|    l2_norm        | 1.62e+05 |\n",
      "|    loss           | 0.0986   |\n",
      "|    neglogp        | 0.0988   |\n",
      "|    prob_true_act  | 0.942    |\n",
      "|    samples_so_far | 32       |\n",
      "--------------------------------\n"
     ]
    },
    {
     "name": "stderr",
     "output_type": "stream",
     "text": [
      "246batch [00:04, 55.66batch/s]\n",
      "0batch [00:00, ?batch/s]"
     ]
    },
    {
     "name": "stdout",
     "output_type": "stream",
     "text": [
      "---------------------------------\n",
      "| batch_size        | 32        |\n",
      "| bc/               |           |\n",
      "|    batch          | 0         |\n",
      "|    ent_loss       | -4.73e-06 |\n",
      "|    entropy        | 0.00473   |\n",
      "|    epoch          | 0         |\n",
      "|    l2_loss        | 0         |\n",
      "|    l2_norm        | 1.63e+05  |\n",
      "|    loss           | 0.000482  |\n",
      "|    neglogp        | 0.000486  |\n",
      "|    prob_true_act  | 1         |\n",
      "|    samples_so_far | 32        |\n",
      "---------------------------------\n"
     ]
    },
    {
     "name": "stderr",
     "output_type": "stream",
     "text": [
      "246batch [00:04, 55.89batch/s]\n",
      "0batch [00:00, ?batch/s]"
     ]
    },
    {
     "name": "stdout",
     "output_type": "stream",
     "text": [
      "---------------------------------\n",
      "| batch_size        | 32        |\n",
      "| bc/               |           |\n",
      "|    batch          | 0         |\n",
      "|    ent_loss       | -2.34e-06 |\n",
      "|    entropy        | 0.00234   |\n",
      "|    epoch          | 0         |\n",
      "|    l2_loss        | 0         |\n",
      "|    l2_norm        | 1.63e+05  |\n",
      "|    loss           | 0.000233  |\n",
      "|    neglogp        | 0.000235  |\n",
      "|    prob_true_act  | 1         |\n",
      "|    samples_so_far | 32        |\n",
      "---------------------------------\n"
     ]
    },
    {
     "name": "stderr",
     "output_type": "stream",
     "text": [
      "246batch [00:04, 55.06batch/s]\n",
      "0batch [00:00, ?batch/s]"
     ]
    },
    {
     "name": "stdout",
     "output_type": "stream",
     "text": [
      "---------------------------------\n",
      "| batch_size        | 32        |\n",
      "| bc/               |           |\n",
      "|    batch          | 0         |\n",
      "|    ent_loss       | -1.16e-06 |\n",
      "|    entropy        | 0.00116   |\n",
      "|    epoch          | 0         |\n",
      "|    l2_loss        | 0         |\n",
      "|    l2_norm        | 1.63e+05  |\n",
      "|    loss           | 0.000102  |\n",
      "|    neglogp        | 0.000104  |\n",
      "|    prob_true_act  | 1         |\n",
      "|    samples_so_far | 32        |\n",
      "---------------------------------\n"
     ]
    },
    {
     "name": "stderr",
     "output_type": "stream",
     "text": [
      "246batch [00:04, 56.26batch/s]\n",
      "0batch [00:00, ?batch/s]"
     ]
    },
    {
     "name": "stdout",
     "output_type": "stream",
     "text": [
      "---------------------------------\n",
      "| batch_size        | 32        |\n",
      "| bc/               |           |\n",
      "|    batch          | 0         |\n",
      "|    ent_loss       | -1.35e-06 |\n",
      "|    entropy        | 0.00135   |\n",
      "|    epoch          | 0         |\n",
      "|    l2_loss        | 0         |\n",
      "|    l2_norm        | 1.63e+05  |\n",
      "|    loss           | 0.00012   |\n",
      "|    neglogp        | 0.000121  |\n",
      "|    prob_true_act  | 1         |\n",
      "|    samples_so_far | 32        |\n",
      "---------------------------------\n"
     ]
    },
    {
     "name": "stderr",
     "output_type": "stream",
     "text": [
      "246batch [00:04, 55.65batch/s]\n",
      "0batch [00:00, ?batch/s]"
     ]
    },
    {
     "name": "stdout",
     "output_type": "stream",
     "text": [
      "---------------------------------\n",
      "| batch_size        | 32        |\n",
      "| bc/               |           |\n",
      "|    batch          | 0         |\n",
      "|    ent_loss       | -1.62e-06 |\n",
      "|    entropy        | 0.00162   |\n",
      "|    epoch          | 0         |\n",
      "|    l2_loss        | 0         |\n",
      "|    l2_norm        | 1.63e+05  |\n",
      "|    loss           | 0.000141  |\n",
      "|    neglogp        | 0.000143  |\n",
      "|    prob_true_act  | 1         |\n",
      "|    samples_so_far | 32        |\n",
      "---------------------------------\n"
     ]
    },
    {
     "name": "stderr",
     "output_type": "stream",
     "text": [
      "246batch [00:04, 54.83batch/s]\n",
      "0batch [00:00, ?batch/s]"
     ]
    },
    {
     "name": "stdout",
     "output_type": "stream",
     "text": [
      "--------------------------------\n",
      "| batch_size        | 32       |\n",
      "| bc/               |          |\n",
      "|    batch          | 0        |\n",
      "|    ent_loss       | -1.2e-06 |\n",
      "|    entropy        | 0.0012   |\n",
      "|    epoch          | 0        |\n",
      "|    l2_loss        | 0        |\n",
      "|    l2_norm        | 1.63e+05 |\n",
      "|    loss           | 0.000117 |\n",
      "|    neglogp        | 0.000118 |\n",
      "|    prob_true_act  | 1        |\n",
      "|    samples_so_far | 32       |\n",
      "--------------------------------\n"
     ]
    },
    {
     "name": "stderr",
     "output_type": "stream",
     "text": [
      "246batch [00:04, 55.87batch/s]\n",
      "0batch [00:00, ?batch/s]"
     ]
    },
    {
     "name": "stdout",
     "output_type": "stream",
     "text": [
      "---------------------------------\n",
      "| batch_size        | 32        |\n",
      "| bc/               |           |\n",
      "|    batch          | 0         |\n",
      "|    ent_loss       | -1.89e-06 |\n",
      "|    entropy        | 0.00189   |\n",
      "|    epoch          | 0         |\n",
      "|    l2_loss        | 0         |\n",
      "|    l2_norm        | 1.63e+05  |\n",
      "|    loss           | 0.000171  |\n",
      "|    neglogp        | 0.000173  |\n",
      "|    prob_true_act  | 1         |\n",
      "|    samples_so_far | 32        |\n",
      "---------------------------------\n"
     ]
    },
    {
     "name": "stderr",
     "output_type": "stream",
     "text": [
      "246batch [00:04, 56.13batch/s]\n",
      "0batch [00:00, ?batch/s]"
     ]
    },
    {
     "name": "stdout",
     "output_type": "stream",
     "text": [
      "--------------------------------\n",
      "| batch_size        | 32       |\n",
      "| bc/               |          |\n",
      "|    batch          | 0        |\n",
      "|    ent_loss       | -5.1e-05 |\n",
      "|    entropy        | 0.051    |\n",
      "|    epoch          | 0        |\n",
      "|    l2_loss        | 0        |\n",
      "|    l2_norm        | 1.63e+05 |\n",
      "|    loss           | 0.0506   |\n",
      "|    neglogp        | 0.0507   |\n",
      "|    prob_true_act  | 0.971    |\n",
      "|    samples_so_far | 32       |\n",
      "--------------------------------\n"
     ]
    },
    {
     "name": "stderr",
     "output_type": "stream",
     "text": [
      "246batch [00:04, 55.10batch/s]\n",
      "0batch [00:00, ?batch/s]"
     ]
    },
    {
     "name": "stdout",
     "output_type": "stream",
     "text": [
      "---------------------------------\n",
      "| batch_size        | 32        |\n",
      "| bc/               |           |\n",
      "|    batch          | 0         |\n",
      "|    ent_loss       | -7.71e-07 |\n",
      "|    entropy        | 0.000771  |\n",
      "|    epoch          | 0         |\n",
      "|    l2_loss        | 0         |\n",
      "|    l2_norm        | 1.63e+05  |\n",
      "|    loss           | 6.97e-05  |\n",
      "|    neglogp        | 7.05e-05  |\n",
      "|    prob_true_act  | 1         |\n",
      "|    samples_so_far | 32        |\n",
      "---------------------------------\n"
     ]
    },
    {
     "name": "stderr",
     "output_type": "stream",
     "text": [
      "246batch [00:04, 56.28batch/s]\n",
      "0batch [00:00, ?batch/s]"
     ]
    },
    {
     "name": "stdout",
     "output_type": "stream",
     "text": [
      "---------------------------------\n",
      "| batch_size        | 32        |\n",
      "| bc/               |           |\n",
      "|    batch          | 0         |\n",
      "|    ent_loss       | -2.22e-05 |\n",
      "|    entropy        | 0.0222    |\n",
      "|    epoch          | 0         |\n",
      "|    l2_loss        | 0         |\n",
      "|    l2_norm        | 1.63e+05  |\n",
      "|    loss           | 0.0345    |\n",
      "|    neglogp        | 0.0345    |\n",
      "|    prob_true_act  | 0.979     |\n",
      "|    samples_so_far | 32        |\n",
      "---------------------------------\n"
     ]
    },
    {
     "name": "stderr",
     "output_type": "stream",
     "text": [
      "246batch [00:04, 54.34batch/s]\n",
      "0batch [00:00, ?batch/s]"
     ]
    },
    {
     "name": "stdout",
     "output_type": "stream",
     "text": [
      "---------------------------------\n",
      "| batch_size        | 32        |\n",
      "| bc/               |           |\n",
      "|    batch          | 0         |\n",
      "|    ent_loss       | -2.19e-05 |\n",
      "|    entropy        | 0.0219    |\n",
      "|    epoch          | 0         |\n",
      "|    l2_loss        | 0         |\n",
      "|    l2_norm        | 1.63e+05  |\n",
      "|    loss           | 0.0322    |\n",
      "|    neglogp        | 0.0322    |\n",
      "|    prob_true_act  | 0.98      |\n",
      "|    samples_so_far | 32        |\n",
      "---------------------------------\n"
     ]
    },
    {
     "name": "stderr",
     "output_type": "stream",
     "text": [
      "246batch [00:04, 54.33batch/s]\n",
      "0batch [00:00, ?batch/s]"
     ]
    },
    {
     "name": "stdout",
     "output_type": "stream",
     "text": [
      "---------------------------------\n",
      "| batch_size        | 32        |\n",
      "| bc/               |           |\n",
      "|    batch          | 0         |\n",
      "|    ent_loss       | -3.56e-05 |\n",
      "|    entropy        | 0.0356    |\n",
      "|    epoch          | 0         |\n",
      "|    l2_loss        | 0         |\n",
      "|    l2_norm        | 1.63e+05  |\n",
      "|    loss           | 0.0204    |\n",
      "|    neglogp        | 0.0205    |\n",
      "|    prob_true_act  | 0.985     |\n",
      "|    samples_so_far | 32        |\n",
      "---------------------------------\n"
     ]
    },
    {
     "name": "stderr",
     "output_type": "stream",
     "text": [
      "246batch [00:04, 55.25batch/s]\n",
      "0batch [00:00, ?batch/s]"
     ]
    },
    {
     "name": "stdout",
     "output_type": "stream",
     "text": [
      "---------------------------------\n",
      "| batch_size        | 32        |\n",
      "| bc/               |           |\n",
      "|    batch          | 0         |\n",
      "|    ent_loss       | -3.37e-05 |\n",
      "|    entropy        | 0.0337    |\n",
      "|    epoch          | 0         |\n",
      "|    l2_loss        | 0         |\n",
      "|    l2_norm        | 1.64e+05  |\n",
      "|    loss           | 0.0161    |\n",
      "|    neglogp        | 0.0162    |\n",
      "|    prob_true_act  | 0.987     |\n",
      "|    samples_so_far | 32        |\n",
      "---------------------------------\n"
     ]
    },
    {
     "name": "stderr",
     "output_type": "stream",
     "text": [
      "246batch [00:04, 53.48batch/s]\n",
      "0batch [00:00, ?batch/s]"
     ]
    },
    {
     "name": "stdout",
     "output_type": "stream",
     "text": [
      "---------------------------------\n",
      "| batch_size        | 32        |\n",
      "| bc/               |           |\n",
      "|    batch          | 0         |\n",
      "|    ent_loss       | -1.43e-06 |\n",
      "|    entropy        | 0.00143   |\n",
      "|    epoch          | 0         |\n",
      "|    l2_loss        | 0         |\n",
      "|    l2_norm        | 1.64e+05  |\n",
      "|    loss           | 0.000119  |\n",
      "|    neglogp        | 0.000121  |\n",
      "|    prob_true_act  | 1         |\n",
      "|    samples_so_far | 32        |\n",
      "---------------------------------\n"
     ]
    },
    {
     "name": "stderr",
     "output_type": "stream",
     "text": [
      "246batch [00:04, 53.85batch/s]\n",
      "0batch [00:00, ?batch/s]"
     ]
    },
    {
     "name": "stdout",
     "output_type": "stream",
     "text": [
      "---------------------------------\n",
      "| batch_size        | 32        |\n",
      "| bc/               |           |\n",
      "|    batch          | 0         |\n",
      "|    ent_loss       | -2.42e-05 |\n",
      "|    entropy        | 0.0242    |\n",
      "|    epoch          | 0         |\n",
      "|    l2_loss        | 0         |\n",
      "|    l2_norm        | 1.64e+05  |\n",
      "|    loss           | 0.0223    |\n",
      "|    neglogp        | 0.0223    |\n",
      "|    prob_true_act  | 0.984     |\n",
      "|    samples_so_far | 32        |\n",
      "---------------------------------\n"
     ]
    },
    {
     "name": "stderr",
     "output_type": "stream",
     "text": [
      "246batch [00:04, 55.19batch/s]\n",
      "0batch [00:00, ?batch/s]"
     ]
    },
    {
     "name": "stdout",
     "output_type": "stream",
     "text": [
      "---------------------------------\n",
      "| batch_size        | 32        |\n",
      "| bc/               |           |\n",
      "|    batch          | 0         |\n",
      "|    ent_loss       | -3.35e-05 |\n",
      "|    entropy        | 0.0335    |\n",
      "|    epoch          | 0         |\n",
      "|    l2_loss        | 0         |\n",
      "|    l2_norm        | 1.64e+05  |\n",
      "|    loss           | 0.0351    |\n",
      "|    neglogp        | 0.0351    |\n",
      "|    prob_true_act  | 0.979     |\n",
      "|    samples_so_far | 32        |\n",
      "---------------------------------\n"
     ]
    },
    {
     "name": "stderr",
     "output_type": "stream",
     "text": [
      "246batch [00:04, 55.51batch/s]\n",
      "0batch [00:00, ?batch/s]"
     ]
    },
    {
     "name": "stdout",
     "output_type": "stream",
     "text": [
      "---------------------------------\n",
      "| batch_size        | 32        |\n",
      "| bc/               |           |\n",
      "|    batch          | 0         |\n",
      "|    ent_loss       | -1.02e-06 |\n",
      "|    entropy        | 0.00102   |\n",
      "|    epoch          | 0         |\n",
      "|    l2_loss        | 0         |\n",
      "|    l2_norm        | 1.64e+05  |\n",
      "|    loss           | 8.4e-05   |\n",
      "|    neglogp        | 8.51e-05  |\n",
      "|    prob_true_act  | 1         |\n",
      "|    samples_so_far | 32        |\n",
      "---------------------------------\n"
     ]
    },
    {
     "name": "stderr",
     "output_type": "stream",
     "text": [
      "246batch [00:04, 54.18batch/s]\n",
      "0batch [00:00, ?batch/s]"
     ]
    },
    {
     "name": "stdout",
     "output_type": "stream",
     "text": [
      "---------------------------------\n",
      "| batch_size        | 32        |\n",
      "| bc/               |           |\n",
      "|    batch          | 0         |\n",
      "|    ent_loss       | -7.22e-05 |\n",
      "|    entropy        | 0.0722    |\n",
      "|    epoch          | 0         |\n",
      "|    l2_loss        | 0         |\n",
      "|    l2_norm        | 1.64e+05  |\n",
      "|    loss           | 0.0381    |\n",
      "|    neglogp        | 0.0382    |\n",
      "|    prob_true_act  | 0.969     |\n",
      "|    samples_so_far | 32        |\n",
      "---------------------------------\n"
     ]
    },
    {
     "name": "stderr",
     "output_type": "stream",
     "text": [
      "246batch [00:04, 55.54batch/s]\n",
      "0batch [00:00, ?batch/s]"
     ]
    },
    {
     "name": "stdout",
     "output_type": "stream",
     "text": [
      "---------------------------------\n",
      "| batch_size        | 32        |\n",
      "| bc/               |           |\n",
      "|    batch          | 0         |\n",
      "|    ent_loss       | -2.24e-05 |\n",
      "|    entropy        | 0.0224    |\n",
      "|    epoch          | 0         |\n",
      "|    l2_loss        | 0         |\n",
      "|    l2_norm        | 1.64e+05  |\n",
      "|    loss           | 0.0329    |\n",
      "|    neglogp        | 0.033     |\n",
      "|    prob_true_act  | 0.98      |\n",
      "|    samples_so_far | 32        |\n",
      "---------------------------------\n"
     ]
    },
    {
     "name": "stderr",
     "output_type": "stream",
     "text": [
      "246batch [00:04, 54.70batch/s]\n",
      "0batch [00:00, ?batch/s]"
     ]
    },
    {
     "name": "stdout",
     "output_type": "stream",
     "text": [
      "---------------------------------\n",
      "| batch_size        | 32        |\n",
      "| bc/               |           |\n",
      "|    batch          | 0         |\n",
      "|    ent_loss       | -3.75e-05 |\n",
      "|    entropy        | 0.0375    |\n",
      "|    epoch          | 0         |\n",
      "|    l2_loss        | 0         |\n",
      "|    l2_norm        | 1.64e+05  |\n",
      "|    loss           | 0.0519    |\n",
      "|    neglogp        | 0.0519    |\n",
      "|    prob_true_act  | 0.975     |\n",
      "|    samples_so_far | 32        |\n",
      "---------------------------------\n"
     ]
    },
    {
     "name": "stderr",
     "output_type": "stream",
     "text": [
      "246batch [00:04, 54.34batch/s]\n",
      "0batch [00:00, ?batch/s]"
     ]
    },
    {
     "name": "stdout",
     "output_type": "stream",
     "text": [
      "---------------------------------\n",
      "| batch_size        | 32        |\n",
      "| bc/               |           |\n",
      "|    batch          | 0         |\n",
      "|    ent_loss       | -3.27e-05 |\n",
      "|    entropy        | 0.0327    |\n",
      "|    epoch          | 0         |\n",
      "|    l2_loss        | 0         |\n",
      "|    l2_norm        | 1.64e+05  |\n",
      "|    loss           | 0.0049    |\n",
      "|    neglogp        | 0.00493   |\n",
      "|    prob_true_act  | 0.995     |\n",
      "|    samples_so_far | 32        |\n",
      "---------------------------------\n"
     ]
    },
    {
     "name": "stderr",
     "output_type": "stream",
     "text": [
      "246batch [00:04, 54.87batch/s]\n",
      "0batch [00:00, ?batch/s]"
     ]
    },
    {
     "name": "stdout",
     "output_type": "stream",
     "text": [
      "---------------------------------\n",
      "| batch_size        | 32        |\n",
      "| bc/               |           |\n",
      "|    batch          | 0         |\n",
      "|    ent_loss       | -3.82e-05 |\n",
      "|    entropy        | 0.0382    |\n",
      "|    epoch          | 0         |\n",
      "|    l2_loss        | 0         |\n",
      "|    l2_norm        | 1.64e+05  |\n",
      "|    loss           | 0.0515    |\n",
      "|    neglogp        | 0.0515    |\n",
      "|    prob_true_act  | 0.974     |\n",
      "|    samples_so_far | 32        |\n",
      "---------------------------------\n"
     ]
    },
    {
     "name": "stderr",
     "output_type": "stream",
     "text": [
      "246batch [00:04, 55.15batch/s]\n",
      "0batch [00:00, ?batch/s]"
     ]
    },
    {
     "name": "stdout",
     "output_type": "stream",
     "text": [
      "---------------------------------\n",
      "| batch_size        | 32        |\n",
      "| bc/               |           |\n",
      "|    batch          | 0         |\n",
      "|    ent_loss       | -8.78e-07 |\n",
      "|    entropy        | 0.000878  |\n",
      "|    epoch          | 0         |\n",
      "|    l2_loss        | 0         |\n",
      "|    l2_norm        | 1.64e+05  |\n",
      "|    loss           | 7.41e-05  |\n",
      "|    neglogp        | 7.5e-05   |\n",
      "|    prob_true_act  | 1         |\n",
      "|    samples_so_far | 32        |\n",
      "---------------------------------\n"
     ]
    },
    {
     "name": "stderr",
     "output_type": "stream",
     "text": [
      "246batch [00:04, 54.21batch/s]\n",
      "0batch [00:00, ?batch/s]"
     ]
    },
    {
     "name": "stdout",
     "output_type": "stream",
     "text": [
      "---------------------------------\n",
      "| batch_size        | 32        |\n",
      "| bc/               |           |\n",
      "|    batch          | 0         |\n",
      "|    ent_loss       | -7.83e-05 |\n",
      "|    entropy        | 0.0783    |\n",
      "|    epoch          | 0         |\n",
      "|    l2_loss        | 0         |\n",
      "|    l2_norm        | 1.64e+05  |\n",
      "|    loss           | 0.0523    |\n",
      "|    neglogp        | 0.0523    |\n",
      "|    prob_true_act  | 0.966     |\n",
      "|    samples_so_far | 32        |\n",
      "---------------------------------\n"
     ]
    },
    {
     "name": "stderr",
     "output_type": "stream",
     "text": [
      "246batch [00:04, 55.26batch/s]\n",
      "0batch [00:00, ?batch/s]"
     ]
    },
    {
     "name": "stdout",
     "output_type": "stream",
     "text": [
      "---------------------------------\n",
      "| batch_size        | 32        |\n",
      "| bc/               |           |\n",
      "|    batch          | 0         |\n",
      "|    ent_loss       | -2.14e-06 |\n",
      "|    entropy        | 0.00214   |\n",
      "|    epoch          | 0         |\n",
      "|    l2_loss        | 0         |\n",
      "|    l2_norm        | 1.64e+05  |\n",
      "|    loss           | 0.000188  |\n",
      "|    neglogp        | 0.00019   |\n",
      "|    prob_true_act  | 1         |\n",
      "|    samples_so_far | 32        |\n",
      "---------------------------------\n"
     ]
    },
    {
     "name": "stderr",
     "output_type": "stream",
     "text": [
      "246batch [00:04, 54.15batch/s]\n",
      "0batch [00:00, ?batch/s]"
     ]
    },
    {
     "name": "stdout",
     "output_type": "stream",
     "text": [
      "---------------------------------\n",
      "| batch_size        | 32        |\n",
      "| bc/               |           |\n",
      "|    batch          | 0         |\n",
      "|    ent_loss       | -1.77e-06 |\n",
      "|    entropy        | 0.00177   |\n",
      "|    epoch          | 0         |\n",
      "|    l2_loss        | 0         |\n",
      "|    l2_norm        | 1.64e+05  |\n",
      "|    loss           | 0.000155  |\n",
      "|    neglogp        | 0.000157  |\n",
      "|    prob_true_act  | 1         |\n",
      "|    samples_so_far | 32        |\n",
      "---------------------------------\n"
     ]
    },
    {
     "name": "stderr",
     "output_type": "stream",
     "text": [
      "246batch [00:04, 55.15batch/s]\n",
      "0batch [00:00, ?batch/s]"
     ]
    },
    {
     "name": "stdout",
     "output_type": "stream",
     "text": [
      "---------------------------------\n",
      "| batch_size        | 32        |\n",
      "| bc/               |           |\n",
      "|    batch          | 0         |\n",
      "|    ent_loss       | -9.74e-07 |\n",
      "|    entropy        | 0.000974  |\n",
      "|    epoch          | 0         |\n",
      "|    l2_loss        | 0         |\n",
      "|    l2_norm        | 1.65e+05  |\n",
      "|    loss           | 7.91e-05  |\n",
      "|    neglogp        | 8e-05     |\n",
      "|    prob_true_act  | 1         |\n",
      "|    samples_so_far | 32        |\n",
      "---------------------------------\n"
     ]
    },
    {
     "name": "stderr",
     "output_type": "stream",
     "text": [
      "246batch [00:04, 55.38batch/s]\n",
      "0batch [00:00, ?batch/s]"
     ]
    },
    {
     "name": "stdout",
     "output_type": "stream",
     "text": [
      "---------------------------------\n",
      "| batch_size        | 32        |\n",
      "| bc/               |           |\n",
      "|    batch          | 0         |\n",
      "|    ent_loss       | -1.16e-06 |\n",
      "|    entropy        | 0.00116   |\n",
      "|    epoch          | 0         |\n",
      "|    l2_loss        | 0         |\n",
      "|    l2_norm        | 1.65e+05  |\n",
      "|    loss           | 9.72e-05  |\n",
      "|    neglogp        | 9.83e-05  |\n",
      "|    prob_true_act  | 1         |\n",
      "|    samples_so_far | 32        |\n",
      "---------------------------------\n"
     ]
    },
    {
     "name": "stderr",
     "output_type": "stream",
     "text": [
      "246batch [00:04, 53.30batch/s]\n",
      "0batch [00:00, ?batch/s]"
     ]
    },
    {
     "name": "stdout",
     "output_type": "stream",
     "text": [
      "--------------------------------\n",
      "| batch_size        | 32       |\n",
      "| bc/               |          |\n",
      "|    batch          | 0        |\n",
      "|    ent_loss       | -5.9e-05 |\n",
      "|    entropy        | 0.059    |\n",
      "|    epoch          | 0        |\n",
      "|    l2_loss        | 0        |\n",
      "|    l2_norm        | 1.65e+05 |\n",
      "|    loss           | 0.0615   |\n",
      "|    neglogp        | 0.0616   |\n",
      "|    prob_true_act  | 0.962    |\n",
      "|    samples_so_far | 32       |\n",
      "--------------------------------\n"
     ]
    },
    {
     "name": "stderr",
     "output_type": "stream",
     "text": [
      "246batch [00:04, 55.18batch/s]\n",
      "0batch [00:00, ?batch/s]"
     ]
    },
    {
     "name": "stdout",
     "output_type": "stream",
     "text": [
      "--------------------------------\n",
      "| batch_size        | 32       |\n",
      "| bc/               |          |\n",
      "|    batch          | 0        |\n",
      "|    ent_loss       | -3.5e-05 |\n",
      "|    entropy        | 0.035    |\n",
      "|    epoch          | 0        |\n",
      "|    l2_loss        | 0        |\n",
      "|    l2_norm        | 1.65e+05 |\n",
      "|    loss           | 0.0474   |\n",
      "|    neglogp        | 0.0475   |\n",
      "|    prob_true_act  | 0.975    |\n",
      "|    samples_so_far | 32       |\n",
      "--------------------------------\n"
     ]
    },
    {
     "name": "stderr",
     "output_type": "stream",
     "text": [
      "246batch [00:04, 55.48batch/s]\n",
      "0batch [00:00, ?batch/s]"
     ]
    },
    {
     "name": "stdout",
     "output_type": "stream",
     "text": [
      "---------------------------------\n",
      "| batch_size        | 32        |\n",
      "| bc/               |           |\n",
      "|    batch          | 0         |\n",
      "|    ent_loss       | -5.13e-07 |\n",
      "|    entropy        | 0.000513  |\n",
      "|    epoch          | 0         |\n",
      "|    l2_loss        | 0         |\n",
      "|    l2_norm        | 1.65e+05  |\n",
      "|    loss           | 4.18e-05  |\n",
      "|    neglogp        | 4.23e-05  |\n",
      "|    prob_true_act  | 1         |\n",
      "|    samples_so_far | 32        |\n",
      "---------------------------------\n"
     ]
    },
    {
     "name": "stderr",
     "output_type": "stream",
     "text": [
      "246batch [00:04, 54.23batch/s]\n",
      "0batch [00:00, ?batch/s]"
     ]
    },
    {
     "name": "stdout",
     "output_type": "stream",
     "text": [
      "---------------------------------\n",
      "| batch_size        | 32        |\n",
      "| bc/               |           |\n",
      "|    batch          | 0         |\n",
      "|    ent_loss       | -3.67e-05 |\n",
      "|    entropy        | 0.0367    |\n",
      "|    epoch          | 0         |\n",
      "|    l2_loss        | 0         |\n",
      "|    l2_norm        | 1.65e+05  |\n",
      "|    loss           | 0.0327    |\n",
      "|    neglogp        | 0.0327    |\n",
      "|    prob_true_act  | 0.98      |\n",
      "|    samples_so_far | 32        |\n",
      "---------------------------------\n"
     ]
    },
    {
     "name": "stderr",
     "output_type": "stream",
     "text": [
      "246batch [00:04, 55.23batch/s]\n",
      "0batch [00:00, ?batch/s]"
     ]
    },
    {
     "name": "stdout",
     "output_type": "stream",
     "text": [
      "---------------------------------\n",
      "| batch_size        | 32        |\n",
      "| bc/               |           |\n",
      "|    batch          | 0         |\n",
      "|    ent_loss       | -3.26e-07 |\n",
      "|    entropy        | 0.000326  |\n",
      "|    epoch          | 0         |\n",
      "|    l2_loss        | 0         |\n",
      "|    l2_norm        | 1.65e+05  |\n",
      "|    loss           | 2.52e-05  |\n",
      "|    neglogp        | 2.55e-05  |\n",
      "|    prob_true_act  | 1         |\n",
      "|    samples_so_far | 32        |\n",
      "---------------------------------\n"
     ]
    },
    {
     "name": "stderr",
     "output_type": "stream",
     "text": [
      "246batch [00:04, 54.90batch/s]\n",
      "0batch [00:00, ?batch/s]"
     ]
    },
    {
     "name": "stdout",
     "output_type": "stream",
     "text": [
      "---------------------------------\n",
      "| batch_size        | 32        |\n",
      "| bc/               |           |\n",
      "|    batch          | 0         |\n",
      "|    ent_loss       | -3.43e-06 |\n",
      "|    entropy        | 0.00343   |\n",
      "|    epoch          | 0         |\n",
      "|    l2_loss        | 0         |\n",
      "|    l2_norm        | 1.65e+05  |\n",
      "|    loss           | 0.00031   |\n",
      "|    neglogp        | 0.000313  |\n",
      "|    prob_true_act  | 1         |\n",
      "|    samples_so_far | 32        |\n",
      "---------------------------------\n"
     ]
    },
    {
     "name": "stderr",
     "output_type": "stream",
     "text": [
      "246batch [00:04, 54.10batch/s]\n",
      "0batch [00:00, ?batch/s]"
     ]
    },
    {
     "name": "stdout",
     "output_type": "stream",
     "text": [
      "---------------------------------\n",
      "| batch_size        | 32        |\n",
      "| bc/               |           |\n",
      "|    batch          | 0         |\n",
      "|    ent_loss       | -7.96e-07 |\n",
      "|    entropy        | 0.000796  |\n",
      "|    epoch          | 0         |\n",
      "|    l2_loss        | 0         |\n",
      "|    l2_norm        | 1.65e+05  |\n",
      "|    loss           | 6.41e-05  |\n",
      "|    neglogp        | 6.49e-05  |\n",
      "|    prob_true_act  | 1         |\n",
      "|    samples_so_far | 32        |\n",
      "---------------------------------\n"
     ]
    },
    {
     "name": "stderr",
     "output_type": "stream",
     "text": [
      "246batch [00:04, 55.37batch/s]\n",
      "0batch [00:00, ?batch/s]"
     ]
    },
    {
     "name": "stdout",
     "output_type": "stream",
     "text": [
      "---------------------------------\n",
      "| batch_size        | 32        |\n",
      "| bc/               |           |\n",
      "|    batch          | 0         |\n",
      "|    ent_loss       | -6.03e-05 |\n",
      "|    entropy        | 0.0603    |\n",
      "|    epoch          | 0         |\n",
      "|    l2_loss        | 0         |\n",
      "|    l2_norm        | 1.66e+05  |\n",
      "|    loss           | 0.049     |\n",
      "|    neglogp        | 0.0491    |\n",
      "|    prob_true_act  | 0.969     |\n",
      "|    samples_so_far | 32        |\n",
      "---------------------------------\n"
     ]
    },
    {
     "name": "stderr",
     "output_type": "stream",
     "text": [
      "246batch [00:04, 55.28batch/s]\n",
      "0batch [00:00, ?batch/s]"
     ]
    },
    {
     "name": "stdout",
     "output_type": "stream",
     "text": [
      "---------------------------------\n",
      "| batch_size        | 32        |\n",
      "| bc/               |           |\n",
      "|    batch          | 0         |\n",
      "|    ent_loss       | -3.58e-06 |\n",
      "|    entropy        | 0.00358   |\n",
      "|    epoch          | 0         |\n",
      "|    l2_loss        | 0         |\n",
      "|    l2_norm        | 1.66e+05  |\n",
      "|    loss           | 0.000343  |\n",
      "|    neglogp        | 0.000346  |\n",
      "|    prob_true_act  | 1         |\n",
      "|    samples_so_far | 32        |\n",
      "---------------------------------\n"
     ]
    },
    {
     "name": "stderr",
     "output_type": "stream",
     "text": [
      "246batch [00:04, 54.85batch/s]\n",
      "0batch [00:00, ?batch/s]"
     ]
    },
    {
     "name": "stdout",
     "output_type": "stream",
     "text": [
      "---------------------------------\n",
      "| batch_size        | 32        |\n",
      "| bc/               |           |\n",
      "|    batch          | 0         |\n",
      "|    ent_loss       | -1.24e-06 |\n",
      "|    entropy        | 0.00124   |\n",
      "|    epoch          | 0         |\n",
      "|    l2_loss        | 0         |\n",
      "|    l2_norm        | 1.66e+05  |\n",
      "|    loss           | 0.00011   |\n",
      "|    neglogp        | 0.000111  |\n",
      "|    prob_true_act  | 1         |\n",
      "|    samples_so_far | 32        |\n",
      "---------------------------------\n"
     ]
    },
    {
     "name": "stderr",
     "output_type": "stream",
     "text": [
      "246batch [00:04, 55.18batch/s]\n",
      "0batch [00:00, ?batch/s]"
     ]
    },
    {
     "name": "stdout",
     "output_type": "stream",
     "text": [
      "--------------------------------\n",
      "| batch_size        | 32       |\n",
      "| bc/               |          |\n",
      "|    batch          | 0        |\n",
      "|    ent_loss       | -1.2e-06 |\n",
      "|    entropy        | 0.0012   |\n",
      "|    epoch          | 0        |\n",
      "|    l2_loss        | 0        |\n",
      "|    l2_norm        | 1.66e+05 |\n",
      "|    loss           | 0.000104 |\n",
      "|    neglogp        | 0.000105 |\n",
      "|    prob_true_act  | 1        |\n",
      "|    samples_so_far | 32       |\n",
      "--------------------------------\n"
     ]
    },
    {
     "name": "stderr",
     "output_type": "stream",
     "text": [
      "246batch [00:04, 55.41batch/s]\n",
      "0batch [00:00, ?batch/s]"
     ]
    },
    {
     "name": "stdout",
     "output_type": "stream",
     "text": [
      "---------------------------------\n",
      "| batch_size        | 32        |\n",
      "| bc/               |           |\n",
      "|    batch          | 0         |\n",
      "|    ent_loss       | -1.07e-06 |\n",
      "|    entropy        | 0.00107   |\n",
      "|    epoch          | 0         |\n",
      "|    l2_loss        | 0         |\n",
      "|    l2_norm        | 1.66e+05  |\n",
      "|    loss           | 8.55e-05  |\n",
      "|    neglogp        | 8.65e-05  |\n",
      "|    prob_true_act  | 1         |\n",
      "|    samples_so_far | 32        |\n",
      "---------------------------------\n"
     ]
    },
    {
     "name": "stderr",
     "output_type": "stream",
     "text": [
      "246batch [00:04, 53.83batch/s]\n",
      "0batch [00:00, ?batch/s]"
     ]
    },
    {
     "name": "stdout",
     "output_type": "stream",
     "text": [
      "---------------------------------\n",
      "| batch_size        | 32        |\n",
      "| bc/               |           |\n",
      "|    batch          | 0         |\n",
      "|    ent_loss       | -8.59e-07 |\n",
      "|    entropy        | 0.000859  |\n",
      "|    epoch          | 0         |\n",
      "|    l2_loss        | 0         |\n",
      "|    l2_norm        | 1.66e+05  |\n",
      "|    loss           | 6.93e-05  |\n",
      "|    neglogp        | 7.02e-05  |\n",
      "|    prob_true_act  | 1         |\n",
      "|    samples_so_far | 32        |\n",
      "---------------------------------\n"
     ]
    },
    {
     "name": "stderr",
     "output_type": "stream",
     "text": [
      "246batch [00:04, 55.19batch/s]\n",
      "0batch [00:00, ?batch/s]"
     ]
    },
    {
     "name": "stdout",
     "output_type": "stream",
     "text": [
      "---------------------------------\n",
      "| batch_size        | 32        |\n",
      "| bc/               |           |\n",
      "|    batch          | 0         |\n",
      "|    ent_loss       | -0.000115 |\n",
      "|    entropy        | 0.115     |\n",
      "|    epoch          | 0         |\n",
      "|    l2_loss        | 0         |\n",
      "|    l2_norm        | 1.66e+05  |\n",
      "|    loss           | 0.255     |\n",
      "|    neglogp        | 0.255     |\n",
      "|    prob_true_act  | 0.924     |\n",
      "|    samples_so_far | 32        |\n",
      "---------------------------------\n"
     ]
    },
    {
     "name": "stderr",
     "output_type": "stream",
     "text": [
      "246batch [00:04, 54.49batch/s]\n",
      "0batch [00:00, ?batch/s]"
     ]
    },
    {
     "name": "stdout",
     "output_type": "stream",
     "text": [
      "---------------------------------\n",
      "| batch_size        | 32        |\n",
      "| bc/               |           |\n",
      "|    batch          | 0         |\n",
      "|    ent_loss       | -5.43e-05 |\n",
      "|    entropy        | 0.0543    |\n",
      "|    epoch          | 0         |\n",
      "|    l2_loss        | 0         |\n",
      "|    l2_norm        | 1.66e+05  |\n",
      "|    loss           | 0.0263    |\n",
      "|    neglogp        | 0.0263    |\n",
      "|    prob_true_act  | 0.98      |\n",
      "|    samples_so_far | 32        |\n",
      "---------------------------------\n"
     ]
    },
    {
     "name": "stderr",
     "output_type": "stream",
     "text": [
      "246batch [00:04, 54.44batch/s]\n",
      "0batch [00:00, ?batch/s]"
     ]
    },
    {
     "name": "stdout",
     "output_type": "stream",
     "text": [
      "--------------------------------\n",
      "| batch_size        | 32       |\n",
      "| bc/               |          |\n",
      "|    batch          | 0        |\n",
      "|    ent_loss       | -2.1e-06 |\n",
      "|    entropy        | 0.0021   |\n",
      "|    epoch          | 0        |\n",
      "|    l2_loss        | 0        |\n",
      "|    l2_norm        | 1.66e+05 |\n",
      "|    loss           | 0.000214 |\n",
      "|    neglogp        | 0.000216 |\n",
      "|    prob_true_act  | 1        |\n",
      "|    samples_so_far | 32       |\n",
      "--------------------------------\n"
     ]
    },
    {
     "name": "stderr",
     "output_type": "stream",
     "text": [
      "246batch [00:04, 55.44batch/s]\n",
      "0batch [00:00, ?batch/s]"
     ]
    },
    {
     "name": "stdout",
     "output_type": "stream",
     "text": [
      "---------------------------------\n",
      "| batch_size        | 32        |\n",
      "| bc/               |           |\n",
      "|    batch          | 0         |\n",
      "|    ent_loss       | -1.51e-06 |\n",
      "|    entropy        | 0.00151   |\n",
      "|    epoch          | 0         |\n",
      "|    l2_loss        | 0         |\n",
      "|    l2_norm        | 1.66e+05  |\n",
      "|    loss           | 0.000132  |\n",
      "|    neglogp        | 0.000134  |\n",
      "|    prob_true_act  | 1         |\n",
      "|    samples_so_far | 32        |\n",
      "---------------------------------\n"
     ]
    },
    {
     "name": "stderr",
     "output_type": "stream",
     "text": [
      "246batch [00:04, 55.51batch/s]\n"
     ]
    },
    {
     "name": "stdout",
     "output_type": "stream",
     "text": [
      "Checkpoint saved at checkpoints\\bc_model_epoch_600.zip\n"
     ]
    },
    {
     "name": "stderr",
     "output_type": "stream",
     "text": [
      "0batch [00:00, ?batch/s]"
     ]
    },
    {
     "name": "stdout",
     "output_type": "stream",
     "text": [
      "---------------------------------\n",
      "| batch_size        | 32        |\n",
      "| bc/               |           |\n",
      "|    batch          | 0         |\n",
      "|    ent_loss       | -1.45e-06 |\n",
      "|    entropy        | 0.00145   |\n",
      "|    epoch          | 0         |\n",
      "|    l2_loss        | 0         |\n",
      "|    l2_norm        | 1.66e+05  |\n",
      "|    loss           | 0.000144  |\n",
      "|    neglogp        | 0.000145  |\n",
      "|    prob_true_act  | 1         |\n",
      "|    samples_so_far | 32        |\n",
      "---------------------------------\n"
     ]
    },
    {
     "name": "stderr",
     "output_type": "stream",
     "text": [
      "246batch [00:04, 53.36batch/s]\n",
      "0batch [00:00, ?batch/s]"
     ]
    },
    {
     "name": "stdout",
     "output_type": "stream",
     "text": [
      "--------------------------------\n",
      "| batch_size        | 32       |\n",
      "| bc/               |          |\n",
      "|    batch          | 0        |\n",
      "|    ent_loss       | -1.2e-06 |\n",
      "|    entropy        | 0.0012   |\n",
      "|    epoch          | 0        |\n",
      "|    l2_loss        | 0        |\n",
      "|    l2_norm        | 1.66e+05 |\n",
      "|    loss           | 0.000101 |\n",
      "|    neglogp        | 0.000102 |\n",
      "|    prob_true_act  | 1        |\n",
      "|    samples_so_far | 32       |\n",
      "--------------------------------\n"
     ]
    },
    {
     "name": "stderr",
     "output_type": "stream",
     "text": [
      "246batch [00:04, 55.40batch/s]\n",
      "0batch [00:00, ?batch/s]"
     ]
    },
    {
     "name": "stdout",
     "output_type": "stream",
     "text": [
      "--------------------------------\n",
      "| batch_size        | 32       |\n",
      "| bc/               |          |\n",
      "|    batch          | 0        |\n",
      "|    ent_loss       | -1.1e-06 |\n",
      "|    entropy        | 0.0011   |\n",
      "|    epoch          | 0        |\n",
      "|    l2_loss        | 0        |\n",
      "|    l2_norm        | 1.66e+05 |\n",
      "|    loss           | 9.3e-05  |\n",
      "|    neglogp        | 9.41e-05 |\n",
      "|    prob_true_act  | 1        |\n",
      "|    samples_so_far | 32       |\n",
      "--------------------------------\n"
     ]
    },
    {
     "name": "stderr",
     "output_type": "stream",
     "text": [
      "246batch [00:04, 53.41batch/s]\n",
      "0batch [00:00, ?batch/s]"
     ]
    },
    {
     "name": "stdout",
     "output_type": "stream",
     "text": [
      "---------------------------------\n",
      "| batch_size        | 32        |\n",
      "| bc/               |           |\n",
      "|    batch          | 0         |\n",
      "|    ent_loss       | -2.27e-05 |\n",
      "|    entropy        | 0.0227    |\n",
      "|    epoch          | 0         |\n",
      "|    l2_loss        | 0         |\n",
      "|    l2_norm        | 1.66e+05  |\n",
      "|    loss           | 0.0234    |\n",
      "|    neglogp        | 0.0234    |\n",
      "|    prob_true_act  | 0.983     |\n",
      "|    samples_so_far | 32        |\n",
      "---------------------------------\n"
     ]
    },
    {
     "name": "stderr",
     "output_type": "stream",
     "text": [
      "246batch [00:04, 55.00batch/s]\n",
      "0batch [00:00, ?batch/s]"
     ]
    },
    {
     "name": "stdout",
     "output_type": "stream",
     "text": [
      "---------------------------------\n",
      "| batch_size        | 32        |\n",
      "| bc/               |           |\n",
      "|    batch          | 0         |\n",
      "|    ent_loss       | -3.62e-05 |\n",
      "|    entropy        | 0.0362    |\n",
      "|    epoch          | 0         |\n",
      "|    l2_loss        | 0         |\n",
      "|    l2_norm        | 1.67e+05  |\n",
      "|    loss           | 0.0456    |\n",
      "|    neglogp        | 0.0456    |\n",
      "|    prob_true_act  | 0.976     |\n",
      "|    samples_so_far | 32        |\n",
      "---------------------------------\n"
     ]
    },
    {
     "name": "stderr",
     "output_type": "stream",
     "text": [
      "246batch [00:04, 55.38batch/s]\n",
      "0batch [00:00, ?batch/s]"
     ]
    },
    {
     "name": "stdout",
     "output_type": "stream",
     "text": [
      "--------------------------------\n",
      "| batch_size        | 32       |\n",
      "| bc/               |          |\n",
      "|    batch          | 0        |\n",
      "|    ent_loss       | -1.7e-05 |\n",
      "|    entropy        | 0.017    |\n",
      "|    epoch          | 0        |\n",
      "|    l2_loss        | 0        |\n",
      "|    l2_norm        | 1.67e+05 |\n",
      "|    loss           | 0.00665  |\n",
      "|    neglogp        | 0.00667  |\n",
      "|    prob_true_act  | 0.994    |\n",
      "|    samples_so_far | 32       |\n",
      "--------------------------------\n"
     ]
    },
    {
     "name": "stderr",
     "output_type": "stream",
     "text": [
      "246batch [00:04, 53.84batch/s]\n",
      "0batch [00:00, ?batch/s]"
     ]
    },
    {
     "name": "stdout",
     "output_type": "stream",
     "text": [
      "---------------------------------\n",
      "| batch_size        | 32        |\n",
      "| bc/               |           |\n",
      "|    batch          | 0         |\n",
      "|    ent_loss       | -3.88e-05 |\n",
      "|    entropy        | 0.0388    |\n",
      "|    epoch          | 0         |\n",
      "|    l2_loss        | 0         |\n",
      "|    l2_norm        | 1.67e+05  |\n",
      "|    loss           | 0.0368    |\n",
      "|    neglogp        | 0.0369    |\n",
      "|    prob_true_act  | 0.978     |\n",
      "|    samples_so_far | 32        |\n",
      "---------------------------------\n"
     ]
    },
    {
     "name": "stderr",
     "output_type": "stream",
     "text": [
      "246batch [00:04, 55.27batch/s]\n",
      "0batch [00:00, ?batch/s]"
     ]
    },
    {
     "name": "stdout",
     "output_type": "stream",
     "text": [
      "---------------------------------\n",
      "| batch_size        | 32        |\n",
      "| bc/               |           |\n",
      "|    batch          | 0         |\n",
      "|    ent_loss       | -1.21e-06 |\n",
      "|    entropy        | 0.00121   |\n",
      "|    epoch          | 0         |\n",
      "|    l2_loss        | 0         |\n",
      "|    l2_norm        | 1.67e+05  |\n",
      "|    loss           | 0.000103  |\n",
      "|    neglogp        | 0.000104  |\n",
      "|    prob_true_act  | 1         |\n",
      "|    samples_so_far | 32        |\n",
      "---------------------------------\n"
     ]
    },
    {
     "name": "stderr",
     "output_type": "stream",
     "text": [
      "246batch [00:04, 54.51batch/s]\n",
      "0batch [00:00, ?batch/s]"
     ]
    },
    {
     "name": "stdout",
     "output_type": "stream",
     "text": [
      "--------------------------------\n",
      "| batch_size        | 32       |\n",
      "| bc/               |          |\n",
      "|    batch          | 0        |\n",
      "|    ent_loss       | -2.6e-05 |\n",
      "|    entropy        | 0.026    |\n",
      "|    epoch          | 0        |\n",
      "|    l2_loss        | 0        |\n",
      "|    l2_norm        | 1.67e+05 |\n",
      "|    loss           | 0.0186   |\n",
      "|    neglogp        | 0.0187   |\n",
      "|    prob_true_act  | 0.986    |\n",
      "|    samples_so_far | 32       |\n",
      "--------------------------------\n"
     ]
    },
    {
     "name": "stderr",
     "output_type": "stream",
     "text": [
      "246batch [00:04, 52.82batch/s]\n",
      "0batch [00:00, ?batch/s]"
     ]
    },
    {
     "name": "stdout",
     "output_type": "stream",
     "text": [
      "---------------------------------\n",
      "| batch_size        | 32        |\n",
      "| bc/               |           |\n",
      "|    batch          | 0         |\n",
      "|    ent_loss       | -2.24e-05 |\n",
      "|    entropy        | 0.0224    |\n",
      "|    epoch          | 0         |\n",
      "|    l2_loss        | 0         |\n",
      "|    l2_norm        | 1.67e+05  |\n",
      "|    loss           | 0.0345    |\n",
      "|    neglogp        | 0.0345    |\n",
      "|    prob_true_act  | 0.979     |\n",
      "|    samples_so_far | 32        |\n",
      "---------------------------------\n"
     ]
    },
    {
     "name": "stderr",
     "output_type": "stream",
     "text": [
      "246batch [00:04, 54.98batch/s]\n",
      "0batch [00:00, ?batch/s]"
     ]
    },
    {
     "name": "stdout",
     "output_type": "stream",
     "text": [
      "---------------------------------\n",
      "| batch_size        | 32        |\n",
      "| bc/               |           |\n",
      "|    batch          | 0         |\n",
      "|    ent_loss       | -5.93e-07 |\n",
      "|    entropy        | 0.000593  |\n",
      "|    epoch          | 0         |\n",
      "|    l2_loss        | 0         |\n",
      "|    l2_norm        | 1.67e+05  |\n",
      "|    loss           | 5.07e-05  |\n",
      "|    neglogp        | 5.13e-05  |\n",
      "|    prob_true_act  | 1         |\n",
      "|    samples_so_far | 32        |\n",
      "---------------------------------\n"
     ]
    },
    {
     "name": "stderr",
     "output_type": "stream",
     "text": [
      "246batch [00:04, 55.68batch/s]\n",
      "0batch [00:00, ?batch/s]"
     ]
    },
    {
     "name": "stdout",
     "output_type": "stream",
     "text": [
      "---------------------------------\n",
      "| batch_size        | 32        |\n",
      "| bc/               |           |\n",
      "|    batch          | 0         |\n",
      "|    ent_loss       | -3.92e-05 |\n",
      "|    entropy        | 0.0392    |\n",
      "|    epoch          | 0         |\n",
      "|    l2_loss        | 0         |\n",
      "|    l2_norm        | 1.67e+05  |\n",
      "|    loss           | 0.0323    |\n",
      "|    neglogp        | 0.0324    |\n",
      "|    prob_true_act  | 0.98      |\n",
      "|    samples_so_far | 32        |\n",
      "---------------------------------\n"
     ]
    },
    {
     "name": "stderr",
     "output_type": "stream",
     "text": [
      "246batch [00:04, 54.40batch/s]\n",
      "0batch [00:00, ?batch/s]"
     ]
    },
    {
     "name": "stdout",
     "output_type": "stream",
     "text": [
      "---------------------------------\n",
      "| batch_size        | 32        |\n",
      "| bc/               |           |\n",
      "|    batch          | 0         |\n",
      "|    ent_loss       | -5.61e-07 |\n",
      "|    entropy        | 0.000561  |\n",
      "|    epoch          | 0         |\n",
      "|    l2_loss        | 0         |\n",
      "|    l2_norm        | 1.67e+05  |\n",
      "|    loss           | 4.22e-05  |\n",
      "|    neglogp        | 4.27e-05  |\n",
      "|    prob_true_act  | 1         |\n",
      "|    samples_so_far | 32        |\n",
      "---------------------------------\n"
     ]
    },
    {
     "name": "stderr",
     "output_type": "stream",
     "text": [
      "246batch [00:04, 55.02batch/s]\n",
      "0batch [00:00, ?batch/s]"
     ]
    },
    {
     "name": "stdout",
     "output_type": "stream",
     "text": [
      "---------------------------------\n",
      "| batch_size        | 32        |\n",
      "| bc/               |           |\n",
      "|    batch          | 0         |\n",
      "|    ent_loss       | -7.63e-07 |\n",
      "|    entropy        | 0.000763  |\n",
      "|    epoch          | 0         |\n",
      "|    l2_loss        | 0         |\n",
      "|    l2_norm        | 1.68e+05  |\n",
      "|    loss           | 6.58e-05  |\n",
      "|    neglogp        | 6.65e-05  |\n",
      "|    prob_true_act  | 1         |\n",
      "|    samples_so_far | 32        |\n",
      "---------------------------------\n"
     ]
    },
    {
     "name": "stderr",
     "output_type": "stream",
     "text": [
      "246batch [00:04, 55.43batch/s]\n",
      "0batch [00:00, ?batch/s]"
     ]
    },
    {
     "name": "stdout",
     "output_type": "stream",
     "text": [
      "--------------------------------\n",
      "| batch_size        | 32       |\n",
      "| bc/               |          |\n",
      "|    batch          | 0        |\n",
      "|    ent_loss       | -1.4e-06 |\n",
      "|    entropy        | 0.0014   |\n",
      "|    epoch          | 0        |\n",
      "|    l2_loss        | 0        |\n",
      "|    l2_norm        | 1.68e+05 |\n",
      "|    loss           | 0.000117 |\n",
      "|    neglogp        | 0.000119 |\n",
      "|    prob_true_act  | 1        |\n",
      "|    samples_so_far | 32       |\n",
      "--------------------------------\n"
     ]
    },
    {
     "name": "stderr",
     "output_type": "stream",
     "text": [
      "246batch [00:04, 54.31batch/s]\n",
      "0batch [00:00, ?batch/s]"
     ]
    },
    {
     "name": "stdout",
     "output_type": "stream",
     "text": [
      "--------------------------------\n",
      "| batch_size        | 32       |\n",
      "| bc/               |          |\n",
      "|    batch          | 0        |\n",
      "|    ent_loss       | -3.4e-05 |\n",
      "|    entropy        | 0.034    |\n",
      "|    epoch          | 0        |\n",
      "|    l2_loss        | 0        |\n",
      "|    l2_norm        | 1.67e+05 |\n",
      "|    loss           | 0.0382   |\n",
      "|    neglogp        | 0.0382   |\n",
      "|    prob_true_act  | 0.978    |\n",
      "|    samples_so_far | 32       |\n",
      "--------------------------------\n"
     ]
    },
    {
     "name": "stderr",
     "output_type": "stream",
     "text": [
      "246batch [00:04, 55.41batch/s]\n",
      "0batch [00:00, ?batch/s]"
     ]
    },
    {
     "name": "stdout",
     "output_type": "stream",
     "text": [
      "---------------------------------\n",
      "| batch_size        | 32        |\n",
      "| bc/               |           |\n",
      "|    batch          | 0         |\n",
      "|    ent_loss       | -8.59e-07 |\n",
      "|    entropy        | 0.000859  |\n",
      "|    epoch          | 0         |\n",
      "|    l2_loss        | 0         |\n",
      "|    l2_norm        | 1.68e+05  |\n",
      "|    loss           | 6.89e-05  |\n",
      "|    neglogp        | 6.97e-05  |\n",
      "|    prob_true_act  | 1         |\n",
      "|    samples_so_far | 32        |\n",
      "---------------------------------\n"
     ]
    },
    {
     "name": "stderr",
     "output_type": "stream",
     "text": [
      "246batch [00:04, 55.29batch/s]\n",
      "0batch [00:00, ?batch/s]"
     ]
    },
    {
     "name": "stdout",
     "output_type": "stream",
     "text": [
      "---------------------------------\n",
      "| batch_size        | 32        |\n",
      "| bc/               |           |\n",
      "|    batch          | 0         |\n",
      "|    ent_loss       | -2.28e-05 |\n",
      "|    entropy        | 0.0228    |\n",
      "|    epoch          | 0         |\n",
      "|    l2_loss        | 0         |\n",
      "|    l2_norm        | 1.68e+05  |\n",
      "|    loss           | 0.0382    |\n",
      "|    neglogp        | 0.0382    |\n",
      "|    prob_true_act  | 0.978     |\n",
      "|    samples_so_far | 32        |\n",
      "---------------------------------\n"
     ]
    },
    {
     "name": "stderr",
     "output_type": "stream",
     "text": [
      "246batch [00:04, 54.30batch/s]\n",
      "0batch [00:00, ?batch/s]"
     ]
    },
    {
     "name": "stdout",
     "output_type": "stream",
     "text": [
      "---------------------------------\n",
      "| batch_size        | 32        |\n",
      "| bc/               |           |\n",
      "|    batch          | 0         |\n",
      "|    ent_loss       | -3.94e-05 |\n",
      "|    entropy        | 0.0394    |\n",
      "|    epoch          | 0         |\n",
      "|    l2_loss        | 0         |\n",
      "|    l2_norm        | 1.68e+05  |\n",
      "|    loss           | 0.0347    |\n",
      "|    neglogp        | 0.0347    |\n",
      "|    prob_true_act  | 0.979     |\n",
      "|    samples_so_far | 32        |\n",
      "---------------------------------\n"
     ]
    },
    {
     "name": "stderr",
     "output_type": "stream",
     "text": [
      "246batch [00:04, 55.55batch/s]\n",
      "0batch [00:00, ?batch/s]"
     ]
    },
    {
     "name": "stdout",
     "output_type": "stream",
     "text": [
      "---------------------------------\n",
      "| batch_size        | 32        |\n",
      "| bc/               |           |\n",
      "|    batch          | 0         |\n",
      "|    ent_loss       | -2.53e-05 |\n",
      "|    entropy        | 0.0253    |\n",
      "|    epoch          | 0         |\n",
      "|    l2_loss        | 0         |\n",
      "|    l2_norm        | 1.68e+05  |\n",
      "|    loss           | 0.024     |\n",
      "|    neglogp        | 0.024     |\n",
      "|    prob_true_act  | 0.983     |\n",
      "|    samples_so_far | 32        |\n",
      "---------------------------------\n"
     ]
    },
    {
     "name": "stderr",
     "output_type": "stream",
     "text": [
      "246batch [00:04, 55.65batch/s]\n",
      "0batch [00:00, ?batch/s]"
     ]
    },
    {
     "name": "stdout",
     "output_type": "stream",
     "text": [
      "---------------------------------\n",
      "| batch_size        | 32        |\n",
      "| bc/               |           |\n",
      "|    batch          | 0         |\n",
      "|    ent_loss       | -4.64e-05 |\n",
      "|    entropy        | 0.0464    |\n",
      "|    epoch          | 0         |\n",
      "|    l2_loss        | 0         |\n",
      "|    l2_norm        | 1.68e+05  |\n",
      "|    loss           | 0.0519    |\n",
      "|    neglogp        | 0.0519    |\n",
      "|    prob_true_act  | 0.965     |\n",
      "|    samples_so_far | 32        |\n",
      "---------------------------------\n"
     ]
    },
    {
     "name": "stderr",
     "output_type": "stream",
     "text": [
      "246batch [00:04, 54.29batch/s]\n",
      "0batch [00:00, ?batch/s]"
     ]
    },
    {
     "name": "stdout",
     "output_type": "stream",
     "text": [
      "---------------------------------\n",
      "| batch_size        | 32        |\n",
      "| bc/               |           |\n",
      "|    batch          | 0         |\n",
      "|    ent_loss       | -3.45e-05 |\n",
      "|    entropy        | 0.0345    |\n",
      "|    epoch          | 0         |\n",
      "|    l2_loss        | 0         |\n",
      "|    l2_norm        | 1.68e+05  |\n",
      "|    loss           | 0.0439    |\n",
      "|    neglogp        | 0.044     |\n",
      "|    prob_true_act  | 0.976     |\n",
      "|    samples_so_far | 32        |\n",
      "---------------------------------\n"
     ]
    },
    {
     "name": "stderr",
     "output_type": "stream",
     "text": [
      "246batch [00:04, 55.63batch/s]\n",
      "0batch [00:00, ?batch/s]"
     ]
    },
    {
     "name": "stdout",
     "output_type": "stream",
     "text": [
      "---------------------------------\n",
      "| batch_size        | 32        |\n",
      "| bc/               |           |\n",
      "|    batch          | 0         |\n",
      "|    ent_loss       | -2.46e-05 |\n",
      "|    entropy        | 0.0246    |\n",
      "|    epoch          | 0         |\n",
      "|    l2_loss        | 0         |\n",
      "|    l2_norm        | 1.68e+05  |\n",
      "|    loss           | 0.0248    |\n",
      "|    neglogp        | 0.0248    |\n",
      "|    prob_true_act  | 0.983     |\n",
      "|    samples_so_far | 32        |\n",
      "---------------------------------\n"
     ]
    },
    {
     "name": "stderr",
     "output_type": "stream",
     "text": [
      "246batch [00:04, 55.04batch/s]\n",
      "0batch [00:00, ?batch/s]"
     ]
    },
    {
     "name": "stdout",
     "output_type": "stream",
     "text": [
      "---------------------------------\n",
      "| batch_size        | 32        |\n",
      "| bc/               |           |\n",
      "|    batch          | 0         |\n",
      "|    ent_loss       | -2.22e-06 |\n",
      "|    entropy        | 0.00222   |\n",
      "|    epoch          | 0         |\n",
      "|    l2_loss        | 0         |\n",
      "|    l2_norm        | 1.68e+05  |\n",
      "|    loss           | 0.000207  |\n",
      "|    neglogp        | 0.000209  |\n",
      "|    prob_true_act  | 1         |\n",
      "|    samples_so_far | 32        |\n",
      "---------------------------------\n"
     ]
    },
    {
     "name": "stderr",
     "output_type": "stream",
     "text": [
      "246batch [00:04, 54.26batch/s]\n",
      "0batch [00:00, ?batch/s]"
     ]
    },
    {
     "name": "stdout",
     "output_type": "stream",
     "text": [
      "--------------------------------\n",
      "| batch_size        | 32       |\n",
      "| bc/               |          |\n",
      "|    batch          | 0        |\n",
      "|    ent_loss       | -2.4e-05 |\n",
      "|    entropy        | 0.024    |\n",
      "|    epoch          | 0        |\n",
      "|    l2_loss        | 0        |\n",
      "|    l2_norm        | 1.68e+05 |\n",
      "|    loss           | 0.0264   |\n",
      "|    neglogp        | 0.0264   |\n",
      "|    prob_true_act  | 0.982    |\n",
      "|    samples_so_far | 32       |\n",
      "--------------------------------\n"
     ]
    },
    {
     "name": "stderr",
     "output_type": "stream",
     "text": [
      "246batch [00:04, 55.08batch/s]\n",
      "0batch [00:00, ?batch/s]"
     ]
    },
    {
     "name": "stdout",
     "output_type": "stream",
     "text": [
      "--------------------------------\n",
      "| batch_size        | 32       |\n",
      "| bc/               |          |\n",
      "|    batch          | 0        |\n",
      "|    ent_loss       | -3.1e-05 |\n",
      "|    entropy        | 0.031    |\n",
      "|    epoch          | 0        |\n",
      "|    l2_loss        | 0        |\n",
      "|    l2_norm        | 1.68e+05 |\n",
      "|    loss           | 0.0131   |\n",
      "|    neglogp        | 0.0131   |\n",
      "|    prob_true_act  | 0.989    |\n",
      "|    samples_so_far | 32       |\n",
      "--------------------------------\n"
     ]
    },
    {
     "name": "stderr",
     "output_type": "stream",
     "text": [
      "246batch [00:04, 54.68batch/s]\n",
      "0batch [00:00, ?batch/s]"
     ]
    },
    {
     "name": "stdout",
     "output_type": "stream",
     "text": [
      "---------------------------------\n",
      "| batch_size        | 32        |\n",
      "| bc/               |           |\n",
      "|    batch          | 0         |\n",
      "|    ent_loss       | -2.92e-06 |\n",
      "|    entropy        | 0.00292   |\n",
      "|    epoch          | 0         |\n",
      "|    l2_loss        | 0         |\n",
      "|    l2_norm        | 1.69e+05  |\n",
      "|    loss           | 0.000445  |\n",
      "|    neglogp        | 0.000448  |\n",
      "|    prob_true_act  | 1         |\n",
      "|    samples_so_far | 32        |\n",
      "---------------------------------\n"
     ]
    },
    {
     "name": "stderr",
     "output_type": "stream",
     "text": [
      "246batch [00:04, 54.20batch/s]\n",
      "0batch [00:00, ?batch/s]"
     ]
    },
    {
     "name": "stdout",
     "output_type": "stream",
     "text": [
      "---------------------------------\n",
      "| batch_size        | 32        |\n",
      "| bc/               |           |\n",
      "|    batch          | 0         |\n",
      "|    ent_loss       | -5.87e-07 |\n",
      "|    entropy        | 0.000587  |\n",
      "|    epoch          | 0         |\n",
      "|    l2_loss        | 0         |\n",
      "|    l2_norm        | 1.69e+05  |\n",
      "|    loss           | 4.75e-05  |\n",
      "|    neglogp        | 4.8e-05   |\n",
      "|    prob_true_act  | 1         |\n",
      "|    samples_so_far | 32        |\n",
      "---------------------------------\n"
     ]
    },
    {
     "name": "stderr",
     "output_type": "stream",
     "text": [
      "246batch [00:04, 55.45batch/s]\n",
      "0batch [00:00, ?batch/s]"
     ]
    },
    {
     "name": "stdout",
     "output_type": "stream",
     "text": [
      "--------------------------------\n",
      "| batch_size        | 32       |\n",
      "| bc/               |          |\n",
      "|    batch          | 0        |\n",
      "|    ent_loss       | -8e-07   |\n",
      "|    entropy        | 0.0008   |\n",
      "|    epoch          | 0        |\n",
      "|    l2_loss        | 0        |\n",
      "|    l2_norm        | 1.69e+05 |\n",
      "|    loss           | 6.67e-05 |\n",
      "|    neglogp        | 6.75e-05 |\n",
      "|    prob_true_act  | 1        |\n",
      "|    samples_so_far | 32       |\n",
      "--------------------------------\n"
     ]
    },
    {
     "name": "stderr",
     "output_type": "stream",
     "text": [
      "246batch [00:04, 55.54batch/s]\n",
      "0batch [00:00, ?batch/s]"
     ]
    },
    {
     "name": "stdout",
     "output_type": "stream",
     "text": [
      "---------------------------------\n",
      "| batch_size        | 32        |\n",
      "| bc/               |           |\n",
      "|    batch          | 0         |\n",
      "|    ent_loss       | -6.12e-07 |\n",
      "|    entropy        | 0.000612  |\n",
      "|    epoch          | 0         |\n",
      "|    l2_loss        | 0         |\n",
      "|    l2_norm        | 1.69e+05  |\n",
      "|    loss           | 4.79e-05  |\n",
      "|    neglogp        | 4.85e-05  |\n",
      "|    prob_true_act  | 1         |\n",
      "|    samples_so_far | 32        |\n",
      "---------------------------------\n"
     ]
    },
    {
     "name": "stderr",
     "output_type": "stream",
     "text": [
      "246batch [00:04, 54.09batch/s]\n",
      "0batch [00:00, ?batch/s]"
     ]
    },
    {
     "name": "stdout",
     "output_type": "stream",
     "text": [
      "---------------------------------\n",
      "| batch_size        | 32        |\n",
      "| bc/               |           |\n",
      "|    batch          | 0         |\n",
      "|    ent_loss       | -3.29e-05 |\n",
      "|    entropy        | 0.0329    |\n",
      "|    epoch          | 0         |\n",
      "|    l2_loss        | 0         |\n",
      "|    l2_norm        | 1.69e+05  |\n",
      "|    loss           | 0.0515    |\n",
      "|    neglogp        | 0.0515    |\n",
      "|    prob_true_act  | 0.975     |\n",
      "|    samples_so_far | 32        |\n",
      "---------------------------------\n"
     ]
    },
    {
     "name": "stderr",
     "output_type": "stream",
     "text": [
      "246batch [00:04, 55.44batch/s]\n",
      "0batch [00:00, ?batch/s]"
     ]
    },
    {
     "name": "stdout",
     "output_type": "stream",
     "text": [
      "---------------------------------\n",
      "| batch_size        | 32        |\n",
      "| bc/               |           |\n",
      "|    batch          | 0         |\n",
      "|    ent_loss       | -7.79e-05 |\n",
      "|    entropy        | 0.0779    |\n",
      "|    epoch          | 0         |\n",
      "|    l2_loss        | 0         |\n",
      "|    l2_norm        | 1.69e+05  |\n",
      "|    loss           | 0.0596    |\n",
      "|    neglogp        | 0.0597    |\n",
      "|    prob_true_act  | 0.962     |\n",
      "|    samples_so_far | 32        |\n",
      "---------------------------------\n"
     ]
    },
    {
     "name": "stderr",
     "output_type": "stream",
     "text": [
      "246batch [00:04, 55.49batch/s]\n",
      "0batch [00:00, ?batch/s]"
     ]
    },
    {
     "name": "stdout",
     "output_type": "stream",
     "text": [
      "---------------------------------\n",
      "| batch_size        | 32        |\n",
      "| bc/               |           |\n",
      "|    batch          | 0         |\n",
      "|    ent_loss       | -2.38e-05 |\n",
      "|    entropy        | 0.0238    |\n",
      "|    epoch          | 0         |\n",
      "|    l2_loss        | 0         |\n",
      "|    l2_norm        | 1.69e+05  |\n",
      "|    loss           | 0.0163    |\n",
      "|    neglogp        | 0.0164    |\n",
      "|    prob_true_act  | 0.987     |\n",
      "|    samples_so_far | 32        |\n",
      "---------------------------------\n"
     ]
    },
    {
     "name": "stderr",
     "output_type": "stream",
     "text": [
      "246batch [00:04, 54.16batch/s]\n",
      "0batch [00:00, ?batch/s]"
     ]
    },
    {
     "name": "stdout",
     "output_type": "stream",
     "text": [
      "---------------------------------\n",
      "| batch_size        | 32        |\n",
      "| bc/               |           |\n",
      "|    batch          | 0         |\n",
      "|    ent_loss       | -0.000111 |\n",
      "|    entropy        | 0.111     |\n",
      "|    epoch          | 0         |\n",
      "|    l2_loss        | 0         |\n",
      "|    l2_norm        | 1.69e+05  |\n",
      "|    loss           | 0.0457    |\n",
      "|    neglogp        | 0.0459    |\n",
      "|    prob_true_act  | 0.965     |\n",
      "|    samples_so_far | 32        |\n",
      "---------------------------------\n"
     ]
    },
    {
     "name": "stderr",
     "output_type": "stream",
     "text": [
      "246batch [00:04, 54.68batch/s]\n",
      "0batch [00:00, ?batch/s]"
     ]
    },
    {
     "name": "stdout",
     "output_type": "stream",
     "text": [
      "---------------------------------\n",
      "| batch_size        | 32        |\n",
      "| bc/               |           |\n",
      "|    batch          | 0         |\n",
      "|    ent_loss       | -3.01e-05 |\n",
      "|    entropy        | 0.0301    |\n",
      "|    epoch          | 0         |\n",
      "|    l2_loss        | 0         |\n",
      "|    l2_norm        | 1.69e+05  |\n",
      "|    loss           | 0.0196    |\n",
      "|    neglogp        | 0.0196    |\n",
      "|    prob_true_act  | 0.985     |\n",
      "|    samples_so_far | 32        |\n",
      "---------------------------------\n"
     ]
    },
    {
     "name": "stderr",
     "output_type": "stream",
     "text": [
      "246batch [00:04, 55.31batch/s]\n",
      "0batch [00:00, ?batch/s]"
     ]
    },
    {
     "name": "stdout",
     "output_type": "stream",
     "text": [
      "---------------------------------\n",
      "| batch_size        | 32        |\n",
      "| bc/               |           |\n",
      "|    batch          | 0         |\n",
      "|    ent_loss       | -2.53e-06 |\n",
      "|    entropy        | 0.00253   |\n",
      "|    epoch          | 0         |\n",
      "|    l2_loss        | 0         |\n",
      "|    l2_norm        | 1.69e+05  |\n",
      "|    loss           | 0.000246  |\n",
      "|    neglogp        | 0.000248  |\n",
      "|    prob_true_act  | 1         |\n",
      "|    samples_so_far | 32        |\n",
      "---------------------------------\n"
     ]
    },
    {
     "name": "stderr",
     "output_type": "stream",
     "text": [
      "246batch [00:04, 54.18batch/s]\n",
      "0batch [00:00, ?batch/s]"
     ]
    },
    {
     "name": "stdout",
     "output_type": "stream",
     "text": [
      "---------------------------------\n",
      "| batch_size        | 32        |\n",
      "| bc/               |           |\n",
      "|    batch          | 0         |\n",
      "|    ent_loss       | -4.07e-05 |\n",
      "|    entropy        | 0.0407    |\n",
      "|    epoch          | 0         |\n",
      "|    l2_loss        | 0         |\n",
      "|    l2_norm        | 1.69e+05  |\n",
      "|    loss           | 0.0289    |\n",
      "|    neglogp        | 0.0289    |\n",
      "|    prob_true_act  | 0.978     |\n",
      "|    samples_so_far | 32        |\n",
      "---------------------------------\n"
     ]
    },
    {
     "name": "stderr",
     "output_type": "stream",
     "text": [
      "246batch [00:04, 55.50batch/s]\n",
      "0batch [00:00, ?batch/s]"
     ]
    },
    {
     "name": "stdout",
     "output_type": "stream",
     "text": [
      "---------------------------------\n",
      "| batch_size        | 32        |\n",
      "| bc/               |           |\n",
      "|    batch          | 0         |\n",
      "|    ent_loss       | -1.28e-06 |\n",
      "|    entropy        | 0.00128   |\n",
      "|    epoch          | 0         |\n",
      "|    l2_loss        | 0         |\n",
      "|    l2_norm        | 1.69e+05  |\n",
      "|    loss           | 0.000109  |\n",
      "|    neglogp        | 0.00011   |\n",
      "|    prob_true_act  | 1         |\n",
      "|    samples_so_far | 32        |\n",
      "---------------------------------\n"
     ]
    },
    {
     "name": "stderr",
     "output_type": "stream",
     "text": [
      "246batch [00:04, 55.73batch/s]\n",
      "0batch [00:00, ?batch/s]"
     ]
    },
    {
     "name": "stdout",
     "output_type": "stream",
     "text": [
      "--------------------------------\n",
      "| batch_size        | 32       |\n",
      "| bc/               |          |\n",
      "|    batch          | 0        |\n",
      "|    ent_loss       | -2e-05   |\n",
      "|    entropy        | 0.02     |\n",
      "|    epoch          | 0        |\n",
      "|    l2_loss        | 0        |\n",
      "|    l2_norm        | 1.69e+05 |\n",
      "|    loss           | 0.0108   |\n",
      "|    neglogp        | 0.0108   |\n",
      "|    prob_true_act  | 0.991    |\n",
      "|    samples_so_far | 32       |\n",
      "--------------------------------\n"
     ]
    },
    {
     "name": "stderr",
     "output_type": "stream",
     "text": [
      "246batch [00:04, 54.17batch/s]\n",
      "0batch [00:00, ?batch/s]"
     ]
    },
    {
     "name": "stdout",
     "output_type": "stream",
     "text": [
      "---------------------------------\n",
      "| batch_size        | 32        |\n",
      "| bc/               |           |\n",
      "|    batch          | 0         |\n",
      "|    ent_loss       | -2.29e-06 |\n",
      "|    entropy        | 0.00229   |\n",
      "|    epoch          | 0         |\n",
      "|    l2_loss        | 0         |\n",
      "|    l2_norm        | 1.7e+05   |\n",
      "|    loss           | 0.000207  |\n",
      "|    neglogp        | 0.000209  |\n",
      "|    prob_true_act  | 1         |\n",
      "|    samples_so_far | 32        |\n",
      "---------------------------------\n"
     ]
    },
    {
     "name": "stderr",
     "output_type": "stream",
     "text": [
      "246batch [00:04, 54.90batch/s]\n",
      "0batch [00:00, ?batch/s]"
     ]
    },
    {
     "name": "stdout",
     "output_type": "stream",
     "text": [
      "---------------------------------\n",
      "| batch_size        | 32        |\n",
      "| bc/               |           |\n",
      "|    batch          | 0         |\n",
      "|    ent_loss       | -1.65e-06 |\n",
      "|    entropy        | 0.00165   |\n",
      "|    epoch          | 0         |\n",
      "|    l2_loss        | 0         |\n",
      "|    l2_norm        | 1.7e+05   |\n",
      "|    loss           | 0.000143  |\n",
      "|    neglogp        | 0.000145  |\n",
      "|    prob_true_act  | 1         |\n",
      "|    samples_so_far | 32        |\n",
      "---------------------------------\n"
     ]
    },
    {
     "name": "stderr",
     "output_type": "stream",
     "text": [
      "246batch [00:04, 54.95batch/s]\n",
      "0batch [00:00, ?batch/s]"
     ]
    },
    {
     "name": "stdout",
     "output_type": "stream",
     "text": [
      "---------------------------------\n",
      "| batch_size        | 32        |\n",
      "| bc/               |           |\n",
      "|    batch          | 0         |\n",
      "|    ent_loss       | -2.46e-05 |\n",
      "|    entropy        | 0.0246    |\n",
      "|    epoch          | 0         |\n",
      "|    l2_loss        | 0         |\n",
      "|    l2_norm        | 1.7e+05   |\n",
      "|    loss           | 0.024     |\n",
      "|    neglogp        | 0.024     |\n",
      "|    prob_true_act  | 0.983     |\n",
      "|    samples_so_far | 32        |\n",
      "---------------------------------\n"
     ]
    },
    {
     "name": "stderr",
     "output_type": "stream",
     "text": [
      "246batch [00:04, 53.50batch/s]\n",
      "0batch [00:00, ?batch/s]"
     ]
    },
    {
     "name": "stdout",
     "output_type": "stream",
     "text": [
      "---------------------------------\n",
      "| batch_size        | 32        |\n",
      "| bc/               |           |\n",
      "|    batch          | 0         |\n",
      "|    ent_loss       | -5.52e-05 |\n",
      "|    entropy        | 0.0552    |\n",
      "|    epoch          | 0         |\n",
      "|    l2_loss        | 0         |\n",
      "|    l2_norm        | 1.7e+05   |\n",
      "|    loss           | 0.0526    |\n",
      "|    neglogp        | 0.0527    |\n",
      "|    prob_true_act  | 0.967     |\n",
      "|    samples_so_far | 32        |\n",
      "---------------------------------\n"
     ]
    },
    {
     "name": "stderr",
     "output_type": "stream",
     "text": [
      "246batch [00:04, 53.59batch/s]\n",
      "0batch [00:00, ?batch/s]"
     ]
    },
    {
     "name": "stdout",
     "output_type": "stream",
     "text": [
      "---------------------------------\n",
      "| batch_size        | 32        |\n",
      "| bc/               |           |\n",
      "|    batch          | 0         |\n",
      "|    ent_loss       | -6.91e-07 |\n",
      "|    entropy        | 0.000691  |\n",
      "|    epoch          | 0         |\n",
      "|    l2_loss        | 0         |\n",
      "|    l2_norm        | 1.7e+05   |\n",
      "|    loss           | 5.51e-05  |\n",
      "|    neglogp        | 5.58e-05  |\n",
      "|    prob_true_act  | 1         |\n",
      "|    samples_so_far | 32        |\n",
      "---------------------------------\n"
     ]
    },
    {
     "name": "stderr",
     "output_type": "stream",
     "text": [
      "246batch [00:04, 54.92batch/s]\n",
      "0batch [00:00, ?batch/s]"
     ]
    },
    {
     "name": "stdout",
     "output_type": "stream",
     "text": [
      "---------------------------------\n",
      "| batch_size        | 32        |\n",
      "| bc/               |           |\n",
      "|    batch          | 0         |\n",
      "|    ent_loss       | -2.49e-05 |\n",
      "|    entropy        | 0.0249    |\n",
      "|    epoch          | 0         |\n",
      "|    l2_loss        | 0         |\n",
      "|    l2_norm        | 1.7e+05   |\n",
      "|    loss           | 0.0219    |\n",
      "|    neglogp        | 0.0219    |\n",
      "|    prob_true_act  | 0.984     |\n",
      "|    samples_so_far | 32        |\n",
      "---------------------------------\n"
     ]
    },
    {
     "name": "stderr",
     "output_type": "stream",
     "text": [
      "246batch [00:04, 54.16batch/s]\n",
      "0batch [00:00, ?batch/s]"
     ]
    },
    {
     "name": "stdout",
     "output_type": "stream",
     "text": [
      "---------------------------------\n",
      "| batch_size        | 32        |\n",
      "| bc/               |           |\n",
      "|    batch          | 0         |\n",
      "|    ent_loss       | -9.14e-07 |\n",
      "|    entropy        | 0.000914  |\n",
      "|    epoch          | 0         |\n",
      "|    l2_loss        | 0         |\n",
      "|    l2_norm        | 1.7e+05   |\n",
      "|    loss           | 7.65e-05  |\n",
      "|    neglogp        | 7.74e-05  |\n",
      "|    prob_true_act  | 1         |\n",
      "|    samples_so_far | 32        |\n",
      "---------------------------------\n"
     ]
    },
    {
     "name": "stderr",
     "output_type": "stream",
     "text": [
      "246batch [00:04, 55.46batch/s]\n",
      "0batch [00:00, ?batch/s]"
     ]
    },
    {
     "name": "stdout",
     "output_type": "stream",
     "text": [
      "---------------------------------\n",
      "| batch_size        | 32        |\n",
      "| bc/               |           |\n",
      "|    batch          | 0         |\n",
      "|    ent_loss       | -1.25e-06 |\n",
      "|    entropy        | 0.00125   |\n",
      "|    epoch          | 0         |\n",
      "|    l2_loss        | 0         |\n",
      "|    l2_norm        | 1.7e+05   |\n",
      "|    loss           | 0.000108  |\n",
      "|    neglogp        | 0.000109  |\n",
      "|    prob_true_act  | 1         |\n",
      "|    samples_so_far | 32        |\n",
      "---------------------------------\n"
     ]
    },
    {
     "name": "stderr",
     "output_type": "stream",
     "text": [
      "246batch [00:04, 54.39batch/s]\n",
      "0batch [00:00, ?batch/s]"
     ]
    },
    {
     "name": "stdout",
     "output_type": "stream",
     "text": [
      "---------------------------------\n",
      "| batch_size        | 32        |\n",
      "| bc/               |           |\n",
      "|    batch          | 0         |\n",
      "|    ent_loss       | -3.49e-05 |\n",
      "|    entropy        | 0.0349    |\n",
      "|    epoch          | 0         |\n",
      "|    l2_loss        | 0         |\n",
      "|    l2_norm        | 1.7e+05   |\n",
      "|    loss           | 0.0465    |\n",
      "|    neglogp        | 0.0465    |\n",
      "|    prob_true_act  | 0.976     |\n",
      "|    samples_so_far | 32        |\n",
      "---------------------------------\n"
     ]
    },
    {
     "name": "stderr",
     "output_type": "stream",
     "text": [
      "246batch [00:04, 55.56batch/s]\n",
      "0batch [00:00, ?batch/s]"
     ]
    },
    {
     "name": "stdout",
     "output_type": "stream",
     "text": [
      "---------------------------------\n",
      "| batch_size        | 32        |\n",
      "| bc/               |           |\n",
      "|    batch          | 0         |\n",
      "|    ent_loss       | -6.18e-07 |\n",
      "|    entropy        | 0.000618  |\n",
      "|    epoch          | 0         |\n",
      "|    l2_loss        | 0         |\n",
      "|    l2_norm        | 1.71e+05  |\n",
      "|    loss           | 5.49e-05  |\n",
      "|    neglogp        | 5.55e-05  |\n",
      "|    prob_true_act  | 1         |\n",
      "|    samples_so_far | 32        |\n",
      "---------------------------------\n"
     ]
    },
    {
     "name": "stderr",
     "output_type": "stream",
     "text": [
      "246batch [00:04, 49.60batch/s]\n",
      "0batch [00:00, ?batch/s]"
     ]
    },
    {
     "name": "stdout",
     "output_type": "stream",
     "text": [
      "---------------------------------\n",
      "| batch_size        | 32        |\n",
      "| bc/               |           |\n",
      "|    batch          | 0         |\n",
      "|    ent_loss       | -9.59e-07 |\n",
      "|    entropy        | 0.000959  |\n",
      "|    epoch          | 0         |\n",
      "|    l2_loss        | 0         |\n",
      "|    l2_norm        | 1.71e+05  |\n",
      "|    loss           | 8.08e-05  |\n",
      "|    neglogp        | 8.18e-05  |\n",
      "|    prob_true_act  | 1         |\n",
      "|    samples_so_far | 32        |\n",
      "---------------------------------\n"
     ]
    },
    {
     "name": "stderr",
     "output_type": "stream",
     "text": [
      "246batch [00:04, 54.89batch/s]\n"
     ]
    },
    {
     "name": "stdout",
     "output_type": "stream",
     "text": [
      "Checkpoint saved at checkpoints\\bc_model_epoch_650.zip\n"
     ]
    },
    {
     "name": "stderr",
     "output_type": "stream",
     "text": [
      "0batch [00:00, ?batch/s]"
     ]
    },
    {
     "name": "stdout",
     "output_type": "stream",
     "text": [
      "---------------------------------\n",
      "| batch_size        | 32        |\n",
      "| bc/               |           |\n",
      "|    batch          | 0         |\n",
      "|    ent_loss       | -1.05e-06 |\n",
      "|    entropy        | 0.00105   |\n",
      "|    epoch          | 0         |\n",
      "|    l2_loss        | 0         |\n",
      "|    l2_norm        | 1.71e+05  |\n",
      "|    loss           | 9e-05     |\n",
      "|    neglogp        | 9.11e-05  |\n",
      "|    prob_true_act  | 1         |\n",
      "|    samples_so_far | 32        |\n",
      "---------------------------------\n"
     ]
    },
    {
     "name": "stderr",
     "output_type": "stream",
     "text": [
      "246batch [00:04, 49.63batch/s]\n",
      "0batch [00:00, ?batch/s]"
     ]
    },
    {
     "name": "stdout",
     "output_type": "stream",
     "text": [
      "---------------------------------\n",
      "| batch_size        | 32        |\n",
      "| bc/               |           |\n",
      "|    batch          | 0         |\n",
      "|    ent_loss       | -2.04e-05 |\n",
      "|    entropy        | 0.0204    |\n",
      "|    epoch          | 0         |\n",
      "|    l2_loss        | 0         |\n",
      "|    l2_norm        | 1.71e+05  |\n",
      "|    loss           | 0.0102    |\n",
      "|    neglogp        | 0.0102    |\n",
      "|    prob_true_act  | 0.991     |\n",
      "|    samples_so_far | 32        |\n",
      "---------------------------------\n"
     ]
    },
    {
     "name": "stderr",
     "output_type": "stream",
     "text": [
      "246batch [00:04, 54.19batch/s]\n",
      "0batch [00:00, ?batch/s]"
     ]
    },
    {
     "name": "stdout",
     "output_type": "stream",
     "text": [
      "---------------------------------\n",
      "| batch_size        | 32        |\n",
      "| bc/               |           |\n",
      "|    batch          | 0         |\n",
      "|    ent_loss       | -1.22e-06 |\n",
      "|    entropy        | 0.00122   |\n",
      "|    epoch          | 0         |\n",
      "|    l2_loss        | 0         |\n",
      "|    l2_norm        | 1.71e+05  |\n",
      "|    loss           | 0.000101  |\n",
      "|    neglogp        | 0.000102  |\n",
      "|    prob_true_act  | 1         |\n",
      "|    samples_so_far | 32        |\n",
      "---------------------------------\n"
     ]
    },
    {
     "name": "stderr",
     "output_type": "stream",
     "text": [
      "246batch [00:04, 55.28batch/s]\n",
      "0batch [00:00, ?batch/s]"
     ]
    },
    {
     "name": "stdout",
     "output_type": "stream",
     "text": [
      "---------------------------------\n",
      "| batch_size        | 32        |\n",
      "| bc/               |           |\n",
      "|    batch          | 0         |\n",
      "|    ent_loss       | -1.69e-06 |\n",
      "|    entropy        | 0.00169   |\n",
      "|    epoch          | 0         |\n",
      "|    l2_loss        | 0         |\n",
      "|    l2_norm        | 1.71e+05  |\n",
      "|    loss           | 0.000172  |\n",
      "|    neglogp        | 0.000174  |\n",
      "|    prob_true_act  | 1         |\n",
      "|    samples_so_far | 32        |\n",
      "---------------------------------\n"
     ]
    },
    {
     "name": "stderr",
     "output_type": "stream",
     "text": [
      "246batch [00:04, 55.54batch/s]\n",
      "0batch [00:00, ?batch/s]"
     ]
    },
    {
     "name": "stdout",
     "output_type": "stream",
     "text": [
      "---------------------------------\n",
      "| batch_size        | 32        |\n",
      "| bc/               |           |\n",
      "|    batch          | 0         |\n",
      "|    ent_loss       | -2.42e-05 |\n",
      "|    entropy        | 0.0242    |\n",
      "|    epoch          | 0         |\n",
      "|    l2_loss        | 0         |\n",
      "|    l2_norm        | 1.71e+05  |\n",
      "|    loss           | 0.0206    |\n",
      "|    neglogp        | 0.0206    |\n",
      "|    prob_true_act  | 0.985     |\n",
      "|    samples_so_far | 32        |\n",
      "---------------------------------\n"
     ]
    },
    {
     "name": "stderr",
     "output_type": "stream",
     "text": [
      "246batch [00:04, 54.00batch/s]\n",
      "0batch [00:00, ?batch/s]"
     ]
    },
    {
     "name": "stdout",
     "output_type": "stream",
     "text": [
      "---------------------------------\n",
      "| batch_size        | 32        |\n",
      "| bc/               |           |\n",
      "|    batch          | 0         |\n",
      "|    ent_loss       | -5.15e-07 |\n",
      "|    entropy        | 0.000515  |\n",
      "|    epoch          | 0         |\n",
      "|    l2_loss        | 0         |\n",
      "|    l2_norm        | 1.72e+05  |\n",
      "|    loss           | 4.28e-05  |\n",
      "|    neglogp        | 4.33e-05  |\n",
      "|    prob_true_act  | 1         |\n",
      "|    samples_so_far | 32        |\n",
      "---------------------------------\n"
     ]
    },
    {
     "name": "stderr",
     "output_type": "stream",
     "text": [
      "246batch [00:04, 55.62batch/s]\n",
      "0batch [00:00, ?batch/s]"
     ]
    },
    {
     "name": "stdout",
     "output_type": "stream",
     "text": [
      "---------------------------------\n",
      "| batch_size        | 32        |\n",
      "| bc/               |           |\n",
      "|    batch          | 0         |\n",
      "|    ent_loss       | -4.48e-05 |\n",
      "|    entropy        | 0.0448    |\n",
      "|    epoch          | 0         |\n",
      "|    l2_loss        | 0         |\n",
      "|    l2_norm        | 1.71e+05  |\n",
      "|    loss           | 0.0173    |\n",
      "|    neglogp        | 0.0174    |\n",
      "|    prob_true_act  | 0.986     |\n",
      "|    samples_so_far | 32        |\n",
      "---------------------------------\n"
     ]
    },
    {
     "name": "stderr",
     "output_type": "stream",
     "text": [
      "246batch [00:04, 55.52batch/s]\n",
      "0batch [00:00, ?batch/s]"
     ]
    },
    {
     "name": "stdout",
     "output_type": "stream",
     "text": [
      "---------------------------------\n",
      "| batch_size        | 32        |\n",
      "| bc/               |           |\n",
      "|    batch          | 0         |\n",
      "|    ent_loss       | -2.13e-05 |\n",
      "|    entropy        | 0.0213    |\n",
      "|    epoch          | 0         |\n",
      "|    l2_loss        | 0         |\n",
      "|    l2_norm        | 1.71e+05  |\n",
      "|    loss           | 0.0437    |\n",
      "|    neglogp        | 0.0437    |\n",
      "|    prob_true_act  | 0.976     |\n",
      "|    samples_so_far | 32        |\n",
      "---------------------------------\n"
     ]
    },
    {
     "name": "stderr",
     "output_type": "stream",
     "text": [
      "246batch [00:04, 54.47batch/s]\n",
      "0batch [00:00, ?batch/s]"
     ]
    },
    {
     "name": "stdout",
     "output_type": "stream",
     "text": [
      "---------------------------------\n",
      "| batch_size        | 32        |\n",
      "| bc/               |           |\n",
      "|    batch          | 0         |\n",
      "|    ent_loss       | -4.08e-05 |\n",
      "|    entropy        | 0.0408    |\n",
      "|    epoch          | 0         |\n",
      "|    l2_loss        | 0         |\n",
      "|    l2_norm        | 1.71e+05  |\n",
      "|    loss           | 0.0365    |\n",
      "|    neglogp        | 0.0366    |\n",
      "|    prob_true_act  | 0.978     |\n",
      "|    samples_so_far | 32        |\n",
      "---------------------------------\n"
     ]
    },
    {
     "name": "stderr",
     "output_type": "stream",
     "text": [
      "246batch [00:04, 55.67batch/s]\n",
      "0batch [00:00, ?batch/s]"
     ]
    },
    {
     "name": "stdout",
     "output_type": "stream",
     "text": [
      "---------------------------------\n",
      "| batch_size        | 32        |\n",
      "| bc/               |           |\n",
      "|    batch          | 0         |\n",
      "|    ent_loss       | -5.02e-05 |\n",
      "|    entropy        | 0.0502    |\n",
      "|    epoch          | 0         |\n",
      "|    l2_loss        | 0         |\n",
      "|    l2_norm        | 1.71e+05  |\n",
      "|    loss           | 0.0246    |\n",
      "|    neglogp        | 0.0246    |\n",
      "|    prob_true_act  | 0.98      |\n",
      "|    samples_so_far | 32        |\n",
      "---------------------------------\n"
     ]
    },
    {
     "name": "stderr",
     "output_type": "stream",
     "text": [
      "246batch [00:04, 55.12batch/s]\n",
      "0batch [00:00, ?batch/s]"
     ]
    },
    {
     "name": "stdout",
     "output_type": "stream",
     "text": [
      "---------------------------------\n",
      "| batch_size        | 32        |\n",
      "| bc/               |           |\n",
      "|    batch          | 0         |\n",
      "|    ent_loss       | -6.59e-07 |\n",
      "|    entropy        | 0.000659  |\n",
      "|    epoch          | 0         |\n",
      "|    l2_loss        | 0         |\n",
      "|    l2_norm        | 1.71e+05  |\n",
      "|    loss           | 5.63e-05  |\n",
      "|    neglogp        | 5.7e-05   |\n",
      "|    prob_true_act  | 1         |\n",
      "|    samples_so_far | 32        |\n",
      "---------------------------------\n"
     ]
    },
    {
     "name": "stderr",
     "output_type": "stream",
     "text": [
      "246batch [00:04, 54.06batch/s]\n",
      "0batch [00:00, ?batch/s]"
     ]
    },
    {
     "name": "stdout",
     "output_type": "stream",
     "text": [
      "--------------------------------\n",
      "| batch_size        | 32       |\n",
      "| bc/               |          |\n",
      "|    batch          | 0        |\n",
      "|    ent_loss       | -3.7e-05 |\n",
      "|    entropy        | 0.037    |\n",
      "|    epoch          | 0        |\n",
      "|    l2_loss        | 0        |\n",
      "|    l2_norm        | 1.71e+05 |\n",
      "|    loss           | 0.0444   |\n",
      "|    neglogp        | 0.0444   |\n",
      "|    prob_true_act  | 0.976    |\n",
      "|    samples_so_far | 32       |\n",
      "--------------------------------\n"
     ]
    },
    {
     "name": "stderr",
     "output_type": "stream",
     "text": [
      "246batch [00:04, 54.73batch/s]\n",
      "0batch [00:00, ?batch/s]"
     ]
    },
    {
     "name": "stdout",
     "output_type": "stream",
     "text": [
      "---------------------------------\n",
      "| batch_size        | 32        |\n",
      "| bc/               |           |\n",
      "|    batch          | 0         |\n",
      "|    ent_loss       | -4.01e-05 |\n",
      "|    entropy        | 0.0401    |\n",
      "|    epoch          | 0         |\n",
      "|    l2_loss        | 0         |\n",
      "|    l2_norm        | 1.72e+05  |\n",
      "|    loss           | 0.0222    |\n",
      "|    neglogp        | 0.0222    |\n",
      "|    prob_true_act  | 0.981     |\n",
      "|    samples_so_far | 32        |\n",
      "---------------------------------\n"
     ]
    },
    {
     "name": "stderr",
     "output_type": "stream",
     "text": [
      "246batch [00:04, 55.32batch/s]\n",
      "0batch [00:00, ?batch/s]"
     ]
    },
    {
     "name": "stdout",
     "output_type": "stream",
     "text": [
      "---------------------------------\n",
      "| batch_size        | 32        |\n",
      "| bc/               |           |\n",
      "|    batch          | 0         |\n",
      "|    ent_loss       | -9.89e-07 |\n",
      "|    entropy        | 0.000989  |\n",
      "|    epoch          | 0         |\n",
      "|    l2_loss        | 0         |\n",
      "|    l2_norm        | 1.72e+05  |\n",
      "|    loss           | 9.56e-05  |\n",
      "|    neglogp        | 9.66e-05  |\n",
      "|    prob_true_act  | 1         |\n",
      "|    samples_so_far | 32        |\n",
      "---------------------------------\n"
     ]
    },
    {
     "name": "stderr",
     "output_type": "stream",
     "text": [
      "246batch [00:04, 54.39batch/s]\n",
      "0batch [00:00, ?batch/s]"
     ]
    },
    {
     "name": "stdout",
     "output_type": "stream",
     "text": [
      "---------------------------------\n",
      "| batch_size        | 32        |\n",
      "| bc/               |           |\n",
      "|    batch          | 0         |\n",
      "|    ent_loss       | -2.83e-06 |\n",
      "|    entropy        | 0.00283   |\n",
      "|    epoch          | 0         |\n",
      "|    l2_loss        | 0         |\n",
      "|    l2_norm        | 1.72e+05  |\n",
      "|    loss           | 0.000269  |\n",
      "|    neglogp        | 0.000272  |\n",
      "|    prob_true_act  | 1         |\n",
      "|    samples_so_far | 32        |\n",
      "---------------------------------\n"
     ]
    },
    {
     "name": "stderr",
     "output_type": "stream",
     "text": [
      "246batch [00:04, 55.16batch/s]\n",
      "0batch [00:00, ?batch/s]"
     ]
    },
    {
     "name": "stdout",
     "output_type": "stream",
     "text": [
      "---------------------------------\n",
      "| batch_size        | 32        |\n",
      "| bc/               |           |\n",
      "|    batch          | 0         |\n",
      "|    ent_loss       | -2.02e-06 |\n",
      "|    entropy        | 0.00202   |\n",
      "|    epoch          | 0         |\n",
      "|    l2_loss        | 0         |\n",
      "|    l2_norm        | 1.72e+05  |\n",
      "|    loss           | 0.000198  |\n",
      "|    neglogp        | 0.0002    |\n",
      "|    prob_true_act  | 1         |\n",
      "|    samples_so_far | 32        |\n",
      "---------------------------------\n"
     ]
    },
    {
     "name": "stderr",
     "output_type": "stream",
     "text": [
      "246batch [00:04, 55.09batch/s]\n",
      "0batch [00:00, ?batch/s]"
     ]
    },
    {
     "name": "stdout",
     "output_type": "stream",
     "text": [
      "---------------------------------\n",
      "| batch_size        | 32        |\n",
      "| bc/               |           |\n",
      "|    batch          | 0         |\n",
      "|    ent_loss       | -1.22e-06 |\n",
      "|    entropy        | 0.00122   |\n",
      "|    epoch          | 0         |\n",
      "|    l2_loss        | 0         |\n",
      "|    l2_norm        | 1.72e+05  |\n",
      "|    loss           | 0.000114  |\n",
      "|    neglogp        | 0.000115  |\n",
      "|    prob_true_act  | 1         |\n",
      "|    samples_so_far | 32        |\n",
      "---------------------------------\n"
     ]
    },
    {
     "name": "stderr",
     "output_type": "stream",
     "text": [
      "246batch [00:04, 54.07batch/s]\n",
      "0batch [00:00, ?batch/s]"
     ]
    },
    {
     "name": "stdout",
     "output_type": "stream",
     "text": [
      "---------------------------------\n",
      "| batch_size        | 32        |\n",
      "| bc/               |           |\n",
      "|    batch          | 0         |\n",
      "|    ent_loss       | -2.45e-05 |\n",
      "|    entropy        | 0.0245    |\n",
      "|    epoch          | 0         |\n",
      "|    l2_loss        | 0         |\n",
      "|    l2_norm        | 1.72e+05  |\n",
      "|    loss           | 0.0253    |\n",
      "|    neglogp        | 0.0254    |\n",
      "|    prob_true_act  | 0.983     |\n",
      "|    samples_so_far | 32        |\n",
      "---------------------------------\n"
     ]
    },
    {
     "name": "stderr",
     "output_type": "stream",
     "text": [
      "246batch [00:04, 54.94batch/s]\n",
      "0batch [00:00, ?batch/s]"
     ]
    },
    {
     "name": "stdout",
     "output_type": "stream",
     "text": [
      "--------------------------------\n",
      "| batch_size        | 32       |\n",
      "| bc/               |          |\n",
      "|    batch          | 0        |\n",
      "|    ent_loss       | -2.6e-05 |\n",
      "|    entropy        | 0.026    |\n",
      "|    epoch          | 0        |\n",
      "|    l2_loss        | 0        |\n",
      "|    l2_norm        | 1.72e+05 |\n",
      "|    loss           | 0.0236   |\n",
      "|    neglogp        | 0.0236   |\n",
      "|    prob_true_act  | 0.983    |\n",
      "|    samples_so_far | 32       |\n",
      "--------------------------------\n"
     ]
    },
    {
     "name": "stderr",
     "output_type": "stream",
     "text": [
      "246batch [00:04, 54.35batch/s]\n",
      "0batch [00:00, ?batch/s]"
     ]
    },
    {
     "name": "stdout",
     "output_type": "stream",
     "text": [
      "---------------------------------\n",
      "| batch_size        | 32        |\n",
      "| bc/               |           |\n",
      "|    batch          | 0         |\n",
      "|    ent_loss       | -1.21e-06 |\n",
      "|    entropy        | 0.00121   |\n",
      "|    epoch          | 0         |\n",
      "|    l2_loss        | 0         |\n",
      "|    l2_norm        | 1.72e+05  |\n",
      "|    loss           | 0.000124  |\n",
      "|    neglogp        | 0.000125  |\n",
      "|    prob_true_act  | 1         |\n",
      "|    samples_so_far | 32        |\n",
      "---------------------------------\n"
     ]
    },
    {
     "name": "stderr",
     "output_type": "stream",
     "text": [
      "246batch [00:04, 54.44batch/s]\n",
      "0batch [00:00, ?batch/s]"
     ]
    },
    {
     "name": "stdout",
     "output_type": "stream",
     "text": [
      "--------------------------------\n",
      "| batch_size        | 32       |\n",
      "| bc/               |          |\n",
      "|    batch          | 0        |\n",
      "|    ent_loss       | -6.7e-05 |\n",
      "|    entropy        | 0.067    |\n",
      "|    epoch          | 0        |\n",
      "|    l2_loss        | 0        |\n",
      "|    l2_norm        | 1.72e+05 |\n",
      "|    loss           | 0.0366   |\n",
      "|    neglogp        | 0.0366   |\n",
      "|    prob_true_act  | 0.972    |\n",
      "|    samples_so_far | 32       |\n",
      "--------------------------------\n"
     ]
    },
    {
     "name": "stderr",
     "output_type": "stream",
     "text": [
      "246batch [00:04, 55.54batch/s]\n",
      "0batch [00:00, ?batch/s]"
     ]
    },
    {
     "name": "stdout",
     "output_type": "stream",
     "text": [
      "---------------------------------\n",
      "| batch_size        | 32        |\n",
      "| bc/               |           |\n",
      "|    batch          | 0         |\n",
      "|    ent_loss       | -1.07e-06 |\n",
      "|    entropy        | 0.00107   |\n",
      "|    epoch          | 0         |\n",
      "|    l2_loss        | 0         |\n",
      "|    l2_norm        | 1.72e+05  |\n",
      "|    loss           | 9.47e-05  |\n",
      "|    neglogp        | 9.57e-05  |\n",
      "|    prob_true_act  | 1         |\n",
      "|    samples_so_far | 32        |\n",
      "---------------------------------\n"
     ]
    },
    {
     "name": "stderr",
     "output_type": "stream",
     "text": [
      "246batch [00:04, 55.36batch/s]\n",
      "0batch [00:00, ?batch/s]"
     ]
    },
    {
     "name": "stdout",
     "output_type": "stream",
     "text": [
      "---------------------------------\n",
      "| batch_size        | 32        |\n",
      "| bc/               |           |\n",
      "|    batch          | 0         |\n",
      "|    ent_loss       | -5.46e-05 |\n",
      "|    entropy        | 0.0546    |\n",
      "|    epoch          | 0         |\n",
      "|    l2_loss        | 0         |\n",
      "|    l2_norm        | 1.73e+05  |\n",
      "|    loss           | 0.0534    |\n",
      "|    neglogp        | 0.0535    |\n",
      "|    prob_true_act  | 0.968     |\n",
      "|    samples_so_far | 32        |\n",
      "---------------------------------\n"
     ]
    },
    {
     "name": "stderr",
     "output_type": "stream",
     "text": [
      "246batch [00:04, 53.42batch/s]\n",
      "0batch [00:00, ?batch/s]"
     ]
    },
    {
     "name": "stdout",
     "output_type": "stream",
     "text": [
      "---------------------------------\n",
      "| batch_size        | 32        |\n",
      "| bc/               |           |\n",
      "|    batch          | 0         |\n",
      "|    ent_loss       | -2.88e-05 |\n",
      "|    entropy        | 0.0288    |\n",
      "|    epoch          | 0         |\n",
      "|    l2_loss        | 0         |\n",
      "|    l2_norm        | 1.73e+05  |\n",
      "|    loss           | 0.0247    |\n",
      "|    neglogp        | 0.0248    |\n",
      "|    prob_true_act  | 0.983     |\n",
      "|    samples_so_far | 32        |\n",
      "---------------------------------\n"
     ]
    },
    {
     "name": "stderr",
     "output_type": "stream",
     "text": [
      "246batch [00:04, 55.46batch/s]\n",
      "0batch [00:00, ?batch/s]"
     ]
    },
    {
     "name": "stdout",
     "output_type": "stream",
     "text": [
      "---------------------------------\n",
      "| batch_size        | 32        |\n",
      "| bc/               |           |\n",
      "|    batch          | 0         |\n",
      "|    ent_loss       | -1.75e-05 |\n",
      "|    entropy        | 0.0175    |\n",
      "|    epoch          | 0         |\n",
      "|    l2_loss        | 0         |\n",
      "|    l2_norm        | 1.73e+05  |\n",
      "|    loss           | 0.00315   |\n",
      "|    neglogp        | 0.00317   |\n",
      "|    prob_true_act  | 0.997     |\n",
      "|    samples_so_far | 32        |\n",
      "---------------------------------\n"
     ]
    },
    {
     "name": "stderr",
     "output_type": "stream",
     "text": [
      "246batch [00:04, 55.61batch/s]\n",
      "0batch [00:00, ?batch/s]"
     ]
    },
    {
     "name": "stdout",
     "output_type": "stream",
     "text": [
      "---------------------------------\n",
      "| batch_size        | 32        |\n",
      "| bc/               |           |\n",
      "|    batch          | 0         |\n",
      "|    ent_loss       | -4.84e-05 |\n",
      "|    entropy        | 0.0484    |\n",
      "|    epoch          | 0         |\n",
      "|    l2_loss        | 0         |\n",
      "|    l2_norm        | 1.72e+05  |\n",
      "|    loss           | 0.0535    |\n",
      "|    neglogp        | 0.0536    |\n",
      "|    prob_true_act  | 0.974     |\n",
      "|    samples_so_far | 32        |\n",
      "---------------------------------\n"
     ]
    },
    {
     "name": "stderr",
     "output_type": "stream",
     "text": [
      "246batch [00:04, 54.22batch/s]\n",
      "0batch [00:00, ?batch/s]"
     ]
    },
    {
     "name": "stdout",
     "output_type": "stream",
     "text": [
      "---------------------------------\n",
      "| batch_size        | 32        |\n",
      "| bc/               |           |\n",
      "|    batch          | 0         |\n",
      "|    ent_loss       | -3.77e-06 |\n",
      "|    entropy        | 0.00377   |\n",
      "|    epoch          | 0         |\n",
      "|    l2_loss        | 0         |\n",
      "|    l2_norm        | 1.73e+05  |\n",
      "|    loss           | 0.000407  |\n",
      "|    neglogp        | 0.00041   |\n",
      "|    prob_true_act  | 1         |\n",
      "|    samples_so_far | 32        |\n",
      "---------------------------------\n"
     ]
    },
    {
     "name": "stderr",
     "output_type": "stream",
     "text": [
      "246batch [00:04, 54.66batch/s]\n",
      "0batch [00:00, ?batch/s]"
     ]
    },
    {
     "name": "stdout",
     "output_type": "stream",
     "text": [
      "---------------------------------\n",
      "| batch_size        | 32        |\n",
      "| bc/               |           |\n",
      "|    batch          | 0         |\n",
      "|    ent_loss       | -1.31e-06 |\n",
      "|    entropy        | 0.00131   |\n",
      "|    epoch          | 0         |\n",
      "|    l2_loss        | 0         |\n",
      "|    l2_norm        | 1.73e+05  |\n",
      "|    loss           | 0.000111  |\n",
      "|    neglogp        | 0.000112  |\n",
      "|    prob_true_act  | 1         |\n",
      "|    samples_so_far | 32        |\n",
      "---------------------------------\n"
     ]
    },
    {
     "name": "stderr",
     "output_type": "stream",
     "text": [
      "246batch [00:04, 55.56batch/s]\n",
      "0batch [00:00, ?batch/s]"
     ]
    },
    {
     "name": "stdout",
     "output_type": "stream",
     "text": [
      "---------------------------------\n",
      "| batch_size        | 32        |\n",
      "| bc/               |           |\n",
      "|    batch          | 0         |\n",
      "|    ent_loss       | -1.19e-06 |\n",
      "|    entropy        | 0.00119   |\n",
      "|    epoch          | 0         |\n",
      "|    l2_loss        | 0         |\n",
      "|    l2_norm        | 1.73e+05  |\n",
      "|    loss           | 9.66e-05  |\n",
      "|    neglogp        | 9.78e-05  |\n",
      "|    prob_true_act  | 1         |\n",
      "|    samples_so_far | 32        |\n",
      "---------------------------------\n"
     ]
    },
    {
     "name": "stderr",
     "output_type": "stream",
     "text": [
      "246batch [00:04, 53.94batch/s]\n",
      "0batch [00:00, ?batch/s]"
     ]
    },
    {
     "name": "stdout",
     "output_type": "stream",
     "text": [
      "---------------------------------\n",
      "| batch_size        | 32        |\n",
      "| bc/               |           |\n",
      "|    batch          | 0         |\n",
      "|    ent_loss       | -1.38e-06 |\n",
      "|    entropy        | 0.00138   |\n",
      "|    epoch          | 0         |\n",
      "|    l2_loss        | 0         |\n",
      "|    l2_norm        | 1.73e+05  |\n",
      "|    loss           | 0.000128  |\n",
      "|    neglogp        | 0.000129  |\n",
      "|    prob_true_act  | 1         |\n",
      "|    samples_so_far | 32        |\n",
      "---------------------------------\n"
     ]
    },
    {
     "name": "stderr",
     "output_type": "stream",
     "text": [
      "246batch [00:04, 55.13batch/s]\n",
      "0batch [00:00, ?batch/s]"
     ]
    },
    {
     "name": "stdout",
     "output_type": "stream",
     "text": [
      "---------------------------------\n",
      "| batch_size        | 32        |\n",
      "| bc/               |           |\n",
      "|    batch          | 0         |\n",
      "|    ent_loss       | -8.61e-07 |\n",
      "|    entropy        | 0.000861  |\n",
      "|    epoch          | 0         |\n",
      "|    l2_loss        | 0         |\n",
      "|    l2_norm        | 1.73e+05  |\n",
      "|    loss           | 7.44e-05  |\n",
      "|    neglogp        | 7.53e-05  |\n",
      "|    prob_true_act  | 1         |\n",
      "|    samples_so_far | 32        |\n",
      "---------------------------------\n"
     ]
    },
    {
     "name": "stderr",
     "output_type": "stream",
     "text": [
      "246batch [00:04, 55.23batch/s]\n",
      "0batch [00:00, ?batch/s]"
     ]
    },
    {
     "name": "stdout",
     "output_type": "stream",
     "text": [
      "---------------------------------\n",
      "| batch_size        | 32        |\n",
      "| bc/               |           |\n",
      "|    batch          | 0         |\n",
      "|    ent_loss       | -1.43e-06 |\n",
      "|    entropy        | 0.00143   |\n",
      "|    epoch          | 0         |\n",
      "|    l2_loss        | 0         |\n",
      "|    l2_norm        | 1.73e+05  |\n",
      "|    loss           | 0.000123  |\n",
      "|    neglogp        | 0.000125  |\n",
      "|    prob_true_act  | 1         |\n",
      "|    samples_so_far | 32        |\n",
      "---------------------------------\n"
     ]
    },
    {
     "name": "stderr",
     "output_type": "stream",
     "text": [
      "246batch [00:04, 53.79batch/s]\n",
      "0batch [00:00, ?batch/s]"
     ]
    },
    {
     "name": "stdout",
     "output_type": "stream",
     "text": [
      "---------------------------------\n",
      "| batch_size        | 32        |\n",
      "| bc/               |           |\n",
      "|    batch          | 0         |\n",
      "|    ent_loss       | -3.89e-05 |\n",
      "|    entropy        | 0.0389    |\n",
      "|    epoch          | 0         |\n",
      "|    l2_loss        | 0         |\n",
      "|    l2_norm        | 1.73e+05  |\n",
      "|    loss           | 0.0368    |\n",
      "|    neglogp        | 0.0368    |\n",
      "|    prob_true_act  | 0.978     |\n",
      "|    samples_so_far | 32        |\n",
      "---------------------------------\n"
     ]
    },
    {
     "name": "stderr",
     "output_type": "stream",
     "text": [
      "246batch [00:04, 55.30batch/s]\n",
      "0batch [00:00, ?batch/s]"
     ]
    },
    {
     "name": "stdout",
     "output_type": "stream",
     "text": [
      "---------------------------------\n",
      "| batch_size        | 32        |\n",
      "| bc/               |           |\n",
      "|    batch          | 0         |\n",
      "|    ent_loss       | -9.18e-07 |\n",
      "|    entropy        | 0.000918  |\n",
      "|    epoch          | 0         |\n",
      "|    l2_loss        | 0         |\n",
      "|    l2_norm        | 1.73e+05  |\n",
      "|    loss           | 8.22e-05  |\n",
      "|    neglogp        | 8.31e-05  |\n",
      "|    prob_true_act  | 1         |\n",
      "|    samples_so_far | 32        |\n",
      "---------------------------------\n"
     ]
    },
    {
     "name": "stderr",
     "output_type": "stream",
     "text": [
      "246batch [00:04, 54.69batch/s]\n",
      "0batch [00:00, ?batch/s]"
     ]
    },
    {
     "name": "stdout",
     "output_type": "stream",
     "text": [
      "---------------------------------\n",
      "| batch_size        | 32        |\n",
      "| bc/               |           |\n",
      "|    batch          | 0         |\n",
      "|    ent_loss       | -1.87e-05 |\n",
      "|    entropy        | 0.0187    |\n",
      "|    epoch          | 0         |\n",
      "|    l2_loss        | 0         |\n",
      "|    l2_norm        | 1.73e+05  |\n",
      "|    loss           | 0.0474    |\n",
      "|    neglogp        | 0.0475    |\n",
      "|    prob_true_act  | 0.976     |\n",
      "|    samples_so_far | 32        |\n",
      "---------------------------------\n"
     ]
    },
    {
     "name": "stderr",
     "output_type": "stream",
     "text": [
      "246batch [00:04, 54.12batch/s]\n",
      "0batch [00:00, ?batch/s]"
     ]
    },
    {
     "name": "stdout",
     "output_type": "stream",
     "text": [
      "---------------------------------\n",
      "| batch_size        | 32        |\n",
      "| bc/               |           |\n",
      "|    batch          | 0         |\n",
      "|    ent_loss       | -6.98e-07 |\n",
      "|    entropy        | 0.000698  |\n",
      "|    epoch          | 0         |\n",
      "|    l2_loss        | 0         |\n",
      "|    l2_norm        | 1.73e+05  |\n",
      "|    loss           | 5.65e-05  |\n",
      "|    neglogp        | 5.72e-05  |\n",
      "|    prob_true_act  | 1         |\n",
      "|    samples_so_far | 32        |\n",
      "---------------------------------\n"
     ]
    },
    {
     "name": "stderr",
     "output_type": "stream",
     "text": [
      "246batch [00:04, 55.45batch/s]\n",
      "0batch [00:00, ?batch/s]"
     ]
    },
    {
     "name": "stdout",
     "output_type": "stream",
     "text": [
      "---------------------------------\n",
      "| batch_size        | 32        |\n",
      "| bc/               |           |\n",
      "|    batch          | 0         |\n",
      "|    ent_loss       | -5.93e-07 |\n",
      "|    entropy        | 0.000593  |\n",
      "|    epoch          | 0         |\n",
      "|    l2_loss        | 0         |\n",
      "|    l2_norm        | 1.73e+05  |\n",
      "|    loss           | 4.85e-05  |\n",
      "|    neglogp        | 4.91e-05  |\n",
      "|    prob_true_act  | 1         |\n",
      "|    samples_so_far | 32        |\n",
      "---------------------------------\n"
     ]
    },
    {
     "name": "stderr",
     "output_type": "stream",
     "text": [
      "246batch [00:04, 55.28batch/s]\n",
      "0batch [00:00, ?batch/s]"
     ]
    },
    {
     "name": "stdout",
     "output_type": "stream",
     "text": [
      "---------------------------------\n",
      "| batch_size        | 32        |\n",
      "| bc/               |           |\n",
      "|    batch          | 0         |\n",
      "|    ent_loss       | -9.05e-07 |\n",
      "|    entropy        | 0.000905  |\n",
      "|    epoch          | 0         |\n",
      "|    l2_loss        | 0         |\n",
      "|    l2_norm        | 1.73e+05  |\n",
      "|    loss           | 8.04e-05  |\n",
      "|    neglogp        | 8.13e-05  |\n",
      "|    prob_true_act  | 1         |\n",
      "|    samples_so_far | 32        |\n",
      "---------------------------------\n"
     ]
    },
    {
     "name": "stderr",
     "output_type": "stream",
     "text": [
      "246batch [00:04, 54.43batch/s]\n",
      "0batch [00:00, ?batch/s]"
     ]
    },
    {
     "name": "stdout",
     "output_type": "stream",
     "text": [
      "---------------------------------\n",
      "| batch_size        | 32        |\n",
      "| bc/               |           |\n",
      "|    batch          | 0         |\n",
      "|    ent_loss       | -4.02e-05 |\n",
      "|    entropy        | 0.0402    |\n",
      "|    epoch          | 0         |\n",
      "|    l2_loss        | 0         |\n",
      "|    l2_norm        | 1.73e+05  |\n",
      "|    loss           | 0.0223    |\n",
      "|    neglogp        | 0.0223    |\n",
      "|    prob_true_act  | 0.981     |\n",
      "|    samples_so_far | 32        |\n",
      "---------------------------------\n"
     ]
    },
    {
     "name": "stderr",
     "output_type": "stream",
     "text": [
      "246batch [00:04, 54.86batch/s]\n",
      "0batch [00:00, ?batch/s]"
     ]
    },
    {
     "name": "stdout",
     "output_type": "stream",
     "text": [
      "---------------------------------\n",
      "| batch_size        | 32        |\n",
      "| bc/               |           |\n",
      "|    batch          | 0         |\n",
      "|    ent_loss       | -1.17e-06 |\n",
      "|    entropy        | 0.00117   |\n",
      "|    epoch          | 0         |\n",
      "|    l2_loss        | 0         |\n",
      "|    l2_norm        | 1.73e+05  |\n",
      "|    loss           | 0.000102  |\n",
      "|    neglogp        | 0.000103  |\n",
      "|    prob_true_act  | 1         |\n",
      "|    samples_so_far | 32        |\n",
      "---------------------------------\n"
     ]
    },
    {
     "name": "stderr",
     "output_type": "stream",
     "text": [
      "246batch [00:04, 51.61batch/s]\n",
      "0batch [00:00, ?batch/s]"
     ]
    },
    {
     "name": "stdout",
     "output_type": "stream",
     "text": [
      "---------------------------------\n",
      "| batch_size        | 32        |\n",
      "| bc/               |           |\n",
      "|    batch          | 0         |\n",
      "|    ent_loss       | -3.57e-06 |\n",
      "|    entropy        | 0.00357   |\n",
      "|    epoch          | 0         |\n",
      "|    l2_loss        | 0         |\n",
      "|    l2_norm        | 1.73e+05  |\n",
      "|    loss           | 0.000324  |\n",
      "|    neglogp        | 0.000328  |\n",
      "|    prob_true_act  | 1         |\n",
      "|    samples_so_far | 32        |\n",
      "---------------------------------\n"
     ]
    },
    {
     "name": "stderr",
     "output_type": "stream",
     "text": [
      "246batch [00:04, 53.88batch/s]\n",
      "0batch [00:00, ?batch/s]"
     ]
    },
    {
     "name": "stdout",
     "output_type": "stream",
     "text": [
      "---------------------------------\n",
      "| batch_size        | 32        |\n",
      "| bc/               |           |\n",
      "|    batch          | 0         |\n",
      "|    ent_loss       | -1.61e-05 |\n",
      "|    entropy        | 0.0161    |\n",
      "|    epoch          | 0         |\n",
      "|    l2_loss        | 0         |\n",
      "|    l2_norm        | 1.73e+05  |\n",
      "|    loss           | 0.00643   |\n",
      "|    neglogp        | 0.00644   |\n",
      "|    prob_true_act  | 0.994     |\n",
      "|    samples_so_far | 32        |\n",
      "---------------------------------\n"
     ]
    },
    {
     "name": "stderr",
     "output_type": "stream",
     "text": [
      "246batch [00:04, 55.21batch/s]\n",
      "0batch [00:00, ?batch/s]"
     ]
    },
    {
     "name": "stdout",
     "output_type": "stream",
     "text": [
      "---------------------------------\n",
      "| batch_size        | 32        |\n",
      "| bc/               |           |\n",
      "|    batch          | 0         |\n",
      "|    ent_loss       | -5.72e-07 |\n",
      "|    entropy        | 0.000572  |\n",
      "|    epoch          | 0         |\n",
      "|    l2_loss        | 0         |\n",
      "|    l2_norm        | 1.73e+05  |\n",
      "|    loss           | 4.43e-05  |\n",
      "|    neglogp        | 4.48e-05  |\n",
      "|    prob_true_act  | 1         |\n",
      "|    samples_so_far | 32        |\n",
      "---------------------------------\n"
     ]
    },
    {
     "name": "stderr",
     "output_type": "stream",
     "text": [
      "246batch [00:04, 54.22batch/s]\n",
      "0batch [00:00, ?batch/s]"
     ]
    },
    {
     "name": "stdout",
     "output_type": "stream",
     "text": [
      "---------------------------------\n",
      "| batch_size        | 32        |\n",
      "| bc/               |           |\n",
      "|    batch          | 0         |\n",
      "|    ent_loss       | -3.93e-05 |\n",
      "|    entropy        | 0.0393    |\n",
      "|    epoch          | 0         |\n",
      "|    l2_loss        | 0         |\n",
      "|    l2_norm        | 1.74e+05  |\n",
      "|    loss           | 0.0319    |\n",
      "|    neglogp        | 0.0319    |\n",
      "|    prob_true_act  | 0.98      |\n",
      "|    samples_so_far | 32        |\n",
      "---------------------------------\n"
     ]
    },
    {
     "name": "stderr",
     "output_type": "stream",
     "text": [
      "246batch [00:04, 55.14batch/s]\n",
      "0batch [00:00, ?batch/s]"
     ]
    },
    {
     "name": "stdout",
     "output_type": "stream",
     "text": [
      "---------------------------------\n",
      "| batch_size        | 32        |\n",
      "| bc/               |           |\n",
      "|    batch          | 0         |\n",
      "|    ent_loss       | -1.41e-06 |\n",
      "|    entropy        | 0.00141   |\n",
      "|    epoch          | 0         |\n",
      "|    l2_loss        | 0         |\n",
      "|    l2_norm        | 1.74e+05  |\n",
      "|    loss           | 0.000121  |\n",
      "|    neglogp        | 0.000123  |\n",
      "|    prob_true_act  | 1         |\n",
      "|    samples_so_far | 32        |\n",
      "---------------------------------\n"
     ]
    },
    {
     "name": "stderr",
     "output_type": "stream",
     "text": [
      "246batch [00:04, 55.60batch/s]\n",
      "0batch [00:00, ?batch/s]"
     ]
    },
    {
     "name": "stdout",
     "output_type": "stream",
     "text": [
      "---------------------------------\n",
      "| batch_size        | 32        |\n",
      "| bc/               |           |\n",
      "|    batch          | 0         |\n",
      "|    ent_loss       | -4.59e-05 |\n",
      "|    entropy        | 0.0459    |\n",
      "|    epoch          | 0         |\n",
      "|    l2_loss        | 0         |\n",
      "|    l2_norm        | 1.74e+05  |\n",
      "|    loss           | 0.037     |\n",
      "|    neglogp        | 0.0371    |\n",
      "|    prob_true_act  | 0.972     |\n",
      "|    samples_so_far | 32        |\n",
      "---------------------------------\n"
     ]
    },
    {
     "name": "stderr",
     "output_type": "stream",
     "text": [
      "246batch [00:04, 54.39batch/s]\n",
      "0batch [00:00, ?batch/s]"
     ]
    },
    {
     "name": "stdout",
     "output_type": "stream",
     "text": [
      "---------------------------------\n",
      "| batch_size        | 32        |\n",
      "| bc/               |           |\n",
      "|    batch          | 0         |\n",
      "|    ent_loss       | -3.35e-05 |\n",
      "|    entropy        | 0.0335    |\n",
      "|    epoch          | 0         |\n",
      "|    l2_loss        | 0         |\n",
      "|    l2_norm        | 1.74e+05  |\n",
      "|    loss           | 0.0928    |\n",
      "|    neglogp        | 0.0928    |\n",
      "|    prob_true_act  | 0.97      |\n",
      "|    samples_so_far | 32        |\n",
      "---------------------------------\n"
     ]
    },
    {
     "name": "stderr",
     "output_type": "stream",
     "text": [
      "246batch [00:04, 55.15batch/s]\n",
      "0batch [00:00, ?batch/s]"
     ]
    },
    {
     "name": "stdout",
     "output_type": "stream",
     "text": [
      "---------------------------------\n",
      "| batch_size        | 32        |\n",
      "| bc/               |           |\n",
      "|    batch          | 0         |\n",
      "|    ent_loss       | -2.51e-05 |\n",
      "|    entropy        | 0.0251    |\n",
      "|    epoch          | 0         |\n",
      "|    l2_loss        | 0         |\n",
      "|    l2_norm        | 1.74e+05  |\n",
      "|    loss           | 0.0228    |\n",
      "|    neglogp        | 0.0228    |\n",
      "|    prob_true_act  | 0.984     |\n",
      "|    samples_so_far | 32        |\n",
      "---------------------------------\n"
     ]
    },
    {
     "name": "stderr",
     "output_type": "stream",
     "text": [
      "246batch [00:04, 54.68batch/s]\n",
      "0batch [00:00, ?batch/s]"
     ]
    },
    {
     "name": "stdout",
     "output_type": "stream",
     "text": [
      "---------------------------------\n",
      "| batch_size        | 32        |\n",
      "| bc/               |           |\n",
      "|    batch          | 0         |\n",
      "|    ent_loss       | -2.35e-05 |\n",
      "|    entropy        | 0.0235    |\n",
      "|    epoch          | 0         |\n",
      "|    l2_loss        | 0         |\n",
      "|    l2_norm        | 1.74e+05  |\n",
      "|    loss           | 0.0197    |\n",
      "|    neglogp        | 0.0198    |\n",
      "|    prob_true_act  | 0.985     |\n",
      "|    samples_so_far | 32        |\n",
      "---------------------------------\n"
     ]
    },
    {
     "name": "stderr",
     "output_type": "stream",
     "text": [
      "246batch [00:04, 54.13batch/s]\n",
      "0batch [00:00, ?batch/s]"
     ]
    },
    {
     "name": "stdout",
     "output_type": "stream",
     "text": [
      "---------------------------------\n",
      "| batch_size        | 32        |\n",
      "| bc/               |           |\n",
      "|    batch          | 0         |\n",
      "|    ent_loss       | -6.43e-07 |\n",
      "|    entropy        | 0.000643  |\n",
      "|    epoch          | 0         |\n",
      "|    l2_loss        | 0         |\n",
      "|    l2_norm        | 1.74e+05  |\n",
      "|    loss           | 5.2e-05   |\n",
      "|    neglogp        | 5.27e-05  |\n",
      "|    prob_true_act  | 1         |\n",
      "|    samples_so_far | 32        |\n",
      "---------------------------------\n"
     ]
    },
    {
     "name": "stderr",
     "output_type": "stream",
     "text": [
      "246batch [00:04, 54.98batch/s]\n"
     ]
    },
    {
     "name": "stdout",
     "output_type": "stream",
     "text": [
      "Checkpoint saved at checkpoints\\bc_model_epoch_700.zip\n"
     ]
    },
    {
     "name": "stderr",
     "output_type": "stream",
     "text": [
      "0batch [00:00, ?batch/s]"
     ]
    },
    {
     "name": "stdout",
     "output_type": "stream",
     "text": [
      "---------------------------------\n",
      "| batch_size        | 32        |\n",
      "| bc/               |           |\n",
      "|    batch          | 0         |\n",
      "|    ent_loss       | -3.36e-05 |\n",
      "|    entropy        | 0.0336    |\n",
      "|    epoch          | 0         |\n",
      "|    l2_loss        | 0         |\n",
      "|    l2_norm        | 1.74e+05  |\n",
      "|    loss           | 0.0187    |\n",
      "|    neglogp        | 0.0187    |\n",
      "|    prob_true_act  | 0.986     |\n",
      "|    samples_so_far | 32        |\n",
      "---------------------------------\n"
     ]
    },
    {
     "name": "stderr",
     "output_type": "stream",
     "text": [
      "246batch [00:04, 52.80batch/s]\n",
      "0batch [00:00, ?batch/s]"
     ]
    },
    {
     "name": "stdout",
     "output_type": "stream",
     "text": [
      "---------------------------------\n",
      "| batch_size        | 32        |\n",
      "| bc/               |           |\n",
      "|    batch          | 0         |\n",
      "|    ent_loss       | -6.14e-05 |\n",
      "|    entropy        | 0.0614    |\n",
      "|    epoch          | 0         |\n",
      "|    l2_loss        | 0         |\n",
      "|    l2_norm        | 1.74e+05  |\n",
      "|    loss           | 0.0543    |\n",
      "|    neglogp        | 0.0544    |\n",
      "|    prob_true_act  | 0.965     |\n",
      "|    samples_so_far | 32        |\n",
      "---------------------------------\n"
     ]
    },
    {
     "name": "stderr",
     "output_type": "stream",
     "text": [
      "246batch [00:04, 54.93batch/s]\n",
      "0batch [00:00, ?batch/s]"
     ]
    },
    {
     "name": "stdout",
     "output_type": "stream",
     "text": [
      "---------------------------------\n",
      "| batch_size        | 32        |\n",
      "| bc/               |           |\n",
      "|    batch          | 0         |\n",
      "|    ent_loss       | -1.38e-06 |\n",
      "|    entropy        | 0.00138   |\n",
      "|    epoch          | 0         |\n",
      "|    l2_loss        | 0         |\n",
      "|    l2_norm        | 1.74e+05  |\n",
      "|    loss           | 0.000141  |\n",
      "|    neglogp        | 0.000142  |\n",
      "|    prob_true_act  | 1         |\n",
      "|    samples_so_far | 32        |\n",
      "---------------------------------\n"
     ]
    },
    {
     "name": "stderr",
     "output_type": "stream",
     "text": [
      "246batch [00:04, 55.46batch/s]\n",
      "0batch [00:00, ?batch/s]"
     ]
    },
    {
     "name": "stdout",
     "output_type": "stream",
     "text": [
      "---------------------------------\n",
      "| batch_size        | 32        |\n",
      "| bc/               |           |\n",
      "|    batch          | 0         |\n",
      "|    ent_loss       | -2.04e-06 |\n",
      "|    entropy        | 0.00204   |\n",
      "|    epoch          | 0         |\n",
      "|    l2_loss        | 0         |\n",
      "|    l2_norm        | 1.75e+05  |\n",
      "|    loss           | 0.000193  |\n",
      "|    neglogp        | 0.000195  |\n",
      "|    prob_true_act  | 1         |\n",
      "|    samples_so_far | 32        |\n",
      "---------------------------------\n"
     ]
    },
    {
     "name": "stderr",
     "output_type": "stream",
     "text": [
      "246batch [00:04, 53.74batch/s]\n",
      "0batch [00:00, ?batch/s]"
     ]
    },
    {
     "name": "stdout",
     "output_type": "stream",
     "text": [
      "---------------------------------\n",
      "| batch_size        | 32        |\n",
      "| bc/               |           |\n",
      "|    batch          | 0         |\n",
      "|    ent_loss       | -3.39e-05 |\n",
      "|    entropy        | 0.0339    |\n",
      "|    epoch          | 0         |\n",
      "|    l2_loss        | 0         |\n",
      "|    l2_norm        | 1.75e+05  |\n",
      "|    loss           | 0.0345    |\n",
      "|    neglogp        | 0.0345    |\n",
      "|    prob_true_act  | 0.979     |\n",
      "|    samples_so_far | 32        |\n",
      "---------------------------------\n"
     ]
    },
    {
     "name": "stderr",
     "output_type": "stream",
     "text": [
      "246batch [00:04, 55.35batch/s]\n",
      "0batch [00:00, ?batch/s]"
     ]
    },
    {
     "name": "stdout",
     "output_type": "stream",
     "text": [
      "---------------------------------\n",
      "| batch_size        | 32        |\n",
      "| bc/               |           |\n",
      "|    batch          | 0         |\n",
      "|    ent_loss       | -6.44e-06 |\n",
      "|    entropy        | 0.00644   |\n",
      "|    epoch          | 0         |\n",
      "|    l2_loss        | 0         |\n",
      "|    l2_norm        | 1.74e+05  |\n",
      "|    loss           | 0.000707  |\n",
      "|    neglogp        | 0.000714  |\n",
      "|    prob_true_act  | 0.999     |\n",
      "|    samples_so_far | 32        |\n",
      "---------------------------------\n"
     ]
    },
    {
     "name": "stderr",
     "output_type": "stream",
     "text": [
      "246batch [00:04, 49.93batch/s]\n",
      "0batch [00:00, ?batch/s]"
     ]
    },
    {
     "name": "stdout",
     "output_type": "stream",
     "text": [
      "---------------------------------\n",
      "| batch_size        | 32        |\n",
      "| bc/               |           |\n",
      "|    batch          | 0         |\n",
      "|    ent_loss       | -2.46e-05 |\n",
      "|    entropy        | 0.0246    |\n",
      "|    epoch          | 0         |\n",
      "|    l2_loss        | 0         |\n",
      "|    l2_norm        | 1.74e+05  |\n",
      "|    loss           | 0.0252    |\n",
      "|    neglogp        | 0.0252    |\n",
      "|    prob_true_act  | 0.983     |\n",
      "|    samples_so_far | 32        |\n",
      "---------------------------------\n"
     ]
    },
    {
     "name": "stderr",
     "output_type": "stream",
     "text": [
      "246batch [00:04, 51.35batch/s]\n",
      "0batch [00:00, ?batch/s]"
     ]
    },
    {
     "name": "stdout",
     "output_type": "stream",
     "text": [
      "---------------------------------\n",
      "| batch_size        | 32        |\n",
      "| bc/               |           |\n",
      "|    batch          | 0         |\n",
      "|    ent_loss       | -1.99e-05 |\n",
      "|    entropy        | 0.0199    |\n",
      "|    epoch          | 0         |\n",
      "|    l2_loss        | 0         |\n",
      "|    l2_norm        | 1.75e+05  |\n",
      "|    loss           | 0.00939   |\n",
      "|    neglogp        | 0.00941   |\n",
      "|    prob_true_act  | 0.992     |\n",
      "|    samples_so_far | 32        |\n",
      "---------------------------------\n"
     ]
    },
    {
     "name": "stderr",
     "output_type": "stream",
     "text": [
      "246batch [00:04, 55.45batch/s]\n",
      "0batch [00:00, ?batch/s]"
     ]
    },
    {
     "name": "stdout",
     "output_type": "stream",
     "text": [
      "---------------------------------\n",
      "| batch_size        | 32        |\n",
      "| bc/               |           |\n",
      "|    batch          | 0         |\n",
      "|    ent_loss       | -1.77e-05 |\n",
      "|    entropy        | 0.0177    |\n",
      "|    epoch          | 0         |\n",
      "|    l2_loss        | 0         |\n",
      "|    l2_norm        | 1.75e+05  |\n",
      "|    loss           | 0.00727   |\n",
      "|    neglogp        | 0.00729   |\n",
      "|    prob_true_act  | 0.993     |\n",
      "|    samples_so_far | 32        |\n",
      "---------------------------------\n"
     ]
    },
    {
     "name": "stderr",
     "output_type": "stream",
     "text": [
      "246batch [00:04, 55.70batch/s]\n",
      "0batch [00:00, ?batch/s]"
     ]
    },
    {
     "name": "stdout",
     "output_type": "stream",
     "text": [
      "---------------------------------\n",
      "| batch_size        | 32        |\n",
      "| bc/               |           |\n",
      "|    batch          | 0         |\n",
      "|    ent_loss       | -2.32e-05 |\n",
      "|    entropy        | 0.0232    |\n",
      "|    epoch          | 0         |\n",
      "|    l2_loss        | 0         |\n",
      "|    l2_norm        | 1.75e+05  |\n",
      "|    loss           | 0.0174    |\n",
      "|    neglogp        | 0.0174    |\n",
      "|    prob_true_act  | 0.987     |\n",
      "|    samples_so_far | 32        |\n",
      "---------------------------------\n"
     ]
    },
    {
     "name": "stderr",
     "output_type": "stream",
     "text": [
      "246batch [00:04, 54.31batch/s]\n",
      "0batch [00:00, ?batch/s]"
     ]
    },
    {
     "name": "stdout",
     "output_type": "stream",
     "text": [
      "---------------------------------\n",
      "| batch_size        | 32        |\n",
      "| bc/               |           |\n",
      "|    batch          | 0         |\n",
      "|    ent_loss       | -9.32e-07 |\n",
      "|    entropy        | 0.000932  |\n",
      "|    epoch          | 0         |\n",
      "|    l2_loss        | 0         |\n",
      "|    l2_norm        | 1.75e+05  |\n",
      "|    loss           | 7.72e-05  |\n",
      "|    neglogp        | 7.81e-05  |\n",
      "|    prob_true_act  | 1         |\n",
      "|    samples_so_far | 32        |\n",
      "---------------------------------\n"
     ]
    },
    {
     "name": "stderr",
     "output_type": "stream",
     "text": [
      "246batch [00:04, 55.09batch/s]\n",
      "0batch [00:00, ?batch/s]"
     ]
    },
    {
     "name": "stdout",
     "output_type": "stream",
     "text": [
      "---------------------------------\n",
      "| batch_size        | 32        |\n",
      "| bc/               |           |\n",
      "|    batch          | 0         |\n",
      "|    ent_loss       | -1.09e-06 |\n",
      "|    entropy        | 0.00109   |\n",
      "|    epoch          | 0         |\n",
      "|    l2_loss        | 0         |\n",
      "|    l2_norm        | 1.75e+05  |\n",
      "|    loss           | 0.000103  |\n",
      "|    neglogp        | 0.000104  |\n",
      "|    prob_true_act  | 1         |\n",
      "|    samples_so_far | 32        |\n",
      "---------------------------------\n"
     ]
    },
    {
     "name": "stderr",
     "output_type": "stream",
     "text": [
      "246batch [00:04, 53.93batch/s]\n",
      "0batch [00:00, ?batch/s]"
     ]
    },
    {
     "name": "stdout",
     "output_type": "stream",
     "text": [
      "---------------------------------\n",
      "| batch_size        | 32        |\n",
      "| bc/               |           |\n",
      "|    batch          | 0         |\n",
      "|    ent_loss       | -2.71e-05 |\n",
      "|    entropy        | 0.0271    |\n",
      "|    epoch          | 0         |\n",
      "|    l2_loss        | 0         |\n",
      "|    l2_norm        | 1.75e+05  |\n",
      "|    loss           | 0.0199    |\n",
      "|    neglogp        | 0.02      |\n",
      "|    prob_true_act  | 0.985     |\n",
      "|    samples_so_far | 32        |\n",
      "---------------------------------\n"
     ]
    },
    {
     "name": "stderr",
     "output_type": "stream",
     "text": [
      "246batch [00:04, 53.04batch/s]\n",
      "0batch [00:00, ?batch/s]"
     ]
    },
    {
     "name": "stdout",
     "output_type": "stream",
     "text": [
      "---------------------------------\n",
      "| batch_size        | 32        |\n",
      "| bc/               |           |\n",
      "|    batch          | 0         |\n",
      "|    ent_loss       | -9.07e-07 |\n",
      "|    entropy        | 0.000907  |\n",
      "|    epoch          | 0         |\n",
      "|    l2_loss        | 0         |\n",
      "|    l2_norm        | 1.75e+05  |\n",
      "|    loss           | 7.32e-05  |\n",
      "|    neglogp        | 7.41e-05  |\n",
      "|    prob_true_act  | 1         |\n",
      "|    samples_so_far | 32        |\n",
      "---------------------------------\n"
     ]
    },
    {
     "name": "stderr",
     "output_type": "stream",
     "text": [
      "246batch [00:04, 52.50batch/s]\n",
      "0batch [00:00, ?batch/s]"
     ]
    },
    {
     "name": "stdout",
     "output_type": "stream",
     "text": [
      "---------------------------------\n",
      "| batch_size        | 32        |\n",
      "| bc/               |           |\n",
      "|    batch          | 0         |\n",
      "|    ent_loss       | -4.52e-05 |\n",
      "|    entropy        | 0.0452    |\n",
      "|    epoch          | 0         |\n",
      "|    l2_loss        | 0         |\n",
      "|    l2_norm        | 1.75e+05  |\n",
      "|    loss           | 0.0617    |\n",
      "|    neglogp        | 0.0618    |\n",
      "|    prob_true_act  | 0.961     |\n",
      "|    samples_so_far | 32        |\n",
      "---------------------------------\n"
     ]
    },
    {
     "name": "stderr",
     "output_type": "stream",
     "text": [
      "246batch [00:04, 53.48batch/s]\n",
      "0batch [00:00, ?batch/s]"
     ]
    },
    {
     "name": "stdout",
     "output_type": "stream",
     "text": [
      "---------------------------------\n",
      "| batch_size        | 32        |\n",
      "| bc/               |           |\n",
      "|    batch          | 0         |\n",
      "|    ent_loss       | -4.57e-05 |\n",
      "|    entropy        | 0.0457    |\n",
      "|    epoch          | 0         |\n",
      "|    l2_loss        | 0         |\n",
      "|    l2_norm        | 1.75e+05  |\n",
      "|    loss           | 0.0532    |\n",
      "|    neglogp        | 0.0532    |\n",
      "|    prob_true_act  | 0.964     |\n",
      "|    samples_so_far | 32        |\n",
      "---------------------------------\n"
     ]
    },
    {
     "name": "stderr",
     "output_type": "stream",
     "text": [
      "246batch [00:04, 55.54batch/s]\n",
      "0batch [00:00, ?batch/s]"
     ]
    },
    {
     "name": "stdout",
     "output_type": "stream",
     "text": [
      "---------------------------------\n",
      "| batch_size        | 32        |\n",
      "| bc/               |           |\n",
      "|    batch          | 0         |\n",
      "|    ent_loss       | -2.41e-05 |\n",
      "|    entropy        | 0.0241    |\n",
      "|    epoch          | 0         |\n",
      "|    l2_loss        | 0         |\n",
      "|    l2_norm        | 1.75e+05  |\n",
      "|    loss           | 0.019     |\n",
      "|    neglogp        | 0.0191    |\n",
      "|    prob_true_act  | 0.986     |\n",
      "|    samples_so_far | 32        |\n",
      "---------------------------------\n"
     ]
    },
    {
     "name": "stderr",
     "output_type": "stream",
     "text": [
      "246batch [00:04, 54.93batch/s]\n",
      "0batch [00:00, ?batch/s]"
     ]
    },
    {
     "name": "stdout",
     "output_type": "stream",
     "text": [
      "---------------------------------\n",
      "| batch_size        | 32        |\n",
      "| bc/               |           |\n",
      "|    batch          | 0         |\n",
      "|    ent_loss       | -7.15e-07 |\n",
      "|    entropy        | 0.000715  |\n",
      "|    epoch          | 0         |\n",
      "|    l2_loss        | 0         |\n",
      "|    l2_norm        | 1.75e+05  |\n",
      "|    loss           | 6.4e-05   |\n",
      "|    neglogp        | 6.47e-05  |\n",
      "|    prob_true_act  | 1         |\n",
      "|    samples_so_far | 32        |\n",
      "---------------------------------\n"
     ]
    },
    {
     "name": "stderr",
     "output_type": "stream",
     "text": [
      "246batch [00:04, 54.32batch/s]\n",
      "0batch [00:00, ?batch/s]"
     ]
    },
    {
     "name": "stdout",
     "output_type": "stream",
     "text": [
      "---------------------------------\n",
      "| batch_size        | 32        |\n",
      "| bc/               |           |\n",
      "|    batch          | 0         |\n",
      "|    ent_loss       | -9.36e-07 |\n",
      "|    entropy        | 0.000936  |\n",
      "|    epoch          | 0         |\n",
      "|    l2_loss        | 0         |\n",
      "|    l2_norm        | 1.75e+05  |\n",
      "|    loss           | 7.71e-05  |\n",
      "|    neglogp        | 7.81e-05  |\n",
      "|    prob_true_act  | 1         |\n",
      "|    samples_so_far | 32        |\n",
      "---------------------------------\n"
     ]
    },
    {
     "name": "stderr",
     "output_type": "stream",
     "text": [
      "246batch [00:04, 55.02batch/s]\n",
      "0batch [00:00, ?batch/s]"
     ]
    },
    {
     "name": "stdout",
     "output_type": "stream",
     "text": [
      "---------------------------------\n",
      "| batch_size        | 32        |\n",
      "| bc/               |           |\n",
      "|    batch          | 0         |\n",
      "|    ent_loss       | -5.02e-07 |\n",
      "|    entropy        | 0.000502  |\n",
      "|    epoch          | 0         |\n",
      "|    l2_loss        | 0         |\n",
      "|    l2_norm        | 1.76e+05  |\n",
      "|    loss           | 3.91e-05  |\n",
      "|    neglogp        | 3.96e-05  |\n",
      "|    prob_true_act  | 1         |\n",
      "|    samples_so_far | 32        |\n",
      "---------------------------------\n"
     ]
    },
    {
     "name": "stderr",
     "output_type": "stream",
     "text": [
      "246batch [00:04, 54.79batch/s]\n",
      "0batch [00:00, ?batch/s]"
     ]
    },
    {
     "name": "stdout",
     "output_type": "stream",
     "text": [
      "---------------------------------\n",
      "| batch_size        | 32        |\n",
      "| bc/               |           |\n",
      "|    batch          | 0         |\n",
      "|    ent_loss       | -1.51e-06 |\n",
      "|    entropy        | 0.00151   |\n",
      "|    epoch          | 0         |\n",
      "|    l2_loss        | 0         |\n",
      "|    l2_norm        | 1.76e+05  |\n",
      "|    loss           | 0.00013   |\n",
      "|    neglogp        | 0.000131  |\n",
      "|    prob_true_act  | 1         |\n",
      "|    samples_so_far | 32        |\n",
      "---------------------------------\n"
     ]
    },
    {
     "name": "stderr",
     "output_type": "stream",
     "text": [
      "246batch [00:04, 53.60batch/s]\n",
      "0batch [00:00, ?batch/s]"
     ]
    },
    {
     "name": "stdout",
     "output_type": "stream",
     "text": [
      "---------------------------------\n",
      "| batch_size        | 32        |\n",
      "| bc/               |           |\n",
      "|    batch          | 0         |\n",
      "|    ent_loss       | -3.67e-05 |\n",
      "|    entropy        | 0.0367    |\n",
      "|    epoch          | 0         |\n",
      "|    l2_loss        | 0         |\n",
      "|    l2_norm        | 1.76e+05  |\n",
      "|    loss           | 0.0209    |\n",
      "|    neglogp        | 0.0209    |\n",
      "|    prob_true_act  | 0.985     |\n",
      "|    samples_so_far | 32        |\n",
      "---------------------------------\n"
     ]
    },
    {
     "name": "stderr",
     "output_type": "stream",
     "text": [
      "246batch [00:04, 55.49batch/s]\n",
      "0batch [00:00, ?batch/s]"
     ]
    },
    {
     "name": "stdout",
     "output_type": "stream",
     "text": [
      "---------------------------------\n",
      "| batch_size        | 32        |\n",
      "| bc/               |           |\n",
      "|    batch          | 0         |\n",
      "|    ent_loss       | -2.34e-05 |\n",
      "|    entropy        | 0.0234    |\n",
      "|    epoch          | 0         |\n",
      "|    l2_loss        | 0         |\n",
      "|    l2_norm        | 1.76e+05  |\n",
      "|    loss           | 0.0207    |\n",
      "|    neglogp        | 0.0207    |\n",
      "|    prob_true_act  | 0.985     |\n",
      "|    samples_so_far | 32        |\n",
      "---------------------------------\n"
     ]
    },
    {
     "name": "stderr",
     "output_type": "stream",
     "text": [
      "246batch [00:04, 55.44batch/s]\n",
      "0batch [00:00, ?batch/s]"
     ]
    },
    {
     "name": "stdout",
     "output_type": "stream",
     "text": [
      "---------------------------------\n",
      "| batch_size        | 32        |\n",
      "| bc/               |           |\n",
      "|    batch          | 0         |\n",
      "|    ent_loss       | -2.59e-05 |\n",
      "|    entropy        | 0.0259    |\n",
      "|    epoch          | 0         |\n",
      "|    l2_loss        | 0         |\n",
      "|    l2_norm        | 1.76e+05  |\n",
      "|    loss           | 0.0237    |\n",
      "|    neglogp        | 0.0237    |\n",
      "|    prob_true_act  | 0.983     |\n",
      "|    samples_so_far | 32        |\n",
      "---------------------------------\n"
     ]
    },
    {
     "name": "stderr",
     "output_type": "stream",
     "text": [
      "246batch [00:04, 53.95batch/s]\n",
      "0batch [00:00, ?batch/s]"
     ]
    },
    {
     "name": "stdout",
     "output_type": "stream",
     "text": [
      "---------------------------------\n",
      "| batch_size        | 32        |\n",
      "| bc/               |           |\n",
      "|    batch          | 0         |\n",
      "|    ent_loss       | -0.000118 |\n",
      "|    entropy        | 0.118     |\n",
      "|    epoch          | 0         |\n",
      "|    l2_loss        | 0         |\n",
      "|    l2_norm        | 1.76e+05  |\n",
      "|    loss           | 0.0613    |\n",
      "|    neglogp        | 0.0614    |\n",
      "|    prob_true_act  | 0.954     |\n",
      "|    samples_so_far | 32        |\n",
      "---------------------------------\n"
     ]
    },
    {
     "name": "stderr",
     "output_type": "stream",
     "text": [
      "246batch [00:04, 54.73batch/s]\n",
      "0batch [00:00, ?batch/s]"
     ]
    },
    {
     "name": "stdout",
     "output_type": "stream",
     "text": [
      "---------------------------------\n",
      "| batch_size        | 32        |\n",
      "| bc/               |           |\n",
      "|    batch          | 0         |\n",
      "|    ent_loss       | -3.74e-05 |\n",
      "|    entropy        | 0.0374    |\n",
      "|    epoch          | 0         |\n",
      "|    l2_loss        | 0         |\n",
      "|    l2_norm        | 1.76e+05  |\n",
      "|    loss           | 0.0344    |\n",
      "|    neglogp        | 0.0344    |\n",
      "|    prob_true_act  | 0.979     |\n",
      "|    samples_so_far | 32        |\n",
      "---------------------------------\n"
     ]
    },
    {
     "name": "stderr",
     "output_type": "stream",
     "text": [
      "246batch [00:04, 55.12batch/s]\n",
      "0batch [00:00, ?batch/s]"
     ]
    },
    {
     "name": "stdout",
     "output_type": "stream",
     "text": [
      "--------------------------------\n",
      "| batch_size        | 32       |\n",
      "| bc/               |          |\n",
      "|    batch          | 0        |\n",
      "|    ent_loss       | -2.8e-06 |\n",
      "|    entropy        | 0.0028   |\n",
      "|    epoch          | 0        |\n",
      "|    l2_loss        | 0        |\n",
      "|    l2_norm        | 1.76e+05 |\n",
      "|    loss           | 0.000291 |\n",
      "|    neglogp        | 0.000294 |\n",
      "|    prob_true_act  | 1        |\n",
      "|    samples_so_far | 32       |\n",
      "--------------------------------\n"
     ]
    },
    {
     "name": "stderr",
     "output_type": "stream",
     "text": [
      "246batch [00:04, 53.84batch/s]\n",
      "0batch [00:00, ?batch/s]"
     ]
    },
    {
     "name": "stdout",
     "output_type": "stream",
     "text": [
      "---------------------------------\n",
      "| batch_size        | 32        |\n",
      "| bc/               |           |\n",
      "|    batch          | 0         |\n",
      "|    ent_loss       | -1.85e-05 |\n",
      "|    entropy        | 0.0185    |\n",
      "|    epoch          | 0         |\n",
      "|    l2_loss        | 0         |\n",
      "|    l2_norm        | 1.76e+05  |\n",
      "|    loss           | 0.0468    |\n",
      "|    neglogp        | 0.0468    |\n",
      "|    prob_true_act  | 0.976     |\n",
      "|    samples_so_far | 32        |\n",
      "---------------------------------\n"
     ]
    },
    {
     "name": "stderr",
     "output_type": "stream",
     "text": [
      "246batch [00:04, 54.31batch/s]\n",
      "0batch [00:00, ?batch/s]"
     ]
    },
    {
     "name": "stdout",
     "output_type": "stream",
     "text": [
      "---------------------------------\n",
      "| batch_size        | 32        |\n",
      "| bc/               |           |\n",
      "|    batch          | 0         |\n",
      "|    ent_loss       | -6.65e-07 |\n",
      "|    entropy        | 0.000665  |\n",
      "|    epoch          | 0         |\n",
      "|    l2_loss        | 0         |\n",
      "|    l2_norm        | 1.76e+05  |\n",
      "|    loss           | 5.57e-05  |\n",
      "|    neglogp        | 5.63e-05  |\n",
      "|    prob_true_act  | 1         |\n",
      "|    samples_so_far | 32        |\n",
      "---------------------------------\n"
     ]
    },
    {
     "name": "stderr",
     "output_type": "stream",
     "text": [
      "246batch [00:04, 55.01batch/s]\n",
      "0batch [00:00, ?batch/s]"
     ]
    },
    {
     "name": "stdout",
     "output_type": "stream",
     "text": [
      "---------------------------------\n",
      "| batch_size        | 32        |\n",
      "| bc/               |           |\n",
      "|    batch          | 0         |\n",
      "|    ent_loss       | -7.46e-05 |\n",
      "|    entropy        | 0.0746    |\n",
      "|    epoch          | 0         |\n",
      "|    l2_loss        | 0         |\n",
      "|    l2_norm        | 1.76e+05  |\n",
      "|    loss           | 0.0738    |\n",
      "|    neglogp        | 0.0739    |\n",
      "|    prob_true_act  | 0.957     |\n",
      "|    samples_so_far | 32        |\n",
      "---------------------------------\n"
     ]
    },
    {
     "name": "stderr",
     "output_type": "stream",
     "text": [
      "246batch [00:04, 51.95batch/s]\n",
      "0batch [00:00, ?batch/s]"
     ]
    },
    {
     "name": "stdout",
     "output_type": "stream",
     "text": [
      "---------------------------------\n",
      "| batch_size        | 32        |\n",
      "| bc/               |           |\n",
      "|    batch          | 0         |\n",
      "|    ent_loss       | -2.31e-05 |\n",
      "|    entropy        | 0.0231    |\n",
      "|    epoch          | 0         |\n",
      "|    l2_loss        | 0         |\n",
      "|    l2_norm        | 1.76e+05  |\n",
      "|    loss           | 0.0134    |\n",
      "|    neglogp        | 0.0134    |\n",
      "|    prob_true_act  | 0.989     |\n",
      "|    samples_so_far | 32        |\n",
      "---------------------------------\n"
     ]
    },
    {
     "name": "stderr",
     "output_type": "stream",
     "text": [
      "246batch [00:04, 55.46batch/s]\n",
      "0batch [00:00, ?batch/s]"
     ]
    },
    {
     "name": "stdout",
     "output_type": "stream",
     "text": [
      "---------------------------------\n",
      "| batch_size        | 32        |\n",
      "| bc/               |           |\n",
      "|    batch          | 0         |\n",
      "|    ent_loss       | -6.01e-05 |\n",
      "|    entropy        | 0.0601    |\n",
      "|    epoch          | 0         |\n",
      "|    l2_loss        | 0         |\n",
      "|    l2_norm        | 1.76e+05  |\n",
      "|    loss           | 0.0437    |\n",
      "|    neglogp        | 0.0437    |\n",
      "|    prob_true_act  | 0.97      |\n",
      "|    samples_so_far | 32        |\n",
      "---------------------------------\n"
     ]
    },
    {
     "name": "stderr",
     "output_type": "stream",
     "text": [
      "246batch [00:04, 54.27batch/s]\n",
      "0batch [00:00, ?batch/s]"
     ]
    },
    {
     "name": "stdout",
     "output_type": "stream",
     "text": [
      "---------------------------------\n",
      "| batch_size        | 32        |\n",
      "| bc/               |           |\n",
      "|    batch          | 0         |\n",
      "|    ent_loss       | -2.33e-05 |\n",
      "|    entropy        | 0.0233    |\n",
      "|    epoch          | 0         |\n",
      "|    l2_loss        | 0         |\n",
      "|    l2_norm        | 1.76e+05  |\n",
      "|    loss           | 0.0265    |\n",
      "|    neglogp        | 0.0265    |\n",
      "|    prob_true_act  | 0.982     |\n",
      "|    samples_so_far | 32        |\n",
      "---------------------------------\n"
     ]
    },
    {
     "name": "stderr",
     "output_type": "stream",
     "text": [
      "246batch [00:04, 55.48batch/s]\n",
      "0batch [00:00, ?batch/s]"
     ]
    },
    {
     "name": "stdout",
     "output_type": "stream",
     "text": [
      "---------------------------------\n",
      "| batch_size        | 32        |\n",
      "| bc/               |           |\n",
      "|    batch          | 0         |\n",
      "|    ent_loss       | -5.81e-05 |\n",
      "|    entropy        | 0.0581    |\n",
      "|    epoch          | 0         |\n",
      "|    l2_loss        | 0         |\n",
      "|    l2_norm        | 1.77e+05  |\n",
      "|    loss           | 0.0633    |\n",
      "|    neglogp        | 0.0634    |\n",
      "|    prob_true_act  | 0.962     |\n",
      "|    samples_so_far | 32        |\n",
      "---------------------------------\n"
     ]
    },
    {
     "name": "stderr",
     "output_type": "stream",
     "text": [
      "246batch [00:04, 55.06batch/s]\n",
      "0batch [00:00, ?batch/s]"
     ]
    },
    {
     "name": "stdout",
     "output_type": "stream",
     "text": [
      "---------------------------------\n",
      "| batch_size        | 32        |\n",
      "| bc/               |           |\n",
      "|    batch          | 0         |\n",
      "|    ent_loss       | -2.32e-05 |\n",
      "|    entropy        | 0.0232    |\n",
      "|    epoch          | 0         |\n",
      "|    l2_loss        | 0         |\n",
      "|    l2_norm        | 1.77e+05  |\n",
      "|    loss           | 0.0142    |\n",
      "|    neglogp        | 0.0142    |\n",
      "|    prob_true_act  | 0.989     |\n",
      "|    samples_so_far | 32        |\n",
      "---------------------------------\n"
     ]
    },
    {
     "name": "stderr",
     "output_type": "stream",
     "text": [
      "246batch [00:04, 53.68batch/s]\n",
      "0batch [00:00, ?batch/s]"
     ]
    },
    {
     "name": "stdout",
     "output_type": "stream",
     "text": [
      "---------------------------------\n",
      "| batch_size        | 32        |\n",
      "| bc/               |           |\n",
      "|    batch          | 0         |\n",
      "|    ent_loss       | -5.75e-07 |\n",
      "|    entropy        | 0.000575  |\n",
      "|    epoch          | 0         |\n",
      "|    l2_loss        | 0         |\n",
      "|    l2_norm        | 1.77e+05  |\n",
      "|    loss           | 4.62e-05  |\n",
      "|    neglogp        | 4.68e-05  |\n",
      "|    prob_true_act  | 1         |\n",
      "|    samples_so_far | 32        |\n",
      "---------------------------------\n"
     ]
    },
    {
     "name": "stderr",
     "output_type": "stream",
     "text": [
      "246batch [00:04, 55.03batch/s]\n",
      "0batch [00:00, ?batch/s]"
     ]
    },
    {
     "name": "stdout",
     "output_type": "stream",
     "text": [
      "---------------------------------\n",
      "| batch_size        | 32        |\n",
      "| bc/               |           |\n",
      "|    batch          | 0         |\n",
      "|    ent_loss       | -2.41e-05 |\n",
      "|    entropy        | 0.0241    |\n",
      "|    epoch          | 0         |\n",
      "|    l2_loss        | 0         |\n",
      "|    l2_norm        | 1.77e+05  |\n",
      "|    loss           | 0.0308    |\n",
      "|    neglogp        | 0.0308    |\n",
      "|    prob_true_act  | 0.98      |\n",
      "|    samples_so_far | 32        |\n",
      "---------------------------------\n"
     ]
    },
    {
     "name": "stderr",
     "output_type": "stream",
     "text": [
      "246batch [00:04, 55.26batch/s]\n",
      "0batch [00:00, ?batch/s]"
     ]
    },
    {
     "name": "stdout",
     "output_type": "stream",
     "text": [
      "---------------------------------\n",
      "| batch_size        | 32        |\n",
      "| bc/               |           |\n",
      "|    batch          | 0         |\n",
      "|    ent_loss       | -1.42e-06 |\n",
      "|    entropy        | 0.00142   |\n",
      "|    epoch          | 0         |\n",
      "|    l2_loss        | 0         |\n",
      "|    l2_norm        | 1.77e+05  |\n",
      "|    loss           | 0.000129  |\n",
      "|    neglogp        | 0.000131  |\n",
      "|    prob_true_act  | 1         |\n",
      "|    samples_so_far | 32        |\n",
      "---------------------------------\n"
     ]
    },
    {
     "name": "stderr",
     "output_type": "stream",
     "text": [
      "246batch [00:04, 54.35batch/s]\n",
      "0batch [00:00, ?batch/s]"
     ]
    },
    {
     "name": "stdout",
     "output_type": "stream",
     "text": [
      "---------------------------------\n",
      "| batch_size        | 32        |\n",
      "| bc/               |           |\n",
      "|    batch          | 0         |\n",
      "|    ent_loss       | -2.17e-06 |\n",
      "|    entropy        | 0.00217   |\n",
      "|    epoch          | 0         |\n",
      "|    l2_loss        | 0         |\n",
      "|    l2_norm        | 1.77e+05  |\n",
      "|    loss           | 0.000202  |\n",
      "|    neglogp        | 0.000205  |\n",
      "|    prob_true_act  | 1         |\n",
      "|    samples_so_far | 32        |\n",
      "---------------------------------\n"
     ]
    },
    {
     "name": "stderr",
     "output_type": "stream",
     "text": [
      "246batch [00:04, 55.07batch/s]\n",
      "0batch [00:00, ?batch/s]"
     ]
    },
    {
     "name": "stdout",
     "output_type": "stream",
     "text": [
      "---------------------------------\n",
      "| batch_size        | 32        |\n",
      "| bc/               |           |\n",
      "|    batch          | 0         |\n",
      "|    ent_loss       | -1.17e-06 |\n",
      "|    entropy        | 0.00117   |\n",
      "|    epoch          | 0         |\n",
      "|    l2_loss        | 0         |\n",
      "|    l2_norm        | 1.77e+05  |\n",
      "|    loss           | 0.000112  |\n",
      "|    neglogp        | 0.000113  |\n",
      "|    prob_true_act  | 1         |\n",
      "|    samples_so_far | 32        |\n",
      "---------------------------------\n"
     ]
    },
    {
     "name": "stderr",
     "output_type": "stream",
     "text": [
      "246batch [00:04, 55.48batch/s]\n",
      "0batch [00:00, ?batch/s]"
     ]
    },
    {
     "name": "stdout",
     "output_type": "stream",
     "text": [
      "--------------------------------\n",
      "| batch_size        | 32       |\n",
      "| bc/               |          |\n",
      "|    batch          | 0        |\n",
      "|    ent_loss       | -1.5e-06 |\n",
      "|    entropy        | 0.0015   |\n",
      "|    epoch          | 0        |\n",
      "|    l2_loss        | 0        |\n",
      "|    l2_norm        | 1.77e+05 |\n",
      "|    loss           | 0.000128 |\n",
      "|    neglogp        | 0.00013  |\n",
      "|    prob_true_act  | 1        |\n",
      "|    samples_so_far | 32       |\n",
      "--------------------------------\n"
     ]
    },
    {
     "name": "stderr",
     "output_type": "stream",
     "text": [
      "246batch [00:04, 54.44batch/s]\n",
      "0batch [00:00, ?batch/s]"
     ]
    },
    {
     "name": "stdout",
     "output_type": "stream",
     "text": [
      "---------------------------------\n",
      "| batch_size        | 32        |\n",
      "| bc/               |           |\n",
      "|    batch          | 0         |\n",
      "|    ent_loss       | -3.59e-05 |\n",
      "|    entropy        | 0.0359    |\n",
      "|    epoch          | 0         |\n",
      "|    l2_loss        | 0         |\n",
      "|    l2_norm        | 1.77e+05  |\n",
      "|    loss           | 0.0442    |\n",
      "|    neglogp        | 0.0442    |\n",
      "|    prob_true_act  | 0.976     |\n",
      "|    samples_so_far | 32        |\n",
      "---------------------------------\n"
     ]
    },
    {
     "name": "stderr",
     "output_type": "stream",
     "text": [
      "246batch [00:04, 54.00batch/s]\n",
      "0batch [00:00, ?batch/s]"
     ]
    },
    {
     "name": "stdout",
     "output_type": "stream",
     "text": [
      "---------------------------------\n",
      "| batch_size        | 32        |\n",
      "| bc/               |           |\n",
      "|    batch          | 0         |\n",
      "|    ent_loss       | -1.04e-06 |\n",
      "|    entropy        | 0.00104   |\n",
      "|    epoch          | 0         |\n",
      "|    l2_loss        | 0         |\n",
      "|    l2_norm        | 1.78e+05  |\n",
      "|    loss           | 8.66e-05  |\n",
      "|    neglogp        | 8.77e-05  |\n",
      "|    prob_true_act  | 1         |\n",
      "|    samples_so_far | 32        |\n",
      "---------------------------------\n"
     ]
    },
    {
     "name": "stderr",
     "output_type": "stream",
     "text": [
      "246batch [00:04, 55.16batch/s]\n",
      "0batch [00:00, ?batch/s]"
     ]
    },
    {
     "name": "stdout",
     "output_type": "stream",
     "text": [
      "--------------------------------\n",
      "| batch_size        | 32       |\n",
      "| bc/               |          |\n",
      "|    batch          | 0        |\n",
      "|    ent_loss       | -2.3e-05 |\n",
      "|    entropy        | 0.023    |\n",
      "|    epoch          | 0        |\n",
      "|    l2_loss        | 0        |\n",
      "|    l2_norm        | 1.78e+05 |\n",
      "|    loss           | 0.011    |\n",
      "|    neglogp        | 0.011    |\n",
      "|    prob_true_act  | 0.991    |\n",
      "|    samples_so_far | 32       |\n",
      "--------------------------------\n"
     ]
    },
    {
     "name": "stderr",
     "output_type": "stream",
     "text": [
      "246batch [00:04, 53.89batch/s]\n",
      "0batch [00:00, ?batch/s]"
     ]
    },
    {
     "name": "stdout",
     "output_type": "stream",
     "text": [
      "---------------------------------\n",
      "| batch_size        | 32        |\n",
      "| bc/               |           |\n",
      "|    batch          | 0         |\n",
      "|    ent_loss       | -0.000144 |\n",
      "|    entropy        | 0.144     |\n",
      "|    epoch          | 0         |\n",
      "|    l2_loss        | 0         |\n",
      "|    l2_norm        | 1.78e+05  |\n",
      "|    loss           | 0.0766    |\n",
      "|    neglogp        | 0.0767    |\n",
      "|    prob_true_act  | 0.955     |\n",
      "|    samples_so_far | 32        |\n",
      "---------------------------------\n"
     ]
    },
    {
     "name": "stderr",
     "output_type": "stream",
     "text": [
      "246batch [00:04, 54.97batch/s]\n",
      "0batch [00:00, ?batch/s]"
     ]
    },
    {
     "name": "stdout",
     "output_type": "stream",
     "text": [
      "---------------------------------\n",
      "| batch_size        | 32        |\n",
      "| bc/               |           |\n",
      "|    batch          | 0         |\n",
      "|    ent_loss       | -2.74e-05 |\n",
      "|    entropy        | 0.0274    |\n",
      "|    epoch          | 0         |\n",
      "|    l2_loss        | 0         |\n",
      "|    l2_norm        | 1.77e+05  |\n",
      "|    loss           | 0.014     |\n",
      "|    neglogp        | 0.014     |\n",
      "|    prob_true_act  | 0.988     |\n",
      "|    samples_so_far | 32        |\n",
      "---------------------------------\n"
     ]
    },
    {
     "name": "stderr",
     "output_type": "stream",
     "text": [
      "246batch [00:04, 55.13batch/s]\n",
      "0batch [00:00, ?batch/s]"
     ]
    },
    {
     "name": "stdout",
     "output_type": "stream",
     "text": [
      "---------------------------------\n",
      "| batch_size        | 32        |\n",
      "| bc/               |           |\n",
      "|    batch          | 0         |\n",
      "|    ent_loss       | -2.56e-05 |\n",
      "|    entropy        | 0.0256    |\n",
      "|    epoch          | 0         |\n",
      "|    l2_loss        | 0         |\n",
      "|    l2_norm        | 1.77e+05  |\n",
      "|    loss           | 0.0235    |\n",
      "|    neglogp        | 0.0235    |\n",
      "|    prob_true_act  | 0.983     |\n",
      "|    samples_so_far | 32        |\n",
      "---------------------------------\n"
     ]
    },
    {
     "name": "stderr",
     "output_type": "stream",
     "text": [
      "246batch [00:04, 54.63batch/s]\n",
      "0batch [00:00, ?batch/s]"
     ]
    },
    {
     "name": "stdout",
     "output_type": "stream",
     "text": [
      "---------------------------------\n",
      "| batch_size        | 32        |\n",
      "| bc/               |           |\n",
      "|    batch          | 0         |\n",
      "|    ent_loss       | -1.16e-06 |\n",
      "|    entropy        | 0.00116   |\n",
      "|    epoch          | 0         |\n",
      "|    l2_loss        | 0         |\n",
      "|    l2_norm        | 1.78e+05  |\n",
      "|    loss           | 9.92e-05  |\n",
      "|    neglogp        | 0.0001    |\n",
      "|    prob_true_act  | 1         |\n",
      "|    samples_so_far | 32        |\n",
      "---------------------------------\n"
     ]
    },
    {
     "name": "stderr",
     "output_type": "stream",
     "text": [
      "246batch [00:04, 54.53batch/s]\n",
      "0batch [00:00, ?batch/s]"
     ]
    },
    {
     "name": "stdout",
     "output_type": "stream",
     "text": [
      "---------------------------------\n",
      "| batch_size        | 32        |\n",
      "| bc/               |           |\n",
      "|    batch          | 0         |\n",
      "|    ent_loss       | -4.71e-05 |\n",
      "|    entropy        | 0.0471    |\n",
      "|    epoch          | 0         |\n",
      "|    l2_loss        | 0         |\n",
      "|    l2_norm        | 1.78e+05  |\n",
      "|    loss           | 0.0468    |\n",
      "|    neglogp        | 0.0468    |\n",
      "|    prob_true_act  | 0.967     |\n",
      "|    samples_so_far | 32        |\n",
      "---------------------------------\n"
     ]
    },
    {
     "name": "stderr",
     "output_type": "stream",
     "text": [
      "246batch [00:04, 54.72batch/s]\n",
      "0batch [00:00, ?batch/s]"
     ]
    },
    {
     "name": "stdout",
     "output_type": "stream",
     "text": [
      "---------------------------------\n",
      "| batch_size        | 32        |\n",
      "| bc/               |           |\n",
      "|    batch          | 0         |\n",
      "|    ent_loss       | -1.31e-06 |\n",
      "|    entropy        | 0.00131   |\n",
      "|    epoch          | 0         |\n",
      "|    l2_loss        | 0         |\n",
      "|    l2_norm        | 1.78e+05  |\n",
      "|    loss           | 0.000111  |\n",
      "|    neglogp        | 0.000112  |\n",
      "|    prob_true_act  | 1         |\n",
      "|    samples_so_far | 32        |\n",
      "---------------------------------\n"
     ]
    },
    {
     "name": "stderr",
     "output_type": "stream",
     "text": [
      "246batch [00:04, 54.02batch/s]\n"
     ]
    },
    {
     "name": "stdout",
     "output_type": "stream",
     "text": [
      "Checkpoint saved at checkpoints\\bc_model_epoch_750.zip\n"
     ]
    },
    {
     "name": "stderr",
     "output_type": "stream",
     "text": [
      "0batch [00:00, ?batch/s]"
     ]
    },
    {
     "name": "stdout",
     "output_type": "stream",
     "text": [
      "--------------------------------\n",
      "| batch_size        | 32       |\n",
      "| bc/               |          |\n",
      "|    batch          | 0        |\n",
      "|    ent_loss       | -2.3e-05 |\n",
      "|    entropy        | 0.023    |\n",
      "|    epoch          | 0        |\n",
      "|    l2_loss        | 0        |\n",
      "|    l2_norm        | 1.78e+05 |\n",
      "|    loss           | 0.0138   |\n",
      "|    neglogp        | 0.0139   |\n",
      "|    prob_true_act  | 0.989    |\n",
      "|    samples_so_far | 32       |\n",
      "--------------------------------\n"
     ]
    },
    {
     "name": "stderr",
     "output_type": "stream",
     "text": [
      "246batch [00:04, 54.48batch/s]\n",
      "0batch [00:00, ?batch/s]"
     ]
    },
    {
     "name": "stdout",
     "output_type": "stream",
     "text": [
      "---------------------------------\n",
      "| batch_size        | 32        |\n",
      "| bc/               |           |\n",
      "|    batch          | 0         |\n",
      "|    ent_loss       | -1.95e-05 |\n",
      "|    entropy        | 0.0195    |\n",
      "|    epoch          | 0         |\n",
      "|    l2_loss        | 0         |\n",
      "|    l2_norm        | 1.78e+05  |\n",
      "|    loss           | 0.0443    |\n",
      "|    neglogp        | 0.0444    |\n",
      "|    prob_true_act  | 0.976     |\n",
      "|    samples_so_far | 32        |\n",
      "---------------------------------\n"
     ]
    },
    {
     "name": "stderr",
     "output_type": "stream",
     "text": [
      "246batch [00:04, 54.56batch/s]\n",
      "0batch [00:00, ?batch/s]"
     ]
    },
    {
     "name": "stdout",
     "output_type": "stream",
     "text": [
      "---------------------------------\n",
      "| batch_size        | 32        |\n",
      "| bc/               |           |\n",
      "|    batch          | 0         |\n",
      "|    ent_loss       | -7.76e-05 |\n",
      "|    entropy        | 0.0776    |\n",
      "|    epoch          | 0         |\n",
      "|    l2_loss        | 0         |\n",
      "|    l2_norm        | 1.78e+05  |\n",
      "|    loss           | 0.0965    |\n",
      "|    neglogp        | 0.0965    |\n",
      "|    prob_true_act  | 0.951     |\n",
      "|    samples_so_far | 32        |\n",
      "---------------------------------\n"
     ]
    },
    {
     "name": "stderr",
     "output_type": "stream",
     "text": [
      "246batch [00:04, 55.13batch/s]\n",
      "0batch [00:00, ?batch/s]"
     ]
    },
    {
     "name": "stdout",
     "output_type": "stream",
     "text": [
      "---------------------------------\n",
      "| batch_size        | 32        |\n",
      "| bc/               |           |\n",
      "|    batch          | 0         |\n",
      "|    ent_loss       | -3.04e-05 |\n",
      "|    entropy        | 0.0304    |\n",
      "|    epoch          | 0         |\n",
      "|    l2_loss        | 0         |\n",
      "|    l2_norm        | 1.78e+05  |\n",
      "|    loss           | 0.0131    |\n",
      "|    neglogp        | 0.0132    |\n",
      "|    prob_true_act  | 0.989     |\n",
      "|    samples_so_far | 32        |\n",
      "---------------------------------\n"
     ]
    },
    {
     "name": "stderr",
     "output_type": "stream",
     "text": [
      "246batch [00:04, 55.01batch/s]\n",
      "0batch [00:00, ?batch/s]"
     ]
    },
    {
     "name": "stdout",
     "output_type": "stream",
     "text": [
      "---------------------------------\n",
      "| batch_size        | 32        |\n",
      "| bc/               |           |\n",
      "|    batch          | 0         |\n",
      "|    ent_loss       | -1.24e-06 |\n",
      "|    entropy        | 0.00124   |\n",
      "|    epoch          | 0         |\n",
      "|    l2_loss        | 0         |\n",
      "|    l2_norm        | 1.78e+05  |\n",
      "|    loss           | 0.000114  |\n",
      "|    neglogp        | 0.000115  |\n",
      "|    prob_true_act  | 1         |\n",
      "|    samples_so_far | 32        |\n",
      "---------------------------------\n"
     ]
    },
    {
     "name": "stderr",
     "output_type": "stream",
     "text": [
      "246batch [00:04, 54.15batch/s]\n",
      "0batch [00:00, ?batch/s]"
     ]
    },
    {
     "name": "stdout",
     "output_type": "stream",
     "text": [
      "---------------------------------\n",
      "| batch_size        | 32        |\n",
      "| bc/               |           |\n",
      "|    batch          | 0         |\n",
      "|    ent_loss       | -3.14e-05 |\n",
      "|    entropy        | 0.0314    |\n",
      "|    epoch          | 0         |\n",
      "|    l2_loss        | 0         |\n",
      "|    l2_norm        | 1.78e+05  |\n",
      "|    loss           | 0.0134    |\n",
      "|    neglogp        | 0.0134    |\n",
      "|    prob_true_act  | 0.989     |\n",
      "|    samples_so_far | 32        |\n",
      "---------------------------------\n"
     ]
    },
    {
     "name": "stderr",
     "output_type": "stream",
     "text": [
      "246batch [00:04, 54.52batch/s]\n",
      "0batch [00:00, ?batch/s]"
     ]
    },
    {
     "name": "stdout",
     "output_type": "stream",
     "text": [
      "---------------------------------\n",
      "| batch_size        | 32        |\n",
      "| bc/               |           |\n",
      "|    batch          | 0         |\n",
      "|    ent_loss       | -7.04e-07 |\n",
      "|    entropy        | 0.000704  |\n",
      "|    epoch          | 0         |\n",
      "|    l2_loss        | 0         |\n",
      "|    l2_norm        | 1.78e+05  |\n",
      "|    loss           | 5.87e-05  |\n",
      "|    neglogp        | 5.94e-05  |\n",
      "|    prob_true_act  | 1         |\n",
      "|    samples_so_far | 32        |\n",
      "---------------------------------\n"
     ]
    },
    {
     "name": "stderr",
     "output_type": "stream",
     "text": [
      "246batch [00:04, 54.62batch/s]\n",
      "0batch [00:00, ?batch/s]"
     ]
    },
    {
     "name": "stdout",
     "output_type": "stream",
     "text": [
      "--------------------------------\n",
      "| batch_size        | 32       |\n",
      "| bc/               |          |\n",
      "|    batch          | 0        |\n",
      "|    ent_loss       | -1e-06   |\n",
      "|    entropy        | 0.001    |\n",
      "|    epoch          | 0        |\n",
      "|    l2_loss        | 0        |\n",
      "|    l2_norm        | 1.78e+05 |\n",
      "|    loss           | 8.76e-05 |\n",
      "|    neglogp        | 8.86e-05 |\n",
      "|    prob_true_act  | 1        |\n",
      "|    samples_so_far | 32       |\n",
      "--------------------------------\n"
     ]
    },
    {
     "name": "stderr",
     "output_type": "stream",
     "text": [
      "246batch [00:04, 54.12batch/s]\n",
      "0batch [00:00, ?batch/s]"
     ]
    },
    {
     "name": "stdout",
     "output_type": "stream",
     "text": [
      "---------------------------------\n",
      "| batch_size        | 32        |\n",
      "| bc/               |           |\n",
      "|    batch          | 0         |\n",
      "|    ent_loss       | -2.32e-05 |\n",
      "|    entropy        | 0.0232    |\n",
      "|    epoch          | 0         |\n",
      "|    l2_loss        | 0         |\n",
      "|    l2_norm        | 1.78e+05  |\n",
      "|    loss           | 0.0211    |\n",
      "|    neglogp        | 0.0212    |\n",
      "|    prob_true_act  | 0.985     |\n",
      "|    samples_so_far | 32        |\n",
      "---------------------------------\n"
     ]
    },
    {
     "name": "stderr",
     "output_type": "stream",
     "text": [
      "246batch [00:04, 54.78batch/s]\n",
      "0batch [00:00, ?batch/s]"
     ]
    },
    {
     "name": "stdout",
     "output_type": "stream",
     "text": [
      "---------------------------------\n",
      "| batch_size        | 32        |\n",
      "| bc/               |           |\n",
      "|    batch          | 0         |\n",
      "|    ent_loss       | -2.33e-05 |\n",
      "|    entropy        | 0.0233    |\n",
      "|    epoch          | 0         |\n",
      "|    l2_loss        | 0         |\n",
      "|    l2_norm        | 1.79e+05  |\n",
      "|    loss           | 0.0242    |\n",
      "|    neglogp        | 0.0242    |\n",
      "|    prob_true_act  | 0.983     |\n",
      "|    samples_so_far | 32        |\n",
      "---------------------------------\n"
     ]
    },
    {
     "name": "stderr",
     "output_type": "stream",
     "text": [
      "246batch [00:04, 54.71batch/s]\n",
      "0batch [00:00, ?batch/s]"
     ]
    },
    {
     "name": "stdout",
     "output_type": "stream",
     "text": [
      "---------------------------------\n",
      "| batch_size        | 32        |\n",
      "| bc/               |           |\n",
      "|    batch          | 0         |\n",
      "|    ent_loss       | -9.88e-07 |\n",
      "|    entropy        | 0.000988  |\n",
      "|    epoch          | 0         |\n",
      "|    l2_loss        | 0         |\n",
      "|    l2_norm        | 1.79e+05  |\n",
      "|    loss           | 8.84e-05  |\n",
      "|    neglogp        | 8.93e-05  |\n",
      "|    prob_true_act  | 1         |\n",
      "|    samples_so_far | 32        |\n",
      "---------------------------------\n"
     ]
    },
    {
     "name": "stderr",
     "output_type": "stream",
     "text": [
      "246batch [00:04, 54.20batch/s]\n",
      "0batch [00:00, ?batch/s]"
     ]
    },
    {
     "name": "stdout",
     "output_type": "stream",
     "text": [
      "---------------------------------\n",
      "| batch_size        | 32        |\n",
      "| bc/               |           |\n",
      "|    batch          | 0         |\n",
      "|    ent_loss       | -7.57e-07 |\n",
      "|    entropy        | 0.000757  |\n",
      "|    epoch          | 0         |\n",
      "|    l2_loss        | 0         |\n",
      "|    l2_norm        | 1.79e+05  |\n",
      "|    loss           | 6e-05     |\n",
      "|    neglogp        | 6.08e-05  |\n",
      "|    prob_true_act  | 1         |\n",
      "|    samples_so_far | 32        |\n",
      "---------------------------------\n"
     ]
    },
    {
     "name": "stderr",
     "output_type": "stream",
     "text": [
      "246batch [00:04, 54.89batch/s]\n",
      "0batch [00:00, ?batch/s]"
     ]
    },
    {
     "name": "stdout",
     "output_type": "stream",
     "text": [
      "---------------------------------\n",
      "| batch_size        | 32        |\n",
      "| bc/               |           |\n",
      "|    batch          | 0         |\n",
      "|    ent_loss       | -5.38e-05 |\n",
      "|    entropy        | 0.0538    |\n",
      "|    epoch          | 0         |\n",
      "|    l2_loss        | 0         |\n",
      "|    l2_norm        | 1.79e+05  |\n",
      "|    loss           | 0.0439    |\n",
      "|    neglogp        | 0.0439    |\n",
      "|    prob_true_act  | 0.971     |\n",
      "|    samples_so_far | 32        |\n",
      "---------------------------------\n"
     ]
    },
    {
     "name": "stderr",
     "output_type": "stream",
     "text": [
      "246batch [00:04, 55.36batch/s]\n",
      "0batch [00:00, ?batch/s]"
     ]
    },
    {
     "name": "stdout",
     "output_type": "stream",
     "text": [
      "---------------------------------\n",
      "| batch_size        | 32        |\n",
      "| bc/               |           |\n",
      "|    batch          | 0         |\n",
      "|    ent_loss       | -7.23e-07 |\n",
      "|    entropy        | 0.000723  |\n",
      "|    epoch          | 0         |\n",
      "|    l2_loss        | 0         |\n",
      "|    l2_norm        | 1.79e+05  |\n",
      "|    loss           | 5.73e-05  |\n",
      "|    neglogp        | 5.81e-05  |\n",
      "|    prob_true_act  | 1         |\n",
      "|    samples_so_far | 32        |\n",
      "---------------------------------\n"
     ]
    },
    {
     "name": "stderr",
     "output_type": "stream",
     "text": [
      "246batch [00:04, 54.07batch/s]\n",
      "0batch [00:00, ?batch/s]"
     ]
    },
    {
     "name": "stdout",
     "output_type": "stream",
     "text": [
      "---------------------------------\n",
      "| batch_size        | 32        |\n",
      "| bc/               |           |\n",
      "|    batch          | 0         |\n",
      "|    ent_loss       | -5.79e-07 |\n",
      "|    entropy        | 0.000579  |\n",
      "|    epoch          | 0         |\n",
      "|    l2_loss        | 0         |\n",
      "|    l2_norm        | 1.79e+05  |\n",
      "|    loss           | 4.7e-05   |\n",
      "|    neglogp        | 4.76e-05  |\n",
      "|    prob_true_act  | 1         |\n",
      "|    samples_so_far | 32        |\n",
      "---------------------------------\n"
     ]
    },
    {
     "name": "stderr",
     "output_type": "stream",
     "text": [
      "246batch [00:04, 54.57batch/s]\n",
      "0batch [00:00, ?batch/s]"
     ]
    },
    {
     "name": "stdout",
     "output_type": "stream",
     "text": [
      "---------------------------------\n",
      "| batch_size        | 32        |\n",
      "| bc/               |           |\n",
      "|    batch          | 0         |\n",
      "|    ent_loss       | -5.17e-05 |\n",
      "|    entropy        | 0.0517    |\n",
      "|    epoch          | 0         |\n",
      "|    l2_loss        | 0         |\n",
      "|    l2_norm        | 1.79e+05  |\n",
      "|    loss           | 0.0398    |\n",
      "|    neglogp        | 0.0398    |\n",
      "|    prob_true_act  | 0.977     |\n",
      "|    samples_so_far | 32        |\n",
      "---------------------------------\n"
     ]
    },
    {
     "name": "stderr",
     "output_type": "stream",
     "text": [
      "246batch [00:04, 55.00batch/s]\n",
      "0batch [00:00, ?batch/s]"
     ]
    },
    {
     "name": "stdout",
     "output_type": "stream",
     "text": [
      "--------------------------------\n",
      "| batch_size        | 32       |\n",
      "| bc/               |          |\n",
      "|    batch          | 0        |\n",
      "|    ent_loss       | -3.5e-05 |\n",
      "|    entropy        | 0.035    |\n",
      "|    epoch          | 0        |\n",
      "|    l2_loss        | 0        |\n",
      "|    l2_norm        | 1.79e+05 |\n",
      "|    loss           | 0.0235   |\n",
      "|    neglogp        | 0.0235   |\n",
      "|    prob_true_act  | 0.983    |\n",
      "|    samples_so_far | 32       |\n",
      "--------------------------------\n"
     ]
    },
    {
     "name": "stderr",
     "output_type": "stream",
     "text": [
      "246batch [00:04, 54.35batch/s]\n",
      "0batch [00:00, ?batch/s]"
     ]
    },
    {
     "name": "stdout",
     "output_type": "stream",
     "text": [
      "---------------------------------\n",
      "| batch_size        | 32        |\n",
      "| bc/               |           |\n",
      "|    batch          | 0         |\n",
      "|    ent_loss       | -8.73e-07 |\n",
      "|    entropy        | 0.000873  |\n",
      "|    epoch          | 0         |\n",
      "|    l2_loss        | 0         |\n",
      "|    l2_norm        | 1.79e+05  |\n",
      "|    loss           | 7.73e-05  |\n",
      "|    neglogp        | 7.81e-05  |\n",
      "|    prob_true_act  | 1         |\n",
      "|    samples_so_far | 32        |\n",
      "---------------------------------\n"
     ]
    },
    {
     "name": "stderr",
     "output_type": "stream",
     "text": [
      "246batch [00:04, 54.86batch/s]\n",
      "0batch [00:00, ?batch/s]"
     ]
    },
    {
     "name": "stdout",
     "output_type": "stream",
     "text": [
      "---------------------------------\n",
      "| batch_size        | 32        |\n",
      "| bc/               |           |\n",
      "|    batch          | 0         |\n",
      "|    ent_loss       | -2.32e-05 |\n",
      "|    entropy        | 0.0232    |\n",
      "|    epoch          | 0         |\n",
      "|    l2_loss        | 0         |\n",
      "|    l2_norm        | 1.79e+05  |\n",
      "|    loss           | 0.0217    |\n",
      "|    neglogp        | 0.0218    |\n",
      "|    prob_true_act  | 0.984     |\n",
      "|    samples_so_far | 32        |\n",
      "---------------------------------\n"
     ]
    },
    {
     "name": "stderr",
     "output_type": "stream",
     "text": [
      "246batch [00:04, 54.96batch/s]\n",
      "0batch [00:00, ?batch/s]"
     ]
    },
    {
     "name": "stdout",
     "output_type": "stream",
     "text": [
      "---------------------------------\n",
      "| batch_size        | 32        |\n",
      "| bc/               |           |\n",
      "|    batch          | 0         |\n",
      "|    ent_loss       | -2.08e-05 |\n",
      "|    entropy        | 0.0208    |\n",
      "|    epoch          | 0         |\n",
      "|    l2_loss        | 0         |\n",
      "|    l2_norm        | 1.79e+05  |\n",
      "|    loss           | 0.0374    |\n",
      "|    neglogp        | 0.0374    |\n",
      "|    prob_true_act  | 0.978     |\n",
      "|    samples_so_far | 32        |\n",
      "---------------------------------\n"
     ]
    },
    {
     "name": "stderr",
     "output_type": "stream",
     "text": [
      "246batch [00:04, 52.82batch/s]\n",
      "0batch [00:00, ?batch/s]"
     ]
    },
    {
     "name": "stdout",
     "output_type": "stream",
     "text": [
      "---------------------------------\n",
      "| batch_size        | 32        |\n",
      "| bc/               |           |\n",
      "|    batch          | 0         |\n",
      "|    ent_loss       | -5.45e-05 |\n",
      "|    entropy        | 0.0545    |\n",
      "|    epoch          | 0         |\n",
      "|    l2_loss        | 0         |\n",
      "|    l2_norm        | 1.79e+05  |\n",
      "|    loss           | 0.0899    |\n",
      "|    neglogp        | 0.0899    |\n",
      "|    prob_true_act  | 0.952     |\n",
      "|    samples_so_far | 32        |\n",
      "---------------------------------\n"
     ]
    },
    {
     "name": "stderr",
     "output_type": "stream",
     "text": [
      "246batch [00:04, 54.37batch/s]\n",
      "0batch [00:00, ?batch/s]"
     ]
    },
    {
     "name": "stdout",
     "output_type": "stream",
     "text": [
      "---------------------------------\n",
      "| batch_size        | 32        |\n",
      "| bc/               |           |\n",
      "|    batch          | 0         |\n",
      "|    ent_loss       | -4.66e-05 |\n",
      "|    entropy        | 0.0466    |\n",
      "|    epoch          | 0         |\n",
      "|    l2_loss        | 0         |\n",
      "|    l2_norm        | 1.79e+05  |\n",
      "|    loss           | 0.0452    |\n",
      "|    neglogp        | 0.0453    |\n",
      "|    prob_true_act  | 0.976     |\n",
      "|    samples_so_far | 32        |\n",
      "---------------------------------\n"
     ]
    },
    {
     "name": "stderr",
     "output_type": "stream",
     "text": [
      "246batch [00:04, 54.85batch/s]\n",
      "0batch [00:00, ?batch/s]"
     ]
    },
    {
     "name": "stdout",
     "output_type": "stream",
     "text": [
      "---------------------------------\n",
      "| batch_size        | 32        |\n",
      "| bc/               |           |\n",
      "|    batch          | 0         |\n",
      "|    ent_loss       | -5.31e-05 |\n",
      "|    entropy        | 0.0531    |\n",
      "|    epoch          | 0         |\n",
      "|    l2_loss        | 0         |\n",
      "|    l2_norm        | 1.79e+05  |\n",
      "|    loss           | 0.073     |\n",
      "|    neglogp        | 0.0731    |\n",
      "|    prob_true_act  | 0.96      |\n",
      "|    samples_so_far | 32        |\n",
      "---------------------------------\n"
     ]
    },
    {
     "name": "stderr",
     "output_type": "stream",
     "text": [
      "246batch [00:04, 54.23batch/s]\n",
      "0batch [00:00, ?batch/s]"
     ]
    },
    {
     "name": "stdout",
     "output_type": "stream",
     "text": [
      "---------------------------------\n",
      "| batch_size        | 32        |\n",
      "| bc/               |           |\n",
      "|    batch          | 0         |\n",
      "|    ent_loss       | -9.15e-07 |\n",
      "|    entropy        | 0.000915  |\n",
      "|    epoch          | 0         |\n",
      "|    l2_loss        | 0         |\n",
      "|    l2_norm        | 1.79e+05  |\n",
      "|    loss           | 7.45e-05  |\n",
      "|    neglogp        | 7.55e-05  |\n",
      "|    prob_true_act  | 1         |\n",
      "|    samples_so_far | 32        |\n",
      "---------------------------------\n"
     ]
    },
    {
     "name": "stderr",
     "output_type": "stream",
     "text": [
      "246batch [00:04, 55.51batch/s]\n",
      "0batch [00:00, ?batch/s]"
     ]
    },
    {
     "name": "stdout",
     "output_type": "stream",
     "text": [
      "---------------------------------\n",
      "| batch_size        | 32        |\n",
      "| bc/               |           |\n",
      "|    batch          | 0         |\n",
      "|    ent_loss       | -1.06e-06 |\n",
      "|    entropy        | 0.00106   |\n",
      "|    epoch          | 0         |\n",
      "|    l2_loss        | 0         |\n",
      "|    l2_norm        | 1.8e+05   |\n",
      "|    loss           | 9.32e-05  |\n",
      "|    neglogp        | 9.43e-05  |\n",
      "|    prob_true_act  | 1         |\n",
      "|    samples_so_far | 32        |\n",
      "---------------------------------\n"
     ]
    },
    {
     "name": "stderr",
     "output_type": "stream",
     "text": [
      "246batch [00:04, 55.09batch/s]\n",
      "0batch [00:00, ?batch/s]"
     ]
    },
    {
     "name": "stdout",
     "output_type": "stream",
     "text": [
      "---------------------------------\n",
      "| batch_size        | 32        |\n",
      "| bc/               |           |\n",
      "|    batch          | 0         |\n",
      "|    ent_loss       | -3.59e-07 |\n",
      "|    entropy        | 0.000359  |\n",
      "|    epoch          | 0         |\n",
      "|    l2_loss        | 0         |\n",
      "|    l2_norm        | 1.8e+05   |\n",
      "|    loss           | 2.85e-05  |\n",
      "|    neglogp        | 2.89e-05  |\n",
      "|    prob_true_act  | 1         |\n",
      "|    samples_so_far | 32        |\n",
      "---------------------------------\n"
     ]
    },
    {
     "name": "stderr",
     "output_type": "stream",
     "text": [
      "246batch [00:04, 53.46batch/s]\n",
      "0batch [00:00, ?batch/s]"
     ]
    },
    {
     "name": "stdout",
     "output_type": "stream",
     "text": [
      "---------------------------------\n",
      "| batch_size        | 32        |\n",
      "| bc/               |           |\n",
      "|    batch          | 0         |\n",
      "|    ent_loss       | -7.19e-05 |\n",
      "|    entropy        | 0.0719    |\n",
      "|    epoch          | 0         |\n",
      "|    l2_loss        | 0         |\n",
      "|    l2_norm        | 1.8e+05   |\n",
      "|    loss           | 0.0591    |\n",
      "|    neglogp        | 0.0591    |\n",
      "|    prob_true_act  | 0.962     |\n",
      "|    samples_so_far | 32        |\n",
      "---------------------------------\n"
     ]
    },
    {
     "name": "stderr",
     "output_type": "stream",
     "text": [
      "246batch [00:04, 55.07batch/s]\n",
      "0batch [00:00, ?batch/s]"
     ]
    },
    {
     "name": "stdout",
     "output_type": "stream",
     "text": [
      "---------------------------------\n",
      "| batch_size        | 32        |\n",
      "| bc/               |           |\n",
      "|    batch          | 0         |\n",
      "|    ent_loss       | -5.66e-07 |\n",
      "|    entropy        | 0.000566  |\n",
      "|    epoch          | 0         |\n",
      "|    l2_loss        | 0         |\n",
      "|    l2_norm        | 1.8e+05   |\n",
      "|    loss           | 4.28e-05  |\n",
      "|    neglogp        | 4.34e-05  |\n",
      "|    prob_true_act  | 1         |\n",
      "|    samples_so_far | 32        |\n",
      "---------------------------------\n"
     ]
    },
    {
     "name": "stderr",
     "output_type": "stream",
     "text": [
      "246batch [00:04, 53.75batch/s]\n",
      "0batch [00:00, ?batch/s]"
     ]
    },
    {
     "name": "stdout",
     "output_type": "stream",
     "text": [
      "---------------------------------\n",
      "| batch_size        | 32        |\n",
      "| bc/               |           |\n",
      "|    batch          | 0         |\n",
      "|    ent_loss       | -9.43e-07 |\n",
      "|    entropy        | 0.000943  |\n",
      "|    epoch          | 0         |\n",
      "|    l2_loss        | 0         |\n",
      "|    l2_norm        | 1.8e+05   |\n",
      "|    loss           | 8.16e-05  |\n",
      "|    neglogp        | 8.25e-05  |\n",
      "|    prob_true_act  | 1         |\n",
      "|    samples_so_far | 32        |\n",
      "---------------------------------\n"
     ]
    },
    {
     "name": "stderr",
     "output_type": "stream",
     "text": [
      "246batch [00:04, 54.51batch/s]\n",
      "0batch [00:00, ?batch/s]"
     ]
    },
    {
     "name": "stdout",
     "output_type": "stream",
     "text": [
      "---------------------------------\n",
      "| batch_size        | 32        |\n",
      "| bc/               |           |\n",
      "|    batch          | 0         |\n",
      "|    ent_loss       | -9.22e-07 |\n",
      "|    entropy        | 0.000922  |\n",
      "|    epoch          | 0         |\n",
      "|    l2_loss        | 0         |\n",
      "|    l2_norm        | 1.8e+05   |\n",
      "|    loss           | 8.55e-05  |\n",
      "|    neglogp        | 8.64e-05  |\n",
      "|    prob_true_act  | 1         |\n",
      "|    samples_so_far | 32        |\n",
      "---------------------------------\n"
     ]
    },
    {
     "name": "stderr",
     "output_type": "stream",
     "text": [
      "246batch [00:04, 55.20batch/s]\n",
      "0batch [00:00, ?batch/s]"
     ]
    },
    {
     "name": "stdout",
     "output_type": "stream",
     "text": [
      "---------------------------------\n",
      "| batch_size        | 32        |\n",
      "| bc/               |           |\n",
      "|    batch          | 0         |\n",
      "|    ent_loss       | -2.54e-06 |\n",
      "|    entropy        | 0.00254   |\n",
      "|    epoch          | 0         |\n",
      "|    l2_loss        | 0         |\n",
      "|    l2_norm        | 1.8e+05   |\n",
      "|    loss           | 0.000235  |\n",
      "|    neglogp        | 0.000237  |\n",
      "|    prob_true_act  | 1         |\n",
      "|    samples_so_far | 32        |\n",
      "---------------------------------\n"
     ]
    },
    {
     "name": "stderr",
     "output_type": "stream",
     "text": [
      "246batch [00:04, 53.88batch/s]\n",
      "0batch [00:00, ?batch/s]"
     ]
    },
    {
     "name": "stdout",
     "output_type": "stream",
     "text": [
      "---------------------------------\n",
      "| batch_size        | 32        |\n",
      "| bc/               |           |\n",
      "|    batch          | 0         |\n",
      "|    ent_loss       | -3.65e-05 |\n",
      "|    entropy        | 0.0365    |\n",
      "|    epoch          | 0         |\n",
      "|    l2_loss        | 0         |\n",
      "|    l2_norm        | 1.8e+05   |\n",
      "|    loss           | 0.0405    |\n",
      "|    neglogp        | 0.0405    |\n",
      "|    prob_true_act  | 0.977     |\n",
      "|    samples_so_far | 32        |\n",
      "---------------------------------\n"
     ]
    },
    {
     "name": "stderr",
     "output_type": "stream",
     "text": [
      "246batch [00:04, 55.64batch/s]\n",
      "0batch [00:00, ?batch/s]"
     ]
    },
    {
     "name": "stdout",
     "output_type": "stream",
     "text": [
      "---------------------------------\n",
      "| batch_size        | 32        |\n",
      "| bc/               |           |\n",
      "|    batch          | 0         |\n",
      "|    ent_loss       | -3.25e-05 |\n",
      "|    entropy        | 0.0325    |\n",
      "|    epoch          | 0         |\n",
      "|    l2_loss        | 0         |\n",
      "|    l2_norm        | 1.8e+05   |\n",
      "|    loss           | 0.0503    |\n",
      "|    neglogp        | 0.0503    |\n",
      "|    prob_true_act  | 0.975     |\n",
      "|    samples_so_far | 32        |\n",
      "---------------------------------\n"
     ]
    },
    {
     "name": "stderr",
     "output_type": "stream",
     "text": [
      "246batch [00:04, 55.61batch/s]\n",
      "0batch [00:00, ?batch/s]"
     ]
    },
    {
     "name": "stdout",
     "output_type": "stream",
     "text": [
      "---------------------------------\n",
      "| batch_size        | 32        |\n",
      "| bc/               |           |\n",
      "|    batch          | 0         |\n",
      "|    ent_loss       | -1.17e-06 |\n",
      "|    entropy        | 0.00117   |\n",
      "|    epoch          | 0         |\n",
      "|    l2_loss        | 0         |\n",
      "|    l2_norm        | 1.81e+05  |\n",
      "|    loss           | 9.98e-05  |\n",
      "|    neglogp        | 0.000101  |\n",
      "|    prob_true_act  | 1         |\n",
      "|    samples_so_far | 32        |\n",
      "---------------------------------\n"
     ]
    },
    {
     "name": "stderr",
     "output_type": "stream",
     "text": [
      "246batch [00:04, 54.07batch/s]\n",
      "0batch [00:00, ?batch/s]"
     ]
    },
    {
     "name": "stdout",
     "output_type": "stream",
     "text": [
      "---------------------------------\n",
      "| batch_size        | 32        |\n",
      "| bc/               |           |\n",
      "|    batch          | 0         |\n",
      "|    ent_loss       | -7.58e-07 |\n",
      "|    entropy        | 0.000758  |\n",
      "|    epoch          | 0         |\n",
      "|    l2_loss        | 0         |\n",
      "|    l2_norm        | 1.81e+05  |\n",
      "|    loss           | 6.21e-05  |\n",
      "|    neglogp        | 6.29e-05  |\n",
      "|    prob_true_act  | 1         |\n",
      "|    samples_so_far | 32        |\n",
      "---------------------------------\n"
     ]
    },
    {
     "name": "stderr",
     "output_type": "stream",
     "text": [
      "246batch [00:04, 55.08batch/s]\n",
      "0batch [00:00, ?batch/s]"
     ]
    },
    {
     "name": "stdout",
     "output_type": "stream",
     "text": [
      "--------------------------------\n",
      "| batch_size        | 32       |\n",
      "| bc/               |          |\n",
      "|    batch          | 0        |\n",
      "|    ent_loss       | -2.3e-05 |\n",
      "|    entropy        | 0.023    |\n",
      "|    epoch          | 0        |\n",
      "|    l2_loss        | 0        |\n",
      "|    l2_norm        | 1.81e+05 |\n",
      "|    loss           | 0.0184   |\n",
      "|    neglogp        | 0.0184   |\n",
      "|    prob_true_act  | 0.986    |\n",
      "|    samples_so_far | 32       |\n",
      "--------------------------------\n"
     ]
    },
    {
     "name": "stderr",
     "output_type": "stream",
     "text": [
      "246batch [00:04, 55.08batch/s]\n",
      "0batch [00:00, ?batch/s]"
     ]
    },
    {
     "name": "stdout",
     "output_type": "stream",
     "text": [
      "---------------------------------\n",
      "| batch_size        | 32        |\n",
      "| bc/               |           |\n",
      "|    batch          | 0         |\n",
      "|    ent_loss       | -2.06e-05 |\n",
      "|    entropy        | 0.0206    |\n",
      "|    epoch          | 0         |\n",
      "|    l2_loss        | 0         |\n",
      "|    l2_norm        | 1.81e+05  |\n",
      "|    loss           | 0.0105    |\n",
      "|    neglogp        | 0.0105    |\n",
      "|    prob_true_act  | 0.991     |\n",
      "|    samples_so_far | 32        |\n",
      "---------------------------------\n"
     ]
    },
    {
     "name": "stderr",
     "output_type": "stream",
     "text": [
      "246batch [00:04, 53.30batch/s]\n",
      "0batch [00:00, ?batch/s]"
     ]
    },
    {
     "name": "stdout",
     "output_type": "stream",
     "text": [
      "---------------------------------\n",
      "| batch_size        | 32        |\n",
      "| bc/               |           |\n",
      "|    batch          | 0         |\n",
      "|    ent_loss       | -6.26e-05 |\n",
      "|    entropy        | 0.0626    |\n",
      "|    epoch          | 0         |\n",
      "|    l2_loss        | 0         |\n",
      "|    l2_norm        | 1.81e+05  |\n",
      "|    loss           | 0.0497    |\n",
      "|    neglogp        | 0.0498    |\n",
      "|    prob_true_act  | 0.964     |\n",
      "|    samples_so_far | 32        |\n",
      "---------------------------------\n"
     ]
    },
    {
     "name": "stderr",
     "output_type": "stream",
     "text": [
      "246batch [00:04, 55.09batch/s]\n",
      "0batch [00:00, ?batch/s]"
     ]
    },
    {
     "name": "stdout",
     "output_type": "stream",
     "text": [
      "---------------------------------\n",
      "| batch_size        | 32        |\n",
      "| bc/               |           |\n",
      "|    batch          | 0         |\n",
      "|    ent_loss       | -8.25e-07 |\n",
      "|    entropy        | 0.000825  |\n",
      "|    epoch          | 0         |\n",
      "|    l2_loss        | 0         |\n",
      "|    l2_norm        | 1.81e+05  |\n",
      "|    loss           | 7.11e-05  |\n",
      "|    neglogp        | 7.19e-05  |\n",
      "|    prob_true_act  | 1         |\n",
      "|    samples_so_far | 32        |\n",
      "---------------------------------\n"
     ]
    },
    {
     "name": "stderr",
     "output_type": "stream",
     "text": [
      "246batch [00:04, 55.75batch/s]\n",
      "0batch [00:00, ?batch/s]"
     ]
    },
    {
     "name": "stdout",
     "output_type": "stream",
     "text": [
      "---------------------------------\n",
      "| batch_size        | 32        |\n",
      "| bc/               |           |\n",
      "|    batch          | 0         |\n",
      "|    ent_loss       | -2.52e-05 |\n",
      "|    entropy        | 0.0252    |\n",
      "|    epoch          | 0         |\n",
      "|    l2_loss        | 0         |\n",
      "|    l2_norm        | 1.81e+05  |\n",
      "|    loss           | 0.0227    |\n",
      "|    neglogp        | 0.0227    |\n",
      "|    prob_true_act  | 0.984     |\n",
      "|    samples_so_far | 32        |\n",
      "---------------------------------\n"
     ]
    },
    {
     "name": "stderr",
     "output_type": "stream",
     "text": [
      "246batch [00:04, 54.28batch/s]\n",
      "0batch [00:00, ?batch/s]"
     ]
    },
    {
     "name": "stdout",
     "output_type": "stream",
     "text": [
      "---------------------------------\n",
      "| batch_size        | 32        |\n",
      "| bc/               |           |\n",
      "|    batch          | 0         |\n",
      "|    ent_loss       | -2.78e-05 |\n",
      "|    entropy        | 0.0278    |\n",
      "|    epoch          | 0         |\n",
      "|    l2_loss        | 0         |\n",
      "|    l2_norm        | 1.81e+05  |\n",
      "|    loss           | 0.00982   |\n",
      "|    neglogp        | 0.00985   |\n",
      "|    prob_true_act  | 0.992     |\n",
      "|    samples_so_far | 32        |\n",
      "---------------------------------\n"
     ]
    },
    {
     "name": "stderr",
     "output_type": "stream",
     "text": [
      "246batch [00:04, 54.35batch/s]\n",
      "0batch [00:00, ?batch/s]"
     ]
    },
    {
     "name": "stdout",
     "output_type": "stream",
     "text": [
      "---------------------------------\n",
      "| batch_size        | 32        |\n",
      "| bc/               |           |\n",
      "|    batch          | 0         |\n",
      "|    ent_loss       | -8.53e-07 |\n",
      "|    entropy        | 0.000853  |\n",
      "|    epoch          | 0         |\n",
      "|    l2_loss        | 0         |\n",
      "|    l2_norm        | 1.81e+05  |\n",
      "|    loss           | 7.45e-05  |\n",
      "|    neglogp        | 7.54e-05  |\n",
      "|    prob_true_act  | 1         |\n",
      "|    samples_so_far | 32        |\n",
      "---------------------------------\n"
     ]
    },
    {
     "name": "stderr",
     "output_type": "stream",
     "text": [
      "246batch [00:04, 54.97batch/s]\n",
      "0batch [00:00, ?batch/s]"
     ]
    },
    {
     "name": "stdout",
     "output_type": "stream",
     "text": [
      "---------------------------------\n",
      "| batch_size        | 32        |\n",
      "| bc/               |           |\n",
      "|    batch          | 0         |\n",
      "|    ent_loss       | -2.16e-06 |\n",
      "|    entropy        | 0.00216   |\n",
      "|    epoch          | 0         |\n",
      "|    l2_loss        | 0         |\n",
      "|    l2_norm        | 1.81e+05  |\n",
      "|    loss           | 0.000219  |\n",
      "|    neglogp        | 0.000221  |\n",
      "|    prob_true_act  | 1         |\n",
      "|    samples_so_far | 32        |\n",
      "---------------------------------\n"
     ]
    },
    {
     "name": "stderr",
     "output_type": "stream",
     "text": [
      "246batch [00:04, 54.16batch/s]\n",
      "0batch [00:00, ?batch/s]"
     ]
    },
    {
     "name": "stdout",
     "output_type": "stream",
     "text": [
      "---------------------------------\n",
      "| batch_size        | 32        |\n",
      "| bc/               |           |\n",
      "|    batch          | 0         |\n",
      "|    ent_loss       | -5.75e-05 |\n",
      "|    entropy        | 0.0575    |\n",
      "|    epoch          | 0         |\n",
      "|    l2_loss        | 0         |\n",
      "|    l2_norm        | 1.81e+05  |\n",
      "|    loss           | 0.0698    |\n",
      "|    neglogp        | 0.0698    |\n",
      "|    prob_true_act  | 0.96      |\n",
      "|    samples_so_far | 32        |\n",
      "---------------------------------\n"
     ]
    },
    {
     "name": "stderr",
     "output_type": "stream",
     "text": [
      "246batch [00:04, 54.84batch/s]\n",
      "0batch [00:00, ?batch/s]"
     ]
    },
    {
     "name": "stdout",
     "output_type": "stream",
     "text": [
      "---------------------------------\n",
      "| batch_size        | 32        |\n",
      "| bc/               |           |\n",
      "|    batch          | 0         |\n",
      "|    ent_loss       | -6.93e-07 |\n",
      "|    entropy        | 0.000693  |\n",
      "|    epoch          | 0         |\n",
      "|    l2_loss        | 0         |\n",
      "|    l2_norm        | 1.81e+05  |\n",
      "|    loss           | 5.5e-05   |\n",
      "|    neglogp        | 5.57e-05  |\n",
      "|    prob_true_act  | 1         |\n",
      "|    samples_so_far | 32        |\n",
      "---------------------------------\n"
     ]
    },
    {
     "name": "stderr",
     "output_type": "stream",
     "text": [
      "246batch [00:04, 54.78batch/s]\n",
      "0batch [00:00, ?batch/s]"
     ]
    },
    {
     "name": "stdout",
     "output_type": "stream",
     "text": [
      "---------------------------------\n",
      "| batch_size        | 32        |\n",
      "| bc/               |           |\n",
      "|    batch          | 0         |\n",
      "|    ent_loss       | -2.72e-06 |\n",
      "|    entropy        | 0.00272   |\n",
      "|    epoch          | 0         |\n",
      "|    l2_loss        | 0         |\n",
      "|    l2_norm        | 1.81e+05  |\n",
      "|    loss           | 0.000271  |\n",
      "|    neglogp        | 0.000273  |\n",
      "|    prob_true_act  | 1         |\n",
      "|    samples_so_far | 32        |\n",
      "---------------------------------\n"
     ]
    },
    {
     "name": "stderr",
     "output_type": "stream",
     "text": [
      "246batch [00:04, 54.38batch/s]\n",
      "0batch [00:00, ?batch/s]"
     ]
    },
    {
     "name": "stdout",
     "output_type": "stream",
     "text": [
      "--------------------------------\n",
      "| batch_size        | 32       |\n",
      "| bc/               |          |\n",
      "|    batch          | 0        |\n",
      "|    ent_loss       | -3.2e-05 |\n",
      "|    entropy        | 0.032    |\n",
      "|    epoch          | 0        |\n",
      "|    l2_loss        | 0        |\n",
      "|    l2_norm        | 1.81e+05 |\n",
      "|    loss           | 0.0153   |\n",
      "|    neglogp        | 0.0153   |\n",
      "|    prob_true_act  | 0.988    |\n",
      "|    samples_so_far | 32       |\n",
      "--------------------------------\n"
     ]
    },
    {
     "name": "stderr",
     "output_type": "stream",
     "text": [
      "246batch [00:04, 55.56batch/s]\n",
      "0batch [00:00, ?batch/s]"
     ]
    },
    {
     "name": "stdout",
     "output_type": "stream",
     "text": [
      "---------------------------------\n",
      "| batch_size        | 32        |\n",
      "| bc/               |           |\n",
      "|    batch          | 0         |\n",
      "|    ent_loss       | -9.67e-05 |\n",
      "|    entropy        | 0.0967    |\n",
      "|    epoch          | 0         |\n",
      "|    l2_loss        | 0         |\n",
      "|    l2_norm        | 1.81e+05  |\n",
      "|    loss           | 0.0625    |\n",
      "|    neglogp        | 0.0626    |\n",
      "|    prob_true_act  | 0.951     |\n",
      "|    samples_so_far | 32        |\n",
      "---------------------------------\n"
     ]
    },
    {
     "name": "stderr",
     "output_type": "stream",
     "text": [
      "246batch [00:04, 55.20batch/s]\n",
      "0batch [00:00, ?batch/s]"
     ]
    },
    {
     "name": "stdout",
     "output_type": "stream",
     "text": [
      "---------------------------------\n",
      "| batch_size        | 32        |\n",
      "| bc/               |           |\n",
      "|    batch          | 0         |\n",
      "|    ent_loss       | -7.25e-07 |\n",
      "|    entropy        | 0.000725  |\n",
      "|    epoch          | 0         |\n",
      "|    l2_loss        | 0         |\n",
      "|    l2_norm        | 1.81e+05  |\n",
      "|    loss           | 6.33e-05  |\n",
      "|    neglogp        | 6.4e-05   |\n",
      "|    prob_true_act  | 1         |\n",
      "|    samples_so_far | 32        |\n",
      "---------------------------------\n"
     ]
    },
    {
     "name": "stderr",
     "output_type": "stream",
     "text": [
      "246batch [00:04, 54.04batch/s]\n",
      "0batch [00:00, ?batch/s]"
     ]
    },
    {
     "name": "stdout",
     "output_type": "stream",
     "text": [
      "--------------------------------\n",
      "| batch_size        | 32       |\n",
      "| bc/               |          |\n",
      "|    batch          | 0        |\n",
      "|    ent_loss       | -3e-05   |\n",
      "|    entropy        | 0.03     |\n",
      "|    epoch          | 0        |\n",
      "|    l2_loss        | 0        |\n",
      "|    l2_norm        | 1.81e+05 |\n",
      "|    loss           | 0.0131   |\n",
      "|    neglogp        | 0.0132   |\n",
      "|    prob_true_act  | 0.989    |\n",
      "|    samples_so_far | 32       |\n",
      "--------------------------------\n"
     ]
    },
    {
     "name": "stderr",
     "output_type": "stream",
     "text": [
      "246batch [00:04, 54.54batch/s]\n"
     ]
    },
    {
     "name": "stdout",
     "output_type": "stream",
     "text": [
      "Checkpoint saved at checkpoints\\bc_model_epoch_800.zip\n"
     ]
    },
    {
     "name": "stderr",
     "output_type": "stream",
     "text": [
      "0batch [00:00, ?batch/s]"
     ]
    },
    {
     "name": "stdout",
     "output_type": "stream",
     "text": [
      "---------------------------------\n",
      "| batch_size        | 32        |\n",
      "| bc/               |           |\n",
      "|    batch          | 0         |\n",
      "|    ent_loss       | -1.88e-06 |\n",
      "|    entropy        | 0.00188   |\n",
      "|    epoch          | 0         |\n",
      "|    l2_loss        | 0         |\n",
      "|    l2_norm        | 1.82e+05  |\n",
      "|    loss           | 0.000158  |\n",
      "|    neglogp        | 0.00016   |\n",
      "|    prob_true_act  | 1         |\n",
      "|    samples_so_far | 32        |\n",
      "---------------------------------\n"
     ]
    },
    {
     "name": "stderr",
     "output_type": "stream",
     "text": [
      "246batch [00:04, 52.52batch/s]\n",
      "0batch [00:00, ?batch/s]"
     ]
    },
    {
     "name": "stdout",
     "output_type": "stream",
     "text": [
      "---------------------------------\n",
      "| batch_size        | 32        |\n",
      "| bc/               |           |\n",
      "|    batch          | 0         |\n",
      "|    ent_loss       | -1.07e-06 |\n",
      "|    entropy        | 0.00107   |\n",
      "|    epoch          | 0         |\n",
      "|    l2_loss        | 0         |\n",
      "|    l2_norm        | 1.82e+05  |\n",
      "|    loss           | 8.68e-05  |\n",
      "|    neglogp        | 8.79e-05  |\n",
      "|    prob_true_act  | 1         |\n",
      "|    samples_so_far | 32        |\n",
      "---------------------------------\n"
     ]
    },
    {
     "name": "stderr",
     "output_type": "stream",
     "text": [
      "246batch [00:04, 54.84batch/s]\n",
      "0batch [00:00, ?batch/s]"
     ]
    },
    {
     "name": "stdout",
     "output_type": "stream",
     "text": [
      "---------------------------------\n",
      "| batch_size        | 32        |\n",
      "| bc/               |           |\n",
      "|    batch          | 0         |\n",
      "|    ent_loss       | -5.39e-05 |\n",
      "|    entropy        | 0.0539    |\n",
      "|    epoch          | 0         |\n",
      "|    l2_loss        | 0         |\n",
      "|    l2_norm        | 1.82e+05  |\n",
      "|    loss           | 0.0488    |\n",
      "|    neglogp        | 0.0489    |\n",
      "|    prob_true_act  | 0.968     |\n",
      "|    samples_so_far | 32        |\n",
      "---------------------------------\n"
     ]
    },
    {
     "name": "stderr",
     "output_type": "stream",
     "text": [
      "246batch [00:04, 55.43batch/s]\n",
      "0batch [00:00, ?batch/s]"
     ]
    },
    {
     "name": "stdout",
     "output_type": "stream",
     "text": [
      "---------------------------------\n",
      "| batch_size        | 32        |\n",
      "| bc/               |           |\n",
      "|    batch          | 0         |\n",
      "|    ent_loss       | -1.89e-05 |\n",
      "|    entropy        | 0.0189    |\n",
      "|    epoch          | 0         |\n",
      "|    l2_loss        | 0         |\n",
      "|    l2_norm        | 1.82e+05  |\n",
      "|    loss           | 0.00873   |\n",
      "|    neglogp        | 0.00875   |\n",
      "|    prob_true_act  | 0.992     |\n",
      "|    samples_so_far | 32        |\n",
      "---------------------------------\n"
     ]
    },
    {
     "name": "stderr",
     "output_type": "stream",
     "text": [
      "246batch [00:04, 54.03batch/s]\n",
      "0batch [00:00, ?batch/s]"
     ]
    },
    {
     "name": "stdout",
     "output_type": "stream",
     "text": [
      "---------------------------------\n",
      "| batch_size        | 32        |\n",
      "| bc/               |           |\n",
      "|    batch          | 0         |\n",
      "|    ent_loss       | -7.37e-05 |\n",
      "|    entropy        | 0.0737    |\n",
      "|    epoch          | 0         |\n",
      "|    l2_loss        | 0         |\n",
      "|    l2_norm        | 1.82e+05  |\n",
      "|    loss           | 0.047     |\n",
      "|    neglogp        | 0.0471    |\n",
      "|    prob_true_act  | 0.964     |\n",
      "|    samples_so_far | 32        |\n",
      "---------------------------------\n"
     ]
    },
    {
     "name": "stderr",
     "output_type": "stream",
     "text": [
      "246batch [00:04, 55.32batch/s]\n",
      "0batch [00:00, ?batch/s]"
     ]
    },
    {
     "name": "stdout",
     "output_type": "stream",
     "text": [
      "---------------------------------\n",
      "| batch_size        | 32        |\n",
      "| bc/               |           |\n",
      "|    batch          | 0         |\n",
      "|    ent_loss       | -4.61e-05 |\n",
      "|    entropy        | 0.0461    |\n",
      "|    epoch          | 0         |\n",
      "|    l2_loss        | 0         |\n",
      "|    l2_norm        | 1.82e+05  |\n",
      "|    loss           | 0.0337    |\n",
      "|    neglogp        | 0.0337    |\n",
      "|    prob_true_act  | 0.979     |\n",
      "|    samples_so_far | 32        |\n",
      "---------------------------------\n"
     ]
    },
    {
     "name": "stderr",
     "output_type": "stream",
     "text": [
      "246batch [00:04, 54.72batch/s]\n",
      "0batch [00:00, ?batch/s]"
     ]
    },
    {
     "name": "stdout",
     "output_type": "stream",
     "text": [
      "---------------------------------\n",
      "| batch_size        | 32        |\n",
      "| bc/               |           |\n",
      "|    batch          | 0         |\n",
      "|    ent_loss       | -1.18e-06 |\n",
      "|    entropy        | 0.00118   |\n",
      "|    epoch          | 0         |\n",
      "|    l2_loss        | 0         |\n",
      "|    l2_norm        | 1.82e+05  |\n",
      "|    loss           | 0.000108  |\n",
      "|    neglogp        | 0.000109  |\n",
      "|    prob_true_act  | 1         |\n",
      "|    samples_so_far | 32        |\n",
      "---------------------------------\n"
     ]
    },
    {
     "name": "stderr",
     "output_type": "stream",
     "text": [
      "246batch [00:04, 53.90batch/s]\n",
      "0batch [00:00, ?batch/s]"
     ]
    },
    {
     "name": "stdout",
     "output_type": "stream",
     "text": [
      "---------------------------------\n",
      "| batch_size        | 32        |\n",
      "| bc/               |           |\n",
      "|    batch          | 0         |\n",
      "|    ent_loss       | -5.67e-07 |\n",
      "|    entropy        | 0.000567  |\n",
      "|    epoch          | 0         |\n",
      "|    l2_loss        | 0         |\n",
      "|    l2_norm        | 1.82e+05  |\n",
      "|    loss           | 4.4e-05   |\n",
      "|    neglogp        | 4.45e-05  |\n",
      "|    prob_true_act  | 1         |\n",
      "|    samples_so_far | 32        |\n",
      "---------------------------------\n"
     ]
    },
    {
     "name": "stderr",
     "output_type": "stream",
     "text": [
      "246batch [00:04, 55.02batch/s]\n",
      "0batch [00:00, ?batch/s]"
     ]
    },
    {
     "name": "stdout",
     "output_type": "stream",
     "text": [
      "---------------------------------\n",
      "| batch_size        | 32        |\n",
      "| bc/               |           |\n",
      "|    batch          | 0         |\n",
      "|    ent_loss       | -1.17e-06 |\n",
      "|    entropy        | 0.00117   |\n",
      "|    epoch          | 0         |\n",
      "|    l2_loss        | 0         |\n",
      "|    l2_norm        | 1.82e+05  |\n",
      "|    loss           | 0.000102  |\n",
      "|    neglogp        | 0.000103  |\n",
      "|    prob_true_act  | 1         |\n",
      "|    samples_so_far | 32        |\n",
      "---------------------------------\n"
     ]
    },
    {
     "name": "stderr",
     "output_type": "stream",
     "text": [
      "246batch [00:04, 54.38batch/s]\n",
      "0batch [00:00, ?batch/s]"
     ]
    },
    {
     "name": "stdout",
     "output_type": "stream",
     "text": [
      "--------------------------------\n",
      "| batch_size        | 32       |\n",
      "| bc/               |          |\n",
      "|    batch          | 0        |\n",
      "|    ent_loss       | -4.3e-05 |\n",
      "|    entropy        | 0.043    |\n",
      "|    epoch          | 0        |\n",
      "|    l2_loss        | 0        |\n",
      "|    l2_norm        | 1.83e+05 |\n",
      "|    loss           | 0.0337   |\n",
      "|    neglogp        | 0.0338   |\n",
      "|    prob_true_act  | 0.979    |\n",
      "|    samples_so_far | 32       |\n",
      "--------------------------------\n"
     ]
    },
    {
     "name": "stderr",
     "output_type": "stream",
     "text": [
      "246batch [00:04, 54.36batch/s]\n",
      "0batch [00:00, ?batch/s]"
     ]
    },
    {
     "name": "stdout",
     "output_type": "stream",
     "text": [
      "---------------------------------\n",
      "| batch_size        | 32        |\n",
      "| bc/               |           |\n",
      "|    batch          | 0         |\n",
      "|    ent_loss       | -7.45e-05 |\n",
      "|    entropy        | 0.0745    |\n",
      "|    epoch          | 0         |\n",
      "|    l2_loss        | 0         |\n",
      "|    l2_norm        | 1.83e+05  |\n",
      "|    loss           | 0.0228    |\n",
      "|    neglogp        | 0.0229    |\n",
      "|    prob_true_act  | 0.982     |\n",
      "|    samples_so_far | 32        |\n",
      "---------------------------------\n"
     ]
    },
    {
     "name": "stderr",
     "output_type": "stream",
     "text": [
      "246batch [00:04, 52.92batch/s]\n",
      "0batch [00:00, ?batch/s]"
     ]
    },
    {
     "name": "stdout",
     "output_type": "stream",
     "text": [
      "---------------------------------\n",
      "| batch_size        | 32        |\n",
      "| bc/               |           |\n",
      "|    batch          | 0         |\n",
      "|    ent_loss       | -3.22e-06 |\n",
      "|    entropy        | 0.00322   |\n",
      "|    epoch          | 0         |\n",
      "|    l2_loss        | 0         |\n",
      "|    l2_norm        | 1.82e+05  |\n",
      "|    loss           | 0.000326  |\n",
      "|    neglogp        | 0.000329  |\n",
      "|    prob_true_act  | 1         |\n",
      "|    samples_so_far | 32        |\n",
      "---------------------------------\n"
     ]
    },
    {
     "name": "stderr",
     "output_type": "stream",
     "text": [
      "246batch [00:04, 54.15batch/s]\n",
      "0batch [00:00, ?batch/s]"
     ]
    },
    {
     "name": "stdout",
     "output_type": "stream",
     "text": [
      "---------------------------------\n",
      "| batch_size        | 32        |\n",
      "| bc/               |           |\n",
      "|    batch          | 0         |\n",
      "|    ent_loss       | -2.12e-05 |\n",
      "|    entropy        | 0.0212    |\n",
      "|    epoch          | 0         |\n",
      "|    l2_loss        | 0         |\n",
      "|    l2_norm        | 1.83e+05  |\n",
      "|    loss           | 0.0106    |\n",
      "|    neglogp        | 0.0106    |\n",
      "|    prob_true_act  | 0.991     |\n",
      "|    samples_so_far | 32        |\n",
      "---------------------------------\n"
     ]
    },
    {
     "name": "stderr",
     "output_type": "stream",
     "text": [
      "246batch [00:04, 55.21batch/s]\n",
      "0batch [00:00, ?batch/s]"
     ]
    },
    {
     "name": "stdout",
     "output_type": "stream",
     "text": [
      "---------------------------------\n",
      "| batch_size        | 32        |\n",
      "| bc/               |           |\n",
      "|    batch          | 0         |\n",
      "|    ent_loss       | -2.64e-05 |\n",
      "|    entropy        | 0.0264    |\n",
      "|    epoch          | 0         |\n",
      "|    l2_loss        | 0         |\n",
      "|    l2_norm        | 1.83e+05  |\n",
      "|    loss           | 0.0187    |\n",
      "|    neglogp        | 0.0187    |\n",
      "|    prob_true_act  | 0.986     |\n",
      "|    samples_so_far | 32        |\n",
      "---------------------------------\n"
     ]
    },
    {
     "name": "stderr",
     "output_type": "stream",
     "text": [
      "246batch [00:04, 55.58batch/s]\n",
      "0batch [00:00, ?batch/s]"
     ]
    },
    {
     "name": "stdout",
     "output_type": "stream",
     "text": [
      "---------------------------------\n",
      "| batch_size        | 32        |\n",
      "| bc/               |           |\n",
      "|    batch          | 0         |\n",
      "|    ent_loss       | -5.84e-05 |\n",
      "|    entropy        | 0.0584    |\n",
      "|    epoch          | 0         |\n",
      "|    l2_loss        | 0         |\n",
      "|    l2_norm        | 1.83e+05  |\n",
      "|    loss           | 0.0663    |\n",
      "|    neglogp        | 0.0663    |\n",
      "|    prob_true_act  | 0.96      |\n",
      "|    samples_so_far | 32        |\n",
      "---------------------------------\n"
     ]
    },
    {
     "name": "stderr",
     "output_type": "stream",
     "text": [
      "246batch [00:04, 54.27batch/s]\n",
      "0batch [00:00, ?batch/s]"
     ]
    },
    {
     "name": "stdout",
     "output_type": "stream",
     "text": [
      "---------------------------------\n",
      "| batch_size        | 32        |\n",
      "| bc/               |           |\n",
      "|    batch          | 0         |\n",
      "|    ent_loss       | -3.71e-05 |\n",
      "|    entropy        | 0.0371    |\n",
      "|    epoch          | 0         |\n",
      "|    l2_loss        | 0         |\n",
      "|    l2_norm        | 1.83e+05  |\n",
      "|    loss           | 0.023     |\n",
      "|    neglogp        | 0.023     |\n",
      "|    prob_true_act  | 0.984     |\n",
      "|    samples_so_far | 32        |\n",
      "---------------------------------\n"
     ]
    },
    {
     "name": "stderr",
     "output_type": "stream",
     "text": [
      "246batch [00:04, 55.16batch/s]\n",
      "0batch [00:00, ?batch/s]"
     ]
    },
    {
     "name": "stdout",
     "output_type": "stream",
     "text": [
      "---------------------------------\n",
      "| batch_size        | 32        |\n",
      "| bc/               |           |\n",
      "|    batch          | 0         |\n",
      "|    ent_loss       | -4.59e-05 |\n",
      "|    entropy        | 0.0459    |\n",
      "|    epoch          | 0         |\n",
      "|    l2_loss        | 0         |\n",
      "|    l2_norm        | 1.83e+05  |\n",
      "|    loss           | 0.0473    |\n",
      "|    neglogp        | 0.0473    |\n",
      "|    prob_true_act  | 0.976     |\n",
      "|    samples_so_far | 32        |\n",
      "---------------------------------\n"
     ]
    },
    {
     "name": "stderr",
     "output_type": "stream",
     "text": [
      "246batch [00:04, 54.51batch/s]\n",
      "0batch [00:00, ?batch/s]"
     ]
    },
    {
     "name": "stdout",
     "output_type": "stream",
     "text": [
      "---------------------------------\n",
      "| batch_size        | 32        |\n",
      "| bc/               |           |\n",
      "|    batch          | 0         |\n",
      "|    ent_loss       | -3.21e-05 |\n",
      "|    entropy        | 0.0321    |\n",
      "|    epoch          | 0         |\n",
      "|    l2_loss        | 0         |\n",
      "|    l2_norm        | 1.83e+05  |\n",
      "|    loss           | 0.0157    |\n",
      "|    neglogp        | 0.0158    |\n",
      "|    prob_true_act  | 0.988     |\n",
      "|    samples_so_far | 32        |\n",
      "---------------------------------\n"
     ]
    },
    {
     "name": "stderr",
     "output_type": "stream",
     "text": [
      "246batch [00:04, 53.98batch/s]\n",
      "0batch [00:00, ?batch/s]"
     ]
    },
    {
     "name": "stdout",
     "output_type": "stream",
     "text": [
      "---------------------------------\n",
      "| batch_size        | 32        |\n",
      "| bc/               |           |\n",
      "|    batch          | 0         |\n",
      "|    ent_loss       | -6.53e-05 |\n",
      "|    entropy        | 0.0653    |\n",
      "|    epoch          | 0         |\n",
      "|    l2_loss        | 0         |\n",
      "|    l2_norm        | 1.83e+05  |\n",
      "|    loss           | 0.086     |\n",
      "|    neglogp        | 0.0861    |\n",
      "|    prob_true_act  | 0.945     |\n",
      "|    samples_so_far | 32        |\n",
      "---------------------------------\n"
     ]
    },
    {
     "name": "stderr",
     "output_type": "stream",
     "text": [
      "246batch [00:04, 55.48batch/s]\n",
      "0batch [00:00, ?batch/s]"
     ]
    },
    {
     "name": "stdout",
     "output_type": "stream",
     "text": [
      "---------------------------------\n",
      "| batch_size        | 32        |\n",
      "| bc/               |           |\n",
      "|    batch          | 0         |\n",
      "|    ent_loss       | -4.39e-05 |\n",
      "|    entropy        | 0.0439    |\n",
      "|    epoch          | 0         |\n",
      "|    l2_loss        | 0         |\n",
      "|    l2_norm        | 1.83e+05  |\n",
      "|    loss           | 0.0347    |\n",
      "|    neglogp        | 0.0348    |\n",
      "|    prob_true_act  | 0.974     |\n",
      "|    samples_so_far | 32        |\n",
      "---------------------------------\n"
     ]
    },
    {
     "name": "stderr",
     "output_type": "stream",
     "text": [
      "246batch [00:04, 55.58batch/s]\n",
      "0batch [00:00, ?batch/s]"
     ]
    },
    {
     "name": "stdout",
     "output_type": "stream",
     "text": [
      "---------------------------------\n",
      "| batch_size        | 32        |\n",
      "| bc/               |           |\n",
      "|    batch          | 0         |\n",
      "|    ent_loss       | -2.28e-05 |\n",
      "|    entropy        | 0.0228    |\n",
      "|    epoch          | 0         |\n",
      "|    l2_loss        | 0         |\n",
      "|    l2_norm        | 1.83e+05  |\n",
      "|    loss           | 0.0253    |\n",
      "|    neglogp        | 0.0253    |\n",
      "|    prob_true_act  | 0.983     |\n",
      "|    samples_so_far | 32        |\n",
      "---------------------------------\n"
     ]
    },
    {
     "name": "stderr",
     "output_type": "stream",
     "text": [
      "246batch [00:04, 54.02batch/s]\n",
      "0batch [00:00, ?batch/s]"
     ]
    },
    {
     "name": "stdout",
     "output_type": "stream",
     "text": [
      "---------------------------------\n",
      "| batch_size        | 32        |\n",
      "| bc/               |           |\n",
      "|    batch          | 0         |\n",
      "|    ent_loss       | -5.26e-07 |\n",
      "|    entropy        | 0.000526  |\n",
      "|    epoch          | 0         |\n",
      "|    l2_loss        | 0         |\n",
      "|    l2_norm        | 1.83e+05  |\n",
      "|    loss           | 4.24e-05  |\n",
      "|    neglogp        | 4.3e-05   |\n",
      "|    prob_true_act  | 1         |\n",
      "|    samples_so_far | 32        |\n",
      "---------------------------------\n"
     ]
    },
    {
     "name": "stderr",
     "output_type": "stream",
     "text": [
      "246batch [00:04, 55.22batch/s]\n",
      "0batch [00:00, ?batch/s]"
     ]
    },
    {
     "name": "stdout",
     "output_type": "stream",
     "text": [
      "---------------------------------\n",
      "| batch_size        | 32        |\n",
      "| bc/               |           |\n",
      "|    batch          | 0         |\n",
      "|    ent_loss       | -5.18e-07 |\n",
      "|    entropy        | 0.000518  |\n",
      "|    epoch          | 0         |\n",
      "|    l2_loss        | 0         |\n",
      "|    l2_norm        | 1.83e+05  |\n",
      "|    loss           | 4.32e-05  |\n",
      "|    neglogp        | 4.37e-05  |\n",
      "|    prob_true_act  | 1         |\n",
      "|    samples_so_far | 32        |\n",
      "---------------------------------\n"
     ]
    },
    {
     "name": "stderr",
     "output_type": "stream",
     "text": [
      "246batch [00:04, 55.09batch/s]\n",
      "0batch [00:00, ?batch/s]"
     ]
    },
    {
     "name": "stdout",
     "output_type": "stream",
     "text": [
      "--------------------------------\n",
      "| batch_size        | 32       |\n",
      "| bc/               |          |\n",
      "|    batch          | 0        |\n",
      "|    ent_loss       | -6.1e-07 |\n",
      "|    entropy        | 0.00061  |\n",
      "|    epoch          | 0        |\n",
      "|    l2_loss        | 0        |\n",
      "|    l2_norm        | 1.83e+05 |\n",
      "|    loss           | 5.18e-05 |\n",
      "|    neglogp        | 5.24e-05 |\n",
      "|    prob_true_act  | 1        |\n",
      "|    samples_so_far | 32       |\n",
      "--------------------------------\n"
     ]
    },
    {
     "name": "stderr",
     "output_type": "stream",
     "text": [
      "246batch [00:04, 53.56batch/s]\n",
      "0batch [00:00, ?batch/s]"
     ]
    },
    {
     "name": "stdout",
     "output_type": "stream",
     "text": [
      "---------------------------------\n",
      "| batch_size        | 32        |\n",
      "| bc/               |           |\n",
      "|    batch          | 0         |\n",
      "|    ent_loss       | -4.86e-05 |\n",
      "|    entropy        | 0.0486    |\n",
      "|    epoch          | 0         |\n",
      "|    l2_loss        | 0         |\n",
      "|    l2_norm        | 1.84e+05  |\n",
      "|    loss           | 0.0228    |\n",
      "|    neglogp        | 0.0229    |\n",
      "|    prob_true_act  | 0.981     |\n",
      "|    samples_so_far | 32        |\n",
      "---------------------------------\n"
     ]
    },
    {
     "name": "stderr",
     "output_type": "stream",
     "text": [
      "246batch [00:04, 55.44batch/s]\n",
      "0batch [00:00, ?batch/s]"
     ]
    },
    {
     "name": "stdout",
     "output_type": "stream",
     "text": [
      "---------------------------------\n",
      "| batch_size        | 32        |\n",
      "| bc/               |           |\n",
      "|    batch          | 0         |\n",
      "|    ent_loss       | -6.51e-05 |\n",
      "|    entropy        | 0.0651    |\n",
      "|    epoch          | 0         |\n",
      "|    l2_loss        | 0         |\n",
      "|    l2_norm        | 1.84e+05  |\n",
      "|    loss           | 0.0543    |\n",
      "|    neglogp        | 0.0544    |\n",
      "|    prob_true_act  | 0.96      |\n",
      "|    samples_so_far | 32        |\n",
      "---------------------------------\n"
     ]
    },
    {
     "name": "stderr",
     "output_type": "stream",
     "text": [
      "246batch [00:04, 55.06batch/s]\n",
      "0batch [00:00, ?batch/s]"
     ]
    },
    {
     "name": "stdout",
     "output_type": "stream",
     "text": [
      "---------------------------------\n",
      "| batch_size        | 32        |\n",
      "| bc/               |           |\n",
      "|    batch          | 0         |\n",
      "|    ent_loss       | -2.08e-05 |\n",
      "|    entropy        | 0.0208    |\n",
      "|    epoch          | 0         |\n",
      "|    l2_loss        | 0         |\n",
      "|    l2_norm        | 1.84e+05  |\n",
      "|    loss           | 0.038     |\n",
      "|    neglogp        | 0.038     |\n",
      "|    prob_true_act  | 0.978     |\n",
      "|    samples_so_far | 32        |\n",
      "---------------------------------\n"
     ]
    },
    {
     "name": "stderr",
     "output_type": "stream",
     "text": [
      "246batch [00:04, 54.23batch/s]\n",
      "0batch [00:00, ?batch/s]"
     ]
    },
    {
     "name": "stdout",
     "output_type": "stream",
     "text": [
      "---------------------------------\n",
      "| batch_size        | 32        |\n",
      "| bc/               |           |\n",
      "|    batch          | 0         |\n",
      "|    ent_loss       | -2.08e-05 |\n",
      "|    entropy        | 0.0208    |\n",
      "|    epoch          | 0         |\n",
      "|    l2_loss        | 0         |\n",
      "|    l2_norm        | 1.84e+05  |\n",
      "|    loss           | 0.0106    |\n",
      "|    neglogp        | 0.0106    |\n",
      "|    prob_true_act  | 0.991     |\n",
      "|    samples_so_far | 32        |\n",
      "---------------------------------\n"
     ]
    },
    {
     "name": "stderr",
     "output_type": "stream",
     "text": [
      "246batch [00:04, 54.78batch/s]\n",
      "0batch [00:00, ?batch/s]"
     ]
    },
    {
     "name": "stdout",
     "output_type": "stream",
     "text": [
      "---------------------------------\n",
      "| batch_size        | 32        |\n",
      "| bc/               |           |\n",
      "|    batch          | 0         |\n",
      "|    ent_loss       | -6.85e-07 |\n",
      "|    entropy        | 0.000685  |\n",
      "|    epoch          | 0         |\n",
      "|    l2_loss        | 0         |\n",
      "|    l2_norm        | 1.84e+05  |\n",
      "|    loss           | 5.92e-05  |\n",
      "|    neglogp        | 5.99e-05  |\n",
      "|    prob_true_act  | 1         |\n",
      "|    samples_so_far | 32        |\n",
      "---------------------------------\n"
     ]
    },
    {
     "name": "stderr",
     "output_type": "stream",
     "text": [
      "246batch [00:04, 55.10batch/s]\n",
      "0batch [00:00, ?batch/s]"
     ]
    },
    {
     "name": "stdout",
     "output_type": "stream",
     "text": [
      "---------------------------------\n",
      "| batch_size        | 32        |\n",
      "| bc/               |           |\n",
      "|    batch          | 0         |\n",
      "|    ent_loss       | -1.09e-06 |\n",
      "|    entropy        | 0.00109   |\n",
      "|    epoch          | 0         |\n",
      "|    l2_loss        | 0         |\n",
      "|    l2_norm        | 1.84e+05  |\n",
      "|    loss           | 9.4e-05   |\n",
      "|    neglogp        | 9.51e-05  |\n",
      "|    prob_true_act  | 1         |\n",
      "|    samples_so_far | 32        |\n",
      "---------------------------------\n"
     ]
    },
    {
     "name": "stderr",
     "output_type": "stream",
     "text": [
      "246batch [00:04, 54.52batch/s]\n",
      "0batch [00:00, ?batch/s]"
     ]
    },
    {
     "name": "stdout",
     "output_type": "stream",
     "text": [
      "---------------------------------\n",
      "| batch_size        | 32        |\n",
      "| bc/               |           |\n",
      "|    batch          | 0         |\n",
      "|    ent_loss       | -1.43e-06 |\n",
      "|    entropy        | 0.00143   |\n",
      "|    epoch          | 0         |\n",
      "|    l2_loss        | 0         |\n",
      "|    l2_norm        | 1.84e+05  |\n",
      "|    loss           | 0.000131  |\n",
      "|    neglogp        | 0.000132  |\n",
      "|    prob_true_act  | 1         |\n",
      "|    samples_so_far | 32        |\n",
      "---------------------------------\n"
     ]
    },
    {
     "name": "stderr",
     "output_type": "stream",
     "text": [
      "246batch [00:04, 54.95batch/s]\n",
      "0batch [00:00, ?batch/s]"
     ]
    },
    {
     "name": "stdout",
     "output_type": "stream",
     "text": [
      "---------------------------------\n",
      "| batch_size        | 32        |\n",
      "| bc/               |           |\n",
      "|    batch          | 0         |\n",
      "|    ent_loss       | -8.23e-07 |\n",
      "|    entropy        | 0.000823  |\n",
      "|    epoch          | 0         |\n",
      "|    l2_loss        | 0         |\n",
      "|    l2_norm        | 1.84e+05  |\n",
      "|    loss           | 6.89e-05  |\n",
      "|    neglogp        | 6.97e-05  |\n",
      "|    prob_true_act  | 1         |\n",
      "|    samples_so_far | 32        |\n",
      "---------------------------------\n"
     ]
    },
    {
     "name": "stderr",
     "output_type": "stream",
     "text": [
      "246batch [00:04, 54.57batch/s]\n",
      "0batch [00:00, ?batch/s]"
     ]
    },
    {
     "name": "stdout",
     "output_type": "stream",
     "text": [
      "---------------------------------\n",
      "| batch_size        | 32        |\n",
      "| bc/               |           |\n",
      "|    batch          | 0         |\n",
      "|    ent_loss       | -9.51e-05 |\n",
      "|    entropy        | 0.0951    |\n",
      "|    epoch          | 0         |\n",
      "|    l2_loss        | 0         |\n",
      "|    l2_norm        | 1.85e+05  |\n",
      "|    loss           | 0.09      |\n",
      "|    neglogp        | 0.0901    |\n",
      "|    prob_true_act  | 0.944     |\n",
      "|    samples_so_far | 32        |\n",
      "---------------------------------\n"
     ]
    },
    {
     "name": "stderr",
     "output_type": "stream",
     "text": [
      "246batch [00:04, 54.40batch/s]\n",
      "0batch [00:00, ?batch/s]"
     ]
    },
    {
     "name": "stdout",
     "output_type": "stream",
     "text": [
      "--------------------------------\n",
      "| batch_size        | 32       |\n",
      "| bc/               |          |\n",
      "|    batch          | 0        |\n",
      "|    ent_loss       | -1.7e-05 |\n",
      "|    entropy        | 0.017    |\n",
      "|    epoch          | 0        |\n",
      "|    l2_loss        | 0        |\n",
      "|    l2_norm        | 1.85e+05 |\n",
      "|    loss           | 0.00384  |\n",
      "|    neglogp        | 0.00386  |\n",
      "|    prob_true_act  | 0.996    |\n",
      "|    samples_so_far | 32       |\n",
      "--------------------------------\n"
     ]
    },
    {
     "name": "stderr",
     "output_type": "stream",
     "text": [
      "246batch [00:04, 55.21batch/s]\n",
      "0batch [00:00, ?batch/s]"
     ]
    },
    {
     "name": "stdout",
     "output_type": "stream",
     "text": [
      "---------------------------------\n",
      "| batch_size        | 32        |\n",
      "| bc/               |           |\n",
      "|    batch          | 0         |\n",
      "|    ent_loss       | -2.27e-05 |\n",
      "|    entropy        | 0.0227    |\n",
      "|    epoch          | 0         |\n",
      "|    l2_loss        | 0         |\n",
      "|    l2_norm        | 1.84e+05  |\n",
      "|    loss           | 0.0123    |\n",
      "|    neglogp        | 0.0123    |\n",
      "|    prob_true_act  | 0.99      |\n",
      "|    samples_so_far | 32        |\n",
      "---------------------------------\n"
     ]
    },
    {
     "name": "stderr",
     "output_type": "stream",
     "text": [
      "246batch [00:04, 54.99batch/s]\n",
      "0batch [00:00, ?batch/s]"
     ]
    },
    {
     "name": "stdout",
     "output_type": "stream",
     "text": [
      "---------------------------------\n",
      "| batch_size        | 32        |\n",
      "| bc/               |           |\n",
      "|    batch          | 0         |\n",
      "|    ent_loss       | -2.57e-05 |\n",
      "|    entropy        | 0.0257    |\n",
      "|    epoch          | 0         |\n",
      "|    l2_loss        | 0         |\n",
      "|    l2_norm        | 1.84e+05  |\n",
      "|    loss           | 0.0322    |\n",
      "|    neglogp        | 0.0322    |\n",
      "|    prob_true_act  | 0.98      |\n",
      "|    samples_so_far | 32        |\n",
      "---------------------------------\n"
     ]
    },
    {
     "name": "stderr",
     "output_type": "stream",
     "text": [
      "246batch [00:04, 53.62batch/s]\n",
      "0batch [00:00, ?batch/s]"
     ]
    },
    {
     "name": "stdout",
     "output_type": "stream",
     "text": [
      "---------------------------------\n",
      "| batch_size        | 32        |\n",
      "| bc/               |           |\n",
      "|    batch          | 0         |\n",
      "|    ent_loss       | -6.61e-07 |\n",
      "|    entropy        | 0.000661  |\n",
      "|    epoch          | 0         |\n",
      "|    l2_loss        | 0         |\n",
      "|    l2_norm        | 1.85e+05  |\n",
      "|    loss           | 5.2e-05   |\n",
      "|    neglogp        | 5.26e-05  |\n",
      "|    prob_true_act  | 1         |\n",
      "|    samples_so_far | 32        |\n",
      "---------------------------------\n"
     ]
    },
    {
     "name": "stderr",
     "output_type": "stream",
     "text": [
      "246batch [00:04, 54.64batch/s]\n",
      "0batch [00:00, ?batch/s]"
     ]
    },
    {
     "name": "stdout",
     "output_type": "stream",
     "text": [
      "---------------------------------\n",
      "| batch_size        | 32        |\n",
      "| bc/               |           |\n",
      "|    batch          | 0         |\n",
      "|    ent_loss       | -1.09e-06 |\n",
      "|    entropy        | 0.00109   |\n",
      "|    epoch          | 0         |\n",
      "|    l2_loss        | 0         |\n",
      "|    l2_norm        | 1.85e+05  |\n",
      "|    loss           | 9.32e-05  |\n",
      "|    neglogp        | 9.43e-05  |\n",
      "|    prob_true_act  | 1         |\n",
      "|    samples_so_far | 32        |\n",
      "---------------------------------\n"
     ]
    },
    {
     "name": "stderr",
     "output_type": "stream",
     "text": [
      "246batch [00:04, 54.47batch/s]\n",
      "0batch [00:00, ?batch/s]"
     ]
    },
    {
     "name": "stdout",
     "output_type": "stream",
     "text": [
      "---------------------------------\n",
      "| batch_size        | 32        |\n",
      "| bc/               |           |\n",
      "|    batch          | 0         |\n",
      "|    ent_loss       | -1.39e-06 |\n",
      "|    entropy        | 0.00139   |\n",
      "|    epoch          | 0         |\n",
      "|    l2_loss        | 0         |\n",
      "|    l2_norm        | 1.85e+05  |\n",
      "|    loss           | 0.000124  |\n",
      "|    neglogp        | 0.000125  |\n",
      "|    prob_true_act  | 1         |\n",
      "|    samples_so_far | 32        |\n",
      "---------------------------------\n"
     ]
    },
    {
     "name": "stderr",
     "output_type": "stream",
     "text": [
      "246batch [00:04, 53.90batch/s]\n",
      "0batch [00:00, ?batch/s]"
     ]
    },
    {
     "name": "stdout",
     "output_type": "stream",
     "text": [
      "---------------------------------\n",
      "| batch_size        | 32        |\n",
      "| bc/               |           |\n",
      "|    batch          | 0         |\n",
      "|    ent_loss       | -2.34e-05 |\n",
      "|    entropy        | 0.0234    |\n",
      "|    epoch          | 0         |\n",
      "|    l2_loss        | 0         |\n",
      "|    l2_norm        | 1.85e+05  |\n",
      "|    loss           | 0.0155    |\n",
      "|    neglogp        | 0.0156    |\n",
      "|    prob_true_act  | 0.988     |\n",
      "|    samples_so_far | 32        |\n",
      "---------------------------------\n"
     ]
    },
    {
     "name": "stderr",
     "output_type": "stream",
     "text": [
      "246batch [00:04, 55.21batch/s]\n",
      "0batch [00:00, ?batch/s]"
     ]
    },
    {
     "name": "stdout",
     "output_type": "stream",
     "text": [
      "---------------------------------\n",
      "| batch_size        | 32        |\n",
      "| bc/               |           |\n",
      "|    batch          | 0         |\n",
      "|    ent_loss       | -7.68e-07 |\n",
      "|    entropy        | 0.000768  |\n",
      "|    epoch          | 0         |\n",
      "|    l2_loss        | 0         |\n",
      "|    l2_norm        | 1.85e+05  |\n",
      "|    loss           | 6.03e-05  |\n",
      "|    neglogp        | 6.1e-05   |\n",
      "|    prob_true_act  | 1         |\n",
      "|    samples_so_far | 32        |\n",
      "---------------------------------\n"
     ]
    },
    {
     "name": "stderr",
     "output_type": "stream",
     "text": [
      "246batch [00:04, 55.31batch/s]\n",
      "0batch [00:00, ?batch/s]"
     ]
    },
    {
     "name": "stdout",
     "output_type": "stream",
     "text": [
      "---------------------------------\n",
      "| batch_size        | 32        |\n",
      "| bc/               |           |\n",
      "|    batch          | 0         |\n",
      "|    ent_loss       | -2.08e-06 |\n",
      "|    entropy        | 0.00208   |\n",
      "|    epoch          | 0         |\n",
      "|    l2_loss        | 0         |\n",
      "|    l2_norm        | 1.85e+05  |\n",
      "|    loss           | 0.000203  |\n",
      "|    neglogp        | 0.000205  |\n",
      "|    prob_true_act  | 1         |\n",
      "|    samples_so_far | 32        |\n",
      "---------------------------------\n"
     ]
    },
    {
     "name": "stderr",
     "output_type": "stream",
     "text": [
      "246batch [00:04, 53.90batch/s]\n",
      "0batch [00:00, ?batch/s]"
     ]
    },
    {
     "name": "stdout",
     "output_type": "stream",
     "text": [
      "---------------------------------\n",
      "| batch_size        | 32        |\n",
      "| bc/               |           |\n",
      "|    batch          | 0         |\n",
      "|    ent_loss       | -1.14e-06 |\n",
      "|    entropy        | 0.00114   |\n",
      "|    epoch          | 0         |\n",
      "|    l2_loss        | 0         |\n",
      "|    l2_norm        | 1.85e+05  |\n",
      "|    loss           | 0.0001    |\n",
      "|    neglogp        | 0.000101  |\n",
      "|    prob_true_act  | 1         |\n",
      "|    samples_so_far | 32        |\n",
      "---------------------------------\n"
     ]
    },
    {
     "name": "stderr",
     "output_type": "stream",
     "text": [
      "246batch [00:04, 55.17batch/s]\n",
      "0batch [00:00, ?batch/s]"
     ]
    },
    {
     "name": "stdout",
     "output_type": "stream",
     "text": [
      "---------------------------------\n",
      "| batch_size        | 32        |\n",
      "| bc/               |           |\n",
      "|    batch          | 0         |\n",
      "|    ent_loss       | -9.53e-07 |\n",
      "|    entropy        | 0.000953  |\n",
      "|    epoch          | 0         |\n",
      "|    l2_loss        | 0         |\n",
      "|    l2_norm        | 1.85e+05  |\n",
      "|    loss           | 9.02e-05  |\n",
      "|    neglogp        | 9.11e-05  |\n",
      "|    prob_true_act  | 1         |\n",
      "|    samples_so_far | 32        |\n",
      "---------------------------------\n"
     ]
    },
    {
     "name": "stderr",
     "output_type": "stream",
     "text": [
      "246batch [00:04, 54.83batch/s]\n",
      "0batch [00:00, ?batch/s]"
     ]
    },
    {
     "name": "stdout",
     "output_type": "stream",
     "text": [
      "---------------------------------\n",
      "| batch_size        | 32        |\n",
      "| bc/               |           |\n",
      "|    batch          | 0         |\n",
      "|    ent_loss       | -1.09e-06 |\n",
      "|    entropy        | 0.00109   |\n",
      "|    epoch          | 0         |\n",
      "|    l2_loss        | 0         |\n",
      "|    l2_norm        | 1.85e+05  |\n",
      "|    loss           | 9.08e-05  |\n",
      "|    neglogp        | 9.19e-05  |\n",
      "|    prob_true_act  | 1         |\n",
      "|    samples_so_far | 32        |\n",
      "---------------------------------\n"
     ]
    },
    {
     "name": "stderr",
     "output_type": "stream",
     "text": [
      "246batch [00:04, 53.18batch/s]\n",
      "0batch [00:00, ?batch/s]"
     ]
    },
    {
     "name": "stdout",
     "output_type": "stream",
     "text": [
      "---------------------------------\n",
      "| batch_size        | 32        |\n",
      "| bc/               |           |\n",
      "|    batch          | 0         |\n",
      "|    ent_loss       | -8.63e-07 |\n",
      "|    entropy        | 0.000863  |\n",
      "|    epoch          | 0         |\n",
      "|    l2_loss        | 0         |\n",
      "|    l2_norm        | 1.85e+05  |\n",
      "|    loss           | 7.73e-05  |\n",
      "|    neglogp        | 7.81e-05  |\n",
      "|    prob_true_act  | 1         |\n",
      "|    samples_so_far | 32        |\n",
      "---------------------------------\n"
     ]
    },
    {
     "name": "stderr",
     "output_type": "stream",
     "text": [
      "246batch [00:04, 55.40batch/s]\n",
      "0batch [00:00, ?batch/s]"
     ]
    },
    {
     "name": "stdout",
     "output_type": "stream",
     "text": [
      "---------------------------------\n",
      "| batch_size        | 32        |\n",
      "| bc/               |           |\n",
      "|    batch          | 0         |\n",
      "|    ent_loss       | -7.24e-07 |\n",
      "|    entropy        | 0.000724  |\n",
      "|    epoch          | 0         |\n",
      "|    l2_loss        | 0         |\n",
      "|    l2_norm        | 1.85e+05  |\n",
      "|    loss           | 5.97e-05  |\n",
      "|    neglogp        | 6.04e-05  |\n",
      "|    prob_true_act  | 1         |\n",
      "|    samples_so_far | 32        |\n",
      "---------------------------------\n"
     ]
    },
    {
     "name": "stderr",
     "output_type": "stream",
     "text": [
      "246batch [00:04, 54.19batch/s]\n",
      "0batch [00:00, ?batch/s]"
     ]
    },
    {
     "name": "stdout",
     "output_type": "stream",
     "text": [
      "---------------------------------\n",
      "| batch_size        | 32        |\n",
      "| bc/               |           |\n",
      "|    batch          | 0         |\n",
      "|    ent_loss       | -6.01e-07 |\n",
      "|    entropy        | 0.000601  |\n",
      "|    epoch          | 0         |\n",
      "|    l2_loss        | 0         |\n",
      "|    l2_norm        | 1.86e+05  |\n",
      "|    loss           | 4.92e-05  |\n",
      "|    neglogp        | 4.98e-05  |\n",
      "|    prob_true_act  | 1         |\n",
      "|    samples_so_far | 32        |\n",
      "---------------------------------\n"
     ]
    },
    {
     "name": "stderr",
     "output_type": "stream",
     "text": [
      "246batch [00:04, 55.02batch/s]\n",
      "0batch [00:00, ?batch/s]"
     ]
    },
    {
     "name": "stdout",
     "output_type": "stream",
     "text": [
      "---------------------------------\n",
      "| batch_size        | 32        |\n",
      "| bc/               |           |\n",
      "|    batch          | 0         |\n",
      "|    ent_loss       | -0.000106 |\n",
      "|    entropy        | 0.106     |\n",
      "|    epoch          | 0         |\n",
      "|    l2_loss        | 0         |\n",
      "|    l2_norm        | 1.86e+05  |\n",
      "|    loss           | 0.122     |\n",
      "|    neglogp        | 0.122     |\n",
      "|    prob_true_act  | 0.932     |\n",
      "|    samples_so_far | 32        |\n",
      "---------------------------------\n"
     ]
    },
    {
     "name": "stderr",
     "output_type": "stream",
     "text": [
      "246batch [00:04, 55.45batch/s]\n",
      "0batch [00:00, ?batch/s]"
     ]
    },
    {
     "name": "stdout",
     "output_type": "stream",
     "text": [
      "---------------------------------\n",
      "| batch_size        | 32        |\n",
      "| bc/               |           |\n",
      "|    batch          | 0         |\n",
      "|    ent_loss       | -4.28e-05 |\n",
      "|    entropy        | 0.0428    |\n",
      "|    epoch          | 0         |\n",
      "|    l2_loss        | 0         |\n",
      "|    l2_norm        | 1.86e+05  |\n",
      "|    loss           | 0.0685    |\n",
      "|    neglogp        | 0.0685    |\n",
      "|    prob_true_act  | 0.959     |\n",
      "|    samples_so_far | 32        |\n",
      "---------------------------------\n"
     ]
    },
    {
     "name": "stderr",
     "output_type": "stream",
     "text": [
      "246batch [00:04, 54.34batch/s]\n"
     ]
    },
    {
     "name": "stdout",
     "output_type": "stream",
     "text": [
      "Checkpoint saved at checkpoints\\bc_model_epoch_850.zip\n"
     ]
    },
    {
     "name": "stderr",
     "output_type": "stream",
     "text": [
      "0batch [00:00, ?batch/s]"
     ]
    },
    {
     "name": "stdout",
     "output_type": "stream",
     "text": [
      "---------------------------------\n",
      "| batch_size        | 32        |\n",
      "| bc/               |           |\n",
      "|    batch          | 0         |\n",
      "|    ent_loss       | -1.23e-06 |\n",
      "|    entropy        | 0.00123   |\n",
      "|    epoch          | 0         |\n",
      "|    l2_loss        | 0         |\n",
      "|    l2_norm        | 1.86e+05  |\n",
      "|    loss           | 0.000106  |\n",
      "|    neglogp        | 0.000107  |\n",
      "|    prob_true_act  | 1         |\n",
      "|    samples_so_far | 32        |\n",
      "---------------------------------\n"
     ]
    },
    {
     "name": "stderr",
     "output_type": "stream",
     "text": [
      "246batch [00:04, 53.52batch/s]\n",
      "0batch [00:00, ?batch/s]"
     ]
    },
    {
     "name": "stdout",
     "output_type": "stream",
     "text": [
      "---------------------------------\n",
      "| batch_size        | 32        |\n",
      "| bc/               |           |\n",
      "|    batch          | 0         |\n",
      "|    ent_loss       | -4.65e-05 |\n",
      "|    entropy        | 0.0465    |\n",
      "|    epoch          | 0         |\n",
      "|    l2_loss        | 0         |\n",
      "|    l2_norm        | 1.86e+05  |\n",
      "|    loss           | 0.0417    |\n",
      "|    neglogp        | 0.0418    |\n",
      "|    prob_true_act  | 0.969     |\n",
      "|    samples_so_far | 32        |\n",
      "---------------------------------\n"
     ]
    },
    {
     "name": "stderr",
     "output_type": "stream",
     "text": [
      "246batch [00:04, 52.62batch/s]\n",
      "0batch [00:00, ?batch/s]"
     ]
    },
    {
     "name": "stdout",
     "output_type": "stream",
     "text": [
      "---------------------------------\n",
      "| batch_size        | 32        |\n",
      "| bc/               |           |\n",
      "|    batch          | 0         |\n",
      "|    ent_loss       | -2.34e-05 |\n",
      "|    entropy        | 0.0234    |\n",
      "|    epoch          | 0         |\n",
      "|    l2_loss        | 0         |\n",
      "|    l2_norm        | 1.86e+05  |\n",
      "|    loss           | 0.0269    |\n",
      "|    neglogp        | 0.0269    |\n",
      "|    prob_true_act  | 0.982     |\n",
      "|    samples_so_far | 32        |\n",
      "---------------------------------\n"
     ]
    },
    {
     "name": "stderr",
     "output_type": "stream",
     "text": [
      "246batch [00:04, 54.87batch/s]\n",
      "0batch [00:00, ?batch/s]"
     ]
    },
    {
     "name": "stdout",
     "output_type": "stream",
     "text": [
      "---------------------------------\n",
      "| batch_size        | 32        |\n",
      "| bc/               |           |\n",
      "|    batch          | 0         |\n",
      "|    ent_loss       | -7.84e-06 |\n",
      "|    entropy        | 0.00784   |\n",
      "|    epoch          | 0         |\n",
      "|    l2_loss        | 0         |\n",
      "|    l2_norm        | 1.86e+05  |\n",
      "|    loss           | 0.00162   |\n",
      "|    neglogp        | 0.00163   |\n",
      "|    prob_true_act  | 0.998     |\n",
      "|    samples_so_far | 32        |\n",
      "---------------------------------\n"
     ]
    },
    {
     "name": "stderr",
     "output_type": "stream",
     "text": [
      "246batch [00:04, 54.47batch/s]\n",
      "0batch [00:00, ?batch/s]"
     ]
    },
    {
     "name": "stdout",
     "output_type": "stream",
     "text": [
      "---------------------------------\n",
      "| batch_size        | 32        |\n",
      "| bc/               |           |\n",
      "|    batch          | 0         |\n",
      "|    ent_loss       | -3.16e-05 |\n",
      "|    entropy        | 0.0316    |\n",
      "|    epoch          | 0         |\n",
      "|    l2_loss        | 0         |\n",
      "|    l2_norm        | 1.86e+05  |\n",
      "|    loss           | 0.0068    |\n",
      "|    neglogp        | 0.00683   |\n",
      "|    prob_true_act  | 0.993     |\n",
      "|    samples_so_far | 32        |\n",
      "---------------------------------\n"
     ]
    },
    {
     "name": "stderr",
     "output_type": "stream",
     "text": [
      "246batch [00:04, 54.80batch/s]\n",
      "0batch [00:00, ?batch/s]"
     ]
    },
    {
     "name": "stdout",
     "output_type": "stream",
     "text": [
      "---------------------------------\n",
      "| batch_size        | 32        |\n",
      "| bc/               |           |\n",
      "|    batch          | 0         |\n",
      "|    ent_loss       | -2.39e-06 |\n",
      "|    entropy        | 0.00239   |\n",
      "|    epoch          | 0         |\n",
      "|    l2_loss        | 0         |\n",
      "|    l2_norm        | 1.86e+05  |\n",
      "|    loss           | 0.000251  |\n",
      "|    neglogp        | 0.000253  |\n",
      "|    prob_true_act  | 1         |\n",
      "|    samples_so_far | 32        |\n",
      "---------------------------------\n"
     ]
    },
    {
     "name": "stderr",
     "output_type": "stream",
     "text": [
      "246batch [00:04, 55.09batch/s]\n",
      "0batch [00:00, ?batch/s]"
     ]
    },
    {
     "name": "stdout",
     "output_type": "stream",
     "text": [
      "---------------------------------\n",
      "| batch_size        | 32        |\n",
      "| bc/               |           |\n",
      "|    batch          | 0         |\n",
      "|    ent_loss       | -7.48e-07 |\n",
      "|    entropy        | 0.000748  |\n",
      "|    epoch          | 0         |\n",
      "|    l2_loss        | 0         |\n",
      "|    l2_norm        | 1.86e+05  |\n",
      "|    loss           | 6.39e-05  |\n",
      "|    neglogp        | 6.47e-05  |\n",
      "|    prob_true_act  | 1         |\n",
      "|    samples_so_far | 32        |\n",
      "---------------------------------\n"
     ]
    },
    {
     "name": "stderr",
     "output_type": "stream",
     "text": [
      "246batch [00:04, 54.14batch/s]\n",
      "0batch [00:00, ?batch/s]"
     ]
    },
    {
     "name": "stdout",
     "output_type": "stream",
     "text": [
      "---------------------------------\n",
      "| batch_size        | 32        |\n",
      "| bc/               |           |\n",
      "|    batch          | 0         |\n",
      "|    ent_loss       | -4.67e-05 |\n",
      "|    entropy        | 0.0467    |\n",
      "|    epoch          | 0         |\n",
      "|    l2_loss        | 0         |\n",
      "|    l2_norm        | 1.86e+05  |\n",
      "|    loss           | 0.0379    |\n",
      "|    neglogp        | 0.038     |\n",
      "|    prob_true_act  | 0.971     |\n",
      "|    samples_so_far | 32        |\n",
      "---------------------------------\n"
     ]
    },
    {
     "name": "stderr",
     "output_type": "stream",
     "text": [
      "246batch [00:04, 54.81batch/s]\n",
      "0batch [00:00, ?batch/s]"
     ]
    },
    {
     "name": "stdout",
     "output_type": "stream",
     "text": [
      "---------------------------------\n",
      "| batch_size        | 32        |\n",
      "| bc/               |           |\n",
      "|    batch          | 0         |\n",
      "|    ent_loss       | -2.19e-05 |\n",
      "|    entropy        | 0.0219    |\n",
      "|    epoch          | 0         |\n",
      "|    l2_loss        | 0         |\n",
      "|    l2_norm        | 1.86e+05  |\n",
      "|    loss           | 0.0113    |\n",
      "|    neglogp        | 0.0113    |\n",
      "|    prob_true_act  | 0.99      |\n",
      "|    samples_so_far | 32        |\n",
      "---------------------------------\n"
     ]
    },
    {
     "name": "stderr",
     "output_type": "stream",
     "text": [
      "246batch [00:04, 55.16batch/s]\n",
      "0batch [00:00, ?batch/s]"
     ]
    },
    {
     "name": "stdout",
     "output_type": "stream",
     "text": [
      "---------------------------------\n",
      "| batch_size        | 32        |\n",
      "| bc/               |           |\n",
      "|    batch          | 0         |\n",
      "|    ent_loss       | -1.31e-06 |\n",
      "|    entropy        | 0.00131   |\n",
      "|    epoch          | 0         |\n",
      "|    l2_loss        | 0         |\n",
      "|    l2_norm        | 1.86e+05  |\n",
      "|    loss           | 0.000151  |\n",
      "|    neglogp        | 0.000152  |\n",
      "|    prob_true_act  | 1         |\n",
      "|    samples_so_far | 32        |\n",
      "---------------------------------\n"
     ]
    },
    {
     "name": "stderr",
     "output_type": "stream",
     "text": [
      "246batch [00:04, 53.36batch/s]\n",
      "0batch [00:00, ?batch/s]"
     ]
    },
    {
     "name": "stdout",
     "output_type": "stream",
     "text": [
      "---------------------------------\n",
      "| batch_size        | 32        |\n",
      "| bc/               |           |\n",
      "|    batch          | 0         |\n",
      "|    ent_loss       | -4.89e-05 |\n",
      "|    entropy        | 0.0489    |\n",
      "|    epoch          | 0         |\n",
      "|    l2_loss        | 0         |\n",
      "|    l2_norm        | 1.86e+05  |\n",
      "|    loss           | 0.0863    |\n",
      "|    neglogp        | 0.0863    |\n",
      "|    prob_true_act  | 0.954     |\n",
      "|    samples_so_far | 32        |\n",
      "---------------------------------\n"
     ]
    },
    {
     "name": "stderr",
     "output_type": "stream",
     "text": [
      "246batch [00:04, 55.12batch/s]\n",
      "0batch [00:00, ?batch/s]"
     ]
    },
    {
     "name": "stdout",
     "output_type": "stream",
     "text": [
      "--------------------------------\n",
      "| batch_size        | 32       |\n",
      "| bc/               |          |\n",
      "|    batch          | 0        |\n",
      "|    ent_loss       | -3e-05   |\n",
      "|    entropy        | 0.03     |\n",
      "|    epoch          | 0        |\n",
      "|    l2_loss        | 0        |\n",
      "|    l2_norm        | 1.86e+05 |\n",
      "|    loss           | 0.044    |\n",
      "|    neglogp        | 0.044    |\n",
      "|    prob_true_act  | 0.976    |\n",
      "|    samples_so_far | 32       |\n",
      "--------------------------------\n"
     ]
    },
    {
     "name": "stderr",
     "output_type": "stream",
     "text": [
      "246batch [00:04, 55.16batch/s]\n",
      "0batch [00:00, ?batch/s]"
     ]
    },
    {
     "name": "stdout",
     "output_type": "stream",
     "text": [
      "---------------------------------\n",
      "| batch_size        | 32        |\n",
      "| bc/               |           |\n",
      "|    batch          | 0         |\n",
      "|    ent_loss       | -2.38e-05 |\n",
      "|    entropy        | 0.0238    |\n",
      "|    epoch          | 0         |\n",
      "|    l2_loss        | 0         |\n",
      "|    l2_norm        | 1.87e+05  |\n",
      "|    loss           | 0.0238    |\n",
      "|    neglogp        | 0.0238    |\n",
      "|    prob_true_act  | 0.983     |\n",
      "|    samples_so_far | 32        |\n",
      "---------------------------------\n"
     ]
    },
    {
     "name": "stderr",
     "output_type": "stream",
     "text": [
      "246batch [00:04, 53.69batch/s]\n",
      "0batch [00:00, ?batch/s]"
     ]
    },
    {
     "name": "stdout",
     "output_type": "stream",
     "text": [
      "---------------------------------\n",
      "| batch_size        | 32        |\n",
      "| bc/               |           |\n",
      "|    batch          | 0         |\n",
      "|    ent_loss       | -5.36e-05 |\n",
      "|    entropy        | 0.0536    |\n",
      "|    epoch          | 0         |\n",
      "|    l2_loss        | 0         |\n",
      "|    l2_norm        | 1.87e+05  |\n",
      "|    loss           | 0.0355    |\n",
      "|    neglogp        | 0.0355    |\n",
      "|    prob_true_act  | 0.973     |\n",
      "|    samples_so_far | 32        |\n",
      "---------------------------------\n"
     ]
    },
    {
     "name": "stderr",
     "output_type": "stream",
     "text": [
      "246batch [00:04, 54.59batch/s]\n",
      "0batch [00:00, ?batch/s]"
     ]
    },
    {
     "name": "stdout",
     "output_type": "stream",
     "text": [
      "---------------------------------\n",
      "| batch_size        | 32        |\n",
      "| bc/               |           |\n",
      "|    batch          | 0         |\n",
      "|    ent_loss       | -2.36e-05 |\n",
      "|    entropy        | 0.0236    |\n",
      "|    epoch          | 0         |\n",
      "|    l2_loss        | 0         |\n",
      "|    l2_norm        | 1.87e+05  |\n",
      "|    loss           | 0.0282    |\n",
      "|    neglogp        | 0.0283    |\n",
      "|    prob_true_act  | 0.981     |\n",
      "|    samples_so_far | 32        |\n",
      "---------------------------------\n"
     ]
    },
    {
     "name": "stderr",
     "output_type": "stream",
     "text": [
      "246batch [00:04, 55.13batch/s]\n",
      "0batch [00:00, ?batch/s]"
     ]
    },
    {
     "name": "stdout",
     "output_type": "stream",
     "text": [
      "---------------------------------\n",
      "| batch_size        | 32        |\n",
      "| bc/               |           |\n",
      "|    batch          | 0         |\n",
      "|    ent_loss       | -3.82e-05 |\n",
      "|    entropy        | 0.0382    |\n",
      "|    epoch          | 0         |\n",
      "|    l2_loss        | 0         |\n",
      "|    l2_norm        | 1.87e+05  |\n",
      "|    loss           | 0.026     |\n",
      "|    neglogp        | 0.026     |\n",
      "|    prob_true_act  | 0.98      |\n",
      "|    samples_so_far | 32        |\n",
      "---------------------------------\n"
     ]
    },
    {
     "name": "stderr",
     "output_type": "stream",
     "text": [
      "246batch [00:04, 53.58batch/s]\n",
      "0batch [00:00, ?batch/s]"
     ]
    },
    {
     "name": "stdout",
     "output_type": "stream",
     "text": [
      "---------------------------------\n",
      "| batch_size        | 32        |\n",
      "| bc/               |           |\n",
      "|    batch          | 0         |\n",
      "|    ent_loss       | -1.09e-06 |\n",
      "|    entropy        | 0.00109   |\n",
      "|    epoch          | 0         |\n",
      "|    l2_loss        | 0         |\n",
      "|    l2_norm        | 1.87e+05  |\n",
      "|    loss           | 8.83e-05  |\n",
      "|    neglogp        | 8.94e-05  |\n",
      "|    prob_true_act  | 1         |\n",
      "|    samples_so_far | 32        |\n",
      "---------------------------------\n"
     ]
    },
    {
     "name": "stderr",
     "output_type": "stream",
     "text": [
      "246batch [00:04, 54.53batch/s]\n",
      "0batch [00:00, ?batch/s]"
     ]
    },
    {
     "name": "stdout",
     "output_type": "stream",
     "text": [
      "---------------------------------\n",
      "| batch_size        | 32        |\n",
      "| bc/               |           |\n",
      "|    batch          | 0         |\n",
      "|    ent_loss       | -3.93e-05 |\n",
      "|    entropy        | 0.0393    |\n",
      "|    epoch          | 0         |\n",
      "|    l2_loss        | 0         |\n",
      "|    l2_norm        | 1.87e+05  |\n",
      "|    loss           | 0.0456    |\n",
      "|    neglogp        | 0.0457    |\n",
      "|    prob_true_act  | 0.97      |\n",
      "|    samples_so_far | 32        |\n",
      "---------------------------------\n"
     ]
    },
    {
     "name": "stderr",
     "output_type": "stream",
     "text": [
      "246batch [00:04, 55.44batch/s]\n",
      "0batch [00:00, ?batch/s]"
     ]
    },
    {
     "name": "stdout",
     "output_type": "stream",
     "text": [
      "---------------------------------\n",
      "| batch_size        | 32        |\n",
      "| bc/               |           |\n",
      "|    batch          | 0         |\n",
      "|    ent_loss       | -7.17e-07 |\n",
      "|    entropy        | 0.000717  |\n",
      "|    epoch          | 0         |\n",
      "|    l2_loss        | 0         |\n",
      "|    l2_norm        | 1.87e+05  |\n",
      "|    loss           | 6.04e-05  |\n",
      "|    neglogp        | 6.12e-05  |\n",
      "|    prob_true_act  | 1         |\n",
      "|    samples_so_far | 32        |\n",
      "---------------------------------\n"
     ]
    },
    {
     "name": "stderr",
     "output_type": "stream",
     "text": [
      "246batch [00:04, 53.93batch/s]\n",
      "0batch [00:00, ?batch/s]"
     ]
    },
    {
     "name": "stdout",
     "output_type": "stream",
     "text": [
      "---------------------------------\n",
      "| batch_size        | 32        |\n",
      "| bc/               |           |\n",
      "|    batch          | 0         |\n",
      "|    ent_loss       | -5.19e-07 |\n",
      "|    entropy        | 0.000519  |\n",
      "|    epoch          | 0         |\n",
      "|    l2_loss        | 0         |\n",
      "|    l2_norm        | 1.87e+05  |\n",
      "|    loss           | 4.1e-05   |\n",
      "|    neglogp        | 4.15e-05  |\n",
      "|    prob_true_act  | 1         |\n",
      "|    samples_so_far | 32        |\n",
      "---------------------------------\n"
     ]
    },
    {
     "name": "stderr",
     "output_type": "stream",
     "text": [
      "246batch [00:04, 54.87batch/s]\n",
      "0batch [00:00, ?batch/s]"
     ]
    },
    {
     "name": "stdout",
     "output_type": "stream",
     "text": [
      "---------------------------------\n",
      "| batch_size        | 32        |\n",
      "| bc/               |           |\n",
      "|    batch          | 0         |\n",
      "|    ent_loss       | -4.11e-07 |\n",
      "|    entropy        | 0.000411  |\n",
      "|    epoch          | 0         |\n",
      "|    l2_loss        | 0         |\n",
      "|    l2_norm        | 1.87e+05  |\n",
      "|    loss           | 3.15e-05  |\n",
      "|    neglogp        | 3.19e-05  |\n",
      "|    prob_true_act  | 1         |\n",
      "|    samples_so_far | 32        |\n",
      "---------------------------------\n"
     ]
    },
    {
     "name": "stderr",
     "output_type": "stream",
     "text": [
      "246batch [00:04, 55.10batch/s]\n",
      "0batch [00:00, ?batch/s]"
     ]
    },
    {
     "name": "stdout",
     "output_type": "stream",
     "text": [
      "---------------------------------\n",
      "| batch_size        | 32        |\n",
      "| bc/               |           |\n",
      "|    batch          | 0         |\n",
      "|    ent_loss       | -6.54e-05 |\n",
      "|    entropy        | 0.0654    |\n",
      "|    epoch          | 0         |\n",
      "|    l2_loss        | 0         |\n",
      "|    l2_norm        | 1.87e+05  |\n",
      "|    loss           | 0.0718    |\n",
      "|    neglogp        | 0.0719    |\n",
      "|    prob_true_act  | 0.958     |\n",
      "|    samples_so_far | 32        |\n",
      "---------------------------------\n"
     ]
    },
    {
     "name": "stderr",
     "output_type": "stream",
     "text": [
      "246batch [00:04, 54.22batch/s]\n",
      "0batch [00:00, ?batch/s]"
     ]
    },
    {
     "name": "stdout",
     "output_type": "stream",
     "text": [
      "---------------------------------\n",
      "| batch_size        | 32        |\n",
      "| bc/               |           |\n",
      "|    batch          | 0         |\n",
      "|    ent_loss       | -2.66e-05 |\n",
      "|    entropy        | 0.0266    |\n",
      "|    epoch          | 0         |\n",
      "|    l2_loss        | 0         |\n",
      "|    l2_norm        | 1.88e+05  |\n",
      "|    loss           | 0.0192    |\n",
      "|    neglogp        | 0.0193    |\n",
      "|    prob_true_act  | 0.986     |\n",
      "|    samples_so_far | 32        |\n",
      "---------------------------------\n"
     ]
    },
    {
     "name": "stderr",
     "output_type": "stream",
     "text": [
      "246batch [00:04, 55.03batch/s]\n",
      "0batch [00:00, ?batch/s]"
     ]
    },
    {
     "name": "stdout",
     "output_type": "stream",
     "text": [
      "---------------------------------\n",
      "| batch_size        | 32        |\n",
      "| bc/               |           |\n",
      "|    batch          | 0         |\n",
      "|    ent_loss       | -7.21e-07 |\n",
      "|    entropy        | 0.000721  |\n",
      "|    epoch          | 0         |\n",
      "|    l2_loss        | 0         |\n",
      "|    l2_norm        | 1.88e+05  |\n",
      "|    loss           | 5.75e-05  |\n",
      "|    neglogp        | 5.82e-05  |\n",
      "|    prob_true_act  | 1         |\n",
      "|    samples_so_far | 32        |\n",
      "---------------------------------\n"
     ]
    },
    {
     "name": "stderr",
     "output_type": "stream",
     "text": [
      "246batch [00:04, 55.41batch/s]\n",
      "0batch [00:00, ?batch/s]"
     ]
    },
    {
     "name": "stdout",
     "output_type": "stream",
     "text": [
      "---------------------------------\n",
      "| batch_size        | 32        |\n",
      "| bc/               |           |\n",
      "|    batch          | 0         |\n",
      "|    ent_loss       | -2.11e-05 |\n",
      "|    entropy        | 0.0211    |\n",
      "|    epoch          | 0         |\n",
      "|    l2_loss        | 0         |\n",
      "|    l2_norm        | 1.88e+05  |\n",
      "|    loss           | 0.00379   |\n",
      "|    neglogp        | 0.00381   |\n",
      "|    prob_true_act  | 0.996     |\n",
      "|    samples_so_far | 32        |\n",
      "---------------------------------\n"
     ]
    },
    {
     "name": "stderr",
     "output_type": "stream",
     "text": [
      "246batch [00:04, 53.65batch/s]\n",
      "0batch [00:00, ?batch/s]"
     ]
    },
    {
     "name": "stdout",
     "output_type": "stream",
     "text": [
      "---------------------------------\n",
      "| batch_size        | 32        |\n",
      "| bc/               |           |\n",
      "|    batch          | 0         |\n",
      "|    ent_loss       | -2.74e-05 |\n",
      "|    entropy        | 0.0274    |\n",
      "|    epoch          | 0         |\n",
      "|    l2_loss        | 0         |\n",
      "|    l2_norm        | 1.87e+05  |\n",
      "|    loss           | 0.0122    |\n",
      "|    neglogp        | 0.0122    |\n",
      "|    prob_true_act  | 0.99      |\n",
      "|    samples_so_far | 32        |\n",
      "---------------------------------\n"
     ]
    },
    {
     "name": "stderr",
     "output_type": "stream",
     "text": [
      "246batch [00:04, 54.92batch/s]\n",
      "0batch [00:00, ?batch/s]"
     ]
    },
    {
     "name": "stdout",
     "output_type": "stream",
     "text": [
      "---------------------------------\n",
      "| batch_size        | 32        |\n",
      "| bc/               |           |\n",
      "|    batch          | 0         |\n",
      "|    ent_loss       | -2.36e-05 |\n",
      "|    entropy        | 0.0236    |\n",
      "|    epoch          | 0         |\n",
      "|    l2_loss        | 0         |\n",
      "|    l2_norm        | 1.88e+05  |\n",
      "|    loss           | 0.0136    |\n",
      "|    neglogp        | 0.0136    |\n",
      "|    prob_true_act  | 0.989     |\n",
      "|    samples_so_far | 32        |\n",
      "---------------------------------\n"
     ]
    },
    {
     "name": "stderr",
     "output_type": "stream",
     "text": [
      "246batch [00:04, 54.56batch/s]\n",
      "0batch [00:00, ?batch/s]"
     ]
    },
    {
     "name": "stdout",
     "output_type": "stream",
     "text": [
      "---------------------------------\n",
      "| batch_size        | 32        |\n",
      "| bc/               |           |\n",
      "|    batch          | 0         |\n",
      "|    ent_loss       | -9.35e-07 |\n",
      "|    entropy        | 0.000935  |\n",
      "|    epoch          | 0         |\n",
      "|    l2_loss        | 0         |\n",
      "|    l2_norm        | 1.88e+05  |\n",
      "|    loss           | 8.07e-05  |\n",
      "|    neglogp        | 8.16e-05  |\n",
      "|    prob_true_act  | 1         |\n",
      "|    samples_so_far | 32        |\n",
      "---------------------------------\n"
     ]
    },
    {
     "name": "stderr",
     "output_type": "stream",
     "text": [
      "246batch [00:04, 54.05batch/s]\n",
      "0batch [00:00, ?batch/s]"
     ]
    },
    {
     "name": "stdout",
     "output_type": "stream",
     "text": [
      "---------------------------------\n",
      "| batch_size        | 32        |\n",
      "| bc/               |           |\n",
      "|    batch          | 0         |\n",
      "|    ent_loss       | -1.92e-06 |\n",
      "|    entropy        | 0.00192   |\n",
      "|    epoch          | 0         |\n",
      "|    l2_loss        | 0         |\n",
      "|    l2_norm        | 1.88e+05  |\n",
      "|    loss           | 0.00017   |\n",
      "|    neglogp        | 0.000172  |\n",
      "|    prob_true_act  | 1         |\n",
      "|    samples_so_far | 32        |\n",
      "---------------------------------\n"
     ]
    },
    {
     "name": "stderr",
     "output_type": "stream",
     "text": [
      "246batch [00:04, 54.87batch/s]\n",
      "0batch [00:00, ?batch/s]"
     ]
    },
    {
     "name": "stdout",
     "output_type": "stream",
     "text": [
      "---------------------------------\n",
      "| batch_size        | 32        |\n",
      "| bc/               |           |\n",
      "|    batch          | 0         |\n",
      "|    ent_loss       | -8.01e-07 |\n",
      "|    entropy        | 0.000801  |\n",
      "|    epoch          | 0         |\n",
      "|    l2_loss        | 0         |\n",
      "|    l2_norm        | 1.88e+05  |\n",
      "|    loss           | 6.58e-05  |\n",
      "|    neglogp        | 6.66e-05  |\n",
      "|    prob_true_act  | 1         |\n",
      "|    samples_so_far | 32        |\n",
      "---------------------------------\n"
     ]
    },
    {
     "name": "stderr",
     "output_type": "stream",
     "text": [
      "246batch [00:04, 55.02batch/s]\n",
      "0batch [00:00, ?batch/s]"
     ]
    },
    {
     "name": "stdout",
     "output_type": "stream",
     "text": [
      "---------------------------------\n",
      "| batch_size        | 32        |\n",
      "| bc/               |           |\n",
      "|    batch          | 0         |\n",
      "|    ent_loss       | -1.73e-06 |\n",
      "|    entropy        | 0.00173   |\n",
      "|    epoch          | 0         |\n",
      "|    l2_loss        | 0         |\n",
      "|    l2_norm        | 1.88e+05  |\n",
      "|    loss           | 0.000157  |\n",
      "|    neglogp        | 0.000159  |\n",
      "|    prob_true_act  | 1         |\n",
      "|    samples_so_far | 32        |\n",
      "---------------------------------\n"
     ]
    },
    {
     "name": "stderr",
     "output_type": "stream",
     "text": [
      "246batch [00:04, 53.61batch/s]\n",
      "0batch [00:00, ?batch/s]"
     ]
    },
    {
     "name": "stdout",
     "output_type": "stream",
     "text": [
      "--------------------------------\n",
      "| batch_size        | 32       |\n",
      "| bc/               |          |\n",
      "|    batch          | 0        |\n",
      "|    ent_loss       | -6.8e-05 |\n",
      "|    entropy        | 0.068    |\n",
      "|    epoch          | 0        |\n",
      "|    l2_loss        | 0        |\n",
      "|    l2_norm        | 1.88e+05 |\n",
      "|    loss           | 0.0551   |\n",
      "|    neglogp        | 0.0552   |\n",
      "|    prob_true_act  | 0.964    |\n",
      "|    samples_so_far | 32       |\n",
      "--------------------------------\n"
     ]
    },
    {
     "name": "stderr",
     "output_type": "stream",
     "text": [
      "246batch [00:04, 54.70batch/s]\n",
      "0batch [00:00, ?batch/s]"
     ]
    },
    {
     "name": "stdout",
     "output_type": "stream",
     "text": [
      "--------------------------------\n",
      "| batch_size        | 32       |\n",
      "| bc/               |          |\n",
      "|    batch          | 0        |\n",
      "|    ent_loss       | -1.1e-06 |\n",
      "|    entropy        | 0.0011   |\n",
      "|    epoch          | 0        |\n",
      "|    l2_loss        | 0        |\n",
      "|    l2_norm        | 1.88e+05 |\n",
      "|    loss           | 0.000102 |\n",
      "|    neglogp        | 0.000103 |\n",
      "|    prob_true_act  | 1        |\n",
      "|    samples_so_far | 32       |\n",
      "--------------------------------\n"
     ]
    },
    {
     "name": "stderr",
     "output_type": "stream",
     "text": [
      "246batch [00:04, 53.15batch/s]\n",
      "0batch [00:00, ?batch/s]"
     ]
    },
    {
     "name": "stdout",
     "output_type": "stream",
     "text": [
      "--------------------------------\n",
      "| batch_size        | 32       |\n",
      "| bc/               |          |\n",
      "|    batch          | 0        |\n",
      "|    ent_loss       | -3.1e-07 |\n",
      "|    entropy        | 0.00031  |\n",
      "|    epoch          | 0        |\n",
      "|    l2_loss        | 0        |\n",
      "|    l2_norm        | 1.88e+05 |\n",
      "|    loss           | 2.42e-05 |\n",
      "|    neglogp        | 2.45e-05 |\n",
      "|    prob_true_act  | 1        |\n",
      "|    samples_so_far | 32       |\n",
      "--------------------------------\n"
     ]
    },
    {
     "name": "stderr",
     "output_type": "stream",
     "text": [
      "246batch [00:04, 54.92batch/s]\n",
      "0batch [00:00, ?batch/s]"
     ]
    },
    {
     "name": "stdout",
     "output_type": "stream",
     "text": [
      "---------------------------------\n",
      "| batch_size        | 32        |\n",
      "| bc/               |           |\n",
      "|    batch          | 0         |\n",
      "|    ent_loss       | -3.36e-05 |\n",
      "|    entropy        | 0.0336    |\n",
      "|    epoch          | 0         |\n",
      "|    l2_loss        | 0         |\n",
      "|    l2_norm        | 1.88e+05  |\n",
      "|    loss           | 0.0182    |\n",
      "|    neglogp        | 0.0182    |\n",
      "|    prob_true_act  | 0.986     |\n",
      "|    samples_so_far | 32        |\n",
      "---------------------------------\n"
     ]
    },
    {
     "name": "stderr",
     "output_type": "stream",
     "text": [
      "246batch [00:04, 54.47batch/s]\n",
      "0batch [00:00, ?batch/s]"
     ]
    },
    {
     "name": "stdout",
     "output_type": "stream",
     "text": [
      "---------------------------------\n",
      "| batch_size        | 32        |\n",
      "| bc/               |           |\n",
      "|    batch          | 0         |\n",
      "|    ent_loss       | -1.01e-06 |\n",
      "|    entropy        | 0.00101   |\n",
      "|    epoch          | 0         |\n",
      "|    l2_loss        | 0         |\n",
      "|    l2_norm        | 1.88e+05  |\n",
      "|    loss           | 8.28e-05  |\n",
      "|    neglogp        | 8.38e-05  |\n",
      "|    prob_true_act  | 1         |\n",
      "|    samples_so_far | 32        |\n",
      "---------------------------------\n"
     ]
    },
    {
     "name": "stderr",
     "output_type": "stream",
     "text": [
      "246batch [00:04, 54.26batch/s]\n",
      "0batch [00:00, ?batch/s]"
     ]
    },
    {
     "name": "stdout",
     "output_type": "stream",
     "text": [
      "---------------------------------\n",
      "| batch_size        | 32        |\n",
      "| bc/               |           |\n",
      "|    batch          | 0         |\n",
      "|    ent_loss       | -3.48e-05 |\n",
      "|    entropy        | 0.0348    |\n",
      "|    epoch          | 0         |\n",
      "|    l2_loss        | 0         |\n",
      "|    l2_norm        | 1.88e+05  |\n",
      "|    loss           | 0.0207    |\n",
      "|    neglogp        | 0.0208    |\n",
      "|    prob_true_act  | 0.985     |\n",
      "|    samples_so_far | 32        |\n",
      "---------------------------------\n"
     ]
    },
    {
     "name": "stderr",
     "output_type": "stream",
     "text": [
      "246batch [00:04, 55.11batch/s]\n",
      "0batch [00:00, ?batch/s]"
     ]
    },
    {
     "name": "stdout",
     "output_type": "stream",
     "text": [
      "---------------------------------\n",
      "| batch_size        | 32        |\n",
      "| bc/               |           |\n",
      "|    batch          | 0         |\n",
      "|    ent_loss       | -1.71e-06 |\n",
      "|    entropy        | 0.00171   |\n",
      "|    epoch          | 0         |\n",
      "|    l2_loss        | 0         |\n",
      "|    l2_norm        | 1.88e+05  |\n",
      "|    loss           | 0.00015   |\n",
      "|    neglogp        | 0.000152  |\n",
      "|    prob_true_act  | 1         |\n",
      "|    samples_so_far | 32        |\n",
      "---------------------------------\n"
     ]
    },
    {
     "name": "stderr",
     "output_type": "stream",
     "text": [
      "246batch [00:04, 54.96batch/s]\n",
      "0batch [00:00, ?batch/s]"
     ]
    },
    {
     "name": "stdout",
     "output_type": "stream",
     "text": [
      "--------------------------------\n",
      "| batch_size        | 32       |\n",
      "| bc/               |          |\n",
      "|    batch          | 0        |\n",
      "|    ent_loss       | -6.4e-07 |\n",
      "|    entropy        | 0.00064  |\n",
      "|    epoch          | 0        |\n",
      "|    l2_loss        | 0        |\n",
      "|    l2_norm        | 1.89e+05 |\n",
      "|    loss           | 5.18e-05 |\n",
      "|    neglogp        | 5.25e-05 |\n",
      "|    prob_true_act  | 1        |\n",
      "|    samples_so_far | 32       |\n",
      "--------------------------------\n"
     ]
    },
    {
     "name": "stderr",
     "output_type": "stream",
     "text": [
      "246batch [00:04, 54.20batch/s]\n",
      "0batch [00:00, ?batch/s]"
     ]
    },
    {
     "name": "stdout",
     "output_type": "stream",
     "text": [
      "---------------------------------\n",
      "| batch_size        | 32        |\n",
      "| bc/               |           |\n",
      "|    batch          | 0         |\n",
      "|    ent_loss       | -1.89e-05 |\n",
      "|    entropy        | 0.0189    |\n",
      "|    epoch          | 0         |\n",
      "|    l2_loss        | 0         |\n",
      "|    l2_norm        | 1.89e+05  |\n",
      "|    loss           | 0.00847   |\n",
      "|    neglogp        | 0.00849   |\n",
      "|    prob_true_act  | 0.993     |\n",
      "|    samples_so_far | 32        |\n",
      "---------------------------------\n"
     ]
    },
    {
     "name": "stderr",
     "output_type": "stream",
     "text": [
      "246batch [00:04, 55.16batch/s]\n",
      "0batch [00:00, ?batch/s]"
     ]
    },
    {
     "name": "stdout",
     "output_type": "stream",
     "text": [
      "---------------------------------\n",
      "| batch_size        | 32        |\n",
      "| bc/               |           |\n",
      "|    batch          | 0         |\n",
      "|    ent_loss       | -1.02e-06 |\n",
      "|    entropy        | 0.00102   |\n",
      "|    epoch          | 0         |\n",
      "|    l2_loss        | 0         |\n",
      "|    l2_norm        | 1.89e+05  |\n",
      "|    loss           | 8.71e-05  |\n",
      "|    neglogp        | 8.81e-05  |\n",
      "|    prob_true_act  | 1         |\n",
      "|    samples_so_far | 32        |\n",
      "---------------------------------\n"
     ]
    },
    {
     "name": "stderr",
     "output_type": "stream",
     "text": [
      "246batch [00:04, 54.80batch/s]\n",
      "0batch [00:00, ?batch/s]"
     ]
    },
    {
     "name": "stdout",
     "output_type": "stream",
     "text": [
      "---------------------------------\n",
      "| batch_size        | 32        |\n",
      "| bc/               |           |\n",
      "|    batch          | 0         |\n",
      "|    ent_loss       | -4.44e-07 |\n",
      "|    entropy        | 0.000444  |\n",
      "|    epoch          | 0         |\n",
      "|    l2_loss        | 0         |\n",
      "|    l2_norm        | 1.89e+05  |\n",
      "|    loss           | 3.54e-05  |\n",
      "|    neglogp        | 3.59e-05  |\n",
      "|    prob_true_act  | 1         |\n",
      "|    samples_so_far | 32        |\n",
      "---------------------------------\n"
     ]
    },
    {
     "name": "stderr",
     "output_type": "stream",
     "text": [
      "246batch [00:04, 51.36batch/s]\n",
      "0batch [00:00, ?batch/s]"
     ]
    },
    {
     "name": "stdout",
     "output_type": "stream",
     "text": [
      "---------------------------------\n",
      "| batch_size        | 32        |\n",
      "| bc/               |           |\n",
      "|    batch          | 0         |\n",
      "|    ent_loss       | -6.99e-05 |\n",
      "|    entropy        | 0.0699    |\n",
      "|    epoch          | 0         |\n",
      "|    l2_loss        | 0         |\n",
      "|    l2_norm        | 1.89e+05  |\n",
      "|    loss           | 0.0579    |\n",
      "|    neglogp        | 0.058     |\n",
      "|    prob_true_act  | 0.957     |\n",
      "|    samples_so_far | 32        |\n",
      "---------------------------------\n"
     ]
    },
    {
     "name": "stderr",
     "output_type": "stream",
     "text": [
      "246batch [00:04, 54.90batch/s]\n",
      "0batch [00:00, ?batch/s]"
     ]
    },
    {
     "name": "stdout",
     "output_type": "stream",
     "text": [
      "---------------------------------\n",
      "| batch_size        | 32        |\n",
      "| bc/               |           |\n",
      "|    batch          | 0         |\n",
      "|    ent_loss       | -3.17e-05 |\n",
      "|    entropy        | 0.0317    |\n",
      "|    epoch          | 0         |\n",
      "|    l2_loss        | 0         |\n",
      "|    l2_norm        | 1.89e+05  |\n",
      "|    loss           | 0.0156    |\n",
      "|    neglogp        | 0.0156    |\n",
      "|    prob_true_act  | 0.988     |\n",
      "|    samples_so_far | 32        |\n",
      "---------------------------------\n"
     ]
    },
    {
     "name": "stderr",
     "output_type": "stream",
     "text": [
      "246batch [00:04, 53.74batch/s]\n",
      "0batch [00:00, ?batch/s]"
     ]
    },
    {
     "name": "stdout",
     "output_type": "stream",
     "text": [
      "---------------------------------\n",
      "| batch_size        | 32        |\n",
      "| bc/               |           |\n",
      "|    batch          | 0         |\n",
      "|    ent_loss       | -1.72e-05 |\n",
      "|    entropy        | 0.0172    |\n",
      "|    epoch          | 0         |\n",
      "|    l2_loss        | 0         |\n",
      "|    l2_norm        | 1.89e+05  |\n",
      "|    loss           | 0.0065    |\n",
      "|    neglogp        | 0.00652   |\n",
      "|    prob_true_act  | 0.994     |\n",
      "|    samples_so_far | 32        |\n",
      "---------------------------------\n"
     ]
    },
    {
     "name": "stderr",
     "output_type": "stream",
     "text": [
      "246batch [00:04, 55.02batch/s]\n",
      "0batch [00:00, ?batch/s]"
     ]
    },
    {
     "name": "stdout",
     "output_type": "stream",
     "text": [
      "---------------------------------\n",
      "| batch_size        | 32        |\n",
      "| bc/               |           |\n",
      "|    batch          | 0         |\n",
      "|    ent_loss       | -4.94e-07 |\n",
      "|    entropy        | 0.000494  |\n",
      "|    epoch          | 0         |\n",
      "|    l2_loss        | 0         |\n",
      "|    l2_norm        | 1.89e+05  |\n",
      "|    loss           | 3.9e-05   |\n",
      "|    neglogp        | 3.95e-05  |\n",
      "|    prob_true_act  | 1         |\n",
      "|    samples_so_far | 32        |\n",
      "---------------------------------\n"
     ]
    },
    {
     "name": "stderr",
     "output_type": "stream",
     "text": [
      "246batch [00:04, 55.24batch/s]\n",
      "0batch [00:00, ?batch/s]"
     ]
    },
    {
     "name": "stdout",
     "output_type": "stream",
     "text": [
      "---------------------------------\n",
      "| batch_size        | 32        |\n",
      "| bc/               |           |\n",
      "|    batch          | 0         |\n",
      "|    ent_loss       | -2.35e-05 |\n",
      "|    entropy        | 0.0235    |\n",
      "|    epoch          | 0         |\n",
      "|    l2_loss        | 0         |\n",
      "|    l2_norm        | 1.9e+05   |\n",
      "|    loss           | 0.0183    |\n",
      "|    neglogp        | 0.0183    |\n",
      "|    prob_true_act  | 0.986     |\n",
      "|    samples_so_far | 32        |\n",
      "---------------------------------\n"
     ]
    },
    {
     "name": "stderr",
     "output_type": "stream",
     "text": [
      "246batch [00:04, 54.48batch/s]\n",
      "0batch [00:00, ?batch/s]"
     ]
    },
    {
     "name": "stdout",
     "output_type": "stream",
     "text": [
      "---------------------------------\n",
      "| batch_size        | 32        |\n",
      "| bc/               |           |\n",
      "|    batch          | 0         |\n",
      "|    ent_loss       | -9.31e-07 |\n",
      "|    entropy        | 0.000931  |\n",
      "|    epoch          | 0         |\n",
      "|    l2_loss        | 0         |\n",
      "|    l2_norm        | 1.9e+05   |\n",
      "|    loss           | 7.99e-05  |\n",
      "|    neglogp        | 8.08e-05  |\n",
      "|    prob_true_act  | 1         |\n",
      "|    samples_so_far | 32        |\n",
      "---------------------------------\n"
     ]
    },
    {
     "name": "stderr",
     "output_type": "stream",
     "text": [
      "246batch [00:04, 54.27batch/s]\n",
      "0batch [00:00, ?batch/s]"
     ]
    },
    {
     "name": "stdout",
     "output_type": "stream",
     "text": [
      "---------------------------------\n",
      "| batch_size        | 32        |\n",
      "| bc/               |           |\n",
      "|    batch          | 0         |\n",
      "|    ent_loss       | -3.57e-05 |\n",
      "|    entropy        | 0.0357    |\n",
      "|    epoch          | 0         |\n",
      "|    l2_loss        | 0         |\n",
      "|    l2_norm        | 1.9e+05   |\n",
      "|    loss           | 0.02      |\n",
      "|    neglogp        | 0.02      |\n",
      "|    prob_true_act  | 0.985     |\n",
      "|    samples_so_far | 32        |\n",
      "---------------------------------\n"
     ]
    },
    {
     "name": "stderr",
     "output_type": "stream",
     "text": [
      "246batch [00:04, 54.94batch/s]\n",
      "0batch [00:00, ?batch/s]"
     ]
    },
    {
     "name": "stdout",
     "output_type": "stream",
     "text": [
      "---------------------------------\n",
      "| batch_size        | 32        |\n",
      "| bc/               |           |\n",
      "|    batch          | 0         |\n",
      "|    ent_loss       | -9.29e-06 |\n",
      "|    entropy        | 0.00929   |\n",
      "|    epoch          | 0         |\n",
      "|    l2_loss        | 0         |\n",
      "|    l2_norm        | 1.9e+05   |\n",
      "|    loss           | 0.00115   |\n",
      "|    neglogp        | 0.00116   |\n",
      "|    prob_true_act  | 0.999     |\n",
      "|    samples_so_far | 32        |\n",
      "---------------------------------\n"
     ]
    },
    {
     "name": "stderr",
     "output_type": "stream",
     "text": [
      "246batch [00:04, 53.89batch/s]\n"
     ]
    },
    {
     "name": "stdout",
     "output_type": "stream",
     "text": [
      "Checkpoint saved at checkpoints\\bc_model_epoch_900.zip\n"
     ]
    },
    {
     "name": "stderr",
     "output_type": "stream",
     "text": [
      "0batch [00:00, ?batch/s]"
     ]
    },
    {
     "name": "stdout",
     "output_type": "stream",
     "text": [
      "---------------------------------\n",
      "| batch_size        | 32        |\n",
      "| bc/               |           |\n",
      "|    batch          | 0         |\n",
      "|    ent_loss       | -2.44e-05 |\n",
      "|    entropy        | 0.0244    |\n",
      "|    epoch          | 0         |\n",
      "|    l2_loss        | 0         |\n",
      "|    l2_norm        | 1.9e+05   |\n",
      "|    loss           | 0.0282    |\n",
      "|    neglogp        | 0.0282    |\n",
      "|    prob_true_act  | 0.981     |\n",
      "|    samples_so_far | 32        |\n",
      "---------------------------------\n"
     ]
    },
    {
     "name": "stderr",
     "output_type": "stream",
     "text": [
      "246batch [00:04, 53.93batch/s]\n",
      "0batch [00:00, ?batch/s]"
     ]
    },
    {
     "name": "stdout",
     "output_type": "stream",
     "text": [
      "---------------------------------\n",
      "| batch_size        | 32        |\n",
      "| bc/               |           |\n",
      "|    batch          | 0         |\n",
      "|    ent_loss       | -1.38e-06 |\n",
      "|    entropy        | 0.00138   |\n",
      "|    epoch          | 0         |\n",
      "|    l2_loss        | 0         |\n",
      "|    l2_norm        | 1.9e+05   |\n",
      "|    loss           | 0.000119  |\n",
      "|    neglogp        | 0.000121  |\n",
      "|    prob_true_act  | 1         |\n",
      "|    samples_so_far | 32        |\n",
      "---------------------------------\n"
     ]
    },
    {
     "name": "stderr",
     "output_type": "stream",
     "text": [
      "246batch [00:04, 54.31batch/s]\n",
      "0batch [00:00, ?batch/s]"
     ]
    },
    {
     "name": "stdout",
     "output_type": "stream",
     "text": [
      "--------------------------------\n",
      "| batch_size        | 32       |\n",
      "| bc/               |          |\n",
      "|    batch          | 0        |\n",
      "|    ent_loss       | -6e-07   |\n",
      "|    entropy        | 0.0006   |\n",
      "|    epoch          | 0        |\n",
      "|    l2_loss        | 0        |\n",
      "|    l2_norm        | 1.9e+05  |\n",
      "|    loss           | 4.69e-05 |\n",
      "|    neglogp        | 4.75e-05 |\n",
      "|    prob_true_act  | 1        |\n",
      "|    samples_so_far | 32       |\n",
      "--------------------------------\n"
     ]
    },
    {
     "name": "stderr",
     "output_type": "stream",
     "text": [
      "246batch [00:04, 55.03batch/s]\n",
      "0batch [00:00, ?batch/s]"
     ]
    },
    {
     "name": "stdout",
     "output_type": "stream",
     "text": [
      "---------------------------------\n",
      "| batch_size        | 32        |\n",
      "| bc/               |           |\n",
      "|    batch          | 0         |\n",
      "|    ent_loss       | -4.25e-07 |\n",
      "|    entropy        | 0.000425  |\n",
      "|    epoch          | 0         |\n",
      "|    l2_loss        | 0         |\n",
      "|    l2_norm        | 1.9e+05   |\n",
      "|    loss           | 3.34e-05  |\n",
      "|    neglogp        | 3.39e-05  |\n",
      "|    prob_true_act  | 1         |\n",
      "|    samples_so_far | 32        |\n",
      "---------------------------------\n"
     ]
    },
    {
     "name": "stderr",
     "output_type": "stream",
     "text": [
      "246batch [00:04, 55.23batch/s]\n",
      "0batch [00:00, ?batch/s]"
     ]
    },
    {
     "name": "stdout",
     "output_type": "stream",
     "text": [
      "---------------------------------\n",
      "| batch_size        | 32        |\n",
      "| bc/               |           |\n",
      "|    batch          | 0         |\n",
      "|    ent_loss       | -2.26e-05 |\n",
      "|    entropy        | 0.0226    |\n",
      "|    epoch          | 0         |\n",
      "|    l2_loss        | 0         |\n",
      "|    l2_norm        | 1.9e+05   |\n",
      "|    loss           | 0.0157    |\n",
      "|    neglogp        | 0.0157    |\n",
      "|    prob_true_act  | 0.988     |\n",
      "|    samples_so_far | 32        |\n",
      "---------------------------------\n"
     ]
    },
    {
     "name": "stderr",
     "output_type": "stream",
     "text": [
      "246batch [00:04, 53.49batch/s]\n",
      "0batch [00:00, ?batch/s]"
     ]
    },
    {
     "name": "stdout",
     "output_type": "stream",
     "text": [
      "---------------------------------\n",
      "| batch_size        | 32        |\n",
      "| bc/               |           |\n",
      "|    batch          | 0         |\n",
      "|    ent_loss       | -2.92e-05 |\n",
      "|    entropy        | 0.0292    |\n",
      "|    epoch          | 0         |\n",
      "|    l2_loss        | 0         |\n",
      "|    l2_norm        | 1.9e+05   |\n",
      "|    loss           | 0.0489    |\n",
      "|    neglogp        | 0.0489    |\n",
      "|    prob_true_act  | 0.975     |\n",
      "|    samples_so_far | 32        |\n",
      "---------------------------------\n"
     ]
    },
    {
     "name": "stderr",
     "output_type": "stream",
     "text": [
      "246batch [00:04, 55.58batch/s]\n",
      "0batch [00:00, ?batch/s]"
     ]
    },
    {
     "name": "stdout",
     "output_type": "stream",
     "text": [
      "---------------------------------\n",
      "| batch_size        | 32        |\n",
      "| bc/               |           |\n",
      "|    batch          | 0         |\n",
      "|    ent_loss       | -2.78e-07 |\n",
      "|    entropy        | 0.000278  |\n",
      "|    epoch          | 0         |\n",
      "|    l2_loss        | 0         |\n",
      "|    l2_norm        | 1.9e+05   |\n",
      "|    loss           | 2.13e-05  |\n",
      "|    neglogp        | 2.16e-05  |\n",
      "|    prob_true_act  | 1         |\n",
      "|    samples_so_far | 32        |\n",
      "---------------------------------\n"
     ]
    },
    {
     "name": "stderr",
     "output_type": "stream",
     "text": [
      "246batch [00:04, 54.68batch/s]\n",
      "0batch [00:00, ?batch/s]"
     ]
    },
    {
     "name": "stdout",
     "output_type": "stream",
     "text": [
      "---------------------------------\n",
      "| batch_size        | 32        |\n",
      "| bc/               |           |\n",
      "|    batch          | 0         |\n",
      "|    ent_loss       | -5.92e-07 |\n",
      "|    entropy        | 0.000592  |\n",
      "|    epoch          | 0         |\n",
      "|    l2_loss        | 0         |\n",
      "|    l2_norm        | 1.9e+05   |\n",
      "|    loss           | 5.01e-05  |\n",
      "|    neglogp        | 5.07e-05  |\n",
      "|    prob_true_act  | 1         |\n",
      "|    samples_so_far | 32        |\n",
      "---------------------------------\n"
     ]
    },
    {
     "name": "stderr",
     "output_type": "stream",
     "text": [
      "246batch [00:04, 53.94batch/s]\n",
      "0batch [00:00, ?batch/s]"
     ]
    },
    {
     "name": "stdout",
     "output_type": "stream",
     "text": [
      "---------------------------------\n",
      "| batch_size        | 32        |\n",
      "| bc/               |           |\n",
      "|    batch          | 0         |\n",
      "|    ent_loss       | -8.03e-07 |\n",
      "|    entropy        | 0.000803  |\n",
      "|    epoch          | 0         |\n",
      "|    l2_loss        | 0         |\n",
      "|    l2_norm        | 1.9e+05   |\n",
      "|    loss           | 6.8e-05   |\n",
      "|    neglogp        | 6.88e-05  |\n",
      "|    prob_true_act  | 1         |\n",
      "|    samples_so_far | 32        |\n",
      "---------------------------------\n"
     ]
    },
    {
     "name": "stderr",
     "output_type": "stream",
     "text": [
      "246batch [00:04, 55.00batch/s]\n",
      "0batch [00:00, ?batch/s]"
     ]
    },
    {
     "name": "stdout",
     "output_type": "stream",
     "text": [
      "---------------------------------\n",
      "| batch_size        | 32        |\n",
      "| bc/               |           |\n",
      "|    batch          | 0         |\n",
      "|    ent_loss       | -9.25e-05 |\n",
      "|    entropy        | 0.0925    |\n",
      "|    epoch          | 0         |\n",
      "|    l2_loss        | 0         |\n",
      "|    l2_norm        | 1.9e+05   |\n",
      "|    loss           | 0.0984    |\n",
      "|    neglogp        | 0.0985    |\n",
      "|    prob_true_act  | 0.943     |\n",
      "|    samples_so_far | 32        |\n",
      "---------------------------------\n"
     ]
    },
    {
     "name": "stderr",
     "output_type": "stream",
     "text": [
      "246batch [00:04, 53.95batch/s]\n",
      "0batch [00:00, ?batch/s]"
     ]
    },
    {
     "name": "stdout",
     "output_type": "stream",
     "text": [
      "---------------------------------\n",
      "| batch_size        | 32        |\n",
      "| bc/               |           |\n",
      "|    batch          | 0         |\n",
      "|    ent_loss       | -8.32e-07 |\n",
      "|    entropy        | 0.000832  |\n",
      "|    epoch          | 0         |\n",
      "|    l2_loss        | 0         |\n",
      "|    l2_norm        | 1.91e+05  |\n",
      "|    loss           | 6.78e-05  |\n",
      "|    neglogp        | 6.86e-05  |\n",
      "|    prob_true_act  | 1         |\n",
      "|    samples_so_far | 32        |\n",
      "---------------------------------\n"
     ]
    },
    {
     "name": "stderr",
     "output_type": "stream",
     "text": [
      "246batch [00:04, 55.13batch/s]\n",
      "0batch [00:00, ?batch/s]"
     ]
    },
    {
     "name": "stdout",
     "output_type": "stream",
     "text": [
      "---------------------------------\n",
      "| batch_size        | 32        |\n",
      "| bc/               |           |\n",
      "|    batch          | 0         |\n",
      "|    ent_loss       | -2.13e-07 |\n",
      "|    entropy        | 0.000213  |\n",
      "|    epoch          | 0         |\n",
      "|    l2_loss        | 0         |\n",
      "|    l2_norm        | 1.91e+05  |\n",
      "|    loss           | 1.52e-05  |\n",
      "|    neglogp        | 1.54e-05  |\n",
      "|    prob_true_act  | 1         |\n",
      "|    samples_so_far | 32        |\n",
      "---------------------------------\n"
     ]
    },
    {
     "name": "stderr",
     "output_type": "stream",
     "text": [
      "246batch [00:04, 53.21batch/s]\n",
      "0batch [00:00, ?batch/s]"
     ]
    },
    {
     "name": "stdout",
     "output_type": "stream",
     "text": [
      "---------------------------------\n",
      "| batch_size        | 32        |\n",
      "| bc/               |           |\n",
      "|    batch          | 0         |\n",
      "|    ent_loss       | -5.47e-07 |\n",
      "|    entropy        | 0.000547  |\n",
      "|    epoch          | 0         |\n",
      "|    l2_loss        | 0         |\n",
      "|    l2_norm        | 1.91e+05  |\n",
      "|    loss           | 4.2e-05   |\n",
      "|    neglogp        | 4.25e-05  |\n",
      "|    prob_true_act  | 1         |\n",
      "|    samples_so_far | 32        |\n",
      "---------------------------------\n"
     ]
    },
    {
     "name": "stderr",
     "output_type": "stream",
     "text": [
      "246batch [00:04, 54.76batch/s]\n",
      "0batch [00:00, ?batch/s]"
     ]
    },
    {
     "name": "stdout",
     "output_type": "stream",
     "text": [
      "---------------------------------\n",
      "| batch_size        | 32        |\n",
      "| bc/               |           |\n",
      "|    batch          | 0         |\n",
      "|    ent_loss       | -2.32e-05 |\n",
      "|    entropy        | 0.0232    |\n",
      "|    epoch          | 0         |\n",
      "|    l2_loss        | 0         |\n",
      "|    l2_norm        | 1.91e+05  |\n",
      "|    loss           | 0.0256    |\n",
      "|    neglogp        | 0.0256    |\n",
      "|    prob_true_act  | 0.982     |\n",
      "|    samples_so_far | 32        |\n",
      "---------------------------------\n"
     ]
    },
    {
     "name": "stderr",
     "output_type": "stream",
     "text": [
      "246batch [00:04, 53.74batch/s]\n",
      "0batch [00:00, ?batch/s]"
     ]
    },
    {
     "name": "stdout",
     "output_type": "stream",
     "text": [
      "---------------------------------\n",
      "| batch_size        | 32        |\n",
      "| bc/               |           |\n",
      "|    batch          | 0         |\n",
      "|    ent_loss       | -2.93e-05 |\n",
      "|    entropy        | 0.0293    |\n",
      "|    epoch          | 0         |\n",
      "|    l2_loss        | 0         |\n",
      "|    l2_norm        | 1.91e+05  |\n",
      "|    loss           | 0.0119    |\n",
      "|    neglogp        | 0.0119    |\n",
      "|    prob_true_act  | 0.99      |\n",
      "|    samples_so_far | 32        |\n",
      "---------------------------------\n"
     ]
    },
    {
     "name": "stderr",
     "output_type": "stream",
     "text": [
      "246batch [00:04, 52.67batch/s]\n",
      "0batch [00:00, ?batch/s]"
     ]
    },
    {
     "name": "stdout",
     "output_type": "stream",
     "text": [
      "---------------------------------\n",
      "| batch_size        | 32        |\n",
      "| bc/               |           |\n",
      "|    batch          | 0         |\n",
      "|    ent_loss       | -9.28e-07 |\n",
      "|    entropy        | 0.000928  |\n",
      "|    epoch          | 0         |\n",
      "|    l2_loss        | 0         |\n",
      "|    l2_norm        | 1.91e+05  |\n",
      "|    loss           | 7.62e-05  |\n",
      "|    neglogp        | 7.71e-05  |\n",
      "|    prob_true_act  | 1         |\n",
      "|    samples_so_far | 32        |\n",
      "---------------------------------\n"
     ]
    },
    {
     "name": "stderr",
     "output_type": "stream",
     "text": [
      "246batch [00:04, 55.00batch/s]\n",
      "0batch [00:00, ?batch/s]"
     ]
    },
    {
     "name": "stdout",
     "output_type": "stream",
     "text": [
      "---------------------------------\n",
      "| batch_size        | 32        |\n",
      "| bc/               |           |\n",
      "|    batch          | 0         |\n",
      "|    ent_loss       | -6.69e-07 |\n",
      "|    entropy        | 0.000669  |\n",
      "|    epoch          | 0         |\n",
      "|    l2_loss        | 0         |\n",
      "|    l2_norm        | 1.91e+05  |\n",
      "|    loss           | 5.23e-05  |\n",
      "|    neglogp        | 5.3e-05   |\n",
      "|    prob_true_act  | 1         |\n",
      "|    samples_so_far | 32        |\n",
      "---------------------------------\n"
     ]
    },
    {
     "name": "stderr",
     "output_type": "stream",
     "text": [
      "246batch [00:04, 54.27batch/s]\n",
      "0batch [00:00, ?batch/s]"
     ]
    },
    {
     "name": "stdout",
     "output_type": "stream",
     "text": [
      "---------------------------------\n",
      "| batch_size        | 32        |\n",
      "| bc/               |           |\n",
      "|    batch          | 0         |\n",
      "|    ent_loss       | -1.62e-06 |\n",
      "|    entropy        | 0.00162   |\n",
      "|    epoch          | 0         |\n",
      "|    l2_loss        | 0         |\n",
      "|    l2_norm        | 1.91e+05  |\n",
      "|    loss           | 0.000142  |\n",
      "|    neglogp        | 0.000144  |\n",
      "|    prob_true_act  | 1         |\n",
      "|    samples_so_far | 32        |\n",
      "---------------------------------\n"
     ]
    },
    {
     "name": "stderr",
     "output_type": "stream",
     "text": [
      "246batch [00:04, 55.50batch/s]\n",
      "0batch [00:00, ?batch/s]"
     ]
    },
    {
     "name": "stdout",
     "output_type": "stream",
     "text": [
      "--------------------------------\n",
      "| batch_size        | 32       |\n",
      "| bc/               |          |\n",
      "|    batch          | 0        |\n",
      "|    ent_loss       | -1.4e-06 |\n",
      "|    entropy        | 0.0014   |\n",
      "|    epoch          | 0        |\n",
      "|    l2_loss        | 0        |\n",
      "|    l2_norm        | 1.92e+05 |\n",
      "|    loss           | 0.000153 |\n",
      "|    neglogp        | 0.000154 |\n",
      "|    prob_true_act  | 1        |\n",
      "|    samples_so_far | 32       |\n",
      "--------------------------------\n"
     ]
    },
    {
     "name": "stderr",
     "output_type": "stream",
     "text": [
      "246batch [00:04, 54.01batch/s]\n",
      "0batch [00:00, ?batch/s]"
     ]
    },
    {
     "name": "stdout",
     "output_type": "stream",
     "text": [
      "---------------------------------\n",
      "| batch_size        | 32        |\n",
      "| bc/               |           |\n",
      "|    batch          | 0         |\n",
      "|    ent_loss       | -6.73e-07 |\n",
      "|    entropy        | 0.000673  |\n",
      "|    epoch          | 0         |\n",
      "|    l2_loss        | 0         |\n",
      "|    l2_norm        | 1.92e+05  |\n",
      "|    loss           | 5.49e-05  |\n",
      "|    neglogp        | 5.56e-05  |\n",
      "|    prob_true_act  | 1         |\n",
      "|    samples_so_far | 32        |\n",
      "---------------------------------\n"
     ]
    },
    {
     "name": "stderr",
     "output_type": "stream",
     "text": [
      "246batch [00:04, 53.98batch/s]\n",
      "0batch [00:00, ?batch/s]"
     ]
    },
    {
     "name": "stdout",
     "output_type": "stream",
     "text": [
      "---------------------------------\n",
      "| batch_size        | 32        |\n",
      "| bc/               |           |\n",
      "|    batch          | 0         |\n",
      "|    ent_loss       | -3.67e-05 |\n",
      "|    entropy        | 0.0367    |\n",
      "|    epoch          | 0         |\n",
      "|    l2_loss        | 0         |\n",
      "|    l2_norm        | 1.92e+05  |\n",
      "|    loss           | 0.0213    |\n",
      "|    neglogp        | 0.0213    |\n",
      "|    prob_true_act  | 0.984     |\n",
      "|    samples_so_far | 32        |\n",
      "---------------------------------\n"
     ]
    },
    {
     "name": "stderr",
     "output_type": "stream",
     "text": [
      "246batch [00:04, 55.28batch/s]\n",
      "0batch [00:00, ?batch/s]"
     ]
    },
    {
     "name": "stdout",
     "output_type": "stream",
     "text": [
      "---------------------------------\n",
      "| batch_size        | 32        |\n",
      "| bc/               |           |\n",
      "|    batch          | 0         |\n",
      "|    ent_loss       | -3.48e-05 |\n",
      "|    entropy        | 0.0348    |\n",
      "|    epoch          | 0         |\n",
      "|    l2_loss        | 0         |\n",
      "|    l2_norm        | 1.92e+05  |\n",
      "|    loss           | 0.0118    |\n",
      "|    neglogp        | 0.0119    |\n",
      "|    prob_true_act  | 0.99      |\n",
      "|    samples_so_far | 32        |\n",
      "---------------------------------\n"
     ]
    },
    {
     "name": "stderr",
     "output_type": "stream",
     "text": [
      "246batch [00:04, 55.20batch/s]\n",
      "0batch [00:00, ?batch/s]"
     ]
    },
    {
     "name": "stdout",
     "output_type": "stream",
     "text": [
      "---------------------------------\n",
      "| batch_size        | 32        |\n",
      "| bc/               |           |\n",
      "|    batch          | 0         |\n",
      "|    ent_loss       | -1.01e-06 |\n",
      "|    entropy        | 0.00101   |\n",
      "|    epoch          | 0         |\n",
      "|    l2_loss        | 0         |\n",
      "|    l2_norm        | 1.92e+05  |\n",
      "|    loss           | 9.58e-05  |\n",
      "|    neglogp        | 9.69e-05  |\n",
      "|    prob_true_act  | 1         |\n",
      "|    samples_so_far | 32        |\n",
      "---------------------------------\n"
     ]
    },
    {
     "name": "stderr",
     "output_type": "stream",
     "text": [
      "246batch [00:04, 54.31batch/s]\n",
      "0batch [00:00, ?batch/s]"
     ]
    },
    {
     "name": "stdout",
     "output_type": "stream",
     "text": [
      "---------------------------------\n",
      "| batch_size        | 32        |\n",
      "| bc/               |           |\n",
      "|    batch          | 0         |\n",
      "|    ent_loss       | -3.63e-06 |\n",
      "|    entropy        | 0.00363   |\n",
      "|    epoch          | 0         |\n",
      "|    l2_loss        | 0         |\n",
      "|    l2_norm        | 1.92e+05  |\n",
      "|    loss           | 0.000433  |\n",
      "|    neglogp        | 0.000437  |\n",
      "|    prob_true_act  | 1         |\n",
      "|    samples_so_far | 32        |\n",
      "---------------------------------\n"
     ]
    },
    {
     "name": "stderr",
     "output_type": "stream",
     "text": [
      "246batch [00:04, 55.36batch/s]\n",
      "0batch [00:00, ?batch/s]"
     ]
    },
    {
     "name": "stdout",
     "output_type": "stream",
     "text": [
      "---------------------------------\n",
      "| batch_size        | 32        |\n",
      "| bc/               |           |\n",
      "|    batch          | 0         |\n",
      "|    ent_loss       | -7.88e-05 |\n",
      "|    entropy        | 0.0788    |\n",
      "|    epoch          | 0         |\n",
      "|    l2_loss        | 0         |\n",
      "|    l2_norm        | 1.92e+05  |\n",
      "|    loss           | 0.0714    |\n",
      "|    neglogp        | 0.0715    |\n",
      "|    prob_true_act  | 0.957     |\n",
      "|    samples_so_far | 32        |\n",
      "---------------------------------\n"
     ]
    },
    {
     "name": "stderr",
     "output_type": "stream",
     "text": [
      "246batch [00:04, 54.52batch/s]\n",
      "0batch [00:00, ?batch/s]"
     ]
    },
    {
     "name": "stdout",
     "output_type": "stream",
     "text": [
      "--------------------------------\n",
      "| batch_size        | 32       |\n",
      "| bc/               |          |\n",
      "|    batch          | 0        |\n",
      "|    ent_loss       | -7.9e-07 |\n",
      "|    entropy        | 0.00079  |\n",
      "|    epoch          | 0        |\n",
      "|    l2_loss        | 0        |\n",
      "|    l2_norm        | 1.92e+05 |\n",
      "|    loss           | 6.44e-05 |\n",
      "|    neglogp        | 6.52e-05 |\n",
      "|    prob_true_act  | 1        |\n",
      "|    samples_so_far | 32       |\n",
      "--------------------------------\n"
     ]
    },
    {
     "name": "stderr",
     "output_type": "stream",
     "text": [
      "246batch [00:04, 54.65batch/s]\n",
      "0batch [00:00, ?batch/s]"
     ]
    },
    {
     "name": "stdout",
     "output_type": "stream",
     "text": [
      "---------------------------------\n",
      "| batch_size        | 32        |\n",
      "| bc/               |           |\n",
      "|    batch          | 0         |\n",
      "|    ent_loss       | -3.17e-05 |\n",
      "|    entropy        | 0.0317    |\n",
      "|    epoch          | 0         |\n",
      "|    l2_loss        | 0         |\n",
      "|    l2_norm        | 1.92e+05  |\n",
      "|    loss           | 0.0162    |\n",
      "|    neglogp        | 0.0162    |\n",
      "|    prob_true_act  | 0.987     |\n",
      "|    samples_so_far | 32        |\n",
      "---------------------------------\n"
     ]
    },
    {
     "name": "stderr",
     "output_type": "stream",
     "text": [
      "246batch [00:04, 54.86batch/s]\n",
      "0batch [00:00, ?batch/s]"
     ]
    },
    {
     "name": "stdout",
     "output_type": "stream",
     "text": [
      "---------------------------------\n",
      "| batch_size        | 32        |\n",
      "| bc/               |           |\n",
      "|    batch          | 0         |\n",
      "|    ent_loss       | -2.52e-05 |\n",
      "|    entropy        | 0.0252    |\n",
      "|    epoch          | 0         |\n",
      "|    l2_loss        | 0         |\n",
      "|    l2_norm        | 1.92e+05  |\n",
      "|    loss           | 0.0213    |\n",
      "|    neglogp        | 0.0213    |\n",
      "|    prob_true_act  | 0.984     |\n",
      "|    samples_so_far | 32        |\n",
      "---------------------------------\n"
     ]
    },
    {
     "name": "stderr",
     "output_type": "stream",
     "text": [
      "246batch [00:04, 54.06batch/s]\n",
      "0batch [00:00, ?batch/s]"
     ]
    },
    {
     "name": "stdout",
     "output_type": "stream",
     "text": [
      "---------------------------------\n",
      "| batch_size        | 32        |\n",
      "| bc/               |           |\n",
      "|    batch          | 0         |\n",
      "|    ent_loss       | -6.95e-07 |\n",
      "|    entropy        | 0.000695  |\n",
      "|    epoch          | 0         |\n",
      "|    l2_loss        | 0         |\n",
      "|    l2_norm        | 1.92e+05  |\n",
      "|    loss           | 5.83e-05  |\n",
      "|    neglogp        | 5.9e-05   |\n",
      "|    prob_true_act  | 1         |\n",
      "|    samples_so_far | 32        |\n",
      "---------------------------------\n"
     ]
    },
    {
     "name": "stderr",
     "output_type": "stream",
     "text": [
      "246batch [00:04, 54.98batch/s]\n",
      "0batch [00:00, ?batch/s]"
     ]
    },
    {
     "name": "stdout",
     "output_type": "stream",
     "text": [
      "---------------------------------\n",
      "| batch_size        | 32        |\n",
      "| bc/               |           |\n",
      "|    batch          | 0         |\n",
      "|    ent_loss       | -2.15e-05 |\n",
      "|    entropy        | 0.0215    |\n",
      "|    epoch          | 0         |\n",
      "|    l2_loss        | 0         |\n",
      "|    l2_norm        | 1.92e+05  |\n",
      "|    loss           | 0.014     |\n",
      "|    neglogp        | 0.0141    |\n",
      "|    prob_true_act  | 0.989     |\n",
      "|    samples_so_far | 32        |\n",
      "---------------------------------\n"
     ]
    },
    {
     "name": "stderr",
     "output_type": "stream",
     "text": [
      "246batch [00:04, 55.24batch/s]\n",
      "0batch [00:00, ?batch/s]"
     ]
    },
    {
     "name": "stdout",
     "output_type": "stream",
     "text": [
      "---------------------------------\n",
      "| batch_size        | 32        |\n",
      "| bc/               |           |\n",
      "|    batch          | 0         |\n",
      "|    ent_loss       | -7.99e-05 |\n",
      "|    entropy        | 0.0799    |\n",
      "|    epoch          | 0         |\n",
      "|    l2_loss        | 0         |\n",
      "|    l2_norm        | 1.92e+05  |\n",
      "|    loss           | 0.0529    |\n",
      "|    neglogp        | 0.053     |\n",
      "|    prob_true_act  | 0.965     |\n",
      "|    samples_so_far | 32        |\n",
      "---------------------------------\n"
     ]
    },
    {
     "name": "stderr",
     "output_type": "stream",
     "text": [
      "246batch [00:04, 54.00batch/s]\n",
      "0batch [00:00, ?batch/s]"
     ]
    },
    {
     "name": "stdout",
     "output_type": "stream",
     "text": [
      "---------------------------------\n",
      "| batch_size        | 32        |\n",
      "| bc/               |           |\n",
      "|    batch          | 0         |\n",
      "|    ent_loss       | -4.57e-05 |\n",
      "|    entropy        | 0.0457    |\n",
      "|    epoch          | 0         |\n",
      "|    l2_loss        | 0         |\n",
      "|    l2_norm        | 1.92e+05  |\n",
      "|    loss           | 0.0359    |\n",
      "|    neglogp        | 0.0359    |\n",
      "|    prob_true_act  | 0.973     |\n",
      "|    samples_so_far | 32        |\n",
      "---------------------------------\n"
     ]
    },
    {
     "name": "stderr",
     "output_type": "stream",
     "text": [
      "246batch [00:04, 53.84batch/s]\n",
      "0batch [00:00, ?batch/s]"
     ]
    },
    {
     "name": "stdout",
     "output_type": "stream",
     "text": [
      "--------------------------------\n",
      "| batch_size        | 32       |\n",
      "| bc/               |          |\n",
      "|    batch          | 0        |\n",
      "|    ent_loss       | -2.4e-05 |\n",
      "|    entropy        | 0.024    |\n",
      "|    epoch          | 0        |\n",
      "|    l2_loss        | 0        |\n",
      "|    l2_norm        | 1.93e+05 |\n",
      "|    loss           | 0.0217   |\n",
      "|    neglogp        | 0.0218   |\n",
      "|    prob_true_act  | 0.984    |\n",
      "|    samples_so_far | 32       |\n",
      "--------------------------------\n"
     ]
    },
    {
     "name": "stderr",
     "output_type": "stream",
     "text": [
      "246batch [00:04, 53.21batch/s]\n",
      "0batch [00:00, ?batch/s]"
     ]
    },
    {
     "name": "stdout",
     "output_type": "stream",
     "text": [
      "---------------------------------\n",
      "| batch_size        | 32        |\n",
      "| bc/               |           |\n",
      "|    batch          | 0         |\n",
      "|    ent_loss       | -7.53e-07 |\n",
      "|    entropy        | 0.000753  |\n",
      "|    epoch          | 0         |\n",
      "|    l2_loss        | 0         |\n",
      "|    l2_norm        | 1.93e+05  |\n",
      "|    loss           | 6.6e-05   |\n",
      "|    neglogp        | 6.68e-05  |\n",
      "|    prob_true_act  | 1         |\n",
      "|    samples_so_far | 32        |\n",
      "---------------------------------\n"
     ]
    },
    {
     "name": "stderr",
     "output_type": "stream",
     "text": [
      "246batch [00:04, 55.14batch/s]\n",
      "0batch [00:00, ?batch/s]"
     ]
    },
    {
     "name": "stdout",
     "output_type": "stream",
     "text": [
      "---------------------------------\n",
      "| batch_size        | 32        |\n",
      "| bc/               |           |\n",
      "|    batch          | 0         |\n",
      "|    ent_loss       | -1.14e-06 |\n",
      "|    entropy        | 0.00114   |\n",
      "|    epoch          | 0         |\n",
      "|    l2_loss        | 0         |\n",
      "|    l2_norm        | 1.93e+05  |\n",
      "|    loss           | 0.000105  |\n",
      "|    neglogp        | 0.000106  |\n",
      "|    prob_true_act  | 1         |\n",
      "|    samples_so_far | 32        |\n",
      "---------------------------------\n"
     ]
    },
    {
     "name": "stderr",
     "output_type": "stream",
     "text": [
      "246batch [00:04, 54.46batch/s]\n",
      "0batch [00:00, ?batch/s]"
     ]
    },
    {
     "name": "stdout",
     "output_type": "stream",
     "text": [
      "--------------------------------\n",
      "| batch_size        | 32       |\n",
      "| bc/               |          |\n",
      "|    batch          | 0        |\n",
      "|    ent_loss       | -3.5e-07 |\n",
      "|    entropy        | 0.00035  |\n",
      "|    epoch          | 0        |\n",
      "|    l2_loss        | 0        |\n",
      "|    l2_norm        | 1.93e+05 |\n",
      "|    loss           | 2.64e-05 |\n",
      "|    neglogp        | 2.68e-05 |\n",
      "|    prob_true_act  | 1        |\n",
      "|    samples_so_far | 32       |\n",
      "--------------------------------\n"
     ]
    },
    {
     "name": "stderr",
     "output_type": "stream",
     "text": [
      "246batch [00:04, 53.63batch/s]\n",
      "0batch [00:00, ?batch/s]"
     ]
    },
    {
     "name": "stdout",
     "output_type": "stream",
     "text": [
      "---------------------------------\n",
      "| batch_size        | 32        |\n",
      "| bc/               |           |\n",
      "|    batch          | 0         |\n",
      "|    ent_loss       | -6.73e-07 |\n",
      "|    entropy        | 0.000673  |\n",
      "|    epoch          | 0         |\n",
      "|    l2_loss        | 0         |\n",
      "|    l2_norm        | 1.93e+05  |\n",
      "|    loss           | 5.65e-05  |\n",
      "|    neglogp        | 5.72e-05  |\n",
      "|    prob_true_act  | 1         |\n",
      "|    samples_so_far | 32        |\n",
      "---------------------------------\n"
     ]
    },
    {
     "name": "stderr",
     "output_type": "stream",
     "text": [
      "246batch [00:04, 54.93batch/s]\n",
      "0batch [00:00, ?batch/s]"
     ]
    },
    {
     "name": "stdout",
     "output_type": "stream",
     "text": [
      "---------------------------------\n",
      "| batch_size        | 32        |\n",
      "| bc/               |           |\n",
      "|    batch          | 0         |\n",
      "|    ent_loss       | -1.23e-06 |\n",
      "|    entropy        | 0.00123   |\n",
      "|    epoch          | 0         |\n",
      "|    l2_loss        | 0         |\n",
      "|    l2_norm        | 1.93e+05  |\n",
      "|    loss           | 0.00011   |\n",
      "|    neglogp        | 0.000111  |\n",
      "|    prob_true_act  | 1         |\n",
      "|    samples_so_far | 32        |\n",
      "---------------------------------\n"
     ]
    },
    {
     "name": "stderr",
     "output_type": "stream",
     "text": [
      "246batch [00:04, 53.59batch/s]\n",
      "0batch [00:00, ?batch/s]"
     ]
    },
    {
     "name": "stdout",
     "output_type": "stream",
     "text": [
      "---------------------------------\n",
      "| batch_size        | 32        |\n",
      "| bc/               |           |\n",
      "|    batch          | 0         |\n",
      "|    ent_loss       | -1.31e-06 |\n",
      "|    entropy        | 0.00131   |\n",
      "|    epoch          | 0         |\n",
      "|    l2_loss        | 0         |\n",
      "|    l2_norm        | 1.93e+05  |\n",
      "|    loss           | 0.000135  |\n",
      "|    neglogp        | 0.000136  |\n",
      "|    prob_true_act  | 1         |\n",
      "|    samples_so_far | 32        |\n",
      "---------------------------------\n"
     ]
    },
    {
     "name": "stderr",
     "output_type": "stream",
     "text": [
      "246batch [00:04, 55.19batch/s]\n",
      "0batch [00:00, ?batch/s]"
     ]
    },
    {
     "name": "stdout",
     "output_type": "stream",
     "text": [
      "---------------------------------\n",
      "| batch_size        | 32        |\n",
      "| bc/               |           |\n",
      "|    batch          | 0         |\n",
      "|    ent_loss       | -2.44e-05 |\n",
      "|    entropy        | 0.0244    |\n",
      "|    epoch          | 0         |\n",
      "|    l2_loss        | 0         |\n",
      "|    l2_norm        | 1.93e+05  |\n",
      "|    loss           | 0.0207    |\n",
      "|    neglogp        | 0.0207    |\n",
      "|    prob_true_act  | 0.985     |\n",
      "|    samples_so_far | 32        |\n",
      "---------------------------------\n"
     ]
    },
    {
     "name": "stderr",
     "output_type": "stream",
     "text": [
      "246batch [00:04, 55.25batch/s]\n",
      "0batch [00:00, ?batch/s]"
     ]
    },
    {
     "name": "stdout",
     "output_type": "stream",
     "text": [
      "---------------------------------\n",
      "| batch_size        | 32        |\n",
      "| bc/               |           |\n",
      "|    batch          | 0         |\n",
      "|    ent_loss       | -7.38e-07 |\n",
      "|    entropy        | 0.000738  |\n",
      "|    epoch          | 0         |\n",
      "|    l2_loss        | 0         |\n",
      "|    l2_norm        | 1.94e+05  |\n",
      "|    loss           | 5.89e-05  |\n",
      "|    neglogp        | 5.96e-05  |\n",
      "|    prob_true_act  | 1         |\n",
      "|    samples_so_far | 32        |\n",
      "---------------------------------\n"
     ]
    },
    {
     "name": "stderr",
     "output_type": "stream",
     "text": [
      "246batch [00:04, 53.54batch/s]\n",
      "0batch [00:00, ?batch/s]"
     ]
    },
    {
     "name": "stdout",
     "output_type": "stream",
     "text": [
      "---------------------------------\n",
      "| batch_size        | 32        |\n",
      "| bc/               |           |\n",
      "|    batch          | 0         |\n",
      "|    ent_loss       | -7.31e-07 |\n",
      "|    entropy        | 0.000731  |\n",
      "|    epoch          | 0         |\n",
      "|    l2_loss        | 0         |\n",
      "|    l2_norm        | 1.94e+05  |\n",
      "|    loss           | 5.94e-05  |\n",
      "|    neglogp        | 6.01e-05  |\n",
      "|    prob_true_act  | 1         |\n",
      "|    samples_so_far | 32        |\n",
      "---------------------------------\n"
     ]
    },
    {
     "name": "stderr",
     "output_type": "stream",
     "text": [
      "246batch [00:04, 54.86batch/s]\n",
      "0batch [00:00, ?batch/s]"
     ]
    },
    {
     "name": "stdout",
     "output_type": "stream",
     "text": [
      "---------------------------------\n",
      "| batch_size        | 32        |\n",
      "| bc/               |           |\n",
      "|    batch          | 0         |\n",
      "|    ent_loss       | -6.75e-07 |\n",
      "|    entropy        | 0.000675  |\n",
      "|    epoch          | 0         |\n",
      "|    l2_loss        | 0         |\n",
      "|    l2_norm        | 1.94e+05  |\n",
      "|    loss           | 5.34e-05  |\n",
      "|    neglogp        | 5.41e-05  |\n",
      "|    prob_true_act  | 1         |\n",
      "|    samples_so_far | 32        |\n",
      "---------------------------------\n"
     ]
    },
    {
     "name": "stderr",
     "output_type": "stream",
     "text": [
      "246batch [00:04, 52.97batch/s]\n",
      "0batch [00:00, ?batch/s]"
     ]
    },
    {
     "name": "stdout",
     "output_type": "stream",
     "text": [
      "---------------------------------\n",
      "| batch_size        | 32        |\n",
      "| bc/               |           |\n",
      "|    batch          | 0         |\n",
      "|    ent_loss       | -8.73e-05 |\n",
      "|    entropy        | 0.0873    |\n",
      "|    epoch          | 0         |\n",
      "|    l2_loss        | 0         |\n",
      "|    l2_norm        | 1.94e+05  |\n",
      "|    loss           | 0.0384    |\n",
      "|    neglogp        | 0.0385    |\n",
      "|    prob_true_act  | 0.972     |\n",
      "|    samples_so_far | 32        |\n",
      "---------------------------------\n"
     ]
    },
    {
     "name": "stderr",
     "output_type": "stream",
     "text": [
      "246batch [00:04, 54.64batch/s]\n",
      "0batch [00:00, ?batch/s]"
     ]
    },
    {
     "name": "stdout",
     "output_type": "stream",
     "text": [
      "---------------------------------\n",
      "| batch_size        | 32        |\n",
      "| bc/               |           |\n",
      "|    batch          | 0         |\n",
      "|    ent_loss       | -6.06e-05 |\n",
      "|    entropy        | 0.0606    |\n",
      "|    epoch          | 0         |\n",
      "|    l2_loss        | 0         |\n",
      "|    l2_norm        | 1.94e+05  |\n",
      "|    loss           | 0.0492    |\n",
      "|    neglogp        | 0.0493    |\n",
      "|    prob_true_act  | 0.966     |\n",
      "|    samples_so_far | 32        |\n",
      "---------------------------------\n"
     ]
    },
    {
     "name": "stderr",
     "output_type": "stream",
     "text": [
      "246batch [00:04, 55.04batch/s]\n",
      "0batch [00:00, ?batch/s]"
     ]
    },
    {
     "name": "stdout",
     "output_type": "stream",
     "text": [
      "---------------------------------\n",
      "| batch_size        | 32        |\n",
      "| bc/               |           |\n",
      "|    batch          | 0         |\n",
      "|    ent_loss       | -1.83e-06 |\n",
      "|    entropy        | 0.00183   |\n",
      "|    epoch          | 0         |\n",
      "|    l2_loss        | 0         |\n",
      "|    l2_norm        | 1.94e+05  |\n",
      "|    loss           | 0.000192  |\n",
      "|    neglogp        | 0.000194  |\n",
      "|    prob_true_act  | 1         |\n",
      "|    samples_so_far | 32        |\n",
      "---------------------------------\n"
     ]
    },
    {
     "name": "stderr",
     "output_type": "stream",
     "text": [
      "246batch [00:04, 52.12batch/s]\n",
      "0batch [00:00, ?batch/s]"
     ]
    },
    {
     "name": "stdout",
     "output_type": "stream",
     "text": [
      "---------------------------------\n",
      "| batch_size        | 32        |\n",
      "| bc/               |           |\n",
      "|    batch          | 0         |\n",
      "|    ent_loss       | -1.28e-06 |\n",
      "|    entropy        | 0.00128   |\n",
      "|    epoch          | 0         |\n",
      "|    l2_loss        | 0         |\n",
      "|    l2_norm        | 1.94e+05  |\n",
      "|    loss           | 0.000116  |\n",
      "|    neglogp        | 0.000117  |\n",
      "|    prob_true_act  | 1         |\n",
      "|    samples_so_far | 32        |\n",
      "---------------------------------\n"
     ]
    },
    {
     "name": "stderr",
     "output_type": "stream",
     "text": [
      "246batch [00:04, 54.19batch/s]\n",
      "0batch [00:00, ?batch/s]"
     ]
    },
    {
     "name": "stdout",
     "output_type": "stream",
     "text": [
      "---------------------------------\n",
      "| batch_size        | 32        |\n",
      "| bc/               |           |\n",
      "|    batch          | 0         |\n",
      "|    ent_loss       | -7.78e-07 |\n",
      "|    entropy        | 0.000778  |\n",
      "|    epoch          | 0         |\n",
      "|    l2_loss        | 0         |\n",
      "|    l2_norm        | 1.94e+05  |\n",
      "|    loss           | 6.62e-05  |\n",
      "|    neglogp        | 6.69e-05  |\n",
      "|    prob_true_act  | 1         |\n",
      "|    samples_so_far | 32        |\n",
      "---------------------------------\n"
     ]
    },
    {
     "name": "stderr",
     "output_type": "stream",
     "text": [
      "246batch [00:04, 53.92batch/s]\n",
      "0batch [00:00, ?batch/s]"
     ]
    },
    {
     "name": "stdout",
     "output_type": "stream",
     "text": [
      "---------------------------------\n",
      "| batch_size        | 32        |\n",
      "| bc/               |           |\n",
      "|    batch          | 0         |\n",
      "|    ent_loss       | -2.41e-05 |\n",
      "|    entropy        | 0.0241    |\n",
      "|    epoch          | 0         |\n",
      "|    l2_loss        | 0         |\n",
      "|    l2_norm        | 1.94e+05  |\n",
      "|    loss           | 0.0224    |\n",
      "|    neglogp        | 0.0224    |\n",
      "|    prob_true_act  | 0.984     |\n",
      "|    samples_so_far | 32        |\n",
      "---------------------------------\n"
     ]
    },
    {
     "name": "stderr",
     "output_type": "stream",
     "text": [
      "246batch [00:04, 54.12batch/s]\n",
      "0batch [00:00, ?batch/s]"
     ]
    },
    {
     "name": "stdout",
     "output_type": "stream",
     "text": [
      "---------------------------------\n",
      "| batch_size        | 32        |\n",
      "| bc/               |           |\n",
      "|    batch          | 0         |\n",
      "|    ent_loss       | -5.45e-07 |\n",
      "|    entropy        | 0.000545  |\n",
      "|    epoch          | 0         |\n",
      "|    l2_loss        | 0         |\n",
      "|    l2_norm        | 1.94e+05  |\n",
      "|    loss           | 4.88e-05  |\n",
      "|    neglogp        | 4.94e-05  |\n",
      "|    prob_true_act  | 1         |\n",
      "|    samples_so_far | 32        |\n",
      "---------------------------------\n"
     ]
    },
    {
     "name": "stderr",
     "output_type": "stream",
     "text": [
      "246batch [00:04, 54.77batch/s]\n"
     ]
    },
    {
     "name": "stdout",
     "output_type": "stream",
     "text": [
      "Checkpoint saved at checkpoints\\bc_model_epoch_950.zip\n"
     ]
    },
    {
     "name": "stderr",
     "output_type": "stream",
     "text": [
      "0batch [00:00, ?batch/s]"
     ]
    },
    {
     "name": "stdout",
     "output_type": "stream",
     "text": [
      "---------------------------------\n",
      "| batch_size        | 32        |\n",
      "| bc/               |           |\n",
      "|    batch          | 0         |\n",
      "|    ent_loss       | -1.12e-06 |\n",
      "|    entropy        | 0.00112   |\n",
      "|    epoch          | 0         |\n",
      "|    l2_loss        | 0         |\n",
      "|    l2_norm        | 1.94e+05  |\n",
      "|    loss           | 9.56e-05  |\n",
      "|    neglogp        | 9.67e-05  |\n",
      "|    prob_true_act  | 1         |\n",
      "|    samples_so_far | 32        |\n",
      "---------------------------------\n"
     ]
    },
    {
     "name": "stderr",
     "output_type": "stream",
     "text": [
      "246batch [00:04, 53.02batch/s]\n",
      "0batch [00:00, ?batch/s]"
     ]
    },
    {
     "name": "stdout",
     "output_type": "stream",
     "text": [
      "---------------------------------\n",
      "| batch_size        | 32        |\n",
      "| bc/               |           |\n",
      "|    batch          | 0         |\n",
      "|    ent_loss       | -6.96e-07 |\n",
      "|    entropy        | 0.000696  |\n",
      "|    epoch          | 0         |\n",
      "|    l2_loss        | 0         |\n",
      "|    l2_norm        | 1.94e+05  |\n",
      "|    loss           | 6.49e-05  |\n",
      "|    neglogp        | 6.56e-05  |\n",
      "|    prob_true_act  | 1         |\n",
      "|    samples_so_far | 32        |\n",
      "---------------------------------\n"
     ]
    },
    {
     "name": "stderr",
     "output_type": "stream",
     "text": [
      "246batch [00:04, 54.70batch/s]\n",
      "0batch [00:00, ?batch/s]"
     ]
    },
    {
     "name": "stdout",
     "output_type": "stream",
     "text": [
      "---------------------------------\n",
      "| batch_size        | 32        |\n",
      "| bc/               |           |\n",
      "|    batch          | 0         |\n",
      "|    ent_loss       | -4.34e-05 |\n",
      "|    entropy        | 0.0434    |\n",
      "|    epoch          | 0         |\n",
      "|    l2_loss        | 0         |\n",
      "|    l2_norm        | 1.94e+05  |\n",
      "|    loss           | 0.0666    |\n",
      "|    neglogp        | 0.0667    |\n",
      "|    prob_true_act  | 0.96      |\n",
      "|    samples_so_far | 32        |\n",
      "---------------------------------\n"
     ]
    },
    {
     "name": "stderr",
     "output_type": "stream",
     "text": [
      "246batch [00:04, 53.51batch/s]\n",
      "0batch [00:00, ?batch/s]"
     ]
    },
    {
     "name": "stdout",
     "output_type": "stream",
     "text": [
      "---------------------------------\n",
      "| batch_size        | 32        |\n",
      "| bc/               |           |\n",
      "|    batch          | 0         |\n",
      "|    ent_loss       | -6.66e-07 |\n",
      "|    entropy        | 0.000666  |\n",
      "|    epoch          | 0         |\n",
      "|    l2_loss        | 0         |\n",
      "|    l2_norm        | 1.94e+05  |\n",
      "|    loss           | 5.3e-05   |\n",
      "|    neglogp        | 5.36e-05  |\n",
      "|    prob_true_act  | 1         |\n",
      "|    samples_so_far | 32        |\n",
      "---------------------------------\n"
     ]
    },
    {
     "name": "stderr",
     "output_type": "stream",
     "text": [
      "246batch [00:04, 55.20batch/s]\n",
      "0batch [00:00, ?batch/s]"
     ]
    },
    {
     "name": "stdout",
     "output_type": "stream",
     "text": [
      "---------------------------------\n",
      "| batch_size        | 32        |\n",
      "| bc/               |           |\n",
      "|    batch          | 0         |\n",
      "|    ent_loss       | -2.35e-05 |\n",
      "|    entropy        | 0.0235    |\n",
      "|    epoch          | 0         |\n",
      "|    l2_loss        | 0         |\n",
      "|    l2_norm        | 1.94e+05  |\n",
      "|    loss           | 0.0181    |\n",
      "|    neglogp        | 0.0181    |\n",
      "|    prob_true_act  | 0.986     |\n",
      "|    samples_so_far | 32        |\n",
      "---------------------------------\n"
     ]
    },
    {
     "name": "stderr",
     "output_type": "stream",
     "text": [
      "246batch [00:04, 54.42batch/s]\n",
      "0batch [00:00, ?batch/s]"
     ]
    },
    {
     "name": "stdout",
     "output_type": "stream",
     "text": [
      "---------------------------------\n",
      "| batch_size        | 32        |\n",
      "| bc/               |           |\n",
      "|    batch          | 0         |\n",
      "|    ent_loss       | -8.64e-07 |\n",
      "|    entropy        | 0.000864  |\n",
      "|    epoch          | 0         |\n",
      "|    l2_loss        | 0         |\n",
      "|    l2_norm        | 1.95e+05  |\n",
      "|    loss           | 7.26e-05  |\n",
      "|    neglogp        | 7.35e-05  |\n",
      "|    prob_true_act  | 1         |\n",
      "|    samples_so_far | 32        |\n",
      "---------------------------------\n"
     ]
    },
    {
     "name": "stderr",
     "output_type": "stream",
     "text": [
      "246batch [00:04, 54.96batch/s]\n",
      "0batch [00:00, ?batch/s]"
     ]
    },
    {
     "name": "stdout",
     "output_type": "stream",
     "text": [
      "---------------------------------\n",
      "| batch_size        | 32        |\n",
      "| bc/               |           |\n",
      "|    batch          | 0         |\n",
      "|    ent_loss       | -3.39e-05 |\n",
      "|    entropy        | 0.0339    |\n",
      "|    epoch          | 0         |\n",
      "|    l2_loss        | 0         |\n",
      "|    l2_norm        | 1.95e+05  |\n",
      "|    loss           | 0.0155    |\n",
      "|    neglogp        | 0.0155    |\n",
      "|    prob_true_act  | 0.986     |\n",
      "|    samples_so_far | 32        |\n",
      "---------------------------------\n"
     ]
    },
    {
     "name": "stderr",
     "output_type": "stream",
     "text": [
      "246batch [00:04, 55.22batch/s]\n",
      "0batch [00:00, ?batch/s]"
     ]
    },
    {
     "name": "stdout",
     "output_type": "stream",
     "text": [
      "--------------------------------\n",
      "| batch_size        | 32       |\n",
      "| bc/               |          |\n",
      "|    batch          | 0        |\n",
      "|    ent_loss       | -4.6e-05 |\n",
      "|    entropy        | 0.046    |\n",
      "|    epoch          | 0        |\n",
      "|    l2_loss        | 0        |\n",
      "|    l2_norm        | 1.95e+05 |\n",
      "|    loss           | 0.0346   |\n",
      "|    neglogp        | 0.0346   |\n",
      "|    prob_true_act  | 0.979    |\n",
      "|    samples_so_far | 32       |\n",
      "--------------------------------\n"
     ]
    },
    {
     "name": "stderr",
     "output_type": "stream",
     "text": [
      "246batch [00:04, 54.34batch/s]\n",
      "0batch [00:00, ?batch/s]"
     ]
    },
    {
     "name": "stdout",
     "output_type": "stream",
     "text": [
      "---------------------------------\n",
      "| batch_size        | 32        |\n",
      "| bc/               |           |\n",
      "|    batch          | 0         |\n",
      "|    ent_loss       | -3.64e-05 |\n",
      "|    entropy        | 0.0364    |\n",
      "|    epoch          | 0         |\n",
      "|    l2_loss        | 0         |\n",
      "|    l2_norm        | 1.95e+05  |\n",
      "|    loss           | 0.0374    |\n",
      "|    neglogp        | 0.0374    |\n",
      "|    prob_true_act  | 0.978     |\n",
      "|    samples_so_far | 32        |\n",
      "---------------------------------\n"
     ]
    },
    {
     "name": "stderr",
     "output_type": "stream",
     "text": [
      "246batch [00:04, 55.17batch/s]\n",
      "0batch [00:00, ?batch/s]"
     ]
    },
    {
     "name": "stdout",
     "output_type": "stream",
     "text": [
      "---------------------------------\n",
      "| batch_size        | 32        |\n",
      "| bc/               |           |\n",
      "|    batch          | 0         |\n",
      "|    ent_loss       | -5.16e-07 |\n",
      "|    entropy        | 0.000516  |\n",
      "|    epoch          | 0         |\n",
      "|    l2_loss        | 0         |\n",
      "|    l2_norm        | 1.95e+05  |\n",
      "|    loss           | 4.4e-05   |\n",
      "|    neglogp        | 4.45e-05  |\n",
      "|    prob_true_act  | 1         |\n",
      "|    samples_so_far | 32        |\n",
      "---------------------------------\n"
     ]
    },
    {
     "name": "stderr",
     "output_type": "stream",
     "text": [
      "246batch [00:04, 55.45batch/s]\n",
      "0batch [00:00, ?batch/s]"
     ]
    },
    {
     "name": "stdout",
     "output_type": "stream",
     "text": [
      "---------------------------------\n",
      "| batch_size        | 32        |\n",
      "| bc/               |           |\n",
      "|    batch          | 0         |\n",
      "|    ent_loss       | -3.31e-07 |\n",
      "|    entropy        | 0.000331  |\n",
      "|    epoch          | 0         |\n",
      "|    l2_loss        | 0         |\n",
      "|    l2_norm        | 1.95e+05  |\n",
      "|    loss           | 2.74e-05  |\n",
      "|    neglogp        | 2.78e-05  |\n",
      "|    prob_true_act  | 1         |\n",
      "|    samples_so_far | 32        |\n",
      "---------------------------------\n"
     ]
    },
    {
     "name": "stderr",
     "output_type": "stream",
     "text": [
      "246batch [00:04, 53.64batch/s]\n",
      "0batch [00:00, ?batch/s]"
     ]
    },
    {
     "name": "stdout",
     "output_type": "stream",
     "text": [
      "---------------------------------\n",
      "| batch_size        | 32        |\n",
      "| bc/               |           |\n",
      "|    batch          | 0         |\n",
      "|    ent_loss       | -8.16e-07 |\n",
      "|    entropy        | 0.000816  |\n",
      "|    epoch          | 0         |\n",
      "|    l2_loss        | 0         |\n",
      "|    l2_norm        | 1.95e+05  |\n",
      "|    loss           | 6.64e-05  |\n",
      "|    neglogp        | 6.72e-05  |\n",
      "|    prob_true_act  | 1         |\n",
      "|    samples_so_far | 32        |\n",
      "---------------------------------\n"
     ]
    },
    {
     "name": "stderr",
     "output_type": "stream",
     "text": [
      "246batch [00:04, 55.22batch/s]\n",
      "0batch [00:00, ?batch/s]"
     ]
    },
    {
     "name": "stdout",
     "output_type": "stream",
     "text": [
      "---------------------------------\n",
      "| batch_size        | 32        |\n",
      "| bc/               |           |\n",
      "|    batch          | 0         |\n",
      "|    ent_loss       | -5.27e-05 |\n",
      "|    entropy        | 0.0527    |\n",
      "|    epoch          | 0         |\n",
      "|    l2_loss        | 0         |\n",
      "|    l2_norm        | 1.95e+05  |\n",
      "|    loss           | 0.0393    |\n",
      "|    neglogp        | 0.0393    |\n",
      "|    prob_true_act  | 0.974     |\n",
      "|    samples_so_far | 32        |\n",
      "---------------------------------\n"
     ]
    },
    {
     "name": "stderr",
     "output_type": "stream",
     "text": [
      "246batch [00:04, 53.80batch/s]\n",
      "0batch [00:00, ?batch/s]"
     ]
    },
    {
     "name": "stdout",
     "output_type": "stream",
     "text": [
      "--------------------------------\n",
      "| batch_size        | 32       |\n",
      "| bc/               |          |\n",
      "|    batch          | 0        |\n",
      "|    ent_loss       | -8.5e-07 |\n",
      "|    entropy        | 0.00085  |\n",
      "|    epoch          | 0        |\n",
      "|    l2_loss        | 0        |\n",
      "|    l2_norm        | 1.95e+05 |\n",
      "|    loss           | 7.53e-05 |\n",
      "|    neglogp        | 7.62e-05 |\n",
      "|    prob_true_act  | 1        |\n",
      "|    samples_so_far | 32       |\n",
      "--------------------------------\n"
     ]
    },
    {
     "name": "stderr",
     "output_type": "stream",
     "text": [
      "246batch [00:04, 54.13batch/s]\n",
      "0batch [00:00, ?batch/s]"
     ]
    },
    {
     "name": "stdout",
     "output_type": "stream",
     "text": [
      "---------------------------------\n",
      "| batch_size        | 32        |\n",
      "| bc/               |           |\n",
      "|    batch          | 0         |\n",
      "|    ent_loss       | -1.36e-06 |\n",
      "|    entropy        | 0.00136   |\n",
      "|    epoch          | 0         |\n",
      "|    l2_loss        | 0         |\n",
      "|    l2_norm        | 1.95e+05  |\n",
      "|    loss           | 0.000135  |\n",
      "|    neglogp        | 0.000136  |\n",
      "|    prob_true_act  | 1         |\n",
      "|    samples_so_far | 32        |\n",
      "---------------------------------\n"
     ]
    },
    {
     "name": "stderr",
     "output_type": "stream",
     "text": [
      "246batch [00:04, 54.89batch/s]\n",
      "0batch [00:00, ?batch/s]"
     ]
    },
    {
     "name": "stdout",
     "output_type": "stream",
     "text": [
      "---------------------------------\n",
      "| batch_size        | 32        |\n",
      "| bc/               |           |\n",
      "|    batch          | 0         |\n",
      "|    ent_loss       | -4.56e-05 |\n",
      "|    entropy        | 0.0456    |\n",
      "|    epoch          | 0         |\n",
      "|    l2_loss        | 0         |\n",
      "|    l2_norm        | 1.95e+05  |\n",
      "|    loss           | 0.0524    |\n",
      "|    neglogp        | 0.0524    |\n",
      "|    prob_true_act  | 0.965     |\n",
      "|    samples_so_far | 32        |\n",
      "---------------------------------\n"
     ]
    },
    {
     "name": "stderr",
     "output_type": "stream",
     "text": [
      "246batch [00:04, 54.92batch/s]\n",
      "0batch [00:00, ?batch/s]"
     ]
    },
    {
     "name": "stdout",
     "output_type": "stream",
     "text": [
      "---------------------------------\n",
      "| batch_size        | 32        |\n",
      "| bc/               |           |\n",
      "|    batch          | 0         |\n",
      "|    ent_loss       | -2.02e-06 |\n",
      "|    entropy        | 0.00202   |\n",
      "|    epoch          | 0         |\n",
      "|    l2_loss        | 0         |\n",
      "|    l2_norm        | 1.95e+05  |\n",
      "|    loss           | 0.000188  |\n",
      "|    neglogp        | 0.00019   |\n",
      "|    prob_true_act  | 1         |\n",
      "|    samples_so_far | 32        |\n",
      "---------------------------------\n"
     ]
    },
    {
     "name": "stderr",
     "output_type": "stream",
     "text": [
      "246batch [00:04, 55.15batch/s]\n",
      "0batch [00:00, ?batch/s]"
     ]
    },
    {
     "name": "stdout",
     "output_type": "stream",
     "text": [
      "---------------------------------\n",
      "| batch_size        | 32        |\n",
      "| bc/               |           |\n",
      "|    batch          | 0         |\n",
      "|    ent_loss       | -3.92e-05 |\n",
      "|    entropy        | 0.0392    |\n",
      "|    epoch          | 0         |\n",
      "|    l2_loss        | 0         |\n",
      "|    l2_norm        | 1.95e+05  |\n",
      "|    loss           | 0.0324    |\n",
      "|    neglogp        | 0.0324    |\n",
      "|    prob_true_act  | 0.98      |\n",
      "|    samples_so_far | 32        |\n",
      "---------------------------------\n"
     ]
    },
    {
     "name": "stderr",
     "output_type": "stream",
     "text": [
      "246batch [00:04, 54.22batch/s]\n",
      "0batch [00:00, ?batch/s]"
     ]
    },
    {
     "name": "stdout",
     "output_type": "stream",
     "text": [
      "---------------------------------\n",
      "| batch_size        | 32        |\n",
      "| bc/               |           |\n",
      "|    batch          | 0         |\n",
      "|    ent_loss       | -1.98e-05 |\n",
      "|    entropy        | 0.0198    |\n",
      "|    epoch          | 0         |\n",
      "|    l2_loss        | 0         |\n",
      "|    l2_norm        | 1.95e+05  |\n",
      "|    loss           | 0.0105    |\n",
      "|    neglogp        | 0.0105    |\n",
      "|    prob_true_act  | 0.991     |\n",
      "|    samples_so_far | 32        |\n",
      "---------------------------------\n"
     ]
    },
    {
     "name": "stderr",
     "output_type": "stream",
     "text": [
      "246batch [00:04, 54.68batch/s]\n",
      "0batch [00:00, ?batch/s]"
     ]
    },
    {
     "name": "stdout",
     "output_type": "stream",
     "text": [
      "---------------------------------\n",
      "| batch_size        | 32        |\n",
      "| bc/               |           |\n",
      "|    batch          | 0         |\n",
      "|    ent_loss       | -5.64e-05 |\n",
      "|    entropy        | 0.0564    |\n",
      "|    epoch          | 0         |\n",
      "|    l2_loss        | 0         |\n",
      "|    l2_norm        | 1.96e+05  |\n",
      "|    loss           | 0.0698    |\n",
      "|    neglogp        | 0.0699    |\n",
      "|    prob_true_act  | 0.961     |\n",
      "|    samples_so_far | 32        |\n",
      "---------------------------------\n"
     ]
    },
    {
     "name": "stderr",
     "output_type": "stream",
     "text": [
      "246batch [00:04, 55.51batch/s]\n",
      "0batch [00:00, ?batch/s]"
     ]
    },
    {
     "name": "stdout",
     "output_type": "stream",
     "text": [
      "---------------------------------\n",
      "| batch_size        | 32        |\n",
      "| bc/               |           |\n",
      "|    batch          | 0         |\n",
      "|    ent_loss       | -6.82e-05 |\n",
      "|    entropy        | 0.0682    |\n",
      "|    epoch          | 0         |\n",
      "|    l2_loss        | 0         |\n",
      "|    l2_norm        | 1.96e+05  |\n",
      "|    loss           | 0.0679    |\n",
      "|    neglogp        | 0.068     |\n",
      "|    prob_true_act  | 0.961     |\n",
      "|    samples_so_far | 32        |\n",
      "---------------------------------\n"
     ]
    },
    {
     "name": "stderr",
     "output_type": "stream",
     "text": [
      "246batch [00:04, 54.37batch/s]\n",
      "0batch [00:00, ?batch/s]"
     ]
    },
    {
     "name": "stdout",
     "output_type": "stream",
     "text": [
      "---------------------------------\n",
      "| batch_size        | 32        |\n",
      "| bc/               |           |\n",
      "|    batch          | 0         |\n",
      "|    ent_loss       | -1.81e-05 |\n",
      "|    entropy        | 0.0181    |\n",
      "|    epoch          | 0         |\n",
      "|    l2_loss        | 0         |\n",
      "|    l2_norm        | 1.96e+05  |\n",
      "|    loss           | 0.00805   |\n",
      "|    neglogp        | 0.00807   |\n",
      "|    prob_true_act  | 0.993     |\n",
      "|    samples_so_far | 32        |\n",
      "---------------------------------\n"
     ]
    },
    {
     "name": "stderr",
     "output_type": "stream",
     "text": [
      "246batch [00:04, 54.07batch/s]\n",
      "0batch [00:00, ?batch/s]"
     ]
    },
    {
     "name": "stdout",
     "output_type": "stream",
     "text": [
      "---------------------------------\n",
      "| batch_size        | 32        |\n",
      "| bc/               |           |\n",
      "|    batch          | 0         |\n",
      "|    ent_loss       | -6.57e-07 |\n",
      "|    entropy        | 0.000657  |\n",
      "|    epoch          | 0         |\n",
      "|    l2_loss        | 0         |\n",
      "|    l2_norm        | 1.96e+05  |\n",
      "|    loss           | 5.52e-05  |\n",
      "|    neglogp        | 5.58e-05  |\n",
      "|    prob_true_act  | 1         |\n",
      "|    samples_so_far | 32        |\n",
      "---------------------------------\n"
     ]
    },
    {
     "name": "stderr",
     "output_type": "stream",
     "text": [
      "246batch [00:04, 52.15batch/s]\n",
      "0batch [00:00, ?batch/s]"
     ]
    },
    {
     "name": "stdout",
     "output_type": "stream",
     "text": [
      "---------------------------------\n",
      "| batch_size        | 32        |\n",
      "| bc/               |           |\n",
      "|    batch          | 0         |\n",
      "|    ent_loss       | -2.19e-05 |\n",
      "|    entropy        | 0.0219    |\n",
      "|    epoch          | 0         |\n",
      "|    l2_loss        | 0         |\n",
      "|    l2_norm        | 1.96e+05  |\n",
      "|    loss           | 0.0138    |\n",
      "|    neglogp        | 0.0139    |\n",
      "|    prob_true_act  | 0.989     |\n",
      "|    samples_so_far | 32        |\n",
      "---------------------------------\n"
     ]
    },
    {
     "name": "stderr",
     "output_type": "stream",
     "text": [
      "246batch [00:04, 54.91batch/s]\n",
      "0batch [00:00, ?batch/s]"
     ]
    },
    {
     "name": "stdout",
     "output_type": "stream",
     "text": [
      "---------------------------------\n",
      "| batch_size        | 32        |\n",
      "| bc/               |           |\n",
      "|    batch          | 0         |\n",
      "|    ent_loss       | -3.61e-05 |\n",
      "|    entropy        | 0.0361    |\n",
      "|    epoch          | 0         |\n",
      "|    l2_loss        | 0         |\n",
      "|    l2_norm        | 1.96e+05  |\n",
      "|    loss           | 0.0422    |\n",
      "|    neglogp        | 0.0423    |\n",
      "|    prob_true_act  | 0.977     |\n",
      "|    samples_so_far | 32        |\n",
      "---------------------------------\n"
     ]
    },
    {
     "name": "stderr",
     "output_type": "stream",
     "text": [
      "246batch [00:04, 54.64batch/s]\n",
      "0batch [00:00, ?batch/s]"
     ]
    },
    {
     "name": "stdout",
     "output_type": "stream",
     "text": [
      "---------------------------------\n",
      "| batch_size        | 32        |\n",
      "| bc/               |           |\n",
      "|    batch          | 0         |\n",
      "|    ent_loss       | -4.27e-07 |\n",
      "|    entropy        | 0.000427  |\n",
      "|    epoch          | 0         |\n",
      "|    l2_loss        | 0         |\n",
      "|    l2_norm        | 1.96e+05  |\n",
      "|    loss           | 3.37e-05  |\n",
      "|    neglogp        | 3.42e-05  |\n",
      "|    prob_true_act  | 1         |\n",
      "|    samples_so_far | 32        |\n",
      "---------------------------------\n"
     ]
    },
    {
     "name": "stderr",
     "output_type": "stream",
     "text": [
      "246batch [00:04, 53.89batch/s]\n",
      "0batch [00:00, ?batch/s]"
     ]
    },
    {
     "name": "stdout",
     "output_type": "stream",
     "text": [
      "---------------------------------\n",
      "| batch_size        | 32        |\n",
      "| bc/               |           |\n",
      "|    batch          | 0         |\n",
      "|    ent_loss       | -5.58e-07 |\n",
      "|    entropy        | 0.000558  |\n",
      "|    epoch          | 0         |\n",
      "|    l2_loss        | 0         |\n",
      "|    l2_norm        | 1.96e+05  |\n",
      "|    loss           | 4.25e-05  |\n",
      "|    neglogp        | 4.3e-05   |\n",
      "|    prob_true_act  | 1         |\n",
      "|    samples_so_far | 32        |\n",
      "---------------------------------\n"
     ]
    },
    {
     "name": "stderr",
     "output_type": "stream",
     "text": [
      "246batch [00:04, 54.81batch/s]\n",
      "0batch [00:00, ?batch/s]"
     ]
    },
    {
     "name": "stdout",
     "output_type": "stream",
     "text": [
      "---------------------------------\n",
      "| batch_size        | 32        |\n",
      "| bc/               |           |\n",
      "|    batch          | 0         |\n",
      "|    ent_loss       | -3.42e-05 |\n",
      "|    entropy        | 0.0342    |\n",
      "|    epoch          | 0         |\n",
      "|    l2_loss        | 0         |\n",
      "|    l2_norm        | 1.96e+05  |\n",
      "|    loss           | 0.0434    |\n",
      "|    neglogp        | 0.0434    |\n",
      "|    prob_true_act  | 0.977     |\n",
      "|    samples_so_far | 32        |\n",
      "---------------------------------\n"
     ]
    },
    {
     "name": "stderr",
     "output_type": "stream",
     "text": [
      "246batch [00:04, 53.52batch/s]\n",
      "0batch [00:00, ?batch/s]"
     ]
    },
    {
     "name": "stdout",
     "output_type": "stream",
     "text": [
      "---------------------------------\n",
      "| batch_size        | 32        |\n",
      "| bc/               |           |\n",
      "|    batch          | 0         |\n",
      "|    ent_loss       | -4.68e-05 |\n",
      "|    entropy        | 0.0468    |\n",
      "|    epoch          | 0         |\n",
      "|    l2_loss        | 0         |\n",
      "|    l2_norm        | 1.96e+05  |\n",
      "|    loss           | 0.052     |\n",
      "|    neglogp        | 0.052     |\n",
      "|    prob_true_act  | 0.974     |\n",
      "|    samples_so_far | 32        |\n",
      "---------------------------------\n"
     ]
    },
    {
     "name": "stderr",
     "output_type": "stream",
     "text": [
      "246batch [00:04, 55.34batch/s]\n",
      "0batch [00:00, ?batch/s]"
     ]
    },
    {
     "name": "stdout",
     "output_type": "stream",
     "text": [
      "---------------------------------\n",
      "| batch_size        | 32        |\n",
      "| bc/               |           |\n",
      "|    batch          | 0         |\n",
      "|    ent_loss       | -2.28e-05 |\n",
      "|    entropy        | 0.0228    |\n",
      "|    epoch          | 0         |\n",
      "|    l2_loss        | 0         |\n",
      "|    l2_norm        | 1.96e+05  |\n",
      "|    loss           | 0.0151    |\n",
      "|    neglogp        | 0.0152    |\n",
      "|    prob_true_act  | 0.988     |\n",
      "|    samples_so_far | 32        |\n",
      "---------------------------------\n"
     ]
    },
    {
     "name": "stderr",
     "output_type": "stream",
     "text": [
      "246batch [00:04, 54.78batch/s]\n",
      "0batch [00:00, ?batch/s]"
     ]
    },
    {
     "name": "stdout",
     "output_type": "stream",
     "text": [
      "---------------------------------\n",
      "| batch_size        | 32        |\n",
      "| bc/               |           |\n",
      "|    batch          | 0         |\n",
      "|    ent_loss       | -1.08e-06 |\n",
      "|    entropy        | 0.00108   |\n",
      "|    epoch          | 0         |\n",
      "|    l2_loss        | 0         |\n",
      "|    l2_norm        | 1.97e+05  |\n",
      "|    loss           | 9.83e-05  |\n",
      "|    neglogp        | 9.93e-05  |\n",
      "|    prob_true_act  | 1         |\n",
      "|    samples_so_far | 32        |\n",
      "---------------------------------\n"
     ]
    },
    {
     "name": "stderr",
     "output_type": "stream",
     "text": [
      "246batch [00:04, 54.17batch/s]\n",
      "0batch [00:00, ?batch/s]"
     ]
    },
    {
     "name": "stdout",
     "output_type": "stream",
     "text": [
      "---------------------------------\n",
      "| batch_size        | 32        |\n",
      "| bc/               |           |\n",
      "|    batch          | 0         |\n",
      "|    ent_loss       | -4.69e-05 |\n",
      "|    entropy        | 0.0469    |\n",
      "|    epoch          | 0         |\n",
      "|    l2_loss        | 0         |\n",
      "|    l2_norm        | 1.97e+05  |\n",
      "|    loss           | 0.053     |\n",
      "|    neglogp        | 0.0531    |\n",
      "|    prob_true_act  | 0.964     |\n",
      "|    samples_so_far | 32        |\n",
      "---------------------------------\n"
     ]
    },
    {
     "name": "stderr",
     "output_type": "stream",
     "text": [
      "246batch [00:04, 55.01batch/s]\n",
      "0batch [00:00, ?batch/s]"
     ]
    },
    {
     "name": "stdout",
     "output_type": "stream",
     "text": [
      "---------------------------------\n",
      "| batch_size        | 32        |\n",
      "| bc/               |           |\n",
      "|    batch          | 0         |\n",
      "|    ent_loss       | -3.78e-05 |\n",
      "|    entropy        | 0.0378    |\n",
      "|    epoch          | 0         |\n",
      "|    l2_loss        | 0         |\n",
      "|    l2_norm        | 1.97e+05  |\n",
      "|    loss           | 0.04      |\n",
      "|    neglogp        | 0.04      |\n",
      "|    prob_true_act  | 0.977     |\n",
      "|    samples_so_far | 32        |\n",
      "---------------------------------\n"
     ]
    },
    {
     "name": "stderr",
     "output_type": "stream",
     "text": [
      "246batch [00:04, 54.98batch/s]\n",
      "0batch [00:00, ?batch/s]"
     ]
    },
    {
     "name": "stdout",
     "output_type": "stream",
     "text": [
      "---------------------------------\n",
      "| batch_size        | 32        |\n",
      "| bc/               |           |\n",
      "|    batch          | 0         |\n",
      "|    ent_loss       | -4.88e-05 |\n",
      "|    entropy        | 0.0488    |\n",
      "|    epoch          | 0         |\n",
      "|    l2_loss        | 0         |\n",
      "|    l2_norm        | 1.97e+05  |\n",
      "|    loss           | 0.0291    |\n",
      "|    neglogp        | 0.0292    |\n",
      "|    prob_true_act  | 0.977     |\n",
      "|    samples_so_far | 32        |\n",
      "---------------------------------\n"
     ]
    },
    {
     "name": "stderr",
     "output_type": "stream",
     "text": [
      "246batch [00:04, 53.98batch/s]\n",
      "0batch [00:00, ?batch/s]"
     ]
    },
    {
     "name": "stdout",
     "output_type": "stream",
     "text": [
      "---------------------------------\n",
      "| batch_size        | 32        |\n",
      "| bc/               |           |\n",
      "|    batch          | 0         |\n",
      "|    ent_loss       | -9.65e-05 |\n",
      "|    entropy        | 0.0965    |\n",
      "|    epoch          | 0         |\n",
      "|    l2_loss        | 0         |\n",
      "|    l2_norm        | 1.97e+05  |\n",
      "|    loss           | 0.0885    |\n",
      "|    neglogp        | 0.0886    |\n",
      "|    prob_true_act  | 0.953     |\n",
      "|    samples_so_far | 32        |\n",
      "---------------------------------\n"
     ]
    },
    {
     "name": "stderr",
     "output_type": "stream",
     "text": [
      "246batch [00:04, 55.37batch/s]\n",
      "0batch [00:00, ?batch/s]"
     ]
    },
    {
     "name": "stdout",
     "output_type": "stream",
     "text": [
      "---------------------------------\n",
      "| batch_size        | 32        |\n",
      "| bc/               |           |\n",
      "|    batch          | 0         |\n",
      "|    ent_loss       | -2.46e-05 |\n",
      "|    entropy        | 0.0246    |\n",
      "|    epoch          | 0         |\n",
      "|    l2_loss        | 0         |\n",
      "|    l2_norm        | 1.97e+05  |\n",
      "|    loss           | 0.0233    |\n",
      "|    neglogp        | 0.0233    |\n",
      "|    prob_true_act  | 0.983     |\n",
      "|    samples_so_far | 32        |\n",
      "---------------------------------\n"
     ]
    },
    {
     "name": "stderr",
     "output_type": "stream",
     "text": [
      "246batch [00:04, 55.39batch/s]\n",
      "0batch [00:00, ?batch/s]"
     ]
    },
    {
     "name": "stdout",
     "output_type": "stream",
     "text": [
      "---------------------------------\n",
      "| batch_size        | 32        |\n",
      "| bc/               |           |\n",
      "|    batch          | 0         |\n",
      "|    ent_loss       | -6.48e-07 |\n",
      "|    entropy        | 0.000648  |\n",
      "|    epoch          | 0         |\n",
      "|    l2_loss        | 0         |\n",
      "|    l2_norm        | 1.97e+05  |\n",
      "|    loss           | 5.56e-05  |\n",
      "|    neglogp        | 5.63e-05  |\n",
      "|    prob_true_act  | 1         |\n",
      "|    samples_so_far | 32        |\n",
      "---------------------------------\n"
     ]
    },
    {
     "name": "stderr",
     "output_type": "stream",
     "text": [
      "246batch [00:04, 54.14batch/s]\n",
      "0batch [00:00, ?batch/s]"
     ]
    },
    {
     "name": "stdout",
     "output_type": "stream",
     "text": [
      "---------------------------------\n",
      "| batch_size        | 32        |\n",
      "| bc/               |           |\n",
      "|    batch          | 0         |\n",
      "|    ent_loss       | -3.95e-05 |\n",
      "|    entropy        | 0.0395    |\n",
      "|    epoch          | 0         |\n",
      "|    l2_loss        | 0         |\n",
      "|    l2_norm        | 1.97e+05  |\n",
      "|    loss           | 0.0356    |\n",
      "|    neglogp        | 0.0357    |\n",
      "|    prob_true_act  | 0.979     |\n",
      "|    samples_so_far | 32        |\n",
      "---------------------------------\n"
     ]
    },
    {
     "name": "stderr",
     "output_type": "stream",
     "text": [
      "246batch [00:04, 54.78batch/s]\n",
      "0batch [00:00, ?batch/s]"
     ]
    },
    {
     "name": "stdout",
     "output_type": "stream",
     "text": [
      "---------------------------------\n",
      "| batch_size        | 32        |\n",
      "| bc/               |           |\n",
      "|    batch          | 0         |\n",
      "|    ent_loss       | -1.08e-06 |\n",
      "|    entropy        | 0.00108   |\n",
      "|    epoch          | 0         |\n",
      "|    l2_loss        | 0         |\n",
      "|    l2_norm        | 1.97e+05  |\n",
      "|    loss           | 9.05e-05  |\n",
      "|    neglogp        | 9.16e-05  |\n",
      "|    prob_true_act  | 1         |\n",
      "|    samples_so_far | 32        |\n",
      "---------------------------------\n"
     ]
    },
    {
     "name": "stderr",
     "output_type": "stream",
     "text": [
      "246batch [00:04, 54.43batch/s]\n",
      "0batch [00:00, ?batch/s]"
     ]
    },
    {
     "name": "stdout",
     "output_type": "stream",
     "text": [
      "---------------------------------\n",
      "| batch_size        | 32        |\n",
      "| bc/               |           |\n",
      "|    batch          | 0         |\n",
      "|    ent_loss       | -5.09e-07 |\n",
      "|    entropy        | 0.000509  |\n",
      "|    epoch          | 0         |\n",
      "|    l2_loss        | 0         |\n",
      "|    l2_norm        | 1.97e+05  |\n",
      "|    loss           | 3.88e-05  |\n",
      "|    neglogp        | 3.93e-05  |\n",
      "|    prob_true_act  | 1         |\n",
      "|    samples_so_far | 32        |\n",
      "---------------------------------\n"
     ]
    },
    {
     "name": "stderr",
     "output_type": "stream",
     "text": [
      "246batch [00:04, 54.80batch/s]\n",
      "0batch [00:00, ?batch/s]"
     ]
    },
    {
     "name": "stdout",
     "output_type": "stream",
     "text": [
      "---------------------------------\n",
      "| batch_size        | 32        |\n",
      "| bc/               |           |\n",
      "|    batch          | 0         |\n",
      "|    ent_loss       | -2.21e-05 |\n",
      "|    entropy        | 0.0221    |\n",
      "|    epoch          | 0         |\n",
      "|    l2_loss        | 0         |\n",
      "|    l2_norm        | 1.97e+05  |\n",
      "|    loss           | 0.0178    |\n",
      "|    neglogp        | 0.0178    |\n",
      "|    prob_true_act  | 0.986     |\n",
      "|    samples_so_far | 32        |\n",
      "---------------------------------\n"
     ]
    },
    {
     "name": "stderr",
     "output_type": "stream",
     "text": [
      "246batch [00:04, 55.64batch/s]\n",
      "0batch [00:00, ?batch/s]"
     ]
    },
    {
     "name": "stdout",
     "output_type": "stream",
     "text": [
      "---------------------------------\n",
      "| batch_size        | 32        |\n",
      "| bc/               |           |\n",
      "|    batch          | 0         |\n",
      "|    ent_loss       | -5.66e-07 |\n",
      "|    entropy        | 0.000566  |\n",
      "|    epoch          | 0         |\n",
      "|    l2_loss        | 0         |\n",
      "|    l2_norm        | 1.97e+05  |\n",
      "|    loss           | 4.44e-05  |\n",
      "|    neglogp        | 4.49e-05  |\n",
      "|    prob_true_act  | 1         |\n",
      "|    samples_so_far | 32        |\n",
      "---------------------------------\n"
     ]
    },
    {
     "name": "stderr",
     "output_type": "stream",
     "text": [
      "246batch [00:04, 53.93batch/s]\n",
      "0batch [00:00, ?batch/s]"
     ]
    },
    {
     "name": "stdout",
     "output_type": "stream",
     "text": [
      "---------------------------------\n",
      "| batch_size        | 32        |\n",
      "| bc/               |           |\n",
      "|    batch          | 0         |\n",
      "|    ent_loss       | -5.16e-07 |\n",
      "|    entropy        | 0.000516  |\n",
      "|    epoch          | 0         |\n",
      "|    l2_loss        | 0         |\n",
      "|    l2_norm        | 1.97e+05  |\n",
      "|    loss           | 4.29e-05  |\n",
      "|    neglogp        | 4.34e-05  |\n",
      "|    prob_true_act  | 1         |\n",
      "|    samples_so_far | 32        |\n",
      "---------------------------------\n"
     ]
    },
    {
     "name": "stderr",
     "output_type": "stream",
     "text": [
      "246batch [00:04, 55.04batch/s]\n",
      "0batch [00:00, ?batch/s]"
     ]
    },
    {
     "name": "stdout",
     "output_type": "stream",
     "text": [
      "--------------------------------\n",
      "| batch_size        | 32       |\n",
      "| bc/               |          |\n",
      "|    batch          | 0        |\n",
      "|    ent_loss       | -3.9e-05 |\n",
      "|    entropy        | 0.039    |\n",
      "|    epoch          | 0        |\n",
      "|    l2_loss        | 0        |\n",
      "|    l2_norm        | 1.97e+05 |\n",
      "|    loss           | 0.0204   |\n",
      "|    neglogp        | 0.0205   |\n",
      "|    prob_true_act  | 0.983    |\n",
      "|    samples_so_far | 32       |\n",
      "--------------------------------\n"
     ]
    },
    {
     "name": "stderr",
     "output_type": "stream",
     "text": [
      "246batch [00:04, 53.72batch/s]\n",
      "0batch [00:00, ?batch/s]"
     ]
    },
    {
     "name": "stdout",
     "output_type": "stream",
     "text": [
      "---------------------------------\n",
      "| batch_size        | 32        |\n",
      "| bc/               |           |\n",
      "|    batch          | 0         |\n",
      "|    ent_loss       | -3.65e-05 |\n",
      "|    entropy        | 0.0365    |\n",
      "|    epoch          | 0         |\n",
      "|    l2_loss        | 0         |\n",
      "|    l2_norm        | 1.98e+05  |\n",
      "|    loss           | 0.0395    |\n",
      "|    neglogp        | 0.0395    |\n",
      "|    prob_true_act  | 0.978     |\n",
      "|    samples_so_far | 32        |\n",
      "---------------------------------\n"
     ]
    },
    {
     "name": "stderr",
     "output_type": "stream",
     "text": [
      "246batch [00:04, 54.30batch/s]\n",
      "0batch [00:00, ?batch/s]"
     ]
    },
    {
     "name": "stdout",
     "output_type": "stream",
     "text": [
      "---------------------------------\n",
      "| batch_size        | 32        |\n",
      "| bc/               |           |\n",
      "|    batch          | 0         |\n",
      "|    ent_loss       | -4.63e-05 |\n",
      "|    entropy        | 0.0463    |\n",
      "|    epoch          | 0         |\n",
      "|    l2_loss        | 0         |\n",
      "|    l2_norm        | 1.98e+05  |\n",
      "|    loss           | 0.044     |\n",
      "|    neglogp        | 0.044     |\n",
      "|    prob_true_act  | 0.976     |\n",
      "|    samples_so_far | 32        |\n",
      "---------------------------------\n"
     ]
    },
    {
     "name": "stderr",
     "output_type": "stream",
     "text": [
      "246batch [00:04, 54.91batch/s]\n",
      "0batch [00:00, ?batch/s]"
     ]
    },
    {
     "name": "stdout",
     "output_type": "stream",
     "text": [
      "---------------------------------\n",
      "| batch_size        | 32        |\n",
      "| bc/               |           |\n",
      "|    batch          | 0         |\n",
      "|    ent_loss       | -2.29e-05 |\n",
      "|    entropy        | 0.0229    |\n",
      "|    epoch          | 0         |\n",
      "|    l2_loss        | 0         |\n",
      "|    l2_norm        | 1.98e+05  |\n",
      "|    loss           | 0.0231    |\n",
      "|    neglogp        | 0.0231    |\n",
      "|    prob_true_act  | 0.984     |\n",
      "|    samples_so_far | 32        |\n",
      "---------------------------------\n"
     ]
    },
    {
     "name": "stderr",
     "output_type": "stream",
     "text": [
      "246batch [00:04, 53.58batch/s]\n",
      "0batch [00:00, ?batch/s]"
     ]
    },
    {
     "name": "stdout",
     "output_type": "stream",
     "text": [
      "---------------------------------\n",
      "| batch_size        | 32        |\n",
      "| bc/               |           |\n",
      "|    batch          | 0         |\n",
      "|    ent_loss       | -1.87e-05 |\n",
      "|    entropy        | 0.0187    |\n",
      "|    epoch          | 0         |\n",
      "|    l2_loss        | 0         |\n",
      "|    l2_norm        | 1.98e+05  |\n",
      "|    loss           | 0.00909   |\n",
      "|    neglogp        | 0.00911   |\n",
      "|    prob_true_act  | 0.992     |\n",
      "|    samples_so_far | 32        |\n",
      "---------------------------------\n"
     ]
    },
    {
     "name": "stderr",
     "output_type": "stream",
     "text": [
      "246batch [00:04, 55.00batch/s]\n",
      "0batch [00:00, ?batch/s]"
     ]
    },
    {
     "name": "stdout",
     "output_type": "stream",
     "text": [
      "---------------------------------\n",
      "| batch_size        | 32        |\n",
      "| bc/               |           |\n",
      "|    batch          | 0         |\n",
      "|    ent_loss       | -7.14e-07 |\n",
      "|    entropy        | 0.000714  |\n",
      "|    epoch          | 0         |\n",
      "|    l2_loss        | 0         |\n",
      "|    l2_norm        | 1.98e+05  |\n",
      "|    loss           | 6.1e-05   |\n",
      "|    neglogp        | 6.17e-05  |\n",
      "|    prob_true_act  | 1         |\n",
      "|    samples_so_far | 32        |\n",
      "---------------------------------\n"
     ]
    },
    {
     "name": "stderr",
     "output_type": "stream",
     "text": [
      "246batch [00:04, 54.22batch/s]\n",
      "0batch [00:00, ?batch/s]"
     ]
    },
    {
     "name": "stdout",
     "output_type": "stream",
     "text": [
      "---------------------------------\n",
      "| batch_size        | 32        |\n",
      "| bc/               |           |\n",
      "|    batch          | 0         |\n",
      "|    ent_loss       | -5.43e-05 |\n",
      "|    entropy        | 0.0543    |\n",
      "|    epoch          | 0         |\n",
      "|    l2_loss        | 0         |\n",
      "|    l2_norm        | 1.98e+05  |\n",
      "|    loss           | 0.0293    |\n",
      "|    neglogp        | 0.0293    |\n",
      "|    prob_true_act  | 0.977     |\n",
      "|    samples_so_far | 32        |\n",
      "---------------------------------\n"
     ]
    },
    {
     "name": "stderr",
     "output_type": "stream",
     "text": [
      "246batch [00:04, 55.14batch/s]"
     ]
    },
    {
     "name": "stdout",
     "output_type": "stream",
     "text": [
      "Checkpoint saved at checkpoints\\bc_model_epoch_1000.zip\n"
     ]
    },
    {
     "name": "stderr",
     "output_type": "stream",
     "text": [
      "\n"
     ]
    }
   ],
   "source": [
    "import os\n",
    "checkpoint_dir = \"checkpoints\"\n",
    "os.makedirs(checkpoint_dir, exist_ok=True)\n",
    "\n",
    "# Train the model with checkpointing\n",
    "n_epochs = 1000\n",
    "checkpoint_interval = 50  # Save a checkpoint every 2 epochs\n",
    "\n",
    "for epoch in range(n_epochs):\n",
    "    bc_trainer.train(n_epochs=1)  # Train for 1 epoch\n",
    "    if (epoch + 1) % checkpoint_interval == 0:\n",
    "        checkpoint_path = os.path.join(checkpoint_dir, f\"bc_model_epoch_{epoch + 1}.zip\")\n",
    "        bc_trainer.policy.save(checkpoint_path)\n",
    "        print(f\"Checkpoint saved at {checkpoint_path}\")\n"
   ]
  },
  {
   "cell_type": "code",
   "execution_count": null,
   "metadata": {},
   "outputs": [],
   "source": [
    "#loading specific checkpoint \n",
    "from stable_baselines3.common.policies import ActorCriticPolicy\n",
    "\n",
    "# Load a specific checkpoint\n",
    "checkpoint_path = \"checkpoints/bc_model_epoch_6.zip\"  # Example checkpoint path\n",
    "loaded_policy = ActorCriticPolicy.load(checkpoint_path, env.observation_space, env.action_space)\n",
    "\n",
    "# Continue training or evaluate the loaded policy\n",
    "bc_trainer = BC(\n",
    "    observation_space=env.observation_space,\n",
    "    action_space=env.action_space,\n",
    "    demonstrations=transitions,\n",
    "    policy=loaded_policy\n",
    ")\n",
    "\n",
    "# Example: Continue training for more epochs\n",
    "bc_trainer.train(n_epochs=5)\n",
    "\n",
    "# Example: Evaluate the loaded policy\n",
    "def evaluate_policy(policy, env, n_episodes=10):\n",
    "    total_rewards = []\n",
    "    for _ in range(n_episodes):\n",
    "        obs = env.reset()\n",
    "        done = False\n",
    "        total_reward = 0.0\n",
    "        while not done:\n",
    "            action, _ = policy.predict(obs, deterministic=True)\n",
    "            obs, reward, done, _ = env.step(action)\n",
    "            total_reward += reward\n",
    "        total_rewards.append(total_reward)\n",
    "    return np.mean(total_rewards)\n",
    "\n",
    "trained_performance = evaluate_policy(loaded_policy, env)\n",
    "print(f\"Loaded policy performance: {trained_performance}\")"
   ]
  },
  {
   "cell_type": "code",
   "execution_count": 62,
   "metadata": {},
   "outputs": [
    {
     "name": "stdout",
     "output_type": "stream",
     "text": [
      "Target word: PHASE\n",
      "Attempts left: 6\n",
      "Current guess: SALET\n",
      "Target word: PHASE\n",
      "Attempts left: 5\n",
      "Current guess: BRASH\n",
      "Target word: PHASE\n",
      "Attempts left: 4\n",
      "Current guess: CHASE\n",
      "Word guessed correctly!\n",
      "Target word: GOLEM\n",
      "Attempts left: 6\n",
      "Current guess: SALET\n",
      "Target word: GOLEM\n",
      "Attempts left: 5\n",
      "Current guess: IDLER\n",
      "Word guessed correctly!\n",
      "Target word: FROWN\n",
      "Attempts left: 6\n",
      "Current guess: SALET\n",
      "Target word: FROWN\n",
      "Attempts left: 5\n",
      "Current guess: COURD\n",
      "Target word: FROWN\n",
      "Attempts left: 4\n",
      "Current guess: GIMPY\n",
      "Target word: FROWN\n",
      "Attempts left: 3\n",
      "Current guess: BROOK\n",
      "Word guessed correctly!\n",
      "Target word: GRAPH\n",
      "Attempts left: 6\n",
      "Current guess: SALET\n",
      "Target word: GRAPH\n",
      "Attempts left: 5\n",
      "Current guess: BROND\n",
      "Target word: GRAPH\n",
      "Attempts left: 4\n",
      "Current guess: CRAZY\n",
      "Word guessed correctly!\n",
      "Target word: CANAL\n",
      "Attempts left: 6\n",
      "Current guess: SALET\n",
      "Target word: CANAL\n",
      "Attempts left: 5\n",
      "Current guess: BINGY\n",
      "Word guessed correctly!\n",
      "Target word: BYLAW\n",
      "Attempts left: 6\n",
      "Current guess: SALET\n",
      "Target word: BYLAW\n",
      "Attempts left: 5\n",
      "Current guess: ALLAY\n",
      "Word guessed correctly!\n",
      "Target word: MOODY\n",
      "Attempts left: 6\n",
      "Current guess: SALET\n",
      "Target word: MOODY\n",
      "Attempts left: 5\n",
      "Current guess: COURD\n",
      "Target word: MOODY\n",
      "Attempts left: 4\n",
      "Current guess: HOWDY\n",
      "Target word: MOODY\n",
      "Attempts left: 3\n",
      "Current guess: GOODY\n",
      "Word guessed correctly!\n",
      "Target word: FINCH\n",
      "Attempts left: 6\n",
      "Current guess: SALET\n",
      "Target word: FINCH\n",
      "Attempts left: 5\n",
      "Current guess: COURD\n",
      "Target word: FINCH\n",
      "Attempts left: 4\n",
      "Current guess: PINCH\n",
      "Word guessed correctly!\n",
      "Target word: ADAGE\n",
      "Attempts left: 6\n",
      "Current guess: SALET\n",
      "Target word: ADAGE\n",
      "Attempts left: 5\n",
      "Current guess: BEARD\n",
      "Word guessed correctly!\n",
      "Target word: ALERT\n",
      "Attempts left: 6\n",
      "Current guess: SALET\n",
      "Target word: ALERT\n",
      "Attempts left: 5\n",
      "Current guess: PECAN\n",
      "Word guessed correctly!\n",
      "Target word: NEEDY\n",
      "Attempts left: 6\n",
      "Current guess: SALET\n",
      "Target word: NEEDY\n",
      "Attempts left: 5\n",
      "Current guess: DRONE\n",
      "Word guessed correctly!\n",
      "Target word: ALBUM\n",
      "Attempts left: 6\n",
      "Current guess: SALET\n",
      "Target word: ALBUM\n",
      "Attempts left: 5\n",
      "Current guess: CORNI\n",
      "Target word: ALBUM\n",
      "Attempts left: 4\n",
      "Current guess: AMPLY\n",
      "Word guessed correctly!\n",
      "Target word: OPERA\n",
      "Attempts left: 6\n",
      "Current guess: SALET\n",
      "Target word: OPERA\n",
      "Attempts left: 5\n",
      "Current guess: BEARD\n",
      "Target word: OPERA\n",
      "Attempts left: 4\n",
      "Current guess: AFIRE\n",
      "Word guessed correctly!\n",
      "Target word: PITCH\n",
      "Attempts left: 6\n",
      "Current guess: SALET\n",
      "Target word: PITCH\n",
      "Attempts left: 5\n",
      "Current guess: NORTH\n",
      "Target word: PITCH\n",
      "Attempts left: 4\n",
      "Current guess: BIPED\n",
      "Word guessed correctly!\n",
      "Target word: STRAP\n",
      "Attempts left: 6\n",
      "Current guess: SALET\n",
      "Target word: STRAP\n",
      "Attempts left: 5\n",
      "Current guess: PRINK\n",
      "Word guessed correctly!\n",
      "Target word: HARSH\n",
      "Attempts left: 6\n",
      "Current guess: SALET\n",
      "Target word: HARSH\n",
      "Attempts left: 5\n",
      "Current guess: CRIMP\n",
      "Word guessed correctly!\n",
      "Target word: FRONT\n",
      "Attempts left: 6\n",
      "Current guess: SALET\n",
      "Target word: FRONT\n",
      "Attempts left: 5\n",
      "Current guess: GROIN\n",
      "Word guessed correctly!\n",
      "Target word: SLIME\n",
      "Attempts left: 6\n",
      "Current guess: SALET\n",
      "Target word: SLIME\n",
      "Attempts left: 5\n",
      "Current guess: CHIME\n",
      "Word guessed correctly!\n",
      "Target word: HEARD\n",
      "Attempts left: 6\n",
      "Current guess: SALET\n",
      "Target word: HEARD\n",
      "Attempts left: 5\n",
      "Current guess: BEARD\n",
      "Word guessed correctly!\n",
      "Target word: LEASE\n",
      "Attempts left: 6\n",
      "Current guess: SALET\n",
      "Target word: LEASE\n",
      "Attempts left: 5\n",
      "Current guess: AISLE\n",
      "Word guessed correctly!\n",
      "Target word: KNOWN\n",
      "Attempts left: 6\n",
      "Current guess: SALET\n",
      "Target word: KNOWN\n",
      "Attempts left: 5\n",
      "Current guess: COURD\n",
      "Target word: KNOWN\n",
      "Attempts left: 4\n",
      "Current guess: INBOX\n",
      "Word guessed correctly!\n",
      "Target word: LIVER\n",
      "Attempts left: 6\n",
      "Current guess: SALET\n",
      "Target word: LIVER\n",
      "Attempts left: 5\n",
      "Current guess: BEVOR\n",
      "Word guessed correctly!\n",
      "Target word: NATAL\n",
      "Attempts left: 6\n",
      "Current guess: SALET\n",
      "Target word: NATAL\n",
      "Attempts left: 5\n",
      "Current guess: FATAL\n",
      "Word guessed correctly!\n",
      "Target word: WASTE\n",
      "Attempts left: 6\n",
      "Current guess: SALET\n",
      "Target word: WASTE\n",
      "Attempts left: 5\n",
      "Current guess: BATCH\n",
      "Word guessed correctly!\n",
      "Target word: VIGIL\n",
      "Attempts left: 6\n",
      "Current guess: SALET\n",
      "Target word: VIGIL\n",
      "Attempts left: 5\n",
      "Current guess: COURD\n",
      "Target word: VIGIL\n",
      "Attempts left: 4\n",
      "Current guess: FLING\n",
      "Word guessed correctly!\n",
      "Target word: CRANE\n",
      "Attempts left: 6\n",
      "Current guess: SALET\n",
      "Target word: CRANE\n",
      "Attempts left: 5\n",
      "Current guess: BEARD\n",
      "Target word: CRANE\n",
      "Attempts left: 4\n",
      "Current guess: CEZVE\n",
      "Word guessed correctly!\n",
      "Target word: OPERA\n",
      "Attempts left: 6\n",
      "Current guess: SALET\n",
      "Target word: OPERA\n",
      "Attempts left: 5\n",
      "Current guess: BEARD\n",
      "Target word: OPERA\n",
      "Attempts left: 4\n",
      "Current guess: AFIRE\n",
      "Word guessed correctly!\n",
      "Target word: CLOUD\n",
      "Attempts left: 6\n",
      "Current guess: SALET\n",
      "Target word: CLOUD\n",
      "Attempts left: 5\n",
      "Current guess: COURD\n",
      "Word guessed correctly!\n",
      "Target word: LIPID\n",
      "Attempts left: 6\n",
      "Current guess: SALET\n",
      "Target word: LIPID\n",
      "Attempts left: 5\n",
      "Current guess: COURD\n",
      "Word guessed correctly!\n",
      "Target word: JOUST\n",
      "Attempts left: 6\n",
      "Current guess: SALET\n",
      "Target word: JOUST\n",
      "Attempts left: 5\n",
      "Current guess: MORIA\n",
      "Target word: JOUST\n",
      "Attempts left: 4\n",
      "Current guess: BOOST\n",
      "Word guessed correctly!\n",
      "Target word: ERASE\n",
      "Attempts left: 6\n",
      "Current guess: SALET\n",
      "Target word: ERASE\n",
      "Attempts left: 5\n",
      "Current guess: BRASH\n",
      "Word guessed correctly!\n",
      "Target word: MOTOR\n",
      "Attempts left: 6\n",
      "Current guess: SALET\n",
      "Target word: MOTOR\n",
      "Attempts left: 5\n",
      "Current guess: NORTH\n",
      "Word guessed correctly!\n",
      "Target word: SYNOD\n",
      "Attempts left: 6\n",
      "Current guess: SALET\n",
      "Target word: SYNOD\n",
      "Attempts left: 5\n",
      "Current guess: UNRIP\n",
      "Target word: SYNOD\n",
      "Attempts left: 4\n",
      "Current guess: SHOWN\n",
      "Word guessed correctly!\n",
      "Target word: DECRY\n",
      "Attempts left: 6\n",
      "Current guess: SALET\n",
      "Target word: DECRY\n",
      "Attempts left: 5\n",
      "Current guess: DRONE\n",
      "Word guessed correctly!\n",
      "Target word: PARSE\n",
      "Attempts left: 6\n",
      "Current guess: SALET\n",
      "Target word: PARSE\n",
      "Attempts left: 5\n",
      "Current guess: PAUSE\n",
      "Word guessed correctly!\n",
      "Target word: DEBAR\n",
      "Attempts left: 6\n",
      "Current guess: SALET\n",
      "Target word: DEBAR\n",
      "Attempts left: 5\n",
      "Current guess: BEARD\n",
      "Word guessed correctly!\n",
      "Target word: DAIRY\n",
      "Attempts left: 6\n",
      "Current guess: SALET\n",
      "Target word: DAIRY\n",
      "Attempts left: 5\n",
      "Current guess: CORNY\n",
      "Target word: DAIRY\n",
      "Attempts left: 4\n",
      "Current guess: HAIRY\n",
      "Word guessed correctly!\n",
      "Target word: SHIRT\n",
      "Attempts left: 6\n",
      "Current guess: SALET\n",
      "Target word: SHIRT\n",
      "Attempts left: 5\n",
      "Current guess: CHURN\n",
      "Word guessed correctly!\n",
      "Target word: GROVE\n",
      "Attempts left: 6\n",
      "Current guess: SALET\n",
      "Target word: GROVE\n",
      "Attempts left: 5\n",
      "Current guess: DRONE\n",
      "Target word: GROVE\n",
      "Attempts left: 4\n",
      "Current guess: PROVE\n",
      "Word guessed correctly!\n",
      "Target word: CRUST\n",
      "Attempts left: 6\n",
      "Current guess: SALET\n",
      "Target word: CRUST\n",
      "Attempts left: 5\n",
      "Current guess: MORIA\n",
      "Word guessed correctly!\n",
      "Target word: WHALE\n",
      "Attempts left: 6\n",
      "Current guess: SALET\n",
      "Target word: WHALE\n",
      "Attempts left: 5\n",
      "Current guess: GNARL\n",
      "Target word: WHALE\n",
      "Attempts left: 4\n",
      "Current guess: FEHME\n",
      "Target word: WHALE\n",
      "Attempts left: 3\n",
      "Current guess: LEACH\n",
      "Word guessed correctly!\n",
      "Target word: HUNKY\n",
      "Attempts left: 6\n",
      "Current guess: SALET\n",
      "Target word: HUNKY\n",
      "Attempts left: 5\n",
      "Current guess: COURD\n",
      "Target word: HUNKY\n",
      "Attempts left: 4\n",
      "Current guess: GIMPY\n",
      "Target word: HUNKY\n",
      "Attempts left: 3\n",
      "Current guess: FUNKY\n",
      "Word guessed correctly!\n",
      "Target word: GLINT\n",
      "Attempts left: 6\n",
      "Current guess: SALET\n",
      "Target word: GLINT\n",
      "Attempts left: 5\n",
      "Current guess: CLUNG\n",
      "Word guessed correctly!\n",
      "Target word: COPSE\n",
      "Attempts left: 6\n",
      "Current guess: SALET\n",
      "Target word: COPSE\n",
      "Attempts left: 5\n",
      "Current guess: RHONE\n",
      "Target word: COPSE\n",
      "Attempts left: 4\n",
      "Current guess: POISE\n",
      "Word guessed correctly!\n",
      "Target word: HUMAN\n",
      "Attempts left: 6\n",
      "Current guess: SALET\n",
      "Target word: HUMAN\n",
      "Attempts left: 5\n",
      "Current guess: BROND\n",
      "Target word: HUMAN\n",
      "Attempts left: 4\n",
      "Current guess: AGAIN\n",
      "Word guessed correctly!\n",
      "Target word: CAPER\n",
      "Attempts left: 6\n",
      "Current guess: SALET\n",
      "Target word: CAPER\n",
      "Attempts left: 5\n",
      "Current guess: GORMY\n",
      "Word guessed correctly!\n",
      "Target word: SHAKE\n",
      "Attempts left: 6\n",
      "Current guess: SALET\n",
      "Target word: SHAKE\n",
      "Attempts left: 5\n",
      "Current guess: PHARM\n",
      "Target word: SHAKE\n",
      "Attempts left: 4\n",
      "Current guess: SHAVE\n",
      "Target word: SHAKE\n",
      "Attempts left: 3\n",
      "Current guess: SHADE\n",
      "Word guessed correctly!\n",
      "Target word: BAWDY\n",
      "Attempts left: 6\n",
      "Current guess: SALET\n",
      "Target word: BAWDY\n",
      "Attempts left: 5\n",
      "Current guess: CORNY\n",
      "Target word: BAWDY\n",
      "Attempts left: 4\n",
      "Current guess: PUDGY\n",
      "Word guessed correctly!\n",
      "Target word: IDYLL\n",
      "Attempts left: 6\n",
      "Current guess: SALET\n",
      "Target word: IDYLL\n",
      "Attempts left: 5\n",
      "Current guess: COURD\n",
      "Target word: IDYLL\n",
      "Attempts left: 4\n",
      "Current guess: DIMLY\n",
      "Word guessed correctly!\n",
      "Target word: SKIRT\n",
      "Attempts left: 6\n",
      "Current guess: SALET\n",
      "Target word: SKIRT\n",
      "Attempts left: 5\n",
      "Current guess: CHURN\n",
      "Word guessed correctly!\n",
      "Target word: LURID\n",
      "Attempts left: 6\n",
      "Current guess: SALET\n",
      "Target word: LURID\n",
      "Attempts left: 5\n",
      "Current guess: COURD\n",
      "Word guessed correctly!\n",
      "Target word: SNUCK\n",
      "Attempts left: 6\n",
      "Current guess: SALET\n",
      "Target word: SNUCK\n",
      "Attempts left: 5\n",
      "Current guess: UNRIP\n",
      "Word guessed correctly!\n",
      "Target word: SUPER\n",
      "Attempts left: 6\n",
      "Current guess: SALET\n",
      "Target word: SUPER\n",
      "Attempts left: 5\n",
      "Current guess: HEWER\n",
      "Target word: SUPER\n",
      "Attempts left: 4\n",
      "Current guess: SURER\n",
      "Word guessed correctly!\n",
      "Target word: THONG\n",
      "Attempts left: 6\n",
      "Current guess: SALET\n",
      "Target word: THONG\n",
      "Attempts left: 5\n",
      "Current guess: NORTH\n",
      "Word guessed correctly!\n",
      "Target word: GNOME\n",
      "Attempts left: 6\n",
      "Current guess: SALET\n",
      "Target word: GNOME\n",
      "Attempts left: 5\n",
      "Current guess: DRONE\n",
      "Word guessed correctly!\n",
      "Target word: CHOKE\n",
      "Attempts left: 6\n",
      "Current guess: SALET\n",
      "Target word: CHOKE\n",
      "Attempts left: 5\n",
      "Current guess: DRONE\n",
      "Target word: CHOKE\n",
      "Attempts left: 4\n",
      "Current guess: EVOKE\n",
      "Word guessed correctly!\n",
      "Target word: LAPEL\n",
      "Attempts left: 6\n",
      "Current guess: SALET\n",
      "Target word: LAPEL\n",
      "Attempts left: 5\n",
      "Current guess: LINGY\n",
      "Target word: LAPEL\n",
      "Attempts left: 4\n",
      "Current guess: LABEL\n",
      "Word guessed correctly!\n",
      "Target word: HARPY\n",
      "Attempts left: 6\n",
      "Current guess: SALET\n",
      "Target word: HARPY\n",
      "Attempts left: 5\n",
      "Current guess: CORNY\n",
      "Target word: HARPY\n",
      "Attempts left: 4\n",
      "Current guess: PARRY\n",
      "Word guessed correctly!\n",
      "Target word: FAIRY\n",
      "Attempts left: 6\n",
      "Current guess: SALET\n",
      "Target word: FAIRY\n",
      "Attempts left: 5\n",
      "Current guess: CORNY\n",
      "Target word: FAIRY\n",
      "Attempts left: 4\n",
      "Current guess: HAIRY\n",
      "Target word: FAIRY\n",
      "Attempts left: 3\n",
      "Current guess: DAIRY\n",
      "Word guessed correctly!\n",
      "Target word: STORM\n",
      "Attempts left: 6\n",
      "Current guess: SALET\n",
      "Target word: STORM\n",
      "Attempts left: 5\n",
      "Current guess: PINKO\n",
      "Target word: STORM\n",
      "Attempts left: 4\n",
      "Current guess: SOOTY\n",
      "Word guessed correctly!\n",
      "Target word: JUDGE\n",
      "Attempts left: 6\n",
      "Current guess: SALET\n",
      "Target word: JUDGE\n",
      "Attempts left: 5\n",
      "Current guess: DRONE\n",
      "Target word: JUDGE\n",
      "Attempts left: 4\n",
      "Current guess: WHIFF\n",
      "Target word: JUDGE\n",
      "Attempts left: 3\n",
      "Current guess: BUDGE\n",
      "Word guessed correctly!\n",
      "Target word: OUGHT\n",
      "Attempts left: 6\n",
      "Current guess: SALET\n",
      "Target word: OUGHT\n",
      "Attempts left: 5\n",
      "Current guess: GROIN\n",
      "Word guessed correctly!\n",
      "Target word: RUGBY\n",
      "Attempts left: 6\n",
      "Current guess: SALET\n",
      "Target word: RUGBY\n",
      "Attempts left: 5\n",
      "Current guess: COURD\n",
      "Target word: RUGBY\n",
      "Attempts left: 4\n",
      "Current guess: MURKY\n",
      "Word guessed correctly!\n",
      "Target word: DOWDY\n",
      "Attempts left: 6\n",
      "Current guess: SALET\n",
      "Target word: DOWDY\n",
      "Attempts left: 5\n",
      "Current guess: COURD\n",
      "Target word: DOWDY\n",
      "Attempts left: 4\n",
      "Current guess: HOWDY\n",
      "Word guessed correctly!\n",
      "Target word: DEFER\n",
      "Attempts left: 6\n",
      "Current guess: SALET\n",
      "Target word: DEFER\n",
      "Attempts left: 5\n",
      "Current guess: ROWND\n",
      "Target word: DEFER\n",
      "Attempts left: 4\n",
      "Current guess: DRIER\n",
      "Word guessed correctly!\n",
      "Target word: WEEDY\n",
      "Attempts left: 6\n",
      "Current guess: SALET\n",
      "Target word: WEEDY\n",
      "Attempts left: 5\n",
      "Current guess: DRONE\n",
      "Target word: WEEDY\n",
      "Attempts left: 4\n",
      "Current guess: EDIFY\n",
      "Word guessed correctly!\n",
      "Target word: OFFAL\n",
      "Attempts left: 6\n",
      "Current guess: SALET\n",
      "Target word: OFFAL\n",
      "Attempts left: 5\n",
      "Current guess: CORNI\n",
      "Target word: OFFAL\n",
      "Attempts left: 4\n",
      "Current guess: AFOUL\n",
      "Word guessed correctly!\n",
      "Target word: DICEY\n",
      "Attempts left: 6\n",
      "Current guess: SALET\n",
      "Target word: DICEY\n",
      "Attempts left: 5\n",
      "Current guess: ROWND\n",
      "Word guessed correctly!\n",
      "Target word: TERSE\n",
      "Attempts left: 6\n",
      "Current guess: SALET\n",
      "Target word: TERSE\n",
      "Attempts left: 5\n",
      "Current guess: TROTH\n",
      "Word guessed correctly!\n",
      "Target word: JUROR\n",
      "Attempts left: 6\n",
      "Current guess: SALET\n",
      "Target word: JUROR\n",
      "Attempts left: 5\n",
      "Current guess: COURD\n",
      "Target word: JUROR\n",
      "Attempts left: 4\n",
      "Current guess: FUROR\n",
      "Target word: JUROR\n",
      "Attempts left: 3\n",
      "Current guess: HUMOR\n",
      "Target word: JUROR\n",
      "Attempts left: 2\n",
      "Current guess: HURRY\n",
      "Target word: JUROR\n",
      "Attempts left: 1\n",
      "Current guess: STOOP\n",
      "Word not guessed!\n",
      "Target word: SUING\n",
      "Attempts left: 6\n",
      "Current guess: SALET\n",
      "Target word: SUING\n",
      "Attempts left: 5\n",
      "Current guess: UNRIP\n",
      "Word guessed correctly!\n",
      "Target word: WOOER\n",
      "Attempts left: 6\n",
      "Current guess: SALET\n",
      "Target word: WOOER\n",
      "Attempts left: 5\n",
      "Current guess: ROWND\n",
      "Word guessed correctly!\n",
      "Target word: STINK\n",
      "Attempts left: 6\n",
      "Current guess: SALET\n",
      "Target word: STINK\n",
      "Attempts left: 5\n",
      "Current guess: PINKO\n",
      "Word guessed correctly!\n",
      "Target word: TAFFY\n",
      "Attempts left: 6\n",
      "Current guess: SALET\n",
      "Target word: TAFFY\n",
      "Attempts left: 5\n",
      "Current guess: CORBY\n",
      "Target word: TAFFY\n",
      "Attempts left: 4\n",
      "Current guess: FAINT\n",
      "Word guessed correctly!\n",
      "Target word: CLASH\n",
      "Attempts left: 6\n",
      "Current guess: SALET\n",
      "Target word: CLASH\n",
      "Attempts left: 5\n",
      "Current guess: CHALS\n",
      "Word guessed correctly!\n",
      "Target word: AMISS\n",
      "Attempts left: 6\n",
      "Current guess: SALET\n",
      "Target word: AMISS\n",
      "Attempts left: 5\n",
      "Current guess: CRAGS\n",
      "Target word: AMISS\n",
      "Attempts left: 4\n",
      "Current guess: ABYSS\n",
      "Word guessed correctly!\n",
      "Target word: BOAST\n",
      "Attempts left: 6\n",
      "Current guess: SALET\n",
      "Target word: BOAST\n",
      "Attempts left: 5\n",
      "Current guess: BRACE\n",
      "Word guessed correctly!\n",
      "Target word: ANGEL\n",
      "Attempts left: 6\n",
      "Current guess: SALET\n",
      "Target word: ANGEL\n",
      "Attempts left: 5\n",
      "Current guess: ALIEN\n",
      "Word guessed correctly!\n",
      "Target word: EYING\n",
      "Attempts left: 6\n",
      "Current guess: SALET\n",
      "Target word: EYING\n",
      "Attempts left: 5\n",
      "Current guess: DRONE\n",
      "Target word: EYING\n",
      "Attempts left: 4\n",
      "Current guess: EKING\n",
      "Word guessed correctly!\n",
      "Target word: GEESE\n",
      "Attempts left: 6\n",
      "Current guess: SALET\n",
      "Target word: GEESE\n",
      "Attempts left: 5\n",
      "Current guess: RHONE\n",
      "Word guessed correctly!\n",
      "Target word: DEBUT\n",
      "Attempts left: 6\n",
      "Current guess: SALET\n",
      "Target word: DEBUT\n",
      "Attempts left: 5\n",
      "Current guess: CURIO\n",
      "Word guessed correctly!\n",
      "Target word: LOYAL\n",
      "Attempts left: 6\n",
      "Current guess: SALET\n",
      "Target word: LOYAL\n",
      "Attempts left: 5\n",
      "Current guess: CORNI\n",
      "Target word: LOYAL\n",
      "Attempts left: 4\n",
      "Current guess: LOAMY\n",
      "Word guessed correctly!\n",
      "Target word: SWAMI\n",
      "Attempts left: 6\n",
      "Current guess: SALET\n",
      "Target word: SWAMI\n",
      "Attempts left: 5\n",
      "Current guess: CRAMP\n",
      "Word guessed correctly!\n",
      "Target word: OWING\n",
      "Attempts left: 6\n",
      "Current guess: SALET\n",
      "Target word: OWING\n",
      "Attempts left: 5\n",
      "Current guess: COURD\n",
      "Target word: OWING\n",
      "Attempts left: 4\n",
      "Current guess: INBOX\n",
      "Word guessed correctly!\n",
      "Target word: PUPAL\n",
      "Attempts left: 6\n",
      "Current guess: SALET\n",
      "Target word: PUPAL\n",
      "Attempts left: 5\n",
      "Current guess: CORNI\n",
      "Target word: PUPAL\n",
      "Attempts left: 4\n",
      "Current guess: AMPLY\n",
      "Target word: PUPAL\n",
      "Attempts left: 3\n",
      "Current guess: ALPHA\n",
      "Target word: PUPAL\n",
      "Attempts left: 2\n",
      "Current guess: APPLY\n",
      "Target word: PUPAL\n",
      "Attempts left: 1\n",
      "Current guess: WEDGE\n",
      "Word not guessed!\n",
      "Target word: EATER\n",
      "Attempts left: 6\n",
      "Current guess: SALET\n",
      "Target word: EATER\n",
      "Attempts left: 5\n",
      "Current guess: METER\n",
      "Target word: EATER\n",
      "Attempts left: 4\n",
      "Current guess: WATER\n",
      "Target word: EATER\n",
      "Attempts left: 3\n",
      "Current guess: CATER\n",
      "Target word: EATER\n",
      "Attempts left: 2\n",
      "Current guess: HATER\n",
      "Target word: EATER\n",
      "Attempts left: 1\n",
      "Current guess: HATER\n",
      "Word not guessed!\n",
      "Target word: FOLIO\n",
      "Attempts left: 6\n",
      "Current guess: SALET\n",
      "Target word: FOLIO\n",
      "Attempts left: 5\n",
      "Current guess: FUGLY\n",
      "Word guessed correctly!\n",
      "Target word: TEPID\n",
      "Attempts left: 6\n",
      "Current guess: SALET\n",
      "Target word: TEPID\n",
      "Attempts left: 5\n",
      "Current guess: TRITE\n",
      "Target word: TEPID\n",
      "Attempts left: 4\n",
      "Current guess: PIETY\n",
      "Target word: TEPID\n",
      "Attempts left: 3\n",
      "Current guess: SHAFT\n",
      "Target word: TEPID\n",
      "Attempts left: 2\n",
      "Current guess: JOINT\n",
      "Target word: TEPID\n",
      "Attempts left: 1\n",
      "Current guess: WITTY\n",
      "Word not guessed!\n",
      "Target word: BLAZE\n",
      "Attempts left: 6\n",
      "Current guess: SALET\n",
      "Target word: BLAZE\n",
      "Attempts left: 5\n",
      "Current guess: GNARL\n",
      "Target word: BLAZE\n",
      "Attempts left: 4\n",
      "Current guess: FEHME\n",
      "Target word: BLAZE\n",
      "Attempts left: 3\n",
      "Current guess: BLADE\n",
      "Word guessed correctly!\n",
      "Target word: TRULY\n",
      "Attempts left: 6\n",
      "Current guess: SALET\n",
      "Target word: TRULY\n",
      "Attempts left: 5\n",
      "Current guess: TROLL\n",
      "Word guessed correctly!\n",
      "Target word: COUNT\n",
      "Attempts left: 6\n",
      "Current guess: SALET\n",
      "Target word: COUNT\n",
      "Attempts left: 5\n",
      "Current guess: GROIN\n",
      "Word guessed correctly!\n",
      "Target word: EXULT\n",
      "Attempts left: 6\n",
      "Current guess: SALET\n",
      "Target word: EXULT\n",
      "Attempts left: 5\n",
      "Current guess: KNELT\n",
      "Word guessed correctly!\n",
      "Target word: RAYON\n",
      "Attempts left: 6\n",
      "Current guess: SALET\n",
      "Target word: RAYON\n",
      "Attempts left: 5\n",
      "Current guess: CORNY\n",
      "Word guessed correctly!\n",
      "Target word: FULLY\n",
      "Attempts left: 6\n",
      "Current guess: SALET\n",
      "Target word: FULLY\n",
      "Attempts left: 5\n",
      "Current guess: FUGLY\n",
      "Word guessed correctly!\n",
      "Target word: DUTCH\n",
      "Attempts left: 6\n",
      "Current guess: SALET\n",
      "Target word: DUTCH\n",
      "Attempts left: 5\n",
      "Current guess: NORTH\n",
      "Target word: DUTCH\n",
      "Attempts left: 4\n",
      "Current guess: BIPED\n",
      "Word guessed correctly!\n",
      "Target word: VIGIL\n",
      "Attempts left: 6\n",
      "Current guess: SALET\n",
      "Target word: VIGIL\n",
      "Attempts left: 5\n",
      "Current guess: COURD\n",
      "Target word: VIGIL\n",
      "Attempts left: 4\n",
      "Current guess: FLING\n",
      "Word guessed correctly!\n",
      "Target word: TASTE\n",
      "Attempts left: 6\n",
      "Current guess: SALET\n",
      "Target word: TASTE\n",
      "Attempts left: 5\n",
      "Current guess: BATCH\n",
      "Target word: TASTE\n",
      "Attempts left: 4\n",
      "Current guess: WASTE\n",
      "Target word: TASTE\n",
      "Attempts left: 3\n",
      "Current guess: PASTE\n",
      "Word guessed correctly!\n",
      "Target word: HUNCH\n",
      "Attempts left: 6\n",
      "Current guess: SALET\n",
      "Target word: HUNCH\n",
      "Attempts left: 5\n",
      "Current guess: COURD\n",
      "Target word: HUNCH\n",
      "Attempts left: 4\n",
      "Current guess: HEMPY\n",
      "Word guessed correctly!\n",
      "Target word: STASH\n",
      "Attempts left: 6\n",
      "Current guess: SALET\n",
      "Target word: STASH\n",
      "Attempts left: 5\n",
      "Current guess: PRINK\n",
      "Target word: STASH\n",
      "Attempts left: 4\n",
      "Current guess: STAFF\n",
      "Word guessed correctly!\n",
      "Target word: OCCUR\n",
      "Attempts left: 6\n",
      "Current guess: SALET\n",
      "Target word: OCCUR\n",
      "Attempts left: 5\n",
      "Current guess: COURD\n",
      "Word guessed correctly!\n",
      "Reward after training: [16.0, 14.0, 12.0, 13.0, 12.0, 13.0, 18.0, 14.0, 11.0, 11.0, 10.0, 11.0, 12.0, 12.0, 11.0, 11.0, 13.0, 14.0, 14.0, 11.0, 11.0, 13.0, 15.0, 12.0, 10.0, 13.0, 12.0, 12.0, 11.0, 15.0, 13.0, 11.0, 12.0, 11.0, 15.0, 11.0, 16.0, 14.0, 17.0, 11.0, 13.0, 15.0, 13.0, 14.0, 11.0, 12.0, 21.0, 13.0, 11.0, 13.0, 11.0, 12.0, 18.0, 10.0, 12.0, 15.0, 17.0, 16.0, 20.0, 13.0, 15.0, 11.0, 12.0, 15.0, 14.0, 11.0, 12.0, 11.0, 11.0, 0.0, 11.0, 12.0, 11.0, 13.0, 12.0, 14.0, 13.0, 13.0, 15.0, 11.0, 11.0, 13.0, 13.0, 10.0, -7.0, 11.0, 12.0, -9.0, 16.0, 13.0, 11.0, 13.0, 11.0, 15.0, 11.0, 10.0, 20.0, 11.0, 14.0, 10.0]\n",
      "Average reward after training: 12.34\n"
     ]
    },
    {
     "data": {
      "text/plain": [
       "<imitation.algorithms.bc.BC at 0x23e22bf1310>"
      ]
     },
     "execution_count": 62,
     "metadata": {},
     "output_type": "execute_result"
    }
   ],
   "source": [
    "from stable_baselines3.common.policies import ActorCriticPolicy\n",
    "import torch as th\n",
    "\n",
    "# Load the saved model\n",
    "#loaded_policy = ActorCriticPolicy.load(\"bc_model_policy\")\n",
    "\n",
    "# Use the loaded policy\n",
    "reward_after_training, _ = evaluate_policy(bc_trainer.policy, venv, n_eval_episodes=100, render=True, return_episode_rewards=True)\n",
    "print(f\"Reward after training: {(reward_after_training)}\")\n",
    "print(f\"Average reward after training: {np.mean(reward_after_training)}\")\n",
    "bc_trainer"
   ]
  }
 ],
 "metadata": {
  "kernelspec": {
   "display_name": "Python 3",
   "language": "python",
   "name": "python3"
  },
  "language_info": {
   "codemirror_mode": {
    "name": "ipython",
    "version": 3
   },
   "file_extension": ".py",
   "mimetype": "text/x-python",
   "name": "python",
   "nbconvert_exporter": "python",
   "pygments_lexer": "ipython3",
   "version": "3.11.9"
  }
 },
 "nbformat": 4,
 "nbformat_minor": 2
}
